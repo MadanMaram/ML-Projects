{
  "nbformat": 4,
  "nbformat_minor": 0,
  "metadata": {
    "kernelspec": {
      "display_name": "Python 3",
      "language": "python",
      "name": "python3"
    },
    "language_info": {
      "codemirror_mode": {
        "name": "ipython",
        "version": 3
      },
      "file_extension": ".py",
      "mimetype": "text/x-python",
      "name": "python",
      "nbconvert_exporter": "python",
      "pygments_lexer": "ipython3",
      "version": "3.4.3"
    },
    "colab": {
      "name": "Copy of week3-Embeddings.ipynb",
      "provenance": [],
      "include_colab_link": true
    },
    "widgets": {
      "application/vnd.jupyter.widget-state+json": {
        "c0940d7aeba848aea48e1345c59689a8": {
          "model_module": "@jupyter-widgets/controls",
          "model_name": "HBoxModel",
          "state": {
            "_view_name": "HBoxView",
            "_dom_classes": [],
            "_model_name": "HBoxModel",
            "_view_module": "@jupyter-widgets/controls",
            "_model_module_version": "1.5.0",
            "_view_count": null,
            "_view_module_version": "1.5.0",
            "box_style": "",
            "layout": "IPY_MODEL_580281225cff4f369245e17f07916e2a",
            "_model_module": "@jupyter-widgets/controls",
            "children": [
              "IPY_MODEL_b7aafc328c3f423c84173e1a6232b7d8",
              "IPY_MODEL_5ca7ebe89d0c4530abe4112cf0886c90"
            ]
          }
        },
        "580281225cff4f369245e17f07916e2a": {
          "model_module": "@jupyter-widgets/base",
          "model_name": "LayoutModel",
          "state": {
            "_view_name": "LayoutView",
            "grid_template_rows": null,
            "right": null,
            "justify_content": null,
            "_view_module": "@jupyter-widgets/base",
            "overflow": null,
            "_model_module_version": "1.2.0",
            "_view_count": null,
            "flex_flow": null,
            "width": null,
            "min_width": null,
            "border": null,
            "align_items": null,
            "bottom": null,
            "_model_module": "@jupyter-widgets/base",
            "top": null,
            "grid_column": null,
            "overflow_y": null,
            "overflow_x": null,
            "grid_auto_flow": null,
            "grid_area": null,
            "grid_template_columns": null,
            "flex": null,
            "_model_name": "LayoutModel",
            "justify_items": null,
            "grid_row": null,
            "max_height": null,
            "align_content": null,
            "visibility": null,
            "align_self": null,
            "height": null,
            "min_height": null,
            "padding": null,
            "grid_auto_rows": null,
            "grid_gap": null,
            "max_width": null,
            "order": null,
            "_view_module_version": "1.2.0",
            "grid_template_areas": null,
            "object_position": null,
            "object_fit": null,
            "grid_auto_columns": null,
            "margin": null,
            "display": null,
            "left": null
          }
        },
        "b7aafc328c3f423c84173e1a6232b7d8": {
          "model_module": "@jupyter-widgets/controls",
          "model_name": "FloatProgressModel",
          "state": {
            "_view_name": "ProgressView",
            "style": "IPY_MODEL_4fbee5f0e5cc40e997dedc6640aa2f08",
            "_dom_classes": [],
            "description": "train.tsv: 100%",
            "_model_name": "FloatProgressModel",
            "bar_style": "success",
            "max": 119127793,
            "_view_module": "@jupyter-widgets/controls",
            "_model_module_version": "1.5.0",
            "value": 119127793,
            "_view_count": null,
            "_view_module_version": "1.5.0",
            "orientation": "horizontal",
            "min": 0,
            "description_tooltip": null,
            "_model_module": "@jupyter-widgets/controls",
            "layout": "IPY_MODEL_31ef6f41731e4d8aab3e6bd28d9733a7"
          }
        },
        "5ca7ebe89d0c4530abe4112cf0886c90": {
          "model_module": "@jupyter-widgets/controls",
          "model_name": "HTMLModel",
          "state": {
            "_view_name": "HTMLView",
            "style": "IPY_MODEL_26415211df87460dbfe202ef717023ef",
            "_dom_classes": [],
            "description": "",
            "_model_name": "HTMLModel",
            "placeholder": "​",
            "_view_module": "@jupyter-widgets/controls",
            "_model_module_version": "1.5.0",
            "value": " 119M/119M [00:59&lt;00:00, 1.99MB/s]",
            "_view_count": null,
            "_view_module_version": "1.5.0",
            "description_tooltip": null,
            "_model_module": "@jupyter-widgets/controls",
            "layout": "IPY_MODEL_463e74fba65244e5ab9eae3ed3351684"
          }
        },
        "4fbee5f0e5cc40e997dedc6640aa2f08": {
          "model_module": "@jupyter-widgets/controls",
          "model_name": "ProgressStyleModel",
          "state": {
            "_view_name": "StyleView",
            "_model_name": "ProgressStyleModel",
            "description_width": "initial",
            "_view_module": "@jupyter-widgets/base",
            "_model_module_version": "1.5.0",
            "_view_count": null,
            "_view_module_version": "1.2.0",
            "bar_color": null,
            "_model_module": "@jupyter-widgets/controls"
          }
        },
        "31ef6f41731e4d8aab3e6bd28d9733a7": {
          "model_module": "@jupyter-widgets/base",
          "model_name": "LayoutModel",
          "state": {
            "_view_name": "LayoutView",
            "grid_template_rows": null,
            "right": null,
            "justify_content": null,
            "_view_module": "@jupyter-widgets/base",
            "overflow": null,
            "_model_module_version": "1.2.0",
            "_view_count": null,
            "flex_flow": null,
            "width": null,
            "min_width": null,
            "border": null,
            "align_items": null,
            "bottom": null,
            "_model_module": "@jupyter-widgets/base",
            "top": null,
            "grid_column": null,
            "overflow_y": null,
            "overflow_x": null,
            "grid_auto_flow": null,
            "grid_area": null,
            "grid_template_columns": null,
            "flex": null,
            "_model_name": "LayoutModel",
            "justify_items": null,
            "grid_row": null,
            "max_height": null,
            "align_content": null,
            "visibility": null,
            "align_self": null,
            "height": null,
            "min_height": null,
            "padding": null,
            "grid_auto_rows": null,
            "grid_gap": null,
            "max_width": null,
            "order": null,
            "_view_module_version": "1.2.0",
            "grid_template_areas": null,
            "object_position": null,
            "object_fit": null,
            "grid_auto_columns": null,
            "margin": null,
            "display": null,
            "left": null
          }
        },
        "26415211df87460dbfe202ef717023ef": {
          "model_module": "@jupyter-widgets/controls",
          "model_name": "DescriptionStyleModel",
          "state": {
            "_view_name": "StyleView",
            "_model_name": "DescriptionStyleModel",
            "description_width": "",
            "_view_module": "@jupyter-widgets/base",
            "_model_module_version": "1.5.0",
            "_view_count": null,
            "_view_module_version": "1.2.0",
            "_model_module": "@jupyter-widgets/controls"
          }
        },
        "463e74fba65244e5ab9eae3ed3351684": {
          "model_module": "@jupyter-widgets/base",
          "model_name": "LayoutModel",
          "state": {
            "_view_name": "LayoutView",
            "grid_template_rows": null,
            "right": null,
            "justify_content": null,
            "_view_module": "@jupyter-widgets/base",
            "overflow": null,
            "_model_module_version": "1.2.0",
            "_view_count": null,
            "flex_flow": null,
            "width": null,
            "min_width": null,
            "border": null,
            "align_items": null,
            "bottom": null,
            "_model_module": "@jupyter-widgets/base",
            "top": null,
            "grid_column": null,
            "overflow_y": null,
            "overflow_x": null,
            "grid_auto_flow": null,
            "grid_area": null,
            "grid_template_columns": null,
            "flex": null,
            "_model_name": "LayoutModel",
            "justify_items": null,
            "grid_row": null,
            "max_height": null,
            "align_content": null,
            "visibility": null,
            "align_self": null,
            "height": null,
            "min_height": null,
            "padding": null,
            "grid_auto_rows": null,
            "grid_gap": null,
            "max_width": null,
            "order": null,
            "_view_module_version": "1.2.0",
            "grid_template_areas": null,
            "object_position": null,
            "object_fit": null,
            "grid_auto_columns": null,
            "margin": null,
            "display": null,
            "left": null
          }
        },
        "530463db53494abaa5ee979f192b42ff": {
          "model_module": "@jupyter-widgets/controls",
          "model_name": "HBoxModel",
          "state": {
            "_view_name": "HBoxView",
            "_dom_classes": [],
            "_model_name": "HBoxModel",
            "_view_module": "@jupyter-widgets/controls",
            "_model_module_version": "1.5.0",
            "_view_count": null,
            "_view_module_version": "1.5.0",
            "box_style": "",
            "layout": "IPY_MODEL_2df3f66f54314f57bfa21a4d87d40bda",
            "_model_module": "@jupyter-widgets/controls",
            "children": [
              "IPY_MODEL_6faa089451fe4d2e8a56b922706ed357",
              "IPY_MODEL_03eab3d5068242ec963c5f6f0f398f38"
            ]
          }
        },
        "2df3f66f54314f57bfa21a4d87d40bda": {
          "model_module": "@jupyter-widgets/base",
          "model_name": "LayoutModel",
          "state": {
            "_view_name": "LayoutView",
            "grid_template_rows": null,
            "right": null,
            "justify_content": null,
            "_view_module": "@jupyter-widgets/base",
            "overflow": null,
            "_model_module_version": "1.2.0",
            "_view_count": null,
            "flex_flow": null,
            "width": null,
            "min_width": null,
            "border": null,
            "align_items": null,
            "bottom": null,
            "_model_module": "@jupyter-widgets/base",
            "top": null,
            "grid_column": null,
            "overflow_y": null,
            "overflow_x": null,
            "grid_auto_flow": null,
            "grid_area": null,
            "grid_template_columns": null,
            "flex": null,
            "_model_name": "LayoutModel",
            "justify_items": null,
            "grid_row": null,
            "max_height": null,
            "align_content": null,
            "visibility": null,
            "align_self": null,
            "height": null,
            "min_height": null,
            "padding": null,
            "grid_auto_rows": null,
            "grid_gap": null,
            "max_width": null,
            "order": null,
            "_view_module_version": "1.2.0",
            "grid_template_areas": null,
            "object_position": null,
            "object_fit": null,
            "grid_auto_columns": null,
            "margin": null,
            "display": null,
            "left": null
          }
        },
        "6faa089451fe4d2e8a56b922706ed357": {
          "model_module": "@jupyter-widgets/controls",
          "model_name": "FloatProgressModel",
          "state": {
            "_view_name": "ProgressView",
            "style": "IPY_MODEL_30828ba304ce497f9b4f59eb0084a0a7",
            "_dom_classes": [],
            "description": "validation.tsv: 100%",
            "_model_name": "FloatProgressModel",
            "bar_style": "success",
            "max": 535543630,
            "_view_module": "@jupyter-widgets/controls",
            "_model_module_version": "1.5.0",
            "value": 535543630,
            "_view_count": null,
            "_view_module_version": "1.5.0",
            "orientation": "horizontal",
            "min": 0,
            "description_tooltip": null,
            "_model_module": "@jupyter-widgets/controls",
            "layout": "IPY_MODEL_0b2e34c2fbf74f52b7e21b5bd9ca18a7"
          }
        },
        "03eab3d5068242ec963c5f6f0f398f38": {
          "model_module": "@jupyter-widgets/controls",
          "model_name": "HTMLModel",
          "state": {
            "_view_name": "HTMLView",
            "style": "IPY_MODEL_885b7351dac24e08b52c071d76a2466b",
            "_dom_classes": [],
            "description": "",
            "_model_name": "HTMLModel",
            "placeholder": "​",
            "_view_module": "@jupyter-widgets/controls",
            "_model_module_version": "1.5.0",
            "value": " 536M/536M [00:16&lt;00:00, 31.6MB/s]",
            "_view_count": null,
            "_view_module_version": "1.5.0",
            "description_tooltip": null,
            "_model_module": "@jupyter-widgets/controls",
            "layout": "IPY_MODEL_5f63a8a55e7f4bfbb16af2bd0aa6a7da"
          }
        },
        "30828ba304ce497f9b4f59eb0084a0a7": {
          "model_module": "@jupyter-widgets/controls",
          "model_name": "ProgressStyleModel",
          "state": {
            "_view_name": "StyleView",
            "_model_name": "ProgressStyleModel",
            "description_width": "initial",
            "_view_module": "@jupyter-widgets/base",
            "_model_module_version": "1.5.0",
            "_view_count": null,
            "_view_module_version": "1.2.0",
            "bar_color": null,
            "_model_module": "@jupyter-widgets/controls"
          }
        },
        "0b2e34c2fbf74f52b7e21b5bd9ca18a7": {
          "model_module": "@jupyter-widgets/base",
          "model_name": "LayoutModel",
          "state": {
            "_view_name": "LayoutView",
            "grid_template_rows": null,
            "right": null,
            "justify_content": null,
            "_view_module": "@jupyter-widgets/base",
            "overflow": null,
            "_model_module_version": "1.2.0",
            "_view_count": null,
            "flex_flow": null,
            "width": null,
            "min_width": null,
            "border": null,
            "align_items": null,
            "bottom": null,
            "_model_module": "@jupyter-widgets/base",
            "top": null,
            "grid_column": null,
            "overflow_y": null,
            "overflow_x": null,
            "grid_auto_flow": null,
            "grid_area": null,
            "grid_template_columns": null,
            "flex": null,
            "_model_name": "LayoutModel",
            "justify_items": null,
            "grid_row": null,
            "max_height": null,
            "align_content": null,
            "visibility": null,
            "align_self": null,
            "height": null,
            "min_height": null,
            "padding": null,
            "grid_auto_rows": null,
            "grid_gap": null,
            "max_width": null,
            "order": null,
            "_view_module_version": "1.2.0",
            "grid_template_areas": null,
            "object_position": null,
            "object_fit": null,
            "grid_auto_columns": null,
            "margin": null,
            "display": null,
            "left": null
          }
        },
        "885b7351dac24e08b52c071d76a2466b": {
          "model_module": "@jupyter-widgets/controls",
          "model_name": "DescriptionStyleModel",
          "state": {
            "_view_name": "StyleView",
            "_model_name": "DescriptionStyleModel",
            "description_width": "",
            "_view_module": "@jupyter-widgets/base",
            "_model_module_version": "1.5.0",
            "_view_count": null,
            "_view_module_version": "1.2.0",
            "_model_module": "@jupyter-widgets/controls"
          }
        },
        "5f63a8a55e7f4bfbb16af2bd0aa6a7da": {
          "model_module": "@jupyter-widgets/base",
          "model_name": "LayoutModel",
          "state": {
            "_view_name": "LayoutView",
            "grid_template_rows": null,
            "right": null,
            "justify_content": null,
            "_view_module": "@jupyter-widgets/base",
            "overflow": null,
            "_model_module_version": "1.2.0",
            "_view_count": null,
            "flex_flow": null,
            "width": null,
            "min_width": null,
            "border": null,
            "align_items": null,
            "bottom": null,
            "_model_module": "@jupyter-widgets/base",
            "top": null,
            "grid_column": null,
            "overflow_y": null,
            "overflow_x": null,
            "grid_auto_flow": null,
            "grid_area": null,
            "grid_template_columns": null,
            "flex": null,
            "_model_name": "LayoutModel",
            "justify_items": null,
            "grid_row": null,
            "max_height": null,
            "align_content": null,
            "visibility": null,
            "align_self": null,
            "height": null,
            "min_height": null,
            "padding": null,
            "grid_auto_rows": null,
            "grid_gap": null,
            "max_width": null,
            "order": null,
            "_view_module_version": "1.2.0",
            "grid_template_areas": null,
            "object_position": null,
            "object_fit": null,
            "grid_auto_columns": null,
            "margin": null,
            "display": null,
            "left": null
          }
        },
        "b9b364a1ef074802a0a5e45b95ef66f0": {
          "model_module": "@jupyter-widgets/controls",
          "model_name": "HBoxModel",
          "state": {
            "_view_name": "HBoxView",
            "_dom_classes": [],
            "_model_name": "HBoxModel",
            "_view_module": "@jupyter-widgets/controls",
            "_model_module_version": "1.5.0",
            "_view_count": null,
            "_view_module_version": "1.5.0",
            "box_style": "",
            "layout": "IPY_MODEL_d060a2f227ee4ec7b7f2f124cee10412",
            "_model_module": "@jupyter-widgets/controls",
            "children": [
              "IPY_MODEL_572be91dd53a4422813cd988a13a8329",
              "IPY_MODEL_b3a9e0033c2a4efe9046b1d87707bed7"
            ]
          }
        },
        "d060a2f227ee4ec7b7f2f124cee10412": {
          "model_module": "@jupyter-widgets/base",
          "model_name": "LayoutModel",
          "state": {
            "_view_name": "LayoutView",
            "grid_template_rows": null,
            "right": null,
            "justify_content": null,
            "_view_module": "@jupyter-widgets/base",
            "overflow": null,
            "_model_module_version": "1.2.0",
            "_view_count": null,
            "flex_flow": null,
            "width": null,
            "min_width": null,
            "border": null,
            "align_items": null,
            "bottom": null,
            "_model_module": "@jupyter-widgets/base",
            "top": null,
            "grid_column": null,
            "overflow_y": null,
            "overflow_x": null,
            "grid_auto_flow": null,
            "grid_area": null,
            "grid_template_columns": null,
            "flex": null,
            "_model_name": "LayoutModel",
            "justify_items": null,
            "grid_row": null,
            "max_height": null,
            "align_content": null,
            "visibility": null,
            "align_self": null,
            "height": null,
            "min_height": null,
            "padding": null,
            "grid_auto_rows": null,
            "grid_gap": null,
            "max_width": null,
            "order": null,
            "_view_module_version": "1.2.0",
            "grid_template_areas": null,
            "object_position": null,
            "object_fit": null,
            "grid_auto_columns": null,
            "margin": null,
            "display": null,
            "left": null
          }
        },
        "572be91dd53a4422813cd988a13a8329": {
          "model_module": "@jupyter-widgets/controls",
          "model_name": "FloatProgressModel",
          "state": {
            "_view_name": "ProgressView",
            "style": "IPY_MODEL_0efe8cec8d9b44a19aefbb8fa9b7a729",
            "_dom_classes": [],
            "description": "test.tsv: 100%",
            "_model_name": "FloatProgressModel",
            "bar_style": "success",
            "max": 46408910,
            "_view_module": "@jupyter-widgets/controls",
            "_model_module_version": "1.5.0",
            "value": 46408910,
            "_view_count": null,
            "_view_module_version": "1.5.0",
            "orientation": "horizontal",
            "min": 0,
            "description_tooltip": null,
            "_model_module": "@jupyter-widgets/controls",
            "layout": "IPY_MODEL_cd1a9353393a4e7189d6ac9d696fbfe0"
          }
        },
        "b3a9e0033c2a4efe9046b1d87707bed7": {
          "model_module": "@jupyter-widgets/controls",
          "model_name": "HTMLModel",
          "state": {
            "_view_name": "HTMLView",
            "style": "IPY_MODEL_27191932f6bb49b9bade36e1a69290b1",
            "_dom_classes": [],
            "description": "",
            "_model_name": "HTMLModel",
            "placeholder": "​",
            "_view_module": "@jupyter-widgets/controls",
            "_model_module_version": "1.5.0",
            "value": " 46.4M/46.4M [00:01&lt;00:00, 23.7MB/s]",
            "_view_count": null,
            "_view_module_version": "1.5.0",
            "description_tooltip": null,
            "_model_module": "@jupyter-widgets/controls",
            "layout": "IPY_MODEL_8067ccc2d09a45a2b4903ca00ea9a756"
          }
        },
        "0efe8cec8d9b44a19aefbb8fa9b7a729": {
          "model_module": "@jupyter-widgets/controls",
          "model_name": "ProgressStyleModel",
          "state": {
            "_view_name": "StyleView",
            "_model_name": "ProgressStyleModel",
            "description_width": "initial",
            "_view_module": "@jupyter-widgets/base",
            "_model_module_version": "1.5.0",
            "_view_count": null,
            "_view_module_version": "1.2.0",
            "bar_color": null,
            "_model_module": "@jupyter-widgets/controls"
          }
        },
        "cd1a9353393a4e7189d6ac9d696fbfe0": {
          "model_module": "@jupyter-widgets/base",
          "model_name": "LayoutModel",
          "state": {
            "_view_name": "LayoutView",
            "grid_template_rows": null,
            "right": null,
            "justify_content": null,
            "_view_module": "@jupyter-widgets/base",
            "overflow": null,
            "_model_module_version": "1.2.0",
            "_view_count": null,
            "flex_flow": null,
            "width": null,
            "min_width": null,
            "border": null,
            "align_items": null,
            "bottom": null,
            "_model_module": "@jupyter-widgets/base",
            "top": null,
            "grid_column": null,
            "overflow_y": null,
            "overflow_x": null,
            "grid_auto_flow": null,
            "grid_area": null,
            "grid_template_columns": null,
            "flex": null,
            "_model_name": "LayoutModel",
            "justify_items": null,
            "grid_row": null,
            "max_height": null,
            "align_content": null,
            "visibility": null,
            "align_self": null,
            "height": null,
            "min_height": null,
            "padding": null,
            "grid_auto_rows": null,
            "grid_gap": null,
            "max_width": null,
            "order": null,
            "_view_module_version": "1.2.0",
            "grid_template_areas": null,
            "object_position": null,
            "object_fit": null,
            "grid_auto_columns": null,
            "margin": null,
            "display": null,
            "left": null
          }
        },
        "27191932f6bb49b9bade36e1a69290b1": {
          "model_module": "@jupyter-widgets/controls",
          "model_name": "DescriptionStyleModel",
          "state": {
            "_view_name": "StyleView",
            "_model_name": "DescriptionStyleModel",
            "description_width": "",
            "_view_module": "@jupyter-widgets/base",
            "_model_module_version": "1.5.0",
            "_view_count": null,
            "_view_module_version": "1.2.0",
            "_model_module": "@jupyter-widgets/controls"
          }
        },
        "8067ccc2d09a45a2b4903ca00ea9a756": {
          "model_module": "@jupyter-widgets/base",
          "model_name": "LayoutModel",
          "state": {
            "_view_name": "LayoutView",
            "grid_template_rows": null,
            "right": null,
            "justify_content": null,
            "_view_module": "@jupyter-widgets/base",
            "overflow": null,
            "_model_module_version": "1.2.0",
            "_view_count": null,
            "flex_flow": null,
            "width": null,
            "min_width": null,
            "border": null,
            "align_items": null,
            "bottom": null,
            "_model_module": "@jupyter-widgets/base",
            "top": null,
            "grid_column": null,
            "overflow_y": null,
            "overflow_x": null,
            "grid_auto_flow": null,
            "grid_area": null,
            "grid_template_columns": null,
            "flex": null,
            "_model_name": "LayoutModel",
            "justify_items": null,
            "grid_row": null,
            "max_height": null,
            "align_content": null,
            "visibility": null,
            "align_self": null,
            "height": null,
            "min_height": null,
            "padding": null,
            "grid_auto_rows": null,
            "grid_gap": null,
            "max_width": null,
            "order": null,
            "_view_module_version": "1.2.0",
            "grid_template_areas": null,
            "object_position": null,
            "object_fit": null,
            "grid_auto_columns": null,
            "margin": null,
            "display": null,
            "left": null
          }
        },
        "d96c29eaef0b413f8f2955584a95f840": {
          "model_module": "@jupyter-widgets/controls",
          "model_name": "HBoxModel",
          "state": {
            "_view_name": "HBoxView",
            "_dom_classes": [],
            "_model_name": "HBoxModel",
            "_view_module": "@jupyter-widgets/controls",
            "_model_module_version": "1.5.0",
            "_view_count": null,
            "_view_module_version": "1.5.0",
            "box_style": "",
            "layout": "IPY_MODEL_dcc4c2a92e724ad1830cf2be0d9f4d0c",
            "_model_module": "@jupyter-widgets/controls",
            "children": [
              "IPY_MODEL_a27a3910b33645c980d745b867b6751a",
              "IPY_MODEL_9e8277157e244602bf37f3cce22f020d"
            ]
          }
        },
        "dcc4c2a92e724ad1830cf2be0d9f4d0c": {
          "model_module": "@jupyter-widgets/base",
          "model_name": "LayoutModel",
          "state": {
            "_view_name": "LayoutView",
            "grid_template_rows": null,
            "right": null,
            "justify_content": null,
            "_view_module": "@jupyter-widgets/base",
            "overflow": null,
            "_model_module_version": "1.2.0",
            "_view_count": null,
            "flex_flow": null,
            "width": null,
            "min_width": null,
            "border": null,
            "align_items": null,
            "bottom": null,
            "_model_module": "@jupyter-widgets/base",
            "top": null,
            "grid_column": null,
            "overflow_y": null,
            "overflow_x": null,
            "grid_auto_flow": null,
            "grid_area": null,
            "grid_template_columns": null,
            "flex": null,
            "_model_name": "LayoutModel",
            "justify_items": null,
            "grid_row": null,
            "max_height": null,
            "align_content": null,
            "visibility": null,
            "align_self": null,
            "height": null,
            "min_height": null,
            "padding": null,
            "grid_auto_rows": null,
            "grid_gap": null,
            "max_width": null,
            "order": null,
            "_view_module_version": "1.2.0",
            "grid_template_areas": null,
            "object_position": null,
            "object_fit": null,
            "grid_auto_columns": null,
            "margin": null,
            "display": null,
            "left": null
          }
        },
        "a27a3910b33645c980d745b867b6751a": {
          "model_module": "@jupyter-widgets/controls",
          "model_name": "FloatProgressModel",
          "state": {
            "_view_name": "ProgressView",
            "style": "IPY_MODEL_e5b6d245ba8e437a9b85ea19f44c3598",
            "_dom_classes": [],
            "description": "test_embeddings.tsv: 100%",
            "_model_name": "FloatProgressModel",
            "bar_style": "success",
            "max": 5333,
            "_view_module": "@jupyter-widgets/controls",
            "_model_module_version": "1.5.0",
            "value": 5333,
            "_view_count": null,
            "_view_module_version": "1.5.0",
            "orientation": "horizontal",
            "min": 0,
            "description_tooltip": null,
            "_model_module": "@jupyter-widgets/controls",
            "layout": "IPY_MODEL_3253e4cfa3a44117adea086d5daa05cb"
          }
        },
        "9e8277157e244602bf37f3cce22f020d": {
          "model_module": "@jupyter-widgets/controls",
          "model_name": "HTMLModel",
          "state": {
            "_view_name": "HTMLView",
            "style": "IPY_MODEL_e38bffd3dd61476d8c3fbf9858e3e43a",
            "_dom_classes": [],
            "description": "",
            "_model_name": "HTMLModel",
            "placeholder": "​",
            "_view_module": "@jupyter-widgets/controls",
            "_model_module_version": "1.5.0",
            "value": " 5.33k/5.33k [00:39&lt;00:00, 136B/s]",
            "_view_count": null,
            "_view_module_version": "1.5.0",
            "description_tooltip": null,
            "_model_module": "@jupyter-widgets/controls",
            "layout": "IPY_MODEL_8e74afd9ae164ca4ad90bcd80fe09233"
          }
        },
        "e5b6d245ba8e437a9b85ea19f44c3598": {
          "model_module": "@jupyter-widgets/controls",
          "model_name": "ProgressStyleModel",
          "state": {
            "_view_name": "StyleView",
            "_model_name": "ProgressStyleModel",
            "description_width": "initial",
            "_view_module": "@jupyter-widgets/base",
            "_model_module_version": "1.5.0",
            "_view_count": null,
            "_view_module_version": "1.2.0",
            "bar_color": null,
            "_model_module": "@jupyter-widgets/controls"
          }
        },
        "3253e4cfa3a44117adea086d5daa05cb": {
          "model_module": "@jupyter-widgets/base",
          "model_name": "LayoutModel",
          "state": {
            "_view_name": "LayoutView",
            "grid_template_rows": null,
            "right": null,
            "justify_content": null,
            "_view_module": "@jupyter-widgets/base",
            "overflow": null,
            "_model_module_version": "1.2.0",
            "_view_count": null,
            "flex_flow": null,
            "width": null,
            "min_width": null,
            "border": null,
            "align_items": null,
            "bottom": null,
            "_model_module": "@jupyter-widgets/base",
            "top": null,
            "grid_column": null,
            "overflow_y": null,
            "overflow_x": null,
            "grid_auto_flow": null,
            "grid_area": null,
            "grid_template_columns": null,
            "flex": null,
            "_model_name": "LayoutModel",
            "justify_items": null,
            "grid_row": null,
            "max_height": null,
            "align_content": null,
            "visibility": null,
            "align_self": null,
            "height": null,
            "min_height": null,
            "padding": null,
            "grid_auto_rows": null,
            "grid_gap": null,
            "max_width": null,
            "order": null,
            "_view_module_version": "1.2.0",
            "grid_template_areas": null,
            "object_position": null,
            "object_fit": null,
            "grid_auto_columns": null,
            "margin": null,
            "display": null,
            "left": null
          }
        },
        "e38bffd3dd61476d8c3fbf9858e3e43a": {
          "model_module": "@jupyter-widgets/controls",
          "model_name": "DescriptionStyleModel",
          "state": {
            "_view_name": "StyleView",
            "_model_name": "DescriptionStyleModel",
            "description_width": "",
            "_view_module": "@jupyter-widgets/base",
            "_model_module_version": "1.5.0",
            "_view_count": null,
            "_view_module_version": "1.2.0",
            "_model_module": "@jupyter-widgets/controls"
          }
        },
        "8e74afd9ae164ca4ad90bcd80fe09233": {
          "model_module": "@jupyter-widgets/base",
          "model_name": "LayoutModel",
          "state": {
            "_view_name": "LayoutView",
            "grid_template_rows": null,
            "right": null,
            "justify_content": null,
            "_view_module": "@jupyter-widgets/base",
            "overflow": null,
            "_model_module_version": "1.2.0",
            "_view_count": null,
            "flex_flow": null,
            "width": null,
            "min_width": null,
            "border": null,
            "align_items": null,
            "bottom": null,
            "_model_module": "@jupyter-widgets/base",
            "top": null,
            "grid_column": null,
            "overflow_y": null,
            "overflow_x": null,
            "grid_auto_flow": null,
            "grid_area": null,
            "grid_template_columns": null,
            "flex": null,
            "_model_name": "LayoutModel",
            "justify_items": null,
            "grid_row": null,
            "max_height": null,
            "align_content": null,
            "visibility": null,
            "align_self": null,
            "height": null,
            "min_height": null,
            "padding": null,
            "grid_auto_rows": null,
            "grid_gap": null,
            "max_width": null,
            "order": null,
            "_view_module_version": "1.2.0",
            "grid_template_areas": null,
            "object_position": null,
            "object_fit": null,
            "grid_auto_columns": null,
            "margin": null,
            "display": null,
            "left": null
          }
        },
        "5ff13e6a93874412afe08c9ad24ccd2f": {
          "model_module": "@jupyter-widgets/controls",
          "model_name": "HBoxModel",
          "state": {
            "_view_name": "HBoxView",
            "_dom_classes": [],
            "_model_name": "HBoxModel",
            "_view_module": "@jupyter-widgets/controls",
            "_model_module_version": "1.5.0",
            "_view_count": null,
            "_view_module_version": "1.5.0",
            "box_style": "",
            "layout": "IPY_MODEL_5579ff30483444a3a97e40ce6775a9de",
            "_model_module": "@jupyter-widgets/controls",
            "children": [
              "IPY_MODEL_eab0db81ff844918bf74e9468dad29ba",
              "IPY_MODEL_680b4fd6237047399348de6b5ce43a37"
            ]
          }
        },
        "5579ff30483444a3a97e40ce6775a9de": {
          "model_module": "@jupyter-widgets/base",
          "model_name": "LayoutModel",
          "state": {
            "_view_name": "LayoutView",
            "grid_template_rows": null,
            "right": null,
            "justify_content": null,
            "_view_module": "@jupyter-widgets/base",
            "overflow": null,
            "_model_module_version": "1.2.0",
            "_view_count": null,
            "flex_flow": null,
            "width": null,
            "min_width": null,
            "border": null,
            "align_items": null,
            "bottom": null,
            "_model_module": "@jupyter-widgets/base",
            "top": null,
            "grid_column": null,
            "overflow_y": null,
            "overflow_x": null,
            "grid_auto_flow": null,
            "grid_area": null,
            "grid_template_columns": null,
            "flex": null,
            "_model_name": "LayoutModel",
            "justify_items": null,
            "grid_row": null,
            "max_height": null,
            "align_content": null,
            "visibility": null,
            "align_self": null,
            "height": null,
            "min_height": null,
            "padding": null,
            "grid_auto_rows": null,
            "grid_gap": null,
            "max_width": null,
            "order": null,
            "_view_module_version": "1.2.0",
            "grid_template_areas": null,
            "object_position": null,
            "object_fit": null,
            "grid_auto_columns": null,
            "margin": null,
            "display": null,
            "left": null
          }
        },
        "eab0db81ff844918bf74e9468dad29ba": {
          "model_module": "@jupyter-widgets/controls",
          "model_name": "FloatProgressModel",
          "state": {
            "_view_name": "ProgressView",
            "style": "IPY_MODEL_f2d36b9aa5cd487f8020057ac1c4426e",
            "_dom_classes": [],
            "description": "GoogleNews-vectors-negative300.bin.gz: 100%",
            "_model_name": "FloatProgressModel",
            "bar_style": "success",
            "max": 1647046227,
            "_view_module": "@jupyter-widgets/controls",
            "_model_module_version": "1.5.0",
            "value": 1647046227,
            "_view_count": null,
            "_view_module_version": "1.5.0",
            "orientation": "horizontal",
            "min": 0,
            "description_tooltip": null,
            "_model_module": "@jupyter-widgets/controls",
            "layout": "IPY_MODEL_8b4b3478c3ce4d2caba65e40a62aee98"
          }
        },
        "680b4fd6237047399348de6b5ce43a37": {
          "model_module": "@jupyter-widgets/controls",
          "model_name": "HTMLModel",
          "state": {
            "_view_name": "HTMLView",
            "style": "IPY_MODEL_c47b31c4c9a54c989863e4d1ccb7fdef",
            "_dom_classes": [],
            "description": "",
            "_model_name": "HTMLModel",
            "placeholder": "​",
            "_view_module": "@jupyter-widgets/controls",
            "_model_module_version": "1.5.0",
            "value": " 1.65G/1.65G [00:38&lt;00:00, 42.3MB/s]",
            "_view_count": null,
            "_view_module_version": "1.5.0",
            "description_tooltip": null,
            "_model_module": "@jupyter-widgets/controls",
            "layout": "IPY_MODEL_7cd5791301dd472396eed2832adad8b5"
          }
        },
        "f2d36b9aa5cd487f8020057ac1c4426e": {
          "model_module": "@jupyter-widgets/controls",
          "model_name": "ProgressStyleModel",
          "state": {
            "_view_name": "StyleView",
            "_model_name": "ProgressStyleModel",
            "description_width": "initial",
            "_view_module": "@jupyter-widgets/base",
            "_model_module_version": "1.5.0",
            "_view_count": null,
            "_view_module_version": "1.2.0",
            "bar_color": null,
            "_model_module": "@jupyter-widgets/controls"
          }
        },
        "8b4b3478c3ce4d2caba65e40a62aee98": {
          "model_module": "@jupyter-widgets/base",
          "model_name": "LayoutModel",
          "state": {
            "_view_name": "LayoutView",
            "grid_template_rows": null,
            "right": null,
            "justify_content": null,
            "_view_module": "@jupyter-widgets/base",
            "overflow": null,
            "_model_module_version": "1.2.0",
            "_view_count": null,
            "flex_flow": null,
            "width": null,
            "min_width": null,
            "border": null,
            "align_items": null,
            "bottom": null,
            "_model_module": "@jupyter-widgets/base",
            "top": null,
            "grid_column": null,
            "overflow_y": null,
            "overflow_x": null,
            "grid_auto_flow": null,
            "grid_area": null,
            "grid_template_columns": null,
            "flex": null,
            "_model_name": "LayoutModel",
            "justify_items": null,
            "grid_row": null,
            "max_height": null,
            "align_content": null,
            "visibility": null,
            "align_self": null,
            "height": null,
            "min_height": null,
            "padding": null,
            "grid_auto_rows": null,
            "grid_gap": null,
            "max_width": null,
            "order": null,
            "_view_module_version": "1.2.0",
            "grid_template_areas": null,
            "object_position": null,
            "object_fit": null,
            "grid_auto_columns": null,
            "margin": null,
            "display": null,
            "left": null
          }
        },
        "c47b31c4c9a54c989863e4d1ccb7fdef": {
          "model_module": "@jupyter-widgets/controls",
          "model_name": "DescriptionStyleModel",
          "state": {
            "_view_name": "StyleView",
            "_model_name": "DescriptionStyleModel",
            "description_width": "",
            "_view_module": "@jupyter-widgets/base",
            "_model_module_version": "1.5.0",
            "_view_count": null,
            "_view_module_version": "1.2.0",
            "_model_module": "@jupyter-widgets/controls"
          }
        },
        "7cd5791301dd472396eed2832adad8b5": {
          "model_module": "@jupyter-widgets/base",
          "model_name": "LayoutModel",
          "state": {
            "_view_name": "LayoutView",
            "grid_template_rows": null,
            "right": null,
            "justify_content": null,
            "_view_module": "@jupyter-widgets/base",
            "overflow": null,
            "_model_module_version": "1.2.0",
            "_view_count": null,
            "flex_flow": null,
            "width": null,
            "min_width": null,
            "border": null,
            "align_items": null,
            "bottom": null,
            "_model_module": "@jupyter-widgets/base",
            "top": null,
            "grid_column": null,
            "overflow_y": null,
            "overflow_x": null,
            "grid_auto_flow": null,
            "grid_area": null,
            "grid_template_columns": null,
            "flex": null,
            "_model_name": "LayoutModel",
            "justify_items": null,
            "grid_row": null,
            "max_height": null,
            "align_content": null,
            "visibility": null,
            "align_self": null,
            "height": null,
            "min_height": null,
            "padding": null,
            "grid_auto_rows": null,
            "grid_gap": null,
            "max_width": null,
            "order": null,
            "_view_module_version": "1.2.0",
            "grid_template_areas": null,
            "object_position": null,
            "object_fit": null,
            "grid_auto_columns": null,
            "margin": null,
            "display": null,
            "left": null
          }
        }
      }
    },
    "accelerator": "GPU"
  },
  "cells": [
    {
      "cell_type": "markdown",
      "metadata": {
        "id": "view-in-github",
        "colab_type": "text"
      },
      "source": [
        "<a href=\"https://colab.research.google.com/github/MadanMaram/NLP-Projects/blob/master/Copy_of_week3_Embeddings.ipynb\" target=\"_parent\"><img src=\"https://colab.research.google.com/assets/colab-badge.svg\" alt=\"Open In Colab\"/></a>"
      ]
    },
    {
      "cell_type": "markdown",
      "metadata": {
        "id": "B18TezVmAaTJ",
        "colab_type": "text"
      },
      "source": [
        "# Find duplicate questions on StackOverflow by their embeddings\n",
        "\n",
        "In this assignment you will learn how to calculate a similarity for pieces of text. Using this approach you will know how to find duplicate questions from [StackOverflow](https://stackoverflow.com)."
      ]
    },
    {
      "cell_type": "markdown",
      "metadata": {
        "id": "IiziE3McAaTM",
        "colab_type": "text"
      },
      "source": [
        "### Libraries\n",
        "\n",
        "In this task you will you will need the following libraries:\n",
        "- [StarSpace](https://github.com/facebookresearch/StarSpace) — a general-purpose model for efficient learning of entity embeddings from Facebook\n",
        "- [Gensim](https://radimrehurek.com/gensim/) — a tool for solving various NLP-related tasks (topic modeling, text representation, ...)\n",
        "- [Numpy](http://www.numpy.org) — a package for scientific computing.\n",
        "- [scikit-learn](http://scikit-learn.org/stable/index.html) — a tool for data mining and data analysis.\n",
        "- [Nltk](http://www.nltk.org) — a platform to work with human language data."
      ]
    },
    {
      "cell_type": "markdown",
      "metadata": {
        "id": "nx6Wf6eDAaTO",
        "colab_type": "text"
      },
      "source": [
        "### Data\n",
        "\n",
        "The following cell will download all data required for this assignment into the folder `week3/data`."
      ]
    },
    {
      "cell_type": "code",
      "metadata": {
        "id": "Ta0tMPlIAaTQ",
        "colab_type": "code",
        "colab": {
          "base_uri": "https://localhost:8080/",
          "height": 483,
          "referenced_widgets": [
            "c0940d7aeba848aea48e1345c59689a8",
            "580281225cff4f369245e17f07916e2a",
            "b7aafc328c3f423c84173e1a6232b7d8",
            "5ca7ebe89d0c4530abe4112cf0886c90",
            "4fbee5f0e5cc40e997dedc6640aa2f08",
            "31ef6f41731e4d8aab3e6bd28d9733a7",
            "26415211df87460dbfe202ef717023ef",
            "463e74fba65244e5ab9eae3ed3351684",
            "530463db53494abaa5ee979f192b42ff",
            "2df3f66f54314f57bfa21a4d87d40bda",
            "6faa089451fe4d2e8a56b922706ed357",
            "03eab3d5068242ec963c5f6f0f398f38",
            "30828ba304ce497f9b4f59eb0084a0a7",
            "0b2e34c2fbf74f52b7e21b5bd9ca18a7",
            "885b7351dac24e08b52c071d76a2466b",
            "5f63a8a55e7f4bfbb16af2bd0aa6a7da",
            "b9b364a1ef074802a0a5e45b95ef66f0",
            "d060a2f227ee4ec7b7f2f124cee10412",
            "572be91dd53a4422813cd988a13a8329",
            "b3a9e0033c2a4efe9046b1d87707bed7",
            "0efe8cec8d9b44a19aefbb8fa9b7a729",
            "cd1a9353393a4e7189d6ac9d696fbfe0",
            "27191932f6bb49b9bade36e1a69290b1",
            "8067ccc2d09a45a2b4903ca00ea9a756",
            "d96c29eaef0b413f8f2955584a95f840",
            "dcc4c2a92e724ad1830cf2be0d9f4d0c",
            "a27a3910b33645c980d745b867b6751a",
            "9e8277157e244602bf37f3cce22f020d",
            "e5b6d245ba8e437a9b85ea19f44c3598",
            "3253e4cfa3a44117adea086d5daa05cb",
            "e38bffd3dd61476d8c3fbf9858e3e43a",
            "8e74afd9ae164ca4ad90bcd80fe09233",
            "5ff13e6a93874412afe08c9ad24ccd2f",
            "5579ff30483444a3a97e40ce6775a9de",
            "eab0db81ff844918bf74e9468dad29ba",
            "680b4fd6237047399348de6b5ce43a37",
            "f2d36b9aa5cd487f8020057ac1c4426e",
            "8b4b3478c3ce4d2caba65e40a62aee98",
            "c47b31c4c9a54c989863e4d1ccb7fdef",
            "7cd5791301dd472396eed2832adad8b5"
          ]
        },
        "outputId": "75c99908-ec10-43a3-e0d7-51000c9ff32f"
      },
      "source": [
        "try:\n",
        "    import google.colab\n",
        "    IN_COLAB = True\n",
        "except:\n",
        "    IN_COLAB = False\n",
        "\n",
        "if IN_COLAB:\n",
        "    ! wget https://raw.githubusercontent.com/hse-aml/natural-language-processing/master/setup_google_colab.py -O setup_google_colab.py\n",
        "    import setup_google_colab\n",
        "    setup_google_colab.setup_week3()\n",
        "    \n",
        "import sys\n",
        "sys.path.append(\"..\")\n",
        "from common.download_utils import download_week3_resources\n",
        "\n",
        "download_week3_resources()"
      ],
      "execution_count": 1,
      "outputs": [
        {
          "output_type": "stream",
          "text": [
            "--2020-08-10 06:12:17--  https://raw.githubusercontent.com/hse-aml/natural-language-processing/master/setup_google_colab.py\n",
            "Resolving raw.githubusercontent.com (raw.githubusercontent.com)... 151.101.0.133, 151.101.64.133, 151.101.128.133, ...\n",
            "Connecting to raw.githubusercontent.com (raw.githubusercontent.com)|151.101.0.133|:443... connected.\n",
            "HTTP request sent, awaiting response... 200 OK\n",
            "Length: 1939 (1.9K) [text/plain]\n",
            "Saving to: ‘setup_google_colab.py’\n",
            "\n",
            "\rsetup_google_colab.   0%[                    ]       0  --.-KB/s               \rsetup_google_colab. 100%[===================>]   1.89K  --.-KB/s    in 0s      \n",
            "\n",
            "2020-08-10 06:12:17 (43.1 MB/s) - ‘setup_google_colab.py’ saved [1939/1939]\n",
            "\n"
          ],
          "name": "stdout"
        },
        {
          "output_type": "display_data",
          "data": {
            "application/vnd.jupyter.widget-view+json": {
              "model_id": "c0940d7aeba848aea48e1345c59689a8",
              "version_minor": 0,
              "version_major": 2
            },
            "text/plain": [
              "HBox(children=(FloatProgress(value=0.0, max=119127793.0), HTML(value='')))"
            ]
          },
          "metadata": {
            "tags": []
          }
        },
        {
          "output_type": "stream",
          "text": [
            "\n"
          ],
          "name": "stdout"
        },
        {
          "output_type": "display_data",
          "data": {
            "application/vnd.jupyter.widget-view+json": {
              "model_id": "530463db53494abaa5ee979f192b42ff",
              "version_minor": 0,
              "version_major": 2
            },
            "text/plain": [
              "HBox(children=(FloatProgress(value=0.0, max=535543630.0), HTML(value='')))"
            ]
          },
          "metadata": {
            "tags": []
          }
        },
        {
          "output_type": "stream",
          "text": [
            "\n"
          ],
          "name": "stdout"
        },
        {
          "output_type": "display_data",
          "data": {
            "application/vnd.jupyter.widget-view+json": {
              "model_id": "b9b364a1ef074802a0a5e45b95ef66f0",
              "version_minor": 0,
              "version_major": 2
            },
            "text/plain": [
              "HBox(children=(FloatProgress(value=0.0, max=46408910.0), HTML(value='')))"
            ]
          },
          "metadata": {
            "tags": []
          }
        },
        {
          "output_type": "stream",
          "text": [
            "\n"
          ],
          "name": "stdout"
        },
        {
          "output_type": "display_data",
          "data": {
            "application/vnd.jupyter.widget-view+json": {
              "model_id": "d96c29eaef0b413f8f2955584a95f840",
              "version_minor": 0,
              "version_major": 2
            },
            "text/plain": [
              "HBox(children=(FloatProgress(value=0.0, max=5333.0), HTML(value='')))"
            ]
          },
          "metadata": {
            "tags": []
          }
        },
        {
          "output_type": "stream",
          "text": [
            "\n",
            "Downloading GoogleNews-vectors-negative300.bin.gz (1.5G) for you, it will take a while...\n"
          ],
          "name": "stdout"
        },
        {
          "output_type": "display_data",
          "data": {
            "application/vnd.jupyter.widget-view+json": {
              "model_id": "5ff13e6a93874412afe08c9ad24ccd2f",
              "version_minor": 0,
              "version_major": 2
            },
            "text/plain": [
              "HBox(children=(FloatProgress(value=0.0, max=1647046227.0), HTML(value='')))"
            ]
          },
          "metadata": {
            "tags": []
          }
        },
        {
          "output_type": "stream",
          "text": [
            "\n"
          ],
          "name": "stdout"
        }
      ]
    },
    {
      "cell_type": "markdown",
      "metadata": {
        "id": "NKhd-yyHAaTf",
        "colab_type": "text"
      },
      "source": [
        "### Grading\n",
        "We will create a grader instace below and use it to collect your answers. Note that these outputs will be stored locally inside grader and will be uploaded to platform only after running submiting function in the last part of this assignment. If you want to make partial submission, you can run that cell any time you want."
      ]
    },
    {
      "cell_type": "code",
      "metadata": {
        "id": "a26Z68mdAaTg",
        "colab_type": "code",
        "colab": {}
      },
      "source": [
        "from grader import Grader"
      ],
      "execution_count": 2,
      "outputs": []
    },
    {
      "cell_type": "code",
      "metadata": {
        "id": "othGHFBnAaTs",
        "colab_type": "code",
        "colab": {}
      },
      "source": [
        "grader = Grader()"
      ],
      "execution_count": 3,
      "outputs": []
    },
    {
      "cell_type": "markdown",
      "metadata": {
        "id": "262dy50aAaT7",
        "colab_type": "text"
      },
      "source": [
        "## Word embedding\n",
        "\n",
        "To solve the problem, you will use two different models of embeddings:\n",
        "\n",
        " - [Pre-trained word vectors](https://code.google.com/archive/p/word2vec/) from Google which were trained on a part of Google News dataset (about 100 billion words). The model contains 300-dimensional vectors for 3 million words and phrases. `GoogleNews-vectors-negative300.bin.gz` will be downloaded in `download_week3_resources()`.\n",
        " - Representations using StarSpace on StackOverflow data sample. You will need to train them from scratch."
      ]
    },
    {
      "cell_type": "markdown",
      "metadata": {
        "id": "IymvJavLAaT9",
        "colab_type": "text"
      },
      "source": [
        "It's always easier to start with pre-trained embeddings. Unpack the pre-trained Goggle's vectors and upload them using the function [KeyedVectors.load_word2vec_format](https://radimrehurek.com/gensim/models/keyedvectors.html) from gensim library with the parameter *binary=True*. If the size of the embeddings is larger than the avaliable memory, you could load only a part of the embeddings by defining the parameter *limit* (recommended: 500000)."
      ]
    },
    {
      "cell_type": "code",
      "metadata": {
        "id": "JUjdSwNPAaT_",
        "colab_type": "code",
        "colab": {}
      },
      "source": [
        "import gensim"
      ],
      "execution_count": 4,
      "outputs": []
    },
    {
      "cell_type": "code",
      "metadata": {
        "id": "jqi83h28AaUJ",
        "colab_type": "code",
        "colab": {}
      },
      "source": [
        "\n",
        "from gensim.models import KeyedVectors\n",
        "wv_embeddings = KeyedVectors.load_word2vec_format('GoogleNews-vectors-negative300.bin.gz', binary=True, limit=500000)\n"
      ],
      "execution_count": 5,
      "outputs": []
    },
    {
      "cell_type": "markdown",
      "metadata": {
        "id": "Lsx4CBSQAaUT",
        "colab_type": "text"
      },
      "source": [
        "### How to work with Google's word2vec embeddings?\n",
        "\n",
        "Once you have loaded the representations, make sure you can access them. First, you can check if the loaded embeddings contain a word:\n",
        "    \n",
        "    'word' in wv_embeddings\n",
        "    \n",
        "Second, to get the corresponding embedding you can use the square brackets:\n",
        "\n",
        "    wv_embeddings['word']\n",
        " \n",
        "### Checking that the embeddings are correct \n",
        " \n",
        "To prevent any errors during the first stage, we can check that the loaded embeddings are correct. You can call the function *check_embeddings*, implemented below, which runs 3 tests:\n",
        "1. Find the most similar word for provided \"positive\" and \"negative\" words.\n",
        "2. Find which word from the given list doesn’t go with the others.\n",
        "3. Find the most similar word for the provided one.\n",
        "\n",
        "In the right case the function will return the string *These embeddings look good*. Othervise, you need to validate the previous steps."
      ]
    },
    {
      "cell_type": "code",
      "metadata": {
        "id": "qyyVNeuUAaUU",
        "colab_type": "code",
        "colab": {}
      },
      "source": [
        "def check_embeddings(embeddings):\n",
        "    error_text = \"Something wrong with your embeddings ('%s test isn't correct).\"\n",
        "    most_similar = embeddings.most_similar(positive=['woman', 'king'], negative=['man'])\n",
        "    if len(most_similar) < 1 or most_similar[0][0] != 'queen':\n",
        "        return error_text % \"Most similar\"\n",
        "\n",
        "    doesnt_match = embeddings.doesnt_match(['breakfast', 'cereal', 'dinner', 'lunch'])\n",
        "    if doesnt_match != 'cereal':\n",
        "        return error_text % \"Doesn't match\"\n",
        "    \n",
        "    most_similar_to_given = embeddings.most_similar_to_given('music', ['water', 'sound', 'backpack', 'mouse'])\n",
        "    if most_similar_to_given != 'sound':\n",
        "        return error_text % \"Most similar to given\"\n",
        "    \n",
        "    return \"These embeddings look good.\""
      ],
      "execution_count": 6,
      "outputs": []
    },
    {
      "cell_type": "code",
      "metadata": {
        "id": "aOkAHze7AaUj",
        "colab_type": "code",
        "colab": {
          "base_uri": "https://localhost:8080/",
          "height": 91
        },
        "outputId": "173c8080-67d2-4cd5-ae52-418d5c1b2c0f"
      },
      "source": [
        "print(check_embeddings(wv_embeddings))"
      ],
      "execution_count": 7,
      "outputs": [
        {
          "output_type": "stream",
          "text": [
            "These embeddings look good.\n"
          ],
          "name": "stdout"
        },
        {
          "output_type": "stream",
          "text": [
            "/usr/local/lib/python3.6/dist-packages/gensim/models/keyedvectors.py:877: FutureWarning: arrays to stack must be passed as a \"sequence\" type such as list or tuple. Support for non-sequence iterables such as generators is deprecated as of NumPy 1.16 and will raise an error in the future.\n",
            "  vectors = vstack(self.word_vec(word, use_norm=True) for word in used_words).astype(REAL)\n"
          ],
          "name": "stderr"
        }
      ]
    },
    {
      "cell_type": "markdown",
      "metadata": {
        "id": "yJ415sQGAaUv",
        "colab_type": "text"
      },
      "source": [
        "## From word to text embeddings\n",
        "\n",
        "**Task 1 (Question2Vec).** Usually, we have word-based embeddings, but for the task we need to create a representation for the whole question. It could be done in different ways. In our case we will use a **mean** of all word vectors in the question. Now you need to implement the function *question_to_vec*, which calculates the question representation described above. This function should work with the input text as is without any preprocessing.\n",
        "\n",
        "Note that there could be words without the corresponding embeddings. In this case, you can just skip these words and don't take them into account during calculating the result. If the question doesn't contain any known word with embedding, the function should return a zero vector."
      ]
    },
    {
      "cell_type": "code",
      "metadata": {
        "id": "LYui-ERUAaUy",
        "colab_type": "code",
        "colab": {}
      },
      "source": [
        "import numpy as np"
      ],
      "execution_count": 8,
      "outputs": []
    },
    {
      "cell_type": "code",
      "metadata": {
        "id": "8g6Nto8fAaU8",
        "colab_type": "code",
        "colab": {}
      },
      "source": [
        "def question_to_vec(question, embeddings, dim=300):\n",
        "    \"\"\"\n",
        "        question: a string\n",
        "        embeddings: dict where the key is a word and a value is its' embedding\n",
        "        dim: size of the representation\n",
        "\n",
        "        result: vector representation for the question\n",
        "    \"\"\"\n",
        "    ######################################\n",
        "    ######### YOUR CODE HERE #############\n",
        "    ######################################\n",
        "    result = np.zeros(dim)\n",
        "    count = 0\n",
        "    for word in question.split():\n",
        "        if word in embeddings:\n",
        "            result += embeddings[word]\n",
        "            count += 1\n",
        "    return result / count if count != 0 else result"
      ],
      "execution_count": 9,
      "outputs": []
    },
    {
      "cell_type": "markdown",
      "metadata": {
        "id": "zoHdD9MZAaVE",
        "colab_type": "text"
      },
      "source": [
        "To check the basic correctness of your implementation, run the function *question_to_vec_tests*."
      ]
    },
    {
      "cell_type": "code",
      "metadata": {
        "id": "A6VphntTAaVF",
        "colab_type": "code",
        "colab": {}
      },
      "source": [
        "def question_to_vec_tests():\n",
        "    if (np.zeros(300) != question_to_vec('', wv_embeddings)).any():\n",
        "        return \"You need to return zero vector for empty question.\"\n",
        "    if (np.zeros(300) != question_to_vec('thereisnosuchword', wv_embeddings)).any():\n",
        "        return \"You need to return zero vector for the question, which consists only unknown words.\"\n",
        "    if (wv_embeddings['word'] != question_to_vec('word', wv_embeddings)).any():\n",
        "        return \"You need to check the corectness of your function.\"\n",
        "    if ((wv_embeddings['I'] + wv_embeddings['am']) / 2 != question_to_vec('I am', wv_embeddings)).any():\n",
        "        return \"Your function should calculate a mean of word vectors.\"\n",
        "    if (wv_embeddings['word'] != question_to_vec('thereisnosuchword word', wv_embeddings)).any():\n",
        "        return \"You should not consider words which embeddings are unknown.\"\n",
        "    return \"Basic tests are passed.\""
      ],
      "execution_count": 10,
      "outputs": []
    },
    {
      "cell_type": "code",
      "metadata": {
        "id": "UP_ukymeAaVQ",
        "colab_type": "code",
        "colab": {
          "base_uri": "https://localhost:8080/",
          "height": 35
        },
        "outputId": "36dcf060-b469-4168-e1d2-76c6757320b9"
      },
      "source": [
        "print(question_to_vec_tests())"
      ],
      "execution_count": 11,
      "outputs": [
        {
          "output_type": "stream",
          "text": [
            "Basic tests are passed.\n"
          ],
          "name": "stdout"
        }
      ]
    },
    {
      "cell_type": "markdown",
      "metadata": {
        "id": "LnYD9sb4AaVW",
        "colab_type": "text"
      },
      "source": [
        "You can submit embeddings for the questions from the file *test_embeddings.tsv* to earn the points. In this task you don't need to transform the text of a question somehow."
      ]
    },
    {
      "cell_type": "code",
      "metadata": {
        "id": "VTdV21LSAaVY",
        "colab_type": "code",
        "colab": {
          "base_uri": "https://localhost:8080/",
          "height": 53
        },
        "outputId": "e746aa4b-3bba-4220-f6b6-784a14fa5cf7"
      },
      "source": [
        "import nltk\n",
        "nltk.download('stopwords')\n",
        "from util import array_to_string"
      ],
      "execution_count": 12,
      "outputs": [
        {
          "output_type": "stream",
          "text": [
            "[nltk_data] Downloading package stopwords to /root/nltk_data...\n",
            "[nltk_data]   Unzipping corpora/stopwords.zip.\n"
          ],
          "name": "stderr"
        }
      ]
    },
    {
      "cell_type": "code",
      "metadata": {
        "id": "RnN5UFazAaVi",
        "colab_type": "code",
        "colab": {
          "base_uri": "https://localhost:8080/",
          "height": 107
        },
        "outputId": "74896a92-6233-46b4-edc8-f042bd4d813f"
      },
      "source": [
        "question2vec_result = []\n",
        "for question in open('data/test_embeddings.tsv'):\n",
        "    question = question.strip()\n",
        "    answer = question_to_vec(question, wv_embeddings)\n",
        "    question2vec_result = np.append(question2vec_result, answer)\n",
        "\n",
        "grader.submit_tag('Question2Vec', array_to_string(question2vec_result))"
      ],
      "execution_count": 13,
      "outputs": [
        {
          "output_type": "stream",
          "text": [
            "Current answer for task Question2Vec is: 0.019293891059027776\n",
            "-0.028727213541666668\n",
            "0.046056111653645836\n",
            "0.08525933159722222\n",
            "0.02430555555555...\n"
          ],
          "name": "stdout"
        }
      ]
    },
    {
      "cell_type": "markdown",
      "metadata": {
        "id": "NPBrXdqOAaVt",
        "colab_type": "text"
      },
      "source": [
        "Now we have a method to create a representation of any sentence and we are ready for the first evaluation. So, let's check how well our solution (Google's vectors + *question_to_vec*) will work.\n",
        "\n",
        "## Evaluation of text similarity\n",
        "\n",
        "We can imagine that if we use good embeddings, the cosine similarity between the duplicate sentences should be less than for the random ones. Overall, for each pair of duplicate sentences we can generate *R* random negative examples and find out the position of the correct duplicate.  \n",
        "\n",
        "For example, we have the question *\"Exceptions What really happens\"* and we are sure that another question *\"How does the catch keyword determine the type of exception that was thrown\"* is a duplicate. But our model doesn't know it and tries to find out the best option also among questions like *\"How Can I Make These Links Rotate in PHP\"*, *\"NSLog array description not memory address\"* and *\"PECL_HTTP not recognised php ubuntu\"*. The goal of the model is to rank all these 4 questions (1 *positive* and *R* = 3 *negative*) in the way that the correct one is in the first place.\n",
        "\n",
        "However, it is unnatural to count on that the best candidate will be always in the first place. So let us consider the place of the best candidate in the sorted list of candidates and formulate a metric based on it. We can fix some *K* — a reasonalble number of top-ranked elements and *N* — a number of queries (size of the sample).\n",
        "\n",
        "### Hits@K\n",
        "\n",
        "The first simple metric will be a number of correct hits for some *K*:\n",
        "$$ \\text{Hits@K} = \\frac{1}{N}\\sum_{i=1}^N \\, [dup_i \\in topK(q_i)]$$\n",
        "\n",
        "where $q_i$ is the i-th query, $dup_i$ is its duplicate, $topK(q_i)$ is the top K elements of the ranked sentences provided by our model and the operation $[dup_i \\in topK(q_i)]$ equals 1 if the condition is true and 0 otherwise (more details about this operation could be found [here](https://en.wikipedia.org/wiki/Iverson_bracket)).\n",
        "\n",
        "\n",
        "### DCG@K\n",
        "The second one is a simplified [DCG metric](https://en.wikipedia.org/wiki/Discounted_cumulative_gain):\n",
        "\n",
        "$$ \\text{DCG@K} = \\frac{1}{N} \\sum_{i=1}^N\\frac{1}{\\log_2(1+rank_{dup_i})}\\cdot[rank_{dup_i} \\le K] $$\n",
        "\n",
        "where $rank_{dup_i}$ is a position of the duplicate in the sorted list of the nearest sentences for the query $q_i$. According to this metric, the model gets a higher reward for a higher position of the correct answer. If the answer does not appear in topK at all, the reward is zero. "
      ]
    },
    {
      "cell_type": "markdown",
      "metadata": {
        "id": "K6tzXRP5AaVw",
        "colab_type": "text"
      },
      "source": [
        "### Evaluation examples\n",
        "\n",
        "Let's calculate the described metrics for the toy example introduced above. In this case $N$ = 1 and the correct candidate for $q_1$ is *\"How does the catch keyword determine the type of exception that was thrown\"*. Consider the following ranking of the candidates:\n",
        "1. *\"How Can I Make These Links Rotate in PHP\"*\n",
        "2. *\"How does the catch keyword determine the type of exception that was thrown\"*\n",
        "3. *\"NSLog array description not memory address\"*\n",
        "4. *\"PECL_HTTP not recognised php ubuntu\"*\n",
        "\n",
        "Using the ranking above, calculate *Hits@K* metric for *K = 1, 2, 4*: \n",
        " \n",
        "- [K = 1] $\\text{Hits@1} = \\frac{1}{1}\\sum_{i=1}^1 \\, [dup_i \\in top1(q_i)] = [dup_1 \\in top1(q_1)] = 0$ because the correct answer doesn't appear in the *top1* list.\n",
        "- [K = 2] $\\text{Hits@2} = \\frac{1}{1}\\sum_{i=1}^1 \\, [dup_i \\in top2(q_i)] = [dup_1 \\in top2(q_1)] = 1$ because $rank_{dup_1} = 2$.\n",
        "- [K = 4] $\\text{Hits@4} = \\frac{1}{1}\\sum_{i=1}^1 \\, [dup_i \\in top4(q_i)] = [dup_1 \\in top4(q_1)] = 1$\n",
        "\n",
        "Using the ranking above, calculate *DCG@K* metric for *K = 1, 2, 4*:\n",
        "\n",
        "- [K = 1] $\\text{DCG@1} = \\frac{1}{1} \\sum_{i=1}^1\\frac{1}{\\log_2(1+rank_{dup_i})}\\cdot[rank_{dup_i} \\le 1] = \\frac{1}{\\log_2(1+rank_{dup_i})}\\cdot[rank_{dup_i} \\le 1] = 0$ because the correct answer doesn't appear in the top1 list.\n",
        "- [K = 2] $\\text{DCG@2} = \\frac{1}{1} \\sum_{i=1}^1\\frac{1}{\\log_2(1+rank_{dup_i})}\\cdot[rank_{dup_i} \\le 2] = \\frac{1}{\\log_2{3}}$, because $rank_{dup_1} = 2$.\n",
        "- [K = 4] $\\text{DCG@4} = \\frac{1}{1} \\sum_{i=1}^1\\frac{1}{\\log_2(1+rank_{dup_i})}\\cdot[rank_{dup_i} \\le 4] = \\frac{1}{\\log_2{3}}$.\n"
      ]
    },
    {
      "cell_type": "markdown",
      "metadata": {
        "id": "AGU5LGVQAaVx",
        "colab_type": "text"
      },
      "source": [
        "**Tasks 2 and 3 (HitsCount and DCGScore).** Implement the functions *hits_count* and *dcg_score* as described above. Each function has two arguments: *dup_ranks* and *k*. *dup_ranks* is a list which contains *values of ranks* of duplicates. For example, *dup_ranks* is *[2]* for the example provided above."
      ]
    },
    {
      "cell_type": "code",
      "metadata": {
        "id": "Jh7BM5UZAaVz",
        "colab_type": "code",
        "colab": {}
      },
      "source": [
        "def hits_count(dup_ranks, k):\n",
        "    \"\"\"\n",
        "        dup_ranks: list of duplicates' ranks; one rank per question; \n",
        "                   length is a number of questions which we are looking for duplicates; \n",
        "                   rank is a number from 1 to len(candidates of the question); \n",
        "                   e.g. [2, 3] means that the first duplicate has the rank 2, the second one — 3.\n",
        "        k: number of top-ranked elements (k in Hits@k metric)\n",
        "\n",
        "        result: return Hits@k value for current ranking\n",
        "    \"\"\"\n",
        "    ######################################\n",
        "    ######### YOUR CODE HERE #############\n",
        "    ######################################\n",
        "    return sum(rank <= k for rank in dup_ranks) / len(dup_ranks)"
      ],
      "execution_count": 14,
      "outputs": []
    },
    {
      "cell_type": "markdown",
      "metadata": {
        "id": "miJOyqr6AaV9",
        "colab_type": "text"
      },
      "source": [
        "Test your code on the tiny examples:"
      ]
    },
    {
      "cell_type": "code",
      "metadata": {
        "id": "qcgrFwViAaV_",
        "colab_type": "code",
        "colab": {}
      },
      "source": [
        "def test_hits():\n",
        "    # *Evaluation example*\n",
        "    # answers — dup_i\n",
        "    answers = [\"How does the catch keyword determine the type of exception that was thrown\"]\n",
        "    \n",
        "    # candidates_ranking — the ranked sentences provided by our model\n",
        "    candidates_ranking = [[\"How Can I Make These Links Rotate in PHP\", \n",
        "                           \"How does the catch keyword determine the type of exception that was thrown\",\n",
        "                           \"NSLog array description not memory address\",\n",
        "                           \"PECL_HTTP not recognised php ubuntu\"]]\n",
        "    # dup_ranks — position of the dup_i in the list of ranks +1\n",
        "    dup_ranks = [candidates_ranking[i].index(answers[i]) + 1 for i in range(len(answers))]\n",
        "    \n",
        "    # correct_answers — the expected values of the result for each k from 1 to 4\n",
        "    correct_answers = [0, 1, 1, 1]\n",
        "    for k, correct in enumerate(correct_answers, 1):\n",
        "        if not np.isclose(hits_count(dup_ranks, k), correct):\n",
        "            return \"Check the function.\"\n",
        "    \n",
        "    # Other tests\n",
        "    answers = [\"How does the catch keyword determine the type of exception that was thrown\", \n",
        "               \"Convert Google results object (pure js) to Python object\"]\n",
        "    \n",
        "    # The first test: both duplicates on the first position in ranked list\n",
        "    candidates_ranking = [[\"How does the catch keyword determine the type of exception that was thrown\",\n",
        "                           \"How Can I Make These Links Rotate in PHP\"], \n",
        "                          [\"Convert Google results object (pure js) to Python object\",\n",
        "                           \"WPF- How to update the changes in list item of a list\"]]\n",
        "    dup_ranks = [candidates_ranking[i].index(answers[i]) + 1 for i in range(len(answers))]\n",
        "    correct_answers = [1, 1]\n",
        "    for k, correct in enumerate(correct_answers, 1):\n",
        "        if not np.isclose(hits_count(dup_ranks, k), correct):\n",
        "            return \"Check the function (test: both duplicates on the first position in ranked list).\"\n",
        "        \n",
        "    # The second test: one candidate on the first position, another — on the second\n",
        "    candidates_ranking = [[\"How Can I Make These Links Rotate in PHP\", \n",
        "                           \"How does the catch keyword determine the type of exception that was thrown\"], \n",
        "                          [\"Convert Google results object (pure js) to Python object\",\n",
        "                           \"WPF- How to update the changes in list item of a list\"]]\n",
        "    dup_ranks = [candidates_ranking[i].index(answers[i]) + 1 for i in range(len(answers))]\n",
        "    correct_answers = [0.5, 1]\n",
        "    for k, correct in enumerate(correct_answers, 1):\n",
        "        if not np.isclose(hits_count(dup_ranks, k), correct):\n",
        "            return \"Check the function (test: one candidate on the first position, another — on the second).\"\n",
        "\n",
        "    # The third test: both candidates on the second position\n",
        "    candidates_ranking = [[\"How Can I Make These Links Rotate in PHP\", \n",
        "                           \"How does the catch keyword determine the type of exception that was thrown\"], \n",
        "                          [\"WPF- How to update the changes in list item of a list\",\n",
        "                           \"Convert Google results object (pure js) to Python object\"]]\n",
        "    dup_ranks = [candidates_ranking[i].index(answers[i]) + 1 for i in range(len(answers))]\n",
        "    correct_answers = [0, 1]\n",
        "    for k, correct in enumerate(correct_answers, 1):\n",
        "        if not np.isclose(hits_count(dup_ranks, k), correct):\n",
        "            return \"Check the function (test: both candidates on the second position).\"\n",
        "\n",
        "    return \"Basic test are passed.\""
      ],
      "execution_count": 15,
      "outputs": []
    },
    {
      "cell_type": "code",
      "metadata": {
        "id": "bZ5fCYQzAaWH",
        "colab_type": "code",
        "colab": {
          "base_uri": "https://localhost:8080/",
          "height": 35
        },
        "outputId": "fe90ff41-74d9-4c77-e483-42f9a1b0762f"
      },
      "source": [
        "print(test_hits())"
      ],
      "execution_count": 16,
      "outputs": [
        {
          "output_type": "stream",
          "text": [
            "Basic test are passed.\n"
          ],
          "name": "stdout"
        }
      ]
    },
    {
      "cell_type": "code",
      "metadata": {
        "id": "_Fxtva8TAaWR",
        "colab_type": "code",
        "colab": {}
      },
      "source": [
        "def dcg_score(dup_ranks, k):\n",
        "    \"\"\"\n",
        "        dup_ranks: list of duplicates' ranks; one rank per question; \n",
        "                   length is a number of questions which we are looking for duplicates; \n",
        "                   rank is a number from 1 to len(candidates of the question); \n",
        "                   e.g. [2, 3] means that the first duplicate has the rank 2, the second one — 3.\n",
        "        k: number of top-ranked elements (k in DCG@k metric)\n",
        "\n",
        "        result: return DCG@k value for current ranking\n",
        "    \"\"\"\n",
        "    ######################################\n",
        "    ######### YOUR CODE HERE #############\n",
        "    ######################################\n",
        "    return sum(1 / (np.log2(1 + rank)) for rank in dup_ranks if rank <= k) / len(dup_ranks)"
      ],
      "execution_count": 17,
      "outputs": []
    },
    {
      "cell_type": "code",
      "metadata": {
        "id": "7rI30RlcAaWY",
        "colab_type": "code",
        "colab": {}
      },
      "source": [
        "def test_dcg():\n",
        "    # *Evaluation example*\n",
        "    # answers — dup_i\n",
        "    answers = [\"How does the catch keyword determine the type of exception that was thrown\"]\n",
        "    \n",
        "    # candidates_ranking — the ranked sentences provided by our model\n",
        "    candidates_ranking = [[\"How Can I Make These Links Rotate in PHP\", \n",
        "                           \"How does the catch keyword determine the type of exception that was thrown\",\n",
        "                           \"NSLog array description not memory address\",\n",
        "                           \"PECL_HTTP not recognised php ubuntu\"]]\n",
        "    # dup_ranks — position of the dup_i in the list of ranks +1\n",
        "    dup_ranks = [candidates_ranking[i].index(answers[i]) + 1 for i in range(len(answers))]\n",
        "    \n",
        "    # correct_answers — the expected values of the result for each k from 1 to 4\n",
        "    correct_answers = [0, 1 / (np.log2(3)), 1 / (np.log2(3)), 1 / (np.log2(3))]\n",
        "    for k, correct in enumerate(correct_answers, 1):\n",
        "        if not np.isclose(dcg_score(dup_ranks, k), correct):\n",
        "            return \"Check the function.\"\n",
        "    \n",
        "    # Other tests\n",
        "    answers = [\"How does the catch keyword determine the type of exception that was thrown\", \n",
        "               \"Convert Google results object (pure js) to Python object\"]\n",
        "\n",
        "    # The first test: both duplicates on the first position in ranked list\n",
        "    candidates_ranking = [[\"How does the catch keyword determine the type of exception that was thrown\",\n",
        "                           \"How Can I Make These Links Rotate in PHP\"], \n",
        "                          [\"Convert Google results object (pure js) to Python object\",\n",
        "                           \"WPF- How to update the changes in list item of a list\"]]\n",
        "    dup_ranks = [candidates_ranking[i].index(answers[i]) + 1 for i in range(len(answers))]\n",
        "    correct_answers = [1, 1]\n",
        "    for k, correct in enumerate(correct_answers, 1):\n",
        "        if not np.isclose(dcg_score(dup_ranks, k), correct):\n",
        "            return \"Check the function (test: both duplicates on the first position in ranked list).\"\n",
        "        \n",
        "    # The second test: one candidate on the first position, another — on the second\n",
        "    candidates_ranking = [[\"How Can I Make These Links Rotate in PHP\", \n",
        "                           \"How does the catch keyword determine the type of exception that was thrown\"], \n",
        "                          [\"Convert Google results object (pure js) to Python object\",\n",
        "                           \"WPF- How to update the changes in list item of a list\"]]\n",
        "    dup_ranks = [candidates_ranking[i].index(answers[i]) + 1 for i in range(len(answers))]\n",
        "    correct_answers = [0.5, (1 + (1 / (np.log2(3)))) / 2]\n",
        "    for k, correct in enumerate(correct_answers, 1):\n",
        "        if not np.isclose(dcg_score(dup_ranks, k), correct):\n",
        "            return \"Check the function (test: one candidate on the first position, another — on the second).\"\n",
        "        \n",
        "    # The third test: both candidates on the second position\n",
        "    candidates_ranking = [[\"How Can I Make These Links Rotate in PHP\",\n",
        "                           \"How does the catch keyword determine the type of exception that was thrown\"], \n",
        "                          [\"WPF- How to update the changes in list item of a list\",\n",
        "                           \"Convert Google results object (pure js) to Python object\"]]\n",
        "    dup_ranks = [candidates_ranking[i].index(answers[i]) + 1 for i in range(len(answers))]\n",
        "    correct_answers = [0, 1 / (np.log2(3))]\n",
        "    for k, correct in enumerate(correct_answers, 1):\n",
        "        if not np.isclose(dcg_score(dup_ranks, k), correct):\n",
        "            return \"Check the function (test: both candidates on the second position).\"\n",
        "\n",
        "    return \"Basic test are passed.\""
      ],
      "execution_count": 18,
      "outputs": []
    },
    {
      "cell_type": "code",
      "metadata": {
        "id": "TvcTAezKAaWi",
        "colab_type": "code",
        "colab": {
          "base_uri": "https://localhost:8080/",
          "height": 35
        },
        "outputId": "d2ba8fe5-7fbb-4b68-e8c5-33ea047bbe0c"
      },
      "source": [
        "print(test_dcg())"
      ],
      "execution_count": 19,
      "outputs": [
        {
          "output_type": "stream",
          "text": [
            "Basic test are passed.\n"
          ],
          "name": "stdout"
        }
      ]
    },
    {
      "cell_type": "markdown",
      "metadata": {
        "id": "4T0wuofZAaWp",
        "colab_type": "text"
      },
      "source": [
        "Submit results of the functions *hits_count* and *dcg_score* for the following examples to earn the points."
      ]
    },
    {
      "cell_type": "code",
      "metadata": {
        "id": "wJyrzum6AaWr",
        "colab_type": "code",
        "colab": {}
      },
      "source": [
        "test_examples = [\n",
        "    [1],\n",
        "    [1, 2],\n",
        "    [2, 1],\n",
        "    [1, 2, 3],\n",
        "    [1, 2, 3, 4, 5, 6, 7, 8, 9, 10],\n",
        "    [9, 5, 4, 2, 8, 10, 7, 6, 1, 3],\n",
        "    [4, 3, 5, 1, 9, 10, 7, 8, 2, 6],\n",
        "    [5, 1, 7, 6, 2, 3, 8, 9, 10, 4],\n",
        "    [6, 3, 1, 4, 7, 2, 9, 8, 10, 5],\n",
        "    [10, 9, 8, 7, 6, 5, 4, 3, 2, 1],\n",
        "]"
      ],
      "execution_count": 20,
      "outputs": []
    },
    {
      "cell_type": "code",
      "metadata": {
        "id": "-q8oemPyAaW1",
        "colab_type": "code",
        "colab": {
          "base_uri": "https://localhost:8080/",
          "height": 341
        },
        "outputId": "29cecc0c-ab39-4d3a-b470-8a3cd97789f7"
      },
      "source": [
        "hits_results = []\n",
        "for example in test_examples:\n",
        "    for k in range(len(example)):\n",
        "        hits_results.append(hits_count(example, k + 1))\n",
        "grader.submit_tag('HitsCount', array_to_string(hits_results))"
      ],
      "execution_count": 21,
      "outputs": [
        {
          "output_type": "stream",
          "text": [
            "Current answer for task HitsCount is: 1.0\n",
            "0.5\n",
            "1.0\n",
            "0.5\n",
            "1.0\n",
            "0.3333333333333333\n",
            "0.6666666666666666\n",
            "1.0\n",
            "0.1\n",
            "0.2\n",
            "0.3\n",
            "0.4\n",
            "0.5\n",
            "0.6\n",
            "0.7\n",
            "0.8\n",
            "0.9\n",
            "1....\n"
          ],
          "name": "stdout"
        }
      ]
    },
    {
      "cell_type": "code",
      "metadata": {
        "id": "KbiU09M1AaW-",
        "colab_type": "code",
        "colab": {
          "base_uri": "https://localhost:8080/",
          "height": 161
        },
        "outputId": "e853ad46-8ded-4566-8fa2-48c0453a4e14"
      },
      "source": [
        "dcg_results = []\n",
        "for example in test_examples:\n",
        "    for k in range(len(example)):\n",
        "        dcg_results.append(dcg_score(example, k + 1))\n",
        "grader.submit_tag('DCGScore', array_to_string(dcg_results))"
      ],
      "execution_count": 22,
      "outputs": [
        {
          "output_type": "stream",
          "text": [
            "Current answer for task DCGScore is: 1.0\n",
            "0.5\n",
            "0.8154648767857288\n",
            "0.5\n",
            "0.8154648767857288\n",
            "0.3333333333333333\n",
            "0.5436432511904858\n",
            "0.7103099178...\n"
          ],
          "name": "stdout"
        }
      ]
    },
    {
      "cell_type": "markdown",
      "metadata": {
        "id": "z0Ajfez4AaXH",
        "colab_type": "text"
      },
      "source": [
        "##  First solution: pre-trained embeddings"
      ]
    },
    {
      "cell_type": "markdown",
      "metadata": {
        "id": "uqfSIZvmAaXI",
        "colab_type": "text"
      },
      "source": [
        "We will work with predefined train, validation and test corpora. All the files are tab-separated, but have a different format:\n",
        " - *train* corpus contains similar sentences at the same row.\n",
        " - *validation* corpus contains the following columns: *question*, *similar question*, *negative example 1*, *negative example 2*, ... \n",
        " - *test* corpus contains the following columns: *question*, *example 1*, *example 2*, ...\n",
        "\n",
        "Validation corpus will be used for the intermediate validation of models. The test data will be necessary for submitting the quality of your model in the system."
      ]
    },
    {
      "cell_type": "markdown",
      "metadata": {
        "id": "k8SycTRXAaXJ",
        "colab_type": "text"
      },
      "source": [
        "Now you should read *validation* corpus, located at `data/validation.tsv`. You will use it later to evaluate current solution."
      ]
    },
    {
      "cell_type": "code",
      "metadata": {
        "id": "CAB_2h_XAaXK",
        "colab_type": "code",
        "colab": {}
      },
      "source": [
        "def read_corpus(filename):\n",
        "    data = []\n",
        "    for line in open(filename, encoding='utf-8'):\n",
        "        data.append(line.strip().split('\\t'))\n",
        "    return data"
      ],
      "execution_count": 23,
      "outputs": []
    },
    {
      "cell_type": "code",
      "metadata": {
        "id": "3ZP5eDmrAaXS",
        "colab_type": "code",
        "colab": {}
      },
      "source": [
        "validation = read_corpus('data/validation.tsv')"
      ],
      "execution_count": 24,
      "outputs": []
    },
    {
      "cell_type": "code",
      "metadata": {
        "id": "0Ie_u_84AaXZ",
        "colab_type": "code",
        "colab": {}
      },
      "source": [
        "from sklearn.metrics.pairwise import cosine_similarity"
      ],
      "execution_count": 25,
      "outputs": []
    },
    {
      "cell_type": "markdown",
      "metadata": {
        "id": "mHSQwBLeAaXi",
        "colab_type": "text"
      },
      "source": [
        "We will use cosine distance to rank candidate questions which you need to implement in the function *rank_candidates*. The function should return a sorted list of pairs *(initial position in candidates list, candidate)*. Index of some pair corresponds to its rank (the first is the best). For example, if the list of candidates was *[a, b, c]* and the most similar is *c*, then *a* and *b*, the function should return a list *[(2, c), (0, a), (1, b)]*.\n",
        "\n",
        "Pay attention, if you use the function *cosine_similarity* from *sklearn.metrics.pairwise* to calculate similarity because it works in a different way: most similar objects has greatest similarity. It's preferable to use a vectorized version of *cosine_similarity* function. Try to compute similarity at once and not use list comprehension. It should speed up your computations significantly."
      ]
    },
    {
      "cell_type": "code",
      "metadata": {
        "id": "gtDnC0GiAaXk",
        "colab_type": "code",
        "colab": {}
      },
      "source": [
        "def rank_candidates(question, candidates, embeddings, dim=300):\n",
        "    \"\"\"\n",
        "        question: a string\n",
        "        candidates: a list of strings (candidates) which we want to rank\n",
        "        embeddings: some embeddings\n",
        "        dim: dimension of the current embeddings\n",
        "        \n",
        "        result: a list of pairs (initial position in the list, question)\n",
        "    \"\"\"\n",
        "    \n",
        "    ######################################\n",
        "    ######### YOUR CODE HERE #############\n",
        "    ######################################\n",
        "    qv = question_to_vec(question, embeddings, dim)[np.newaxis, :]\n",
        "    cvs = np.array([question_to_vec(candidate, embeddings, dim) for candidate in candidates])\n",
        "    sims = cosine_similarity(qv, cvs)[0]\n",
        "    idxs = np.argsort(sims)[::-1]\n",
        "    return [(i, candidates[i]) for i in idxs]"
      ],
      "execution_count": 26,
      "outputs": []
    },
    {
      "cell_type": "markdown",
      "metadata": {
        "id": "PXuVX4FSAaXq",
        "colab_type": "text"
      },
      "source": [
        "Test your code on the tiny examples:"
      ]
    },
    {
      "cell_type": "code",
      "metadata": {
        "id": "8k9tJaLcAaXr",
        "colab_type": "code",
        "colab": {}
      },
      "source": [
        "def test_rank_candidates():\n",
        "    questions = ['converting string to list', 'Sending array via Ajax fails']\n",
        "    candidates = [['Convert Google results object (pure js) to Python object', \n",
        "                   'C# create cookie from string and send it',\n",
        "                   'How to use jQuery AJAX for an outside domain?'], \n",
        "                  ['Getting all list items of an unordered list in PHP', \n",
        "                   'WPF- How to update the changes in list item of a list', \n",
        "                   'select2 not displaying search results']]\n",
        "    results = [[(1, 'C# create cookie from string and send it'), \n",
        "                (0, 'Convert Google results object (pure js) to Python object'), \n",
        "                (2, 'How to use jQuery AJAX for an outside domain?')],\n",
        "               [(0, 'Getting all list items of an unordered list in PHP'), \n",
        "                (2, 'select2 not displaying search results'), \n",
        "                (1, 'WPF- How to update the changes in list item of a list')]]\n",
        "    for question, q_candidates, result in zip(questions, candidates, results):\n",
        "        ranks = rank_candidates(question, q_candidates, wv_embeddings, 300)\n",
        "        if not np.all(ranks == result):\n",
        "            return \"Check the function.\"\n",
        "    return \"Basic tests are passed.\""
      ],
      "execution_count": 27,
      "outputs": []
    },
    {
      "cell_type": "code",
      "metadata": {
        "id": "fsDYJVr-AaXx",
        "colab_type": "code",
        "colab": {
          "base_uri": "https://localhost:8080/",
          "height": 35
        },
        "outputId": "de165764-5bee-43c5-93bf-61c20c76bf1b"
      },
      "source": [
        "print(test_rank_candidates())"
      ],
      "execution_count": 28,
      "outputs": [
        {
          "output_type": "stream",
          "text": [
            "Basic tests are passed.\n"
          ],
          "name": "stdout"
        }
      ]
    },
    {
      "cell_type": "markdown",
      "metadata": {
        "id": "jkqbkseHAaX3",
        "colab_type": "text"
      },
      "source": [
        "Now we can test the quality of the current approach. Run the next two cells to get the results. Pay attention that calculation of similarity between vectors takes time and this calculation is computed approximately in 10 minutes."
      ]
    },
    {
      "cell_type": "code",
      "metadata": {
        "id": "1l_IkneDAaX4",
        "colab_type": "code",
        "colab": {}
      },
      "source": [
        "wv_ranking = []\n",
        "for line in validation:\n",
        "    q, *ex = line\n",
        "    ranks = rank_candidates(q, ex, wv_embeddings)\n",
        "    wv_ranking.append([r[0] for r in ranks].index(0) + 1)"
      ],
      "execution_count": 29,
      "outputs": []
    },
    {
      "cell_type": "code",
      "metadata": {
        "id": "1DB90T50AaYA",
        "colab_type": "code",
        "colab": {
          "base_uri": "https://localhost:8080/",
          "height": 125
        },
        "outputId": "e19c259f-84a1-41fe-8db6-f987194a8763"
      },
      "source": [
        "for k in [1, 5, 10, 100, 500, 1000]:\n",
        "    print(\"DCG@%4d: %.3f | Hits@%4d: %.3f\" % (k, dcg_score(wv_ranking, k), k, hits_count(wv_ranking, k)))"
      ],
      "execution_count": 30,
      "outputs": [
        {
          "output_type": "stream",
          "text": [
            "DCG@   1: 0.209 | Hits@   1: 0.209\n",
            "DCG@   5: 0.263 | Hits@   5: 0.311\n",
            "DCG@  10: 0.279 | Hits@  10: 0.360\n",
            "DCG@ 100: 0.316 | Hits@ 100: 0.548\n",
            "DCG@ 500: 0.349 | Hits@ 500: 0.807\n",
            "DCG@1000: 0.369 | Hits@1000: 1.000\n"
          ],
          "name": "stdout"
        }
      ]
    },
    {
      "cell_type": "markdown",
      "metadata": {
        "id": "H6gpWzYyAaYH",
        "colab_type": "text"
      },
      "source": [
        "If you did all the steps correctly, you should be frustrated by the received results. Let's try to understand why the quality is so low. First of all, when you work with some data it is necessary to have an idea how the data looks like. Print several questions from the data:"
      ]
    },
    {
      "cell_type": "code",
      "metadata": {
        "id": "1UU_UWPaAaYI",
        "colab_type": "code",
        "colab": {
          "base_uri": "https://localhost:8080/",
          "height": 91
        },
        "outputId": "258aee62-d8d4-4079-9ffd-7053ccc3a3b7"
      },
      "source": [
        "for line in validation[:3]:\n",
        "    q, *examples = line\n",
        "    print(q, *examples[:3])"
      ],
      "execution_count": 31,
      "outputs": [
        {
          "output_type": "stream",
          "text": [
            "How to print a binary heap tree without recursion? How do you best convert a recursive function to an iterative one? How can i use ng-model with directive in angular js flash: drawing and erasing\n",
            "How to start PhoneStateListener programmatically? PhoneStateListener and service Java cast object[] to model WCF and What does this mean?\n",
            "jQuery: Show a div2 when mousenter over div1 is over when hover on div1 depenting on if it is on div2 or not it should act differently How to run selenium in google app engine/cloud? Python Comparing two lists of strings for similarities\n"
          ],
          "name": "stdout"
        }
      ]
    },
    {
      "cell_type": "markdown",
      "metadata": {
        "id": "FFqNK7b2AaYN",
        "colab_type": "text"
      },
      "source": [
        "As you can see, we deal with the raw data. It means that we have many punctuation marks, special characters and unlowercased letters. In our case, it could lead to the situation where we can't find some embeddings, e.g. for the word \"grid?\". \n",
        "\n",
        "To solve this problem you should use the functions *text_prepare* from the previous assignments to prepare the data."
      ]
    },
    {
      "cell_type": "code",
      "metadata": {
        "id": "jxujeOQhAaYO",
        "colab_type": "code",
        "colab": {}
      },
      "source": [
        "from util import text_prepare"
      ],
      "execution_count": 32,
      "outputs": []
    },
    {
      "cell_type": "markdown",
      "metadata": {
        "id": "mxmoR0IFAaYX",
        "colab_type": "text"
      },
      "source": [
        "Now transform all the questions from the validation set:"
      ]
    },
    {
      "cell_type": "code",
      "metadata": {
        "id": "3UFwlXJrAaYY",
        "colab_type": "code",
        "colab": {}
      },
      "source": [
        "prepared_validation = []\n",
        "for line in validation:\n",
        "    ######### YOUR CODE HERE #############\n",
        "    prepared_validation.append([text_prepare(text) for text in line])"
      ],
      "execution_count": 33,
      "outputs": []
    },
    {
      "cell_type": "markdown",
      "metadata": {
        "id": "Duwu502lAaYd",
        "colab_type": "text"
      },
      "source": [
        "Let's evaluate the approach again after the preparation:"
      ]
    },
    {
      "cell_type": "code",
      "metadata": {
        "id": "mc1dWzFbAaYe",
        "colab_type": "code",
        "colab": {}
      },
      "source": [
        "wv_prepared_ranking = []\n",
        "for line in prepared_validation:\n",
        "    q, *ex = line\n",
        "    ranks = rank_candidates(q, ex, wv_embeddings)\n",
        "    wv_prepared_ranking.append([r[0] for r in ranks].index(0) + 1)"
      ],
      "execution_count": 34,
      "outputs": []
    },
    {
      "cell_type": "code",
      "metadata": {
        "id": "EBlv2q8xAaYq",
        "colab_type": "code",
        "colab": {
          "base_uri": "https://localhost:8080/",
          "height": 125
        },
        "outputId": "10ae207c-5b13-40dc-d233-455dd9bcda9a"
      },
      "source": [
        "for k in [1, 5, 10, 100, 500, 1000]:\n",
        "    print(\"DCG@%4d: %.3f | Hits@%4d: %.3f\" % (k, dcg_score(wv_prepared_ranking, k), \n",
        "                                              k, hits_count(wv_prepared_ranking, k)))"
      ],
      "execution_count": 35,
      "outputs": [
        {
          "output_type": "stream",
          "text": [
            "DCG@   1: 0.305 | Hits@   1: 0.305\n",
            "DCG@   5: 0.375 | Hits@   5: 0.438\n",
            "DCG@  10: 0.392 | Hits@  10: 0.489\n",
            "DCG@ 100: 0.425 | Hits@ 100: 0.656\n",
            "DCG@ 500: 0.447 | Hits@ 500: 0.830\n",
            "DCG@1000: 0.465 | Hits@1000: 1.000\n"
          ],
          "name": "stdout"
        }
      ]
    },
    {
      "cell_type": "markdown",
      "metadata": {
        "id": "KS5ddQEkAaYw",
        "colab_type": "text"
      },
      "source": [
        "Now, prepare also train and test data, because you will need it in the future:"
      ]
    },
    {
      "cell_type": "code",
      "metadata": {
        "id": "n_WXAOfxAaYx",
        "colab_type": "code",
        "colab": {}
      },
      "source": [
        "def prepare_file(in_, out_):\n",
        "    out = open(out_, 'w')\n",
        "    for line in open(in_, encoding='utf8'):\n",
        "        line = line.strip().split('\\t')\n",
        "        new_line = [text_prepare(q) for q in line]\n",
        "        print(*new_line, sep='\\t', file=out)\n",
        "    out.close()"
      ],
      "execution_count": 36,
      "outputs": []
    },
    {
      "cell_type": "code",
      "metadata": {
        "id": "oF5DTowEAaY3",
        "colab_type": "code",
        "colab": {}
      },
      "source": [
        "######################################\n",
        "######### YOUR CODE HERE #############\n",
        "######################################\n",
        "prepare_file('data/train.tsv', 'data/train_prepared.tsv')\n",
        "prepare_file('data/validation.tsv', 'data/validation_prepared.tsv')\n",
        "prepare_file('data/test.tsv', 'data/test_prepared.tsv')"
      ],
      "execution_count": 37,
      "outputs": []
    },
    {
      "cell_type": "markdown",
      "metadata": {
        "id": "zVwSf5XpAaY8",
        "colab_type": "text"
      },
      "source": [
        "**Task 4 (W2VTokenizedRanks).** For each question from prepared *test.tsv* submit the ranks of the candidates to earn the points. The calculations should take about 3-5 minutes. Pay attention that the function *rank_candidates* returns a ranking, while in this case you should find a position in this ranking. Ranks should start with 1."
      ]
    },
    {
      "cell_type": "code",
      "metadata": {
        "id": "8VboWLlpAaY9",
        "colab_type": "code",
        "colab": {}
      },
      "source": [
        "from util import matrix_to_string"
      ],
      "execution_count": 38,
      "outputs": []
    },
    {
      "cell_type": "code",
      "metadata": {
        "id": "_jmVPQDaAaZG",
        "colab_type": "code",
        "colab": {
          "base_uri": "https://localhost:8080/",
          "height": 55
        },
        "outputId": "3eb0a514-b362-42cb-9d3a-40be9a2c261b"
      },
      "source": [
        "w2v_ranks_results = []\n",
        "prepared_test_data = 'data/test_prepared.tsv'\n",
        "for line in open(prepared_test_data):\n",
        "    q, *ex = line.strip().split('\\t')\n",
        "    ranks = rank_candidates(q, ex, wv_embeddings, 300)\n",
        "    ranked_candidates = [r[0] for r in ranks]\n",
        "    w2v_ranks_results.append([ranked_candidates.index(i) + 1 for i in range(len(ranked_candidates))])\n",
        "    \n",
        "grader.submit_tag('W2VTokenizedRanks', matrix_to_string(w2v_ranks_results))"
      ],
      "execution_count": 39,
      "outputs": [
        {
          "output_type": "stream",
          "text": [
            "Current answer for task W2VTokenizedRanks is: 95\t94\t7\t9\t64\t36\t31\t93\t23\t100\t99\t20\t60\t6\t97\t48\t70\t37\t41\t96\t29\t56\t2\t65\t68\t44\t27\t25\t57\t62\t11\t87\t50\t66\t7...\n"
          ],
          "name": "stdout"
        }
      ]
    },
    {
      "cell_type": "markdown",
      "metadata": {
        "id": "fkCh6z9GAaZL",
        "colab_type": "text"
      },
      "source": [
        "## Advanced solution: StarSpace embeddings\n",
        "\n",
        "Now you are ready to train your own word embeddings! In particular, you need to train embeddings specially for our task of duplicates detection. Unfortunately, StarSpace cannot be run on Windows and we recommend to use provided\n",
        "[docker container](https://github.com/hse-aml/natural-language-processing/blob/master/Docker-tutorial.md) or other alternatives. Don't delete results of this task because you will need it in the final project.\n",
        "\n",
        "### How it works and what's the main difference with word2vec?\n",
        "The main point in this section is that StarSpace can be trained specifically for some tasks. In contrast to word2vec model, which tries to train similar embeddings for words in similar contexts, StarSpace uses embeddings for the whole sentence (just as a sum of embeddings of words and phrases). Despite the fact that in both cases we get word embeddings as a result of the training, StarSpace embeddings are trained using some supervised data, e.g. a set of similar sentence pairs, and thus they can better suit the task.\n",
        "\n",
        "In our case, StarSpace should use two types of sentence pairs for training: \"positive\" and \"negative\". \"Positive\" examples are extracted from the train sample (duplicates, high similarity) and the \"negative\" examples are generated randomly (low similarity assumed). \n",
        "\n",
        "### How to choose the best params for the model?\n",
        "Normally, you would start with some default choice and then run extensive experiments to compare different strategies. However, we have some recommendations ready for you to save your time:\n",
        "- Be careful with choosing the suitable training mode. In this task we want to explore texts similarity which corresponds to *trainMode = 3*.\n",
        "- Use adagrad optimization (parameter *adagrad = true*).\n",
        "- Set the length of phrase equal to 1 (parameter *ngrams*), because we need embeddings only for words.\n",
        "- Don't use a large number of *epochs* (we think that 5 should be enough).\n",
        "- Try dimension *dim* equal to 100.\n",
        "- To compare embeddings usually *cosine* *similarity* is used.\n",
        "- Set *minCount* greater than 1 (for example, 2) if you don't want to get embeddings for extremely rare words.\n",
        "- Parameter *verbose = true* could show you the progress of the training process.\n",
        "- Set parameter *fileFormat* equals *labelDoc*.\n",
        "- Parameter *negSearchLimit* is responsible for a number of negative examples which is used during the training. We think that 10 will be enought for this task.\n",
        "- To increase a speed of training we recommend to set *learning rate* to 0.05."
      ]
    },
    {
      "cell_type": "markdown",
      "metadata": {
        "id": "YgtRCu4wAaZL",
        "colab_type": "text"
      },
      "source": [
        "Train StarSpace embeddings for unigrams on the train dataset. You don't need to change the format of the input data. Just don't forget to use prepared version of the training data. \n",
        "\n",
        "If you follow the instruction, the training process will take about 1 hour. The size of the embeddings' dictionary should be approximately 100 000 (number of lines in the result file). If you got significantly more than this number, try to check all the instructions above."
      ]
    },
    {
      "cell_type": "code",
      "metadata": {
        "id": "jFbH4yrcAaZN",
        "colab_type": "code",
        "colab": {
          "base_uri": "https://localhost:8080/",
          "height": 1000
        },
        "outputId": "e4f9ed6b-15a7-476d-da61-5686a16f1c36"
      },
      "source": [
        "######### TRAINING HAPPENING HERE #############\n",
        "%%bash\n",
        "\n",
        "./Starspace/starspace train \\\n",
        "-trainFile \"data/train.tsv\" \\\n",
        "-model Starspace_embeddings \\\n",
        "-trainMode 3 \\\n",
        "-adagrad true \\\n",
        "-ngrams 1 \\\n",
        "-epoch 5 \\\n",
        "-dim 100 \\\n",
        "-similarity \"cosine\" \\\n",
        "-minCount 2 \\\n",
        "-verbose true \\\n",
        "-fileFormat labelDoc \\\n",
        "-negSearchLimit 10 \\\n",
        "-lr 0.05"
      ],
      "execution_count": 55,
      "outputs": [
        {
          "output_type": "stream",
          "text": [
            "Arguments: \n",
            "lr: 0.05\n",
            "dim: 100\n",
            "epoch: 5\n",
            "maxTrainTime: 8640000\n",
            "validationPatience: 10\n",
            "saveEveryEpoch: 0\n",
            "loss: hinge\n",
            "margin: 0.05\n",
            "similarity: cosine\n",
            "maxNegSamples: 10\n",
            "negSearchLimit: 10\n",
            "batchSize: 5\n",
            "thread: 10\n",
            "minCount: 2\n",
            "minCountLabel: 1\n",
            "label: __label__\n",
            "label: __label__\n",
            "ngrams: 1\n",
            "bucket: 2000000\n",
            "adagrad: 1\n",
            "trainMode: 3\n",
            "fileFormat: labelDoc\n",
            "normalizeText: 0\n",
            "dropoutLHS: 0\n",
            "dropoutRHS: 0\n",
            "useWeight: 0\n",
            "weightSep: :\n",
            "Start to initialize starspace model.\n",
            "Build dict from input file : data/train.tsv\n",
            "Loading data from file : data/train.tsv\n",
            "Total number of examples loaded : 999799\n",
            "Initialized model weights. Model size :\n",
            "matrix : 205221 100\n",
            "Training epoch 0: 0.05 0.01\n",
            "\n",
            " ---+++                Epoch    0 Train error : 0.06557257 +++--- ☃\n",
            "Training epoch 1: 0.04 0.01\n",
            "\n",
            " ---+++                Epoch    1 Train error : 0.01414314 +++--- ☃\n",
            "Training epoch 2: 0.03 0.01\n",
            "\n",
            " ---+++                Epoch    2 Train error : 0.00904399 +++--- ☃\n",
            "Training epoch 3: 0.02 0.01\n",
            "\n",
            " ---+++                Epoch    3 Train error : 0.00698064 +++--- ☃\n",
            "Training epoch 4: 0.01 0.01\n",
            "\n",
            " ---+++                Epoch    4 Train error : 0.00599746 +++--- ☃\n",
            "Saving model to file : Starspace_embeddings\n",
            "Saving model in tsv format : Starspace_embeddings.tsv\n"
          ],
          "name": "stdout"
        },
        {
          "output_type": "stream",
          "text": [
            "\rRead 1M words\rRead 2M words\rRead 3M words\rRead 4M words\rRead 5M words\rRead 6M words\rRead 7M words\rRead 8M words\rRead 9M words\rRead 10M words\rRead 11M words\rRead 12M words\rRead 13M words\rRead 14M words\rRead 15M words\rRead 16M words\rRead 17M words\rRead 18M words\rRead 19M words\rRead 19M words\n",
            "Number of words in dictionary:  205221\n",
            "Number of labels in dictionary: 0\n",
            "\rEpoch: 0.1%  lr: 0.050000  loss: 0.597767  eta: 0h29m  tot: 0h0m0s  (0.0%)\rEpoch: 0.2%  lr: 0.050000  loss: 0.593763  eta: 0h30m  tot: 0h0m0s  (0.0%)\rEpoch: 0.3%  lr: 0.050000  loss: 0.513211  eta: 0h29m  tot: 0h0m0s  (0.1%)\rEpoch: 0.4%  lr: 0.050000  loss: 0.492321  eta: 0h28m  tot: 0h0m1s  (0.1%)\rEpoch: 0.4%  lr: 0.050000  loss: 0.454633  eta: 0h28m  tot: 0h0m1s  (0.1%)\rEpoch: 0.5%  lr: 0.049970  loss: 0.449129  eta: 0h28m  tot: 0h0m1s  (0.1%)\rEpoch: 0.6%  lr: 0.049960  loss: 0.431779  eta: 0h28m  tot: 0h0m2s  (0.1%)\rEpoch: 0.7%  lr: 0.049960  loss: 0.411789  eta: 0h27m  tot: 0h0m2s  (0.1%)\rEpoch: 0.8%  lr: 0.049960  loss: 0.396802  eta: 0h27m  tot: 0h0m2s  (0.2%)\rEpoch: 0.9%  lr: 0.049950  loss: 0.390857  eta: 0h27m  tot: 0h0m2s  (0.2%)\rEpoch: 1.0%  lr: 0.049940  loss: 0.382314  eta: 0h27m  tot: 0h0m3s  (0.2%)\rEpoch: 1.1%  lr: 0.049940  loss: 0.370009  eta: 0h27m  tot: 0h0m3s  (0.2%)\rEpoch: 1.2%  lr: 0.049940  loss: 0.363544  eta: 0h27m  tot: 0h0m3s  (0.2%)\rEpoch: 1.3%  lr: 0.049930  loss: 0.352473  eta: 0h26m  tot: 0h0m4s  (0.3%)\rEpoch: 1.3%  lr: 0.049920  loss: 0.344520  eta: 0h26m  tot: 0h0m4s  (0.3%)\rEpoch: 1.4%  lr: 0.049920  loss: 0.338294  eta: 0h26m  tot: 0h0m4s  (0.3%)\rEpoch: 1.5%  lr: 0.049920  loss: 0.332112  eta: 0h26m  tot: 0h0m4s  (0.3%)\rEpoch: 1.6%  lr: 0.049920  loss: 0.327392  eta: 0h26m  tot: 0h0m5s  (0.3%)\rEpoch: 1.7%  lr: 0.049910  loss: 0.323603  eta: 0h26m  tot: 0h0m5s  (0.3%)\rEpoch: 1.8%  lr: 0.049900  loss: 0.319698  eta: 0h26m  tot: 0h0m5s  (0.4%)\rEpoch: 1.9%  lr: 0.049890  loss: 0.313909  eta: 0h26m  tot: 0h0m5s  (0.4%)\rEpoch: 2.0%  lr: 0.049850  loss: 0.307698  eta: 0h25m  tot: 0h0m6s  (0.4%)\rEpoch: 2.1%  lr: 0.049850  loss: 0.304048  eta: 0h25m  tot: 0h0m6s  (0.4%)\rEpoch: 2.2%  lr: 0.049850  loss: 0.299377  eta: 0h25m  tot: 0h0m6s  (0.4%)\rEpoch: 2.2%  lr: 0.049830  loss: 0.295354  eta: 0h25m  tot: 0h0m6s  (0.4%)\rEpoch: 2.3%  lr: 0.049810  loss: 0.288970  eta: 0h25m  tot: 0h0m7s  (0.5%)\rEpoch: 2.4%  lr: 0.049810  loss: 0.284474  eta: 0h25m  tot: 0h0m7s  (0.5%)\rEpoch: 2.5%  lr: 0.049800  loss: 0.280497  eta: 0h25m  tot: 0h0m7s  (0.5%)\rEpoch: 2.6%  lr: 0.049800  loss: 0.276761  eta: 0h25m  tot: 0h0m8s  (0.5%)\rEpoch: 2.7%  lr: 0.049790  loss: 0.273539  eta: 0h25m  tot: 0h0m8s  (0.5%)\rEpoch: 2.8%  lr: 0.049790  loss: 0.269357  eta: 0h25m  tot: 0h0m8s  (0.6%)\rEpoch: 2.9%  lr: 0.049780  loss: 0.266600  eta: 0h25m  tot: 0h0m8s  (0.6%)\rEpoch: 3.0%  lr: 0.049770  loss: 0.264529  eta: 0h25m  tot: 0h0m9s  (0.6%)\rEpoch: 3.1%  lr: 0.049760  loss: 0.261750  eta: 0h25m  tot: 0h0m9s  (0.6%)\rEpoch: 3.1%  lr: 0.049740  loss: 0.260550  eta: 0h25m  tot: 0h0m9s  (0.6%)\rEpoch: 3.2%  lr: 0.049740  loss: 0.256998  eta: 0h24m  tot: 0h0m9s  (0.6%)\rEpoch: 3.3%  lr: 0.049740  loss: 0.256442  eta: 0h24m  tot: 0h0m10s  (0.7%)\rEpoch: 3.4%  lr: 0.049740  loss: 0.254553  eta: 0h24m  tot: 0h0m10s  (0.7%)\rEpoch: 3.5%  lr: 0.049710  loss: 0.252286  eta: 0h24m  tot: 0h0m10s  (0.7%)\rEpoch: 3.6%  lr: 0.049700  loss: 0.251178  eta: 0h24m  tot: 0h0m10s  (0.7%)\rEpoch: 3.7%  lr: 0.049670  loss: 0.249358  eta: 0h24m  tot: 0h0m11s  (0.7%)\rEpoch: 3.8%  lr: 0.049660  loss: 0.247740  eta: 0h24m  tot: 0h0m11s  (0.8%)\rEpoch: 3.9%  lr: 0.049620  loss: 0.245834  eta: 0h24m  tot: 0h0m11s  (0.8%)\rEpoch: 4.0%  lr: 0.049610  loss: 0.242501  eta: 0h24m  tot: 0h0m11s  (0.8%)\rEpoch: 4.0%  lr: 0.049610  loss: 0.239873  eta: 0h24m  tot: 0h0m12s  (0.8%)\rEpoch: 4.1%  lr: 0.049600  loss: 0.237509  eta: 0h24m  tot: 0h0m12s  (0.8%)\rEpoch: 4.2%  lr: 0.049600  loss: 0.235344  eta: 0h24m  tot: 0h0m12s  (0.8%)\rEpoch: 4.3%  lr: 0.049580  loss: 0.234478  eta: 0h24m  tot: 0h0m12s  (0.9%)\rEpoch: 4.4%  lr: 0.049560  loss: 0.232176  eta: 0h24m  tot: 0h0m12s  (0.9%)\rEpoch: 4.5%  lr: 0.049550  loss: 0.230566  eta: 0h24m  tot: 0h0m13s  (0.9%)\rEpoch: 4.6%  lr: 0.049540  loss: 0.228074  eta: 0h24m  tot: 0h0m13s  (0.9%)\rEpoch: 4.7%  lr: 0.049540  loss: 0.226420  eta: 0h24m  tot: 0h0m13s  (0.9%)\rEpoch: 4.8%  lr: 0.049540  loss: 0.225255  eta: 0h24m  tot: 0h0m13s  (1.0%)\rEpoch: 4.9%  lr: 0.049520  loss: 0.223114  eta: 0h23m  tot: 0h0m14s  (1.0%)\rEpoch: 5.0%  lr: 0.049520  loss: 0.222390  eta: 0h23m  tot: 0h0m14s  (1.0%)\rEpoch: 5.0%  lr: 0.049520  loss: 0.221132  eta: 0h23m  tot: 0h0m14s  (1.0%)\rEpoch: 5.1%  lr: 0.049500  loss: 0.220495  eta: 0h23m  tot: 0h0m14s  (1.0%)\rEpoch: 5.2%  lr: 0.049489  loss: 0.220190  eta: 0h23m  tot: 0h0m15s  (1.0%)\rEpoch: 5.3%  lr: 0.049479  loss: 0.219219  eta: 0h23m  tot: 0h0m15s  (1.1%)\rEpoch: 5.4%  lr: 0.049459  loss: 0.217480  eta: 0h23m  tot: 0h0m15s  (1.1%)\rEpoch: 5.5%  lr: 0.049459  loss: 0.216257  eta: 0h23m  tot: 0h0m15s  (1.1%)\rEpoch: 5.6%  lr: 0.049449  loss: 0.215024  eta: 0h23m  tot: 0h0m16s  (1.1%)\rEpoch: 5.7%  lr: 0.049439  loss: 0.213620  eta: 0h23m  tot: 0h0m16s  (1.1%)\rEpoch: 5.8%  lr: 0.049439  loss: 0.211598  eta: 0h23m  tot: 0h0m16s  (1.2%)\rEpoch: 5.9%  lr: 0.049429  loss: 0.209705  eta: 0h23m  tot: 0h0m16s  (1.2%)\rEpoch: 5.9%  lr: 0.049429  loss: 0.209007  eta: 0h23m  tot: 0h0m16s  (1.2%)\rEpoch: 6.0%  lr: 0.049429  loss: 0.207971  eta: 0h23m  tot: 0h0m17s  (1.2%)\rEpoch: 6.1%  lr: 0.049429  loss: 0.207428  eta: 0h23m  tot: 0h0m17s  (1.2%)\rEpoch: 6.2%  lr: 0.049419  loss: 0.206102  eta: 0h23m  tot: 0h0m17s  (1.2%)\rEpoch: 6.3%  lr: 0.049399  loss: 0.205472  eta: 0h23m  tot: 0h0m17s  (1.3%)\rEpoch: 6.4%  lr: 0.049389  loss: 0.204960  eta: 0h23m  tot: 0h0m18s  (1.3%)\rEpoch: 6.5%  lr: 0.049379  loss: 0.204551  eta: 0h23m  tot: 0h0m18s  (1.3%)\rEpoch: 6.6%  lr: 0.049339  loss: 0.203656  eta: 0h23m  tot: 0h0m18s  (1.3%)\rEpoch: 6.7%  lr: 0.049329  loss: 0.202237  eta: 0h23m  tot: 0h0m18s  (1.3%)\rEpoch: 6.8%  lr: 0.049329  loss: 0.200870  eta: 0h23m  tot: 0h0m19s  (1.4%)\rEpoch: 6.8%  lr: 0.049309  loss: 0.199966  eta: 0h23m  tot: 0h0m19s  (1.4%)\rEpoch: 6.9%  lr: 0.049299  loss: 0.198985  eta: 0h23m  tot: 0h0m19s  (1.4%)\rEpoch: 7.0%  lr: 0.049279  loss: 0.197629  eta: 0h23m  tot: 0h0m19s  (1.4%)\rEpoch: 7.1%  lr: 0.049279  loss: 0.196601  eta: 0h23m  tot: 0h0m19s  (1.4%)\rEpoch: 7.2%  lr: 0.049269  loss: 0.195735  eta: 0h22m  tot: 0h0m20s  (1.4%)\rEpoch: 7.3%  lr: 0.049259  loss: 0.194466  eta: 0h22m  tot: 0h0m20s  (1.5%)\rEpoch: 7.4%  lr: 0.049259  loss: 0.192905  eta: 0h22m  tot: 0h0m20s  (1.5%)\rEpoch: 7.5%  lr: 0.049249  loss: 0.191975  eta: 0h22m  tot: 0h0m20s  (1.5%)\rEpoch: 7.6%  lr: 0.049249  loss: 0.190841  eta: 0h22m  tot: 0h0m21s  (1.5%)\rEpoch: 7.7%  lr: 0.049249  loss: 0.190498  eta: 0h22m  tot: 0h0m21s  (1.5%)\rEpoch: 7.7%  lr: 0.049239  loss: 0.189666  eta: 0h22m  tot: 0h0m21s  (1.5%)\rEpoch: 7.8%  lr: 0.049219  loss: 0.188773  eta: 0h22m  tot: 0h0m21s  (1.6%)\rEpoch: 7.9%  lr: 0.049219  loss: 0.187813  eta: 0h22m  tot: 0h0m21s  (1.6%)\rEpoch: 8.0%  lr: 0.049219  loss: 0.186793  eta: 0h22m  tot: 0h0m22s  (1.6%)\rEpoch: 8.1%  lr: 0.049209  loss: 0.185832  eta: 0h22m  tot: 0h0m22s  (1.6%)\rEpoch: 8.2%  lr: 0.049199  loss: 0.184991  eta: 0h22m  tot: 0h0m22s  (1.6%)\rEpoch: 8.3%  lr: 0.049189  loss: 0.184025  eta: 0h22m  tot: 0h0m22s  (1.7%)\rEpoch: 8.4%  lr: 0.049189  loss: 0.182950  eta: 0h22m  tot: 0h0m22s  (1.7%)\rEpoch: 8.5%  lr: 0.049179  loss: 0.182524  eta: 0h22m  tot: 0h0m23s  (1.7%)\rEpoch: 8.6%  lr: 0.049169  loss: 0.182592  eta: 0h22m  tot: 0h0m23s  (1.7%)\rEpoch: 8.6%  lr: 0.049149  loss: 0.181701  eta: 0h22m  tot: 0h0m23s  (1.7%)\rEpoch: 8.7%  lr: 0.049139  loss: 0.181216  eta: 0h22m  tot: 0h0m23s  (1.7%)\rEpoch: 8.8%  lr: 0.049129  loss: 0.181257  eta: 0h22m  tot: 0h0m24s  (1.8%)\rEpoch: 8.9%  lr: 0.049099  loss: 0.180114  eta: 0h22m  tot: 0h0m24s  (1.8%)\rEpoch: 9.0%  lr: 0.049089  loss: 0.179147  eta: 0h22m  tot: 0h0m24s  (1.8%)\rEpoch: 9.1%  lr: 0.049079  loss: 0.178050  eta: 0h22m  tot: 0h0m24s  (1.8%)\rEpoch: 9.2%  lr: 0.049079  loss: 0.177699  eta: 0h22m  tot: 0h0m25s  (1.8%)\rEpoch: 9.3%  lr: 0.049079  loss: 0.176817  eta: 0h22m  tot: 0h0m25s  (1.9%)\rEpoch: 9.4%  lr: 0.049069  loss: 0.176109  eta: 0h22m  tot: 0h0m25s  (1.9%)\rEpoch: 9.5%  lr: 0.049039  loss: 0.175341  eta: 0h22m  tot: 0h0m25s  (1.9%)\rEpoch: 9.5%  lr: 0.049029  loss: 0.174825  eta: 0h22m  tot: 0h0m25s  (1.9%)\rEpoch: 9.6%  lr: 0.049019  loss: 0.174434  eta: 0h22m  tot: 0h0m26s  (1.9%)\rEpoch: 9.7%  lr: 0.048999  loss: 0.173658  eta: 0h22m  tot: 0h0m26s  (1.9%)\rEpoch: 9.8%  lr: 0.048989  loss: 0.173128  eta: 0h22m  tot: 0h0m26s  (2.0%)\rEpoch: 9.9%  lr: 0.048989  loss: 0.172105  eta: 0h22m  tot: 0h0m26s  (2.0%)\rEpoch: 10.0%  lr: 0.048959  loss: 0.171484  eta: 0h22m  tot: 0h0m27s  (2.0%)\rEpoch: 10.1%  lr: 0.048959  loss: 0.170956  eta: 0h22m  tot: 0h0m27s  (2.0%)\rEpoch: 10.2%  lr: 0.048939  loss: 0.170915  eta: 0h22m  tot: 0h0m27s  (2.0%)\rEpoch: 10.3%  lr: 0.048939  loss: 0.170261  eta: 0h21m  tot: 0h0m27s  (2.1%)\rEpoch: 10.4%  lr: 0.048939  loss: 0.169581  eta: 0h21m  tot: 0h0m27s  (2.1%)\rEpoch: 10.4%  lr: 0.048929  loss: 0.169216  eta: 0h21m  tot: 0h0m28s  (2.1%)\rEpoch: 10.5%  lr: 0.048919  loss: 0.168743  eta: 0h21m  tot: 0h0m28s  (2.1%)\rEpoch: 10.6%  lr: 0.048919  loss: 0.168102  eta: 0h21m  tot: 0h0m28s  (2.1%)\rEpoch: 10.7%  lr: 0.048919  loss: 0.167482  eta: 0h21m  tot: 0h0m28s  (2.1%)\rEpoch: 10.8%  lr: 0.048919  loss: 0.166672  eta: 0h21m  tot: 0h0m28s  (2.2%)\rEpoch: 10.9%  lr: 0.048919  loss: 0.166025  eta: 0h21m  tot: 0h0m29s  (2.2%)\rEpoch: 11.0%  lr: 0.048919  loss: 0.165531  eta: 0h21m  tot: 0h0m29s  (2.2%)\rEpoch: 11.1%  lr: 0.048899  loss: 0.164702  eta: 0h21m  tot: 0h0m29s  (2.2%)\rEpoch: 11.2%  lr: 0.048869  loss: 0.164505  eta: 0h21m  tot: 0h0m29s  (2.2%)\rEpoch: 11.3%  lr: 0.048859  loss: 0.163842  eta: 0h21m  tot: 0h0m30s  (2.3%)\rEpoch: 11.3%  lr: 0.048849  loss: 0.163286  eta: 0h21m  tot: 0h0m30s  (2.3%)\rEpoch: 11.4%  lr: 0.048849  loss: 0.162911  eta: 0h21m  tot: 0h0m30s  (2.3%)\rEpoch: 11.5%  lr: 0.048849  loss: 0.162337  eta: 0h21m  tot: 0h0m30s  (2.3%)\rEpoch: 11.6%  lr: 0.048839  loss: 0.161721  eta: 0h21m  tot: 0h0m30s  (2.3%)\rEpoch: 11.7%  lr: 0.048839  loss: 0.161188  eta: 0h21m  tot: 0h0m31s  (2.3%)\rEpoch: 11.8%  lr: 0.048839  loss: 0.160545  eta: 0h21m  tot: 0h0m31s  (2.4%)\rEpoch: 11.9%  lr: 0.048829  loss: 0.160127  eta: 0h21m  tot: 0h0m31s  (2.4%)\rEpoch: 12.0%  lr: 0.048809  loss: 0.159666  eta: 0h21m  tot: 0h0m31s  (2.4%)\rEpoch: 12.1%  lr: 0.048799  loss: 0.159380  eta: 0h21m  tot: 0h0m31s  (2.4%)\rEpoch: 12.2%  lr: 0.048789  loss: 0.159020  eta: 0h21m  tot: 0h0m32s  (2.4%)\rEpoch: 12.2%  lr: 0.048779  loss: 0.158412  eta: 0h21m  tot: 0h0m32s  (2.4%)\rEpoch: 12.3%  lr: 0.048779  loss: 0.158488  eta: 0h21m  tot: 0h0m32s  (2.5%)\rEpoch: 12.4%  lr: 0.048779  loss: 0.157546  eta: 0h21m  tot: 0h0m32s  (2.5%)\rEpoch: 12.5%  lr: 0.048769  loss: 0.157321  eta: 0h21m  tot: 0h0m33s  (2.5%)\rEpoch: 12.6%  lr: 0.048769  loss: 0.156938  eta: 0h21m  tot: 0h0m33s  (2.5%)\rEpoch: 12.7%  lr: 0.048759  loss: 0.156373  eta: 0h21m  tot: 0h0m33s  (2.5%)\rEpoch: 12.8%  lr: 0.048749  loss: 0.155635  eta: 0h21m  tot: 0h0m33s  (2.6%)\rEpoch: 12.9%  lr: 0.048749  loss: 0.155174  eta: 0h21m  tot: 0h0m33s  (2.6%)\rEpoch: 13.0%  lr: 0.048729  loss: 0.154815  eta: 0h21m  tot: 0h0m34s  (2.6%)\rEpoch: 13.1%  lr: 0.048719  loss: 0.154389  eta: 0h21m  tot: 0h0m34s  (2.6%)\rEpoch: 13.1%  lr: 0.048699  loss: 0.153834  eta: 0h21m  tot: 0h0m34s  (2.6%)\rEpoch: 13.2%  lr: 0.048689  loss: 0.153507  eta: 0h21m  tot: 0h0m34s  (2.6%)\rEpoch: 13.3%  lr: 0.048679  loss: 0.153251  eta: 0h21m  tot: 0h0m34s  (2.7%)\rEpoch: 13.4%  lr: 0.048679  loss: 0.152809  eta: 0h21m  tot: 0h0m35s  (2.7%)\rEpoch: 13.5%  lr: 0.048679  loss: 0.152284  eta: 0h21m  tot: 0h0m35s  (2.7%)\rEpoch: 13.6%  lr: 0.048669  loss: 0.151953  eta: 0h21m  tot: 0h0m35s  (2.7%)\rEpoch: 13.7%  lr: 0.048659  loss: 0.151395  eta: 0h21m  tot: 0h0m35s  (2.7%)\rEpoch: 13.8%  lr: 0.048659  loss: 0.151014  eta: 0h21m  tot: 0h0m35s  (2.8%)\rEpoch: 13.9%  lr: 0.048649  loss: 0.150608  eta: 0h21m  tot: 0h0m36s  (2.8%)\rEpoch: 14.0%  lr: 0.048639  loss: 0.150117  eta: 0h21m  tot: 0h0m36s  (2.8%)\rEpoch: 14.0%  lr: 0.048639  loss: 0.149618  eta: 0h21m  tot: 0h0m36s  (2.8%)\rEpoch: 14.1%  lr: 0.048619  loss: 0.149289  eta: 0h21m  tot: 0h0m36s  (2.8%)\rEpoch: 14.2%  lr: 0.048609  loss: 0.148657  eta: 0h21m  tot: 0h0m36s  (2.8%)\rEpoch: 14.3%  lr: 0.048609  loss: 0.148305  eta: 0h21m  tot: 0h0m37s  (2.9%)\rEpoch: 14.4%  lr: 0.048599  loss: 0.147902  eta: 0h21m  tot: 0h0m37s  (2.9%)\rEpoch: 14.5%  lr: 0.048579  loss: 0.147687  eta: 0h20m  tot: 0h0m37s  (2.9%)\rEpoch: 14.6%  lr: 0.048579  loss: 0.147408  eta: 0h20m  tot: 0h0m37s  (2.9%)\rEpoch: 14.7%  lr: 0.048569  loss: 0.146955  eta: 0h20m  tot: 0h0m38s  (2.9%)\rEpoch: 14.8%  lr: 0.048569  loss: 0.146593  eta: 0h20m  tot: 0h0m38s  (3.0%)\rEpoch: 14.9%  lr: 0.048569  loss: 0.146200  eta: 0h20m  tot: 0h0m38s  (3.0%)\rEpoch: 14.9%  lr: 0.048539  loss: 0.145880  eta: 0h20m  tot: 0h0m38s  (3.0%)\rEpoch: 15.0%  lr: 0.048509  loss: 0.145562  eta: 0h20m  tot: 0h0m38s  (3.0%)\rEpoch: 15.1%  lr: 0.048499  loss: 0.145196  eta: 0h20m  tot: 0h0m39s  (3.0%)\rEpoch: 15.2%  lr: 0.048489  loss: 0.145056  eta: 0h20m  tot: 0h0m39s  (3.0%)\rEpoch: 15.3%  lr: 0.048479  loss: 0.145079  eta: 0h20m  tot: 0h0m39s  (3.1%)\rEpoch: 15.4%  lr: 0.048468  loss: 0.144788  eta: 0h20m  tot: 0h0m39s  (3.1%)\rEpoch: 15.5%  lr: 0.048458  loss: 0.144297  eta: 0h20m  tot: 0h0m39s  (3.1%)\rEpoch: 15.6%  lr: 0.048458  loss: 0.143830  eta: 0h20m  tot: 0h0m40s  (3.1%)\rEpoch: 15.7%  lr: 0.048458  loss: 0.143681  eta: 0h20m  tot: 0h0m40s  (3.1%)\rEpoch: 15.8%  lr: 0.048458  loss: 0.143420  eta: 0h20m  tot: 0h0m40s  (3.2%)\rEpoch: 15.8%  lr: 0.048448  loss: 0.143082  eta: 0h20m  tot: 0h0m40s  (3.2%)\rEpoch: 15.9%  lr: 0.048438  loss: 0.142600  eta: 0h20m  tot: 0h0m41s  (3.2%)\rEpoch: 16.0%  lr: 0.048408  loss: 0.142288  eta: 0h20m  tot: 0h0m41s  (3.2%)\rEpoch: 16.1%  lr: 0.048398  loss: 0.141905  eta: 0h20m  tot: 0h0m41s  (3.2%)\rEpoch: 16.2%  lr: 0.048348  loss: 0.141500  eta: 0h20m  tot: 0h0m41s  (3.2%)\rEpoch: 16.3%  lr: 0.048338  loss: 0.141318  eta: 0h20m  tot: 0h0m41s  (3.3%)\rEpoch: 16.4%  lr: 0.048318  loss: 0.140979  eta: 0h20m  tot: 0h0m42s  (3.3%)\rEpoch: 16.5%  lr: 0.048288  loss: 0.140913  eta: 0h20m  tot: 0h0m42s  (3.3%)\rEpoch: 16.6%  lr: 0.048278  loss: 0.140562  eta: 0h20m  tot: 0h0m42s  (3.3%)\rEpoch: 16.7%  lr: 0.048278  loss: 0.140148  eta: 0h20m  tot: 0h0m42s  (3.3%)\rEpoch: 16.7%  lr: 0.048268  loss: 0.139858  eta: 0h20m  tot: 0h0m42s  (3.3%)\rEpoch: 16.8%  lr: 0.048258  loss: 0.139526  eta: 0h20m  tot: 0h0m43s  (3.4%)\rEpoch: 16.9%  lr: 0.048258  loss: 0.139267  eta: 0h20m  tot: 0h0m43s  (3.4%)\rEpoch: 17.0%  lr: 0.048248  loss: 0.139063  eta: 0h20m  tot: 0h0m43s  (3.4%)\rEpoch: 17.1%  lr: 0.048248  loss: 0.138654  eta: 0h20m  tot: 0h0m43s  (3.4%)\rEpoch: 17.2%  lr: 0.048248  loss: 0.138347  eta: 0h20m  tot: 0h0m43s  (3.4%)\rEpoch: 17.3%  lr: 0.048248  loss: 0.138113  eta: 0h20m  tot: 0h0m44s  (3.5%)\rEpoch: 17.4%  lr: 0.048248  loss: 0.137941  eta: 0h20m  tot: 0h0m44s  (3.5%)\rEpoch: 17.5%  lr: 0.048238  loss: 0.137719  eta: 0h20m  tot: 0h0m44s  (3.5%)\rEpoch: 17.6%  lr: 0.048228  loss: 0.137448  eta: 0h20m  tot: 0h0m44s  (3.5%)\rEpoch: 17.6%  lr: 0.048218  loss: 0.137189  eta: 0h20m  tot: 0h0m44s  (3.5%)\rEpoch: 17.7%  lr: 0.048198  loss: 0.136952  eta: 0h20m  tot: 0h0m45s  (3.5%)\rEpoch: 17.8%  lr: 0.048178  loss: 0.136647  eta: 0h20m  tot: 0h0m45s  (3.6%)\rEpoch: 17.9%  lr: 0.048138  loss: 0.136374  eta: 0h20m  tot: 0h0m45s  (3.6%)\rEpoch: 18.0%  lr: 0.048138  loss: 0.136196  eta: 0h20m  tot: 0h0m45s  (3.6%)\rEpoch: 18.1%  lr: 0.048138  loss: 0.135909  eta: 0h20m  tot: 0h0m46s  (3.6%)\rEpoch: 18.2%  lr: 0.048128  loss: 0.135692  eta: 0h20m  tot: 0h0m46s  (3.6%)\rEpoch: 18.3%  lr: 0.048118  loss: 0.135315  eta: 0h20m  tot: 0h0m46s  (3.7%)\rEpoch: 18.4%  lr: 0.048118  loss: 0.135042  eta: 0h20m  tot: 0h0m46s  (3.7%)\rEpoch: 18.5%  lr: 0.048118  loss: 0.134767  eta: 0h20m  tot: 0h0m46s  (3.7%)\rEpoch: 18.5%  lr: 0.048108  loss: 0.134714  eta: 0h20m  tot: 0h0m47s  (3.7%)\rEpoch: 18.6%  lr: 0.048078  loss: 0.134486  eta: 0h20m  tot: 0h0m47s  (3.7%)\rEpoch: 18.7%  lr: 0.048078  loss: 0.134108  eta: 0h20m  tot: 0h0m47s  (3.7%)\rEpoch: 18.8%  lr: 0.048068  loss: 0.133838  eta: 0h20m  tot: 0h0m47s  (3.8%)\rEpoch: 18.9%  lr: 0.048068  loss: 0.133574  eta: 0h20m  tot: 0h0m47s  (3.8%)\rEpoch: 19.0%  lr: 0.048068  loss: 0.133266  eta: 0h20m  tot: 0h0m48s  (3.8%)\rEpoch: 19.1%  lr: 0.048058  loss: 0.132994  eta: 0h20m  tot: 0h0m48s  (3.8%)\rEpoch: 19.2%  lr: 0.048058  loss: 0.132727  eta: 0h20m  tot: 0h0m48s  (3.8%)\rEpoch: 19.3%  lr: 0.048058  loss: 0.132322  eta: 0h20m  tot: 0h0m48s  (3.9%)\rEpoch: 19.4%  lr: 0.048048  loss: 0.132022  eta: 0h20m  tot: 0h0m48s  (3.9%)\rEpoch: 19.4%  lr: 0.048038  loss: 0.131593  eta: 0h20m  tot: 0h0m49s  (3.9%)\rEpoch: 19.5%  lr: 0.048038  loss: 0.131347  eta: 0h20m  tot: 0h0m49s  (3.9%)\rEpoch: 19.6%  lr: 0.048028  loss: 0.131168  eta: 0h20m  tot: 0h0m49s  (3.9%)\rEpoch: 19.7%  lr: 0.048028  loss: 0.131012  eta: 0h20m  tot: 0h0m49s  (3.9%)\rEpoch: 19.8%  lr: 0.048018  loss: 0.130817  eta: 0h20m  tot: 0h0m49s  (4.0%)\rEpoch: 19.9%  lr: 0.047998  loss: 0.130558  eta: 0h20m  tot: 0h0m50s  (4.0%)\rEpoch: 20.0%  lr: 0.047998  loss: 0.130365  eta: 0h20m  tot: 0h0m50s  (4.0%)\rEpoch: 20.1%  lr: 0.047998  loss: 0.129952  eta: 0h20m  tot: 0h0m50s  (4.0%)\rEpoch: 20.2%  lr: 0.047998  loss: 0.129823  eta: 0h20m  tot: 0h0m50s  (4.0%)\rEpoch: 20.3%  lr: 0.047988  loss: 0.129540  eta: 0h20m  tot: 0h0m50s  (4.1%)\rEpoch: 20.3%  lr: 0.047978  loss: 0.129310  eta: 0h20m  tot: 0h0m51s  (4.1%)\rEpoch: 20.4%  lr: 0.047968  loss: 0.128994  eta: 0h20m  tot: 0h0m51s  (4.1%)\rEpoch: 20.5%  lr: 0.047958  loss: 0.128704  eta: 0h20m  tot: 0h0m51s  (4.1%)\rEpoch: 20.6%  lr: 0.047958  loss: 0.128351  eta: 0h20m  tot: 0h0m51s  (4.1%)\rEpoch: 20.7%  lr: 0.047938  loss: 0.128026  eta: 0h20m  tot: 0h0m51s  (4.1%)\rEpoch: 20.8%  lr: 0.047938  loss: 0.127794  eta: 0h20m  tot: 0h0m52s  (4.2%)\rEpoch: 20.9%  lr: 0.047928  loss: 0.127466  eta: 0h20m  tot: 0h0m52s  (4.2%)\rEpoch: 21.0%  lr: 0.047928  loss: 0.127202  eta: 0h20m  tot: 0h0m52s  (4.2%)\rEpoch: 21.1%  lr: 0.047918  loss: 0.126833  eta: 0h19m  tot: 0h0m52s  (4.2%)\rEpoch: 21.2%  lr: 0.047918  loss: 0.126586  eta: 0h19m  tot: 0h0m52s  (4.2%)\rEpoch: 21.2%  lr: 0.047918  loss: 0.126280  eta: 0h19m  tot: 0h0m53s  (4.2%)\rEpoch: 21.3%  lr: 0.047918  loss: 0.126041  eta: 0h19m  tot: 0h0m53s  (4.3%)\rEpoch: 21.4%  lr: 0.047908  loss: 0.125895  eta: 0h19m  tot: 0h0m53s  (4.3%)\rEpoch: 21.5%  lr: 0.047898  loss: 0.125560  eta: 0h19m  tot: 0h0m53s  (4.3%)\rEpoch: 21.6%  lr: 0.047888  loss: 0.125388  eta: 0h19m  tot: 0h0m53s  (4.3%)\rEpoch: 21.7%  lr: 0.047868  loss: 0.125113  eta: 0h19m  tot: 0h0m54s  (4.3%)\rEpoch: 21.8%  lr: 0.047838  loss: 0.124861  eta: 0h19m  tot: 0h0m54s  (4.4%)\rEpoch: 21.9%  lr: 0.047828  loss: 0.124708  eta: 0h19m  tot: 0h0m54s  (4.4%)\rEpoch: 22.0%  lr: 0.047828  loss: 0.124521  eta: 0h19m  tot: 0h0m54s  (4.4%)\rEpoch: 22.1%  lr: 0.047818  loss: 0.124337  eta: 0h19m  tot: 0h0m54s  (4.4%)\rEpoch: 22.1%  lr: 0.047818  loss: 0.124113  eta: 0h19m  tot: 0h0m55s  (4.4%)\rEpoch: 22.2%  lr: 0.047808  loss: 0.123892  eta: 0h19m  tot: 0h0m55s  (4.4%)\rEpoch: 22.3%  lr: 0.047788  loss: 0.123660  eta: 0h19m  tot: 0h0m55s  (4.5%)\rEpoch: 22.4%  lr: 0.047778  loss: 0.123397  eta: 0h19m  tot: 0h0m55s  (4.5%)\rEpoch: 22.5%  lr: 0.047768  loss: 0.123211  eta: 0h19m  tot: 0h0m56s  (4.5%)\rEpoch: 22.6%  lr: 0.047768  loss: 0.123010  eta: 0h19m  tot: 0h0m56s  (4.5%)\rEpoch: 22.7%  lr: 0.047748  loss: 0.122871  eta: 0h19m  tot: 0h0m56s  (4.5%)\rEpoch: 22.8%  lr: 0.047738  loss: 0.122716  eta: 0h19m  tot: 0h0m56s  (4.6%)\rEpoch: 22.9%  lr: 0.047738  loss: 0.122483  eta: 0h19m  tot: 0h0m56s  (4.6%)\rEpoch: 23.0%  lr: 0.047738  loss: 0.122343  eta: 0h19m  tot: 0h0m57s  (4.6%)\rEpoch: 23.0%  lr: 0.047738  loss: 0.122273  eta: 0h19m  tot: 0h0m57s  (4.6%)\rEpoch: 23.1%  lr: 0.047738  loss: 0.122099  eta: 0h19m  tot: 0h0m57s  (4.6%)\rEpoch: 23.2%  lr: 0.047728  loss: 0.122004  eta: 0h19m  tot: 0h0m57s  (4.6%)\rEpoch: 23.3%  lr: 0.047718  loss: 0.121870  eta: 0h19m  tot: 0h0m57s  (4.7%)\rEpoch: 23.4%  lr: 0.047688  loss: 0.121511  eta: 0h19m  tot: 0h0m58s  (4.7%)\rEpoch: 23.5%  lr: 0.047678  loss: 0.121263  eta: 0h19m  tot: 0h0m58s  (4.7%)\rEpoch: 23.6%  lr: 0.047668  loss: 0.121139  eta: 0h19m  tot: 0h0m58s  (4.7%)\rEpoch: 23.7%  lr: 0.047668  loss: 0.120865  eta: 0h19m  tot: 0h0m58s  (4.7%)\rEpoch: 23.8%  lr: 0.047648  loss: 0.120684  eta: 0h19m  tot: 0h0m58s  (4.8%)\rEpoch: 23.9%  lr: 0.047628  loss: 0.120492  eta: 0h19m  tot: 0h0m59s  (4.8%)\rEpoch: 23.9%  lr: 0.047628  loss: 0.120322  eta: 0h19m  tot: 0h0m59s  (4.8%)\rEpoch: 24.0%  lr: 0.047618  loss: 0.120173  eta: 0h19m  tot: 0h0m59s  (4.8%)\rEpoch: 24.1%  lr: 0.047608  loss: 0.120135  eta: 0h19m  tot: 0h0m59s  (4.8%)\rEpoch: 24.2%  lr: 0.047598  loss: 0.119944  eta: 0h19m  tot: 0h0m59s  (4.8%)\rEpoch: 24.3%  lr: 0.047588  loss: 0.119815  eta: 0h19m  tot: 0h1m0s  (4.9%)\rEpoch: 24.4%  lr: 0.047578  loss: 0.119777  eta: 0h19m  tot: 0h1m0s  (4.9%)\rEpoch: 24.5%  lr: 0.047578  loss: 0.119595  eta: 0h19m  tot: 0h1m0s  (4.9%)\rEpoch: 24.6%  lr: 0.047568  loss: 0.119410  eta: 0h19m  tot: 0h1m0s  (4.9%)\rEpoch: 24.7%  lr: 0.047568  loss: 0.119244  eta: 0h19m  tot: 0h1m1s  (4.9%)\rEpoch: 24.8%  lr: 0.047558  loss: 0.119019  eta: 0h19m  tot: 0h1m1s  (5.0%)\rEpoch: 24.8%  lr: 0.047538  loss: 0.118877  eta: 0h19m  tot: 0h1m1s  (5.0%)\rEpoch: 24.9%  lr: 0.047528  loss: 0.118733  eta: 0h19m  tot: 0h1m1s  (5.0%)\rEpoch: 25.0%  lr: 0.047508  loss: 0.118536  eta: 0h19m  tot: 0h1m1s  (5.0%)\rEpoch: 25.1%  lr: 0.047508  loss: 0.118372  eta: 0h19m  tot: 0h1m2s  (5.0%)\rEpoch: 25.2%  lr: 0.047508  loss: 0.118218  eta: 0h19m  tot: 0h1m2s  (5.0%)\rEpoch: 25.3%  lr: 0.047508  loss: 0.118077  eta: 0h19m  tot: 0h1m2s  (5.1%)\rEpoch: 25.4%  lr: 0.047498  loss: 0.117834  eta: 0h19m  tot: 0h1m2s  (5.1%)\rEpoch: 25.5%  lr: 0.047488  loss: 0.117634  eta: 0h19m  tot: 0h1m2s  (5.1%)\rEpoch: 25.6%  lr: 0.047478  loss: 0.117379  eta: 0h19m  tot: 0h1m2s  (5.1%)\rEpoch: 25.7%  lr: 0.047478  loss: 0.117191  eta: 0h19m  tot: 0h1m3s  (5.1%)\rEpoch: 25.7%  lr: 0.047468  loss: 0.116981  eta: 0h19m  tot: 0h1m3s  (5.1%)\rEpoch: 25.8%  lr: 0.047457  loss: 0.116917  eta: 0h19m  tot: 0h1m3s  (5.2%)\rEpoch: 25.9%  lr: 0.047447  loss: 0.116773  eta: 0h19m  tot: 0h1m3s  (5.2%)\rEpoch: 26.0%  lr: 0.047437  loss: 0.116786  eta: 0h19m  tot: 0h1m4s  (5.2%)\rEpoch: 26.1%  lr: 0.047427  loss: 0.116606  eta: 0h19m  tot: 0h1m4s  (5.2%)\rEpoch: 26.2%  lr: 0.047417  loss: 0.116367  eta: 0h19m  tot: 0h1m4s  (5.2%)\rEpoch: 26.3%  lr: 0.047407  loss: 0.116159  eta: 0h19m  tot: 0h1m4s  (5.3%)\rEpoch: 26.4%  lr: 0.047407  loss: 0.116006  eta: 0h19m  tot: 0h1m4s  (5.3%)\rEpoch: 26.5%  lr: 0.047397  loss: 0.115831  eta: 0h19m  tot: 0h1m4s  (5.3%)\rEpoch: 26.6%  lr: 0.047387  loss: 0.115665  eta: 0h19m  tot: 0h1m5s  (5.3%)\rEpoch: 26.6%  lr: 0.047387  loss: 0.115471  eta: 0h19m  tot: 0h1m5s  (5.3%)\rEpoch: 26.7%  lr: 0.047387  loss: 0.115260  eta: 0h19m  tot: 0h1m5s  (5.3%)\rEpoch: 26.8%  lr: 0.047387  loss: 0.115241  eta: 0h19m  tot: 0h1m5s  (5.4%)\rEpoch: 26.9%  lr: 0.047377  loss: 0.115119  eta: 0h19m  tot: 0h1m6s  (5.4%)\rEpoch: 27.0%  lr: 0.047367  loss: 0.114954  eta: 0h19m  tot: 0h1m6s  (5.4%)\rEpoch: 27.1%  lr: 0.047357  loss: 0.114669  eta: 0h19m  tot: 0h1m6s  (5.4%)\rEpoch: 27.2%  lr: 0.047347  loss: 0.114566  eta: 0h19m  tot: 0h1m6s  (5.4%)\rEpoch: 27.3%  lr: 0.047347  loss: 0.114415  eta: 0h19m  tot: 0h1m6s  (5.5%)\rEpoch: 27.4%  lr: 0.047337  loss: 0.114261  eta: 0h19m  tot: 0h1m7s  (5.5%)\rEpoch: 27.5%  lr: 0.047327  loss: 0.114108  eta: 0h19m  tot: 0h1m7s  (5.5%)\rEpoch: 27.5%  lr: 0.047327  loss: 0.113940  eta: 0h19m  tot: 0h1m7s  (5.5%)\rEpoch: 27.6%  lr: 0.047317  loss: 0.113807  eta: 0h19m  tot: 0h1m7s  (5.5%)\rEpoch: 27.7%  lr: 0.047317  loss: 0.113621  eta: 0h19m  tot: 0h1m7s  (5.5%)\rEpoch: 27.8%  lr: 0.047307  loss: 0.113453  eta: 0h19m  tot: 0h1m8s  (5.6%)\rEpoch: 27.9%  lr: 0.047297  loss: 0.113252  eta: 0h19m  tot: 0h1m8s  (5.6%)\rEpoch: 28.0%  lr: 0.047267  loss: 0.113136  eta: 0h19m  tot: 0h1m8s  (5.6%)\rEpoch: 28.1%  lr: 0.047267  loss: 0.112905  eta: 0h19m  tot: 0h1m8s  (5.6%)\rEpoch: 28.2%  lr: 0.047227  loss: 0.112818  eta: 0h19m  tot: 0h1m8s  (5.6%)\rEpoch: 28.3%  lr: 0.047227  loss: 0.112729  eta: 0h19m  tot: 0h1m9s  (5.7%)\rEpoch: 28.4%  lr: 0.047217  loss: 0.112529  eta: 0h19m  tot: 0h1m9s  (5.7%)\rEpoch: 28.4%  lr: 0.047217  loss: 0.112390  eta: 0h19m  tot: 0h1m9s  (5.7%)\rEpoch: 28.5%  lr: 0.047217  loss: 0.112303  eta: 0h19m  tot: 0h1m9s  (5.7%)\rEpoch: 28.6%  lr: 0.047217  loss: 0.112107  eta: 0h19m  tot: 0h1m9s  (5.7%)\rEpoch: 28.7%  lr: 0.047207  loss: 0.111981  eta: 0h19m  tot: 0h1m10s  (5.7%)\rEpoch: 28.8%  lr: 0.047207  loss: 0.111823  eta: 0h19m  tot: 0h1m10s  (5.8%)\rEpoch: 28.9%  lr: 0.047187  loss: 0.111754  eta: 0h19m  tot: 0h1m10s  (5.8%)\rEpoch: 29.0%  lr: 0.047187  loss: 0.111627  eta: 0h19m  tot: 0h1m10s  (5.8%)\rEpoch: 29.1%  lr: 0.047187  loss: 0.111441  eta: 0h19m  tot: 0h1m10s  (5.8%)\rEpoch: 29.2%  lr: 0.047187  loss: 0.111319  eta: 0h19m  tot: 0h1m11s  (5.8%)\rEpoch: 29.3%  lr: 0.047167  loss: 0.111184  eta: 0h19m  tot: 0h1m11s  (5.9%)\rEpoch: 29.3%  lr: 0.047167  loss: 0.111015  eta: 0h19m  tot: 0h1m11s  (5.9%)\rEpoch: 29.4%  lr: 0.047157  loss: 0.110843  eta: 0h19m  tot: 0h1m11s  (5.9%)\rEpoch: 29.5%  lr: 0.047137  loss: 0.110711  eta: 0h19m  tot: 0h1m11s  (5.9%)\rEpoch: 29.6%  lr: 0.047137  loss: 0.110544  eta: 0h19m  tot: 0h1m12s  (5.9%)\rEpoch: 29.7%  lr: 0.047127  loss: 0.110375  eta: 0h19m  tot: 0h1m12s  (5.9%)\rEpoch: 29.8%  lr: 0.047117  loss: 0.110284  eta: 0h19m  tot: 0h1m12s  (6.0%)\rEpoch: 29.9%  lr: 0.047117  loss: 0.110140  eta: 0h19m  tot: 0h1m12s  (6.0%)\rEpoch: 30.0%  lr: 0.047107  loss: 0.109959  eta: 0h19m  tot: 0h1m12s  (6.0%)\rEpoch: 30.1%  lr: 0.047107  loss: 0.109772  eta: 0h19m  tot: 0h1m13s  (6.0%)\rEpoch: 30.2%  lr: 0.047107  loss: 0.109635  eta: 0h18m  tot: 0h1m13s  (6.0%)\rEpoch: 30.2%  lr: 0.047107  loss: 0.109538  eta: 0h18m  tot: 0h1m13s  (6.0%)\rEpoch: 30.3%  lr: 0.047087  loss: 0.109414  eta: 0h18m  tot: 0h1m13s  (6.1%)\rEpoch: 30.4%  lr: 0.047087  loss: 0.109297  eta: 0h18m  tot: 0h1m13s  (6.1%)\rEpoch: 30.5%  lr: 0.047087  loss: 0.109185  eta: 0h18m  tot: 0h1m13s  (6.1%)\rEpoch: 30.6%  lr: 0.047077  loss: 0.109025  eta: 0h18m  tot: 0h1m14s  (6.1%)\rEpoch: 30.7%  lr: 0.047077  loss: 0.108866  eta: 0h18m  tot: 0h1m14s  (6.1%)\rEpoch: 30.8%  lr: 0.047067  loss: 0.108721  eta: 0h18m  tot: 0h1m14s  (6.2%)\rEpoch: 30.9%  lr: 0.047057  loss: 0.108568  eta: 0h18m  tot: 0h1m14s  (6.2%)\rEpoch: 31.0%  lr: 0.047057  loss: 0.108436  eta: 0h18m  tot: 0h1m14s  (6.2%)\rEpoch: 31.1%  lr: 0.047057  loss: 0.108272  eta: 0h18m  tot: 0h1m15s  (6.2%)\rEpoch: 31.1%  lr: 0.047057  loss: 0.108125  eta: 0h18m  tot: 0h1m15s  (6.2%)\rEpoch: 31.2%  lr: 0.047047  loss: 0.107967  eta: 0h18m  tot: 0h1m15s  (6.2%)\rEpoch: 31.3%  lr: 0.047027  loss: 0.107906  eta: 0h18m  tot: 0h1m15s  (6.3%)\rEpoch: 31.4%  lr: 0.047017  loss: 0.107756  eta: 0h18m  tot: 0h1m15s  (6.3%)\rEpoch: 31.5%  lr: 0.047007  loss: 0.107579  eta: 0h18m  tot: 0h1m16s  (6.3%)\rEpoch: 31.6%  lr: 0.047007  loss: 0.107414  eta: 0h18m  tot: 0h1m16s  (6.3%)\rEpoch: 31.7%  lr: 0.047007  loss: 0.107335  eta: 0h18m  tot: 0h1m16s  (6.3%)\rEpoch: 31.8%  lr: 0.047007  loss: 0.107184  eta: 0h18m  tot: 0h1m16s  (6.4%)\rEpoch: 31.9%  lr: 0.047007  loss: 0.107033  eta: 0h18m  tot: 0h1m16s  (6.4%)\rEpoch: 32.0%  lr: 0.046987  loss: 0.107009  eta: 0h18m  tot: 0h1m17s  (6.4%)\rEpoch: 32.0%  lr: 0.046987  loss: 0.106897  eta: 0h18m  tot: 0h1m17s  (6.4%)\rEpoch: 32.1%  lr: 0.046987  loss: 0.106773  eta: 0h18m  tot: 0h1m17s  (6.4%)\rEpoch: 32.2%  lr: 0.046977  loss: 0.106748  eta: 0h18m  tot: 0h1m17s  (6.4%)\rEpoch: 32.3%  lr: 0.046967  loss: 0.106634  eta: 0h18m  tot: 0h1m17s  (6.5%)\rEpoch: 32.4%  lr: 0.046957  loss: 0.106494  eta: 0h18m  tot: 0h1m18s  (6.5%)\rEpoch: 32.5%  lr: 0.046957  loss: 0.106406  eta: 0h18m  tot: 0h1m18s  (6.5%)\rEpoch: 32.6%  lr: 0.046947  loss: 0.106262  eta: 0h18m  tot: 0h1m18s  (6.5%)\rEpoch: 32.7%  lr: 0.046947  loss: 0.106131  eta: 0h18m  tot: 0h1m18s  (6.5%)\rEpoch: 32.8%  lr: 0.046947  loss: 0.105981  eta: 0h18m  tot: 0h1m18s  (6.6%)\rEpoch: 32.9%  lr: 0.046937  loss: 0.105820  eta: 0h18m  tot: 0h1m19s  (6.6%)\rEpoch: 32.9%  lr: 0.046937  loss: 0.105689  eta: 0h18m  tot: 0h1m19s  (6.6%)\rEpoch: 33.0%  lr: 0.046937  loss: 0.105547  eta: 0h18m  tot: 0h1m19s  (6.6%)\rEpoch: 33.1%  lr: 0.046937  loss: 0.105396  eta: 0h18m  tot: 0h1m19s  (6.6%)\rEpoch: 33.2%  lr: 0.046937  loss: 0.105262  eta: 0h18m  tot: 0h1m19s  (6.6%)\rEpoch: 33.3%  lr: 0.046927  loss: 0.105144  eta: 0h18m  tot: 0h1m20s  (6.7%)\rEpoch: 33.4%  lr: 0.046917  loss: 0.104994  eta: 0h18m  tot: 0h1m20s  (6.7%)\rEpoch: 33.5%  lr: 0.046907  loss: 0.104903  eta: 0h18m  tot: 0h1m20s  (6.7%)\rEpoch: 33.6%  lr: 0.046897  loss: 0.104923  eta: 0h18m  tot: 0h1m20s  (6.7%)\rEpoch: 33.7%  lr: 0.046897  loss: 0.104794  eta: 0h18m  tot: 0h1m20s  (6.7%)\rEpoch: 33.8%  lr: 0.046897  loss: 0.104668  eta: 0h18m  tot: 0h1m21s  (6.8%)\rEpoch: 33.8%  lr: 0.046887  loss: 0.104519  eta: 0h18m  tot: 0h1m21s  (6.8%)\rEpoch: 33.9%  lr: 0.046877  loss: 0.104451  eta: 0h18m  tot: 0h1m21s  (6.8%)\rEpoch: 34.0%  lr: 0.046877  loss: 0.104305  eta: 0h18m  tot: 0h1m21s  (6.8%)\rEpoch: 34.1%  lr: 0.046877  loss: 0.104213  eta: 0h18m  tot: 0h1m21s  (6.8%)\rEpoch: 34.2%  lr: 0.046857  loss: 0.104118  eta: 0h18m  tot: 0h1m22s  (6.8%)\rEpoch: 34.3%  lr: 0.046837  loss: 0.103986  eta: 0h18m  tot: 0h1m22s  (6.9%)\rEpoch: 34.4%  lr: 0.046817  loss: 0.103935  eta: 0h18m  tot: 0h1m22s  (6.9%)\rEpoch: 34.5%  lr: 0.046807  loss: 0.103856  eta: 0h18m  tot: 0h1m22s  (6.9%)\rEpoch: 34.6%  lr: 0.046767  loss: 0.103782  eta: 0h18m  tot: 0h1m23s  (6.9%)\rEpoch: 34.7%  lr: 0.046757  loss: 0.103793  eta: 0h18m  tot: 0h1m23s  (6.9%)\rEpoch: 34.7%  lr: 0.046757  loss: 0.103640  eta: 0h18m  tot: 0h1m23s  (6.9%)\rEpoch: 34.8%  lr: 0.046757  loss: 0.103463  eta: 0h18m  tot: 0h1m23s  (7.0%)\rEpoch: 34.9%  lr: 0.046737  loss: 0.103364  eta: 0h18m  tot: 0h1m23s  (7.0%)\rEpoch: 35.0%  lr: 0.046737  loss: 0.103238  eta: 0h18m  tot: 0h1m24s  (7.0%)\rEpoch: 35.1%  lr: 0.046717  loss: 0.103153  eta: 0h18m  tot: 0h1m24s  (7.0%)\rEpoch: 35.2%  lr: 0.046717  loss: 0.102973  eta: 0h18m  tot: 0h1m24s  (7.0%)\rEpoch: 35.3%  lr: 0.046697  loss: 0.102860  eta: 0h18m  tot: 0h1m24s  (7.1%)\rEpoch: 35.4%  lr: 0.046687  loss: 0.102747  eta: 0h18m  tot: 0h1m24s  (7.1%)\rEpoch: 35.5%  lr: 0.046687  loss: 0.102621  eta: 0h18m  tot: 0h1m24s  (7.1%)\rEpoch: 35.6%  lr: 0.046667  loss: 0.102556  eta: 0h18m  tot: 0h1m25s  (7.1%)\rEpoch: 35.6%  lr: 0.046647  loss: 0.102447  eta: 0h18m  tot: 0h1m25s  (7.1%)\rEpoch: 35.7%  lr: 0.046637  loss: 0.102440  eta: 0h18m  tot: 0h1m25s  (7.1%)\rEpoch: 35.8%  lr: 0.046627  loss: 0.102297  eta: 0h18m  tot: 0h1m25s  (7.2%)\rEpoch: 35.9%  lr: 0.046617  loss: 0.102238  eta: 0h18m  tot: 0h1m26s  (7.2%)\rEpoch: 36.0%  lr: 0.046617  loss: 0.102098  eta: 0h18m  tot: 0h1m26s  (7.2%)\rEpoch: 36.1%  lr: 0.046617  loss: 0.102007  eta: 0h18m  tot: 0h1m26s  (7.2%)\rEpoch: 36.2%  lr: 0.046597  loss: 0.101866  eta: 0h18m  tot: 0h1m26s  (7.2%)\rEpoch: 36.3%  lr: 0.046587  loss: 0.101749  eta: 0h18m  tot: 0h1m26s  (7.3%)\rEpoch: 36.4%  lr: 0.046557  loss: 0.101621  eta: 0h18m  tot: 0h1m27s  (7.3%)\rEpoch: 36.5%  lr: 0.046557  loss: 0.101492  eta: 0h18m  tot: 0h1m27s  (7.3%)\rEpoch: 36.5%  lr: 0.046547  loss: 0.101382  eta: 0h18m  tot: 0h1m27s  (7.3%)\rEpoch: 36.6%  lr: 0.046527  loss: 0.101299  eta: 0h18m  tot: 0h1m27s  (7.3%)\rEpoch: 36.7%  lr: 0.046527  loss: 0.101188  eta: 0h18m  tot: 0h1m27s  (7.3%)\rEpoch: 36.8%  lr: 0.046527  loss: 0.101046  eta: 0h18m  tot: 0h1m28s  (7.4%)\rEpoch: 36.9%  lr: 0.046507  loss: 0.101008  eta: 0h18m  tot: 0h1m28s  (7.4%)\rEpoch: 37.0%  lr: 0.046497  loss: 0.100935  eta: 0h18m  tot: 0h1m28s  (7.4%)\rEpoch: 37.1%  lr: 0.046497  loss: 0.100866  eta: 0h18m  tot: 0h1m28s  (7.4%)\rEpoch: 37.2%  lr: 0.046497  loss: 0.100734  eta: 0h18m  tot: 0h1m28s  (7.4%)\rEpoch: 37.3%  lr: 0.046477  loss: 0.100566  eta: 0h18m  tot: 0h1m28s  (7.5%)\rEpoch: 37.4%  lr: 0.046467  loss: 0.100504  eta: 0h18m  tot: 0h1m29s  (7.5%)\rEpoch: 37.4%  lr: 0.046467  loss: 0.100356  eta: 0h18m  tot: 0h1m29s  (7.5%)\rEpoch: 37.5%  lr: 0.046447  loss: 0.100189  eta: 0h18m  tot: 0h1m29s  (7.5%)\rEpoch: 37.6%  lr: 0.046447  loss: 0.100030  eta: 0h18m  tot: 0h1m29s  (7.5%)\rEpoch: 37.7%  lr: 0.046447  loss: 0.099887  eta: 0h18m  tot: 0h1m29s  (7.5%)\rEpoch: 37.8%  lr: 0.046436  loss: 0.099745  eta: 0h18m  tot: 0h1m30s  (7.6%)\rEpoch: 37.9%  lr: 0.046426  loss: 0.099613  eta: 0h18m  tot: 0h1m30s  (7.6%)\rEpoch: 38.0%  lr: 0.046416  loss: 0.099534  eta: 0h18m  tot: 0h1m30s  (7.6%)\rEpoch: 38.1%  lr: 0.046386  loss: 0.099491  eta: 0h18m  tot: 0h1m30s  (7.6%)\rEpoch: 38.2%  lr: 0.046376  loss: 0.099341  eta: 0h18m  tot: 0h1m30s  (7.6%)\rEpoch: 38.3%  lr: 0.046366  loss: 0.099184  eta: 0h18m  tot: 0h1m31s  (7.7%)\rEpoch: 38.3%  lr: 0.046356  loss: 0.099130  eta: 0h18m  tot: 0h1m31s  (7.7%)\rEpoch: 38.4%  lr: 0.046336  loss: 0.098982  eta: 0h18m  tot: 0h1m31s  (7.7%)\rEpoch: 38.5%  lr: 0.046326  loss: 0.098901  eta: 0h18m  tot: 0h1m31s  (7.7%)\rEpoch: 38.6%  lr: 0.046316  loss: 0.098829  eta: 0h18m  tot: 0h1m31s  (7.7%)\rEpoch: 38.7%  lr: 0.046286  loss: 0.098708  eta: 0h18m  tot: 0h1m32s  (7.7%)\rEpoch: 38.8%  lr: 0.046276  loss: 0.098622  eta: 0h18m  tot: 0h1m32s  (7.8%)\rEpoch: 38.9%  lr: 0.046266  loss: 0.098546  eta: 0h18m  tot: 0h1m32s  (7.8%)\rEpoch: 39.0%  lr: 0.046236  loss: 0.098460  eta: 0h18m  tot: 0h1m32s  (7.8%)\rEpoch: 39.1%  lr: 0.046236  loss: 0.098446  eta: 0h18m  tot: 0h1m32s  (7.8%)\rEpoch: 39.2%  lr: 0.046236  loss: 0.098320  eta: 0h18m  tot: 0h1m33s  (7.8%)\rEpoch: 39.2%  lr: 0.046226  loss: 0.098187  eta: 0h18m  tot: 0h1m33s  (7.8%)\rEpoch: 39.3%  lr: 0.046216  loss: 0.098056  eta: 0h18m  tot: 0h1m33s  (7.9%)\rEpoch: 39.4%  lr: 0.046216  loss: 0.097974  eta: 0h18m  tot: 0h1m33s  (7.9%)\rEpoch: 39.5%  lr: 0.046206  loss: 0.097884  eta: 0h18m  tot: 0h1m33s  (7.9%)\rEpoch: 39.6%  lr: 0.046206  loss: 0.097839  eta: 0h18m  tot: 0h1m34s  (7.9%)\rEpoch: 39.7%  lr: 0.046206  loss: 0.097763  eta: 0h18m  tot: 0h1m34s  (7.9%)\rEpoch: 39.8%  lr: 0.046206  loss: 0.097662  eta: 0h18m  tot: 0h1m34s  (8.0%)\rEpoch: 39.9%  lr: 0.046206  loss: 0.097527  eta: 0h18m  tot: 0h1m34s  (8.0%)\rEpoch: 40.0%  lr: 0.046206  loss: 0.097466  eta: 0h18m  tot: 0h1m34s  (8.0%)\rEpoch: 40.1%  lr: 0.046206  loss: 0.097336  eta: 0h18m  tot: 0h1m34s  (8.0%)\rEpoch: 40.1%  lr: 0.046196  loss: 0.097211  eta: 0h18m  tot: 0h1m35s  (8.0%)\rEpoch: 40.2%  lr: 0.046196  loss: 0.097061  eta: 0h18m  tot: 0h1m35s  (8.0%)\rEpoch: 40.3%  lr: 0.046186  loss: 0.096999  eta: 0h18m  tot: 0h1m35s  (8.1%)\rEpoch: 40.4%  lr: 0.046176  loss: 0.096881  eta: 0h18m  tot: 0h1m35s  (8.1%)\rEpoch: 40.5%  lr: 0.046166  loss: 0.096784  eta: 0h18m  tot: 0h1m35s  (8.1%)\rEpoch: 40.6%  lr: 0.046166  loss: 0.096661  eta: 0h18m  tot: 0h1m36s  (8.1%)\rEpoch: 40.7%  lr: 0.046156  loss: 0.096577  eta: 0h18m  tot: 0h1m36s  (8.1%)\rEpoch: 40.8%  lr: 0.046136  loss: 0.096548  eta: 0h18m  tot: 0h1m36s  (8.2%)\rEpoch: 40.9%  lr: 0.046126  loss: 0.096424  eta: 0h18m  tot: 0h1m36s  (8.2%)\rEpoch: 41.0%  lr: 0.046106  loss: 0.096349  eta: 0h18m  tot: 0h1m36s  (8.2%)\rEpoch: 41.0%  lr: 0.046106  loss: 0.096275  eta: 0h18m  tot: 0h1m37s  (8.2%)\rEpoch: 41.1%  lr: 0.046106  loss: 0.096174  eta: 0h18m  tot: 0h1m37s  (8.2%)\rEpoch: 41.2%  lr: 0.046086  loss: 0.096116  eta: 0h18m  tot: 0h1m37s  (8.2%)\rEpoch: 41.3%  lr: 0.046076  loss: 0.096071  eta: 0h18m  tot: 0h1m37s  (8.3%)\rEpoch: 41.4%  lr: 0.046076  loss: 0.095965  eta: 0h18m  tot: 0h1m37s  (8.3%)\rEpoch: 41.5%  lr: 0.046056  loss: 0.095893  eta: 0h18m  tot: 0h1m38s  (8.3%)\rEpoch: 41.6%  lr: 0.046056  loss: 0.095774  eta: 0h18m  tot: 0h1m38s  (8.3%)\rEpoch: 41.7%  lr: 0.046036  loss: 0.095697  eta: 0h18m  tot: 0h1m38s  (8.3%)\rEpoch: 41.8%  lr: 0.046036  loss: 0.095605  eta: 0h18m  tot: 0h1m38s  (8.4%)\rEpoch: 41.9%  lr: 0.046026  loss: 0.095489  eta: 0h18m  tot: 0h1m38s  (8.4%)\rEpoch: 41.9%  lr: 0.046026  loss: 0.095354  eta: 0h18m  tot: 0h1m39s  (8.4%)\rEpoch: 42.0%  lr: 0.045996  loss: 0.095258  eta: 0h18m  tot: 0h1m39s  (8.4%)\rEpoch: 42.1%  lr: 0.045996  loss: 0.095141  eta: 0h18m  tot: 0h1m39s  (8.4%)\rEpoch: 42.2%  lr: 0.045996  loss: 0.095092  eta: 0h17m  tot: 0h1m39s  (8.4%)\rEpoch: 42.3%  lr: 0.045986  loss: 0.094979  eta: 0h17m  tot: 0h1m39s  (8.5%)\rEpoch: 42.4%  lr: 0.045986  loss: 0.094905  eta: 0h17m  tot: 0h1m39s  (8.5%)\rEpoch: 42.5%  lr: 0.045966  loss: 0.094775  eta: 0h17m  tot: 0h1m40s  (8.5%)\rEpoch: 42.6%  lr: 0.045956  loss: 0.094683  eta: 0h17m  tot: 0h1m40s  (8.5%)\rEpoch: 42.7%  lr: 0.045926  loss: 0.094616  eta: 0h17m  tot: 0h1m40s  (8.5%)\rEpoch: 42.8%  lr: 0.045916  loss: 0.094543  eta: 0h17m  tot: 0h1m40s  (8.6%)\rEpoch: 42.8%  lr: 0.045906  loss: 0.094432  eta: 0h17m  tot: 0h1m40s  (8.6%)\rEpoch: 42.9%  lr: 0.045886  loss: 0.094364  eta: 0h17m  tot: 0h1m41s  (8.6%)\rEpoch: 43.0%  lr: 0.045866  loss: 0.094222  eta: 0h17m  tot: 0h1m41s  (8.6%)\rEpoch: 43.1%  lr: 0.045856  loss: 0.094091  eta: 0h17m  tot: 0h1m41s  (8.6%)\rEpoch: 43.2%  lr: 0.045856  loss: 0.094013  eta: 0h17m  tot: 0h1m41s  (8.6%)\rEpoch: 43.3%  lr: 0.045856  loss: 0.093869  eta: 0h17m  tot: 0h1m41s  (8.7%)\rEpoch: 43.4%  lr: 0.045846  loss: 0.093835  eta: 0h17m  tot: 0h1m42s  (8.7%)\rEpoch: 43.5%  lr: 0.045846  loss: 0.093718  eta: 0h17m  tot: 0h1m42s  (8.7%)\rEpoch: 43.6%  lr: 0.045846  loss: 0.093628  eta: 0h17m  tot: 0h1m42s  (8.7%)\rEpoch: 43.7%  lr: 0.045836  loss: 0.093541  eta: 0h17m  tot: 0h1m42s  (8.7%)\rEpoch: 43.7%  lr: 0.045826  loss: 0.093485  eta: 0h17m  tot: 0h1m42s  (8.7%)\rEpoch: 43.8%  lr: 0.045826  loss: 0.093459  eta: 0h17m  tot: 0h1m43s  (8.8%)\rEpoch: 43.9%  lr: 0.045806  loss: 0.093398  eta: 0h17m  tot: 0h1m43s  (8.8%)\rEpoch: 44.0%  lr: 0.045806  loss: 0.093288  eta: 0h17m  tot: 0h1m43s  (8.8%)\rEpoch: 44.1%  lr: 0.045806  loss: 0.093162  eta: 0h17m  tot: 0h1m43s  (8.8%)\rEpoch: 44.2%  lr: 0.045786  loss: 0.093130  eta: 0h17m  tot: 0h1m43s  (8.8%)\rEpoch: 44.3%  lr: 0.045776  loss: 0.092992  eta: 0h17m  tot: 0h1m44s  (8.9%)\rEpoch: 44.4%  lr: 0.045766  loss: 0.092858  eta: 0h17m  tot: 0h1m44s  (8.9%)\rEpoch: 44.5%  lr: 0.045766  loss: 0.092789  eta: 0h17m  tot: 0h1m44s  (8.9%)\rEpoch: 44.6%  lr: 0.045766  loss: 0.092699  eta: 0h17m  tot: 0h1m44s  (8.9%)\rEpoch: 44.6%  lr: 0.045726  loss: 0.092665  eta: 0h17m  tot: 0h1m44s  (8.9%)\rEpoch: 44.7%  lr: 0.045726  loss: 0.092570  eta: 0h17m  tot: 0h1m45s  (8.9%)\rEpoch: 44.8%  lr: 0.045696  loss: 0.092504  eta: 0h17m  tot: 0h1m45s  (9.0%)\rEpoch: 44.9%  lr: 0.045696  loss: 0.092379  eta: 0h17m  tot: 0h1m45s  (9.0%)\rEpoch: 45.0%  lr: 0.045676  loss: 0.092301  eta: 0h17m  tot: 0h1m45s  (9.0%)\rEpoch: 45.1%  lr: 0.045656  loss: 0.092257  eta: 0h17m  tot: 0h1m45s  (9.0%)\rEpoch: 45.2%  lr: 0.045646  loss: 0.092155  eta: 0h17m  tot: 0h1m46s  (9.0%)\rEpoch: 45.3%  lr: 0.045646  loss: 0.092034  eta: 0h17m  tot: 0h1m46s  (9.1%)\rEpoch: 45.4%  lr: 0.045646  loss: 0.091946  eta: 0h17m  tot: 0h1m46s  (9.1%)\rEpoch: 45.5%  lr: 0.045646  loss: 0.091885  eta: 0h17m  tot: 0h1m46s  (9.1%)\rEpoch: 45.5%  lr: 0.045636  loss: 0.091789  eta: 0h17m  tot: 0h1m46s  (9.1%)\rEpoch: 45.6%  lr: 0.045636  loss: 0.091734  eta: 0h17m  tot: 0h1m47s  (9.1%)\rEpoch: 45.7%  lr: 0.045616  loss: 0.091649  eta: 0h17m  tot: 0h1m47s  (9.1%)\rEpoch: 45.8%  lr: 0.045606  loss: 0.091603  eta: 0h17m  tot: 0h1m47s  (9.2%)\rEpoch: 45.9%  lr: 0.045606  loss: 0.091496  eta: 0h17m  tot: 0h1m47s  (9.2%)\rEpoch: 46.0%  lr: 0.045606  loss: 0.091445  eta: 0h17m  tot: 0h1m47s  (9.2%)\rEpoch: 46.1%  lr: 0.045586  loss: 0.091380  eta: 0h17m  tot: 0h1m48s  (9.2%)\rEpoch: 46.2%  lr: 0.045586  loss: 0.091333  eta: 0h17m  tot: 0h1m48s  (9.2%)\rEpoch: 46.3%  lr: 0.045576  loss: 0.091281  eta: 0h17m  tot: 0h1m48s  (9.3%)\rEpoch: 46.4%  lr: 0.045566  loss: 0.091212  eta: 0h17m  tot: 0h1m48s  (9.3%)\rEpoch: 46.4%  lr: 0.045556  loss: 0.091174  eta: 0h17m  tot: 0h1m48s  (9.3%)\rEpoch: 46.5%  lr: 0.045556  loss: 0.091100  eta: 0h17m  tot: 0h1m49s  (9.3%)\rEpoch: 46.6%  lr: 0.045516  loss: 0.091015  eta: 0h17m  tot: 0h1m49s  (9.3%)\rEpoch: 46.7%  lr: 0.045516  loss: 0.090902  eta: 0h17m  tot: 0h1m49s  (9.3%)\rEpoch: 46.8%  lr: 0.045496  loss: 0.090846  eta: 0h17m  tot: 0h1m49s  (9.4%)\rEpoch: 46.9%  lr: 0.045496  loss: 0.090760  eta: 0h17m  tot: 0h1m49s  (9.4%)\rEpoch: 47.0%  lr: 0.045486  loss: 0.090646  eta: 0h17m  tot: 0h1m50s  (9.4%)\rEpoch: 47.1%  lr: 0.045486  loss: 0.090564  eta: 0h17m  tot: 0h1m50s  (9.4%)\rEpoch: 47.2%  lr: 0.045486  loss: 0.090484  eta: 0h17m  tot: 0h1m50s  (9.4%)\rEpoch: 47.3%  lr: 0.045486  loss: 0.090403  eta: 0h17m  tot: 0h1m50s  (9.5%)\rEpoch: 47.3%  lr: 0.045456  loss: 0.090360  eta: 0h17m  tot: 0h1m50s  (9.5%)\rEpoch: 47.4%  lr: 0.045456  loss: 0.090244  eta: 0h17m  tot: 0h1m51s  (9.5%)\rEpoch: 47.5%  lr: 0.045446  loss: 0.090138  eta: 0h17m  tot: 0h1m51s  (9.5%)\rEpoch: 47.6%  lr: 0.045425  loss: 0.090057  eta: 0h17m  tot: 0h1m51s  (9.5%)\rEpoch: 47.7%  lr: 0.045425  loss: 0.089994  eta: 0h17m  tot: 0h1m51s  (9.5%)\rEpoch: 47.8%  lr: 0.045425  loss: 0.089919  eta: 0h17m  tot: 0h1m52s  (9.6%)\rEpoch: 47.9%  lr: 0.045415  loss: 0.089846  eta: 0h17m  tot: 0h1m52s  (9.6%)\rEpoch: 48.0%  lr: 0.045405  loss: 0.089797  eta: 0h17m  tot: 0h1m52s  (9.6%)\rEpoch: 48.1%  lr: 0.045385  loss: 0.089716  eta: 0h17m  tot: 0h1m52s  (9.6%)\rEpoch: 48.2%  lr: 0.045375  loss: 0.089700  eta: 0h17m  tot: 0h1m52s  (9.6%)\rEpoch: 48.2%  lr: 0.045355  loss: 0.089638  eta: 0h17m  tot: 0h1m52s  (9.6%)\rEpoch: 48.3%  lr: 0.045345  loss: 0.089541  eta: 0h17m  tot: 0h1m53s  (9.7%)\rEpoch: 48.4%  lr: 0.045305  loss: 0.089458  eta: 0h17m  tot: 0h1m53s  (9.7%)\rEpoch: 48.5%  lr: 0.045285  loss: 0.089403  eta: 0h17m  tot: 0h1m53s  (9.7%)\rEpoch: 48.6%  lr: 0.045275  loss: 0.089354  eta: 0h17m  tot: 0h1m53s  (9.7%)\rEpoch: 48.7%  lr: 0.045245  loss: 0.089286  eta: 0h17m  tot: 0h1m54s  (9.7%)\rEpoch: 48.8%  lr: 0.045245  loss: 0.089223  eta: 0h17m  tot: 0h1m54s  (9.8%)\rEpoch: 48.9%  lr: 0.045245  loss: 0.089151  eta: 0h17m  tot: 0h1m54s  (9.8%)\rEpoch: 49.0%  lr: 0.045245  loss: 0.089067  eta: 0h17m  tot: 0h1m54s  (9.8%)\rEpoch: 49.1%  lr: 0.045235  loss: 0.088984  eta: 0h17m  tot: 0h1m54s  (9.8%)\rEpoch: 49.1%  lr: 0.045225  loss: 0.088942  eta: 0h17m  tot: 0h1m54s  (9.8%)\rEpoch: 49.2%  lr: 0.045225  loss: 0.088879  eta: 0h17m  tot: 0h1m55s  (9.8%)\rEpoch: 49.3%  lr: 0.045215  loss: 0.088804  eta: 0h17m  tot: 0h1m55s  (9.9%)\rEpoch: 49.4%  lr: 0.045215  loss: 0.088708  eta: 0h17m  tot: 0h1m55s  (9.9%)\rEpoch: 49.5%  lr: 0.045195  loss: 0.088639  eta: 0h17m  tot: 0h1m55s  (9.9%)\rEpoch: 49.6%  lr: 0.045175  loss: 0.088582  eta: 0h17m  tot: 0h1m55s  (9.9%)\rEpoch: 49.7%  lr: 0.045175  loss: 0.088508  eta: 0h17m  tot: 0h1m56s  (9.9%)\rEpoch: 49.8%  lr: 0.045175  loss: 0.088452  eta: 0h17m  tot: 0h1m56s  (10.0%)\rEpoch: 49.9%  lr: 0.045165  loss: 0.088401  eta: 0h17m  tot: 0h1m56s  (10.0%)\rEpoch: 50.0%  lr: 0.045145  loss: 0.088327  eta: 0h17m  tot: 0h1m56s  (10.0%)\rEpoch: 50.0%  lr: 0.045135  loss: 0.088260  eta: 0h17m  tot: 0h1m56s  (10.0%)\rEpoch: 50.1%  lr: 0.045125  loss: 0.088165  eta: 0h17m  tot: 0h1m57s  (10.0%)\rEpoch: 50.2%  lr: 0.045115  loss: 0.088091  eta: 0h17m  tot: 0h1m57s  (10.0%)\rEpoch: 50.3%  lr: 0.045115  loss: 0.088058  eta: 0h17m  tot: 0h1m57s  (10.1%)\rEpoch: 50.4%  lr: 0.045105  loss: 0.087961  eta: 0h17m  tot: 0h1m57s  (10.1%)\rEpoch: 50.5%  lr: 0.045095  loss: 0.087911  eta: 0h17m  tot: 0h1m57s  (10.1%)\rEpoch: 50.6%  lr: 0.045085  loss: 0.087821  eta: 0h17m  tot: 0h1m58s  (10.1%)\rEpoch: 50.7%  lr: 0.045055  loss: 0.087774  eta: 0h17m  tot: 0h1m58s  (10.1%)\rEpoch: 50.8%  lr: 0.045055  loss: 0.087718  eta: 0h17m  tot: 0h1m58s  (10.2%)\rEpoch: 50.9%  lr: 0.045055  loss: 0.087638  eta: 0h17m  tot: 0h1m58s  (10.2%)\rEpoch: 50.9%  lr: 0.045055  loss: 0.087570  eta: 0h17m  tot: 0h1m58s  (10.2%)\rEpoch: 51.0%  lr: 0.045045  loss: 0.087464  eta: 0h17m  tot: 0h1m59s  (10.2%)\rEpoch: 51.1%  lr: 0.045045  loss: 0.087405  eta: 0h17m  tot: 0h1m59s  (10.2%)\rEpoch: 51.2%  lr: 0.045025  loss: 0.087329  eta: 0h17m  tot: 0h1m59s  (10.2%)\rEpoch: 51.3%  lr: 0.045015  loss: 0.087248  eta: 0h17m  tot: 0h1m59s  (10.3%)\rEpoch: 51.4%  lr: 0.045005  loss: 0.087155  eta: 0h17m  tot: 0h1m59s  (10.3%)\rEpoch: 51.5%  lr: 0.045005  loss: 0.087081  eta: 0h17m  tot: 0h2m0s  (10.3%)\rEpoch: 51.6%  lr: 0.045005  loss: 0.087008  eta: 0h17m  tot: 0h2m0s  (10.3%)\rEpoch: 51.7%  lr: 0.045005  loss: 0.086963  eta: 0h17m  tot: 0h2m0s  (10.3%)\rEpoch: 51.8%  lr: 0.044985  loss: 0.086866  eta: 0h17m  tot: 0h2m0s  (10.4%)\rEpoch: 51.8%  lr: 0.044985  loss: 0.086769  eta: 0h17m  tot: 0h2m0s  (10.4%)\rEpoch: 51.9%  lr: 0.044975  loss: 0.086708  eta: 0h17m  tot: 0h2m1s  (10.4%)\rEpoch: 52.0%  lr: 0.044965  loss: 0.086646  eta: 0h17m  tot: 0h2m1s  (10.4%)\rEpoch: 52.1%  lr: 0.044955  loss: 0.086571  eta: 0h17m  tot: 0h2m1s  (10.4%)\rEpoch: 52.2%  lr: 0.044955  loss: 0.086503  eta: 0h17m  tot: 0h2m1s  (10.4%)\rEpoch: 52.3%  lr: 0.044955  loss: 0.086415  eta: 0h17m  tot: 0h2m1s  (10.5%)\rEpoch: 52.4%  lr: 0.044925  loss: 0.086346  eta: 0h17m  tot: 0h2m1s  (10.5%)\rEpoch: 52.5%  lr: 0.044915  loss: 0.086259  eta: 0h17m  tot: 0h2m2s  (10.5%)\rEpoch: 52.6%  lr: 0.044915  loss: 0.086176  eta: 0h17m  tot: 0h2m2s  (10.5%)\rEpoch: 52.7%  lr: 0.044915  loss: 0.086098  eta: 0h17m  tot: 0h2m2s  (10.5%)\rEpoch: 52.8%  lr: 0.044885  loss: 0.086022  eta: 0h17m  tot: 0h2m2s  (10.6%)\rEpoch: 52.8%  lr: 0.044885  loss: 0.085961  eta: 0h17m  tot: 0h2m2s  (10.6%)\rEpoch: 52.9%  lr: 0.044885  loss: 0.085912  eta: 0h17m  tot: 0h2m3s  (10.6%)\rEpoch: 53.0%  lr: 0.044885  loss: 0.085837  eta: 0h17m  tot: 0h2m3s  (10.6%)\rEpoch: 53.1%  lr: 0.044885  loss: 0.085795  eta: 0h17m  tot: 0h2m3s  (10.6%)\rEpoch: 53.2%  lr: 0.044885  loss: 0.085748  eta: 0h17m  tot: 0h2m3s  (10.6%)\rEpoch: 53.3%  lr: 0.044855  loss: 0.085674  eta: 0h17m  tot: 0h2m3s  (10.7%)\rEpoch: 53.4%  lr: 0.044825  loss: 0.085643  eta: 0h17m  tot: 0h2m4s  (10.7%)\rEpoch: 53.5%  lr: 0.044815  loss: 0.085589  eta: 0h17m  tot: 0h2m4s  (10.7%)\rEpoch: 53.6%  lr: 0.044815  loss: 0.085520  eta: 0h17m  tot: 0h2m4s  (10.7%)\rEpoch: 53.7%  lr: 0.044815  loss: 0.085482  eta: 0h17m  tot: 0h2m4s  (10.7%)\rEpoch: 53.7%  lr: 0.044815  loss: 0.085471  eta: 0h17m  tot: 0h2m4s  (10.7%)\rEpoch: 53.8%  lr: 0.044795  loss: 0.085466  eta: 0h17m  tot: 0h2m5s  (10.8%)\rEpoch: 53.9%  lr: 0.044795  loss: 0.085473  eta: 0h17m  tot: 0h2m5s  (10.8%)\rEpoch: 54.0%  lr: 0.044795  loss: 0.085389  eta: 0h17m  tot: 0h2m5s  (10.8%)\rEpoch: 54.1%  lr: 0.044785  loss: 0.085320  eta: 0h17m  tot: 0h2m5s  (10.8%)\rEpoch: 54.2%  lr: 0.044775  loss: 0.085290  eta: 0h17m  tot: 0h2m5s  (10.8%)\rEpoch: 54.3%  lr: 0.044775  loss: 0.085240  eta: 0h17m  tot: 0h2m6s  (10.9%)\rEpoch: 54.4%  lr: 0.044735  loss: 0.085180  eta: 0h17m  tot: 0h2m6s  (10.9%)\rEpoch: 54.5%  lr: 0.044735  loss: 0.085110  eta: 0h17m  tot: 0h2m6s  (10.9%)\rEpoch: 54.6%  lr: 0.044725  loss: 0.085054  eta: 0h17m  tot: 0h2m6s  (10.9%)\rEpoch: 54.6%  lr: 0.044715  loss: 0.084967  eta: 0h17m  tot: 0h2m6s  (10.9%)\rEpoch: 54.7%  lr: 0.044705  loss: 0.084919  eta: 0h17m  tot: 0h2m6s  (10.9%)\rEpoch: 54.8%  lr: 0.044695  loss: 0.084845  eta: 0h17m  tot: 0h2m7s  (11.0%)\rEpoch: 54.9%  lr: 0.044695  loss: 0.084836  eta: 0h17m  tot: 0h2m7s  (11.0%)\rEpoch: 55.0%  lr: 0.044695  loss: 0.084750  eta: 0h17m  tot: 0h2m7s  (11.0%)\rEpoch: 55.1%  lr: 0.044685  loss: 0.084663  eta: 0h17m  tot: 0h2m7s  (11.0%)\rEpoch: 55.2%  lr: 0.044675  loss: 0.084609  eta: 0h17m  tot: 0h2m7s  (11.0%)\rEpoch: 55.3%  lr: 0.044675  loss: 0.084582  eta: 0h17m  tot: 0h2m8s  (11.1%)\rEpoch: 55.4%  lr: 0.044655  loss: 0.084542  eta: 0h17m  tot: 0h2m8s  (11.1%)\rEpoch: 55.5%  lr: 0.044645  loss: 0.084492  eta: 0h17m  tot: 0h2m8s  (11.1%)\rEpoch: 55.5%  lr: 0.044625  loss: 0.084445  eta: 0h17m  tot: 0h2m8s  (11.1%)\rEpoch: 55.6%  lr: 0.044625  loss: 0.084391  eta: 0h17m  tot: 0h2m8s  (11.1%)\rEpoch: 55.7%  lr: 0.044625  loss: 0.084325  eta: 0h17m  tot: 0h2m9s  (11.1%)\rEpoch: 55.8%  lr: 0.044615  loss: 0.084286  eta: 0h17m  tot: 0h2m9s  (11.2%)\rEpoch: 55.9%  lr: 0.044605  loss: 0.084223  eta: 0h17m  tot: 0h2m9s  (11.2%)\rEpoch: 56.0%  lr: 0.044595  loss: 0.084205  eta: 0h17m  tot: 0h2m9s  (11.2%)\rEpoch: 56.1%  lr: 0.044585  loss: 0.084145  eta: 0h17m  tot: 0h2m9s  (11.2%)\rEpoch: 56.2%  lr: 0.044565  loss: 0.084080  eta: 0h17m  tot: 0h2m10s  (11.2%)\rEpoch: 56.3%  lr: 0.044555  loss: 0.084009  eta: 0h17m  tot: 0h2m10s  (11.3%)\rEpoch: 56.4%  lr: 0.044545  loss: 0.083947  eta: 0h17m  tot: 0h2m10s  (11.3%)\rEpoch: 56.4%  lr: 0.044535  loss: 0.083882  eta: 0h17m  tot: 0h2m10s  (11.3%)\rEpoch: 56.5%  lr: 0.044525  loss: 0.083801  eta: 0h17m  tot: 0h2m10s  (11.3%)\rEpoch: 56.6%  lr: 0.044515  loss: 0.083739  eta: 0h17m  tot: 0h2m11s  (11.3%)\rEpoch: 56.7%  lr: 0.044515  loss: 0.083648  eta: 0h17m  tot: 0h2m11s  (11.3%)\rEpoch: 56.8%  lr: 0.044505  loss: 0.083576  eta: 0h17m  tot: 0h2m11s  (11.4%)\rEpoch: 56.9%  lr: 0.044505  loss: 0.083518  eta: 0h17m  tot: 0h2m11s  (11.4%)\rEpoch: 57.0%  lr: 0.044505  loss: 0.083464  eta: 0h17m  tot: 0h2m11s  (11.4%)\rEpoch: 57.1%  lr: 0.044495  loss: 0.083401  eta: 0h17m  tot: 0h2m12s  (11.4%)\rEpoch: 57.2%  lr: 0.044495  loss: 0.083370  eta: 0h17m  tot: 0h2m12s  (11.4%)\rEpoch: 57.3%  lr: 0.044495  loss: 0.083315  eta: 0h17m  tot: 0h2m12s  (11.5%)\rEpoch: 57.3%  lr: 0.044485  loss: 0.083261  eta: 0h17m  tot: 0h2m12s  (11.5%)\rEpoch: 57.4%  lr: 0.044485  loss: 0.083202  eta: 0h17m  tot: 0h2m12s  (11.5%)\rEpoch: 57.5%  lr: 0.044455  loss: 0.083137  eta: 0h17m  tot: 0h2m13s  (11.5%)\rEpoch: 57.6%  lr: 0.044445  loss: 0.083076  eta: 0h17m  tot: 0h2m13s  (11.5%)\rEpoch: 57.7%  lr: 0.044445  loss: 0.083001  eta: 0h17m  tot: 0h2m13s  (11.5%)\rEpoch: 57.8%  lr: 0.044445  loss: 0.082921  eta: 0h17m  tot: 0h2m13s  (11.6%)\rEpoch: 57.9%  lr: 0.044435  loss: 0.082868  eta: 0h17m  tot: 0h2m13s  (11.6%)\rEpoch: 58.0%  lr: 0.044425  loss: 0.082837  eta: 0h17m  tot: 0h2m13s  (11.6%)\rEpoch: 58.1%  lr: 0.044394  loss: 0.082816  eta: 0h17m  tot: 0h2m14s  (11.6%)\rEpoch: 58.2%  lr: 0.044384  loss: 0.082766  eta: 0h17m  tot: 0h2m14s  (11.6%)\rEpoch: 58.2%  lr: 0.044384  loss: 0.082682  eta: 0h17m  tot: 0h2m14s  (11.6%)\rEpoch: 58.3%  lr: 0.044374  loss: 0.082607  eta: 0h16m  tot: 0h2m14s  (11.7%)\rEpoch: 58.4%  lr: 0.044364  loss: 0.082593  eta: 0h16m  tot: 0h2m14s  (11.7%)\rEpoch: 58.5%  lr: 0.044354  loss: 0.082514  eta: 0h16m  tot: 0h2m15s  (11.7%)\rEpoch: 58.6%  lr: 0.044344  loss: 0.082486  eta: 0h16m  tot: 0h2m15s  (11.7%)\rEpoch: 58.7%  lr: 0.044334  loss: 0.082429  eta: 0h16m  tot: 0h2m15s  (11.7%)\rEpoch: 58.8%  lr: 0.044334  loss: 0.082377  eta: 0h16m  tot: 0h2m15s  (11.8%)\rEpoch: 58.9%  lr: 0.044324  loss: 0.082333  eta: 0h16m  tot: 0h2m15s  (11.8%)\rEpoch: 59.0%  lr: 0.044304  loss: 0.082284  eta: 0h16m  tot: 0h2m16s  (11.8%)\rEpoch: 59.1%  lr: 0.044284  loss: 0.082268  eta: 0h16m  tot: 0h2m16s  (11.8%)\rEpoch: 59.1%  lr: 0.044254  loss: 0.082196  eta: 0h16m  tot: 0h2m16s  (11.8%)\rEpoch: 59.2%  lr: 0.044254  loss: 0.082118  eta: 0h16m  tot: 0h2m16s  (11.8%)\rEpoch: 59.3%  lr: 0.044244  loss: 0.082047  eta: 0h16m  tot: 0h2m16s  (11.9%)\rEpoch: 59.4%  lr: 0.044214  loss: 0.082036  eta: 0h16m  tot: 0h2m17s  (11.9%)\rEpoch: 59.5%  lr: 0.044214  loss: 0.081993  eta: 0h16m  tot: 0h2m17s  (11.9%)\rEpoch: 59.6%  lr: 0.044204  loss: 0.081934  eta: 0h16m  tot: 0h2m17s  (11.9%)\rEpoch: 59.7%  lr: 0.044204  loss: 0.081887  eta: 0h16m  tot: 0h2m17s  (11.9%)\rEpoch: 59.8%  lr: 0.044184  loss: 0.081831  eta: 0h16m  tot: 0h2m17s  (12.0%)\rEpoch: 59.9%  lr: 0.044174  loss: 0.081786  eta: 0h16m  tot: 0h2m17s  (12.0%)\rEpoch: 60.0%  lr: 0.044174  loss: 0.081719  eta: 0h16m  tot: 0h2m18s  (12.0%)\rEpoch: 60.0%  lr: 0.044164  loss: 0.081640  eta: 0h16m  tot: 0h2m18s  (12.0%)\rEpoch: 60.1%  lr: 0.044164  loss: 0.081586  eta: 0h16m  tot: 0h2m18s  (12.0%)\rEpoch: 60.2%  lr: 0.044154  loss: 0.081527  eta: 0h16m  tot: 0h2m18s  (12.0%)\rEpoch: 60.3%  lr: 0.044134  loss: 0.081517  eta: 0h16m  tot: 0h2m18s  (12.1%)\rEpoch: 60.4%  lr: 0.044134  loss: 0.081493  eta: 0h16m  tot: 0h2m19s  (12.1%)\rEpoch: 60.5%  lr: 0.044134  loss: 0.081481  eta: 0h16m  tot: 0h2m19s  (12.1%)\rEpoch: 60.6%  lr: 0.044104  loss: 0.081435  eta: 0h16m  tot: 0h2m19s  (12.1%)\rEpoch: 60.7%  lr: 0.044094  loss: 0.081386  eta: 0h16m  tot: 0h2m19s  (12.1%)\rEpoch: 60.8%  lr: 0.044094  loss: 0.081331  eta: 0h16m  tot: 0h2m19s  (12.2%)\rEpoch: 60.9%  lr: 0.044094  loss: 0.081287  eta: 0h16m  tot: 0h2m20s  (12.2%)\rEpoch: 60.9%  lr: 0.044084  loss: 0.081245  eta: 0h16m  tot: 0h2m20s  (12.2%)\rEpoch: 61.0%  lr: 0.044084  loss: 0.081172  eta: 0h16m  tot: 0h2m20s  (12.2%)\rEpoch: 61.1%  lr: 0.044054  loss: 0.081122  eta: 0h16m  tot: 0h2m20s  (12.2%)\rEpoch: 61.2%  lr: 0.044054  loss: 0.081047  eta: 0h16m  tot: 0h2m20s  (12.2%)\rEpoch: 61.3%  lr: 0.044044  loss: 0.081008  eta: 0h16m  tot: 0h2m21s  (12.3%)\rEpoch: 61.4%  lr: 0.044044  loss: 0.080949  eta: 0h16m  tot: 0h2m21s  (12.3%)\rEpoch: 61.5%  lr: 0.044034  loss: 0.080910  eta: 0h16m  tot: 0h2m21s  (12.3%)\rEpoch: 61.6%  lr: 0.044004  loss: 0.080849  eta: 0h16m  tot: 0h2m21s  (12.3%)\rEpoch: 61.7%  lr: 0.043984  loss: 0.080819  eta: 0h16m  tot: 0h2m21s  (12.3%)\rEpoch: 61.8%  lr: 0.043934  loss: 0.080756  eta: 0h16m  tot: 0h2m21s  (12.4%)\rEpoch: 61.8%  lr: 0.043934  loss: 0.080715  eta: 0h16m  tot: 0h2m22s  (12.4%)\rEpoch: 61.9%  lr: 0.043924  loss: 0.080670  eta: 0h16m  tot: 0h2m22s  (12.4%)\rEpoch: 62.0%  lr: 0.043914  loss: 0.080620  eta: 0h16m  tot: 0h2m22s  (12.4%)\rEpoch: 62.1%  lr: 0.043914  loss: 0.080557  eta: 0h16m  tot: 0h2m22s  (12.4%)\rEpoch: 62.2%  lr: 0.043884  loss: 0.080480  eta: 0h16m  tot: 0h2m22s  (12.4%)\rEpoch: 62.3%  lr: 0.043884  loss: 0.080428  eta: 0h16m  tot: 0h2m23s  (12.5%)\rEpoch: 62.4%  lr: 0.043874  loss: 0.080374  eta: 0h16m  tot: 0h2m23s  (12.5%)\rEpoch: 62.5%  lr: 0.043854  loss: 0.080328  eta: 0h16m  tot: 0h2m23s  (12.5%)\rEpoch: 62.6%  lr: 0.043854  loss: 0.080319  eta: 0h16m  tot: 0h2m23s  (12.5%)\rEpoch: 62.7%  lr: 0.043844  loss: 0.080276  eta: 0h16m  tot: 0h2m23s  (12.5%)\rEpoch: 62.7%  lr: 0.043834  loss: 0.080217  eta: 0h16m  tot: 0h2m24s  (12.5%)\rEpoch: 62.8%  lr: 0.043834  loss: 0.080178  eta: 0h16m  tot: 0h2m24s  (12.6%)\rEpoch: 62.9%  lr: 0.043824  loss: 0.080113  eta: 0h16m  tot: 0h2m24s  (12.6%)\rEpoch: 63.0%  lr: 0.043824  loss: 0.080049  eta: 0h16m  tot: 0h2m24s  (12.6%)\rEpoch: 63.1%  lr: 0.043804  loss: 0.080005  eta: 0h16m  tot: 0h2m24s  (12.6%)\rEpoch: 63.2%  lr: 0.043784  loss: 0.079942  eta: 0h16m  tot: 0h2m24s  (12.6%)\rEpoch: 63.3%  lr: 0.043774  loss: 0.079881  eta: 0h16m  tot: 0h2m25s  (12.7%)\rEpoch: 63.4%  lr: 0.043744  loss: 0.079814  eta: 0h16m  tot: 0h2m25s  (12.7%)\rEpoch: 63.5%  lr: 0.043714  loss: 0.079744  eta: 0h16m  tot: 0h2m25s  (12.7%)\rEpoch: 63.6%  lr: 0.043704  loss: 0.079708  eta: 0h16m  tot: 0h2m25s  (12.7%)\rEpoch: 63.6%  lr: 0.043704  loss: 0.079652  eta: 0h16m  tot: 0h2m25s  (12.7%)\rEpoch: 63.7%  lr: 0.043694  loss: 0.079602  eta: 0h16m  tot: 0h2m26s  (12.7%)\rEpoch: 63.8%  lr: 0.043684  loss: 0.079598  eta: 0h16m  tot: 0h2m26s  (12.8%)\rEpoch: 63.9%  lr: 0.043684  loss: 0.079557  eta: 0h16m  tot: 0h2m26s  (12.8%)\rEpoch: 64.0%  lr: 0.043684  loss: 0.079473  eta: 0h16m  tot: 0h2m26s  (12.8%)\rEpoch: 64.1%  lr: 0.043684  loss: 0.079400  eta: 0h16m  tot: 0h2m26s  (12.8%)\rEpoch: 64.2%  lr: 0.043684  loss: 0.079399  eta: 0h16m  tot: 0h2m27s  (12.8%)\rEpoch: 64.3%  lr: 0.043684  loss: 0.079342  eta: 0h16m  tot: 0h2m27s  (12.9%)\rEpoch: 64.4%  lr: 0.043674  loss: 0.079278  eta: 0h16m  tot: 0h2m27s  (12.9%)\rEpoch: 64.5%  lr: 0.043654  loss: 0.079263  eta: 0h16m  tot: 0h2m27s  (12.9%)\rEpoch: 64.5%  lr: 0.043644  loss: 0.079227  eta: 0h16m  tot: 0h2m27s  (12.9%)\rEpoch: 64.6%  lr: 0.043634  loss: 0.079195  eta: 0h16m  tot: 0h2m28s  (12.9%)\rEpoch: 64.7%  lr: 0.043624  loss: 0.079128  eta: 0h16m  tot: 0h2m28s  (12.9%)\rEpoch: 64.8%  lr: 0.043614  loss: 0.079084  eta: 0h16m  tot: 0h2m28s  (13.0%)\rEpoch: 64.9%  lr: 0.043604  loss: 0.079042  eta: 0h16m  tot: 0h2m28s  (13.0%)\rEpoch: 65.0%  lr: 0.043594  loss: 0.078996  eta: 0h16m  tot: 0h2m28s  (13.0%)\rEpoch: 65.1%  lr: 0.043584  loss: 0.078955  eta: 0h16m  tot: 0h2m28s  (13.0%)\rEpoch: 65.2%  lr: 0.043574  loss: 0.078945  eta: 0h16m  tot: 0h2m29s  (13.0%)\rEpoch: 65.3%  lr: 0.043574  loss: 0.078913  eta: 0h16m  tot: 0h2m29s  (13.1%)\rEpoch: 65.4%  lr: 0.043554  loss: 0.078861  eta: 0h16m  tot: 0h2m29s  (13.1%)\rEpoch: 65.4%  lr: 0.043544  loss: 0.078810  eta: 0h16m  tot: 0h2m29s  (13.1%)\rEpoch: 65.5%  lr: 0.043534  loss: 0.078756  eta: 0h16m  tot: 0h2m29s  (13.1%)\rEpoch: 65.6%  lr: 0.043524  loss: 0.078681  eta: 0h16m  tot: 0h2m30s  (13.1%)\rEpoch: 65.7%  lr: 0.043514  loss: 0.078626  eta: 0h16m  tot: 0h2m30s  (13.1%)\rEpoch: 65.8%  lr: 0.043514  loss: 0.078589  eta: 0h16m  tot: 0h2m30s  (13.2%)\rEpoch: 65.9%  lr: 0.043504  loss: 0.078536  eta: 0h16m  tot: 0h2m30s  (13.2%)\rEpoch: 66.0%  lr: 0.043484  loss: 0.078465  eta: 0h16m  tot: 0h2m30s  (13.2%)\rEpoch: 66.1%  lr: 0.043484  loss: 0.078403  eta: 0h16m  tot: 0h2m31s  (13.2%)\rEpoch: 66.2%  lr: 0.043474  loss: 0.078338  eta: 0h16m  tot: 0h2m31s  (13.2%)\rEpoch: 66.3%  lr: 0.043464  loss: 0.078286  eta: 0h16m  tot: 0h2m31s  (13.3%)\rEpoch: 66.3%  lr: 0.043454  loss: 0.078250  eta: 0h16m  tot: 0h2m31s  (13.3%)\rEpoch: 66.4%  lr: 0.043444  loss: 0.078218  eta: 0h16m  tot: 0h2m31s  (13.3%)\rEpoch: 66.5%  lr: 0.043424  loss: 0.078219  eta: 0h16m  tot: 0h2m31s  (13.3%)\rEpoch: 66.6%  lr: 0.043414  loss: 0.078193  eta: 0h16m  tot: 0h2m32s  (13.3%)\rEpoch: 66.7%  lr: 0.043414  loss: 0.078163  eta: 0h16m  tot: 0h2m32s  (13.3%)\rEpoch: 66.8%  lr: 0.043383  loss: 0.078128  eta: 0h16m  tot: 0h2m32s  (13.4%)\rEpoch: 66.9%  lr: 0.043363  loss: 0.078073  eta: 0h16m  tot: 0h2m32s  (13.4%)\rEpoch: 67.0%  lr: 0.043363  loss: 0.078033  eta: 0h16m  tot: 0h2m32s  (13.4%)\rEpoch: 67.1%  lr: 0.043363  loss: 0.077981  eta: 0h16m  tot: 0h2m33s  (13.4%)\rEpoch: 67.2%  lr: 0.043363  loss: 0.077924  eta: 0h16m  tot: 0h2m33s  (13.4%)\rEpoch: 67.2%  lr: 0.043363  loss: 0.077887  eta: 0h16m  tot: 0h2m33s  (13.4%)\rEpoch: 67.3%  lr: 0.043343  loss: 0.077824  eta: 0h16m  tot: 0h2m33s  (13.5%)\rEpoch: 67.4%  lr: 0.043333  loss: 0.077782  eta: 0h16m  tot: 0h2m33s  (13.5%)\rEpoch: 67.5%  lr: 0.043323  loss: 0.077730  eta: 0h16m  tot: 0h2m33s  (13.5%)\rEpoch: 67.6%  lr: 0.043323  loss: 0.077655  eta: 0h16m  tot: 0h2m34s  (13.5%)\rEpoch: 67.7%  lr: 0.043303  loss: 0.077618  eta: 0h16m  tot: 0h2m34s  (13.5%)\rEpoch: 67.8%  lr: 0.043293  loss: 0.077600  eta: 0h16m  tot: 0h2m34s  (13.6%)\rEpoch: 67.9%  lr: 0.043273  loss: 0.077561  eta: 0h16m  tot: 0h2m34s  (13.6%)\rEpoch: 68.0%  lr: 0.043243  loss: 0.077515  eta: 0h16m  tot: 0h2m34s  (13.6%)\rEpoch: 68.1%  lr: 0.043223  loss: 0.077446  eta: 0h16m  tot: 0h2m35s  (13.6%)\rEpoch: 68.1%  lr: 0.043223  loss: 0.077388  eta: 0h16m  tot: 0h2m35s  (13.6%)\rEpoch: 68.2%  lr: 0.043213  loss: 0.077378  eta: 0h16m  tot: 0h2m35s  (13.6%)\rEpoch: 68.3%  lr: 0.043213  loss: 0.077315  eta: 0h16m  tot: 0h2m35s  (13.7%)\rEpoch: 68.4%  lr: 0.043203  loss: 0.077267  eta: 0h16m  tot: 0h2m35s  (13.7%)\rEpoch: 68.5%  lr: 0.043193  loss: 0.077231  eta: 0h16m  tot: 0h2m35s  (13.7%)\rEpoch: 68.6%  lr: 0.043193  loss: 0.077176  eta: 0h16m  tot: 0h2m36s  (13.7%)\rEpoch: 68.7%  lr: 0.043183  loss: 0.077123  eta: 0h16m  tot: 0h2m36s  (13.7%)\rEpoch: 68.8%  lr: 0.043183  loss: 0.077111  eta: 0h16m  tot: 0h2m36s  (13.8%)\rEpoch: 68.9%  lr: 0.043183  loss: 0.077071  eta: 0h16m  tot: 0h2m36s  (13.8%)\rEpoch: 69.0%  lr: 0.043173  loss: 0.076998  eta: 0h16m  tot: 0h2m36s  (13.8%)\rEpoch: 69.0%  lr: 0.043163  loss: 0.076959  eta: 0h16m  tot: 0h2m37s  (13.8%)\rEpoch: 69.1%  lr: 0.043143  loss: 0.076911  eta: 0h16m  tot: 0h2m37s  (13.8%)\rEpoch: 69.2%  lr: 0.043133  loss: 0.076861  eta: 0h16m  tot: 0h2m37s  (13.8%)\rEpoch: 69.3%  lr: 0.043133  loss: 0.076797  eta: 0h16m  tot: 0h2m37s  (13.9%)\rEpoch: 69.4%  lr: 0.043123  loss: 0.076766  eta: 0h16m  tot: 0h2m37s  (13.9%)\rEpoch: 69.5%  lr: 0.043103  loss: 0.076698  eta: 0h16m  tot: 0h2m37s  (13.9%)\rEpoch: 69.6%  lr: 0.043103  loss: 0.076621  eta: 0h16m  tot: 0h2m38s  (13.9%)\rEpoch: 69.7%  lr: 0.043103  loss: 0.076607  eta: 0h16m  tot: 0h2m38s  (13.9%)\rEpoch: 69.8%  lr: 0.043103  loss: 0.076587  eta: 0h16m  tot: 0h2m38s  (14.0%)\rEpoch: 69.9%  lr: 0.043103  loss: 0.076531  eta: 0h16m  tot: 0h2m38s  (14.0%)\rEpoch: 69.9%  lr: 0.043103  loss: 0.076466  eta: 0h16m  tot: 0h2m38s  (14.0%)\rEpoch: 70.0%  lr: 0.043103  loss: 0.076408  eta: 0h16m  tot: 0h2m39s  (14.0%)\rEpoch: 70.1%  lr: 0.043103  loss: 0.076366  eta: 0h16m  tot: 0h2m39s  (14.0%)\rEpoch: 70.2%  lr: 0.043093  loss: 0.076328  eta: 0h16m  tot: 0h2m39s  (14.0%)\rEpoch: 70.3%  lr: 0.043063  loss: 0.076275  eta: 0h16m  tot: 0h2m39s  (14.1%)\rEpoch: 70.4%  lr: 0.043063  loss: 0.076263  eta: 0h16m  tot: 0h2m39s  (14.1%)\rEpoch: 70.5%  lr: 0.043043  loss: 0.076234  eta: 0h16m  tot: 0h2m40s  (14.1%)\rEpoch: 70.6%  lr: 0.043043  loss: 0.076205  eta: 0h16m  tot: 0h2m40s  (14.1%)\rEpoch: 70.7%  lr: 0.043043  loss: 0.076139  eta: 0h16m  tot: 0h2m40s  (14.1%)\rEpoch: 70.8%  lr: 0.043013  loss: 0.076085  eta: 0h16m  tot: 0h2m40s  (14.2%)\rEpoch: 70.8%  lr: 0.042993  loss: 0.076039  eta: 0h16m  tot: 0h2m40s  (14.2%)\rEpoch: 70.9%  lr: 0.042983  loss: 0.075989  eta: 0h16m  tot: 0h2m40s  (14.2%)\rEpoch: 71.0%  lr: 0.042983  loss: 0.075928  eta: 0h16m  tot: 0h2m41s  (14.2%)\rEpoch: 71.1%  lr: 0.042983  loss: 0.075878  eta: 0h16m  tot: 0h2m41s  (14.2%)\rEpoch: 71.2%  lr: 0.042983  loss: 0.075828  eta: 0h16m  tot: 0h2m41s  (14.2%)\rEpoch: 71.3%  lr: 0.042983  loss: 0.075772  eta: 0h16m  tot: 0h2m41s  (14.3%)\rEpoch: 71.4%  lr: 0.042983  loss: 0.075766  eta: 0h16m  tot: 0h2m41s  (14.3%)\rEpoch: 71.5%  lr: 0.042973  loss: 0.075727  eta: 0h16m  tot: 0h2m42s  (14.3%)\rEpoch: 71.6%  lr: 0.042953  loss: 0.075694  eta: 0h16m  tot: 0h2m42s  (14.3%)\rEpoch: 71.7%  lr: 0.042953  loss: 0.075632  eta: 0h16m  tot: 0h2m42s  (14.3%)\rEpoch: 71.7%  lr: 0.042933  loss: 0.075604  eta: 0h16m  tot: 0h2m42s  (14.3%)\rEpoch: 71.8%  lr: 0.042933  loss: 0.075564  eta: 0h16m  tot: 0h2m42s  (14.4%)\rEpoch: 71.9%  lr: 0.042923  loss: 0.075532  eta: 0h16m  tot: 0h2m43s  (14.4%)\rEpoch: 72.0%  lr: 0.042913  loss: 0.075502  eta: 0h16m  tot: 0h2m43s  (14.4%)\rEpoch: 72.1%  lr: 0.042913  loss: 0.075471  eta: 0h16m  tot: 0h2m43s  (14.4%)\rEpoch: 72.2%  lr: 0.042903  loss: 0.075431  eta: 0h16m  tot: 0h2m43s  (14.4%)\rEpoch: 72.3%  lr: 0.042893  loss: 0.075387  eta: 0h16m  tot: 0h2m43s  (14.5%)\rEpoch: 72.4%  lr: 0.042893  loss: 0.075353  eta: 0h16m  tot: 0h2m44s  (14.5%)\rEpoch: 72.5%  lr: 0.042883  loss: 0.075323  eta: 0h16m  tot: 0h2m44s  (14.5%)\rEpoch: 72.6%  lr: 0.042883  loss: 0.075283  eta: 0h16m  tot: 0h2m44s  (14.5%)\rEpoch: 72.6%  lr: 0.042883  loss: 0.075240  eta: 0h16m  tot: 0h2m44s  (14.5%)\rEpoch: 72.7%  lr: 0.042873  loss: 0.075228  eta: 0h16m  tot: 0h2m44s  (14.5%)\rEpoch: 72.8%  lr: 0.042853  loss: 0.075173  eta: 0h16m  tot: 0h2m45s  (14.6%)\rEpoch: 72.9%  lr: 0.042853  loss: 0.075121  eta: 0h16m  tot: 0h2m45s  (14.6%)\rEpoch: 73.0%  lr: 0.042843  loss: 0.075069  eta: 0h16m  tot: 0h2m45s  (14.6%)\rEpoch: 73.1%  lr: 0.042813  loss: 0.075014  eta: 0h16m  tot: 0h2m45s  (14.6%)\rEpoch: 73.2%  lr: 0.042783  loss: 0.074973  eta: 0h16m  tot: 0h2m45s  (14.6%)\rEpoch: 73.3%  lr: 0.042783  loss: 0.074948  eta: 0h16m  tot: 0h2m46s  (14.7%)\rEpoch: 73.4%  lr: 0.042773  loss: 0.074878  eta: 0h16m  tot: 0h2m46s  (14.7%)\rEpoch: 73.5%  lr: 0.042753  loss: 0.074825  eta: 0h16m  tot: 0h2m46s  (14.7%)\rEpoch: 73.5%  lr: 0.042753  loss: 0.074781  eta: 0h16m  tot: 0h2m46s  (14.7%)\rEpoch: 73.6%  lr: 0.042753  loss: 0.074737  eta: 0h16m  tot: 0h2m46s  (14.7%)\rEpoch: 73.7%  lr: 0.042743  loss: 0.074711  eta: 0h16m  tot: 0h2m46s  (14.7%)\rEpoch: 73.8%  lr: 0.042733  loss: 0.074653  eta: 0h16m  tot: 0h2m47s  (14.8%)\rEpoch: 73.9%  lr: 0.042733  loss: 0.074615  eta: 0h16m  tot: 0h2m47s  (14.8%)\rEpoch: 74.0%  lr: 0.042723  loss: 0.074594  eta: 0h16m  tot: 0h2m47s  (14.8%)\rEpoch: 74.1%  lr: 0.042713  loss: 0.074540  eta: 0h16m  tot: 0h2m47s  (14.8%)\rEpoch: 74.2%  lr: 0.042713  loss: 0.074486  eta: 0h16m  tot: 0h2m47s  (14.8%)\rEpoch: 74.3%  lr: 0.042703  loss: 0.074436  eta: 0h16m  tot: 0h2m48s  (14.9%)\rEpoch: 74.4%  lr: 0.042683  loss: 0.074408  eta: 0h16m  tot: 0h2m48s  (14.9%)\rEpoch: 74.4%  lr: 0.042683  loss: 0.074372  eta: 0h16m  tot: 0h2m48s  (14.9%)\rEpoch: 74.5%  lr: 0.042663  loss: 0.074365  eta: 0h16m  tot: 0h2m48s  (14.9%)\rEpoch: 74.6%  lr: 0.042653  loss: 0.074310  eta: 0h16m  tot: 0h2m48s  (14.9%)\rEpoch: 74.7%  lr: 0.042643  loss: 0.074257  eta: 0h16m  tot: 0h2m49s  (14.9%)\rEpoch: 74.8%  lr: 0.042633  loss: 0.074224  eta: 0h16m  tot: 0h2m49s  (15.0%)\rEpoch: 74.9%  lr: 0.042633  loss: 0.074183  eta: 0h16m  tot: 0h2m49s  (15.0%)\rEpoch: 75.0%  lr: 0.042633  loss: 0.074155  eta: 0h16m  tot: 0h2m49s  (15.0%)\rEpoch: 75.1%  lr: 0.042623  loss: 0.074122  eta: 0h16m  tot: 0h2m49s  (15.0%)\rEpoch: 75.2%  lr: 0.042623  loss: 0.074092  eta: 0h16m  tot: 0h2m49s  (15.0%)\rEpoch: 75.3%  lr: 0.042613  loss: 0.074047  eta: 0h16m  tot: 0h2m50s  (15.1%)\rEpoch: 75.3%  lr: 0.042603  loss: 0.074040  eta: 0h16m  tot: 0h2m50s  (15.1%)\rEpoch: 75.4%  lr: 0.042593  loss: 0.074012  eta: 0h15m  tot: 0h2m50s  (15.1%)\rEpoch: 75.5%  lr: 0.042593  loss: 0.073969  eta: 0h15m  tot: 0h2m50s  (15.1%)\rEpoch: 75.6%  lr: 0.042593  loss: 0.073905  eta: 0h15m  tot: 0h2m50s  (15.1%)\rEpoch: 75.7%  lr: 0.042583  loss: 0.073853  eta: 0h15m  tot: 0h2m51s  (15.1%)\rEpoch: 75.8%  lr: 0.042563  loss: 0.073831  eta: 0h15m  tot: 0h2m51s  (15.2%)\rEpoch: 75.9%  lr: 0.042563  loss: 0.073777  eta: 0h15m  tot: 0h2m51s  (15.2%)\rEpoch: 76.0%  lr: 0.042563  loss: 0.073715  eta: 0h15m  tot: 0h2m51s  (15.2%)\rEpoch: 76.1%  lr: 0.042563  loss: 0.073663  eta: 0h15m  tot: 0h2m51s  (15.2%)\rEpoch: 76.2%  lr: 0.042563  loss: 0.073624  eta: 0h15m  tot: 0h2m51s  (15.2%)\rEpoch: 76.2%  lr: 0.042563  loss: 0.073616  eta: 0h15m  tot: 0h2m52s  (15.2%)\rEpoch: 76.3%  lr: 0.042543  loss: 0.073572  eta: 0h15m  tot: 0h2m52s  (15.3%)\rEpoch: 76.4%  lr: 0.042543  loss: 0.073523  eta: 0h15m  tot: 0h2m52s  (15.3%)\rEpoch: 76.5%  lr: 0.042543  loss: 0.073508  eta: 0h15m  tot: 0h2m52s  (15.3%)\rEpoch: 76.6%  lr: 0.042533  loss: 0.073470  eta: 0h15m  tot: 0h2m52s  (15.3%)\rEpoch: 76.7%  lr: 0.042533  loss: 0.073415  eta: 0h15m  tot: 0h2m53s  (15.3%)\rEpoch: 76.8%  lr: 0.042523  loss: 0.073375  eta: 0h15m  tot: 0h2m53s  (15.4%)\rEpoch: 76.9%  lr: 0.042523  loss: 0.073337  eta: 0h15m  tot: 0h2m53s  (15.4%)\rEpoch: 77.0%  lr: 0.042523  loss: 0.073313  eta: 0h15m  tot: 0h2m53s  (15.4%)\rEpoch: 77.1%  lr: 0.042513  loss: 0.073258  eta: 0h15m  tot: 0h2m53s  (15.4%)\rEpoch: 77.1%  lr: 0.042493  loss: 0.073227  eta: 0h15m  tot: 0h2m54s  (15.4%)\rEpoch: 77.2%  lr: 0.042483  loss: 0.073200  eta: 0h15m  tot: 0h2m54s  (15.4%)\rEpoch: 77.3%  lr: 0.042483  loss: 0.073170  eta: 0h15m  tot: 0h2m54s  (15.5%)\rEpoch: 77.4%  lr: 0.042463  loss: 0.073121  eta: 0h15m  tot: 0h2m54s  (15.5%)\rEpoch: 77.5%  lr: 0.042463  loss: 0.073072  eta: 0h15m  tot: 0h2m54s  (15.5%)\rEpoch: 77.6%  lr: 0.042433  loss: 0.073043  eta: 0h15m  tot: 0h2m54s  (15.5%)\rEpoch: 77.7%  lr: 0.042423  loss: 0.073000  eta: 0h15m  tot: 0h2m55s  (15.5%)\rEpoch: 77.8%  lr: 0.042423  loss: 0.072955  eta: 0h15m  tot: 0h2m55s  (15.6%)\rEpoch: 77.9%  lr: 0.042423  loss: 0.072924  eta: 0h15m  tot: 0h2m55s  (15.6%)\rEpoch: 78.0%  lr: 0.042413  loss: 0.072882  eta: 0h15m  tot: 0h2m55s  (15.6%)\rEpoch: 78.0%  lr: 0.042393  loss: 0.072817  eta: 0h15m  tot: 0h2m55s  (15.6%)\rEpoch: 78.1%  lr: 0.042372  loss: 0.072766  eta: 0h15m  tot: 0h2m56s  (15.6%)\rEpoch: 78.2%  lr: 0.042362  loss: 0.072742  eta: 0h15m  tot: 0h2m56s  (15.6%)\rEpoch: 78.3%  lr: 0.042342  loss: 0.072691  eta: 0h15m  tot: 0h2m56s  (15.7%)\rEpoch: 78.4%  lr: 0.042322  loss: 0.072653  eta: 0h15m  tot: 0h2m56s  (15.7%)\rEpoch: 78.5%  lr: 0.042302  loss: 0.072619  eta: 0h15m  tot: 0h2m56s  (15.7%)\rEpoch: 78.6%  lr: 0.042302  loss: 0.072588  eta: 0h15m  tot: 0h2m57s  (15.7%)\rEpoch: 78.7%  lr: 0.042292  loss: 0.072598  eta: 0h15m  tot: 0h2m57s  (15.7%)\rEpoch: 78.8%  lr: 0.042292  loss: 0.072550  eta: 0h15m  tot: 0h2m57s  (15.8%)\rEpoch: 78.9%  lr: 0.042282  loss: 0.072511  eta: 0h15m  tot: 0h2m57s  (15.8%)\rEpoch: 78.9%  lr: 0.042252  loss: 0.072472  eta: 0h15m  tot: 0h2m57s  (15.8%)\rEpoch: 79.0%  lr: 0.042252  loss: 0.072446  eta: 0h15m  tot: 0h2m57s  (15.8%)\rEpoch: 79.1%  lr: 0.042232  loss: 0.072407  eta: 0h15m  tot: 0h2m58s  (15.8%)\rEpoch: 79.2%  lr: 0.042232  loss: 0.072366  eta: 0h15m  tot: 0h2m58s  (15.8%)\rEpoch: 79.3%  lr: 0.042222  loss: 0.072324  eta: 0h15m  tot: 0h2m58s  (15.9%)\rEpoch: 79.4%  lr: 0.042212  loss: 0.072277  eta: 0h15m  tot: 0h2m58s  (15.9%)\rEpoch: 79.5%  lr: 0.042212  loss: 0.072245  eta: 0h15m  tot: 0h2m58s  (15.9%)\rEpoch: 79.6%  lr: 0.042202  loss: 0.072221  eta: 0h15m  tot: 0h2m59s  (15.9%)\rEpoch: 79.7%  lr: 0.042202  loss: 0.072189  eta: 0h15m  tot: 0h2m59s  (15.9%)\rEpoch: 79.8%  lr: 0.042202  loss: 0.072140  eta: 0h15m  tot: 0h2m59s  (16.0%)\rEpoch: 79.8%  lr: 0.042192  loss: 0.072097  eta: 0h15m  tot: 0h2m59s  (16.0%)\rEpoch: 79.9%  lr: 0.042182  loss: 0.072051  eta: 0h15m  tot: 0h2m59s  (16.0%)\rEpoch: 80.0%  lr: 0.042172  loss: 0.072018  eta: 0h15m  tot: 0h3m0s  (16.0%)\rEpoch: 80.1%  lr: 0.042162  loss: 0.072000  eta: 0h15m  tot: 0h3m0s  (16.0%)\rEpoch: 80.2%  lr: 0.042132  loss: 0.071967  eta: 0h15m  tot: 0h3m0s  (16.0%)\rEpoch: 80.3%  lr: 0.042122  loss: 0.071947  eta: 0h15m  tot: 0h3m0s  (16.1%)\rEpoch: 80.4%  lr: 0.042112  loss: 0.071918  eta: 0h15m  tot: 0h3m0s  (16.1%)\rEpoch: 80.5%  lr: 0.042112  loss: 0.071873  eta: 0h15m  tot: 0h3m0s  (16.1%)\rEpoch: 80.6%  lr: 0.042112  loss: 0.071836  eta: 0h15m  tot: 0h3m1s  (16.1%)\rEpoch: 80.7%  lr: 0.042112  loss: 0.071787  eta: 0h15m  tot: 0h3m1s  (16.1%)\rEpoch: 80.7%  lr: 0.042112  loss: 0.071751  eta: 0h15m  tot: 0h3m1s  (16.1%)\rEpoch: 80.8%  lr: 0.042082  loss: 0.071686  eta: 0h15m  tot: 0h3m1s  (16.2%)\rEpoch: 80.9%  lr: 0.042062  loss: 0.071645  eta: 0h15m  tot: 0h3m1s  (16.2%)\rEpoch: 81.0%  lr: 0.042062  loss: 0.071597  eta: 0h15m  tot: 0h3m2s  (16.2%)\rEpoch: 81.1%  lr: 0.042052  loss: 0.071570  eta: 0h15m  tot: 0h3m2s  (16.2%)\rEpoch: 81.2%  lr: 0.042032  loss: 0.071543  eta: 0h15m  tot: 0h3m2s  (16.2%)\rEpoch: 81.3%  lr: 0.042032  loss: 0.071512  eta: 0h15m  tot: 0h3m2s  (16.3%)\rEpoch: 81.4%  lr: 0.042022  loss: 0.071494  eta: 0h15m  tot: 0h3m2s  (16.3%)\rEpoch: 81.5%  lr: 0.042022  loss: 0.071440  eta: 0h15m  tot: 0h3m3s  (16.3%)\rEpoch: 81.6%  lr: 0.042012  loss: 0.071406  eta: 0h15m  tot: 0h3m3s  (16.3%)\rEpoch: 81.6%  lr: 0.042012  loss: 0.071382  eta: 0h15m  tot: 0h3m3s  (16.3%)\rEpoch: 81.7%  lr: 0.041962  loss: 0.071347  eta: 0h15m  tot: 0h3m3s  (16.3%)\rEpoch: 81.8%  lr: 0.041962  loss: 0.071336  eta: 0h15m  tot: 0h3m3s  (16.4%)\rEpoch: 81.9%  lr: 0.041942  loss: 0.071306  eta: 0h15m  tot: 0h3m3s  (16.4%)\rEpoch: 82.0%  lr: 0.041942  loss: 0.071317  eta: 0h15m  tot: 0h3m4s  (16.4%)\rEpoch: 82.1%  lr: 0.041942  loss: 0.071285  eta: 0h15m  tot: 0h3m4s  (16.4%)\rEpoch: 82.2%  lr: 0.041942  loss: 0.071253  eta: 0h15m  tot: 0h3m4s  (16.4%)\rEpoch: 82.3%  lr: 0.041942  loss: 0.071204  eta: 0h15m  tot: 0h3m4s  (16.5%)\rEpoch: 82.4%  lr: 0.041932  loss: 0.071197  eta: 0h15m  tot: 0h3m4s  (16.5%)\rEpoch: 82.5%  lr: 0.041932  loss: 0.071143  eta: 0h15m  tot: 0h3m5s  (16.5%)\rEpoch: 82.5%  lr: 0.041932  loss: 0.071093  eta: 0h15m  tot: 0h3m5s  (16.5%)\rEpoch: 82.6%  lr: 0.041922  loss: 0.071061  eta: 0h15m  tot: 0h3m5s  (16.5%)\rEpoch: 82.7%  lr: 0.041902  loss: 0.071013  eta: 0h15m  tot: 0h3m5s  (16.5%)\rEpoch: 82.8%  lr: 0.041902  loss: 0.070981  eta: 0h15m  tot: 0h3m5s  (16.6%)\rEpoch: 82.9%  lr: 0.041882  loss: 0.070954  eta: 0h15m  tot: 0h3m5s  (16.6%)\rEpoch: 83.0%  lr: 0.041882  loss: 0.070940  eta: 0h15m  tot: 0h3m6s  (16.6%)\rEpoch: 83.1%  lr: 0.041862  loss: 0.070915  eta: 0h15m  tot: 0h3m6s  (16.6%)\rEpoch: 83.2%  lr: 0.041842  loss: 0.070893  eta: 0h15m  tot: 0h3m6s  (16.6%)\rEpoch: 83.3%  lr: 0.041842  loss: 0.070873  eta: 0h15m  tot: 0h3m6s  (16.7%)\rEpoch: 83.4%  lr: 0.041832  loss: 0.070838  eta: 0h15m  tot: 0h3m6s  (16.7%)\rEpoch: 83.4%  lr: 0.041822  loss: 0.070828  eta: 0h15m  tot: 0h3m7s  (16.7%)\rEpoch: 83.5%  lr: 0.041802  loss: 0.070784  eta: 0h15m  tot: 0h3m7s  (16.7%)\rEpoch: 83.6%  lr: 0.041802  loss: 0.070743  eta: 0h15m  tot: 0h3m7s  (16.7%)\rEpoch: 83.7%  lr: 0.041802  loss: 0.070698  eta: 0h15m  tot: 0h3m7s  (16.7%)\rEpoch: 83.8%  lr: 0.041802  loss: 0.070650  eta: 0h15m  tot: 0h3m7s  (16.8%)\rEpoch: 83.9%  lr: 0.041792  loss: 0.070628  eta: 0h15m  tot: 0h3m8s  (16.8%)\rEpoch: 84.0%  lr: 0.041772  loss: 0.070590  eta: 0h15m  tot: 0h3m8s  (16.8%)\rEpoch: 84.1%  lr: 0.041742  loss: 0.070550  eta: 0h15m  tot: 0h3m8s  (16.8%)\rEpoch: 84.2%  lr: 0.041712  loss: 0.070545  eta: 0h15m  tot: 0h3m8s  (16.8%)\rEpoch: 84.3%  lr: 0.041712  loss: 0.070499  eta: 0h15m  tot: 0h3m8s  (16.9%)\rEpoch: 84.3%  lr: 0.041682  loss: 0.070476  eta: 0h15m  tot: 0h3m9s  (16.9%)\rEpoch: 84.4%  lr: 0.041672  loss: 0.070433  eta: 0h15m  tot: 0h3m9s  (16.9%)\rEpoch: 84.5%  lr: 0.041672  loss: 0.070388  eta: 0h15m  tot: 0h3m9s  (16.9%)\rEpoch: 84.6%  lr: 0.041662  loss: 0.070352  eta: 0h15m  tot: 0h3m9s  (16.9%)\rEpoch: 84.7%  lr: 0.041652  loss: 0.070320  eta: 0h15m  tot: 0h3m9s  (16.9%)\rEpoch: 84.8%  lr: 0.041632  loss: 0.070280  eta: 0h15m  tot: 0h3m9s  (17.0%)\rEpoch: 84.9%  lr: 0.041622  loss: 0.070231  eta: 0h15m  tot: 0h3m10s  (17.0%)\rEpoch: 85.0%  lr: 0.041612  loss: 0.070182  eta: 0h15m  tot: 0h3m10s  (17.0%)\rEpoch: 85.1%  lr: 0.041602  loss: 0.070157  eta: 0h15m  tot: 0h3m10s  (17.0%)\rEpoch: 85.2%  lr: 0.041562  loss: 0.070105  eta: 0h15m  tot: 0h3m10s  (17.0%)\rEpoch: 85.2%  lr: 0.041542  loss: 0.070079  eta: 0h15m  tot: 0h3m10s  (17.0%)\rEpoch: 85.3%  lr: 0.041532  loss: 0.070044  eta: 0h15m  tot: 0h3m11s  (17.1%)\rEpoch: 85.4%  lr: 0.041522  loss: 0.070034  eta: 0h15m  tot: 0h3m11s  (17.1%)\rEpoch: 85.5%  lr: 0.041522  loss: 0.070000  eta: 0h15m  tot: 0h3m11s  (17.1%)\rEpoch: 85.6%  lr: 0.041522  loss: 0.069967  eta: 0h15m  tot: 0h3m11s  (17.1%)\rEpoch: 85.7%  lr: 0.041512  loss: 0.069959  eta: 0h15m  tot: 0h3m11s  (17.1%)\rEpoch: 85.8%  lr: 0.041492  loss: 0.069938  eta: 0h15m  tot: 0h3m12s  (17.2%)\rEpoch: 85.9%  lr: 0.041482  loss: 0.069894  eta: 0h15m  tot: 0h3m12s  (17.2%)\rEpoch: 86.0%  lr: 0.041462  loss: 0.069869  eta: 0h15m  tot: 0h3m12s  (17.2%)\rEpoch: 86.1%  lr: 0.041442  loss: 0.069856  eta: 0h15m  tot: 0h3m12s  (17.2%)\rEpoch: 86.1%  lr: 0.041422  loss: 0.069845  eta: 0h15m  tot: 0h3m12s  (17.2%)\rEpoch: 86.2%  lr: 0.041422  loss: 0.069816  eta: 0h15m  tot: 0h3m13s  (17.2%)\rEpoch: 86.3%  lr: 0.041412  loss: 0.069760  eta: 0h15m  tot: 0h3m13s  (17.3%)\rEpoch: 86.4%  lr: 0.041402  loss: 0.069716  eta: 0h15m  tot: 0h3m13s  (17.3%)\rEpoch: 86.5%  lr: 0.041402  loss: 0.069689  eta: 0h15m  tot: 0h3m13s  (17.3%)\rEpoch: 86.6%  lr: 0.041392  loss: 0.069644  eta: 0h15m  tot: 0h3m13s  (17.3%)\rEpoch: 86.7%  lr: 0.041372  loss: 0.069587  eta: 0h15m  tot: 0h3m13s  (17.3%)\rEpoch: 86.8%  lr: 0.041351  loss: 0.069554  eta: 0h15m  tot: 0h3m14s  (17.4%)\rEpoch: 86.9%  lr: 0.041331  loss: 0.069507  eta: 0h15m  tot: 0h3m14s  (17.4%)\rEpoch: 87.0%  lr: 0.041291  loss: 0.069490  eta: 0h15m  tot: 0h3m14s  (17.4%)\rEpoch: 87.0%  lr: 0.041281  loss: 0.069453  eta: 0h15m  tot: 0h3m14s  (17.4%)\rEpoch: 87.1%  lr: 0.041261  loss: 0.069418  eta: 0h15m  tot: 0h3m14s  (17.4%)\rEpoch: 87.2%  lr: 0.041261  loss: 0.069377  eta: 0h15m  tot: 0h3m15s  (17.4%)\rEpoch: 87.3%  lr: 0.041261  loss: 0.069382  eta: 0h15m  tot: 0h3m15s  (17.5%)\rEpoch: 87.4%  lr: 0.041251  loss: 0.069342  eta: 0h15m  tot: 0h3m15s  (17.5%)\rEpoch: 87.5%  lr: 0.041251  loss: 0.069319  eta: 0h15m  tot: 0h3m15s  (17.5%)\rEpoch: 87.6%  lr: 0.041251  loss: 0.069284  eta: 0h15m  tot: 0h3m15s  (17.5%)\rEpoch: 87.7%  lr: 0.041201  loss: 0.069268  eta: 0h15m  tot: 0h3m16s  (17.5%)\rEpoch: 87.8%  lr: 0.041201  loss: 0.069234  eta: 0h15m  tot: 0h3m16s  (17.6%)\rEpoch: 87.9%  lr: 0.041201  loss: 0.069204  eta: 0h15m  tot: 0h3m16s  (17.6%)\rEpoch: 87.9%  lr: 0.041191  loss: 0.069171  eta: 0h15m  tot: 0h3m16s  (17.6%)\rEpoch: 88.0%  lr: 0.041161  loss: 0.069130  eta: 0h15m  tot: 0h3m16s  (17.6%)\rEpoch: 88.1%  lr: 0.041151  loss: 0.069092  eta: 0h15m  tot: 0h3m16s  (17.6%)\rEpoch: 88.2%  lr: 0.041151  loss: 0.069076  eta: 0h15m  tot: 0h3m17s  (17.6%)\rEpoch: 88.3%  lr: 0.041151  loss: 0.069034  eta: 0h15m  tot: 0h3m17s  (17.7%)\rEpoch: 88.4%  lr: 0.041141  loss: 0.069000  eta: 0h15m  tot: 0h3m17s  (17.7%)\rEpoch: 88.5%  lr: 0.041141  loss: 0.068981  eta: 0h15m  tot: 0h3m17s  (17.7%)\rEpoch: 88.6%  lr: 0.041131  loss: 0.068936  eta: 0h15m  tot: 0h3m17s  (17.7%)\rEpoch: 88.7%  lr: 0.041131  loss: 0.068899  eta: 0h15m  tot: 0h3m18s  (17.7%)\rEpoch: 88.8%  lr: 0.041121  loss: 0.068883  eta: 0h15m  tot: 0h3m18s  (17.8%)\rEpoch: 88.8%  lr: 0.041111  loss: 0.068834  eta: 0h15m  tot: 0h3m18s  (17.8%)\rEpoch: 88.9%  lr: 0.041101  loss: 0.068802  eta: 0h15m  tot: 0h3m18s  (17.8%)\rEpoch: 89.0%  lr: 0.041101  loss: 0.068778  eta: 0h15m  tot: 0h3m18s  (17.8%)\rEpoch: 89.1%  lr: 0.041101  loss: 0.068729  eta: 0h15m  tot: 0h3m18s  (17.8%)\rEpoch: 89.2%  lr: 0.041101  loss: 0.068694  eta: 0h15m  tot: 0h3m19s  (17.8%)\rEpoch: 89.3%  lr: 0.041101  loss: 0.068673  eta: 0h15m  tot: 0h3m19s  (17.9%)\rEpoch: 89.4%  lr: 0.041091  loss: 0.068659  eta: 0h15m  tot: 0h3m19s  (17.9%)\rEpoch: 89.5%  lr: 0.041091  loss: 0.068629  eta: 0h15m  tot: 0h3m19s  (17.9%)\rEpoch: 89.6%  lr: 0.041061  loss: 0.068610  eta: 0h15m  tot: 0h3m19s  (17.9%)\rEpoch: 89.7%  lr: 0.041041  loss: 0.068565  eta: 0h15m  tot: 0h3m20s  (17.9%)\rEpoch: 89.7%  lr: 0.041041  loss: 0.068515  eta: 0h15m  tot: 0h3m20s  (17.9%)\rEpoch: 89.8%  lr: 0.040991  loss: 0.068484  eta: 0h15m  tot: 0h3m20s  (18.0%)\rEpoch: 89.9%  lr: 0.040971  loss: 0.068454  eta: 0h15m  tot: 0h3m20s  (18.0%)\rEpoch: 90.0%  lr: 0.040971  loss: 0.068407  eta: 0h15m  tot: 0h3m20s  (18.0%)\rEpoch: 90.1%  lr: 0.040961  loss: 0.068367  eta: 0h15m  tot: 0h3m20s  (18.0%)\rEpoch: 90.2%  lr: 0.040931  loss: 0.068330  eta: 0h15m  tot: 0h3m21s  (18.0%)\rEpoch: 90.3%  lr: 0.040921  loss: 0.068307  eta: 0h15m  tot: 0h3m21s  (18.1%)\rEpoch: 90.4%  lr: 0.040911  loss: 0.068267  eta: 0h15m  tot: 0h3m21s  (18.1%)\rEpoch: 90.5%  lr: 0.040901  loss: 0.068256  eta: 0h15m  tot: 0h3m21s  (18.1%)\rEpoch: 90.6%  lr: 0.040901  loss: 0.068221  eta: 0h15m  tot: 0h3m21s  (18.1%)\rEpoch: 90.6%  lr: 0.040901  loss: 0.068191  eta: 0h15m  tot: 0h3m22s  (18.1%)\rEpoch: 90.7%  lr: 0.040881  loss: 0.068163  eta: 0h15m  tot: 0h3m22s  (18.1%)\rEpoch: 90.8%  lr: 0.040861  loss: 0.068117  eta: 0h15m  tot: 0h3m22s  (18.2%)\rEpoch: 90.9%  lr: 0.040841  loss: 0.068080  eta: 0h15m  tot: 0h3m22s  (18.2%)\rEpoch: 91.0%  lr: 0.040821  loss: 0.068044  eta: 0h15m  tot: 0h3m22s  (18.2%)\rEpoch: 91.1%  lr: 0.040821  loss: 0.067993  eta: 0h15m  tot: 0h3m22s  (18.2%)\rEpoch: 91.2%  lr: 0.040821  loss: 0.067946  eta: 0h15m  tot: 0h3m23s  (18.2%)\rEpoch: 91.3%  lr: 0.040811  loss: 0.067941  eta: 0h15m  tot: 0h3m23s  (18.3%)\rEpoch: 91.4%  lr: 0.040811  loss: 0.067911  eta: 0h15m  tot: 0h3m23s  (18.3%)\rEpoch: 91.5%  lr: 0.040811  loss: 0.067884  eta: 0h15m  tot: 0h3m23s  (18.3%)\rEpoch: 91.5%  lr: 0.040811  loss: 0.067870  eta: 0h15m  tot: 0h3m23s  (18.3%)\rEpoch: 91.6%  lr: 0.040791  loss: 0.067855  eta: 0h15m  tot: 0h3m24s  (18.3%)\rEpoch: 91.7%  lr: 0.040771  loss: 0.067833  eta: 0h15m  tot: 0h3m24s  (18.3%)\rEpoch: 91.8%  lr: 0.040771  loss: 0.067824  eta: 0h15m  tot: 0h3m24s  (18.4%)\rEpoch: 91.9%  lr: 0.040771  loss: 0.067799  eta: 0h15m  tot: 0h3m24s  (18.4%)\rEpoch: 92.0%  lr: 0.040761  loss: 0.067771  eta: 0h15m  tot: 0h3m24s  (18.4%)\rEpoch: 92.1%  lr: 0.040741  loss: 0.067741  eta: 0h15m  tot: 0h3m25s  (18.4%)\rEpoch: 92.2%  lr: 0.040741  loss: 0.067700  eta: 0h15m  tot: 0h3m25s  (18.4%)\rEpoch: 92.3%  lr: 0.040741  loss: 0.067689  eta: 0h15m  tot: 0h3m25s  (18.5%)\rEpoch: 92.4%  lr: 0.040741  loss: 0.067666  eta: 0h15m  tot: 0h3m25s  (18.5%)\rEpoch: 92.4%  lr: 0.040711  loss: 0.067642  eta: 0h15m  tot: 0h3m25s  (18.5%)\rEpoch: 92.5%  lr: 0.040691  loss: 0.067634  eta: 0h15m  tot: 0h3m25s  (18.5%)\rEpoch: 92.6%  lr: 0.040671  loss: 0.067624  eta: 0h15m  tot: 0h3m26s  (18.5%)\rEpoch: 92.7%  lr: 0.040651  loss: 0.067603  eta: 0h15m  tot: 0h3m26s  (18.5%)\rEpoch: 92.8%  lr: 0.040631  loss: 0.067557  eta: 0h15m  tot: 0h3m26s  (18.6%)\rEpoch: 92.9%  lr: 0.040621  loss: 0.067522  eta: 0h15m  tot: 0h3m26s  (18.6%)\rEpoch: 93.0%  lr: 0.040621  loss: 0.067504  eta: 0h15m  tot: 0h3m26s  (18.6%)\rEpoch: 93.1%  lr: 0.040611  loss: 0.067465  eta: 0h15m  tot: 0h3m27s  (18.6%)\rEpoch: 93.2%  lr: 0.040601  loss: 0.067438  eta: 0h15m  tot: 0h3m27s  (18.6%)\rEpoch: 93.3%  lr: 0.040571  loss: 0.067433  eta: 0h15m  tot: 0h3m27s  (18.7%)\rEpoch: 93.3%  lr: 0.040561  loss: 0.067420  eta: 0h15m  tot: 0h3m27s  (18.7%)\rEpoch: 93.4%  lr: 0.040551  loss: 0.067391  eta: 0h15m  tot: 0h3m27s  (18.7%)\rEpoch: 93.5%  lr: 0.040551  loss: 0.067370  eta: 0h15m  tot: 0h3m28s  (18.7%)\rEpoch: 93.6%  lr: 0.040551  loss: 0.067330  eta: 0h15m  tot: 0h3m28s  (18.7%)\rEpoch: 93.7%  lr: 0.040551  loss: 0.067321  eta: 0h15m  tot: 0h3m28s  (18.7%)\rEpoch: 93.8%  lr: 0.040531  loss: 0.067315  eta: 0h15m  tot: 0h3m28s  (18.8%)\rEpoch: 93.9%  lr: 0.040511  loss: 0.067275  eta: 0h15m  tot: 0h3m28s  (18.8%)\rEpoch: 94.0%  lr: 0.040511  loss: 0.067243  eta: 0h15m  tot: 0h3m28s  (18.8%)\rEpoch: 94.1%  lr: 0.040511  loss: 0.067233  eta: 0h15m  tot: 0h3m29s  (18.8%)\rEpoch: 94.2%  lr: 0.040491  loss: 0.067211  eta: 0h15m  tot: 0h3m29s  (18.8%)\rEpoch: 94.2%  lr: 0.040471  loss: 0.067166  eta: 0h15m  tot: 0h3m29s  (18.8%)\rEpoch: 94.3%  lr: 0.040471  loss: 0.067125  eta: 0h15m  tot: 0h3m29s  (18.9%)\rEpoch: 94.4%  lr: 0.040471  loss: 0.067097  eta: 0h15m  tot: 0h3m29s  (18.9%)\rEpoch: 94.5%  lr: 0.040471  loss: 0.067060  eta: 0h15m  tot: 0h3m30s  (18.9%)\rEpoch: 94.6%  lr: 0.040471  loss: 0.067024  eta: 0h15m  tot: 0h3m30s  (18.9%)\rEpoch: 94.7%  lr: 0.040451  loss: 0.066989  eta: 0h15m  tot: 0h3m30s  (18.9%)\rEpoch: 94.8%  lr: 0.040451  loss: 0.066983  eta: 0h15m  tot: 0h3m30s  (19.0%)\rEpoch: 94.9%  lr: 0.040441  loss: 0.066956  eta: 0h15m  tot: 0h3m30s  (19.0%)\rEpoch: 95.0%  lr: 0.040441  loss: 0.066917  eta: 0h14m  tot: 0h3m31s  (19.0%)\rEpoch: 95.1%  lr: 0.040441  loss: 0.066885  eta: 0h14m  tot: 0h3m31s  (19.0%)\rEpoch: 95.1%  lr: 0.040441  loss: 0.066832  eta: 0h14m  tot: 0h3m31s  (19.0%)\rEpoch: 95.2%  lr: 0.040431  loss: 0.066799  eta: 0h14m  tot: 0h3m31s  (19.0%)\rEpoch: 95.3%  lr: 0.040431  loss: 0.066782  eta: 0h14m  tot: 0h3m31s  (19.1%)\rEpoch: 95.4%  lr: 0.040421  loss: 0.066749  eta: 0h14m  tot: 0h3m31s  (19.1%)\rEpoch: 95.5%  lr: 0.040411  loss: 0.066737  eta: 0h14m  tot: 0h3m32s  (19.1%)\rEpoch: 95.6%  lr: 0.040411  loss: 0.066693  eta: 0h14m  tot: 0h3m32s  (19.1%)\rEpoch: 95.7%  lr: 0.040391  loss: 0.066654  eta: 0h14m  tot: 0h3m32s  (19.1%)\rEpoch: 95.8%  lr: 0.040381  loss: 0.066637  eta: 0h14m  tot: 0h3m32s  (19.2%)\rEpoch: 95.9%  lr: 0.040371  loss: 0.066598  eta: 0h14m  tot: 0h3m32s  (19.2%)\rEpoch: 96.0%  lr: 0.040361  loss: 0.066567  eta: 0h14m  tot: 0h3m32s  (19.2%)\rEpoch: 96.0%  lr: 0.040351  loss: 0.066531  eta: 0h14m  tot: 0h3m33s  (19.2%)\rEpoch: 96.1%  lr: 0.040340  loss: 0.066512  eta: 0h14m  tot: 0h3m33s  (19.2%)\rEpoch: 96.2%  lr: 0.040320  loss: 0.066507  eta: 0h14m  tot: 0h3m33s  (19.2%)\rEpoch: 96.3%  lr: 0.040320  loss: 0.066479  eta: 0h14m  tot: 0h3m33s  (19.3%)\rEpoch: 96.4%  lr: 0.040300  loss: 0.066470  eta: 0h14m  tot: 0h3m33s  (19.3%)\rEpoch: 96.5%  lr: 0.040300  loss: 0.066432  eta: 0h14m  tot: 0h3m34s  (19.3%)\rEpoch: 96.6%  lr: 0.040290  loss: 0.066389  eta: 0h14m  tot: 0h3m34s  (19.3%)\rEpoch: 96.7%  lr: 0.040290  loss: 0.066352  eta: 0h14m  tot: 0h3m34s  (19.3%)\rEpoch: 96.8%  lr: 0.040280  loss: 0.066323  eta: 0h14m  tot: 0h3m34s  (19.4%)\rEpoch: 96.9%  lr: 0.040280  loss: 0.066286  eta: 0h14m  tot: 0h3m34s  (19.4%)\rEpoch: 96.9%  lr: 0.040250  loss: 0.066251  eta: 0h14m  tot: 0h3m35s  (19.4%)\rEpoch: 97.0%  lr: 0.040250  loss: 0.066217  eta: 0h14m  tot: 0h3m35s  (19.4%)\rEpoch: 97.1%  lr: 0.040230  loss: 0.066177  eta: 0h14m  tot: 0h3m35s  (19.4%)\rEpoch: 97.2%  lr: 0.040220  loss: 0.066151  eta: 0h14m  tot: 0h3m35s  (19.4%)\rEpoch: 97.3%  lr: 0.040210  loss: 0.066105  eta: 0h14m  tot: 0h3m35s  (19.5%)\rEpoch: 97.4%  lr: 0.040210  loss: 0.066107  eta: 0h14m  tot: 0h3m35s  (19.5%)\rEpoch: 97.5%  lr: 0.040200  loss: 0.066084  eta: 0h14m  tot: 0h3m36s  (19.5%)\rEpoch: 97.6%  lr: 0.040190  loss: 0.066090  eta: 0h14m  tot: 0h3m36s  (19.5%)\rEpoch: 97.7%  lr: 0.040170  loss: 0.066049  eta: 0h14m  tot: 0h3m36s  (19.5%)\rEpoch: 97.8%  lr: 0.040170  loss: 0.066022  eta: 0h14m  tot: 0h3m36s  (19.6%)\rEpoch: 97.8%  lr: 0.040170  loss: 0.066000  eta: 0h14m  tot: 0h3m36s  (19.6%)\rEpoch: 97.9%  lr: 0.040170  loss: 0.065964  eta: 0h14m  tot: 0h3m37s  (19.6%)\rEpoch: 98.0%  lr: 0.040150  loss: 0.065931  eta: 0h14m  tot: 0h3m37s  (19.6%)\rEpoch: 98.1%  lr: 0.040150  loss: 0.065930  eta: 0h14m  tot: 0h3m37s  (19.6%)\rEpoch: 98.2%  lr: 0.040140  loss: 0.065902  eta: 0h14m  tot: 0h3m37s  (19.6%)\rEpoch: 98.3%  lr: 0.040130  loss: 0.065904  eta: 0h14m  tot: 0h3m37s  (19.7%)\rEpoch: 98.4%  lr: 0.040130  loss: 0.065887  eta: 0h14m  tot: 0h3m38s  (19.7%)\rEpoch: 98.5%  lr: 0.040120  loss: 0.065852  eta: 0h14m  tot: 0h3m38s  (19.7%)\rEpoch: 98.6%  lr: 0.040100  loss: 0.065830  eta: 0h14m  tot: 0h3m38s  (19.7%)\rEpoch: 98.7%  lr: 0.040080  loss: 0.065800  eta: 0h14m  tot: 0h3m38s  (19.7%)\rEpoch: 98.7%  lr: 0.040080  loss: 0.065772  eta: 0h14m  tot: 0h3m38s  (19.7%)\rEpoch: 98.8%  lr: 0.040080  loss: 0.065748  eta: 0h14m  tot: 0h3m38s  (19.8%)\rEpoch: 98.9%  lr: 0.040070  loss: 0.065724  eta: 0h14m  tot: 0h3m39s  (19.8%)\rEpoch: 99.0%  lr: 0.040070  loss: 0.065695  eta: 0h14m  tot: 0h3m39s  (19.8%)\rEpoch: 99.1%  lr: 0.040070  loss: 0.065692  eta: 0h14m  tot: 0h3m39s  (19.8%)\rEpoch: 99.2%  lr: 0.040060  loss: 0.065664  eta: 0h14m  tot: 0h3m39s  (19.8%)\rEpoch: 99.3%  lr: 0.040060  loss: 0.065657  eta: 0h14m  tot: 0h3m39s  (19.9%)\rEpoch: 99.4%  lr: 0.040060  loss: 0.065632  eta: 0h14m  tot: 0h3m40s  (19.9%)\rEpoch: 99.5%  lr: 0.040050  loss: 0.065624  eta: 0h14m  tot: 0h3m40s  (19.9%)\rEpoch: 99.6%  lr: 0.040040  loss: 0.065611  eta: 0h14m  tot: 0h3m40s  (19.9%)\rEpoch: 99.6%  lr: 0.040030  loss: 0.065579  eta: 0h14m  tot: 0h3m40s  (19.9%)\rEpoch: 99.7%  lr: 0.040020  loss: 0.065566  eta: 0h14m  tot: 0h3m40s  (19.9%)\rEpoch: 99.8%  lr: 0.040010  loss: 0.065547  eta: 0h14m  tot: 0h3m41s  (20.0%)\rEpoch: 99.9%  lr: 0.040000  loss: 0.065522  eta: 0h14m  tot: 0h3m41s  (20.0%)\rEpoch: 100.0%  lr: 0.040000  loss: 0.065514  eta: 0h14m  tot: 0h3m41s  (20.0%)\rEpoch: 0.1%  lr: 0.040000  loss: 0.015946  eta: 0h11m  tot: 0h3m41s  (20.0%)\rEpoch: 0.2%  lr: 0.039990  loss: 0.021741  eta: 0h11m  tot: 0h3m41s  (20.0%)\rEpoch: 0.3%  lr: 0.039980  loss: 0.016966  eta: 0h11m  tot: 0h3m42s  (20.1%)\rEpoch: 0.4%  lr: 0.039980  loss: 0.018102  eta: 0h12m  tot: 0h3m42s  (20.1%)\rEpoch: 0.4%  lr: 0.039960  loss: 0.016375  eta: 0h12m  tot: 0h3m42s  (20.1%)\rEpoch: 0.5%  lr: 0.039960  loss: 0.014670  eta: 0h11m  tot: 0h3m42s  (20.1%)\rEpoch: 0.6%  lr: 0.039950  loss: 0.014683  eta: 0h11m  tot: 0h3m42s  (20.1%)\rEpoch: 0.7%  lr: 0.039950  loss: 0.015593  eta: 0h12m  tot: 0h3m42s  (20.1%)\rEpoch: 0.8%  lr: 0.039950  loss: 0.015721  eta: 0h12m  tot: 0h3m43s  (20.2%)\rEpoch: 0.9%  lr: 0.039950  loss: 0.015490  eta: 0h12m  tot: 0h3m43s  (20.2%)\rEpoch: 1.0%  lr: 0.039950  loss: 0.014915  eta: 0h12m  tot: 0h3m43s  (20.2%)\rEpoch: 1.1%  lr: 0.039930  loss: 0.014333  eta: 0h12m  tot: 0h3m43s  (20.2%)\rEpoch: 1.2%  lr: 0.039910  loss: 0.014535  eta: 0h12m  tot: 0h3m43s  (20.2%)\rEpoch: 1.3%  lr: 0.039900  loss: 0.013856  eta: 0h12m  tot: 0h3m43s  (20.3%)\rEpoch: 1.3%  lr: 0.039890  loss: 0.014094  eta: 0h12m  tot: 0h3m44s  (20.3%)\rEpoch: 1.4%  lr: 0.039880  loss: 0.013942  eta: 0h12m  tot: 0h3m44s  (20.3%)\rEpoch: 1.5%  lr: 0.039840  loss: 0.013695  eta: 0h12m  tot: 0h3m44s  (20.3%)\rEpoch: 1.6%  lr: 0.039810  loss: 0.013619  eta: 0h12m  tot: 0h3m44s  (20.3%)\rEpoch: 1.7%  lr: 0.039790  loss: 0.013993  eta: 0h12m  tot: 0h3m44s  (20.3%)\rEpoch: 1.8%  lr: 0.039780  loss: 0.014001  eta: 0h12m  tot: 0h3m44s  (20.4%)\rEpoch: 1.9%  lr: 0.039770  loss: 0.013958  eta: 0h12m  tot: 0h3m45s  (20.4%)\rEpoch: 2.0%  lr: 0.039770  loss: 0.014489  eta: 0h12m  tot: 0h3m45s  (20.4%)\rEpoch: 2.1%  lr: 0.039750  loss: 0.014747  eta: 0h12m  tot: 0h3m45s  (20.4%)\rEpoch: 2.2%  lr: 0.039730  loss: 0.014791  eta: 0h12m  tot: 0h3m45s  (20.4%)\rEpoch: 2.2%  lr: 0.039710  loss: 0.014517  eta: 0h12m  tot: 0h3m45s  (20.4%)\rEpoch: 2.3%  lr: 0.039690  loss: 0.014358  eta: 0h12m  tot: 0h3m45s  (20.5%)\rEpoch: 2.4%  lr: 0.039690  loss: 0.014172  eta: 0h12m  tot: 0h3m46s  (20.5%)\rEpoch: 2.5%  lr: 0.039680  loss: 0.014261  eta: 0h12m  tot: 0h3m46s  (20.5%)\rEpoch: 2.6%  lr: 0.039680  loss: 0.014072  eta: 0h12m  tot: 0h3m46s  (20.5%)\rEpoch: 2.7%  lr: 0.039680  loss: 0.013957  eta: 0h12m  tot: 0h3m46s  (20.5%)\rEpoch: 2.8%  lr: 0.039660  loss: 0.013719  eta: 0h12m  tot: 0h3m46s  (20.6%)\rEpoch: 2.9%  lr: 0.039660  loss: 0.013929  eta: 0h12m  tot: 0h3m46s  (20.6%)\rEpoch: 3.0%  lr: 0.039660  loss: 0.014065  eta: 0h12m  tot: 0h3m47s  (20.6%)\rEpoch: 3.1%  lr: 0.039660  loss: 0.014186  eta: 0h12m  tot: 0h3m47s  (20.6%)\rEpoch: 3.1%  lr: 0.039660  loss: 0.014035  eta: 0h12m  tot: 0h3m47s  (20.6%)\rEpoch: 3.2%  lr: 0.039650  loss: 0.013979  eta: 0h12m  tot: 0h3m47s  (20.6%)\rEpoch: 3.3%  lr: 0.039640  loss: 0.013935  eta: 0h12m  tot: 0h3m47s  (20.7%)\rEpoch: 3.4%  lr: 0.039640  loss: 0.014038  eta: 0h12m  tot: 0h3m47s  (20.7%)\rEpoch: 3.5%  lr: 0.039630  loss: 0.014078  eta: 0h12m  tot: 0h3m48s  (20.7%)\rEpoch: 3.6%  lr: 0.039630  loss: 0.014115  eta: 0h12m  tot: 0h3m48s  (20.7%)\rEpoch: 3.7%  lr: 0.039620  loss: 0.013977  eta: 0h12m  tot: 0h3m48s  (20.7%)\rEpoch: 3.8%  lr: 0.039610  loss: 0.013841  eta: 0h12m  tot: 0h3m48s  (20.8%)\rEpoch: 3.9%  lr: 0.039580  loss: 0.013827  eta: 0h12m  tot: 0h3m48s  (20.8%)\rEpoch: 4.0%  lr: 0.039550  loss: 0.013828  eta: 0h12m  tot: 0h3m49s  (20.8%)\rEpoch: 4.0%  lr: 0.039550  loss: 0.013843  eta: 0h12m  tot: 0h3m49s  (20.8%)\rEpoch: 4.1%  lr: 0.039550  loss: 0.013775  eta: 0h12m  tot: 0h3m49s  (20.8%)\rEpoch: 4.2%  lr: 0.039540  loss: 0.013730  eta: 0h12m  tot: 0h3m49s  (20.8%)\rEpoch: 4.3%  lr: 0.039540  loss: 0.013941  eta: 0h12m  tot: 0h3m49s  (20.9%)\rEpoch: 4.4%  lr: 0.039530  loss: 0.013863  eta: 0h12m  tot: 0h3m49s  (20.9%)\rEpoch: 4.5%  lr: 0.039510  loss: 0.013883  eta: 0h12m  tot: 0h3m50s  (20.9%)\rEpoch: 4.6%  lr: 0.039510  loss: 0.013909  eta: 0h12m  tot: 0h3m50s  (20.9%)\rEpoch: 4.7%  lr: 0.039500  loss: 0.013951  eta: 0h12m  tot: 0h3m50s  (20.9%)\rEpoch: 4.8%  lr: 0.039479  loss: 0.014214  eta: 0h12m  tot: 0h3m50s  (21.0%)\rEpoch: 4.9%  lr: 0.039479  loss: 0.014167  eta: 0h12m  tot: 0h3m50s  (21.0%)\rEpoch: 5.0%  lr: 0.039469  loss: 0.014038  eta: 0h12m  tot: 0h3m50s  (21.0%)\rEpoch: 5.0%  lr: 0.039459  loss: 0.014071  eta: 0h12m  tot: 0h3m51s  (21.0%)\rEpoch: 5.1%  lr: 0.039449  loss: 0.014075  eta: 0h12m  tot: 0h3m51s  (21.0%)\rEpoch: 5.2%  lr: 0.039449  loss: 0.014302  eta: 0h12m  tot: 0h3m51s  (21.0%)\rEpoch: 5.3%  lr: 0.039439  loss: 0.014163  eta: 0h12m  tot: 0h3m51s  (21.1%)\rEpoch: 5.4%  lr: 0.039439  loss: 0.014206  eta: 0h12m  tot: 0h3m51s  (21.1%)\rEpoch: 5.5%  lr: 0.039419  loss: 0.014314  eta: 0h12m  tot: 0h3m51s  (21.1%)\rEpoch: 5.6%  lr: 0.039419  loss: 0.014258  eta: 0h12m  tot: 0h3m52s  (21.1%)\rEpoch: 5.7%  lr: 0.039389  loss: 0.014224  eta: 0h12m  tot: 0h3m52s  (21.1%)\rEpoch: 5.8%  lr: 0.039389  loss: 0.014131  eta: 0h12m  tot: 0h3m52s  (21.2%)\rEpoch: 5.9%  lr: 0.039389  loss: 0.014141  eta: 0h12m  tot: 0h3m52s  (21.2%)\rEpoch: 5.9%  lr: 0.039389  loss: 0.014066  eta: 0h12m  tot: 0h3m52s  (21.2%)\rEpoch: 6.0%  lr: 0.039379  loss: 0.014030  eta: 0h12m  tot: 0h3m52s  (21.2%)\rEpoch: 6.1%  lr: 0.039359  loss: 0.014063  eta: 0h12m  tot: 0h3m53s  (21.2%)\rEpoch: 6.2%  lr: 0.039349  loss: 0.014023  eta: 0h12m  tot: 0h3m53s  (21.2%)\rEpoch: 6.3%  lr: 0.039339  loss: 0.013957  eta: 0h12m  tot: 0h3m53s  (21.3%)\rEpoch: 6.4%  lr: 0.039339  loss: 0.014039  eta: 0h12m  tot: 0h3m53s  (21.3%)\rEpoch: 6.5%  lr: 0.039339  loss: 0.014147  eta: 0h12m  tot: 0h3m53s  (21.3%)\rEpoch: 6.6%  lr: 0.039329  loss: 0.014166  eta: 0h12m  tot: 0h3m53s  (21.3%)\rEpoch: 6.7%  lr: 0.039319  loss: 0.014205  eta: 0h12m  tot: 0h3m54s  (21.3%)\rEpoch: 6.8%  lr: 0.039319  loss: 0.014309  eta: 0h12m  tot: 0h3m54s  (21.4%)\rEpoch: 6.8%  lr: 0.039309  loss: 0.014278  eta: 0h12m  tot: 0h3m54s  (21.4%)\rEpoch: 6.9%  lr: 0.039289  loss: 0.014218  eta: 0h12m  tot: 0h3m54s  (21.4%)\rEpoch: 7.0%  lr: 0.039259  loss: 0.014211  eta: 0h12m  tot: 0h3m54s  (21.4%)\rEpoch: 7.1%  lr: 0.039259  loss: 0.014134  eta: 0h12m  tot: 0h3m54s  (21.4%)\rEpoch: 7.2%  lr: 0.039259  loss: 0.014084  eta: 0h12m  tot: 0h3m55s  (21.4%)\rEpoch: 7.3%  lr: 0.039259  loss: 0.013991  eta: 0h12m  tot: 0h3m55s  (21.5%)\rEpoch: 7.4%  lr: 0.039259  loss: 0.013981  eta: 0h12m  tot: 0h3m55s  (21.5%)\rEpoch: 7.5%  lr: 0.039249  loss: 0.013902  eta: 0h12m  tot: 0h3m55s  (21.5%)\rEpoch: 7.6%  lr: 0.039249  loss: 0.013902  eta: 0h12m  tot: 0h3m55s  (21.5%)\rEpoch: 7.7%  lr: 0.039239  loss: 0.013865  eta: 0h12m  tot: 0h3m55s  (21.5%)\rEpoch: 7.7%  lr: 0.039239  loss: 0.013780  eta: 0h12m  tot: 0h3m56s  (21.5%)\rEpoch: 7.8%  lr: 0.039209  loss: 0.013752  eta: 0h12m  tot: 0h3m56s  (21.6%)\rEpoch: 7.9%  lr: 0.039209  loss: 0.013711  eta: 0h12m  tot: 0h3m56s  (21.6%)\rEpoch: 8.0%  lr: 0.039199  loss: 0.013592  eta: 0h12m  tot: 0h3m56s  (21.6%)\rEpoch: 8.1%  lr: 0.039199  loss: 0.013627  eta: 0h12m  tot: 0h3m56s  (21.6%)\rEpoch: 8.2%  lr: 0.039179  loss: 0.013737  eta: 0h12m  tot: 0h3m56s  (21.6%)\rEpoch: 8.3%  lr: 0.039179  loss: 0.013831  eta: 0h12m  tot: 0h3m57s  (21.7%)\rEpoch: 8.4%  lr: 0.039169  loss: 0.013804  eta: 0h12m  tot: 0h3m57s  (21.7%)\rEpoch: 8.5%  lr: 0.039159  loss: 0.013802  eta: 0h12m  tot: 0h3m57s  (21.7%)\rEpoch: 8.6%  lr: 0.039149  loss: 0.013814  eta: 0h12m  tot: 0h3m57s  (21.7%)\rEpoch: 8.6%  lr: 0.039149  loss: 0.013839  eta: 0h12m  tot: 0h3m57s  (21.7%)\rEpoch: 8.7%  lr: 0.039149  loss: 0.013902  eta: 0h12m  tot: 0h3m58s  (21.7%)\rEpoch: 8.8%  lr: 0.039149  loss: 0.013887  eta: 0h12m  tot: 0h3m58s  (21.8%)\rEpoch: 8.9%  lr: 0.039149  loss: 0.013884  eta: 0h12m  tot: 0h3m58s  (21.8%)\rEpoch: 9.0%  lr: 0.039139  loss: 0.013825  eta: 0h12m  tot: 0h3m58s  (21.8%)\rEpoch: 9.1%  lr: 0.039139  loss: 0.013758  eta: 0h12m  tot: 0h3m58s  (21.8%)\rEpoch: 9.2%  lr: 0.039119  loss: 0.013758  eta: 0h12m  tot: 0h3m58s  (21.8%)\rEpoch: 9.3%  lr: 0.039119  loss: 0.013746  eta: 0h12m  tot: 0h3m59s  (21.9%)\rEpoch: 9.4%  lr: 0.039099  loss: 0.013725  eta: 0h12m  tot: 0h3m59s  (21.9%)\rEpoch: 9.5%  lr: 0.039099  loss: 0.013646  eta: 0h12m  tot: 0h3m59s  (21.9%)\rEpoch: 9.5%  lr: 0.039099  loss: 0.013555  eta: 0h12m  tot: 0h3m59s  (21.9%)\rEpoch: 9.6%  lr: 0.039089  loss: 0.013625  eta: 0h12m  tot: 0h3m59s  (21.9%)\rEpoch: 9.7%  lr: 0.039089  loss: 0.013578  eta: 0h12m  tot: 0h3m59s  (21.9%)\rEpoch: 9.8%  lr: 0.039089  loss: 0.013604  eta: 0h12m  tot: 0h4m0s  (22.0%)\rEpoch: 9.9%  lr: 0.039069  loss: 0.013575  eta: 0h12m  tot: 0h4m0s  (22.0%)\rEpoch: 10.0%  lr: 0.039039  loss: 0.013580  eta: 0h12m  tot: 0h4m0s  (22.0%)\rEpoch: 10.1%  lr: 0.039019  loss: 0.013580  eta: 0h12m  tot: 0h4m0s  (22.0%)\rEpoch: 10.2%  lr: 0.038989  loss: 0.013560  eta: 0h12m  tot: 0h4m0s  (22.0%)\rEpoch: 10.3%  lr: 0.038949  loss: 0.013524  eta: 0h12m  tot: 0h4m0s  (22.1%)\rEpoch: 10.4%  lr: 0.038949  loss: 0.013618  eta: 0h12m  tot: 0h4m1s  (22.1%)\rEpoch: 10.4%  lr: 0.038929  loss: 0.013573  eta: 0h12m  tot: 0h4m1s  (22.1%)\rEpoch: 10.5%  lr: 0.038929  loss: 0.013536  eta: 0h12m  tot: 0h4m1s  (22.1%)\rEpoch: 10.6%  lr: 0.038919  loss: 0.013497  eta: 0h12m  tot: 0h4m1s  (22.1%)\rEpoch: 10.7%  lr: 0.038919  loss: 0.013552  eta: 0h12m  tot: 0h4m1s  (22.1%)\rEpoch: 10.8%  lr: 0.038899  loss: 0.013617  eta: 0h12m  tot: 0h4m2s  (22.2%)\rEpoch: 10.9%  lr: 0.038899  loss: 0.013562  eta: 0h12m  tot: 0h4m2s  (22.2%)\rEpoch: 11.0%  lr: 0.038899  loss: 0.013516  eta: 0h12m  tot: 0h4m2s  (22.2%)\rEpoch: 11.1%  lr: 0.038849  loss: 0.013541  eta: 0h12m  tot: 0h4m2s  (22.2%)\rEpoch: 11.2%  lr: 0.038839  loss: 0.013623  eta: 0h12m  tot: 0h4m2s  (22.2%)\rEpoch: 11.3%  lr: 0.038839  loss: 0.013573  eta: 0h12m  tot: 0h4m2s  (22.3%)\rEpoch: 11.3%  lr: 0.038839  loss: 0.013655  eta: 0h12m  tot: 0h4m3s  (22.3%)\rEpoch: 11.4%  lr: 0.038839  loss: 0.013835  eta: 0h12m  tot: 0h4m3s  (22.3%)\rEpoch: 11.5%  lr: 0.038839  loss: 0.013831  eta: 0h12m  tot: 0h4m3s  (22.3%)\rEpoch: 11.6%  lr: 0.038829  loss: 0.013806  eta: 0h12m  tot: 0h4m3s  (22.3%)\rEpoch: 11.7%  lr: 0.038799  loss: 0.013750  eta: 0h12m  tot: 0h4m3s  (22.3%)\rEpoch: 11.8%  lr: 0.038799  loss: 0.013708  eta: 0h12m  tot: 0h4m3s  (22.4%)\rEpoch: 11.9%  lr: 0.038789  loss: 0.013826  eta: 0h12m  tot: 0h4m4s  (22.4%)\rEpoch: 12.0%  lr: 0.038789  loss: 0.013830  eta: 0h12m  tot: 0h4m4s  (22.4%)\rEpoch: 12.1%  lr: 0.038789  loss: 0.013824  eta: 0h12m  tot: 0h4m4s  (22.4%)\rEpoch: 12.2%  lr: 0.038759  loss: 0.013760  eta: 0h12m  tot: 0h4m4s  (22.4%)\rEpoch: 12.2%  lr: 0.038749  loss: 0.013833  eta: 0h12m  tot: 0h4m4s  (22.4%)\rEpoch: 12.3%  lr: 0.038749  loss: 0.013831  eta: 0h12m  tot: 0h4m4s  (22.5%)\rEpoch: 12.4%  lr: 0.038729  loss: 0.013832  eta: 0h12m  tot: 0h4m5s  (22.5%)\rEpoch: 12.5%  lr: 0.038729  loss: 0.013844  eta: 0h12m  tot: 0h4m5s  (22.5%)\rEpoch: 12.6%  lr: 0.038729  loss: 0.013843  eta: 0h12m  tot: 0h4m5s  (22.5%)\rEpoch: 12.7%  lr: 0.038729  loss: 0.013903  eta: 0h12m  tot: 0h4m5s  (22.5%)\rEpoch: 12.8%  lr: 0.038699  loss: 0.013897  eta: 0h12m  tot: 0h4m5s  (22.6%)\rEpoch: 12.9%  lr: 0.038699  loss: 0.013853  eta: 0h12m  tot: 0h4m5s  (22.6%)\rEpoch: 13.0%  lr: 0.038699  loss: 0.013834  eta: 0h12m  tot: 0h4m6s  (22.6%)\rEpoch: 13.1%  lr: 0.038689  loss: 0.013852  eta: 0h12m  tot: 0h4m6s  (22.6%)\rEpoch: 13.1%  lr: 0.038659  loss: 0.013827  eta: 0h12m  tot: 0h4m6s  (22.6%)\rEpoch: 13.2%  lr: 0.038649  loss: 0.013819  eta: 0h12m  tot: 0h4m6s  (22.6%)\rEpoch: 13.3%  lr: 0.038649  loss: 0.013750  eta: 0h12m  tot: 0h4m6s  (22.7%)\rEpoch: 13.4%  lr: 0.038649  loss: 0.013753  eta: 0h12m  tot: 0h4m7s  (22.7%)\rEpoch: 13.5%  lr: 0.038649  loss: 0.013714  eta: 0h12m  tot: 0h4m7s  (22.7%)\rEpoch: 13.6%  lr: 0.038639  loss: 0.013702  eta: 0h12m  tot: 0h4m7s  (22.7%)\rEpoch: 13.7%  lr: 0.038619  loss: 0.013701  eta: 0h12m  tot: 0h4m7s  (22.7%)\rEpoch: 13.8%  lr: 0.038619  loss: 0.013689  eta: 0h12m  tot: 0h4m7s  (22.8%)\rEpoch: 13.9%  lr: 0.038609  loss: 0.013668  eta: 0h12m  tot: 0h4m7s  (22.8%)\rEpoch: 14.0%  lr: 0.038609  loss: 0.013672  eta: 0h12m  tot: 0h4m8s  (22.8%)\rEpoch: 14.0%  lr: 0.038589  loss: 0.013670  eta: 0h12m  tot: 0h4m8s  (22.8%)\rEpoch: 14.1%  lr: 0.038579  loss: 0.013653  eta: 0h12m  tot: 0h4m8s  (22.8%)\rEpoch: 14.2%  lr: 0.038559  loss: 0.013614  eta: 0h12m  tot: 0h4m8s  (22.8%)\rEpoch: 14.3%  lr: 0.038549  loss: 0.013564  eta: 0h12m  tot: 0h4m8s  (22.9%)\rEpoch: 14.4%  lr: 0.038549  loss: 0.013589  eta: 0h12m  tot: 0h4m8s  (22.9%)\rEpoch: 14.5%  lr: 0.038549  loss: 0.013603  eta: 0h12m  tot: 0h4m9s  (22.9%)\rEpoch: 14.6%  lr: 0.038549  loss: 0.013611  eta: 0h12m  tot: 0h4m9s  (22.9%)\rEpoch: 14.7%  lr: 0.038529  loss: 0.013638  eta: 0h12m  tot: 0h4m9s  (22.9%)\rEpoch: 14.8%  lr: 0.038509  loss: 0.013702  eta: 0h12m  tot: 0h4m9s  (23.0%)\rEpoch: 14.9%  lr: 0.038509  loss: 0.013748  eta: 0h12m  tot: 0h4m9s  (23.0%)\rEpoch: 14.9%  lr: 0.038509  loss: 0.013722  eta: 0h12m  tot: 0h4m9s  (23.0%)\rEpoch: 15.0%  lr: 0.038499  loss: 0.013682  eta: 0h12m  tot: 0h4m10s  (23.0%)\rEpoch: 15.1%  lr: 0.038479  loss: 0.013662  eta: 0h12m  tot: 0h4m10s  (23.0%)\rEpoch: 15.2%  lr: 0.038479  loss: 0.013698  eta: 0h12m  tot: 0h4m10s  (23.0%)\rEpoch: 15.3%  lr: 0.038468  loss: 0.013734  eta: 0h12m  tot: 0h4m10s  (23.1%)\rEpoch: 15.4%  lr: 0.038458  loss: 0.013708  eta: 0h12m  tot: 0h4m10s  (23.1%)\rEpoch: 15.5%  lr: 0.038458  loss: 0.013728  eta: 0h12m  tot: 0h4m10s  (23.1%)\rEpoch: 15.6%  lr: 0.038448  loss: 0.013755  eta: 0h12m  tot: 0h4m11s  (23.1%)\rEpoch: 15.7%  lr: 0.038448  loss: 0.013858  eta: 0h12m  tot: 0h4m11s  (23.1%)\rEpoch: 15.8%  lr: 0.038448  loss: 0.013885  eta: 0h12m  tot: 0h4m11s  (23.2%)\rEpoch: 15.8%  lr: 0.038438  loss: 0.013909  eta: 0h12m  tot: 0h4m11s  (23.2%)\rEpoch: 15.9%  lr: 0.038438  loss: 0.013907  eta: 0h12m  tot: 0h4m11s  (23.2%)\rEpoch: 16.0%  lr: 0.038428  loss: 0.013926  eta: 0h12m  tot: 0h4m11s  (23.2%)\rEpoch: 16.1%  lr: 0.038408  loss: 0.013910  eta: 0h12m  tot: 0h4m12s  (23.2%)\rEpoch: 16.2%  lr: 0.038408  loss: 0.013933  eta: 0h12m  tot: 0h4m12s  (23.2%)\rEpoch: 16.3%  lr: 0.038398  loss: 0.013947  eta: 0h12m  tot: 0h4m12s  (23.3%)\rEpoch: 16.4%  lr: 0.038398  loss: 0.013970  eta: 0h12m  tot: 0h4m12s  (23.3%)\rEpoch: 16.5%  lr: 0.038398  loss: 0.013947  eta: 0h12m  tot: 0h4m12s  (23.3%)\rEpoch: 16.6%  lr: 0.038398  loss: 0.013978  eta: 0h12m  tot: 0h4m12s  (23.3%)\rEpoch: 16.7%  lr: 0.038388  loss: 0.013934  eta: 0h12m  tot: 0h4m13s  (23.3%)\rEpoch: 16.7%  lr: 0.038388  loss: 0.013979  eta: 0h12m  tot: 0h4m13s  (23.3%)\rEpoch: 16.8%  lr: 0.038388  loss: 0.013949  eta: 0h12m  tot: 0h4m13s  (23.4%)\rEpoch: 16.9%  lr: 0.038378  loss: 0.013899  eta: 0h12m  tot: 0h4m13s  (23.4%)\rEpoch: 17.0%  lr: 0.038368  loss: 0.013916  eta: 0h12m  tot: 0h4m13s  (23.4%)\rEpoch: 17.1%  lr: 0.038368  loss: 0.013882  eta: 0h12m  tot: 0h4m13s  (23.4%)\rEpoch: 17.2%  lr: 0.038358  loss: 0.013932  eta: 0h12m  tot: 0h4m14s  (23.4%)\rEpoch: 17.3%  lr: 0.038328  loss: 0.013999  eta: 0h12m  tot: 0h4m14s  (23.5%)\rEpoch: 17.4%  lr: 0.038318  loss: 0.013960  eta: 0h12m  tot: 0h4m14s  (23.5%)\rEpoch: 17.5%  lr: 0.038318  loss: 0.013948  eta: 0h12m  tot: 0h4m14s  (23.5%)\rEpoch: 17.6%  lr: 0.038308  loss: 0.013943  eta: 0h12m  tot: 0h4m14s  (23.5%)\rEpoch: 17.6%  lr: 0.038298  loss: 0.013958  eta: 0h12m  tot: 0h4m14s  (23.5%)\rEpoch: 17.7%  lr: 0.038298  loss: 0.013970  eta: 0h12m  tot: 0h4m15s  (23.5%)\rEpoch: 17.8%  lr: 0.038288  loss: 0.014019  eta: 0h12m  tot: 0h4m15s  (23.6%)\rEpoch: 17.9%  lr: 0.038268  loss: 0.014022  eta: 0h12m  tot: 0h4m15s  (23.6%)\rEpoch: 18.0%  lr: 0.038258  loss: 0.014018  eta: 0h12m  tot: 0h4m15s  (23.6%)\rEpoch: 18.1%  lr: 0.038248  loss: 0.014007  eta: 0h12m  tot: 0h4m15s  (23.6%)\rEpoch: 18.2%  lr: 0.038248  loss: 0.013972  eta: 0h12m  tot: 0h4m16s  (23.6%)\rEpoch: 18.3%  lr: 0.038218  loss: 0.013945  eta: 0h12m  tot: 0h4m16s  (23.7%)\rEpoch: 18.4%  lr: 0.038218  loss: 0.013913  eta: 0h12m  tot: 0h4m16s  (23.7%)\rEpoch: 18.5%  lr: 0.038208  loss: 0.013925  eta: 0h12m  tot: 0h4m16s  (23.7%)\rEpoch: 18.5%  lr: 0.038198  loss: 0.013919  eta: 0h12m  tot: 0h4m16s  (23.7%)\rEpoch: 18.6%  lr: 0.038178  loss: 0.013905  eta: 0h12m  tot: 0h4m16s  (23.7%)\rEpoch: 18.7%  lr: 0.038158  loss: 0.013900  eta: 0h12m  tot: 0h4m17s  (23.7%)\rEpoch: 18.8%  lr: 0.038158  loss: 0.013944  eta: 0h12m  tot: 0h4m17s  (23.8%)\rEpoch: 18.9%  lr: 0.038148  loss: 0.013902  eta: 0h12m  tot: 0h4m17s  (23.8%)\rEpoch: 19.0%  lr: 0.038148  loss: 0.013866  eta: 0h12m  tot: 0h4m17s  (23.8%)\rEpoch: 19.1%  lr: 0.038148  loss: 0.013898  eta: 0h12m  tot: 0h4m17s  (23.8%)\rEpoch: 19.2%  lr: 0.038148  loss: 0.013877  eta: 0h12m  tot: 0h4m17s  (23.8%)\rEpoch: 19.3%  lr: 0.038148  loss: 0.013884  eta: 0h12m  tot: 0h4m18s  (23.9%)\rEpoch: 19.4%  lr: 0.038138  loss: 0.013918  eta: 0h12m  tot: 0h4m18s  (23.9%)\rEpoch: 19.4%  lr: 0.038128  loss: 0.013913  eta: 0h12m  tot: 0h4m18s  (23.9%)\rEpoch: 19.5%  lr: 0.038128  loss: 0.013911  eta: 0h12m  tot: 0h4m18s  (23.9%)\rEpoch: 19.6%  lr: 0.038128  loss: 0.013922  eta: 0h11m  tot: 0h4m18s  (23.9%)\rEpoch: 19.7%  lr: 0.038118  loss: 0.013913  eta: 0h11m  tot: 0h4m18s  (23.9%)\rEpoch: 19.8%  lr: 0.038108  loss: 0.013916  eta: 0h11m  tot: 0h4m19s  (24.0%)\rEpoch: 19.9%  lr: 0.038098  loss: 0.013900  eta: 0h11m  tot: 0h4m19s  (24.0%)\rEpoch: 20.0%  lr: 0.038088  loss: 0.013925  eta: 0h11m  tot: 0h4m19s  (24.0%)\rEpoch: 20.1%  lr: 0.038048  loss: 0.013943  eta: 0h11m  tot: 0h4m19s  (24.0%)\rEpoch: 20.2%  lr: 0.038038  loss: 0.013959  eta: 0h11m  tot: 0h4m19s  (24.0%)\rEpoch: 20.3%  lr: 0.038018  loss: 0.013949  eta: 0h11m  tot: 0h4m19s  (24.1%)\rEpoch: 20.3%  lr: 0.038018  loss: 0.013920  eta: 0h11m  tot: 0h4m20s  (24.1%)\rEpoch: 20.4%  lr: 0.038018  loss: 0.013918  eta: 0h11m  tot: 0h4m20s  (24.1%)\rEpoch: 20.5%  lr: 0.038018  loss: 0.013945  eta: 0h11m  tot: 0h4m20s  (24.1%)\rEpoch: 20.6%  lr: 0.038018  loss: 0.013944  eta: 0h11m  tot: 0h4m20s  (24.1%)\rEpoch: 20.7%  lr: 0.038018  loss: 0.013930  eta: 0h11m  tot: 0h4m20s  (24.1%)\rEpoch: 20.8%  lr: 0.038008  loss: 0.013909  eta: 0h11m  tot: 0h4m20s  (24.2%)\rEpoch: 20.9%  lr: 0.037998  loss: 0.013967  eta: 0h11m  tot: 0h4m21s  (24.2%)\rEpoch: 21.0%  lr: 0.037978  loss: 0.013974  eta: 0h11m  tot: 0h4m21s  (24.2%)\rEpoch: 21.1%  lr: 0.037978  loss: 0.013952  eta: 0h11m  tot: 0h4m21s  (24.2%)\rEpoch: 21.2%  lr: 0.037958  loss: 0.013939  eta: 0h11m  tot: 0h4m21s  (24.2%)\rEpoch: 21.2%  lr: 0.037948  loss: 0.013939  eta: 0h11m  tot: 0h4m21s  (24.2%)\rEpoch: 21.3%  lr: 0.037948  loss: 0.013928  eta: 0h11m  tot: 0h4m21s  (24.3%)\rEpoch: 21.4%  lr: 0.037908  loss: 0.013901  eta: 0h11m  tot: 0h4m22s  (24.3%)\rEpoch: 21.5%  lr: 0.037898  loss: 0.013914  eta: 0h11m  tot: 0h4m22s  (24.3%)\rEpoch: 21.6%  lr: 0.037898  loss: 0.013872  eta: 0h11m  tot: 0h4m22s  (24.3%)\rEpoch: 21.7%  lr: 0.037898  loss: 0.013847  eta: 0h11m  tot: 0h4m22s  (24.3%)\rEpoch: 21.8%  lr: 0.037888  loss: 0.013805  eta: 0h11m  tot: 0h4m22s  (24.4%)\rEpoch: 21.9%  lr: 0.037868  loss: 0.013769  eta: 0h11m  tot: 0h4m22s  (24.4%)\rEpoch: 22.0%  lr: 0.037868  loss: 0.013782  eta: 0h11m  tot: 0h4m23s  (24.4%)\rEpoch: 22.1%  lr: 0.037858  loss: 0.013800  eta: 0h11m  tot: 0h4m23s  (24.4%)\rEpoch: 22.1%  lr: 0.037848  loss: 0.013851  eta: 0h11m  tot: 0h4m23s  (24.4%)\rEpoch: 22.2%  lr: 0.037838  loss: 0.013858  eta: 0h11m  tot: 0h4m23s  (24.4%)\rEpoch: 22.3%  lr: 0.037828  loss: 0.013876  eta: 0h11m  tot: 0h4m23s  (24.5%)\rEpoch: 22.4%  lr: 0.037828  loss: 0.013889  eta: 0h11m  tot: 0h4m23s  (24.5%)\rEpoch: 22.5%  lr: 0.037818  loss: 0.013856  eta: 0h11m  tot: 0h4m24s  (24.5%)\rEpoch: 22.6%  lr: 0.037808  loss: 0.013859  eta: 0h11m  tot: 0h4m24s  (24.5%)\rEpoch: 22.7%  lr: 0.037788  loss: 0.013831  eta: 0h11m  tot: 0h4m24s  (24.5%)\rEpoch: 22.8%  lr: 0.037768  loss: 0.013902  eta: 0h11m  tot: 0h4m24s  (24.6%)\rEpoch: 22.9%  lr: 0.037738  loss: 0.013931  eta: 0h11m  tot: 0h4m24s  (24.6%)\rEpoch: 23.0%  lr: 0.037738  loss: 0.013932  eta: 0h11m  tot: 0h4m24s  (24.6%)\rEpoch: 23.0%  lr: 0.037738  loss: 0.013907  eta: 0h11m  tot: 0h4m25s  (24.6%)\rEpoch: 23.1%  lr: 0.037728  loss: 0.013894  eta: 0h11m  tot: 0h4m25s  (24.6%)\rEpoch: 23.2%  lr: 0.037718  loss: 0.013879  eta: 0h11m  tot: 0h4m25s  (24.6%)\rEpoch: 23.3%  lr: 0.037708  loss: 0.013908  eta: 0h11m  tot: 0h4m25s  (24.7%)\rEpoch: 23.4%  lr: 0.037708  loss: 0.013873  eta: 0h11m  tot: 0h4m25s  (24.7%)\rEpoch: 23.5%  lr: 0.037668  loss: 0.013870  eta: 0h11m  tot: 0h4m25s  (24.7%)\rEpoch: 23.6%  lr: 0.037658  loss: 0.013865  eta: 0h11m  tot: 0h4m26s  (24.7%)\rEpoch: 23.7%  lr: 0.037658  loss: 0.013882  eta: 0h11m  tot: 0h4m26s  (24.7%)\rEpoch: 23.8%  lr: 0.037648  loss: 0.013859  eta: 0h11m  tot: 0h4m26s  (24.8%)\rEpoch: 23.9%  lr: 0.037638  loss: 0.013899  eta: 0h11m  tot: 0h4m26s  (24.8%)\rEpoch: 23.9%  lr: 0.037608  loss: 0.013890  eta: 0h11m  tot: 0h4m26s  (24.8%)\rEpoch: 24.0%  lr: 0.037578  loss: 0.013915  eta: 0h11m  tot: 0h4m27s  (24.8%)\rEpoch: 24.1%  lr: 0.037558  loss: 0.013904  eta: 0h11m  tot: 0h4m27s  (24.8%)\rEpoch: 24.2%  lr: 0.037548  loss: 0.013895  eta: 0h11m  tot: 0h4m27s  (24.8%)\rEpoch: 24.3%  lr: 0.037548  loss: 0.013905  eta: 0h11m  tot: 0h4m27s  (24.9%)\rEpoch: 24.4%  lr: 0.037548  loss: 0.013894  eta: 0h11m  tot: 0h4m27s  (24.9%)\rEpoch: 24.5%  lr: 0.037528  loss: 0.013890  eta: 0h11m  tot: 0h4m27s  (24.9%)\rEpoch: 24.6%  lr: 0.037518  loss: 0.013862  eta: 0h11m  tot: 0h4m28s  (24.9%)\rEpoch: 24.7%  lr: 0.037508  loss: 0.013854  eta: 0h11m  tot: 0h4m28s  (24.9%)\rEpoch: 24.8%  lr: 0.037488  loss: 0.013866  eta: 0h11m  tot: 0h4m28s  (25.0%)\rEpoch: 24.8%  lr: 0.037478  loss: 0.013877  eta: 0h11m  tot: 0h4m28s  (25.0%)\rEpoch: 24.9%  lr: 0.037468  loss: 0.013953  eta: 0h11m  tot: 0h4m28s  (25.0%)\rEpoch: 25.0%  lr: 0.037457  loss: 0.013941  eta: 0h11m  tot: 0h4m28s  (25.0%)\rEpoch: 25.1%  lr: 0.037447  loss: 0.013999  eta: 0h11m  tot: 0h4m29s  (25.0%)\rEpoch: 25.2%  lr: 0.037437  loss: 0.013990  eta: 0h11m  tot: 0h4m29s  (25.0%)\rEpoch: 25.3%  lr: 0.037427  loss: 0.013981  eta: 0h11m  tot: 0h4m29s  (25.1%)\rEpoch: 25.4%  lr: 0.037427  loss: 0.013990  eta: 0h11m  tot: 0h4m29s  (25.1%)\rEpoch: 25.5%  lr: 0.037417  loss: 0.013960  eta: 0h11m  tot: 0h4m29s  (25.1%)\rEpoch: 25.6%  lr: 0.037407  loss: 0.013929  eta: 0h11m  tot: 0h4m29s  (25.1%)\rEpoch: 25.7%  lr: 0.037387  loss: 0.013930  eta: 0h11m  tot: 0h4m30s  (25.1%)\rEpoch: 25.7%  lr: 0.037377  loss: 0.013899  eta: 0h11m  tot: 0h4m30s  (25.1%)\rEpoch: 25.8%  lr: 0.037367  loss: 0.013891  eta: 0h11m  tot: 0h4m30s  (25.2%)\rEpoch: 25.9%  lr: 0.037357  loss: 0.013920  eta: 0h11m  tot: 0h4m30s  (25.2%)\rEpoch: 26.0%  lr: 0.037357  loss: 0.013948  eta: 0h11m  tot: 0h4m30s  (25.2%)\rEpoch: 26.1%  lr: 0.037327  loss: 0.013919  eta: 0h11m  tot: 0h4m30s  (25.2%)\rEpoch: 26.2%  lr: 0.037277  loss: 0.013928  eta: 0h11m  tot: 0h4m31s  (25.2%)\rEpoch: 26.3%  lr: 0.037277  loss: 0.013915  eta: 0h11m  tot: 0h4m31s  (25.3%)\rEpoch: 26.4%  lr: 0.037267  loss: 0.013901  eta: 0h11m  tot: 0h4m31s  (25.3%)\rEpoch: 26.5%  lr: 0.037257  loss: 0.013874  eta: 0h11m  tot: 0h4m31s  (25.3%)\rEpoch: 26.6%  lr: 0.037237  loss: 0.013847  eta: 0h11m  tot: 0h4m31s  (25.3%)\rEpoch: 26.6%  lr: 0.037217  loss: 0.013840  eta: 0h11m  tot: 0h4m31s  (25.3%)\rEpoch: 26.7%  lr: 0.037197  loss: 0.013841  eta: 0h11m  tot: 0h4m32s  (25.3%)\rEpoch: 26.8%  lr: 0.037187  loss: 0.013877  eta: 0h11m  tot: 0h4m32s  (25.4%)\rEpoch: 26.9%  lr: 0.037177  loss: 0.013858  eta: 0h11m  tot: 0h4m32s  (25.4%)\rEpoch: 27.0%  lr: 0.037167  loss: 0.013877  eta: 0h11m  tot: 0h4m32s  (25.4%)\rEpoch: 27.1%  lr: 0.037137  loss: 0.013886  eta: 0h11m  tot: 0h4m32s  (25.4%)\rEpoch: 27.2%  lr: 0.037127  loss: 0.013882  eta: 0h11m  tot: 0h4m32s  (25.4%)\rEpoch: 27.3%  lr: 0.037127  loss: 0.013860  eta: 0h11m  tot: 0h4m33s  (25.5%)\rEpoch: 27.4%  lr: 0.037127  loss: 0.013890  eta: 0h11m  tot: 0h4m33s  (25.5%)\rEpoch: 27.5%  lr: 0.037127  loss: 0.013882  eta: 0h11m  tot: 0h4m33s  (25.5%)\rEpoch: 27.5%  lr: 0.037117  loss: 0.013863  eta: 0h11m  tot: 0h4m33s  (25.5%)\rEpoch: 27.6%  lr: 0.037097  loss: 0.013843  eta: 0h11m  tot: 0h4m33s  (25.5%)\rEpoch: 27.7%  lr: 0.037077  loss: 0.013837  eta: 0h11m  tot: 0h4m33s  (25.5%)\rEpoch: 27.8%  lr: 0.037077  loss: 0.013844  eta: 0h11m  tot: 0h4m34s  (25.6%)\rEpoch: 27.9%  lr: 0.037077  loss: 0.013829  eta: 0h11m  tot: 0h4m34s  (25.6%)\rEpoch: 28.0%  lr: 0.037077  loss: 0.013846  eta: 0h11m  tot: 0h4m34s  (25.6%)\rEpoch: 28.1%  lr: 0.037077  loss: 0.013840  eta: 0h11m  tot: 0h4m34s  (25.6%)\rEpoch: 28.2%  lr: 0.037077  loss: 0.013912  eta: 0h11m  tot: 0h4m34s  (25.6%)\rEpoch: 28.3%  lr: 0.037077  loss: 0.013908  eta: 0h11m  tot: 0h4m34s  (25.7%)\rEpoch: 28.4%  lr: 0.037077  loss: 0.013889  eta: 0h11m  tot: 0h4m35s  (25.7%)\rEpoch: 28.4%  lr: 0.037067  loss: 0.013920  eta: 0h11m  tot: 0h4m35s  (25.7%)\rEpoch: 28.5%  lr: 0.037057  loss: 0.013911  eta: 0h11m  tot: 0h4m35s  (25.7%)\rEpoch: 28.6%  lr: 0.037037  loss: 0.013956  eta: 0h11m  tot: 0h4m35s  (25.7%)\rEpoch: 28.7%  lr: 0.037017  loss: 0.013938  eta: 0h11m  tot: 0h4m35s  (25.7%)\rEpoch: 28.8%  lr: 0.037007  loss: 0.013921  eta: 0h11m  tot: 0h4m35s  (25.8%)\rEpoch: 28.9%  lr: 0.037007  loss: 0.013933  eta: 0h11m  tot: 0h4m35s  (25.8%)\rEpoch: 29.0%  lr: 0.036997  loss: 0.013945  eta: 0h11m  tot: 0h4m36s  (25.8%)\rEpoch: 29.1%  lr: 0.036977  loss: 0.013952  eta: 0h11m  tot: 0h4m36s  (25.8%)\rEpoch: 29.2%  lr: 0.036957  loss: 0.013936  eta: 0h11m  tot: 0h4m36s  (25.8%)\rEpoch: 29.3%  lr: 0.036937  loss: 0.013951  eta: 0h11m  tot: 0h4m36s  (25.9%)\rEpoch: 29.3%  lr: 0.036927  loss: 0.013970  eta: 0h11m  tot: 0h4m36s  (25.9%)\rEpoch: 29.4%  lr: 0.036907  loss: 0.013971  eta: 0h11m  tot: 0h4m37s  (25.9%)\rEpoch: 29.5%  lr: 0.036897  loss: 0.013953  eta: 0h11m  tot: 0h4m37s  (25.9%)\rEpoch: 29.6%  lr: 0.036897  loss: 0.013948  eta: 0h11m  tot: 0h4m37s  (25.9%)\rEpoch: 29.7%  lr: 0.036887  loss: 0.013955  eta: 0h11m  tot: 0h4m37s  (25.9%)\rEpoch: 29.8%  lr: 0.036867  loss: 0.013988  eta: 0h11m  tot: 0h4m37s  (26.0%)\rEpoch: 29.9%  lr: 0.036847  loss: 0.014009  eta: 0h11m  tot: 0h4m37s  (26.0%)\rEpoch: 30.0%  lr: 0.036837  loss: 0.013998  eta: 0h11m  tot: 0h4m38s  (26.0%)\rEpoch: 30.1%  lr: 0.036827  loss: 0.014027  eta: 0h11m  tot: 0h4m38s  (26.0%)\rEpoch: 30.2%  lr: 0.036817  loss: 0.014033  eta: 0h11m  tot: 0h4m38s  (26.0%)\rEpoch: 30.2%  lr: 0.036797  loss: 0.014026  eta: 0h11m  tot: 0h4m38s  (26.0%)\rEpoch: 30.3%  lr: 0.036787  loss: 0.014013  eta: 0h11m  tot: 0h4m38s  (26.1%)\rEpoch: 30.4%  lr: 0.036767  loss: 0.014050  eta: 0h11m  tot: 0h4m38s  (26.1%)\rEpoch: 30.5%  lr: 0.036747  loss: 0.014037  eta: 0h11m  tot: 0h4m39s  (26.1%)\rEpoch: 30.6%  lr: 0.036737  loss: 0.014035  eta: 0h11m  tot: 0h4m39s  (26.1%)\rEpoch: 30.7%  lr: 0.036727  loss: 0.014030  eta: 0h11m  tot: 0h4m39s  (26.1%)\rEpoch: 30.8%  lr: 0.036717  loss: 0.014004  eta: 0h11m  tot: 0h4m39s  (26.2%)\rEpoch: 30.9%  lr: 0.036697  loss: 0.014022  eta: 0h11m  tot: 0h4m39s  (26.2%)\rEpoch: 31.0%  lr: 0.036687  loss: 0.014019  eta: 0h11m  tot: 0h4m39s  (26.2%)\rEpoch: 31.1%  lr: 0.036667  loss: 0.014029  eta: 0h11m  tot: 0h4m40s  (26.2%)\rEpoch: 31.1%  lr: 0.036667  loss: 0.014040  eta: 0h11m  tot: 0h4m40s  (26.2%)\rEpoch: 31.2%  lr: 0.036657  loss: 0.014028  eta: 0h11m  tot: 0h4m40s  (26.2%)\rEpoch: 31.3%  lr: 0.036647  loss: 0.014047  eta: 0h11m  tot: 0h4m40s  (26.3%)\rEpoch: 31.4%  lr: 0.036637  loss: 0.014033  eta: 0h11m  tot: 0h4m40s  (26.3%)\rEpoch: 31.5%  lr: 0.036637  loss: 0.014008  eta: 0h11m  tot: 0h4m40s  (26.3%)\rEpoch: 31.6%  lr: 0.036617  loss: 0.013981  eta: 0h11m  tot: 0h4m41s  (26.3%)\rEpoch: 31.7%  lr: 0.036607  loss: 0.013976  eta: 0h11m  tot: 0h4m41s  (26.3%)\rEpoch: 31.8%  lr: 0.036597  loss: 0.014001  eta: 0h11m  tot: 0h4m41s  (26.4%)\rEpoch: 31.9%  lr: 0.036587  loss: 0.013975  eta: 0h11m  tot: 0h4m41s  (26.4%)\rEpoch: 32.0%  lr: 0.036567  loss: 0.013971  eta: 0h11m  tot: 0h4m41s  (26.4%)\rEpoch: 32.0%  lr: 0.036567  loss: 0.013975  eta: 0h11m  tot: 0h4m41s  (26.4%)\rEpoch: 32.1%  lr: 0.036557  loss: 0.013972  eta: 0h11m  tot: 0h4m42s  (26.4%)\rEpoch: 32.2%  lr: 0.036557  loss: 0.013959  eta: 0h11m  tot: 0h4m42s  (26.4%)\rEpoch: 32.3%  lr: 0.036527  loss: 0.013951  eta: 0h11m  tot: 0h4m42s  (26.5%)\rEpoch: 32.4%  lr: 0.036507  loss: 0.013942  eta: 0h11m  tot: 0h4m42s  (26.5%)\rEpoch: 32.5%  lr: 0.036507  loss: 0.013935  eta: 0h11m  tot: 0h4m42s  (26.5%)\rEpoch: 32.6%  lr: 0.036497  loss: 0.013925  eta: 0h11m  tot: 0h4m42s  (26.5%)\rEpoch: 32.7%  lr: 0.036487  loss: 0.013925  eta: 0h11m  tot: 0h4m43s  (26.5%)\rEpoch: 32.8%  lr: 0.036487  loss: 0.013897  eta: 0h11m  tot: 0h4m43s  (26.6%)\rEpoch: 32.9%  lr: 0.036447  loss: 0.013912  eta: 0h11m  tot: 0h4m43s  (26.6%)\rEpoch: 32.9%  lr: 0.036436  loss: 0.013901  eta: 0h11m  tot: 0h4m43s  (26.6%)\rEpoch: 33.0%  lr: 0.036436  loss: 0.013938  eta: 0h11m  tot: 0h4m43s  (26.6%)\rEpoch: 33.1%  lr: 0.036436  loss: 0.013989  eta: 0h11m  tot: 0h4m43s  (26.6%)\rEpoch: 33.2%  lr: 0.036436  loss: 0.013959  eta: 0h11m  tot: 0h4m44s  (26.6%)\rEpoch: 33.3%  lr: 0.036436  loss: 0.013972  eta: 0h11m  tot: 0h4m44s  (26.7%)\rEpoch: 33.4%  lr: 0.036416  loss: 0.013966  eta: 0h11m  tot: 0h4m44s  (26.7%)\rEpoch: 33.5%  lr: 0.036416  loss: 0.013951  eta: 0h11m  tot: 0h4m44s  (26.7%)\rEpoch: 33.6%  lr: 0.036416  loss: 0.013956  eta: 0h11m  tot: 0h4m44s  (26.7%)\rEpoch: 33.7%  lr: 0.036406  loss: 0.013936  eta: 0h11m  tot: 0h4m44s  (26.7%)\rEpoch: 33.8%  lr: 0.036396  loss: 0.013952  eta: 0h11m  tot: 0h4m45s  (26.8%)\rEpoch: 33.8%  lr: 0.036376  loss: 0.013947  eta: 0h11m  tot: 0h4m45s  (26.8%)\rEpoch: 33.9%  lr: 0.036376  loss: 0.013948  eta: 0h11m  tot: 0h4m45s  (26.8%)\rEpoch: 34.0%  lr: 0.036356  loss: 0.013940  eta: 0h11m  tot: 0h4m45s  (26.8%)\rEpoch: 34.1%  lr: 0.036346  loss: 0.013947  eta: 0h11m  tot: 0h4m45s  (26.8%)\rEpoch: 34.2%  lr: 0.036336  loss: 0.013931  eta: 0h11m  tot: 0h4m45s  (26.8%)\rEpoch: 34.3%  lr: 0.036326  loss: 0.013913  eta: 0h11m  tot: 0h4m46s  (26.9%)\rEpoch: 34.4%  lr: 0.036316  loss: 0.013901  eta: 0h11m  tot: 0h4m46s  (26.9%)\rEpoch: 34.5%  lr: 0.036316  loss: 0.013905  eta: 0h11m  tot: 0h4m46s  (26.9%)\rEpoch: 34.6%  lr: 0.036306  loss: 0.013908  eta: 0h11m  tot: 0h4m46s  (26.9%)\rEpoch: 34.7%  lr: 0.036306  loss: 0.013890  eta: 0h11m  tot: 0h4m46s  (26.9%)\rEpoch: 34.7%  lr: 0.036296  loss: 0.013896  eta: 0h11m  tot: 0h4m46s  (26.9%)\rEpoch: 34.8%  lr: 0.036286  loss: 0.013913  eta: 0h11m  tot: 0h4m47s  (27.0%)\rEpoch: 34.9%  lr: 0.036286  loss: 0.013896  eta: 0h11m  tot: 0h4m47s  (27.0%)\rEpoch: 35.0%  lr: 0.036276  loss: 0.013913  eta: 0h11m  tot: 0h4m47s  (27.0%)\rEpoch: 35.1%  lr: 0.036276  loss: 0.013917  eta: 0h11m  tot: 0h4m47s  (27.0%)\rEpoch: 35.2%  lr: 0.036276  loss: 0.013915  eta: 0h11m  tot: 0h4m47s  (27.0%)\rEpoch: 35.3%  lr: 0.036276  loss: 0.013913  eta: 0h11m  tot: 0h4m48s  (27.1%)\rEpoch: 35.4%  lr: 0.036256  loss: 0.013909  eta: 0h11m  tot: 0h4m48s  (27.1%)\rEpoch: 35.5%  lr: 0.036246  loss: 0.013919  eta: 0h11m  tot: 0h4m48s  (27.1%)\rEpoch: 35.6%  lr: 0.036246  loss: 0.013908  eta: 0h11m  tot: 0h4m48s  (27.1%)\rEpoch: 35.6%  lr: 0.036246  loss: 0.013900  eta: 0h11m  tot: 0h4m48s  (27.1%)\rEpoch: 35.7%  lr: 0.036226  loss: 0.013933  eta: 0h11m  tot: 0h4m48s  (27.1%)\rEpoch: 35.8%  lr: 0.036176  loss: 0.013920  eta: 0h11m  tot: 0h4m49s  (27.2%)\rEpoch: 35.9%  lr: 0.036176  loss: 0.013953  eta: 0h11m  tot: 0h4m49s  (27.2%)\rEpoch: 36.0%  lr: 0.036176  loss: 0.013958  eta: 0h11m  tot: 0h4m49s  (27.2%)\rEpoch: 36.1%  lr: 0.036166  loss: 0.013966  eta: 0h11m  tot: 0h4m49s  (27.2%)\rEpoch: 36.2%  lr: 0.036146  loss: 0.013955  eta: 0h11m  tot: 0h4m49s  (27.2%)\rEpoch: 36.3%  lr: 0.036146  loss: 0.014021  eta: 0h11m  tot: 0h4m49s  (27.3%)\rEpoch: 36.4%  lr: 0.036146  loss: 0.014024  eta: 0h11m  tot: 0h4m50s  (27.3%)\rEpoch: 36.5%  lr: 0.036126  loss: 0.014022  eta: 0h11m  tot: 0h4m50s  (27.3%)\rEpoch: 36.5%  lr: 0.036116  loss: 0.014018  eta: 0h11m  tot: 0h4m50s  (27.3%)\rEpoch: 36.6%  lr: 0.036106  loss: 0.014023  eta: 0h11m  tot: 0h4m50s  (27.3%)\rEpoch: 36.7%  lr: 0.036106  loss: 0.014005  eta: 0h11m  tot: 0h4m50s  (27.3%)\rEpoch: 36.8%  lr: 0.036106  loss: 0.013998  eta: 0h11m  tot: 0h4m50s  (27.4%)\rEpoch: 36.9%  lr: 0.036096  loss: 0.014003  eta: 0h11m  tot: 0h4m51s  (27.4%)\rEpoch: 37.0%  lr: 0.036096  loss: 0.013999  eta: 0h11m  tot: 0h4m51s  (27.4%)\rEpoch: 37.1%  lr: 0.036096  loss: 0.013985  eta: 0h11m  tot: 0h4m51s  (27.4%)\rEpoch: 37.2%  lr: 0.036086  loss: 0.013992  eta: 0h11m  tot: 0h4m51s  (27.4%)\rEpoch: 37.3%  lr: 0.036086  loss: 0.014005  eta: 0h11m  tot: 0h4m51s  (27.5%)\rEpoch: 37.4%  lr: 0.036076  loss: 0.014017  eta: 0h11m  tot: 0h4m51s  (27.5%)\rEpoch: 37.4%  lr: 0.036056  loss: 0.014036  eta: 0h11m  tot: 0h4m52s  (27.5%)\rEpoch: 37.5%  lr: 0.036046  loss: 0.014040  eta: 0h11m  tot: 0h4m52s  (27.5%)\rEpoch: 37.6%  lr: 0.036046  loss: 0.014064  eta: 0h11m  tot: 0h4m52s  (27.5%)\rEpoch: 37.7%  lr: 0.036036  loss: 0.014064  eta: 0h11m  tot: 0h4m52s  (27.5%)\rEpoch: 37.8%  lr: 0.036036  loss: 0.014091  eta: 0h11m  tot: 0h4m52s  (27.6%)\rEpoch: 37.9%  lr: 0.036036  loss: 0.014087  eta: 0h11m  tot: 0h4m52s  (27.6%)\rEpoch: 38.0%  lr: 0.036006  loss: 0.014102  eta: 0h11m  tot: 0h4m53s  (27.6%)\rEpoch: 38.1%  lr: 0.035986  loss: 0.014123  eta: 0h11m  tot: 0h4m53s  (27.6%)\rEpoch: 38.2%  lr: 0.035976  loss: 0.014113  eta: 0h11m  tot: 0h4m53s  (27.6%)\rEpoch: 38.3%  lr: 0.035976  loss: 0.014098  eta: 0h11m  tot: 0h4m53s  (27.7%)\rEpoch: 38.3%  lr: 0.035976  loss: 0.014106  eta: 0h11m  tot: 0h4m53s  (27.7%)\rEpoch: 38.4%  lr: 0.035966  loss: 0.014110  eta: 0h11m  tot: 0h4m53s  (27.7%)\rEpoch: 38.5%  lr: 0.035966  loss: 0.014109  eta: 0h11m  tot: 0h4m54s  (27.7%)\rEpoch: 38.6%  lr: 0.035966  loss: 0.014143  eta: 0h11m  tot: 0h4m54s  (27.7%)\rEpoch: 38.7%  lr: 0.035956  loss: 0.014152  eta: 0h11m  tot: 0h4m54s  (27.7%)\rEpoch: 38.8%  lr: 0.035946  loss: 0.014153  eta: 0h11m  tot: 0h4m54s  (27.8%)\rEpoch: 38.9%  lr: 0.035926  loss: 0.014153  eta: 0h11m  tot: 0h4m54s  (27.8%)\rEpoch: 39.0%  lr: 0.035896  loss: 0.014211  eta: 0h11m  tot: 0h4m54s  (27.8%)\rEpoch: 39.1%  lr: 0.035896  loss: 0.014205  eta: 0h11m  tot: 0h4m55s  (27.8%)\rEpoch: 39.2%  lr: 0.035886  loss: 0.014209  eta: 0h11m  tot: 0h4m55s  (27.8%)\rEpoch: 39.2%  lr: 0.035886  loss: 0.014261  eta: 0h11m  tot: 0h4m55s  (27.8%)\rEpoch: 39.3%  lr: 0.035866  loss: 0.014267  eta: 0h11m  tot: 0h4m55s  (27.9%)\rEpoch: 39.4%  lr: 0.035866  loss: 0.014263  eta: 0h11m  tot: 0h4m55s  (27.9%)\rEpoch: 39.5%  lr: 0.035856  loss: 0.014291  eta: 0h11m  tot: 0h4m56s  (27.9%)\rEpoch: 39.6%  lr: 0.035846  loss: 0.014278  eta: 0h11m  tot: 0h4m56s  (27.9%)\rEpoch: 39.7%  lr: 0.035846  loss: 0.014271  eta: 0h11m  tot: 0h4m56s  (27.9%)\rEpoch: 39.8%  lr: 0.035826  loss: 0.014268  eta: 0h11m  tot: 0h4m56s  (28.0%)\rEpoch: 39.9%  lr: 0.035806  loss: 0.014260  eta: 0h11m  tot: 0h4m56s  (28.0%)\rEpoch: 40.0%  lr: 0.035796  loss: 0.014246  eta: 0h11m  tot: 0h4m56s  (28.0%)\rEpoch: 40.1%  lr: 0.035796  loss: 0.014257  eta: 0h11m  tot: 0h4m57s  (28.0%)\rEpoch: 40.1%  lr: 0.035766  loss: 0.014238  eta: 0h11m  tot: 0h4m57s  (28.0%)\rEpoch: 40.2%  lr: 0.035756  loss: 0.014215  eta: 0h11m  tot: 0h4m57s  (28.0%)\rEpoch: 40.3%  lr: 0.035756  loss: 0.014232  eta: 0h11m  tot: 0h4m57s  (28.1%)\rEpoch: 40.4%  lr: 0.035756  loss: 0.014223  eta: 0h11m  tot: 0h4m57s  (28.1%)\rEpoch: 40.5%  lr: 0.035756  loss: 0.014260  eta: 0h11m  tot: 0h4m57s  (28.1%)\rEpoch: 40.6%  lr: 0.035756  loss: 0.014248  eta: 0h11m  tot: 0h4m58s  (28.1%)\rEpoch: 40.7%  lr: 0.035756  loss: 0.014243  eta: 0h11m  tot: 0h4m58s  (28.1%)\rEpoch: 40.8%  lr: 0.035746  loss: 0.014244  eta: 0h11m  tot: 0h4m58s  (28.2%)\rEpoch: 40.9%  lr: 0.035746  loss: 0.014242  eta: 0h11m  tot: 0h4m58s  (28.2%)\rEpoch: 41.0%  lr: 0.035746  loss: 0.014257  eta: 0h11m  tot: 0h4m58s  (28.2%)\rEpoch: 41.0%  lr: 0.035736  loss: 0.014244  eta: 0h11m  tot: 0h4m58s  (28.2%)\rEpoch: 41.1%  lr: 0.035716  loss: 0.014238  eta: 0h11m  tot: 0h4m59s  (28.2%)\rEpoch: 41.2%  lr: 0.035706  loss: 0.014232  eta: 0h11m  tot: 0h4m59s  (28.2%)\rEpoch: 41.3%  lr: 0.035696  loss: 0.014218  eta: 0h11m  tot: 0h4m59s  (28.3%)\rEpoch: 41.4%  lr: 0.035686  loss: 0.014227  eta: 0h11m  tot: 0h4m59s  (28.3%)\rEpoch: 41.5%  lr: 0.035656  loss: 0.014220  eta: 0h11m  tot: 0h4m59s  (28.3%)\rEpoch: 41.6%  lr: 0.035656  loss: 0.014224  eta: 0h11m  tot: 0h4m59s  (28.3%)\rEpoch: 41.7%  lr: 0.035646  loss: 0.014211  eta: 0h11m  tot: 0h5m0s  (28.3%)\rEpoch: 41.8%  lr: 0.035646  loss: 0.014215  eta: 0h11m  tot: 0h5m0s  (28.4%)\rEpoch: 41.9%  lr: 0.035646  loss: 0.014223  eta: 0h11m  tot: 0h5m0s  (28.4%)\rEpoch: 41.9%  lr: 0.035636  loss: 0.014219  eta: 0h11m  tot: 0h5m0s  (28.4%)\rEpoch: 42.0%  lr: 0.035636  loss: 0.014212  eta: 0h11m  tot: 0h5m0s  (28.4%)\rEpoch: 42.1%  lr: 0.035626  loss: 0.014200  eta: 0h11m  tot: 0h5m0s  (28.4%)\rEpoch: 42.2%  lr: 0.035616  loss: 0.014194  eta: 0h11m  tot: 0h5m1s  (28.4%)\rEpoch: 42.3%  lr: 0.035606  loss: 0.014202  eta: 0h11m  tot: 0h5m1s  (28.5%)\rEpoch: 42.4%  lr: 0.035586  loss: 0.014190  eta: 0h11m  tot: 0h5m1s  (28.5%)\rEpoch: 42.5%  lr: 0.035546  loss: 0.014196  eta: 0h11m  tot: 0h5m1s  (28.5%)\rEpoch: 42.6%  lr: 0.035536  loss: 0.014186  eta: 0h11m  tot: 0h5m1s  (28.5%)\rEpoch: 42.7%  lr: 0.035516  loss: 0.014217  eta: 0h11m  tot: 0h5m1s  (28.5%)\rEpoch: 42.8%  lr: 0.035516  loss: 0.014206  eta: 0h11m  tot: 0h5m2s  (28.6%)\rEpoch: 42.8%  lr: 0.035496  loss: 0.014207  eta: 0h11m  tot: 0h5m2s  (28.6%)\rEpoch: 42.9%  lr: 0.035476  loss: 0.014202  eta: 0h11m  tot: 0h5m2s  (28.6%)\rEpoch: 43.0%  lr: 0.035446  loss: 0.014193  eta: 0h11m  tot: 0h5m2s  (28.6%)\rEpoch: 43.1%  lr: 0.035425  loss: 0.014212  eta: 0h11m  tot: 0h5m2s  (28.6%)\rEpoch: 43.2%  lr: 0.035425  loss: 0.014206  eta: 0h11m  tot: 0h5m2s  (28.6%)\rEpoch: 43.3%  lr: 0.035425  loss: 0.014196  eta: 0h11m  tot: 0h5m3s  (28.7%)\rEpoch: 43.4%  lr: 0.035425  loss: 0.014185  eta: 0h11m  tot: 0h5m3s  (28.7%)\rEpoch: 43.5%  lr: 0.035415  loss: 0.014185  eta: 0h11m  tot: 0h5m3s  (28.7%)\rEpoch: 43.6%  lr: 0.035415  loss: 0.014171  eta: 0h11m  tot: 0h5m3s  (28.7%)\rEpoch: 43.7%  lr: 0.035405  loss: 0.014211  eta: 0h11m  tot: 0h5m3s  (28.7%)\rEpoch: 43.7%  lr: 0.035385  loss: 0.014204  eta: 0h11m  tot: 0h5m3s  (28.7%)\rEpoch: 43.8%  lr: 0.035375  loss: 0.014221  eta: 0h11m  tot: 0h5m4s  (28.8%)\rEpoch: 43.9%  lr: 0.035375  loss: 0.014235  eta: 0h11m  tot: 0h5m4s  (28.8%)\rEpoch: 44.0%  lr: 0.035365  loss: 0.014222  eta: 0h11m  tot: 0h5m4s  (28.8%)\rEpoch: 44.1%  lr: 0.035355  loss: 0.014221  eta: 0h11m  tot: 0h5m4s  (28.8%)\rEpoch: 44.2%  lr: 0.035355  loss: 0.014213  eta: 0h11m  tot: 0h5m4s  (28.8%)\rEpoch: 44.3%  lr: 0.035345  loss: 0.014199  eta: 0h11m  tot: 0h5m5s  (28.9%)\rEpoch: 44.4%  lr: 0.035335  loss: 0.014192  eta: 0h11m  tot: 0h5m5s  (28.9%)\rEpoch: 44.5%  lr: 0.035325  loss: 0.014205  eta: 0h11m  tot: 0h5m5s  (28.9%)\rEpoch: 44.6%  lr: 0.035325  loss: 0.014201  eta: 0h11m  tot: 0h5m5s  (28.9%)\rEpoch: 44.6%  lr: 0.035315  loss: 0.014211  eta: 0h11m  tot: 0h5m5s  (28.9%)\rEpoch: 44.7%  lr: 0.035315  loss: 0.014229  eta: 0h11m  tot: 0h5m5s  (28.9%)\rEpoch: 44.8%  lr: 0.035305  loss: 0.014256  eta: 0h11m  tot: 0h5m6s  (29.0%)\rEpoch: 44.9%  lr: 0.035285  loss: 0.014246  eta: 0h11m  tot: 0h5m6s  (29.0%)\rEpoch: 45.0%  lr: 0.035265  loss: 0.014232  eta: 0h11m  tot: 0h5m6s  (29.0%)\rEpoch: 45.1%  lr: 0.035255  loss: 0.014255  eta: 0h11m  tot: 0h5m6s  (29.0%)\rEpoch: 45.2%  lr: 0.035255  loss: 0.014252  eta: 0h11m  tot: 0h5m6s  (29.0%)\rEpoch: 45.3%  lr: 0.035255  loss: 0.014253  eta: 0h11m  tot: 0h5m6s  (29.1%)\rEpoch: 45.4%  lr: 0.035255  loss: 0.014237  eta: 0h11m  tot: 0h5m7s  (29.1%)\rEpoch: 45.5%  lr: 0.035235  loss: 0.014230  eta: 0h11m  tot: 0h5m7s  (29.1%)\rEpoch: 45.5%  lr: 0.035235  loss: 0.014244  eta: 0h11m  tot: 0h5m7s  (29.1%)\rEpoch: 45.6%  lr: 0.035225  loss: 0.014274  eta: 0h11m  tot: 0h5m7s  (29.1%)\rEpoch: 45.7%  lr: 0.035215  loss: 0.014280  eta: 0h11m  tot: 0h5m7s  (29.1%)\rEpoch: 45.8%  lr: 0.035215  loss: 0.014277  eta: 0h11m  tot: 0h5m7s  (29.2%)\rEpoch: 45.9%  lr: 0.035205  loss: 0.014277  eta: 0h11m  tot: 0h5m8s  (29.2%)\rEpoch: 46.0%  lr: 0.035195  loss: 0.014277  eta: 0h11m  tot: 0h5m8s  (29.2%)\rEpoch: 46.1%  lr: 0.035175  loss: 0.014276  eta: 0h11m  tot: 0h5m8s  (29.2%)\rEpoch: 46.2%  lr: 0.035165  loss: 0.014283  eta: 0h11m  tot: 0h5m8s  (29.2%)\rEpoch: 46.3%  lr: 0.035155  loss: 0.014270  eta: 0h11m  tot: 0h5m8s  (29.3%)\rEpoch: 46.4%  lr: 0.035145  loss: 0.014291  eta: 0h11m  tot: 0h5m8s  (29.3%)\rEpoch: 46.4%  lr: 0.035135  loss: 0.014302  eta: 0h11m  tot: 0h5m9s  (29.3%)\rEpoch: 46.5%  lr: 0.035135  loss: 0.014294  eta: 0h11m  tot: 0h5m9s  (29.3%)\rEpoch: 46.6%  lr: 0.035115  loss: 0.014300  eta: 0h11m  tot: 0h5m9s  (29.3%)\rEpoch: 46.7%  lr: 0.035115  loss: 0.014289  eta: 0h11m  tot: 0h5m9s  (29.3%)\rEpoch: 46.8%  lr: 0.035105  loss: 0.014277  eta: 0h11m  tot: 0h5m9s  (29.4%)\rEpoch: 46.9%  lr: 0.035095  loss: 0.014258  eta: 0h11m  tot: 0h5m9s  (29.4%)\rEpoch: 47.0%  lr: 0.035085  loss: 0.014266  eta: 0h11m  tot: 0h5m10s  (29.4%)\rEpoch: 47.1%  lr: 0.035075  loss: 0.014260  eta: 0h11m  tot: 0h5m10s  (29.4%)\rEpoch: 47.2%  lr: 0.035075  loss: 0.014252  eta: 0h11m  tot: 0h5m10s  (29.4%)\rEpoch: 47.3%  lr: 0.035055  loss: 0.014242  eta: 0h11m  tot: 0h5m10s  (29.5%)\rEpoch: 47.3%  lr: 0.035045  loss: 0.014224  eta: 0h11m  tot: 0h5m10s  (29.5%)\rEpoch: 47.4%  lr: 0.035025  loss: 0.014222  eta: 0h11m  tot: 0h5m11s  (29.5%)\rEpoch: 47.5%  lr: 0.035005  loss: 0.014229  eta: 0h11m  tot: 0h5m11s  (29.5%)\rEpoch: 47.6%  lr: 0.034985  loss: 0.014229  eta: 0h11m  tot: 0h5m11s  (29.5%)\rEpoch: 47.7%  lr: 0.034985  loss: 0.014208  eta: 0h11m  tot: 0h5m11s  (29.5%)\rEpoch: 47.8%  lr: 0.034955  loss: 0.014214  eta: 0h11m  tot: 0h5m11s  (29.6%)\rEpoch: 47.9%  lr: 0.034935  loss: 0.014204  eta: 0h11m  tot: 0h5m11s  (29.6%)\rEpoch: 48.0%  lr: 0.034925  loss: 0.014206  eta: 0h11m  tot: 0h5m12s  (29.6%)\rEpoch: 48.1%  lr: 0.034925  loss: 0.014205  eta: 0h11m  tot: 0h5m12s  (29.6%)\rEpoch: 48.2%  lr: 0.034915  loss: 0.014213  eta: 0h11m  tot: 0h5m12s  (29.6%)\rEpoch: 48.2%  lr: 0.034885  loss: 0.014206  eta: 0h11m  tot: 0h5m12s  (29.6%)\rEpoch: 48.3%  lr: 0.034875  loss: 0.014205  eta: 0h11m  tot: 0h5m12s  (29.7%)\rEpoch: 48.4%  lr: 0.034865  loss: 0.014199  eta: 0h11m  tot: 0h5m12s  (29.7%)\rEpoch: 48.5%  lr: 0.034835  loss: 0.014206  eta: 0h11m  tot: 0h5m13s  (29.7%)\rEpoch: 48.6%  lr: 0.034825  loss: 0.014218  eta: 0h11m  tot: 0h5m13s  (29.7%)\rEpoch: 48.7%  lr: 0.034825  loss: 0.014216  eta: 0h11m  tot: 0h5m13s  (29.7%)\rEpoch: 48.8%  lr: 0.034815  loss: 0.014220  eta: 0h11m  tot: 0h5m13s  (29.8%)\rEpoch: 48.9%  lr: 0.034805  loss: 0.014210  eta: 0h11m  tot: 0h5m13s  (29.8%)\rEpoch: 49.0%  lr: 0.034805  loss: 0.014212  eta: 0h11m  tot: 0h5m13s  (29.8%)\rEpoch: 49.1%  lr: 0.034795  loss: 0.014207  eta: 0h11m  tot: 0h5m14s  (29.8%)\rEpoch: 49.1%  lr: 0.034785  loss: 0.014206  eta: 0h11m  tot: 0h5m14s  (29.8%)\rEpoch: 49.2%  lr: 0.034765  loss: 0.014196  eta: 0h11m  tot: 0h5m14s  (29.8%)\rEpoch: 49.3%  lr: 0.034765  loss: 0.014195  eta: 0h11m  tot: 0h5m14s  (29.9%)\rEpoch: 49.4%  lr: 0.034765  loss: 0.014204  eta: 0h11m  tot: 0h5m14s  (29.9%)\rEpoch: 49.5%  lr: 0.034765  loss: 0.014198  eta: 0h11m  tot: 0h5m14s  (29.9%)\rEpoch: 49.6%  lr: 0.034745  loss: 0.014200  eta: 0h11m  tot: 0h5m15s  (29.9%)\rEpoch: 49.7%  lr: 0.034745  loss: 0.014208  eta: 0h11m  tot: 0h5m15s  (29.9%)\rEpoch: 49.8%  lr: 0.034745  loss: 0.014212  eta: 0h11m  tot: 0h5m15s  (30.0%)\rEpoch: 49.9%  lr: 0.034735  loss: 0.014224  eta: 0h11m  tot: 0h5m15s  (30.0%)\rEpoch: 50.0%  lr: 0.034725  loss: 0.014219  eta: 0h10m  tot: 0h5m15s  (30.0%)\rEpoch: 50.0%  lr: 0.034705  loss: 0.014204  eta: 0h10m  tot: 0h5m15s  (30.0%)\rEpoch: 50.1%  lr: 0.034695  loss: 0.014226  eta: 0h10m  tot: 0h5m16s  (30.0%)\rEpoch: 50.2%  lr: 0.034675  loss: 0.014223  eta: 0h10m  tot: 0h5m16s  (30.0%)\rEpoch: 50.3%  lr: 0.034675  loss: 0.014216  eta: 0h10m  tot: 0h5m16s  (30.1%)\rEpoch: 50.4%  lr: 0.034665  loss: 0.014232  eta: 0h10m  tot: 0h5m16s  (30.1%)\rEpoch: 50.5%  lr: 0.034665  loss: 0.014232  eta: 0h10m  tot: 0h5m16s  (30.1%)\rEpoch: 50.6%  lr: 0.034655  loss: 0.014220  eta: 0h10m  tot: 0h5m16s  (30.1%)\rEpoch: 50.7%  lr: 0.034655  loss: 0.014233  eta: 0h10m  tot: 0h5m17s  (30.1%)\rEpoch: 50.8%  lr: 0.034645  loss: 0.014241  eta: 0h10m  tot: 0h5m17s  (30.2%)\rEpoch: 50.9%  lr: 0.034635  loss: 0.014244  eta: 0h10m  tot: 0h5m17s  (30.2%)\rEpoch: 50.9%  lr: 0.034615  loss: 0.014240  eta: 0h10m  tot: 0h5m17s  (30.2%)\rEpoch: 51.0%  lr: 0.034595  loss: 0.014233  eta: 0h10m  tot: 0h5m17s  (30.2%)\rEpoch: 51.1%  lr: 0.034555  loss: 0.014224  eta: 0h10m  tot: 0h5m17s  (30.2%)\rEpoch: 51.2%  lr: 0.034535  loss: 0.014223  eta: 0h10m  tot: 0h5m18s  (30.2%)\rEpoch: 51.3%  lr: 0.034495  loss: 0.014234  eta: 0h10m  tot: 0h5m18s  (30.3%)\rEpoch: 51.4%  lr: 0.034465  loss: 0.014262  eta: 0h10m  tot: 0h5m18s  (30.3%)\rEpoch: 51.5%  lr: 0.034465  loss: 0.014271  eta: 0h10m  tot: 0h5m18s  (30.3%)\rEpoch: 51.6%  lr: 0.034465  loss: 0.014275  eta: 0h10m  tot: 0h5m18s  (30.3%)\rEpoch: 51.7%  lr: 0.034465  loss: 0.014285  eta: 0h10m  tot: 0h5m18s  (30.3%)\rEpoch: 51.8%  lr: 0.034465  loss: 0.014276  eta: 0h10m  tot: 0h5m19s  (30.4%)\rEpoch: 51.8%  lr: 0.034455  loss: 0.014262  eta: 0h10m  tot: 0h5m19s  (30.4%)\rEpoch: 51.9%  lr: 0.034445  loss: 0.014270  eta: 0h10m  tot: 0h5m19s  (30.4%)\rEpoch: 52.0%  lr: 0.034414  loss: 0.014281  eta: 0h10m  tot: 0h5m19s  (30.4%)\rEpoch: 52.1%  lr: 0.034414  loss: 0.014282  eta: 0h10m  tot: 0h5m19s  (30.4%)\rEpoch: 52.2%  lr: 0.034414  loss: 0.014271  eta: 0h10m  tot: 0h5m20s  (30.4%)\rEpoch: 52.3%  lr: 0.034404  loss: 0.014279  eta: 0h10m  tot: 0h5m20s  (30.5%)\rEpoch: 52.4%  lr: 0.034384  loss: 0.014278  eta: 0h10m  tot: 0h5m20s  (30.5%)\rEpoch: 52.5%  lr: 0.034384  loss: 0.014287  eta: 0h10m  tot: 0h5m20s  (30.5%)\rEpoch: 52.6%  lr: 0.034374  loss: 0.014284  eta: 0h10m  tot: 0h5m20s  (30.5%)\rEpoch: 52.7%  lr: 0.034354  loss: 0.014281  eta: 0h10m  tot: 0h5m20s  (30.5%)\rEpoch: 52.8%  lr: 0.034344  loss: 0.014273  eta: 0h10m  tot: 0h5m21s  (30.6%)\rEpoch: 52.8%  lr: 0.034314  loss: 0.014270  eta: 0h10m  tot: 0h5m21s  (30.6%)\rEpoch: 52.9%  lr: 0.034304  loss: 0.014273  eta: 0h10m  tot: 0h5m21s  (30.6%)\rEpoch: 53.0%  lr: 0.034294  loss: 0.014265  eta: 0h10m  tot: 0h5m21s  (30.6%)\rEpoch: 53.1%  lr: 0.034274  loss: 0.014261  eta: 0h10m  tot: 0h5m21s  (30.6%)\rEpoch: 53.2%  lr: 0.034254  loss: 0.014255  eta: 0h10m  tot: 0h5m21s  (30.6%)\rEpoch: 53.3%  lr: 0.034244  loss: 0.014256  eta: 0h10m  tot: 0h5m22s  (30.7%)\rEpoch: 53.4%  lr: 0.034234  loss: 0.014246  eta: 0h10m  tot: 0h5m22s  (30.7%)\rEpoch: 53.5%  lr: 0.034224  loss: 0.014248  eta: 0h10m  tot: 0h5m22s  (30.7%)\rEpoch: 53.6%  lr: 0.034224  loss: 0.014244  eta: 0h10m  tot: 0h5m22s  (30.7%)\rEpoch: 53.7%  lr: 0.034224  loss: 0.014238  eta: 0h10m  tot: 0h5m22s  (30.7%)\rEpoch: 53.7%  lr: 0.034224  loss: 0.014238  eta: 0h10m  tot: 0h5m23s  (30.7%)\rEpoch: 53.8%  lr: 0.034214  loss: 0.014238  eta: 0h10m  tot: 0h5m23s  (30.8%)\rEpoch: 53.9%  lr: 0.034204  loss: 0.014247  eta: 0h10m  tot: 0h5m23s  (30.8%)\rEpoch: 54.0%  lr: 0.034204  loss: 0.014239  eta: 0h10m  tot: 0h5m23s  (30.8%)\rEpoch: 54.1%  lr: 0.034204  loss: 0.014226  eta: 0h10m  tot: 0h5m23s  (30.8%)\rEpoch: 54.2%  lr: 0.034204  loss: 0.014243  eta: 0h10m  tot: 0h5m23s  (30.8%)\rEpoch: 54.3%  lr: 0.034194  loss: 0.014240  eta: 0h10m  tot: 0h5m24s  (30.9%)\rEpoch: 54.4%  lr: 0.034174  loss: 0.014248  eta: 0h10m  tot: 0h5m24s  (30.9%)\rEpoch: 54.5%  lr: 0.034164  loss: 0.014247  eta: 0h10m  tot: 0h5m24s  (30.9%)\rEpoch: 54.6%  lr: 0.034154  loss: 0.014254  eta: 0h10m  tot: 0h5m24s  (30.9%)\rEpoch: 54.6%  lr: 0.034154  loss: 0.014257  eta: 0h10m  tot: 0h5m24s  (30.9%)\rEpoch: 54.7%  lr: 0.034154  loss: 0.014249  eta: 0h10m  tot: 0h5m24s  (30.9%)\rEpoch: 54.8%  lr: 0.034144  loss: 0.014245  eta: 0h10m  tot: 0h5m25s  (31.0%)\rEpoch: 54.9%  lr: 0.034144  loss: 0.014244  eta: 0h10m  tot: 0h5m25s  (31.0%)\rEpoch: 55.0%  lr: 0.034124  loss: 0.014240  eta: 0h10m  tot: 0h5m25s  (31.0%)\rEpoch: 55.1%  lr: 0.034114  loss: 0.014224  eta: 0h10m  tot: 0h5m25s  (31.0%)\rEpoch: 55.2%  lr: 0.034094  loss: 0.014230  eta: 0h10m  tot: 0h5m25s  (31.0%)\rEpoch: 55.3%  lr: 0.034094  loss: 0.014252  eta: 0h10m  tot: 0h5m25s  (31.1%)\rEpoch: 55.4%  lr: 0.034094  loss: 0.014244  eta: 0h10m  tot: 0h5m26s  (31.1%)\rEpoch: 55.5%  lr: 0.034084  loss: 0.014264  eta: 0h10m  tot: 0h5m26s  (31.1%)\rEpoch: 55.5%  lr: 0.034084  loss: 0.014253  eta: 0h10m  tot: 0h5m26s  (31.1%)\rEpoch: 55.6%  lr: 0.034074  loss: 0.014252  eta: 0h10m  tot: 0h5m26s  (31.1%)\rEpoch: 55.7%  lr: 0.034064  loss: 0.014285  eta: 0h10m  tot: 0h5m26s  (31.1%)\rEpoch: 55.8%  lr: 0.034054  loss: 0.014294  eta: 0h10m  tot: 0h5m26s  (31.2%)\rEpoch: 55.9%  lr: 0.034054  loss: 0.014298  eta: 0h10m  tot: 0h5m27s  (31.2%)\rEpoch: 56.0%  lr: 0.034054  loss: 0.014294  eta: 0h10m  tot: 0h5m27s  (31.2%)\rEpoch: 56.1%  lr: 0.034044  loss: 0.014292  eta: 0h10m  tot: 0h5m27s  (31.2%)\rEpoch: 56.2%  lr: 0.034024  loss: 0.014284  eta: 0h10m  tot: 0h5m27s  (31.2%)\rEpoch: 56.3%  lr: 0.033974  loss: 0.014274  eta: 0h10m  tot: 0h5m27s  (31.3%)\rEpoch: 56.4%  lr: 0.033974  loss: 0.014289  eta: 0h10m  tot: 0h5m28s  (31.3%)\rEpoch: 56.4%  lr: 0.033954  loss: 0.014287  eta: 0h10m  tot: 0h5m28s  (31.3%)\rEpoch: 56.5%  lr: 0.033944  loss: 0.014297  eta: 0h10m  tot: 0h5m28s  (31.3%)\rEpoch: 56.6%  lr: 0.033934  loss: 0.014319  eta: 0h10m  tot: 0h5m28s  (31.3%)\rEpoch: 56.7%  lr: 0.033934  loss: 0.014338  eta: 0h10m  tot: 0h5m28s  (31.3%)\rEpoch: 56.8%  lr: 0.033934  loss: 0.014337  eta: 0h10m  tot: 0h5m28s  (31.4%)\rEpoch: 56.9%  lr: 0.033934  loss: 0.014334  eta: 0h10m  tot: 0h5m29s  (31.4%)\rEpoch: 57.0%  lr: 0.033934  loss: 0.014344  eta: 0h10m  tot: 0h5m29s  (31.4%)\rEpoch: 57.1%  lr: 0.033924  loss: 0.014358  eta: 0h10m  tot: 0h5m29s  (31.4%)\rEpoch: 57.2%  lr: 0.033924  loss: 0.014362  eta: 0h10m  tot: 0h5m29s  (31.4%)\rEpoch: 57.3%  lr: 0.033924  loss: 0.014368  eta: 0h10m  tot: 0h5m29s  (31.5%)\rEpoch: 57.3%  lr: 0.033914  loss: 0.014372  eta: 0h10m  tot: 0h5m29s  (31.5%)\rEpoch: 57.4%  lr: 0.033914  loss: 0.014363  eta: 0h10m  tot: 0h5m30s  (31.5%)\rEpoch: 57.5%  lr: 0.033884  loss: 0.014353  eta: 0h10m  tot: 0h5m30s  (31.5%)\rEpoch: 57.6%  lr: 0.033874  loss: 0.014354  eta: 0h10m  tot: 0h5m30s  (31.5%)\rEpoch: 57.7%  lr: 0.033864  loss: 0.014361  eta: 0h10m  tot: 0h5m30s  (31.5%)\rEpoch: 57.8%  lr: 0.033864  loss: 0.014359  eta: 0h10m  tot: 0h5m30s  (31.6%)\rEpoch: 57.9%  lr: 0.033864  loss: 0.014366  eta: 0h10m  tot: 0h5m30s  (31.6%)\rEpoch: 58.0%  lr: 0.033854  loss: 0.014366  eta: 0h10m  tot: 0h5m31s  (31.6%)\rEpoch: 58.1%  lr: 0.033854  loss: 0.014358  eta: 0h10m  tot: 0h5m31s  (31.6%)\rEpoch: 58.2%  lr: 0.033824  loss: 0.014353  eta: 0h10m  tot: 0h5m31s  (31.6%)\rEpoch: 58.2%  lr: 0.033824  loss: 0.014361  eta: 0h10m  tot: 0h5m31s  (31.6%)\rEpoch: 58.3%  lr: 0.033824  loss: 0.014375  eta: 0h10m  tot: 0h5m31s  (31.7%)\rEpoch: 58.4%  lr: 0.033804  loss: 0.014368  eta: 0h10m  tot: 0h5m32s  (31.7%)\rEpoch: 58.5%  lr: 0.033794  loss: 0.014367  eta: 0h10m  tot: 0h5m32s  (31.7%)\rEpoch: 58.6%  lr: 0.033774  loss: 0.014358  eta: 0h10m  tot: 0h5m32s  (31.7%)\rEpoch: 58.7%  lr: 0.033754  loss: 0.014353  eta: 0h10m  tot: 0h5m32s  (31.7%)\rEpoch: 58.8%  lr: 0.033744  loss: 0.014350  eta: 0h10m  tot: 0h5m32s  (31.8%)\rEpoch: 58.9%  lr: 0.033734  loss: 0.014338  eta: 0h10m  tot: 0h5m32s  (31.8%)\rEpoch: 59.0%  lr: 0.033724  loss: 0.014333  eta: 0h10m  tot: 0h5m33s  (31.8%)\rEpoch: 59.1%  lr: 0.033724  loss: 0.014334  eta: 0h10m  tot: 0h5m33s  (31.8%)\rEpoch: 59.1%  lr: 0.033724  loss: 0.014326  eta: 0h10m  tot: 0h5m33s  (31.8%)\rEpoch: 59.2%  lr: 0.033724  loss: 0.014339  eta: 0h10m  tot: 0h5m33s  (31.8%)\rEpoch: 59.3%  lr: 0.033724  loss: 0.014329  eta: 0h10m  tot: 0h5m33s  (31.9%)\rEpoch: 59.4%  lr: 0.033714  loss: 0.014328  eta: 0h10m  tot: 0h5m33s  (31.9%)\rEpoch: 59.5%  lr: 0.033704  loss: 0.014323  eta: 0h10m  tot: 0h5m34s  (31.9%)\rEpoch: 59.6%  lr: 0.033684  loss: 0.014337  eta: 0h10m  tot: 0h5m34s  (31.9%)\rEpoch: 59.7%  lr: 0.033674  loss: 0.014340  eta: 0h10m  tot: 0h5m34s  (31.9%)\rEpoch: 59.8%  lr: 0.033674  loss: 0.014354  eta: 0h10m  tot: 0h5m34s  (32.0%)\rEpoch: 59.9%  lr: 0.033664  loss: 0.014363  eta: 0h10m  tot: 0h5m34s  (32.0%)\rEpoch: 60.0%  lr: 0.033664  loss: 0.014369  eta: 0h10m  tot: 0h5m34s  (32.0%)\rEpoch: 60.0%  lr: 0.033664  loss: 0.014365  eta: 0h10m  tot: 0h5m35s  (32.0%)\rEpoch: 60.1%  lr: 0.033664  loss: 0.014355  eta: 0h10m  tot: 0h5m35s  (32.0%)\rEpoch: 60.2%  lr: 0.033654  loss: 0.014371  eta: 0h10m  tot: 0h5m35s  (32.0%)\rEpoch: 60.3%  lr: 0.033654  loss: 0.014367  eta: 0h10m  tot: 0h5m35s  (32.1%)\rEpoch: 60.4%  lr: 0.033644  loss: 0.014374  eta: 0h10m  tot: 0h5m35s  (32.1%)\rEpoch: 60.5%  lr: 0.033634  loss: 0.014367  eta: 0h10m  tot: 0h5m35s  (32.1%)\rEpoch: 60.6%  lr: 0.033624  loss: 0.014400  eta: 0h10m  tot: 0h5m36s  (32.1%)\rEpoch: 60.7%  lr: 0.033614  loss: 0.014408  eta: 0h10m  tot: 0h5m36s  (32.1%)\rEpoch: 60.8%  lr: 0.033604  loss: 0.014417  eta: 0h10m  tot: 0h5m36s  (32.2%)\rEpoch: 60.9%  lr: 0.033574  loss: 0.014410  eta: 0h10m  tot: 0h5m36s  (32.2%)\rEpoch: 60.9%  lr: 0.033564  loss: 0.014414  eta: 0h10m  tot: 0h5m36s  (32.2%)\rEpoch: 61.0%  lr: 0.033544  loss: 0.014420  eta: 0h10m  tot: 0h5m36s  (32.2%)\rEpoch: 61.1%  lr: 0.033534  loss: 0.014414  eta: 0h10m  tot: 0h5m37s  (32.2%)\rEpoch: 61.2%  lr: 0.033524  loss: 0.014427  eta: 0h10m  tot: 0h5m37s  (32.2%)\rEpoch: 61.3%  lr: 0.033524  loss: 0.014426  eta: 0h10m  tot: 0h5m37s  (32.3%)\rEpoch: 61.4%  lr: 0.033524  loss: 0.014415  eta: 0h10m  tot: 0h5m37s  (32.3%)\rEpoch: 61.5%  lr: 0.033514  loss: 0.014410  eta: 0h10m  tot: 0h5m37s  (32.3%)\rEpoch: 61.6%  lr: 0.033504  loss: 0.014409  eta: 0h10m  tot: 0h5m37s  (32.3%)\rEpoch: 61.7%  lr: 0.033494  loss: 0.014395  eta: 0h10m  tot: 0h5m38s  (32.3%)\rEpoch: 61.8%  lr: 0.033474  loss: 0.014386  eta: 0h10m  tot: 0h5m38s  (32.4%)\rEpoch: 61.8%  lr: 0.033464  loss: 0.014377  eta: 0h10m  tot: 0h5m38s  (32.4%)\rEpoch: 61.9%  lr: 0.033454  loss: 0.014372  eta: 0h10m  tot: 0h5m38s  (32.4%)\rEpoch: 62.0%  lr: 0.033444  loss: 0.014374  eta: 0h10m  tot: 0h5m38s  (32.4%)\rEpoch: 62.1%  lr: 0.033434  loss: 0.014366  eta: 0h10m  tot: 0h5m38s  (32.4%)\rEpoch: 62.2%  lr: 0.033434  loss: 0.014381  eta: 0h10m  tot: 0h5m39s  (32.4%)\rEpoch: 62.3%  lr: 0.033434  loss: 0.014376  eta: 0h10m  tot: 0h5m39s  (32.5%)\rEpoch: 62.4%  lr: 0.033404  loss: 0.014385  eta: 0h10m  tot: 0h5m39s  (32.5%)\rEpoch: 62.5%  lr: 0.033393  loss: 0.014391  eta: 0h10m  tot: 0h5m39s  (32.5%)\rEpoch: 62.6%  lr: 0.033393  loss: 0.014388  eta: 0h10m  tot: 0h5m39s  (32.5%)\rEpoch: 62.7%  lr: 0.033383  loss: 0.014394  eta: 0h10m  tot: 0h5m39s  (32.5%)\rEpoch: 62.7%  lr: 0.033373  loss: 0.014387  eta: 0h10m  tot: 0h5m40s  (32.5%)\rEpoch: 62.8%  lr: 0.033363  loss: 0.014377  eta: 0h10m  tot: 0h5m40s  (32.6%)\rEpoch: 62.9%  lr: 0.033363  loss: 0.014374  eta: 0h10m  tot: 0h5m40s  (32.6%)\rEpoch: 63.0%  lr: 0.033343  loss: 0.014372  eta: 0h10m  tot: 0h5m40s  (32.6%)\rEpoch: 63.1%  lr: 0.033343  loss: 0.014363  eta: 0h10m  tot: 0h5m40s  (32.6%)\rEpoch: 63.2%  lr: 0.033333  loss: 0.014361  eta: 0h10m  tot: 0h5m40s  (32.6%)\rEpoch: 63.3%  lr: 0.033333  loss: 0.014367  eta: 0h10m  tot: 0h5m41s  (32.7%)\rEpoch: 63.4%  lr: 0.033333  loss: 0.014371  eta: 0h10m  tot: 0h5m41s  (32.7%)\rEpoch: 63.5%  lr: 0.033333  loss: 0.014382  eta: 0h10m  tot: 0h5m41s  (32.7%)\rEpoch: 63.6%  lr: 0.033303  loss: 0.014394  eta: 0h10m  tot: 0h5m41s  (32.7%)\rEpoch: 63.6%  lr: 0.033303  loss: 0.014380  eta: 0h10m  tot: 0h5m41s  (32.7%)\rEpoch: 63.7%  lr: 0.033293  loss: 0.014376  eta: 0h10m  tot: 0h5m42s  (32.7%)\rEpoch: 63.8%  lr: 0.033283  loss: 0.014367  eta: 0h10m  tot: 0h5m42s  (32.8%)\rEpoch: 63.9%  lr: 0.033273  loss: 0.014381  eta: 0h10m  tot: 0h5m42s  (32.8%)\rEpoch: 64.0%  lr: 0.033273  loss: 0.014380  eta: 0h10m  tot: 0h5m42s  (32.8%)\rEpoch: 64.1%  lr: 0.033263  loss: 0.014381  eta: 0h10m  tot: 0h5m42s  (32.8%)\rEpoch: 64.2%  lr: 0.033253  loss: 0.014369  eta: 0h10m  tot: 0h5m42s  (32.8%)\rEpoch: 64.3%  lr: 0.033243  loss: 0.014374  eta: 0h10m  tot: 0h5m43s  (32.9%)\rEpoch: 64.4%  lr: 0.033243  loss: 0.014375  eta: 0h10m  tot: 0h5m43s  (32.9%)\rEpoch: 64.5%  lr: 0.033243  loss: 0.014383  eta: 0h10m  tot: 0h5m43s  (32.9%)\rEpoch: 64.5%  lr: 0.033243  loss: 0.014375  eta: 0h10m  tot: 0h5m43s  (32.9%)\rEpoch: 64.6%  lr: 0.033243  loss: 0.014364  eta: 0h10m  tot: 0h5m43s  (32.9%)\rEpoch: 64.7%  lr: 0.033233  loss: 0.014376  eta: 0h10m  tot: 0h5m43s  (32.9%)\rEpoch: 64.8%  lr: 0.033223  loss: 0.014363  eta: 0h10m  tot: 0h5m44s  (33.0%)\rEpoch: 64.9%  lr: 0.033203  loss: 0.014372  eta: 0h10m  tot: 0h5m44s  (33.0%)\rEpoch: 65.0%  lr: 0.033203  loss: 0.014362  eta: 0h10m  tot: 0h5m44s  (33.0%)\rEpoch: 65.1%  lr: 0.033203  loss: 0.014349  eta: 0h10m  tot: 0h5m44s  (33.0%)\rEpoch: 65.2%  lr: 0.033203  loss: 0.014354  eta: 0h10m  tot: 0h5m44s  (33.0%)\rEpoch: 65.3%  lr: 0.033203  loss: 0.014348  eta: 0h10m  tot: 0h5m44s  (33.1%)\rEpoch: 65.4%  lr: 0.033203  loss: 0.014344  eta: 0h10m  tot: 0h5m45s  (33.1%)\rEpoch: 65.4%  lr: 0.033203  loss: 0.014345  eta: 0h10m  tot: 0h5m45s  (33.1%)\rEpoch: 65.5%  lr: 0.033193  loss: 0.014343  eta: 0h10m  tot: 0h5m45s  (33.1%)\rEpoch: 65.6%  lr: 0.033193  loss: 0.014335  eta: 0h10m  tot: 0h5m45s  (33.1%)\rEpoch: 65.7%  lr: 0.033183  loss: 0.014334  eta: 0h10m  tot: 0h5m45s  (33.1%)\rEpoch: 65.8%  lr: 0.033183  loss: 0.014335  eta: 0h10m  tot: 0h5m45s  (33.2%)\rEpoch: 65.9%  lr: 0.033173  loss: 0.014325  eta: 0h10m  tot: 0h5m46s  (33.2%)\rEpoch: 66.0%  lr: 0.033173  loss: 0.014316  eta: 0h10m  tot: 0h5m46s  (33.2%)\rEpoch: 66.1%  lr: 0.033173  loss: 0.014328  eta: 0h10m  tot: 0h5m46s  (33.2%)\rEpoch: 66.2%  lr: 0.033163  loss: 0.014320  eta: 0h10m  tot: 0h5m46s  (33.2%)\rEpoch: 66.3%  lr: 0.033143  loss: 0.014318  eta: 0h10m  tot: 0h5m46s  (33.3%)\rEpoch: 66.3%  lr: 0.033143  loss: 0.014324  eta: 0h10m  tot: 0h5m46s  (33.3%)\rEpoch: 66.4%  lr: 0.033143  loss: 0.014321  eta: 0h10m  tot: 0h5m47s  (33.3%)\rEpoch: 66.5%  lr: 0.033123  loss: 0.014333  eta: 0h10m  tot: 0h5m47s  (33.3%)\rEpoch: 66.6%  lr: 0.033103  loss: 0.014333  eta: 0h10m  tot: 0h5m47s  (33.3%)\rEpoch: 66.7%  lr: 0.033103  loss: 0.014343  eta: 0h10m  tot: 0h5m47s  (33.3%)\rEpoch: 66.8%  lr: 0.033083  loss: 0.014364  eta: 0h10m  tot: 0h5m47s  (33.4%)\rEpoch: 66.9%  lr: 0.033083  loss: 0.014362  eta: 0h10m  tot: 0h5m47s  (33.4%)\rEpoch: 67.0%  lr: 0.033073  loss: 0.014351  eta: 0h10m  tot: 0h5m48s  (33.4%)\rEpoch: 67.1%  lr: 0.033063  loss: 0.014360  eta: 0h10m  tot: 0h5m48s  (33.4%)\rEpoch: 67.2%  lr: 0.033043  loss: 0.014358  eta: 0h10m  tot: 0h5m48s  (33.4%)\rEpoch: 67.2%  lr: 0.033013  loss: 0.014348  eta: 0h10m  tot: 0h5m48s  (33.4%)\rEpoch: 67.3%  lr: 0.032993  loss: 0.014349  eta: 0h10m  tot: 0h5m48s  (33.5%)\rEpoch: 67.4%  lr: 0.032973  loss: 0.014341  eta: 0h10m  tot: 0h5m48s  (33.5%)\rEpoch: 67.5%  lr: 0.032963  loss: 0.014343  eta: 0h10m  tot: 0h5m49s  (33.5%)\rEpoch: 67.6%  lr: 0.032953  loss: 0.014341  eta: 0h10m  tot: 0h5m49s  (33.5%)\rEpoch: 67.7%  lr: 0.032953  loss: 0.014334  eta: 0h10m  tot: 0h5m49s  (33.5%)\rEpoch: 67.8%  lr: 0.032943  loss: 0.014333  eta: 0h10m  tot: 0h5m49s  (33.6%)\rEpoch: 67.9%  lr: 0.032933  loss: 0.014329  eta: 0h10m  tot: 0h5m49s  (33.6%)\rEpoch: 68.0%  lr: 0.032903  loss: 0.014323  eta: 0h10m  tot: 0h5m49s  (33.6%)\rEpoch: 68.1%  lr: 0.032893  loss: 0.014343  eta: 0h10m  tot: 0h5m50s  (33.6%)\rEpoch: 68.1%  lr: 0.032893  loss: 0.014338  eta: 0h10m  tot: 0h5m50s  (33.6%)\rEpoch: 68.2%  lr: 0.032883  loss: 0.014336  eta: 0h10m  tot: 0h5m50s  (33.6%)\rEpoch: 68.3%  lr: 0.032883  loss: 0.014341  eta: 0h10m  tot: 0h5m50s  (33.7%)\rEpoch: 68.4%  lr: 0.032863  loss: 0.014330  eta: 0h10m  tot: 0h5m50s  (33.7%)\rEpoch: 68.5%  lr: 0.032853  loss: 0.014320  eta: 0h10m  tot: 0h5m50s  (33.7%)\rEpoch: 68.6%  lr: 0.032843  loss: 0.014318  eta: 0h10m  tot: 0h5m51s  (33.7%)\rEpoch: 68.7%  lr: 0.032843  loss: 0.014316  eta: 0h10m  tot: 0h5m51s  (33.7%)\rEpoch: 68.8%  lr: 0.032833  loss: 0.014305  eta: 0h10m  tot: 0h5m51s  (33.8%)\rEpoch: 68.9%  lr: 0.032823  loss: 0.014294  eta: 0h10m  tot: 0h5m51s  (33.8%)\rEpoch: 69.0%  lr: 0.032823  loss: 0.014288  eta: 0h10m  tot: 0h5m51s  (33.8%)\rEpoch: 69.0%  lr: 0.032813  loss: 0.014286  eta: 0h10m  tot: 0h5m51s  (33.8%)\rEpoch: 69.1%  lr: 0.032813  loss: 0.014278  eta: 0h10m  tot: 0h5m52s  (33.8%)\rEpoch: 69.2%  lr: 0.032813  loss: 0.014269  eta: 0h10m  tot: 0h5m52s  (33.8%)\rEpoch: 69.3%  lr: 0.032803  loss: 0.014266  eta: 0h10m  tot: 0h5m52s  (33.9%)\rEpoch: 69.4%  lr: 0.032793  loss: 0.014267  eta: 0h10m  tot: 0h5m52s  (33.9%)\rEpoch: 69.5%  lr: 0.032783  loss: 0.014259  eta: 0h10m  tot: 0h5m52s  (33.9%)\rEpoch: 69.6%  lr: 0.032763  loss: 0.014266  eta: 0h10m  tot: 0h5m52s  (33.9%)\rEpoch: 69.7%  lr: 0.032753  loss: 0.014255  eta: 0h10m  tot: 0h5m53s  (33.9%)\rEpoch: 69.8%  lr: 0.032743  loss: 0.014248  eta: 0h10m  tot: 0h5m53s  (34.0%)\rEpoch: 69.9%  lr: 0.032733  loss: 0.014233  eta: 0h10m  tot: 0h5m53s  (34.0%)\rEpoch: 69.9%  lr: 0.032713  loss: 0.014227  eta: 0h10m  tot: 0h5m53s  (34.0%)\rEpoch: 70.0%  lr: 0.032703  loss: 0.014228  eta: 0h10m  tot: 0h5m53s  (34.0%)\rEpoch: 70.1%  lr: 0.032693  loss: 0.014242  eta: 0h10m  tot: 0h5m53s  (34.0%)\rEpoch: 70.2%  lr: 0.032653  loss: 0.014242  eta: 0h10m  tot: 0h5m54s  (34.0%)\rEpoch: 70.3%  lr: 0.032653  loss: 0.014245  eta: 0h10m  tot: 0h5m54s  (34.1%)\rEpoch: 70.4%  lr: 0.032653  loss: 0.014238  eta: 0h10m  tot: 0h5m54s  (34.1%)\rEpoch: 70.5%  lr: 0.032643  loss: 0.014237  eta: 0h10m  tot: 0h5m54s  (34.1%)\rEpoch: 70.6%  lr: 0.032623  loss: 0.014232  eta: 0h10m  tot: 0h5m54s  (34.1%)\rEpoch: 70.7%  lr: 0.032623  loss: 0.014229  eta: 0h10m  tot: 0h5m55s  (34.1%)\rEpoch: 70.8%  lr: 0.032613  loss: 0.014228  eta: 0h10m  tot: 0h5m55s  (34.2%)\rEpoch: 70.8%  lr: 0.032613  loss: 0.014231  eta: 0h10m  tot: 0h5m55s  (34.2%)\rEpoch: 70.9%  lr: 0.032613  loss: 0.014225  eta: 0h10m  tot: 0h5m55s  (34.2%)\rEpoch: 71.0%  lr: 0.032613  loss: 0.014238  eta: 0h10m  tot: 0h5m55s  (34.2%)\rEpoch: 71.1%  lr: 0.032613  loss: 0.014237  eta: 0h10m  tot: 0h5m55s  (34.2%)\rEpoch: 71.2%  lr: 0.032603  loss: 0.014233  eta: 0h10m  tot: 0h5m56s  (34.2%)\rEpoch: 71.3%  lr: 0.032593  loss: 0.014227  eta: 0h10m  tot: 0h5m56s  (34.3%)\rEpoch: 71.4%  lr: 0.032593  loss: 0.014223  eta: 0h10m  tot: 0h5m56s  (34.3%)\rEpoch: 71.5%  lr: 0.032583  loss: 0.014233  eta: 0h10m  tot: 0h5m56s  (34.3%)\rEpoch: 71.6%  lr: 0.032583  loss: 0.014235  eta: 0h10m  tot: 0h5m56s  (34.3%)\rEpoch: 71.7%  lr: 0.032573  loss: 0.014233  eta: 0h10m  tot: 0h5m56s  (34.3%)\rEpoch: 71.7%  lr: 0.032553  loss: 0.014225  eta: 0h10m  tot: 0h5m57s  (34.3%)\rEpoch: 71.8%  lr: 0.032523  loss: 0.014229  eta: 0h10m  tot: 0h5m57s  (34.4%)\rEpoch: 71.9%  lr: 0.032513  loss: 0.014228  eta: 0h10m  tot: 0h5m57s  (34.4%)\rEpoch: 72.0%  lr: 0.032513  loss: 0.014220  eta: 0h10m  tot: 0h5m57s  (34.4%)\rEpoch: 72.1%  lr: 0.032513  loss: 0.014219  eta: 0h10m  tot: 0h5m57s  (34.4%)\rEpoch: 72.2%  lr: 0.032493  loss: 0.014215  eta: 0h10m  tot: 0h5m57s  (34.4%)\rEpoch: 72.3%  lr: 0.032493  loss: 0.014210  eta: 0h10m  tot: 0h5m58s  (34.5%)\rEpoch: 72.4%  lr: 0.032483  loss: 0.014202  eta: 0h10m  tot: 0h5m58s  (34.5%)\rEpoch: 72.5%  lr: 0.032463  loss: 0.014203  eta: 0h10m  tot: 0h5m58s  (34.5%)\rEpoch: 72.6%  lr: 0.032453  loss: 0.014194  eta: 0h10m  tot: 0h5m58s  (34.5%)\rEpoch: 72.6%  lr: 0.032443  loss: 0.014192  eta: 0h10m  tot: 0h5m58s  (34.5%)\rEpoch: 72.7%  lr: 0.032443  loss: 0.014186  eta: 0h10m  tot: 0h5m59s  (34.5%)\rEpoch: 72.8%  lr: 0.032443  loss: 0.014183  eta: 0h10m  tot: 0h5m59s  (34.6%)\rEpoch: 72.9%  lr: 0.032433  loss: 0.014179  eta: 0h10m  tot: 0h5m59s  (34.6%)\rEpoch: 73.0%  lr: 0.032423  loss: 0.014178  eta: 0h10m  tot: 0h5m59s  (34.6%)\rEpoch: 73.1%  lr: 0.032423  loss: 0.014165  eta: 0h10m  tot: 0h5m59s  (34.6%)\rEpoch: 73.2%  lr: 0.032423  loss: 0.014159  eta: 0h10m  tot: 0h5m59s  (34.6%)\rEpoch: 73.3%  lr: 0.032413  loss: 0.014155  eta: 0h10m  tot: 0h6m0s  (34.7%)\rEpoch: 73.4%  lr: 0.032413  loss: 0.014151  eta: 0h10m  tot: 0h6m0s  (34.7%)\rEpoch: 73.5%  lr: 0.032413  loss: 0.014153  eta: 0h10m  tot: 0h6m0s  (34.7%)\rEpoch: 73.5%  lr: 0.032413  loss: 0.014160  eta: 0h10m  tot: 0h6m0s  (34.7%)\rEpoch: 73.6%  lr: 0.032403  loss: 0.014154  eta: 0h10m  tot: 0h6m0s  (34.7%)\rEpoch: 73.7%  lr: 0.032403  loss: 0.014145  eta: 0h10m  tot: 0h6m0s  (34.7%)\rEpoch: 73.8%  lr: 0.032403  loss: 0.014175  eta: 0h10m  tot: 0h6m1s  (34.8%)\rEpoch: 73.9%  lr: 0.032403  loss: 0.014181  eta: 0h10m  tot: 0h6m1s  (34.8%)\rEpoch: 74.0%  lr: 0.032372  loss: 0.014174  eta: 0h10m  tot: 0h6m1s  (34.8%)\rEpoch: 74.1%  lr: 0.032372  loss: 0.014171  eta: 0h10m  tot: 0h6m1s  (34.8%)\rEpoch: 74.2%  lr: 0.032372  loss: 0.014167  eta: 0h10m  tot: 0h6m1s  (34.8%)\rEpoch: 74.3%  lr: 0.032362  loss: 0.014163  eta: 0h10m  tot: 0h6m1s  (34.9%)\rEpoch: 74.4%  lr: 0.032352  loss: 0.014163  eta: 0h10m  tot: 0h6m1s  (34.9%)\rEpoch: 74.4%  lr: 0.032352  loss: 0.014174  eta: 0h10m  tot: 0h6m2s  (34.9%)\rEpoch: 74.5%  lr: 0.032352  loss: 0.014172  eta: 0h10m  tot: 0h6m2s  (34.9%)\rEpoch: 74.6%  lr: 0.032342  loss: 0.014170  eta: 0h10m  tot: 0h6m2s  (34.9%)\rEpoch: 74.7%  lr: 0.032332  loss: 0.014162  eta: 0h10m  tot: 0h6m2s  (34.9%)\rEpoch: 74.8%  lr: 0.032322  loss: 0.014151  eta: 0h10m  tot: 0h6m2s  (35.0%)\rEpoch: 74.9%  lr: 0.032322  loss: 0.014145  eta: 0h10m  tot: 0h6m3s  (35.0%)\rEpoch: 75.0%  lr: 0.032322  loss: 0.014138  eta: 0h10m  tot: 0h6m3s  (35.0%)\rEpoch: 75.1%  lr: 0.032322  loss: 0.014139  eta: 0h10m  tot: 0h6m3s  (35.0%)\rEpoch: 75.2%  lr: 0.032302  loss: 0.014139  eta: 0h10m  tot: 0h6m3s  (35.0%)\rEpoch: 75.3%  lr: 0.032302  loss: 0.014130  eta: 0h10m  tot: 0h6m3s  (35.1%)\rEpoch: 75.3%  lr: 0.032302  loss: 0.014132  eta: 0h10m  tot: 0h6m3s  (35.1%)\rEpoch: 75.4%  lr: 0.032302  loss: 0.014142  eta: 0h10m  tot: 0h6m4s  (35.1%)\rEpoch: 75.5%  lr: 0.032302  loss: 0.014146  eta: 0h10m  tot: 0h6m4s  (35.1%)\rEpoch: 75.6%  lr: 0.032292  loss: 0.014147  eta: 0h10m  tot: 0h6m4s  (35.1%)\rEpoch: 75.7%  lr: 0.032292  loss: 0.014141  eta: 0h10m  tot: 0h6m4s  (35.1%)\rEpoch: 75.8%  lr: 0.032292  loss: 0.014142  eta: 0h10m  tot: 0h6m4s  (35.2%)\rEpoch: 75.9%  lr: 0.032282  loss: 0.014135  eta: 0h10m  tot: 0h6m4s  (35.2%)\rEpoch: 76.0%  lr: 0.032272  loss: 0.014141  eta: 0h10m  tot: 0h6m5s  (35.2%)\rEpoch: 76.1%  lr: 0.032252  loss: 0.014142  eta: 0h10m  tot: 0h6m5s  (35.2%)\rEpoch: 76.2%  lr: 0.032252  loss: 0.014139  eta: 0h10m  tot: 0h6m5s  (35.2%)\rEpoch: 76.2%  lr: 0.032252  loss: 0.014143  eta: 0h10m  tot: 0h6m5s  (35.2%)\rEpoch: 76.3%  lr: 0.032252  loss: 0.014139  eta: 0h10m  tot: 0h6m5s  (35.3%)\rEpoch: 76.4%  lr: 0.032242  loss: 0.014161  eta: 0h10m  tot: 0h6m5s  (35.3%)\rEpoch: 76.5%  lr: 0.032222  loss: 0.014166  eta: 0h10m  tot: 0h6m6s  (35.3%)\rEpoch: 76.6%  lr: 0.032222  loss: 0.014165  eta: 0h10m  tot: 0h6m6s  (35.3%)\rEpoch: 76.7%  lr: 0.032202  loss: 0.014160  eta: 0h10m  tot: 0h6m6s  (35.3%)\rEpoch: 76.8%  lr: 0.032172  loss: 0.014159  eta: 0h10m  tot: 0h6m6s  (35.4%)\rEpoch: 76.9%  lr: 0.032172  loss: 0.014167  eta: 0h10m  tot: 0h6m6s  (35.4%)\rEpoch: 77.0%  lr: 0.032152  loss: 0.014158  eta: 0h10m  tot: 0h6m6s  (35.4%)\rEpoch: 77.1%  lr: 0.032152  loss: 0.014161  eta: 0h10m  tot: 0h6m7s  (35.4%)\rEpoch: 77.1%  lr: 0.032132  loss: 0.014160  eta: 0h10m  tot: 0h6m7s  (35.4%)\rEpoch: 77.2%  lr: 0.032122  loss: 0.014151  eta: 0h10m  tot: 0h6m7s  (35.4%)\rEpoch: 77.3%  lr: 0.032122  loss: 0.014149  eta: 0h10m  tot: 0h6m7s  (35.5%)\rEpoch: 77.4%  lr: 0.032082  loss: 0.014145  eta: 0h10m  tot: 0h6m7s  (35.5%)\rEpoch: 77.5%  lr: 0.032082  loss: 0.014150  eta: 0h10m  tot: 0h6m7s  (35.5%)\rEpoch: 77.6%  lr: 0.032072  loss: 0.014143  eta: 0h10m  tot: 0h6m8s  (35.5%)\rEpoch: 77.7%  lr: 0.032072  loss: 0.014151  eta: 0h10m  tot: 0h6m8s  (35.5%)\rEpoch: 77.8%  lr: 0.032062  loss: 0.014148  eta: 0h10m  tot: 0h6m8s  (35.6%)\rEpoch: 77.9%  lr: 0.032052  loss: 0.014141  eta: 0h10m  tot: 0h6m8s  (35.6%)\rEpoch: 78.0%  lr: 0.032032  loss: 0.014132  eta: 0h10m  tot: 0h6m8s  (35.6%)\rEpoch: 78.0%  lr: 0.032032  loss: 0.014128  eta: 0h10m  tot: 0h6m8s  (35.6%)\rEpoch: 78.1%  lr: 0.032032  loss: 0.014120  eta: 0h10m  tot: 0h6m9s  (35.6%)\rEpoch: 78.2%  lr: 0.032022  loss: 0.014113  eta: 0h10m  tot: 0h6m9s  (35.6%)\rEpoch: 78.3%  lr: 0.032022  loss: 0.014102  eta: 0h10m  tot: 0h6m9s  (35.7%)\rEpoch: 78.4%  lr: 0.032002  loss: 0.014092  eta: 0h10m  tot: 0h6m9s  (35.7%)\rEpoch: 78.5%  lr: 0.031982  loss: 0.014081  eta: 0h10m  tot: 0h6m9s  (35.7%)\rEpoch: 78.6%  lr: 0.031982  loss: 0.014082  eta: 0h10m  tot: 0h6m9s  (35.7%)\rEpoch: 78.7%  lr: 0.031982  loss: 0.014074  eta: 0h10m  tot: 0h6m10s  (35.7%)\rEpoch: 78.8%  lr: 0.031982  loss: 0.014071  eta: 0h10m  tot: 0h6m10s  (35.8%)\rEpoch: 78.9%  lr: 0.031982  loss: 0.014060  eta: 0h10m  tot: 0h6m10s  (35.8%)\rEpoch: 78.9%  lr: 0.031962  loss: 0.014063  eta: 0h10m  tot: 0h6m10s  (35.8%)\rEpoch: 79.0%  lr: 0.031962  loss: 0.014066  eta: 0h10m  tot: 0h6m10s  (35.8%)\rEpoch: 79.1%  lr: 0.031962  loss: 0.014066  eta: 0h10m  tot: 0h6m10s  (35.8%)\rEpoch: 79.2%  lr: 0.031952  loss: 0.014057  eta: 0h10m  tot: 0h6m11s  (35.8%)\rEpoch: 79.3%  lr: 0.031952  loss: 0.014084  eta: 0h10m  tot: 0h6m11s  (35.9%)\rEpoch: 79.4%  lr: 0.031952  loss: 0.014073  eta: 0h10m  tot: 0h6m11s  (35.9%)\rEpoch: 79.5%  lr: 0.031952  loss: 0.014091  eta: 0h10m  tot: 0h6m11s  (35.9%)\rEpoch: 79.6%  lr: 0.031942  loss: 0.014089  eta: 0h10m  tot: 0h6m11s  (35.9%)\rEpoch: 79.7%  lr: 0.031922  loss: 0.014104  eta: 0h10m  tot: 0h6m11s  (35.9%)\rEpoch: 79.8%  lr: 0.031902  loss: 0.014103  eta: 0h10m  tot: 0h6m12s  (36.0%)\rEpoch: 79.8%  lr: 0.031892  loss: 0.014103  eta: 0h10m  tot: 0h6m12s  (36.0%)\rEpoch: 79.9%  lr: 0.031892  loss: 0.014108  eta: 0h10m  tot: 0h6m12s  (36.0%)\rEpoch: 80.0%  lr: 0.031882  loss: 0.014110  eta: 0h10m  tot: 0h6m12s  (36.0%)\rEpoch: 80.1%  lr: 0.031882  loss: 0.014114  eta: 0h10m  tot: 0h6m12s  (36.0%)\rEpoch: 80.2%  lr: 0.031862  loss: 0.014107  eta: 0h10m  tot: 0h6m12s  (36.0%)\rEpoch: 80.3%  lr: 0.031862  loss: 0.014108  eta: 0h10m  tot: 0h6m13s  (36.1%)\rEpoch: 80.4%  lr: 0.031852  loss: 0.014114  eta: 0h10m  tot: 0h6m13s  (36.1%)\rEpoch: 80.5%  lr: 0.031842  loss: 0.014109  eta: 0h10m  tot: 0h6m13s  (36.1%)\rEpoch: 80.6%  lr: 0.031842  loss: 0.014103  eta: 0h10m  tot: 0h6m13s  (36.1%)\rEpoch: 80.7%  lr: 0.031832  loss: 0.014098  eta: 0h10m  tot: 0h6m13s  (36.1%)\rEpoch: 80.7%  lr: 0.031822  loss: 0.014096  eta: 0h10m  tot: 0h6m14s  (36.1%)\rEpoch: 80.8%  lr: 0.031802  loss: 0.014102  eta: 0h10m  tot: 0h6m14s  (36.2%)\rEpoch: 80.9%  lr: 0.031802  loss: 0.014102  eta: 0h10m  tot: 0h6m14s  (36.2%)\rEpoch: 81.0%  lr: 0.031802  loss: 0.014124  eta: 0h10m  tot: 0h6m14s  (36.2%)\rEpoch: 81.1%  lr: 0.031792  loss: 0.014133  eta: 0h10m  tot: 0h6m14s  (36.2%)\rEpoch: 81.2%  lr: 0.031792  loss: 0.014127  eta: 0h10m  tot: 0h6m14s  (36.2%)\rEpoch: 81.3%  lr: 0.031792  loss: 0.014127  eta: 0h10m  tot: 0h6m15s  (36.3%)\rEpoch: 81.4%  lr: 0.031792  loss: 0.014117  eta: 0h10m  tot: 0h6m15s  (36.3%)\rEpoch: 81.5%  lr: 0.031792  loss: 0.014120  eta: 0h10m  tot: 0h6m15s  (36.3%)\rEpoch: 81.6%  lr: 0.031792  loss: 0.014123  eta: 0h10m  tot: 0h6m15s  (36.3%)\rEpoch: 81.6%  lr: 0.031782  loss: 0.014132  eta: 0h10m  tot: 0h6m15s  (36.3%)\rEpoch: 81.7%  lr: 0.031772  loss: 0.014132  eta: 0h10m  tot: 0h6m15s  (36.3%)\rEpoch: 81.8%  lr: 0.031772  loss: 0.014142  eta: 0h10m  tot: 0h6m16s  (36.4%)\rEpoch: 81.9%  lr: 0.031772  loss: 0.014155  eta: 0h10m  tot: 0h6m16s  (36.4%)\rEpoch: 82.0%  lr: 0.031762  loss: 0.014154  eta: 0h10m  tot: 0h6m16s  (36.4%)\rEpoch: 82.1%  lr: 0.031752  loss: 0.014156  eta: 0h10m  tot: 0h6m16s  (36.4%)\rEpoch: 82.2%  lr: 0.031742  loss: 0.014152  eta: 0h10m  tot: 0h6m16s  (36.4%)\rEpoch: 82.3%  lr: 0.031732  loss: 0.014147  eta: 0h10m  tot: 0h6m16s  (36.5%)\rEpoch: 82.4%  lr: 0.031722  loss: 0.014141  eta: 0h9m  tot: 0h6m17s  (36.5%)\rEpoch: 82.5%  lr: 0.031722  loss: 0.014143  eta: 0h9m  tot: 0h6m17s  (36.5%)\rEpoch: 82.5%  lr: 0.031712  loss: 0.014145  eta: 0h9m  tot: 0h6m17s  (36.5%)\rEpoch: 82.6%  lr: 0.031712  loss: 0.014152  eta: 0h9m  tot: 0h6m17s  (36.5%)\rEpoch: 82.7%  lr: 0.031702  loss: 0.014152  eta: 0h9m  tot: 0h6m17s  (36.5%)\rEpoch: 82.8%  lr: 0.031682  loss: 0.014146  eta: 0h9m  tot: 0h6m17s  (36.6%)\rEpoch: 82.9%  lr: 0.031662  loss: 0.014136  eta: 0h9m  tot: 0h6m18s  (36.6%)\rEpoch: 83.0%  lr: 0.031652  loss: 0.014134  eta: 0h9m  tot: 0h6m18s  (36.6%)\rEpoch: 83.1%  lr: 0.031652  loss: 0.014134  eta: 0h9m  tot: 0h6m18s  (36.6%)\rEpoch: 83.2%  lr: 0.031652  loss: 0.014142  eta: 0h9m  tot: 0h6m18s  (36.6%)\rEpoch: 83.3%  lr: 0.031642  loss: 0.014140  eta: 0h9m  tot: 0h6m18s  (36.7%)\rEpoch: 83.4%  lr: 0.031622  loss: 0.014141  eta: 0h9m  tot: 0h6m18s  (36.7%)\rEpoch: 83.4%  lr: 0.031622  loss: 0.014139  eta: 0h9m  tot: 0h6m19s  (36.7%)\rEpoch: 83.5%  lr: 0.031612  loss: 0.014135  eta: 0h9m  tot: 0h6m19s  (36.7%)\rEpoch: 83.6%  lr: 0.031602  loss: 0.014129  eta: 0h9m  tot: 0h6m19s  (36.7%)\rEpoch: 83.7%  lr: 0.031602  loss: 0.014134  eta: 0h9m  tot: 0h6m19s  (36.7%)\rEpoch: 83.8%  lr: 0.031582  loss: 0.014132  eta: 0h9m  tot: 0h6m19s  (36.8%)\rEpoch: 83.9%  lr: 0.031582  loss: 0.014129  eta: 0h9m  tot: 0h6m19s  (36.8%)\rEpoch: 84.0%  lr: 0.031572  loss: 0.014134  eta: 0h9m  tot: 0h6m20s  (36.8%)\rEpoch: 84.1%  lr: 0.031572  loss: 0.014128  eta: 0h9m  tot: 0h6m20s  (36.8%)\rEpoch: 84.2%  lr: 0.031552  loss: 0.014135  eta: 0h9m  tot: 0h6m20s  (36.8%)\rEpoch: 84.3%  lr: 0.031552  loss: 0.014125  eta: 0h9m  tot: 0h6m20s  (36.9%)\rEpoch: 84.3%  lr: 0.031552  loss: 0.014129  eta: 0h9m  tot: 0h6m20s  (36.9%)\rEpoch: 84.4%  lr: 0.031552  loss: 0.014135  eta: 0h9m  tot: 0h6m20s  (36.9%)\rEpoch: 84.5%  lr: 0.031532  loss: 0.014142  eta: 0h9m  tot: 0h6m21s  (36.9%)\rEpoch: 84.6%  lr: 0.031532  loss: 0.014153  eta: 0h9m  tot: 0h6m21s  (36.9%)\rEpoch: 84.7%  lr: 0.031522  loss: 0.014148  eta: 0h9m  tot: 0h6m21s  (36.9%)\rEpoch: 84.8%  lr: 0.031522  loss: 0.014156  eta: 0h9m  tot: 0h6m21s  (37.0%)\rEpoch: 84.9%  lr: 0.031512  loss: 0.014152  eta: 0h9m  tot: 0h6m21s  (37.0%)\rEpoch: 85.0%  lr: 0.031512  loss: 0.014150  eta: 0h9m  tot: 0h6m22s  (37.0%)\rEpoch: 85.1%  lr: 0.031502  loss: 0.014174  eta: 0h9m  tot: 0h6m22s  (37.0%)\rEpoch: 85.2%  lr: 0.031492  loss: 0.014169  eta: 0h9m  tot: 0h6m22s  (37.0%)\rEpoch: 85.2%  lr: 0.031492  loss: 0.014168  eta: 0h9m  tot: 0h6m22s  (37.0%)\rEpoch: 85.3%  lr: 0.031492  loss: 0.014165  eta: 0h9m  tot: 0h6m22s  (37.1%)\rEpoch: 85.4%  lr: 0.031492  loss: 0.014179  eta: 0h9m  tot: 0h6m22s  (37.1%)\rEpoch: 85.5%  lr: 0.031482  loss: 0.014173  eta: 0h9m  tot: 0h6m23s  (37.1%)\rEpoch: 85.6%  lr: 0.031472  loss: 0.014176  eta: 0h9m  tot: 0h6m23s  (37.1%)\rEpoch: 85.7%  lr: 0.031462  loss: 0.014185  eta: 0h9m  tot: 0h6m23s  (37.1%)\rEpoch: 85.8%  lr: 0.031452  loss: 0.014178  eta: 0h9m  tot: 0h6m23s  (37.2%)\rEpoch: 85.9%  lr: 0.031432  loss: 0.014169  eta: 0h9m  tot: 0h6m23s  (37.2%)\rEpoch: 86.0%  lr: 0.031432  loss: 0.014163  eta: 0h9m  tot: 0h6m23s  (37.2%)\rEpoch: 86.1%  lr: 0.031432  loss: 0.014168  eta: 0h9m  tot: 0h6m24s  (37.2%)\rEpoch: 86.1%  lr: 0.031402  loss: 0.014162  eta: 0h9m  tot: 0h6m24s  (37.2%)\rEpoch: 86.2%  lr: 0.031392  loss: 0.014164  eta: 0h9m  tot: 0h6m24s  (37.2%)\rEpoch: 86.3%  lr: 0.031392  loss: 0.014168  eta: 0h9m  tot: 0h6m24s  (37.3%)\rEpoch: 86.4%  lr: 0.031392  loss: 0.014163  eta: 0h9m  tot: 0h6m24s  (37.3%)\rEpoch: 86.5%  lr: 0.031392  loss: 0.014157  eta: 0h9m  tot: 0h6m24s  (37.3%)\rEpoch: 86.6%  lr: 0.031392  loss: 0.014148  eta: 0h9m  tot: 0h6m25s  (37.3%)\rEpoch: 86.7%  lr: 0.031372  loss: 0.014146  eta: 0h9m  tot: 0h6m25s  (37.3%)\rEpoch: 86.8%  lr: 0.031372  loss: 0.014142  eta: 0h9m  tot: 0h6m25s  (37.4%)\rEpoch: 86.9%  lr: 0.031341  loss: 0.014139  eta: 0h9m  tot: 0h6m25s  (37.4%)\rEpoch: 87.0%  lr: 0.031341  loss: 0.014144  eta: 0h9m  tot: 0h6m25s  (37.4%)\rEpoch: 87.0%  lr: 0.031331  loss: 0.014143  eta: 0h9m  tot: 0h6m25s  (37.4%)\rEpoch: 87.1%  lr: 0.031331  loss: 0.014136  eta: 0h9m  tot: 0h6m26s  (37.4%)\rEpoch: 87.2%  lr: 0.031321  loss: 0.014151  eta: 0h9m  tot: 0h6m26s  (37.4%)\rEpoch: 87.3%  lr: 0.031311  loss: 0.014156  eta: 0h9m  tot: 0h6m26s  (37.5%)\rEpoch: 87.4%  lr: 0.031301  loss: 0.014151  eta: 0h9m  tot: 0h6m26s  (37.5%)\rEpoch: 87.5%  lr: 0.031281  loss: 0.014140  eta: 0h9m  tot: 0h6m26s  (37.5%)\rEpoch: 87.6%  lr: 0.031261  loss: 0.014135  eta: 0h9m  tot: 0h6m26s  (37.5%)\rEpoch: 87.7%  lr: 0.031251  loss: 0.014125  eta: 0h9m  tot: 0h6m27s  (37.5%)\rEpoch: 87.8%  lr: 0.031231  loss: 0.014117  eta: 0h9m  tot: 0h6m27s  (37.6%)\rEpoch: 87.9%  lr: 0.031221  loss: 0.014112  eta: 0h9m  tot: 0h6m27s  (37.6%)\rEpoch: 87.9%  lr: 0.031221  loss: 0.014108  eta: 0h9m  tot: 0h6m27s  (37.6%)\rEpoch: 88.0%  lr: 0.031211  loss: 0.014105  eta: 0h9m  tot: 0h6m27s  (37.6%)\rEpoch: 88.1%  lr: 0.031211  loss: 0.014109  eta: 0h9m  tot: 0h6m27s  (37.6%)\rEpoch: 88.2%  lr: 0.031211  loss: 0.014101  eta: 0h9m  tot: 0h6m28s  (37.6%)\rEpoch: 88.3%  lr: 0.031211  loss: 0.014097  eta: 0h9m  tot: 0h6m28s  (37.7%)\rEpoch: 88.4%  lr: 0.031191  loss: 0.014096  eta: 0h9m  tot: 0h6m28s  (37.7%)\rEpoch: 88.5%  lr: 0.031191  loss: 0.014096  eta: 0h9m  tot: 0h6m28s  (37.7%)\rEpoch: 88.6%  lr: 0.031171  loss: 0.014089  eta: 0h9m  tot: 0h6m28s  (37.7%)\rEpoch: 88.7%  lr: 0.031151  loss: 0.014087  eta: 0h9m  tot: 0h6m28s  (37.7%)\rEpoch: 88.8%  lr: 0.031121  loss: 0.014078  eta: 0h9m  tot: 0h6m29s  (37.8%)\rEpoch: 88.8%  lr: 0.031101  loss: 0.014071  eta: 0h9m  tot: 0h6m29s  (37.8%)\rEpoch: 88.9%  lr: 0.031101  loss: 0.014078  eta: 0h9m  tot: 0h6m29s  (37.8%)\rEpoch: 89.0%  lr: 0.031101  loss: 0.014078  eta: 0h9m  tot: 0h6m29s  (37.8%)\rEpoch: 89.1%  lr: 0.031091  loss: 0.014075  eta: 0h9m  tot: 0h6m29s  (37.8%)\rEpoch: 89.2%  lr: 0.031091  loss: 0.014076  eta: 0h9m  tot: 0h6m29s  (37.8%)\rEpoch: 89.3%  lr: 0.031071  loss: 0.014082  eta: 0h9m  tot: 0h6m30s  (37.9%)\rEpoch: 89.4%  lr: 0.031071  loss: 0.014087  eta: 0h9m  tot: 0h6m30s  (37.9%)\rEpoch: 89.5%  lr: 0.031071  loss: 0.014092  eta: 0h9m  tot: 0h6m30s  (37.9%)\rEpoch: 89.6%  lr: 0.031051  loss: 0.014091  eta: 0h9m  tot: 0h6m30s  (37.9%)\rEpoch: 89.7%  lr: 0.031051  loss: 0.014089  eta: 0h9m  tot: 0h6m30s  (37.9%)\rEpoch: 89.7%  lr: 0.031031  loss: 0.014092  eta: 0h9m  tot: 0h6m31s  (37.9%)\rEpoch: 89.8%  lr: 0.031021  loss: 0.014102  eta: 0h9m  tot: 0h6m31s  (38.0%)\rEpoch: 89.9%  lr: 0.031001  loss: 0.014110  eta: 0h9m  tot: 0h6m31s  (38.0%)\rEpoch: 90.0%  lr: 0.030981  loss: 0.014110  eta: 0h9m  tot: 0h6m31s  (38.0%)\rEpoch: 90.1%  lr: 0.030971  loss: 0.014122  eta: 0h9m  tot: 0h6m31s  (38.0%)\rEpoch: 90.2%  lr: 0.030961  loss: 0.014120  eta: 0h9m  tot: 0h6m31s  (38.0%)\rEpoch: 90.3%  lr: 0.030951  loss: 0.014114  eta: 0h9m  tot: 0h6m32s  (38.1%)\rEpoch: 90.4%  lr: 0.030951  loss: 0.014118  eta: 0h9m  tot: 0h6m32s  (38.1%)\rEpoch: 90.5%  lr: 0.030951  loss: 0.014117  eta: 0h9m  tot: 0h6m32s  (38.1%)\rEpoch: 90.6%  lr: 0.030951  loss: 0.014114  eta: 0h9m  tot: 0h6m32s  (38.1%)\rEpoch: 90.6%  lr: 0.030951  loss: 0.014111  eta: 0h9m  tot: 0h6m32s  (38.1%)\rEpoch: 90.7%  lr: 0.030931  loss: 0.014101  eta: 0h9m  tot: 0h6m32s  (38.1%)\rEpoch: 90.8%  lr: 0.030931  loss: 0.014098  eta: 0h9m  tot: 0h6m33s  (38.2%)\rEpoch: 90.9%  lr: 0.030911  loss: 0.014103  eta: 0h9m  tot: 0h6m33s  (38.2%)\rEpoch: 91.0%  lr: 0.030901  loss: 0.014097  eta: 0h9m  tot: 0h6m33s  (38.2%)\rEpoch: 91.1%  lr: 0.030901  loss: 0.014100  eta: 0h9m  tot: 0h6m33s  (38.2%)\rEpoch: 91.2%  lr: 0.030901  loss: 0.014120  eta: 0h9m  tot: 0h6m33s  (38.2%)\rEpoch: 91.3%  lr: 0.030891  loss: 0.014115  eta: 0h9m  tot: 0h6m33s  (38.3%)\rEpoch: 91.4%  lr: 0.030881  loss: 0.014121  eta: 0h9m  tot: 0h6m34s  (38.3%)\rEpoch: 91.5%  lr: 0.030881  loss: 0.014118  eta: 0h9m  tot: 0h6m34s  (38.3%)\rEpoch: 91.5%  lr: 0.030871  loss: 0.014119  eta: 0h9m  tot: 0h6m34s  (38.3%)\rEpoch: 91.6%  lr: 0.030861  loss: 0.014116  eta: 0h9m  tot: 0h6m34s  (38.3%)\rEpoch: 91.7%  lr: 0.030861  loss: 0.014115  eta: 0h9m  tot: 0h6m34s  (38.3%)\rEpoch: 91.8%  lr: 0.030861  loss: 0.014126  eta: 0h9m  tot: 0h6m34s  (38.4%)\rEpoch: 91.9%  lr: 0.030861  loss: 0.014118  eta: 0h9m  tot: 0h6m35s  (38.4%)\rEpoch: 92.0%  lr: 0.030851  loss: 0.014126  eta: 0h9m  tot: 0h6m35s  (38.4%)\rEpoch: 92.1%  lr: 0.030831  loss: 0.014117  eta: 0h9m  tot: 0h6m35s  (38.4%)\rEpoch: 92.2%  lr: 0.030811  loss: 0.014106  eta: 0h9m  tot: 0h6m35s  (38.4%)\rEpoch: 92.3%  lr: 0.030811  loss: 0.014103  eta: 0h9m  tot: 0h6m35s  (38.5%)\rEpoch: 92.4%  lr: 0.030801  loss: 0.014118  eta: 0h9m  tot: 0h6m35s  (38.5%)\rEpoch: 92.4%  lr: 0.030801  loss: 0.014115  eta: 0h9m  tot: 0h6m36s  (38.5%)\rEpoch: 92.5%  lr: 0.030801  loss: 0.014111  eta: 0h9m  tot: 0h6m36s  (38.5%)\rEpoch: 92.6%  lr: 0.030791  loss: 0.014121  eta: 0h9m  tot: 0h6m36s  (38.5%)\rEpoch: 92.7%  lr: 0.030791  loss: 0.014113  eta: 0h9m  tot: 0h6m36s  (38.5%)\rEpoch: 92.8%  lr: 0.030791  loss: 0.014109  eta: 0h9m  tot: 0h6m36s  (38.6%)\rEpoch: 92.9%  lr: 0.030781  loss: 0.014111  eta: 0h9m  tot: 0h6m37s  (38.6%)\rEpoch: 93.0%  lr: 0.030771  loss: 0.014113  eta: 0h9m  tot: 0h6m37s  (38.6%)\rEpoch: 93.1%  lr: 0.030771  loss: 0.014109  eta: 0h9m  tot: 0h6m37s  (38.6%)\rEpoch: 93.2%  lr: 0.030731  loss: 0.014110  eta: 0h9m  tot: 0h6m37s  (38.6%)\rEpoch: 93.3%  lr: 0.030731  loss: 0.014105  eta: 0h9m  tot: 0h6m37s  (38.7%)\rEpoch: 93.3%  lr: 0.030721  loss: 0.014107  eta: 0h9m  tot: 0h6m37s  (38.7%)\rEpoch: 93.4%  lr: 0.030701  loss: 0.014105  eta: 0h9m  tot: 0h6m37s  (38.7%)\rEpoch: 93.5%  lr: 0.030691  loss: 0.014104  eta: 0h9m  tot: 0h6m38s  (38.7%)\rEpoch: 93.6%  lr: 0.030681  loss: 0.014100  eta: 0h9m  tot: 0h6m38s  (38.7%)\rEpoch: 93.7%  lr: 0.030681  loss: 0.014097  eta: 0h9m  tot: 0h6m38s  (38.7%)\rEpoch: 93.8%  lr: 0.030671  loss: 0.014099  eta: 0h9m  tot: 0h6m38s  (38.8%)\rEpoch: 93.9%  lr: 0.030661  loss: 0.014094  eta: 0h9m  tot: 0h6m38s  (38.8%)\rEpoch: 94.0%  lr: 0.030641  loss: 0.014099  eta: 0h9m  tot: 0h6m38s  (38.8%)\rEpoch: 94.1%  lr: 0.030631  loss: 0.014095  eta: 0h9m  tot: 0h6m39s  (38.8%)\rEpoch: 94.2%  lr: 0.030601  loss: 0.014086  eta: 0h9m  tot: 0h6m39s  (38.8%)\rEpoch: 94.2%  lr: 0.030601  loss: 0.014085  eta: 0h9m  tot: 0h6m39s  (38.8%)\rEpoch: 94.3%  lr: 0.030581  loss: 0.014085  eta: 0h9m  tot: 0h6m39s  (38.9%)\rEpoch: 94.4%  lr: 0.030561  loss: 0.014081  eta: 0h9m  tot: 0h6m39s  (38.9%)\rEpoch: 94.5%  lr: 0.030541  loss: 0.014082  eta: 0h9m  tot: 0h6m40s  (38.9%)\rEpoch: 94.6%  lr: 0.030531  loss: 0.014079  eta: 0h9m  tot: 0h6m40s  (38.9%)\rEpoch: 94.7%  lr: 0.030531  loss: 0.014077  eta: 0h9m  tot: 0h6m40s  (38.9%)\rEpoch: 94.8%  lr: 0.030521  loss: 0.014080  eta: 0h9m  tot: 0h6m40s  (39.0%)\rEpoch: 94.9%  lr: 0.030521  loss: 0.014074  eta: 0h9m  tot: 0h6m40s  (39.0%)\rEpoch: 95.0%  lr: 0.030511  loss: 0.014079  eta: 0h9m  tot: 0h6m40s  (39.0%)\rEpoch: 95.1%  lr: 0.030501  loss: 0.014080  eta: 0h9m  tot: 0h6m41s  (39.0%)\rEpoch: 95.1%  lr: 0.030501  loss: 0.014073  eta: 0h9m  tot: 0h6m41s  (39.0%)\rEpoch: 95.2%  lr: 0.030501  loss: 0.014076  eta: 0h9m  tot: 0h6m41s  (39.0%)\rEpoch: 95.3%  lr: 0.030501  loss: 0.014076  eta: 0h9m  tot: 0h6m41s  (39.1%)\rEpoch: 95.4%  lr: 0.030501  loss: 0.014079  eta: 0h9m  tot: 0h6m41s  (39.1%)\rEpoch: 95.5%  lr: 0.030471  loss: 0.014084  eta: 0h9m  tot: 0h6m41s  (39.1%)\rEpoch: 95.6%  lr: 0.030471  loss: 0.014080  eta: 0h9m  tot: 0h6m42s  (39.1%)\rEpoch: 95.7%  lr: 0.030471  loss: 0.014076  eta: 0h9m  tot: 0h6m42s  (39.1%)\rEpoch: 95.8%  lr: 0.030461  loss: 0.014080  eta: 0h9m  tot: 0h6m42s  (39.2%)\rEpoch: 95.9%  lr: 0.030441  loss: 0.014089  eta: 0h9m  tot: 0h6m42s  (39.2%)\rEpoch: 96.0%  lr: 0.030431  loss: 0.014089  eta: 0h9m  tot: 0h6m42s  (39.2%)\rEpoch: 96.0%  lr: 0.030411  loss: 0.014085  eta: 0h9m  tot: 0h6m42s  (39.2%)\rEpoch: 96.1%  lr: 0.030411  loss: 0.014081  eta: 0h9m  tot: 0h6m43s  (39.2%)\rEpoch: 96.2%  lr: 0.030411  loss: 0.014072  eta: 0h9m  tot: 0h6m43s  (39.2%)\rEpoch: 96.3%  lr: 0.030401  loss: 0.014069  eta: 0h9m  tot: 0h6m43s  (39.3%)\rEpoch: 96.4%  lr: 0.030401  loss: 0.014066  eta: 0h9m  tot: 0h6m43s  (39.3%)\rEpoch: 96.5%  lr: 0.030391  loss: 0.014065  eta: 0h9m  tot: 0h6m43s  (39.3%)\rEpoch: 96.6%  lr: 0.030371  loss: 0.014062  eta: 0h9m  tot: 0h6m43s  (39.3%)\rEpoch: 96.7%  lr: 0.030350  loss: 0.014069  eta: 0h9m  tot: 0h6m44s  (39.3%)\rEpoch: 96.8%  lr: 0.030350  loss: 0.014063  eta: 0h9m  tot: 0h6m44s  (39.4%)\rEpoch: 96.9%  lr: 0.030330  loss: 0.014070  eta: 0h9m  tot: 0h6m44s  (39.4%)\rEpoch: 96.9%  lr: 0.030330  loss: 0.014068  eta: 0h9m  tot: 0h6m44s  (39.4%)\rEpoch: 97.0%  lr: 0.030300  loss: 0.014067  eta: 0h9m  tot: 0h6m44s  (39.4%)\rEpoch: 97.1%  lr: 0.030300  loss: 0.014067  eta: 0h9m  tot: 0h6m44s  (39.4%)\rEpoch: 97.2%  lr: 0.030290  loss: 0.014067  eta: 0h9m  tot: 0h6m45s  (39.4%)\rEpoch: 97.3%  lr: 0.030280  loss: 0.014065  eta: 0h9m  tot: 0h6m45s  (39.5%)\rEpoch: 97.4%  lr: 0.030270  loss: 0.014074  eta: 0h9m  tot: 0h6m45s  (39.5%)\rEpoch: 97.5%  lr: 0.030260  loss: 0.014065  eta: 0h9m  tot: 0h6m45s  (39.5%)\rEpoch: 97.6%  lr: 0.030240  loss: 0.014066  eta: 0h9m  tot: 0h6m45s  (39.5%)\rEpoch: 97.7%  lr: 0.030240  loss: 0.014076  eta: 0h9m  tot: 0h6m45s  (39.5%)\rEpoch: 97.8%  lr: 0.030240  loss: 0.014077  eta: 0h9m  tot: 0h6m46s  (39.6%)\rEpoch: 97.8%  lr: 0.030210  loss: 0.014077  eta: 0h9m  tot: 0h6m46s  (39.6%)\rEpoch: 97.9%  lr: 0.030190  loss: 0.014084  eta: 0h9m  tot: 0h6m46s  (39.6%)\rEpoch: 98.0%  lr: 0.030190  loss: 0.014077  eta: 0h9m  tot: 0h6m46s  (39.6%)\rEpoch: 98.1%  lr: 0.030180  loss: 0.014079  eta: 0h9m  tot: 0h6m46s  (39.6%)\rEpoch: 98.2%  lr: 0.030170  loss: 0.014075  eta: 0h9m  tot: 0h6m47s  (39.6%)\rEpoch: 98.3%  lr: 0.030160  loss: 0.014076  eta: 0h9m  tot: 0h6m47s  (39.7%)\rEpoch: 98.4%  lr: 0.030140  loss: 0.014070  eta: 0h9m  tot: 0h6m47s  (39.7%)\rEpoch: 98.5%  lr: 0.030140  loss: 0.014064  eta: 0h9m  tot: 0h6m47s  (39.7%)\rEpoch: 98.6%  lr: 0.030140  loss: 0.014062  eta: 0h9m  tot: 0h6m47s  (39.7%)\rEpoch: 98.7%  lr: 0.030110  loss: 0.014071  eta: 0h9m  tot: 0h6m47s  (39.7%)\rEpoch: 98.7%  lr: 0.030100  loss: 0.014066  eta: 0h9m  tot: 0h6m48s  (39.7%)\rEpoch: 98.8%  lr: 0.030090  loss: 0.014071  eta: 0h9m  tot: 0h6m48s  (39.8%)\rEpoch: 98.9%  lr: 0.030060  loss: 0.014075  eta: 0h9m  tot: 0h6m48s  (39.8%)\rEpoch: 99.0%  lr: 0.030050  loss: 0.014075  eta: 0h9m  tot: 0h6m48s  (39.8%)\rEpoch: 99.1%  lr: 0.030050  loss: 0.014076  eta: 0h9m  tot: 0h6m48s  (39.8%)\rEpoch: 99.2%  lr: 0.030040  loss: 0.014070  eta: 0h9m  tot: 0h6m48s  (39.8%)\rEpoch: 99.3%  lr: 0.030040  loss: 0.014073  eta: 0h9m  tot: 0h6m49s  (39.9%)\rEpoch: 99.4%  lr: 0.030030  loss: 0.014063  eta: 0h9m  tot: 0h6m49s  (39.9%)\rEpoch: 99.5%  lr: 0.030020  loss: 0.014055  eta: 0h9m  tot: 0h6m49s  (39.9%)\rEpoch: 99.6%  lr: 0.030020  loss: 0.014057  eta: 0h9m  tot: 0h6m49s  (39.9%)\rEpoch: 99.6%  lr: 0.030010  loss: 0.014067  eta: 0h9m  tot: 0h6m49s  (39.9%)\rEpoch: 99.7%  lr: 0.030010  loss: 0.014064  eta: 0h9m  tot: 0h6m49s  (39.9%)\rEpoch: 99.8%  lr: 0.030010  loss: 0.014059  eta: 0h9m  tot: 0h6m49s  (40.0%)\rEpoch: 99.9%  lr: 0.030010  loss: 0.014060  eta: 0h9m  tot: 0h6m49s  (40.0%)\rEpoch: 100.0%  lr: 0.030010  loss: 0.014070  eta: 0h9m  tot: 0h6m50s  (40.0%)\rEpoch: 0.1%  lr: 0.029970  loss: 0.013519  eta: 0h8m  tot: 0h6m50s  (40.0%)\rEpoch: 0.2%  lr: 0.029970  loss: 0.009580  eta: 0h9m  tot: 0h6m50s  (40.0%)\rEpoch: 0.3%  lr: 0.029950  loss: 0.008379  eta: 0h9m  tot: 0h6m50s  (40.1%)\rEpoch: 0.4%  lr: 0.029950  loss: 0.008685  eta: 0h9m  tot: 0h6m50s  (40.1%)\rEpoch: 0.4%  lr: 0.029940  loss: 0.009102  eta: 0h9m  tot: 0h6m50s  (40.1%)\rEpoch: 0.5%  lr: 0.029930  loss: 0.008949  eta: 0h9m  tot: 0h6m51s  (40.1%)\rEpoch: 0.6%  lr: 0.029930  loss: 0.008495  eta: 0h9m  tot: 0h6m51s  (40.1%)\rEpoch: 0.7%  lr: 0.029930  loss: 0.007857  eta: 0h9m  tot: 0h6m51s  (40.1%)\rEpoch: 0.8%  lr: 0.029930  loss: 0.008119  eta: 0h9m  tot: 0h6m51s  (40.2%)\rEpoch: 0.9%  lr: 0.029920  loss: 0.008106  eta: 0h9m  tot: 0h6m51s  (40.2%)\rEpoch: 1.0%  lr: 0.029890  loss: 0.007948  eta: 0h9m  tot: 0h6m51s  (40.2%)\rEpoch: 1.1%  lr: 0.029890  loss: 0.007666  eta: 0h9m  tot: 0h6m52s  (40.2%)\rEpoch: 1.2%  lr: 0.029880  loss: 0.007747  eta: 0h9m  tot: 0h6m52s  (40.2%)\rEpoch: 1.3%  lr: 0.029870  loss: 0.008068  eta: 0h9m  tot: 0h6m52s  (40.3%)\rEpoch: 1.3%  lr: 0.029860  loss: 0.008069  eta: 0h9m  tot: 0h6m52s  (40.3%)\rEpoch: 1.4%  lr: 0.029860  loss: 0.008026  eta: 0h9m  tot: 0h6m52s  (40.3%)\rEpoch: 1.5%  lr: 0.029850  loss: 0.008093  eta: 0h9m  tot: 0h6m52s  (40.3%)\rEpoch: 1.6%  lr: 0.029830  loss: 0.008076  eta: 0h9m  tot: 0h6m53s  (40.3%)\rEpoch: 1.7%  lr: 0.029820  loss: 0.008476  eta: 0h9m  tot: 0h6m53s  (40.3%)\rEpoch: 1.8%  lr: 0.029820  loss: 0.008587  eta: 0h9m  tot: 0h6m53s  (40.4%)\rEpoch: 1.9%  lr: 0.029800  loss: 0.008852  eta: 0h9m  tot: 0h6m53s  (40.4%)\rEpoch: 2.0%  lr: 0.029790  loss: 0.008811  eta: 0h9m  tot: 0h6m53s  (40.4%)\rEpoch: 2.1%  lr: 0.029780  loss: 0.008882  eta: 0h9m  tot: 0h6m53s  (40.4%)\rEpoch: 2.2%  lr: 0.029760  loss: 0.009072  eta: 0h9m  tot: 0h6m54s  (40.4%)\rEpoch: 2.2%  lr: 0.029760  loss: 0.009124  eta: 0h9m  tot: 0h6m54s  (40.4%)\rEpoch: 2.3%  lr: 0.029760  loss: 0.009138  eta: 0h9m  tot: 0h6m54s  (40.5%)\rEpoch: 2.4%  lr: 0.029750  loss: 0.009395  eta: 0h9m  tot: 0h6m54s  (40.5%)\rEpoch: 2.5%  lr: 0.029730  loss: 0.009276  eta: 0h9m  tot: 0h6m54s  (40.5%)\rEpoch: 2.6%  lr: 0.029730  loss: 0.009295  eta: 0h9m  tot: 0h6m54s  (40.5%)\rEpoch: 2.7%  lr: 0.029720  loss: 0.009116  eta: 0h9m  tot: 0h6m55s  (40.5%)\rEpoch: 2.8%  lr: 0.029710  loss: 0.008981  eta: 0h9m  tot: 0h6m55s  (40.6%)\rEpoch: 2.9%  lr: 0.029680  loss: 0.009160  eta: 0h9m  tot: 0h6m55s  (40.6%)\rEpoch: 3.0%  lr: 0.029660  loss: 0.009137  eta: 0h9m  tot: 0h6m55s  (40.6%)\rEpoch: 3.1%  lr: 0.029660  loss: 0.008993  eta: 0h9m  tot: 0h6m55s  (40.6%)\rEpoch: 3.1%  lr: 0.029650  loss: 0.008934  eta: 0h9m  tot: 0h6m55s  (40.6%)\rEpoch: 3.2%  lr: 0.029620  loss: 0.008914  eta: 0h9m  tot: 0h6m56s  (40.6%)\rEpoch: 3.3%  lr: 0.029620  loss: 0.008820  eta: 0h9m  tot: 0h6m56s  (40.7%)\rEpoch: 3.4%  lr: 0.029610  loss: 0.008885  eta: 0h9m  tot: 0h6m56s  (40.7%)\rEpoch: 3.5%  lr: 0.029590  loss: 0.008814  eta: 0h9m  tot: 0h6m56s  (40.7%)\rEpoch: 3.6%  lr: 0.029560  loss: 0.008720  eta: 0h9m  tot: 0h6m56s  (40.7%)\rEpoch: 3.7%  lr: 0.029550  loss: 0.008600  eta: 0h9m  tot: 0h6m56s  (40.7%)\rEpoch: 3.8%  lr: 0.029550  loss: 0.008555  eta: 0h9m  tot: 0h6m57s  (40.8%)\rEpoch: 3.9%  lr: 0.029550  loss: 0.008775  eta: 0h9m  tot: 0h6m57s  (40.8%)\rEpoch: 4.0%  lr: 0.029550  loss: 0.008683  eta: 0h9m  tot: 0h6m57s  (40.8%)\rEpoch: 4.0%  lr: 0.029550  loss: 0.008816  eta: 0h9m  tot: 0h6m57s  (40.8%)\rEpoch: 4.1%  lr: 0.029550  loss: 0.009007  eta: 0h9m  tot: 0h6m57s  (40.8%)\rEpoch: 4.2%  lr: 0.029530  loss: 0.008949  eta: 0h9m  tot: 0h6m57s  (40.8%)\rEpoch: 4.3%  lr: 0.029530  loss: 0.008813  eta: 0h9m  tot: 0h6m58s  (40.9%)\rEpoch: 4.4%  lr: 0.029510  loss: 0.008825  eta: 0h9m  tot: 0h6m58s  (40.9%)\rEpoch: 4.5%  lr: 0.029500  loss: 0.008845  eta: 0h9m  tot: 0h6m58s  (40.9%)\rEpoch: 4.6%  lr: 0.029479  loss: 0.008975  eta: 0h9m  tot: 0h6m58s  (40.9%)\rEpoch: 4.7%  lr: 0.029479  loss: 0.009072  eta: 0h9m  tot: 0h6m58s  (40.9%)\rEpoch: 4.8%  lr: 0.029479  loss: 0.009004  eta: 0h9m  tot: 0h6m58s  (41.0%)\rEpoch: 4.9%  lr: 0.029479  loss: 0.009010  eta: 0h9m  tot: 0h6m59s  (41.0%)\rEpoch: 5.0%  lr: 0.029459  loss: 0.008906  eta: 0h9m  tot: 0h6m59s  (41.0%)\rEpoch: 5.0%  lr: 0.029449  loss: 0.008893  eta: 0h9m  tot: 0h6m59s  (41.0%)\rEpoch: 5.1%  lr: 0.029429  loss: 0.009127  eta: 0h9m  tot: 0h6m59s  (41.0%)\rEpoch: 5.2%  lr: 0.029429  loss: 0.009123  eta: 0h9m  tot: 0h6m59s  (41.0%)\rEpoch: 5.3%  lr: 0.029409  loss: 0.009072  eta: 0h9m  tot: 0h6m59s  (41.1%)\rEpoch: 5.4%  lr: 0.029409  loss: 0.009056  eta: 0h9m  tot: 0h7m0s  (41.1%)\rEpoch: 5.5%  lr: 0.029409  loss: 0.008991  eta: 0h9m  tot: 0h7m0s  (41.1%)\rEpoch: 5.6%  lr: 0.029399  loss: 0.008971  eta: 0h9m  tot: 0h7m0s  (41.1%)\rEpoch: 5.7%  lr: 0.029369  loss: 0.009006  eta: 0h9m  tot: 0h7m0s  (41.1%)\rEpoch: 5.8%  lr: 0.029359  loss: 0.008916  eta: 0h9m  tot: 0h7m0s  (41.2%)\rEpoch: 5.9%  lr: 0.029359  loss: 0.008877  eta: 0h9m  tot: 0h7m0s  (41.2%)\rEpoch: 5.9%  lr: 0.029349  loss: 0.008967  eta: 0h9m  tot: 0h7m1s  (41.2%)\rEpoch: 6.0%  lr: 0.029329  loss: 0.008980  eta: 0h9m  tot: 0h7m1s  (41.2%)\rEpoch: 6.1%  lr: 0.029329  loss: 0.008907  eta: 0h9m  tot: 0h7m1s  (41.2%)\rEpoch: 6.2%  lr: 0.029319  loss: 0.008906  eta: 0h9m  tot: 0h7m1s  (41.2%)\rEpoch: 6.3%  lr: 0.029309  loss: 0.008940  eta: 0h9m  tot: 0h7m1s  (41.3%)\rEpoch: 6.4%  lr: 0.029289  loss: 0.009020  eta: 0h9m  tot: 0h7m1s  (41.3%)\rEpoch: 6.5%  lr: 0.029269  loss: 0.009073  eta: 0h9m  tot: 0h7m2s  (41.3%)\rEpoch: 6.6%  lr: 0.029269  loss: 0.009081  eta: 0h9m  tot: 0h7m2s  (41.3%)\rEpoch: 6.7%  lr: 0.029269  loss: 0.009111  eta: 0h9m  tot: 0h7m2s  (41.3%)\rEpoch: 6.8%  lr: 0.029239  loss: 0.009042  eta: 0h9m  tot: 0h7m2s  (41.4%)\rEpoch: 6.8%  lr: 0.029239  loss: 0.008998  eta: 0h9m  tot: 0h7m2s  (41.4%)\rEpoch: 6.9%  lr: 0.029239  loss: 0.008936  eta: 0h9m  tot: 0h7m2s  (41.4%)\rEpoch: 7.0%  lr: 0.029239  loss: 0.008867  eta: 0h9m  tot: 0h7m3s  (41.4%)\rEpoch: 7.1%  lr: 0.029239  loss: 0.008873  eta: 0h9m  tot: 0h7m3s  (41.4%)\rEpoch: 7.2%  lr: 0.029239  loss: 0.008927  eta: 0h9m  tot: 0h7m3s  (41.4%)\rEpoch: 7.3%  lr: 0.029239  loss: 0.008932  eta: 0h9m  tot: 0h7m3s  (41.5%)\rEpoch: 7.4%  lr: 0.029239  loss: 0.008950  eta: 0h9m  tot: 0h7m3s  (41.5%)\rEpoch: 7.5%  lr: 0.029209  loss: 0.008918  eta: 0h9m  tot: 0h7m3s  (41.5%)\rEpoch: 7.6%  lr: 0.029209  loss: 0.009069  eta: 0h9m  tot: 0h7m4s  (41.5%)\rEpoch: 7.7%  lr: 0.029209  loss: 0.009094  eta: 0h9m  tot: 0h7m4s  (41.5%)\rEpoch: 7.7%  lr: 0.029189  loss: 0.008997  eta: 0h9m  tot: 0h7m4s  (41.5%)\rEpoch: 7.8%  lr: 0.029179  loss: 0.008943  eta: 0h9m  tot: 0h7m4s  (41.6%)\rEpoch: 7.9%  lr: 0.029159  loss: 0.008930  eta: 0h9m  tot: 0h7m4s  (41.6%)\rEpoch: 8.0%  lr: 0.029159  loss: 0.008913  eta: 0h9m  tot: 0h7m4s  (41.6%)\rEpoch: 8.1%  lr: 0.029149  loss: 0.008955  eta: 0h9m  tot: 0h7m5s  (41.6%)\rEpoch: 8.2%  lr: 0.029119  loss: 0.009008  eta: 0h9m  tot: 0h7m5s  (41.6%)\rEpoch: 8.3%  lr: 0.029119  loss: 0.009020  eta: 0h9m  tot: 0h7m5s  (41.7%)\rEpoch: 8.4%  lr: 0.029109  loss: 0.008967  eta: 0h9m  tot: 0h7m5s  (41.7%)\rEpoch: 8.5%  lr: 0.029099  loss: 0.008989  eta: 0h8m  tot: 0h7m5s  (41.7%)\rEpoch: 8.6%  lr: 0.029089  loss: 0.008994  eta: 0h8m  tot: 0h7m5s  (41.7%)\rEpoch: 8.6%  lr: 0.029079  loss: 0.008984  eta: 0h8m  tot: 0h7m6s  (41.7%)\rEpoch: 8.7%  lr: 0.029069  loss: 0.008960  eta: 0h8m  tot: 0h7m6s  (41.7%)\rEpoch: 8.8%  lr: 0.029049  loss: 0.009114  eta: 0h8m  tot: 0h7m6s  (41.8%)\rEpoch: 8.9%  lr: 0.029029  loss: 0.009057  eta: 0h8m  tot: 0h7m6s  (41.8%)\rEpoch: 9.0%  lr: 0.029029  loss: 0.009162  eta: 0h8m  tot: 0h7m6s  (41.8%)\rEpoch: 9.1%  lr: 0.029019  loss: 0.009106  eta: 0h8m  tot: 0h7m6s  (41.8%)\rEpoch: 9.2%  lr: 0.028999  loss: 0.009131  eta: 0h8m  tot: 0h7m7s  (41.8%)\rEpoch: 9.3%  lr: 0.028999  loss: 0.009252  eta: 0h8m  tot: 0h7m7s  (41.9%)\rEpoch: 9.4%  lr: 0.028979  loss: 0.009195  eta: 0h8m  tot: 0h7m7s  (41.9%)\rEpoch: 9.5%  lr: 0.028979  loss: 0.009178  eta: 0h8m  tot: 0h7m7s  (41.9%)\rEpoch: 9.5%  lr: 0.028979  loss: 0.009164  eta: 0h8m  tot: 0h7m7s  (41.9%)\rEpoch: 9.6%  lr: 0.028959  loss: 0.009115  eta: 0h8m  tot: 0h7m7s  (41.9%)\rEpoch: 9.7%  lr: 0.028949  loss: 0.009090  eta: 0h8m  tot: 0h7m8s  (41.9%)\rEpoch: 9.8%  lr: 0.028949  loss: 0.009040  eta: 0h8m  tot: 0h7m8s  (42.0%)\rEpoch: 9.9%  lr: 0.028939  loss: 0.009020  eta: 0h8m  tot: 0h7m8s  (42.0%)\rEpoch: 10.0%  lr: 0.028929  loss: 0.008994  eta: 0h8m  tot: 0h7m8s  (42.0%)\rEpoch: 10.1%  lr: 0.028909  loss: 0.008945  eta: 0h8m  tot: 0h7m8s  (42.0%)\rEpoch: 10.2%  lr: 0.028879  loss: 0.008960  eta: 0h8m  tot: 0h7m8s  (42.0%)\rEpoch: 10.3%  lr: 0.028879  loss: 0.008977  eta: 0h8m  tot: 0h7m9s  (42.1%)\rEpoch: 10.4%  lr: 0.028879  loss: 0.009008  eta: 0h8m  tot: 0h7m9s  (42.1%)\rEpoch: 10.4%  lr: 0.028869  loss: 0.009001  eta: 0h8m  tot: 0h7m9s  (42.1%)\rEpoch: 10.5%  lr: 0.028869  loss: 0.009013  eta: 0h8m  tot: 0h7m9s  (42.1%)\rEpoch: 10.6%  lr: 0.028849  loss: 0.008986  eta: 0h8m  tot: 0h7m9s  (42.1%)\rEpoch: 10.7%  lr: 0.028829  loss: 0.008999  eta: 0h8m  tot: 0h7m9s  (42.1%)\rEpoch: 10.8%  lr: 0.028789  loss: 0.009015  eta: 0h8m  tot: 0h7m10s  (42.2%)\rEpoch: 10.9%  lr: 0.028779  loss: 0.009066  eta: 0h8m  tot: 0h7m10s  (42.2%)\rEpoch: 11.0%  lr: 0.028779  loss: 0.009117  eta: 0h8m  tot: 0h7m10s  (42.2%)\rEpoch: 11.1%  lr: 0.028769  loss: 0.009090  eta: 0h8m  tot: 0h7m10s  (42.2%)\rEpoch: 11.2%  lr: 0.028759  loss: 0.009083  eta: 0h8m  tot: 0h7m10s  (42.2%)\rEpoch: 11.3%  lr: 0.028759  loss: 0.009068  eta: 0h8m  tot: 0h7m10s  (42.3%)\rEpoch: 11.3%  lr: 0.028759  loss: 0.009042  eta: 0h8m  tot: 0h7m11s  (42.3%)\rEpoch: 11.4%  lr: 0.028749  loss: 0.009022  eta: 0h8m  tot: 0h7m11s  (42.3%)\rEpoch: 11.5%  lr: 0.028749  loss: 0.009012  eta: 0h8m  tot: 0h7m11s  (42.3%)\rEpoch: 11.6%  lr: 0.028739  loss: 0.008983  eta: 0h8m  tot: 0h7m11s  (42.3%)\rEpoch: 11.7%  lr: 0.028729  loss: 0.008949  eta: 0h8m  tot: 0h7m11s  (42.3%)\rEpoch: 11.8%  lr: 0.028719  loss: 0.008922  eta: 0h8m  tot: 0h7m11s  (42.4%)\rEpoch: 11.9%  lr: 0.028709  loss: 0.008885  eta: 0h8m  tot: 0h7m11s  (42.4%)\rEpoch: 12.0%  lr: 0.028689  loss: 0.008886  eta: 0h8m  tot: 0h7m12s  (42.4%)\rEpoch: 12.1%  lr: 0.028689  loss: 0.008892  eta: 0h8m  tot: 0h7m12s  (42.4%)\rEpoch: 12.2%  lr: 0.028689  loss: 0.008881  eta: 0h8m  tot: 0h7m12s  (42.4%)\rEpoch: 12.2%  lr: 0.028679  loss: 0.008974  eta: 0h8m  tot: 0h7m12s  (42.4%)\rEpoch: 12.3%  lr: 0.028659  loss: 0.008945  eta: 0h8m  tot: 0h7m12s  (42.5%)\rEpoch: 12.4%  lr: 0.028659  loss: 0.008952  eta: 0h8m  tot: 0h7m12s  (42.5%)\rEpoch: 12.5%  lr: 0.028659  loss: 0.008912  eta: 0h8m  tot: 0h7m13s  (42.5%)\rEpoch: 12.6%  lr: 0.028649  loss: 0.008905  eta: 0h8m  tot: 0h7m13s  (42.5%)\rEpoch: 12.7%  lr: 0.028639  loss: 0.008887  eta: 0h8m  tot: 0h7m13s  (42.5%)\rEpoch: 12.8%  lr: 0.028629  loss: 0.008941  eta: 0h8m  tot: 0h7m13s  (42.6%)\rEpoch: 12.9%  lr: 0.028599  loss: 0.008907  eta: 0h8m  tot: 0h7m13s  (42.6%)\rEpoch: 13.0%  lr: 0.028589  loss: 0.008887  eta: 0h8m  tot: 0h7m13s  (42.6%)\rEpoch: 13.1%  lr: 0.028579  loss: 0.008863  eta: 0h8m  tot: 0h7m14s  (42.6%)\rEpoch: 13.1%  lr: 0.028579  loss: 0.008910  eta: 0h8m  tot: 0h7m14s  (42.6%)\rEpoch: 13.2%  lr: 0.028569  loss: 0.008949  eta: 0h8m  tot: 0h7m14s  (42.6%)\rEpoch: 13.3%  lr: 0.028569  loss: 0.008941  eta: 0h8m  tot: 0h7m14s  (42.7%)\rEpoch: 13.4%  lr: 0.028559  loss: 0.008901  eta: 0h8m  tot: 0h7m14s  (42.7%)\rEpoch: 13.5%  lr: 0.028559  loss: 0.008907  eta: 0h8m  tot: 0h7m14s  (42.7%)\rEpoch: 13.6%  lr: 0.028559  loss: 0.008960  eta: 0h8m  tot: 0h7m15s  (42.7%)\rEpoch: 13.7%  lr: 0.028559  loss: 0.008943  eta: 0h8m  tot: 0h7m15s  (42.7%)\rEpoch: 13.8%  lr: 0.028549  loss: 0.008911  eta: 0h8m  tot: 0h7m15s  (42.8%)\rEpoch: 13.9%  lr: 0.028529  loss: 0.008884  eta: 0h8m  tot: 0h7m15s  (42.8%)\rEpoch: 14.0%  lr: 0.028529  loss: 0.008857  eta: 0h8m  tot: 0h7m15s  (42.8%)\rEpoch: 14.0%  lr: 0.028489  loss: 0.008876  eta: 0h8m  tot: 0h7m15s  (42.8%)\rEpoch: 14.1%  lr: 0.028468  loss: 0.008856  eta: 0h8m  tot: 0h7m16s  (42.8%)\rEpoch: 14.2%  lr: 0.028468  loss: 0.008860  eta: 0h8m  tot: 0h7m16s  (42.8%)\rEpoch: 14.3%  lr: 0.028468  loss: 0.008851  eta: 0h8m  tot: 0h7m16s  (42.9%)\rEpoch: 14.4%  lr: 0.028448  loss: 0.008827  eta: 0h8m  tot: 0h7m16s  (42.9%)\rEpoch: 14.5%  lr: 0.028448  loss: 0.008787  eta: 0h8m  tot: 0h7m16s  (42.9%)\rEpoch: 14.6%  lr: 0.028448  loss: 0.008847  eta: 0h8m  tot: 0h7m16s  (42.9%)\rEpoch: 14.7%  lr: 0.028428  loss: 0.008829  eta: 0h8m  tot: 0h7m17s  (42.9%)\rEpoch: 14.8%  lr: 0.028418  loss: 0.008851  eta: 0h8m  tot: 0h7m17s  (43.0%)\rEpoch: 14.9%  lr: 0.028388  loss: 0.008861  eta: 0h8m  tot: 0h7m17s  (43.0%)\rEpoch: 14.9%  lr: 0.028368  loss: 0.008861  eta: 0h8m  tot: 0h7m17s  (43.0%)\rEpoch: 15.0%  lr: 0.028328  loss: 0.008838  eta: 0h8m  tot: 0h7m17s  (43.0%)\rEpoch: 15.1%  lr: 0.028318  loss: 0.008878  eta: 0h8m  tot: 0h7m17s  (43.0%)\rEpoch: 15.2%  lr: 0.028308  loss: 0.008870  eta: 0h8m  tot: 0h7m18s  (43.0%)\rEpoch: 15.3%  lr: 0.028308  loss: 0.008894  eta: 0h8m  tot: 0h7m18s  (43.1%)\rEpoch: 15.4%  lr: 0.028288  loss: 0.008869  eta: 0h8m  tot: 0h7m18s  (43.1%)\rEpoch: 15.5%  lr: 0.028268  loss: 0.008879  eta: 0h8m  tot: 0h7m18s  (43.1%)\rEpoch: 15.6%  lr: 0.028248  loss: 0.008896  eta: 0h8m  tot: 0h7m18s  (43.1%)\rEpoch: 15.7%  lr: 0.028248  loss: 0.008928  eta: 0h8m  tot: 0h7m18s  (43.1%)\rEpoch: 15.8%  lr: 0.028238  loss: 0.008935  eta: 0h8m  tot: 0h7m19s  (43.2%)\rEpoch: 15.8%  lr: 0.028208  loss: 0.008924  eta: 0h8m  tot: 0h7m19s  (43.2%)\rEpoch: 15.9%  lr: 0.028198  loss: 0.008912  eta: 0h8m  tot: 0h7m19s  (43.2%)\rEpoch: 16.0%  lr: 0.028198  loss: 0.008928  eta: 0h8m  tot: 0h7m19s  (43.2%)\rEpoch: 16.1%  lr: 0.028168  loss: 0.008927  eta: 0h8m  tot: 0h7m19s  (43.2%)\rEpoch: 16.2%  lr: 0.028158  loss: 0.008957  eta: 0h8m  tot: 0h7m19s  (43.2%)\rEpoch: 16.3%  lr: 0.028148  loss: 0.008945  eta: 0h8m  tot: 0h7m20s  (43.3%)\rEpoch: 16.4%  lr: 0.028138  loss: 0.008997  eta: 0h8m  tot: 0h7m20s  (43.3%)\rEpoch: 16.5%  lr: 0.028138  loss: 0.008989  eta: 0h8m  tot: 0h7m20s  (43.3%)\rEpoch: 16.6%  lr: 0.028118  loss: 0.008997  eta: 0h8m  tot: 0h7m20s  (43.3%)\rEpoch: 16.7%  lr: 0.028108  loss: 0.008998  eta: 0h8m  tot: 0h7m20s  (43.3%)\rEpoch: 16.7%  lr: 0.028098  loss: 0.008978  eta: 0h8m  tot: 0h7m20s  (43.3%)\rEpoch: 16.8%  lr: 0.028098  loss: 0.008963  eta: 0h8m  tot: 0h7m21s  (43.4%)\rEpoch: 16.9%  lr: 0.028078  loss: 0.008996  eta: 0h8m  tot: 0h7m21s  (43.4%)\rEpoch: 17.0%  lr: 0.028068  loss: 0.009011  eta: 0h8m  tot: 0h7m21s  (43.4%)\rEpoch: 17.1%  lr: 0.028058  loss: 0.009031  eta: 0h8m  tot: 0h7m21s  (43.4%)\rEpoch: 17.2%  lr: 0.028048  loss: 0.009036  eta: 0h8m  tot: 0h7m21s  (43.4%)\rEpoch: 17.3%  lr: 0.028038  loss: 0.009065  eta: 0h8m  tot: 0h7m21s  (43.5%)\rEpoch: 17.4%  lr: 0.028038  loss: 0.009039  eta: 0h8m  tot: 0h7m22s  (43.5%)\rEpoch: 17.5%  lr: 0.028028  loss: 0.009010  eta: 0h8m  tot: 0h7m22s  (43.5%)\rEpoch: 17.6%  lr: 0.028028  loss: 0.009014  eta: 0h8m  tot: 0h7m22s  (43.5%)\rEpoch: 17.6%  lr: 0.028018  loss: 0.009013  eta: 0h8m  tot: 0h7m22s  (43.5%)\rEpoch: 17.7%  lr: 0.028018  loss: 0.009021  eta: 0h8m  tot: 0h7m22s  (43.5%)\rEpoch: 17.8%  lr: 0.028008  loss: 0.009007  eta: 0h8m  tot: 0h7m22s  (43.6%)\rEpoch: 17.9%  lr: 0.027988  loss: 0.009005  eta: 0h8m  tot: 0h7m23s  (43.6%)\rEpoch: 18.0%  lr: 0.027978  loss: 0.009022  eta: 0h8m  tot: 0h7m23s  (43.6%)\rEpoch: 18.1%  lr: 0.027958  loss: 0.009017  eta: 0h8m  tot: 0h7m23s  (43.6%)\rEpoch: 18.2%  lr: 0.027938  loss: 0.009029  eta: 0h8m  tot: 0h7m23s  (43.6%)\rEpoch: 18.3%  lr: 0.027928  loss: 0.008994  eta: 0h8m  tot: 0h7m23s  (43.7%)\rEpoch: 18.4%  lr: 0.027928  loss: 0.009014  eta: 0h8m  tot: 0h7m23s  (43.7%)\rEpoch: 18.5%  lr: 0.027908  loss: 0.009022  eta: 0h8m  tot: 0h7m23s  (43.7%)\rEpoch: 18.5%  lr: 0.027908  loss: 0.009023  eta: 0h8m  tot: 0h7m24s  (43.7%)\rEpoch: 18.6%  lr: 0.027908  loss: 0.009008  eta: 0h8m  tot: 0h7m24s  (43.7%)\rEpoch: 18.7%  lr: 0.027898  loss: 0.009079  eta: 0h8m  tot: 0h7m24s  (43.7%)\rEpoch: 18.8%  lr: 0.027878  loss: 0.009106  eta: 0h8m  tot: 0h7m24s  (43.8%)\rEpoch: 18.9%  lr: 0.027868  loss: 0.009116  eta: 0h8m  tot: 0h7m24s  (43.8%)\rEpoch: 19.0%  lr: 0.027858  loss: 0.009114  eta: 0h8m  tot: 0h7m24s  (43.8%)\rEpoch: 19.1%  lr: 0.027858  loss: 0.009137  eta: 0h8m  tot: 0h7m25s  (43.8%)\rEpoch: 19.2%  lr: 0.027858  loss: 0.009166  eta: 0h8m  tot: 0h7m25s  (43.8%)\rEpoch: 19.3%  lr: 0.027848  loss: 0.009178  eta: 0h8m  tot: 0h7m25s  (43.9%)\rEpoch: 19.4%  lr: 0.027838  loss: 0.009166  eta: 0h8m  tot: 0h7m25s  (43.9%)\rEpoch: 19.4%  lr: 0.027828  loss: 0.009200  eta: 0h8m  tot: 0h7m25s  (43.9%)\rEpoch: 19.5%  lr: 0.027828  loss: 0.009191  eta: 0h8m  tot: 0h7m25s  (43.9%)\rEpoch: 19.6%  lr: 0.027828  loss: 0.009175  eta: 0h8m  tot: 0h7m26s  (43.9%)\rEpoch: 19.7%  lr: 0.027828  loss: 0.009150  eta: 0h8m  tot: 0h7m26s  (43.9%)\rEpoch: 19.8%  lr: 0.027818  loss: 0.009127  eta: 0h8m  tot: 0h7m26s  (44.0%)\rEpoch: 19.9%  lr: 0.027798  loss: 0.009125  eta: 0h8m  tot: 0h7m26s  (44.0%)\rEpoch: 20.0%  lr: 0.027798  loss: 0.009126  eta: 0h8m  tot: 0h7m26s  (44.0%)\rEpoch: 20.1%  lr: 0.027798  loss: 0.009142  eta: 0h8m  tot: 0h7m26s  (44.0%)\rEpoch: 20.2%  lr: 0.027798  loss: 0.009129  eta: 0h8m  tot: 0h7m27s  (44.0%)\rEpoch: 20.3%  lr: 0.027788  loss: 0.009134  eta: 0h8m  tot: 0h7m27s  (44.1%)\rEpoch: 20.3%  lr: 0.027788  loss: 0.009169  eta: 0h8m  tot: 0h7m27s  (44.1%)\rEpoch: 20.4%  lr: 0.027778  loss: 0.009152  eta: 0h8m  tot: 0h7m27s  (44.1%)\rEpoch: 20.5%  lr: 0.027778  loss: 0.009130  eta: 0h8m  tot: 0h7m27s  (44.1%)\rEpoch: 20.6%  lr: 0.027768  loss: 0.009124  eta: 0h8m  tot: 0h7m27s  (44.1%)\rEpoch: 20.7%  lr: 0.027758  loss: 0.009134  eta: 0h8m  tot: 0h7m28s  (44.1%)\rEpoch: 20.8%  lr: 0.027758  loss: 0.009169  eta: 0h8m  tot: 0h7m28s  (44.2%)\rEpoch: 20.9%  lr: 0.027748  loss: 0.009155  eta: 0h8m  tot: 0h7m28s  (44.2%)\rEpoch: 21.0%  lr: 0.027748  loss: 0.009147  eta: 0h8m  tot: 0h7m28s  (44.2%)\rEpoch: 21.1%  lr: 0.027728  loss: 0.009132  eta: 0h8m  tot: 0h7m28s  (44.2%)\rEpoch: 21.2%  lr: 0.027728  loss: 0.009146  eta: 0h8m  tot: 0h7m28s  (44.2%)\rEpoch: 21.2%  lr: 0.027718  loss: 0.009133  eta: 0h8m  tot: 0h7m29s  (44.2%)\rEpoch: 21.3%  lr: 0.027708  loss: 0.009132  eta: 0h8m  tot: 0h7m29s  (44.3%)\rEpoch: 21.4%  lr: 0.027698  loss: 0.009129  eta: 0h8m  tot: 0h7m29s  (44.3%)\rEpoch: 21.5%  lr: 0.027698  loss: 0.009136  eta: 0h8m  tot: 0h7m29s  (44.3%)\rEpoch: 21.6%  lr: 0.027698  loss: 0.009141  eta: 0h8m  tot: 0h7m29s  (44.3%)\rEpoch: 21.7%  lr: 0.027688  loss: 0.009127  eta: 0h8m  tot: 0h7m29s  (44.3%)\rEpoch: 21.8%  lr: 0.027688  loss: 0.009121  eta: 0h8m  tot: 0h7m30s  (44.4%)\rEpoch: 21.9%  lr: 0.027678  loss: 0.009148  eta: 0h8m  tot: 0h7m30s  (44.4%)\rEpoch: 22.0%  lr: 0.027658  loss: 0.009168  eta: 0h8m  tot: 0h7m30s  (44.4%)\rEpoch: 22.1%  lr: 0.027648  loss: 0.009144  eta: 0h8m  tot: 0h7m30s  (44.4%)\rEpoch: 22.1%  lr: 0.027638  loss: 0.009148  eta: 0h8m  tot: 0h7m30s  (44.4%)\rEpoch: 22.2%  lr: 0.027638  loss: 0.009145  eta: 0h8m  tot: 0h7m30s  (44.4%)\rEpoch: 22.3%  lr: 0.027628  loss: 0.009137  eta: 0h8m  tot: 0h7m30s  (44.5%)\rEpoch: 22.4%  lr: 0.027598  loss: 0.009139  eta: 0h8m  tot: 0h7m31s  (44.5%)\rEpoch: 22.5%  lr: 0.027598  loss: 0.009158  eta: 0h8m  tot: 0h7m31s  (44.5%)\rEpoch: 22.6%  lr: 0.027598  loss: 0.009159  eta: 0h8m  tot: 0h7m31s  (44.5%)\rEpoch: 22.7%  lr: 0.027568  loss: 0.009158  eta: 0h8m  tot: 0h7m31s  (44.5%)\rEpoch: 22.8%  lr: 0.027558  loss: 0.009139  eta: 0h8m  tot: 0h7m31s  (44.6%)\rEpoch: 22.9%  lr: 0.027548  loss: 0.009112  eta: 0h8m  tot: 0h7m31s  (44.6%)\rEpoch: 23.0%  lr: 0.027548  loss: 0.009125  eta: 0h8m  tot: 0h7m32s  (44.6%)\rEpoch: 23.0%  lr: 0.027538  loss: 0.009123  eta: 0h8m  tot: 0h7m32s  (44.6%)\rEpoch: 23.1%  lr: 0.027538  loss: 0.009136  eta: 0h8m  tot: 0h7m32s  (44.6%)\rEpoch: 23.2%  lr: 0.027518  loss: 0.009139  eta: 0h8m  tot: 0h7m32s  (44.6%)\rEpoch: 23.3%  lr: 0.027518  loss: 0.009123  eta: 0h8m  tot: 0h7m32s  (44.7%)\rEpoch: 23.4%  lr: 0.027498  loss: 0.009135  eta: 0h8m  tot: 0h7m32s  (44.7%)\rEpoch: 23.5%  lr: 0.027478  loss: 0.009119  eta: 0h8m  tot: 0h7m33s  (44.7%)\rEpoch: 23.6%  lr: 0.027478  loss: 0.009094  eta: 0h8m  tot: 0h7m33s  (44.7%)\rEpoch: 23.7%  lr: 0.027468  loss: 0.009109  eta: 0h8m  tot: 0h7m33s  (44.7%)\rEpoch: 23.8%  lr: 0.027447  loss: 0.009083  eta: 0h8m  tot: 0h7m33s  (44.8%)\rEpoch: 23.9%  lr: 0.027447  loss: 0.009110  eta: 0h8m  tot: 0h7m33s  (44.8%)\rEpoch: 23.9%  lr: 0.027417  loss: 0.009138  eta: 0h8m  tot: 0h7m33s  (44.8%)\rEpoch: 24.0%  lr: 0.027417  loss: 0.009147  eta: 0h8m  tot: 0h7m34s  (44.8%)\rEpoch: 24.1%  lr: 0.027397  loss: 0.009133  eta: 0h8m  tot: 0h7m34s  (44.8%)\rEpoch: 24.2%  lr: 0.027387  loss: 0.009136  eta: 0h8m  tot: 0h7m34s  (44.8%)\rEpoch: 24.3%  lr: 0.027377  loss: 0.009134  eta: 0h8m  tot: 0h7m34s  (44.9%)\rEpoch: 24.4%  lr: 0.027377  loss: 0.009127  eta: 0h8m  tot: 0h7m34s  (44.9%)\rEpoch: 24.5%  lr: 0.027377  loss: 0.009118  eta: 0h8m  tot: 0h7m34s  (44.9%)\rEpoch: 24.6%  lr: 0.027357  loss: 0.009124  eta: 0h8m  tot: 0h7m35s  (44.9%)\rEpoch: 24.7%  lr: 0.027337  loss: 0.009129  eta: 0h8m  tot: 0h7m35s  (44.9%)\rEpoch: 24.8%  lr: 0.027337  loss: 0.009114  eta: 0h8m  tot: 0h7m35s  (45.0%)\rEpoch: 24.8%  lr: 0.027317  loss: 0.009145  eta: 0h8m  tot: 0h7m35s  (45.0%)\rEpoch: 24.9%  lr: 0.027307  loss: 0.009128  eta: 0h8m  tot: 0h7m35s  (45.0%)\rEpoch: 25.0%  lr: 0.027307  loss: 0.009125  eta: 0h8m  tot: 0h7m35s  (45.0%)\rEpoch: 25.1%  lr: 0.027287  loss: 0.009127  eta: 0h8m  tot: 0h7m36s  (45.0%)\rEpoch: 25.2%  lr: 0.027287  loss: 0.009110  eta: 0h8m  tot: 0h7m36s  (45.0%)\rEpoch: 25.3%  lr: 0.027287  loss: 0.009089  eta: 0h8m  tot: 0h7m36s  (45.1%)\rEpoch: 25.4%  lr: 0.027277  loss: 0.009111  eta: 0h8m  tot: 0h7m36s  (45.1%)\rEpoch: 25.5%  lr: 0.027277  loss: 0.009114  eta: 0h8m  tot: 0h7m36s  (45.1%)\rEpoch: 25.6%  lr: 0.027247  loss: 0.009104  eta: 0h8m  tot: 0h7m36s  (45.1%)\rEpoch: 25.7%  lr: 0.027227  loss: 0.009125  eta: 0h8m  tot: 0h7m37s  (45.1%)\rEpoch: 25.7%  lr: 0.027217  loss: 0.009107  eta: 0h8m  tot: 0h7m37s  (45.1%)\rEpoch: 25.8%  lr: 0.027207  loss: 0.009107  eta: 0h8m  tot: 0h7m37s  (45.2%)\rEpoch: 25.9%  lr: 0.027207  loss: 0.009120  eta: 0h8m  tot: 0h7m37s  (45.2%)\rEpoch: 26.0%  lr: 0.027207  loss: 0.009122  eta: 0h8m  tot: 0h7m37s  (45.2%)\rEpoch: 26.1%  lr: 0.027187  loss: 0.009109  eta: 0h8m  tot: 0h7m37s  (45.2%)\rEpoch: 26.2%  lr: 0.027177  loss: 0.009116  eta: 0h8m  tot: 0h7m38s  (45.2%)\rEpoch: 26.3%  lr: 0.027177  loss: 0.009131  eta: 0h8m  tot: 0h7m38s  (45.3%)\rEpoch: 26.4%  lr: 0.027177  loss: 0.009123  eta: 0h8m  tot: 0h7m38s  (45.3%)\rEpoch: 26.5%  lr: 0.027167  loss: 0.009104  eta: 0h8m  tot: 0h7m38s  (45.3%)\rEpoch: 26.6%  lr: 0.027167  loss: 0.009099  eta: 0h8m  tot: 0h7m38s  (45.3%)\rEpoch: 26.6%  lr: 0.027137  loss: 0.009080  eta: 0h8m  tot: 0h7m38s  (45.3%)\rEpoch: 26.7%  lr: 0.027137  loss: 0.009099  eta: 0h8m  tot: 0h7m39s  (45.3%)\rEpoch: 26.8%  lr: 0.027137  loss: 0.009079  eta: 0h8m  tot: 0h7m39s  (45.4%)\rEpoch: 26.9%  lr: 0.027137  loss: 0.009061  eta: 0h8m  tot: 0h7m39s  (45.4%)\rEpoch: 27.0%  lr: 0.027127  loss: 0.009089  eta: 0h8m  tot: 0h7m39s  (45.4%)\rEpoch: 27.1%  lr: 0.027107  loss: 0.009098  eta: 0h8m  tot: 0h7m39s  (45.4%)\rEpoch: 27.2%  lr: 0.027097  loss: 0.009096  eta: 0h8m  tot: 0h7m39s  (45.4%)\rEpoch: 27.3%  lr: 0.027087  loss: 0.009101  eta: 0h8m  tot: 0h7m40s  (45.5%)\rEpoch: 27.4%  lr: 0.027087  loss: 0.009098  eta: 0h8m  tot: 0h7m40s  (45.5%)\rEpoch: 27.5%  lr: 0.027077  loss: 0.009093  eta: 0h8m  tot: 0h7m40s  (45.5%)\rEpoch: 27.5%  lr: 0.027067  loss: 0.009093  eta: 0h8m  tot: 0h7m40s  (45.5%)\rEpoch: 27.6%  lr: 0.027067  loss: 0.009080  eta: 0h8m  tot: 0h7m40s  (45.5%)\rEpoch: 27.7%  lr: 0.027067  loss: 0.009077  eta: 0h8m  tot: 0h7m40s  (45.5%)\rEpoch: 27.8%  lr: 0.027067  loss: 0.009075  eta: 0h8m  tot: 0h7m41s  (45.6%)\rEpoch: 27.9%  lr: 0.027037  loss: 0.009060  eta: 0h8m  tot: 0h7m41s  (45.6%)\rEpoch: 28.0%  lr: 0.027027  loss: 0.009050  eta: 0h8m  tot: 0h7m41s  (45.6%)\rEpoch: 28.1%  lr: 0.027017  loss: 0.009050  eta: 0h8m  tot: 0h7m41s  (45.6%)\rEpoch: 28.2%  lr: 0.027007  loss: 0.009038  eta: 0h8m  tot: 0h7m41s  (45.6%)\rEpoch: 28.3%  lr: 0.026987  loss: 0.009042  eta: 0h8m  tot: 0h7m41s  (45.7%)\rEpoch: 28.4%  lr: 0.026977  loss: 0.009026  eta: 0h8m  tot: 0h7m42s  (45.7%)\rEpoch: 28.4%  lr: 0.026977  loss: 0.009055  eta: 0h8m  tot: 0h7m42s  (45.7%)\rEpoch: 28.5%  lr: 0.026977  loss: 0.009054  eta: 0h8m  tot: 0h7m42s  (45.7%)\rEpoch: 28.6%  lr: 0.026957  loss: 0.009057  eta: 0h8m  tot: 0h7m42s  (45.7%)\rEpoch: 28.7%  lr: 0.026947  loss: 0.009070  eta: 0h8m  tot: 0h7m42s  (45.7%)\rEpoch: 28.8%  lr: 0.026947  loss: 0.009060  eta: 0h8m  tot: 0h7m42s  (45.8%)\rEpoch: 28.9%  lr: 0.026937  loss: 0.009081  eta: 0h8m  tot: 0h7m43s  (45.8%)\rEpoch: 29.0%  lr: 0.026927  loss: 0.009136  eta: 0h8m  tot: 0h7m43s  (45.8%)\rEpoch: 29.1%  lr: 0.026897  loss: 0.009143  eta: 0h8m  tot: 0h7m43s  (45.8%)\rEpoch: 29.2%  lr: 0.026887  loss: 0.009148  eta: 0h8m  tot: 0h7m43s  (45.8%)\rEpoch: 29.3%  lr: 0.026877  loss: 0.009153  eta: 0h8m  tot: 0h7m43s  (45.9%)\rEpoch: 29.3%  lr: 0.026877  loss: 0.009149  eta: 0h8m  tot: 0h7m43s  (45.9%)\rEpoch: 29.4%  lr: 0.026877  loss: 0.009153  eta: 0h8m  tot: 0h7m44s  (45.9%)\rEpoch: 29.5%  lr: 0.026867  loss: 0.009175  eta: 0h8m  tot: 0h7m44s  (45.9%)\rEpoch: 29.6%  lr: 0.026847  loss: 0.009172  eta: 0h8m  tot: 0h7m44s  (45.9%)\rEpoch: 29.7%  lr: 0.026817  loss: 0.009188  eta: 0h8m  tot: 0h7m44s  (45.9%)\rEpoch: 29.8%  lr: 0.026817  loss: 0.009188  eta: 0h8m  tot: 0h7m44s  (46.0%)\rEpoch: 29.9%  lr: 0.026807  loss: 0.009179  eta: 0h8m  tot: 0h7m45s  (46.0%)\rEpoch: 30.0%  lr: 0.026807  loss: 0.009187  eta: 0h8m  tot: 0h7m45s  (46.0%)\rEpoch: 30.1%  lr: 0.026797  loss: 0.009201  eta: 0h8m  tot: 0h7m45s  (46.0%)\rEpoch: 30.2%  lr: 0.026797  loss: 0.009190  eta: 0h8m  tot: 0h7m45s  (46.0%)\rEpoch: 30.2%  lr: 0.026777  loss: 0.009210  eta: 0h8m  tot: 0h7m45s  (46.0%)\rEpoch: 30.3%  lr: 0.026777  loss: 0.009223  eta: 0h8m  tot: 0h7m45s  (46.1%)\rEpoch: 30.4%  lr: 0.026757  loss: 0.009211  eta: 0h8m  tot: 0h7m46s  (46.1%)\rEpoch: 30.5%  lr: 0.026757  loss: 0.009204  eta: 0h8m  tot: 0h7m46s  (46.1%)\rEpoch: 30.6%  lr: 0.026757  loss: 0.009193  eta: 0h8m  tot: 0h7m46s  (46.1%)\rEpoch: 30.7%  lr: 0.026737  loss: 0.009183  eta: 0h8m  tot: 0h7m46s  (46.1%)\rEpoch: 30.8%  lr: 0.026737  loss: 0.009189  eta: 0h8m  tot: 0h7m46s  (46.2%)\rEpoch: 30.9%  lr: 0.026727  loss: 0.009179  eta: 0h8m  tot: 0h7m46s  (46.2%)\rEpoch: 31.0%  lr: 0.026727  loss: 0.009170  eta: 0h8m  tot: 0h7m47s  (46.2%)\rEpoch: 31.1%  lr: 0.026717  loss: 0.009171  eta: 0h8m  tot: 0h7m47s  (46.2%)\rEpoch: 31.1%  lr: 0.026697  loss: 0.009179  eta: 0h8m  tot: 0h7m47s  (46.2%)\rEpoch: 31.2%  lr: 0.026687  loss: 0.009173  eta: 0h8m  tot: 0h7m47s  (46.2%)\rEpoch: 31.3%  lr: 0.026687  loss: 0.009171  eta: 0h8m  tot: 0h7m47s  (46.3%)\rEpoch: 31.4%  lr: 0.026677  loss: 0.009170  eta: 0h8m  tot: 0h7m47s  (46.3%)\rEpoch: 31.5%  lr: 0.026667  loss: 0.009176  eta: 0h8m  tot: 0h7m48s  (46.3%)\rEpoch: 31.6%  lr: 0.026667  loss: 0.009167  eta: 0h8m  tot: 0h7m48s  (46.3%)\rEpoch: 31.7%  lr: 0.026667  loss: 0.009161  eta: 0h8m  tot: 0h7m48s  (46.3%)\rEpoch: 31.8%  lr: 0.026667  loss: 0.009159  eta: 0h8m  tot: 0h7m48s  (46.4%)\rEpoch: 31.9%  lr: 0.026667  loss: 0.009168  eta: 0h8m  tot: 0h7m48s  (46.4%)\rEpoch: 32.0%  lr: 0.026657  loss: 0.009169  eta: 0h8m  tot: 0h7m48s  (46.4%)\rEpoch: 32.0%  lr: 0.026657  loss: 0.009163  eta: 0h8m  tot: 0h7m48s  (46.4%)\rEpoch: 32.1%  lr: 0.026647  loss: 0.009168  eta: 0h8m  tot: 0h7m49s  (46.4%)\rEpoch: 32.2%  lr: 0.026647  loss: 0.009171  eta: 0h8m  tot: 0h7m49s  (46.4%)\rEpoch: 32.3%  lr: 0.026637  loss: 0.009188  eta: 0h8m  tot: 0h7m49s  (46.5%)\rEpoch: 32.4%  lr: 0.026627  loss: 0.009180  eta: 0h8m  tot: 0h7m49s  (46.5%)\rEpoch: 32.5%  lr: 0.026617  loss: 0.009195  eta: 0h8m  tot: 0h7m49s  (46.5%)\rEpoch: 32.6%  lr: 0.026607  loss: 0.009185  eta: 0h8m  tot: 0h7m49s  (46.5%)\rEpoch: 32.7%  lr: 0.026597  loss: 0.009188  eta: 0h8m  tot: 0h7m50s  (46.5%)\rEpoch: 32.8%  lr: 0.026577  loss: 0.009180  eta: 0h8m  tot: 0h7m50s  (46.6%)\rEpoch: 32.9%  lr: 0.026567  loss: 0.009171  eta: 0h8m  tot: 0h7m50s  (46.6%)\rEpoch: 32.9%  lr: 0.026557  loss: 0.009168  eta: 0h8m  tot: 0h7m50s  (46.6%)\rEpoch: 33.0%  lr: 0.026557  loss: 0.009175  eta: 0h8m  tot: 0h7m50s  (46.6%)\rEpoch: 33.1%  lr: 0.026557  loss: 0.009166  eta: 0h8m  tot: 0h7m50s  (46.6%)\rEpoch: 33.2%  lr: 0.026557  loss: 0.009167  eta: 0h8m  tot: 0h7m51s  (46.6%)\rEpoch: 33.3%  lr: 0.026557  loss: 0.009165  eta: 0h8m  tot: 0h7m51s  (46.7%)\rEpoch: 33.4%  lr: 0.026547  loss: 0.009158  eta: 0h8m  tot: 0h7m51s  (46.7%)\rEpoch: 33.5%  lr: 0.026547  loss: 0.009144  eta: 0h8m  tot: 0h7m51s  (46.7%)\rEpoch: 33.6%  lr: 0.026547  loss: 0.009160  eta: 0h8m  tot: 0h7m51s  (46.7%)\rEpoch: 33.7%  lr: 0.026537  loss: 0.009161  eta: 0h8m  tot: 0h7m51s  (46.7%)\rEpoch: 33.8%  lr: 0.026537  loss: 0.009148  eta: 0h8m  tot: 0h7m52s  (46.8%)\rEpoch: 33.8%  lr: 0.026517  loss: 0.009164  eta: 0h8m  tot: 0h7m52s  (46.8%)\rEpoch: 33.9%  lr: 0.026507  loss: 0.009167  eta: 0h8m  tot: 0h7m52s  (46.8%)\rEpoch: 34.0%  lr: 0.026487  loss: 0.009150  eta: 0h8m  tot: 0h7m52s  (46.8%)\rEpoch: 34.1%  lr: 0.026487  loss: 0.009149  eta: 0h8m  tot: 0h7m52s  (46.8%)\rEpoch: 34.2%  lr: 0.026487  loss: 0.009137  eta: 0h8m  tot: 0h7m52s  (46.8%)\rEpoch: 34.3%  lr: 0.026457  loss: 0.009139  eta: 0h8m  tot: 0h7m53s  (46.9%)\rEpoch: 34.4%  lr: 0.026457  loss: 0.009142  eta: 0h8m  tot: 0h7m53s  (46.9%)\rEpoch: 34.5%  lr: 0.026436  loss: 0.009129  eta: 0h8m  tot: 0h7m53s  (46.9%)\rEpoch: 34.6%  lr: 0.026426  loss: 0.009120  eta: 0h8m  tot: 0h7m53s  (46.9%)\rEpoch: 34.7%  lr: 0.026426  loss: 0.009116  eta: 0h8m  tot: 0h7m53s  (46.9%)\rEpoch: 34.7%  lr: 0.026406  loss: 0.009109  eta: 0h8m  tot: 0h7m53s  (46.9%)\rEpoch: 34.8%  lr: 0.026386  loss: 0.009098  eta: 0h8m  tot: 0h7m53s  (47.0%)\rEpoch: 34.9%  lr: 0.026386  loss: 0.009090  eta: 0h8m  tot: 0h7m54s  (47.0%)\rEpoch: 35.0%  lr: 0.026376  loss: 0.009080  eta: 0h8m  tot: 0h7m54s  (47.0%)\rEpoch: 35.1%  lr: 0.026366  loss: 0.009088  eta: 0h8m  tot: 0h7m54s  (47.0%)\rEpoch: 35.2%  lr: 0.026356  loss: 0.009080  eta: 0h8m  tot: 0h7m54s  (47.0%)\rEpoch: 35.3%  lr: 0.026356  loss: 0.009084  eta: 0h8m  tot: 0h7m54s  (47.1%)\rEpoch: 35.4%  lr: 0.026336  loss: 0.009085  eta: 0h8m  tot: 0h7m54s  (47.1%)\rEpoch: 35.5%  lr: 0.026336  loss: 0.009067  eta: 0h8m  tot: 0h7m55s  (47.1%)\rEpoch: 35.6%  lr: 0.026336  loss: 0.009062  eta: 0h8m  tot: 0h7m55s  (47.1%)\rEpoch: 35.6%  lr: 0.026326  loss: 0.009063  eta: 0h8m  tot: 0h7m55s  (47.1%)\rEpoch: 35.7%  lr: 0.026326  loss: 0.009093  eta: 0h8m  tot: 0h7m55s  (47.1%)\rEpoch: 35.8%  lr: 0.026316  loss: 0.009100  eta: 0h8m  tot: 0h7m55s  (47.2%)\rEpoch: 35.9%  lr: 0.026296  loss: 0.009104  eta: 0h8m  tot: 0h7m55s  (47.2%)\rEpoch: 36.0%  lr: 0.026296  loss: 0.009104  eta: 0h8m  tot: 0h7m56s  (47.2%)\rEpoch: 36.1%  lr: 0.026296  loss: 0.009104  eta: 0h8m  tot: 0h7m56s  (47.2%)\rEpoch: 36.2%  lr: 0.026296  loss: 0.009086  eta: 0h8m  tot: 0h7m56s  (47.2%)\rEpoch: 36.3%  lr: 0.026276  loss: 0.009092  eta: 0h8m  tot: 0h7m56s  (47.3%)\rEpoch: 36.4%  lr: 0.026276  loss: 0.009113  eta: 0h8m  tot: 0h7m56s  (47.3%)\rEpoch: 36.5%  lr: 0.026266  loss: 0.009108  eta: 0h8m  tot: 0h7m56s  (47.3%)\rEpoch: 36.5%  lr: 0.026256  loss: 0.009107  eta: 0h8m  tot: 0h7m57s  (47.3%)\rEpoch: 36.6%  lr: 0.026256  loss: 0.009097  eta: 0h8m  tot: 0h7m57s  (47.3%)\rEpoch: 36.7%  lr: 0.026256  loss: 0.009089  eta: 0h8m  tot: 0h7m57s  (47.3%)\rEpoch: 36.8%  lr: 0.026246  loss: 0.009086  eta: 0h8m  tot: 0h7m57s  (47.4%)\rEpoch: 36.9%  lr: 0.026236  loss: 0.009086  eta: 0h8m  tot: 0h7m57s  (47.4%)\rEpoch: 37.0%  lr: 0.026236  loss: 0.009099  eta: 0h8m  tot: 0h7m57s  (47.4%)\rEpoch: 37.1%  lr: 0.026226  loss: 0.009106  eta: 0h8m  tot: 0h7m58s  (47.4%)\rEpoch: 37.2%  lr: 0.026216  loss: 0.009095  eta: 0h8m  tot: 0h7m58s  (47.4%)\rEpoch: 37.3%  lr: 0.026206  loss: 0.009097  eta: 0h8m  tot: 0h7m58s  (47.5%)\rEpoch: 37.4%  lr: 0.026206  loss: 0.009088  eta: 0h8m  tot: 0h7m58s  (47.5%)\rEpoch: 37.4%  lr: 0.026196  loss: 0.009080  eta: 0h8m  tot: 0h7m58s  (47.5%)\rEpoch: 37.5%  lr: 0.026196  loss: 0.009098  eta: 0h8m  tot: 0h7m58s  (47.5%)\rEpoch: 37.6%  lr: 0.026196  loss: 0.009093  eta: 0h8m  tot: 0h7m59s  (47.5%)\rEpoch: 37.7%  lr: 0.026186  loss: 0.009087  eta: 0h8m  tot: 0h7m59s  (47.5%)\rEpoch: 37.8%  lr: 0.026176  loss: 0.009114  eta: 0h8m  tot: 0h7m59s  (47.6%)\rEpoch: 37.9%  lr: 0.026156  loss: 0.009112  eta: 0h8m  tot: 0h7m59s  (47.6%)\rEpoch: 38.0%  lr: 0.026156  loss: 0.009106  eta: 0h8m  tot: 0h7m59s  (47.6%)\rEpoch: 38.1%  lr: 0.026146  loss: 0.009110  eta: 0h8m  tot: 0h7m59s  (47.6%)\rEpoch: 38.2%  lr: 0.026126  loss: 0.009101  eta: 0h8m  tot: 0h8m0s  (47.6%)\rEpoch: 38.3%  lr: 0.026116  loss: 0.009103  eta: 0h8m  tot: 0h8m0s  (47.7%)\rEpoch: 38.3%  lr: 0.026116  loss: 0.009088  eta: 0h8m  tot: 0h8m0s  (47.7%)\rEpoch: 38.4%  lr: 0.026106  loss: 0.009109  eta: 0h8m  tot: 0h8m0s  (47.7%)\rEpoch: 38.5%  lr: 0.026076  loss: 0.009126  eta: 0h8m  tot: 0h8m0s  (47.7%)\rEpoch: 38.6%  lr: 0.026076  loss: 0.009127  eta: 0h7m  tot: 0h8m0s  (47.7%)\rEpoch: 38.7%  lr: 0.026066  loss: 0.009112  eta: 0h7m  tot: 0h8m1s  (47.7%)\rEpoch: 38.8%  lr: 0.026056  loss: 0.009122  eta: 0h7m  tot: 0h8m1s  (47.8%)\rEpoch: 38.9%  lr: 0.026056  loss: 0.009146  eta: 0h7m  tot: 0h8m1s  (47.8%)\rEpoch: 39.0%  lr: 0.026056  loss: 0.009151  eta: 0h7m  tot: 0h8m1s  (47.8%)\rEpoch: 39.1%  lr: 0.026056  loss: 0.009141  eta: 0h7m  tot: 0h8m1s  (47.8%)\rEpoch: 39.2%  lr: 0.026046  loss: 0.009143  eta: 0h7m  tot: 0h8m1s  (47.8%)\rEpoch: 39.2%  lr: 0.026046  loss: 0.009134  eta: 0h7m  tot: 0h8m2s  (47.8%)\rEpoch: 39.3%  lr: 0.026046  loss: 0.009122  eta: 0h7m  tot: 0h8m2s  (47.9%)\rEpoch: 39.4%  lr: 0.026036  loss: 0.009112  eta: 0h7m  tot: 0h8m2s  (47.9%)\rEpoch: 39.5%  lr: 0.026026  loss: 0.009105  eta: 0h7m  tot: 0h8m2s  (47.9%)\rEpoch: 39.6%  lr: 0.026026  loss: 0.009099  eta: 0h7m  tot: 0h8m2s  (47.9%)\rEpoch: 39.7%  lr: 0.026026  loss: 0.009102  eta: 0h7m  tot: 0h8m3s  (47.9%)\rEpoch: 39.8%  lr: 0.026026  loss: 0.009099  eta: 0h7m  tot: 0h8m3s  (48.0%)\rEpoch: 39.9%  lr: 0.026016  loss: 0.009107  eta: 0h7m  tot: 0h8m3s  (48.0%)\rEpoch: 40.0%  lr: 0.026006  loss: 0.009108  eta: 0h7m  tot: 0h8m3s  (48.0%)\rEpoch: 40.1%  lr: 0.026006  loss: 0.009111  eta: 0h7m  tot: 0h8m3s  (48.0%)\rEpoch: 40.1%  lr: 0.025986  loss: 0.009103  eta: 0h7m  tot: 0h8m3s  (48.0%)\rEpoch: 40.2%  lr: 0.025976  loss: 0.009114  eta: 0h7m  tot: 0h8m4s  (48.0%)\rEpoch: 40.3%  lr: 0.025946  loss: 0.009101  eta: 0h7m  tot: 0h8m4s  (48.1%)\rEpoch: 40.4%  lr: 0.025946  loss: 0.009086  eta: 0h7m  tot: 0h8m4s  (48.1%)\rEpoch: 40.5%  lr: 0.025926  loss: 0.009080  eta: 0h7m  tot: 0h8m4s  (48.1%)\rEpoch: 40.6%  lr: 0.025926  loss: 0.009069  eta: 0h7m  tot: 0h8m4s  (48.1%)\rEpoch: 40.7%  lr: 0.025916  loss: 0.009057  eta: 0h7m  tot: 0h8m4s  (48.1%)\rEpoch: 40.8%  lr: 0.025906  loss: 0.009067  eta: 0h7m  tot: 0h8m4s  (48.2%)\rEpoch: 40.9%  lr: 0.025906  loss: 0.009069  eta: 0h7m  tot: 0h8m5s  (48.2%)\rEpoch: 41.0%  lr: 0.025906  loss: 0.009062  eta: 0h7m  tot: 0h8m5s  (48.2%)\rEpoch: 41.0%  lr: 0.025896  loss: 0.009062  eta: 0h7m  tot: 0h8m5s  (48.2%)\rEpoch: 41.1%  lr: 0.025886  loss: 0.009054  eta: 0h7m  tot: 0h8m5s  (48.2%)\rEpoch: 41.2%  lr: 0.025886  loss: 0.009053  eta: 0h7m  tot: 0h8m5s  (48.2%)\rEpoch: 41.3%  lr: 0.025866  loss: 0.009049  eta: 0h7m  tot: 0h8m6s  (48.3%)\rEpoch: 41.4%  lr: 0.025856  loss: 0.009059  eta: 0h7m  tot: 0h8m6s  (48.3%)\rEpoch: 41.5%  lr: 0.025846  loss: 0.009060  eta: 0h7m  tot: 0h8m6s  (48.3%)\rEpoch: 41.6%  lr: 0.025836  loss: 0.009068  eta: 0h7m  tot: 0h8m6s  (48.3%)\rEpoch: 41.7%  lr: 0.025826  loss: 0.009077  eta: 0h7m  tot: 0h8m6s  (48.3%)\rEpoch: 41.8%  lr: 0.025816  loss: 0.009080  eta: 0h7m  tot: 0h8m6s  (48.4%)\rEpoch: 41.9%  lr: 0.025776  loss: 0.009067  eta: 0h7m  tot: 0h8m6s  (48.4%)\rEpoch: 41.9%  lr: 0.025756  loss: 0.009055  eta: 0h7m  tot: 0h8m7s  (48.4%)\rEpoch: 42.0%  lr: 0.025726  loss: 0.009086  eta: 0h7m  tot: 0h8m7s  (48.4%)\rEpoch: 42.1%  lr: 0.025716  loss: 0.009075  eta: 0h7m  tot: 0h8m7s  (48.4%)\rEpoch: 42.2%  lr: 0.025716  loss: 0.009081  eta: 0h7m  tot: 0h8m7s  (48.4%)\rEpoch: 42.3%  lr: 0.025696  loss: 0.009064  eta: 0h7m  tot: 0h8m7s  (48.5%)\rEpoch: 42.4%  lr: 0.025686  loss: 0.009067  eta: 0h7m  tot: 0h8m7s  (48.5%)\rEpoch: 42.5%  lr: 0.025676  loss: 0.009068  eta: 0h7m  tot: 0h8m8s  (48.5%)\rEpoch: 42.6%  lr: 0.025656  loss: 0.009081  eta: 0h7m  tot: 0h8m8s  (48.5%)\rEpoch: 42.7%  lr: 0.025656  loss: 0.009070  eta: 0h7m  tot: 0h8m8s  (48.5%)\rEpoch: 42.8%  lr: 0.025656  loss: 0.009068  eta: 0h7m  tot: 0h8m8s  (48.6%)\rEpoch: 42.8%  lr: 0.025646  loss: 0.009060  eta: 0h7m  tot: 0h8m8s  (48.6%)\rEpoch: 42.9%  lr: 0.025646  loss: 0.009052  eta: 0h7m  tot: 0h8m8s  (48.6%)\rEpoch: 43.0%  lr: 0.025636  loss: 0.009040  eta: 0h7m  tot: 0h8m9s  (48.6%)\rEpoch: 43.1%  lr: 0.025636  loss: 0.009042  eta: 0h7m  tot: 0h8m9s  (48.6%)\rEpoch: 43.2%  lr: 0.025616  loss: 0.009037  eta: 0h7m  tot: 0h8m9s  (48.6%)\rEpoch: 43.3%  lr: 0.025616  loss: 0.009030  eta: 0h7m  tot: 0h8m9s  (48.7%)\rEpoch: 43.4%  lr: 0.025596  loss: 0.009053  eta: 0h7m  tot: 0h8m9s  (48.7%)\rEpoch: 43.5%  lr: 0.025576  loss: 0.009092  eta: 0h7m  tot: 0h8m9s  (48.7%)\rEpoch: 43.6%  lr: 0.025566  loss: 0.009083  eta: 0h7m  tot: 0h8m10s  (48.7%)\rEpoch: 43.7%  lr: 0.025566  loss: 0.009089  eta: 0h7m  tot: 0h8m10s  (48.7%)\rEpoch: 43.7%  lr: 0.025546  loss: 0.009096  eta: 0h7m  tot: 0h8m10s  (48.7%)\rEpoch: 43.8%  lr: 0.025536  loss: 0.009102  eta: 0h7m  tot: 0h8m10s  (48.8%)\rEpoch: 43.9%  lr: 0.025516  loss: 0.009114  eta: 0h7m  tot: 0h8m10s  (48.8%)\rEpoch: 44.0%  lr: 0.025496  loss: 0.009127  eta: 0h7m  tot: 0h8m11s  (48.8%)\rEpoch: 44.1%  lr: 0.025496  loss: 0.009140  eta: 0h7m  tot: 0h8m11s  (48.8%)\rEpoch: 44.2%  lr: 0.025496  loss: 0.009131  eta: 0h7m  tot: 0h8m11s  (48.8%)\rEpoch: 44.3%  lr: 0.025476  loss: 0.009134  eta: 0h7m  tot: 0h8m11s  (48.9%)\rEpoch: 44.4%  lr: 0.025456  loss: 0.009130  eta: 0h7m  tot: 0h8m11s  (48.9%)\rEpoch: 44.5%  lr: 0.025456  loss: 0.009132  eta: 0h7m  tot: 0h8m11s  (48.9%)\rEpoch: 44.6%  lr: 0.025446  loss: 0.009124  eta: 0h7m  tot: 0h8m12s  (48.9%)\rEpoch: 44.6%  lr: 0.025446  loss: 0.009130  eta: 0h7m  tot: 0h8m12s  (48.9%)\rEpoch: 44.7%  lr: 0.025446  loss: 0.009129  eta: 0h7m  tot: 0h8m12s  (48.9%)\rEpoch: 44.8%  lr: 0.025436  loss: 0.009131  eta: 0h7m  tot: 0h8m12s  (49.0%)\rEpoch: 44.9%  lr: 0.025405  loss: 0.009140  eta: 0h7m  tot: 0h8m12s  (49.0%)\rEpoch: 45.0%  lr: 0.025385  loss: 0.009137  eta: 0h7m  tot: 0h8m12s  (49.0%)\rEpoch: 45.1%  lr: 0.025375  loss: 0.009141  eta: 0h7m  tot: 0h8m13s  (49.0%)\rEpoch: 45.2%  lr: 0.025375  loss: 0.009131  eta: 0h7m  tot: 0h8m13s  (49.0%)\rEpoch: 45.3%  lr: 0.025355  loss: 0.009132  eta: 0h7m  tot: 0h8m13s  (49.1%)\rEpoch: 45.4%  lr: 0.025355  loss: 0.009132  eta: 0h7m  tot: 0h8m13s  (49.1%)\rEpoch: 45.5%  lr: 0.025355  loss: 0.009132  eta: 0h7m  tot: 0h8m13s  (49.1%)\rEpoch: 45.5%  lr: 0.025355  loss: 0.009134  eta: 0h7m  tot: 0h8m13s  (49.1%)\rEpoch: 45.6%  lr: 0.025345  loss: 0.009132  eta: 0h7m  tot: 0h8m14s  (49.1%)\rEpoch: 45.7%  lr: 0.025345  loss: 0.009128  eta: 0h7m  tot: 0h8m14s  (49.1%)\rEpoch: 45.8%  lr: 0.025345  loss: 0.009121  eta: 0h7m  tot: 0h8m14s  (49.2%)\rEpoch: 45.9%  lr: 0.025345  loss: 0.009134  eta: 0h7m  tot: 0h8m14s  (49.2%)\rEpoch: 46.0%  lr: 0.025315  loss: 0.009121  eta: 0h7m  tot: 0h8m14s  (49.2%)\rEpoch: 46.1%  lr: 0.025285  loss: 0.009114  eta: 0h7m  tot: 0h8m14s  (49.2%)\rEpoch: 46.2%  lr: 0.025275  loss: 0.009109  eta: 0h7m  tot: 0h8m15s  (49.2%)\rEpoch: 46.3%  lr: 0.025265  loss: 0.009100  eta: 0h7m  tot: 0h8m15s  (49.3%)\rEpoch: 46.4%  lr: 0.025265  loss: 0.009090  eta: 0h7m  tot: 0h8m15s  (49.3%)\rEpoch: 46.4%  lr: 0.025255  loss: 0.009121  eta: 0h7m  tot: 0h8m15s  (49.3%)\rEpoch: 46.5%  lr: 0.025235  loss: 0.009124  eta: 0h7m  tot: 0h8m15s  (49.3%)\rEpoch: 46.6%  lr: 0.025225  loss: 0.009123  eta: 0h7m  tot: 0h8m15s  (49.3%)\rEpoch: 46.7%  lr: 0.025205  loss: 0.009129  eta: 0h7m  tot: 0h8m16s  (49.3%)\rEpoch: 46.8%  lr: 0.025205  loss: 0.009148  eta: 0h7m  tot: 0h8m16s  (49.4%)\rEpoch: 46.9%  lr: 0.025195  loss: 0.009155  eta: 0h7m  tot: 0h8m16s  (49.4%)\rEpoch: 47.0%  lr: 0.025185  loss: 0.009144  eta: 0h7m  tot: 0h8m16s  (49.4%)\rEpoch: 47.1%  lr: 0.025175  loss: 0.009147  eta: 0h7m  tot: 0h8m16s  (49.4%)\rEpoch: 47.2%  lr: 0.025175  loss: 0.009141  eta: 0h7m  tot: 0h8m16s  (49.4%)\rEpoch: 47.3%  lr: 0.025165  loss: 0.009135  eta: 0h7m  tot: 0h8m17s  (49.5%)\rEpoch: 47.3%  lr: 0.025145  loss: 0.009131  eta: 0h7m  tot: 0h8m17s  (49.5%)\rEpoch: 47.4%  lr: 0.025125  loss: 0.009131  eta: 0h7m  tot: 0h8m17s  (49.5%)\rEpoch: 47.5%  lr: 0.025095  loss: 0.009120  eta: 0h7m  tot: 0h8m17s  (49.5%)\rEpoch: 47.6%  lr: 0.025095  loss: 0.009134  eta: 0h7m  tot: 0h8m17s  (49.5%)\rEpoch: 47.7%  lr: 0.025095  loss: 0.009133  eta: 0h7m  tot: 0h8m17s  (49.5%)\rEpoch: 47.8%  lr: 0.025085  loss: 0.009129  eta: 0h7m  tot: 0h8m18s  (49.6%)\rEpoch: 47.9%  lr: 0.025075  loss: 0.009141  eta: 0h7m  tot: 0h8m18s  (49.6%)\rEpoch: 48.0%  lr: 0.025065  loss: 0.009135  eta: 0h7m  tot: 0h8m18s  (49.6%)\rEpoch: 48.1%  lr: 0.025055  loss: 0.009130  eta: 0h7m  tot: 0h8m18s  (49.6%)\rEpoch: 48.2%  lr: 0.025045  loss: 0.009117  eta: 0h7m  tot: 0h8m18s  (49.6%)\rEpoch: 48.2%  lr: 0.025035  loss: 0.009124  eta: 0h7m  tot: 0h8m18s  (49.6%)\rEpoch: 48.3%  lr: 0.025035  loss: 0.009133  eta: 0h7m  tot: 0h8m19s  (49.7%)\rEpoch: 48.4%  lr: 0.025035  loss: 0.009129  eta: 0h7m  tot: 0h8m19s  (49.7%)\rEpoch: 48.5%  lr: 0.025035  loss: 0.009149  eta: 0h7m  tot: 0h8m19s  (49.7%)\rEpoch: 48.6%  lr: 0.025005  loss: 0.009148  eta: 0h7m  tot: 0h8m19s  (49.7%)\rEpoch: 48.7%  lr: 0.024985  loss: 0.009147  eta: 0h7m  tot: 0h8m19s  (49.7%)\rEpoch: 48.8%  lr: 0.024955  loss: 0.009160  eta: 0h7m  tot: 0h8m19s  (49.8%)\rEpoch: 48.9%  lr: 0.024935  loss: 0.009151  eta: 0h7m  tot: 0h8m20s  (49.8%)\rEpoch: 49.0%  lr: 0.024925  loss: 0.009158  eta: 0h7m  tot: 0h8m20s  (49.8%)\rEpoch: 49.1%  lr: 0.024905  loss: 0.009150  eta: 0h7m  tot: 0h8m20s  (49.8%)\rEpoch: 49.1%  lr: 0.024885  loss: 0.009150  eta: 0h7m  tot: 0h8m20s  (49.8%)\rEpoch: 49.2%  lr: 0.024875  loss: 0.009155  eta: 0h7m  tot: 0h8m20s  (49.8%)\rEpoch: 49.3%  lr: 0.024865  loss: 0.009158  eta: 0h7m  tot: 0h8m20s  (49.9%)\rEpoch: 49.4%  lr: 0.024865  loss: 0.009153  eta: 0h7m  tot: 0h8m21s  (49.9%)\rEpoch: 49.5%  lr: 0.024855  loss: 0.009143  eta: 0h7m  tot: 0h8m21s  (49.9%)\rEpoch: 49.6%  lr: 0.024855  loss: 0.009132  eta: 0h7m  tot: 0h8m21s  (49.9%)\rEpoch: 49.7%  lr: 0.024855  loss: 0.009130  eta: 0h7m  tot: 0h8m21s  (49.9%)\rEpoch: 49.8%  lr: 0.024845  loss: 0.009130  eta: 0h7m  tot: 0h8m21s  (50.0%)\rEpoch: 49.9%  lr: 0.024835  loss: 0.009130  eta: 0h7m  tot: 0h8m21s  (50.0%)\rEpoch: 50.0%  lr: 0.024825  loss: 0.009125  eta: 0h7m  tot: 0h8m22s  (50.0%)\rEpoch: 50.0%  lr: 0.024825  loss: 0.009148  eta: 0h7m  tot: 0h8m22s  (50.0%)\rEpoch: 50.1%  lr: 0.024815  loss: 0.009153  eta: 0h7m  tot: 0h8m22s  (50.0%)\rEpoch: 50.2%  lr: 0.024805  loss: 0.009150  eta: 0h7m  tot: 0h8m22s  (50.0%)\rEpoch: 50.3%  lr: 0.024805  loss: 0.009152  eta: 0h7m  tot: 0h8m22s  (50.1%)\rEpoch: 50.4%  lr: 0.024795  loss: 0.009152  eta: 0h7m  tot: 0h8m22s  (50.1%)\rEpoch: 50.5%  lr: 0.024795  loss: 0.009145  eta: 0h7m  tot: 0h8m23s  (50.1%)\rEpoch: 50.6%  lr: 0.024795  loss: 0.009147  eta: 0h7m  tot: 0h8m23s  (50.1%)\rEpoch: 50.7%  lr: 0.024765  loss: 0.009139  eta: 0h7m  tot: 0h8m23s  (50.1%)\rEpoch: 50.8%  lr: 0.024745  loss: 0.009128  eta: 0h7m  tot: 0h8m23s  (50.2%)\rEpoch: 50.9%  lr: 0.024725  loss: 0.009114  eta: 0h7m  tot: 0h8m23s  (50.2%)\rEpoch: 50.9%  lr: 0.024725  loss: 0.009107  eta: 0h7m  tot: 0h8m23s  (50.2%)\rEpoch: 51.0%  lr: 0.024705  loss: 0.009100  eta: 0h7m  tot: 0h8m24s  (50.2%)\rEpoch: 51.1%  lr: 0.024705  loss: 0.009096  eta: 0h7m  tot: 0h8m24s  (50.2%)\rEpoch: 51.2%  lr: 0.024695  loss: 0.009095  eta: 0h7m  tot: 0h8m24s  (50.2%)\rEpoch: 51.3%  lr: 0.024675  loss: 0.009093  eta: 0h7m  tot: 0h8m24s  (50.3%)\rEpoch: 51.4%  lr: 0.024655  loss: 0.009095  eta: 0h7m  tot: 0h8m24s  (50.3%)\rEpoch: 51.5%  lr: 0.024655  loss: 0.009105  eta: 0h7m  tot: 0h8m24s  (50.3%)\rEpoch: 51.6%  lr: 0.024635  loss: 0.009105  eta: 0h7m  tot: 0h8m25s  (50.3%)\rEpoch: 51.7%  lr: 0.024635  loss: 0.009099  eta: 0h7m  tot: 0h8m25s  (50.3%)\rEpoch: 51.8%  lr: 0.024635  loss: 0.009100  eta: 0h7m  tot: 0h8m25s  (50.4%)\rEpoch: 51.8%  lr: 0.024635  loss: 0.009090  eta: 0h7m  tot: 0h8m25s  (50.4%)\rEpoch: 51.9%  lr: 0.024635  loss: 0.009102  eta: 0h7m  tot: 0h8m25s  (50.4%)\rEpoch: 52.0%  lr: 0.024615  loss: 0.009115  eta: 0h7m  tot: 0h8m25s  (50.4%)\rEpoch: 52.1%  lr: 0.024615  loss: 0.009122  eta: 0h7m  tot: 0h8m26s  (50.4%)\rEpoch: 52.2%  lr: 0.024615  loss: 0.009134  eta: 0h7m  tot: 0h8m26s  (50.4%)\rEpoch: 52.3%  lr: 0.024605  loss: 0.009124  eta: 0h7m  tot: 0h8m26s  (50.5%)\rEpoch: 52.4%  lr: 0.024585  loss: 0.009125  eta: 0h7m  tot: 0h8m26s  (50.5%)\rEpoch: 52.5%  lr: 0.024565  loss: 0.009129  eta: 0h7m  tot: 0h8m26s  (50.5%)\rEpoch: 52.6%  lr: 0.024555  loss: 0.009118  eta: 0h7m  tot: 0h8m26s  (50.5%)\rEpoch: 52.7%  lr: 0.024535  loss: 0.009119  eta: 0h7m  tot: 0h8m27s  (50.5%)\rEpoch: 52.8%  lr: 0.024515  loss: 0.009115  eta: 0h7m  tot: 0h8m27s  (50.6%)\rEpoch: 52.8%  lr: 0.024505  loss: 0.009107  eta: 0h7m  tot: 0h8m27s  (50.6%)\rEpoch: 52.9%  lr: 0.024505  loss: 0.009102  eta: 0h7m  tot: 0h8m27s  (50.6%)\rEpoch: 53.0%  lr: 0.024495  loss: 0.009094  eta: 0h7m  tot: 0h8m27s  (50.6%)\rEpoch: 53.1%  lr: 0.024475  loss: 0.009109  eta: 0h7m  tot: 0h8m27s  (50.6%)\rEpoch: 53.2%  lr: 0.024475  loss: 0.009119  eta: 0h7m  tot: 0h8m28s  (50.6%)\rEpoch: 53.3%  lr: 0.024445  loss: 0.009111  eta: 0h7m  tot: 0h8m28s  (50.7%)\rEpoch: 53.4%  lr: 0.024445  loss: 0.009107  eta: 0h7m  tot: 0h8m28s  (50.7%)\rEpoch: 53.5%  lr: 0.024445  loss: 0.009103  eta: 0h7m  tot: 0h8m28s  (50.7%)\rEpoch: 53.6%  lr: 0.024435  loss: 0.009103  eta: 0h7m  tot: 0h8m28s  (50.7%)\rEpoch: 53.7%  lr: 0.024415  loss: 0.009096  eta: 0h7m  tot: 0h8m28s  (50.7%)\rEpoch: 53.7%  lr: 0.024404  loss: 0.009087  eta: 0h7m  tot: 0h8m29s  (50.7%)\rEpoch: 53.8%  lr: 0.024404  loss: 0.009082  eta: 0h7m  tot: 0h8m29s  (50.8%)\rEpoch: 53.9%  lr: 0.024404  loss: 0.009082  eta: 0h7m  tot: 0h8m29s  (50.8%)\rEpoch: 54.0%  lr: 0.024394  loss: 0.009078  eta: 0h7m  tot: 0h8m29s  (50.8%)\rEpoch: 54.1%  lr: 0.024394  loss: 0.009073  eta: 0h7m  tot: 0h8m29s  (50.8%)\rEpoch: 54.2%  lr: 0.024374  loss: 0.009064  eta: 0h7m  tot: 0h8m29s  (50.8%)\rEpoch: 54.3%  lr: 0.024374  loss: 0.009072  eta: 0h7m  tot: 0h8m30s  (50.9%)\rEpoch: 54.4%  lr: 0.024364  loss: 0.009063  eta: 0h7m  tot: 0h8m30s  (50.9%)\rEpoch: 54.5%  lr: 0.024334  loss: 0.009054  eta: 0h7m  tot: 0h8m30s  (50.9%)\rEpoch: 54.6%  lr: 0.024334  loss: 0.009051  eta: 0h7m  tot: 0h8m30s  (50.9%)\rEpoch: 54.6%  lr: 0.024334  loss: 0.009043  eta: 0h7m  tot: 0h8m30s  (50.9%)\rEpoch: 54.7%  lr: 0.024334  loss: 0.009059  eta: 0h7m  tot: 0h8m30s  (50.9%)\rEpoch: 54.8%  lr: 0.024314  loss: 0.009053  eta: 0h7m  tot: 0h8m30s  (51.0%)\rEpoch: 54.9%  lr: 0.024314  loss: 0.009050  eta: 0h7m  tot: 0h8m31s  (51.0%)\rEpoch: 55.0%  lr: 0.024294  loss: 0.009060  eta: 0h7m  tot: 0h8m31s  (51.0%)\rEpoch: 55.1%  lr: 0.024284  loss: 0.009057  eta: 0h7m  tot: 0h8m31s  (51.0%)\rEpoch: 55.2%  lr: 0.024284  loss: 0.009061  eta: 0h7m  tot: 0h8m31s  (51.0%)\rEpoch: 55.3%  lr: 0.024264  loss: 0.009054  eta: 0h7m  tot: 0h8m31s  (51.1%)\rEpoch: 55.4%  lr: 0.024264  loss: 0.009066  eta: 0h7m  tot: 0h8m31s  (51.1%)\rEpoch: 55.5%  lr: 0.024264  loss: 0.009072  eta: 0h7m  tot: 0h8m32s  (51.1%)\rEpoch: 55.5%  lr: 0.024244  loss: 0.009069  eta: 0h7m  tot: 0h8m32s  (51.1%)\rEpoch: 55.6%  lr: 0.024244  loss: 0.009080  eta: 0h7m  tot: 0h8m32s  (51.1%)\rEpoch: 55.7%  lr: 0.024234  loss: 0.009092  eta: 0h7m  tot: 0h8m32s  (51.1%)\rEpoch: 55.8%  lr: 0.024204  loss: 0.009098  eta: 0h7m  tot: 0h8m32s  (51.2%)\rEpoch: 55.9%  lr: 0.024204  loss: 0.009092  eta: 0h7m  tot: 0h8m32s  (51.2%)\rEpoch: 56.0%  lr: 0.024204  loss: 0.009092  eta: 0h7m  tot: 0h8m33s  (51.2%)\rEpoch: 56.1%  lr: 0.024184  loss: 0.009101  eta: 0h7m  tot: 0h8m33s  (51.2%)\rEpoch: 56.2%  lr: 0.024184  loss: 0.009110  eta: 0h7m  tot: 0h8m33s  (51.2%)\rEpoch: 56.3%  lr: 0.024174  loss: 0.009099  eta: 0h7m  tot: 0h8m33s  (51.3%)\rEpoch: 56.4%  lr: 0.024164  loss: 0.009100  eta: 0h7m  tot: 0h8m33s  (51.3%)\rEpoch: 56.4%  lr: 0.024164  loss: 0.009097  eta: 0h7m  tot: 0h8m33s  (51.3%)\rEpoch: 56.5%  lr: 0.024164  loss: 0.009089  eta: 0h7m  tot: 0h8m34s  (51.3%)\rEpoch: 56.6%  lr: 0.024164  loss: 0.009081  eta: 0h7m  tot: 0h8m34s  (51.3%)\rEpoch: 56.7%  lr: 0.024164  loss: 0.009074  eta: 0h7m  tot: 0h8m34s  (51.3%)\rEpoch: 56.8%  lr: 0.024164  loss: 0.009078  eta: 0h7m  tot: 0h8m34s  (51.4%)\rEpoch: 56.9%  lr: 0.024154  loss: 0.009072  eta: 0h7m  tot: 0h8m34s  (51.4%)\rEpoch: 57.0%  lr: 0.024154  loss: 0.009089  eta: 0h7m  tot: 0h8m34s  (51.4%)\rEpoch: 57.1%  lr: 0.024144  loss: 0.009092  eta: 0h7m  tot: 0h8m35s  (51.4%)\rEpoch: 57.2%  lr: 0.024144  loss: 0.009090  eta: 0h7m  tot: 0h8m35s  (51.4%)\rEpoch: 57.3%  lr: 0.024144  loss: 0.009082  eta: 0h7m  tot: 0h8m35s  (51.5%)\rEpoch: 57.3%  lr: 0.024124  loss: 0.009082  eta: 0h7m  tot: 0h8m35s  (51.5%)\rEpoch: 57.4%  lr: 0.024104  loss: 0.009079  eta: 0h7m  tot: 0h8m35s  (51.5%)\rEpoch: 57.5%  lr: 0.024104  loss: 0.009085  eta: 0h7m  tot: 0h8m35s  (51.5%)\rEpoch: 57.6%  lr: 0.024084  loss: 0.009078  eta: 0h7m  tot: 0h8m36s  (51.5%)\rEpoch: 57.7%  lr: 0.024064  loss: 0.009079  eta: 0h7m  tot: 0h8m36s  (51.5%)\rEpoch: 57.8%  lr: 0.024044  loss: 0.009078  eta: 0h7m  tot: 0h8m36s  (51.6%)\rEpoch: 57.9%  lr: 0.024024  loss: 0.009075  eta: 0h7m  tot: 0h8m36s  (51.6%)\rEpoch: 58.0%  lr: 0.024014  loss: 0.009068  eta: 0h7m  tot: 0h8m36s  (51.6%)\rEpoch: 58.1%  lr: 0.024014  loss: 0.009070  eta: 0h7m  tot: 0h8m36s  (51.6%)\rEpoch: 58.2%  lr: 0.024004  loss: 0.009089  eta: 0h7m  tot: 0h8m37s  (51.6%)\rEpoch: 58.2%  lr: 0.024004  loss: 0.009091  eta: 0h7m  tot: 0h8m37s  (51.6%)\rEpoch: 58.3%  lr: 0.024004  loss: 0.009085  eta: 0h7m  tot: 0h8m37s  (51.7%)\rEpoch: 58.4%  lr: 0.023964  loss: 0.009077  eta: 0h7m  tot: 0h8m37s  (51.7%)\rEpoch: 58.5%  lr: 0.023964  loss: 0.009069  eta: 0h7m  tot: 0h8m37s  (51.7%)\rEpoch: 58.6%  lr: 0.023954  loss: 0.009088  eta: 0h7m  tot: 0h8m37s  (51.7%)\rEpoch: 58.7%  lr: 0.023954  loss: 0.009086  eta: 0h7m  tot: 0h8m38s  (51.7%)\rEpoch: 58.8%  lr: 0.023944  loss: 0.009086  eta: 0h7m  tot: 0h8m38s  (51.8%)\rEpoch: 58.9%  lr: 0.023944  loss: 0.009089  eta: 0h7m  tot: 0h8m38s  (51.8%)\rEpoch: 59.0%  lr: 0.023944  loss: 0.009084  eta: 0h7m  tot: 0h8m38s  (51.8%)\rEpoch: 59.1%  lr: 0.023924  loss: 0.009072  eta: 0h7m  tot: 0h8m38s  (51.8%)\rEpoch: 59.1%  lr: 0.023924  loss: 0.009072  eta: 0h7m  tot: 0h8m38s  (51.8%)\rEpoch: 59.2%  lr: 0.023924  loss: 0.009068  eta: 0h7m  tot: 0h8m39s  (51.8%)\rEpoch: 59.3%  lr: 0.023904  loss: 0.009079  eta: 0h7m  tot: 0h8m39s  (51.9%)\rEpoch: 59.4%  lr: 0.023894  loss: 0.009086  eta: 0h7m  tot: 0h8m39s  (51.9%)\rEpoch: 59.5%  lr: 0.023884  loss: 0.009094  eta: 0h7m  tot: 0h8m39s  (51.9%)\rEpoch: 59.6%  lr: 0.023864  loss: 0.009090  eta: 0h7m  tot: 0h8m39s  (51.9%)\rEpoch: 59.7%  lr: 0.023864  loss: 0.009095  eta: 0h7m  tot: 0h8m39s  (51.9%)\rEpoch: 59.8%  lr: 0.023854  loss: 0.009090  eta: 0h7m  tot: 0h8m40s  (52.0%)\rEpoch: 59.9%  lr: 0.023854  loss: 0.009081  eta: 0h7m  tot: 0h8m40s  (52.0%)\rEpoch: 60.0%  lr: 0.023834  loss: 0.009071  eta: 0h7m  tot: 0h8m40s  (52.0%)\rEpoch: 60.0%  lr: 0.023834  loss: 0.009071  eta: 0h7m  tot: 0h8m40s  (52.0%)\rEpoch: 60.1%  lr: 0.023834  loss: 0.009075  eta: 0h7m  tot: 0h8m40s  (52.0%)\rEpoch: 60.2%  lr: 0.023824  loss: 0.009070  eta: 0h7m  tot: 0h8m40s  (52.0%)\rEpoch: 60.3%  lr: 0.023824  loss: 0.009069  eta: 0h7m  tot: 0h8m41s  (52.1%)\rEpoch: 60.4%  lr: 0.023824  loss: 0.009060  eta: 0h7m  tot: 0h8m41s  (52.1%)\rEpoch: 60.5%  lr: 0.023804  loss: 0.009056  eta: 0h7m  tot: 0h8m41s  (52.1%)\rEpoch: 60.6%  lr: 0.023794  loss: 0.009050  eta: 0h7m  tot: 0h8m41s  (52.1%)\rEpoch: 60.7%  lr: 0.023774  loss: 0.009041  eta: 0h7m  tot: 0h8m41s  (52.1%)\rEpoch: 60.8%  lr: 0.023764  loss: 0.009042  eta: 0h7m  tot: 0h8m41s  (52.2%)\rEpoch: 60.9%  lr: 0.023764  loss: 0.009036  eta: 0h7m  tot: 0h8m42s  (52.2%)\rEpoch: 60.9%  lr: 0.023744  loss: 0.009039  eta: 0h7m  tot: 0h8m42s  (52.2%)\rEpoch: 61.0%  lr: 0.023744  loss: 0.009041  eta: 0h7m  tot: 0h8m42s  (52.2%)\rEpoch: 61.1%  lr: 0.023734  loss: 0.009034  eta: 0h7m  tot: 0h8m42s  (52.2%)\rEpoch: 61.2%  lr: 0.023724  loss: 0.009036  eta: 0h7m  tot: 0h8m42s  (52.2%)\rEpoch: 61.3%  lr: 0.023724  loss: 0.009062  eta: 0h7m  tot: 0h8m42s  (52.3%)\rEpoch: 61.4%  lr: 0.023714  loss: 0.009055  eta: 0h7m  tot: 0h8m43s  (52.3%)\rEpoch: 61.5%  lr: 0.023694  loss: 0.009047  eta: 0h7m  tot: 0h8m43s  (52.3%)\rEpoch: 61.6%  lr: 0.023694  loss: 0.009041  eta: 0h7m  tot: 0h8m43s  (52.3%)\rEpoch: 61.7%  lr: 0.023684  loss: 0.009034  eta: 0h7m  tot: 0h8m43s  (52.3%)\rEpoch: 61.8%  lr: 0.023674  loss: 0.009031  eta: 0h7m  tot: 0h8m43s  (52.4%)\rEpoch: 61.8%  lr: 0.023644  loss: 0.009030  eta: 0h7m  tot: 0h8m43s  (52.4%)\rEpoch: 61.9%  lr: 0.023644  loss: 0.009030  eta: 0h7m  tot: 0h8m44s  (52.4%)\rEpoch: 62.0%  lr: 0.023624  loss: 0.009028  eta: 0h7m  tot: 0h8m44s  (52.4%)\rEpoch: 62.1%  lr: 0.023614  loss: 0.009032  eta: 0h7m  tot: 0h8m44s  (52.4%)\rEpoch: 62.2%  lr: 0.023604  loss: 0.009036  eta: 0h7m  tot: 0h8m44s  (52.4%)\rEpoch: 62.3%  lr: 0.023584  loss: 0.009056  eta: 0h7m  tot: 0h8m44s  (52.5%)\rEpoch: 62.4%  lr: 0.023554  loss: 0.009053  eta: 0h7m  tot: 0h8m44s  (52.5%)\rEpoch: 62.5%  lr: 0.023544  loss: 0.009052  eta: 0h7m  tot: 0h8m45s  (52.5%)\rEpoch: 62.6%  lr: 0.023524  loss: 0.009055  eta: 0h7m  tot: 0h8m45s  (52.5%)\rEpoch: 62.7%  lr: 0.023524  loss: 0.009057  eta: 0h7m  tot: 0h8m45s  (52.5%)\rEpoch: 62.7%  lr: 0.023524  loss: 0.009053  eta: 0h7m  tot: 0h8m45s  (52.5%)\rEpoch: 62.8%  lr: 0.023504  loss: 0.009062  eta: 0h7m  tot: 0h8m45s  (52.6%)\rEpoch: 62.9%  lr: 0.023474  loss: 0.009067  eta: 0h7m  tot: 0h8m46s  (52.6%)\rEpoch: 63.0%  lr: 0.023464  loss: 0.009065  eta: 0h7m  tot: 0h8m46s  (52.6%)\rEpoch: 63.1%  lr: 0.023464  loss: 0.009092  eta: 0h7m  tot: 0h8m46s  (52.6%)\rEpoch: 63.2%  lr: 0.023454  loss: 0.009098  eta: 0h7m  tot: 0h8m46s  (52.6%)\rEpoch: 63.3%  lr: 0.023444  loss: 0.009100  eta: 0h7m  tot: 0h8m46s  (52.7%)\rEpoch: 63.4%  lr: 0.023434  loss: 0.009101  eta: 0h7m  tot: 0h8m46s  (52.7%)\rEpoch: 63.5%  lr: 0.023434  loss: 0.009099  eta: 0h7m  tot: 0h8m47s  (52.7%)\rEpoch: 63.6%  lr: 0.023424  loss: 0.009111  eta: 0h7m  tot: 0h8m47s  (52.7%)\rEpoch: 63.6%  lr: 0.023414  loss: 0.009114  eta: 0h7m  tot: 0h8m47s  (52.7%)\rEpoch: 63.7%  lr: 0.023393  loss: 0.009115  eta: 0h7m  tot: 0h8m47s  (52.7%)\rEpoch: 63.8%  lr: 0.023393  loss: 0.009107  eta: 0h7m  tot: 0h8m47s  (52.8%)\rEpoch: 63.9%  lr: 0.023373  loss: 0.009101  eta: 0h7m  tot: 0h8m47s  (52.8%)\rEpoch: 64.0%  lr: 0.023373  loss: 0.009095  eta: 0h7m  tot: 0h8m48s  (52.8%)\rEpoch: 64.1%  lr: 0.023363  loss: 0.009087  eta: 0h7m  tot: 0h8m48s  (52.8%)\rEpoch: 64.2%  lr: 0.023323  loss: 0.009089  eta: 0h7m  tot: 0h8m48s  (52.8%)\rEpoch: 64.3%  lr: 0.023313  loss: 0.009086  eta: 0h7m  tot: 0h8m48s  (52.9%)\rEpoch: 64.4%  lr: 0.023303  loss: 0.009099  eta: 0h7m  tot: 0h8m48s  (52.9%)\rEpoch: 64.5%  lr: 0.023303  loss: 0.009090  eta: 0h7m  tot: 0h8m48s  (52.9%)\rEpoch: 64.5%  lr: 0.023303  loss: 0.009097  eta: 0h7m  tot: 0h8m49s  (52.9%)\rEpoch: 64.6%  lr: 0.023283  loss: 0.009105  eta: 0h7m  tot: 0h8m49s  (52.9%)\rEpoch: 64.7%  lr: 0.023283  loss: 0.009106  eta: 0h7m  tot: 0h8m49s  (52.9%)\rEpoch: 64.8%  lr: 0.023283  loss: 0.009120  eta: 0h7m  tot: 0h8m49s  (53.0%)\rEpoch: 64.9%  lr: 0.023283  loss: 0.009114  eta: 0h7m  tot: 0h8m49s  (53.0%)\rEpoch: 65.0%  lr: 0.023283  loss: 0.009113  eta: 0h7m  tot: 0h8m49s  (53.0%)\rEpoch: 65.1%  lr: 0.023253  loss: 0.009106  eta: 0h7m  tot: 0h8m50s  (53.0%)\rEpoch: 65.2%  lr: 0.023233  loss: 0.009103  eta: 0h7m  tot: 0h8m50s  (53.0%)\rEpoch: 65.3%  lr: 0.023213  loss: 0.009101  eta: 0h7m  tot: 0h8m50s  (53.1%)\rEpoch: 65.4%  lr: 0.023213  loss: 0.009098  eta: 0h7m  tot: 0h8m50s  (53.1%)\rEpoch: 65.4%  lr: 0.023203  loss: 0.009095  eta: 0h7m  tot: 0h8m50s  (53.1%)\rEpoch: 65.5%  lr: 0.023203  loss: 0.009091  eta: 0h7m  tot: 0h8m50s  (53.1%)\rEpoch: 65.6%  lr: 0.023193  loss: 0.009106  eta: 0h7m  tot: 0h8m51s  (53.1%)\rEpoch: 65.7%  lr: 0.023173  loss: 0.009104  eta: 0h7m  tot: 0h8m51s  (53.1%)\rEpoch: 65.8%  lr: 0.023173  loss: 0.009101  eta: 0h7m  tot: 0h8m51s  (53.2%)\rEpoch: 65.9%  lr: 0.023153  loss: 0.009106  eta: 0h7m  tot: 0h8m51s  (53.2%)\rEpoch: 66.0%  lr: 0.023153  loss: 0.009109  eta: 0h7m  tot: 0h8m51s  (53.2%)\rEpoch: 66.1%  lr: 0.023153  loss: 0.009101  eta: 0h7m  tot: 0h8m51s  (53.2%)\rEpoch: 66.2%  lr: 0.023113  loss: 0.009098  eta: 0h7m  tot: 0h8m52s  (53.2%)\rEpoch: 66.3%  lr: 0.023113  loss: 0.009106  eta: 0h7m  tot: 0h8m52s  (53.3%)\rEpoch: 66.3%  lr: 0.023113  loss: 0.009126  eta: 0h7m  tot: 0h8m52s  (53.3%)\rEpoch: 66.4%  lr: 0.023093  loss: 0.009122  eta: 0h7m  tot: 0h8m52s  (53.3%)\rEpoch: 66.5%  lr: 0.023083  loss: 0.009126  eta: 0h7m  tot: 0h8m52s  (53.3%)\rEpoch: 66.6%  lr: 0.023063  loss: 0.009128  eta: 0h7m  tot: 0h8m52s  (53.3%)\rEpoch: 66.7%  lr: 0.023053  loss: 0.009120  eta: 0h7m  tot: 0h8m52s  (53.3%)\rEpoch: 66.8%  lr: 0.023033  loss: 0.009116  eta: 0h7m  tot: 0h8m53s  (53.4%)\rEpoch: 66.9%  lr: 0.023023  loss: 0.009115  eta: 0h7m  tot: 0h8m53s  (53.4%)\rEpoch: 67.0%  lr: 0.023013  loss: 0.009116  eta: 0h7m  tot: 0h8m53s  (53.4%)\rEpoch: 67.1%  lr: 0.022993  loss: 0.009109  eta: 0h7m  tot: 0h8m53s  (53.4%)\rEpoch: 67.2%  lr: 0.022983  loss: 0.009107  eta: 0h7m  tot: 0h8m53s  (53.4%)\rEpoch: 67.2%  lr: 0.022953  loss: 0.009100  eta: 0h7m  tot: 0h8m53s  (53.4%)\rEpoch: 67.3%  lr: 0.022933  loss: 0.009096  eta: 0h7m  tot: 0h8m54s  (53.5%)\rEpoch: 67.4%  lr: 0.022933  loss: 0.009093  eta: 0h7m  tot: 0h8m54s  (53.5%)\rEpoch: 67.5%  lr: 0.022913  loss: 0.009096  eta: 0h7m  tot: 0h8m54s  (53.5%)\rEpoch: 67.6%  lr: 0.022903  loss: 0.009092  eta: 0h7m  tot: 0h8m54s  (53.5%)\rEpoch: 67.7%  lr: 0.022903  loss: 0.009088  eta: 0h7m  tot: 0h8m54s  (53.5%)\rEpoch: 67.8%  lr: 0.022893  loss: 0.009091  eta: 0h7m  tot: 0h8m54s  (53.6%)\rEpoch: 67.9%  lr: 0.022883  loss: 0.009085  eta: 0h7m  tot: 0h8m55s  (53.6%)\rEpoch: 68.0%  lr: 0.022873  loss: 0.009095  eta: 0h7m  tot: 0h8m55s  (53.6%)\rEpoch: 68.1%  lr: 0.022873  loss: 0.009105  eta: 0h7m  tot: 0h8m55s  (53.6%)\rEpoch: 68.1%  lr: 0.022863  loss: 0.009098  eta: 0h7m  tot: 0h8m55s  (53.6%)\rEpoch: 68.2%  lr: 0.022863  loss: 0.009097  eta: 0h7m  tot: 0h8m55s  (53.6%)\rEpoch: 68.3%  lr: 0.022853  loss: 0.009095  eta: 0h7m  tot: 0h8m55s  (53.7%)\rEpoch: 68.4%  lr: 0.022843  loss: 0.009093  eta: 0h7m  tot: 0h8m56s  (53.7%)\rEpoch: 68.5%  lr: 0.022843  loss: 0.009089  eta: 0h7m  tot: 0h8m56s  (53.7%)\rEpoch: 68.6%  lr: 0.022843  loss: 0.009088  eta: 0h7m  tot: 0h8m56s  (53.7%)\rEpoch: 68.7%  lr: 0.022833  loss: 0.009086  eta: 0h7m  tot: 0h8m56s  (53.7%)\rEpoch: 68.8%  lr: 0.022833  loss: 0.009083  eta: 0h7m  tot: 0h8m56s  (53.8%)\rEpoch: 68.9%  lr: 0.022823  loss: 0.009089  eta: 0h7m  tot: 0h8m56s  (53.8%)\rEpoch: 69.0%  lr: 0.022803  loss: 0.009088  eta: 0h7m  tot: 0h8m57s  (53.8%)\rEpoch: 69.0%  lr: 0.022793  loss: 0.009084  eta: 0h7m  tot: 0h8m57s  (53.8%)\rEpoch: 69.1%  lr: 0.022793  loss: 0.009079  eta: 0h7m  tot: 0h8m57s  (53.8%)\rEpoch: 69.2%  lr: 0.022783  loss: 0.009074  eta: 0h7m  tot: 0h8m57s  (53.8%)\rEpoch: 69.3%  lr: 0.022783  loss: 0.009077  eta: 0h7m  tot: 0h8m57s  (53.9%)\rEpoch: 69.4%  lr: 0.022783  loss: 0.009076  eta: 0h7m  tot: 0h8m57s  (53.9%)\rEpoch: 69.5%  lr: 0.022763  loss: 0.009070  eta: 0h7m  tot: 0h8m58s  (53.9%)\rEpoch: 69.6%  lr: 0.022753  loss: 0.009065  eta: 0h7m  tot: 0h8m58s  (53.9%)\rEpoch: 69.7%  lr: 0.022733  loss: 0.009058  eta: 0h7m  tot: 0h8m58s  (53.9%)\rEpoch: 69.8%  lr: 0.022723  loss: 0.009069  eta: 0h7m  tot: 0h8m58s  (54.0%)\rEpoch: 69.9%  lr: 0.022713  loss: 0.009075  eta: 0h7m  tot: 0h8m58s  (54.0%)\rEpoch: 69.9%  lr: 0.022713  loss: 0.009069  eta: 0h7m  tot: 0h8m59s  (54.0%)\rEpoch: 70.0%  lr: 0.022703  loss: 0.009065  eta: 0h7m  tot: 0h8m59s  (54.0%)\rEpoch: 70.1%  lr: 0.022683  loss: 0.009066  eta: 0h7m  tot: 0h8m59s  (54.0%)\rEpoch: 70.2%  lr: 0.022683  loss: 0.009068  eta: 0h7m  tot: 0h8m59s  (54.0%)\rEpoch: 70.3%  lr: 0.022683  loss: 0.009071  eta: 0h7m  tot: 0h8m59s  (54.1%)\rEpoch: 70.4%  lr: 0.022673  loss: 0.009065  eta: 0h7m  tot: 0h8m59s  (54.1%)\rEpoch: 70.5%  lr: 0.022673  loss: 0.009076  eta: 0h7m  tot: 0h9m0s  (54.1%)\rEpoch: 70.6%  lr: 0.022663  loss: 0.009080  eta: 0h7m  tot: 0h9m0s  (54.1%)\rEpoch: 70.7%  lr: 0.022653  loss: 0.009071  eta: 0h7m  tot: 0h9m0s  (54.1%)\rEpoch: 70.8%  lr: 0.022643  loss: 0.009070  eta: 0h7m  tot: 0h9m0s  (54.2%)\rEpoch: 70.8%  lr: 0.022643  loss: 0.009067  eta: 0h7m  tot: 0h9m0s  (54.2%)\rEpoch: 70.9%  lr: 0.022633  loss: 0.009068  eta: 0h7m  tot: 0h9m0s  (54.2%)\rEpoch: 71.0%  lr: 0.022623  loss: 0.009060  eta: 0h7m  tot: 0h9m1s  (54.2%)\rEpoch: 71.1%  lr: 0.022603  loss: 0.009057  eta: 0h7m  tot: 0h9m1s  (54.2%)\rEpoch: 71.2%  lr: 0.022593  loss: 0.009051  eta: 0h7m  tot: 0h9m1s  (54.2%)\rEpoch: 71.3%  lr: 0.022593  loss: 0.009045  eta: 0h7m  tot: 0h9m1s  (54.3%)\rEpoch: 71.4%  lr: 0.022593  loss: 0.009036  eta: 0h7m  tot: 0h9m1s  (54.3%)\rEpoch: 71.5%  lr: 0.022593  loss: 0.009032  eta: 0h7m  tot: 0h9m1s  (54.3%)\rEpoch: 71.6%  lr: 0.022583  loss: 0.009039  eta: 0h7m  tot: 0h9m1s  (54.3%)\rEpoch: 71.7%  lr: 0.022553  loss: 0.009034  eta: 0h7m  tot: 0h9m2s  (54.3%)\rEpoch: 71.7%  lr: 0.022543  loss: 0.009040  eta: 0h7m  tot: 0h9m2s  (54.3%)\rEpoch: 71.8%  lr: 0.022543  loss: 0.009058  eta: 0h7m  tot: 0h9m2s  (54.4%)\rEpoch: 71.9%  lr: 0.022533  loss: 0.009066  eta: 0h7m  tot: 0h9m2s  (54.4%)\rEpoch: 72.0%  lr: 0.022523  loss: 0.009057  eta: 0h7m  tot: 0h9m2s  (54.4%)\rEpoch: 72.1%  lr: 0.022513  loss: 0.009061  eta: 0h7m  tot: 0h9m2s  (54.4%)\rEpoch: 72.2%  lr: 0.022513  loss: 0.009057  eta: 0h6m  tot: 0h9m3s  (54.4%)\rEpoch: 72.3%  lr: 0.022503  loss: 0.009057  eta: 0h6m  tot: 0h9m3s  (54.5%)\rEpoch: 72.4%  lr: 0.022483  loss: 0.009066  eta: 0h6m  tot: 0h9m3s  (54.5%)\rEpoch: 72.5%  lr: 0.022483  loss: 0.009061  eta: 0h6m  tot: 0h9m3s  (54.5%)\rEpoch: 72.6%  lr: 0.022483  loss: 0.009065  eta: 0h6m  tot: 0h9m3s  (54.5%)\rEpoch: 72.6%  lr: 0.022473  loss: 0.009062  eta: 0h6m  tot: 0h9m3s  (54.5%)\rEpoch: 72.7%  lr: 0.022473  loss: 0.009074  eta: 0h6m  tot: 0h9m4s  (54.5%)\rEpoch: 72.8%  lr: 0.022463  loss: 0.009073  eta: 0h6m  tot: 0h9m4s  (54.6%)\rEpoch: 72.9%  lr: 0.022463  loss: 0.009075  eta: 0h6m  tot: 0h9m4s  (54.6%)\rEpoch: 73.0%  lr: 0.022453  loss: 0.009073  eta: 0h6m  tot: 0h9m4s  (54.6%)\rEpoch: 73.1%  lr: 0.022453  loss: 0.009071  eta: 0h6m  tot: 0h9m4s  (54.6%)\rEpoch: 73.2%  lr: 0.022453  loss: 0.009072  eta: 0h6m  tot: 0h9m4s  (54.6%)\rEpoch: 73.3%  lr: 0.022453  loss: 0.009086  eta: 0h6m  tot: 0h9m5s  (54.7%)\rEpoch: 73.4%  lr: 0.022443  loss: 0.009083  eta: 0h6m  tot: 0h9m5s  (54.7%)\rEpoch: 73.5%  lr: 0.022433  loss: 0.009082  eta: 0h6m  tot: 0h9m5s  (54.7%)\rEpoch: 73.5%  lr: 0.022423  loss: 0.009081  eta: 0h6m  tot: 0h9m5s  (54.7%)\rEpoch: 73.6%  lr: 0.022423  loss: 0.009080  eta: 0h6m  tot: 0h9m5s  (54.7%)\rEpoch: 73.7%  lr: 0.022413  loss: 0.009084  eta: 0h6m  tot: 0h9m5s  (54.7%)\rEpoch: 73.8%  lr: 0.022413  loss: 0.009089  eta: 0h6m  tot: 0h9m6s  (54.8%)\rEpoch: 73.9%  lr: 0.022413  loss: 0.009090  eta: 0h6m  tot: 0h9m6s  (54.8%)\rEpoch: 74.0%  lr: 0.022403  loss: 0.009091  eta: 0h6m  tot: 0h9m6s  (54.8%)\rEpoch: 74.1%  lr: 0.022393  loss: 0.009083  eta: 0h6m  tot: 0h9m6s  (54.8%)\rEpoch: 74.2%  lr: 0.022382  loss: 0.009081  eta: 0h6m  tot: 0h9m6s  (54.8%)\rEpoch: 74.3%  lr: 0.022362  loss: 0.009077  eta: 0h6m  tot: 0h9m6s  (54.9%)\rEpoch: 74.4%  lr: 0.022362  loss: 0.009073  eta: 0h6m  tot: 0h9m7s  (54.9%)\rEpoch: 74.4%  lr: 0.022362  loss: 0.009071  eta: 0h6m  tot: 0h9m7s  (54.9%)\rEpoch: 74.5%  lr: 0.022352  loss: 0.009064  eta: 0h6m  tot: 0h9m7s  (54.9%)\rEpoch: 74.6%  lr: 0.022332  loss: 0.009062  eta: 0h6m  tot: 0h9m7s  (54.9%)\rEpoch: 74.7%  lr: 0.022332  loss: 0.009066  eta: 0h6m  tot: 0h9m7s  (54.9%)\rEpoch: 74.8%  lr: 0.022322  loss: 0.009059  eta: 0h6m  tot: 0h9m7s  (55.0%)\rEpoch: 74.9%  lr: 0.022322  loss: 0.009058  eta: 0h6m  tot: 0h9m8s  (55.0%)\rEpoch: 75.0%  lr: 0.022322  loss: 0.009057  eta: 0h6m  tot: 0h9m8s  (55.0%)\rEpoch: 75.1%  lr: 0.022322  loss: 0.009055  eta: 0h6m  tot: 0h9m8s  (55.0%)\rEpoch: 75.2%  lr: 0.022302  loss: 0.009055  eta: 0h6m  tot: 0h9m8s  (55.0%)\rEpoch: 75.3%  lr: 0.022292  loss: 0.009055  eta: 0h6m  tot: 0h9m8s  (55.1%)\rEpoch: 75.3%  lr: 0.022282  loss: 0.009058  eta: 0h6m  tot: 0h9m9s  (55.1%)\rEpoch: 75.4%  lr: 0.022262  loss: 0.009062  eta: 0h6m  tot: 0h9m9s  (55.1%)\rEpoch: 75.5%  lr: 0.022242  loss: 0.009065  eta: 0h6m  tot: 0h9m9s  (55.1%)\rEpoch: 75.6%  lr: 0.022222  loss: 0.009072  eta: 0h6m  tot: 0h9m9s  (55.1%)\rEpoch: 75.7%  lr: 0.022222  loss: 0.009072  eta: 0h6m  tot: 0h9m9s  (55.1%)\rEpoch: 75.8%  lr: 0.022212  loss: 0.009073  eta: 0h6m  tot: 0h9m9s  (55.2%)\rEpoch: 75.9%  lr: 0.022182  loss: 0.009069  eta: 0h6m  tot: 0h9m9s  (55.2%)\rEpoch: 76.0%  lr: 0.022172  loss: 0.009067  eta: 0h6m  tot: 0h9m10s  (55.2%)\rEpoch: 76.1%  lr: 0.022172  loss: 0.009067  eta: 0h6m  tot: 0h9m10s  (55.2%)\rEpoch: 76.2%  lr: 0.022152  loss: 0.009069  eta: 0h6m  tot: 0h9m10s  (55.2%)\rEpoch: 76.2%  lr: 0.022132  loss: 0.009071  eta: 0h6m  tot: 0h9m10s  (55.2%)\rEpoch: 76.3%  lr: 0.022122  loss: 0.009073  eta: 0h6m  tot: 0h9m10s  (55.3%)\rEpoch: 76.4%  lr: 0.022102  loss: 0.009074  eta: 0h6m  tot: 0h9m11s  (55.3%)\rEpoch: 76.5%  lr: 0.022102  loss: 0.009092  eta: 0h6m  tot: 0h9m11s  (55.3%)\rEpoch: 76.6%  lr: 0.022102  loss: 0.009089  eta: 0h6m  tot: 0h9m11s  (55.3%)\rEpoch: 76.7%  lr: 0.022102  loss: 0.009081  eta: 0h6m  tot: 0h9m11s  (55.3%)\rEpoch: 76.8%  lr: 0.022092  loss: 0.009082  eta: 0h6m  tot: 0h9m11s  (55.4%)\rEpoch: 76.9%  lr: 0.022072  loss: 0.009083  eta: 0h6m  tot: 0h9m11s  (55.4%)\rEpoch: 77.0%  lr: 0.022072  loss: 0.009084  eta: 0h6m  tot: 0h9m12s  (55.4%)\rEpoch: 77.1%  lr: 0.022072  loss: 0.009088  eta: 0h6m  tot: 0h9m12s  (55.4%)\rEpoch: 77.1%  lr: 0.022062  loss: 0.009090  eta: 0h6m  tot: 0h9m12s  (55.4%)\rEpoch: 77.2%  lr: 0.022062  loss: 0.009096  eta: 0h6m  tot: 0h9m12s  (55.4%)\rEpoch: 77.3%  lr: 0.022062  loss: 0.009095  eta: 0h6m  tot: 0h9m12s  (55.5%)\rEpoch: 77.4%  lr: 0.022062  loss: 0.009102  eta: 0h6m  tot: 0h9m12s  (55.5%)\rEpoch: 77.5%  lr: 0.022062  loss: 0.009103  eta: 0h6m  tot: 0h9m13s  (55.5%)\rEpoch: 77.6%  lr: 0.022062  loss: 0.009103  eta: 0h6m  tot: 0h9m13s  (55.5%)\rEpoch: 77.7%  lr: 0.022062  loss: 0.009104  eta: 0h6m  tot: 0h9m13s  (55.5%)\rEpoch: 77.8%  lr: 0.022042  loss: 0.009101  eta: 0h6m  tot: 0h9m13s  (55.6%)\rEpoch: 77.9%  lr: 0.022012  loss: 0.009097  eta: 0h6m  tot: 0h9m13s  (55.6%)\rEpoch: 78.0%  lr: 0.022012  loss: 0.009098  eta: 0h6m  tot: 0h9m13s  (55.6%)\rEpoch: 78.0%  lr: 0.022002  loss: 0.009102  eta: 0h6m  tot: 0h9m14s  (55.6%)\rEpoch: 78.1%  lr: 0.021992  loss: 0.009098  eta: 0h6m  tot: 0h9m14s  (55.6%)\rEpoch: 78.2%  lr: 0.021982  loss: 0.009095  eta: 0h6m  tot: 0h9m14s  (55.6%)\rEpoch: 78.3%  lr: 0.021982  loss: 0.009100  eta: 0h6m  tot: 0h9m14s  (55.7%)\rEpoch: 78.4%  lr: 0.021982  loss: 0.009097  eta: 0h6m  tot: 0h9m14s  (55.7%)\rEpoch: 78.5%  lr: 0.021972  loss: 0.009100  eta: 0h6m  tot: 0h9m14s  (55.7%)\rEpoch: 78.6%  lr: 0.021972  loss: 0.009106  eta: 0h6m  tot: 0h9m15s  (55.7%)\rEpoch: 78.7%  lr: 0.021942  loss: 0.009106  eta: 0h6m  tot: 0h9m15s  (55.7%)\rEpoch: 78.8%  lr: 0.021942  loss: 0.009099  eta: 0h6m  tot: 0h9m15s  (55.8%)\rEpoch: 78.9%  lr: 0.021942  loss: 0.009094  eta: 0h6m  tot: 0h9m15s  (55.8%)\rEpoch: 78.9%  lr: 0.021942  loss: 0.009095  eta: 0h6m  tot: 0h9m15s  (55.8%)\rEpoch: 79.0%  lr: 0.021942  loss: 0.009096  eta: 0h6m  tot: 0h9m15s  (55.8%)\rEpoch: 79.1%  lr: 0.021932  loss: 0.009099  eta: 0h6m  tot: 0h9m16s  (55.8%)\rEpoch: 79.2%  lr: 0.021912  loss: 0.009098  eta: 0h6m  tot: 0h9m16s  (55.8%)\rEpoch: 79.3%  lr: 0.021912  loss: 0.009105  eta: 0h6m  tot: 0h9m16s  (55.9%)\rEpoch: 79.4%  lr: 0.021912  loss: 0.009102  eta: 0h6m  tot: 0h9m16s  (55.9%)\rEpoch: 79.5%  lr: 0.021892  loss: 0.009112  eta: 0h6m  tot: 0h9m16s  (55.9%)\rEpoch: 79.6%  lr: 0.021872  loss: 0.009110  eta: 0h6m  tot: 0h9m16s  (55.9%)\rEpoch: 79.7%  lr: 0.021872  loss: 0.009110  eta: 0h6m  tot: 0h9m17s  (55.9%)\rEpoch: 79.8%  lr: 0.021862  loss: 0.009108  eta: 0h6m  tot: 0h9m17s  (56.0%)\rEpoch: 79.8%  lr: 0.021852  loss: 0.009103  eta: 0h6m  tot: 0h9m17s  (56.0%)\rEpoch: 79.9%  lr: 0.021832  loss: 0.009102  eta: 0h6m  tot: 0h9m17s  (56.0%)\rEpoch: 80.0%  lr: 0.021822  loss: 0.009107  eta: 0h6m  tot: 0h9m17s  (56.0%)\rEpoch: 80.1%  lr: 0.021792  loss: 0.009103  eta: 0h6m  tot: 0h9m17s  (56.0%)\rEpoch: 80.2%  lr: 0.021792  loss: 0.009111  eta: 0h6m  tot: 0h9m18s  (56.0%)\rEpoch: 80.3%  lr: 0.021792  loss: 0.009108  eta: 0h6m  tot: 0h9m18s  (56.1%)\rEpoch: 80.4%  lr: 0.021772  loss: 0.009103  eta: 0h6m  tot: 0h9m18s  (56.1%)\rEpoch: 80.5%  lr: 0.021762  loss: 0.009099  eta: 0h6m  tot: 0h9m18s  (56.1%)\rEpoch: 80.6%  lr: 0.021752  loss: 0.009092  eta: 0h6m  tot: 0h9m18s  (56.1%)\rEpoch: 80.7%  lr: 0.021752  loss: 0.009087  eta: 0h6m  tot: 0h9m18s  (56.1%)\rEpoch: 80.7%  lr: 0.021752  loss: 0.009094  eta: 0h6m  tot: 0h9m19s  (56.1%)\rEpoch: 80.8%  lr: 0.021732  loss: 0.009088  eta: 0h6m  tot: 0h9m19s  (56.2%)\rEpoch: 80.9%  lr: 0.021702  loss: 0.009100  eta: 0h6m  tot: 0h9m19s  (56.2%)\rEpoch: 81.0%  lr: 0.021692  loss: 0.009104  eta: 0h6m  tot: 0h9m19s  (56.2%)\rEpoch: 81.1%  lr: 0.021692  loss: 0.009099  eta: 0h6m  tot: 0h9m19s  (56.2%)\rEpoch: 81.2%  lr: 0.021692  loss: 0.009098  eta: 0h6m  tot: 0h9m19s  (56.2%)\rEpoch: 81.3%  lr: 0.021692  loss: 0.009098  eta: 0h6m  tot: 0h9m20s  (56.3%)\rEpoch: 81.4%  lr: 0.021692  loss: 0.009099  eta: 0h6m  tot: 0h9m20s  (56.3%)\rEpoch: 81.5%  lr: 0.021692  loss: 0.009096  eta: 0h6m  tot: 0h9m20s  (56.3%)\rEpoch: 81.6%  lr: 0.021692  loss: 0.009097  eta: 0h6m  tot: 0h9m20s  (56.3%)\rEpoch: 81.6%  lr: 0.021692  loss: 0.009094  eta: 0h6m  tot: 0h9m20s  (56.3%)\rEpoch: 81.7%  lr: 0.021692  loss: 0.009089  eta: 0h6m  tot: 0h9m20s  (56.3%)\rEpoch: 81.8%  lr: 0.021682  loss: 0.009091  eta: 0h6m  tot: 0h9m21s  (56.4%)\rEpoch: 81.9%  lr: 0.021662  loss: 0.009090  eta: 0h6m  tot: 0h9m21s  (56.4%)\rEpoch: 82.0%  lr: 0.021642  loss: 0.009099  eta: 0h6m  tot: 0h9m21s  (56.4%)\rEpoch: 82.1%  lr: 0.021642  loss: 0.009099  eta: 0h6m  tot: 0h9m21s  (56.4%)\rEpoch: 82.2%  lr: 0.021642  loss: 0.009101  eta: 0h6m  tot: 0h9m21s  (56.4%)\rEpoch: 82.3%  lr: 0.021632  loss: 0.009096  eta: 0h6m  tot: 0h9m21s  (56.5%)\rEpoch: 82.4%  lr: 0.021632  loss: 0.009093  eta: 0h6m  tot: 0h9m22s  (56.5%)\rEpoch: 82.5%  lr: 0.021632  loss: 0.009094  eta: 0h6m  tot: 0h9m22s  (56.5%)\rEpoch: 82.5%  lr: 0.021622  loss: 0.009093  eta: 0h6m  tot: 0h9m22s  (56.5%)\rEpoch: 82.6%  lr: 0.021612  loss: 0.009091  eta: 0h6m  tot: 0h9m22s  (56.5%)\rEpoch: 82.7%  lr: 0.021602  loss: 0.009086  eta: 0h6m  tot: 0h9m22s  (56.5%)\rEpoch: 82.8%  lr: 0.021602  loss: 0.009084  eta: 0h6m  tot: 0h9m22s  (56.6%)\rEpoch: 82.9%  lr: 0.021592  loss: 0.009086  eta: 0h6m  tot: 0h9m23s  (56.6%)\rEpoch: 83.0%  lr: 0.021582  loss: 0.009086  eta: 0h6m  tot: 0h9m23s  (56.6%)\rEpoch: 83.1%  lr: 0.021572  loss: 0.009096  eta: 0h6m  tot: 0h9m23s  (56.6%)\rEpoch: 83.2%  lr: 0.021562  loss: 0.009092  eta: 0h6m  tot: 0h9m23s  (56.6%)\rEpoch: 83.3%  lr: 0.021562  loss: 0.009087  eta: 0h6m  tot: 0h9m23s  (56.7%)\rEpoch: 83.4%  lr: 0.021562  loss: 0.009082  eta: 0h6m  tot: 0h9m23s  (56.7%)\rEpoch: 83.4%  lr: 0.021552  loss: 0.009078  eta: 0h6m  tot: 0h9m24s  (56.7%)\rEpoch: 83.5%  lr: 0.021542  loss: 0.009084  eta: 0h6m  tot: 0h9m24s  (56.7%)\rEpoch: 83.6%  lr: 0.021532  loss: 0.009087  eta: 0h6m  tot: 0h9m24s  (56.7%)\rEpoch: 83.7%  lr: 0.021532  loss: 0.009093  eta: 0h6m  tot: 0h9m24s  (56.7%)\rEpoch: 83.8%  lr: 0.021522  loss: 0.009095  eta: 0h6m  tot: 0h9m24s  (56.8%)\rEpoch: 83.9%  lr: 0.021512  loss: 0.009099  eta: 0h6m  tot: 0h9m24s  (56.8%)\rEpoch: 84.0%  lr: 0.021512  loss: 0.009096  eta: 0h6m  tot: 0h9m25s  (56.8%)\rEpoch: 84.1%  lr: 0.021512  loss: 0.009093  eta: 0h6m  tot: 0h9m25s  (56.8%)\rEpoch: 84.2%  lr: 0.021502  loss: 0.009093  eta: 0h6m  tot: 0h9m25s  (56.8%)\rEpoch: 84.3%  lr: 0.021482  loss: 0.009090  eta: 0h6m  tot: 0h9m25s  (56.9%)\rEpoch: 84.3%  lr: 0.021482  loss: 0.009087  eta: 0h6m  tot: 0h9m25s  (56.9%)\rEpoch: 84.4%  lr: 0.021482  loss: 0.009082  eta: 0h6m  tot: 0h9m25s  (56.9%)\rEpoch: 84.5%  lr: 0.021472  loss: 0.009082  eta: 0h6m  tot: 0h9m26s  (56.9%)\rEpoch: 84.6%  lr: 0.021472  loss: 0.009084  eta: 0h6m  tot: 0h9m26s  (56.9%)\rEpoch: 84.7%  lr: 0.021472  loss: 0.009083  eta: 0h6m  tot: 0h9m26s  (56.9%)\rEpoch: 84.8%  lr: 0.021472  loss: 0.009077  eta: 0h6m  tot: 0h9m26s  (57.0%)\rEpoch: 84.9%  lr: 0.021472  loss: 0.009080  eta: 0h6m  tot: 0h9m26s  (57.0%)\rEpoch: 85.0%  lr: 0.021452  loss: 0.009077  eta: 0h6m  tot: 0h9m26s  (57.0%)\rEpoch: 85.1%  lr: 0.021442  loss: 0.009074  eta: 0h6m  tot: 0h9m27s  (57.0%)\rEpoch: 85.2%  lr: 0.021392  loss: 0.009067  eta: 0h6m  tot: 0h9m27s  (57.0%)\rEpoch: 85.2%  lr: 0.021361  loss: 0.009065  eta: 0h6m  tot: 0h9m27s  (57.0%)\rEpoch: 85.3%  lr: 0.021351  loss: 0.009059  eta: 0h6m  tot: 0h9m27s  (57.1%)\rEpoch: 85.4%  lr: 0.021331  loss: 0.009056  eta: 0h6m  tot: 0h9m27s  (57.1%)\rEpoch: 85.5%  lr: 0.021321  loss: 0.009058  eta: 0h6m  tot: 0h9m27s  (57.1%)\rEpoch: 85.6%  lr: 0.021291  loss: 0.009057  eta: 0h6m  tot: 0h9m28s  (57.1%)\rEpoch: 85.7%  lr: 0.021291  loss: 0.009056  eta: 0h6m  tot: 0h9m28s  (57.1%)\rEpoch: 85.8%  lr: 0.021281  loss: 0.009049  eta: 0h6m  tot: 0h9m28s  (57.2%)\rEpoch: 85.9%  lr: 0.021281  loss: 0.009046  eta: 0h6m  tot: 0h9m28s  (57.2%)\rEpoch: 86.0%  lr: 0.021271  loss: 0.009046  eta: 0h6m  tot: 0h9m28s  (57.2%)\rEpoch: 86.1%  lr: 0.021251  loss: 0.009042  eta: 0h6m  tot: 0h9m28s  (57.2%)\rEpoch: 86.1%  lr: 0.021211  loss: 0.009039  eta: 0h6m  tot: 0h9m29s  (57.2%)\rEpoch: 86.2%  lr: 0.021181  loss: 0.009046  eta: 0h6m  tot: 0h9m29s  (57.2%)\rEpoch: 86.3%  lr: 0.021181  loss: 0.009043  eta: 0h6m  tot: 0h9m29s  (57.3%)\rEpoch: 86.4%  lr: 0.021181  loss: 0.009041  eta: 0h6m  tot: 0h9m29s  (57.3%)\rEpoch: 86.5%  lr: 0.021161  loss: 0.009037  eta: 0h6m  tot: 0h9m29s  (57.3%)\rEpoch: 86.6%  lr: 0.021141  loss: 0.009047  eta: 0h6m  tot: 0h9m30s  (57.3%)\rEpoch: 86.7%  lr: 0.021131  loss: 0.009042  eta: 0h6m  tot: 0h9m30s  (57.3%)\rEpoch: 86.8%  lr: 0.021131  loss: 0.009044  eta: 0h6m  tot: 0h9m30s  (57.4%)\rEpoch: 86.9%  lr: 0.021131  loss: 0.009045  eta: 0h6m  tot: 0h9m30s  (57.4%)\rEpoch: 87.0%  lr: 0.021121  loss: 0.009059  eta: 0h6m  tot: 0h9m30s  (57.4%)\rEpoch: 87.0%  lr: 0.021121  loss: 0.009055  eta: 0h6m  tot: 0h9m30s  (57.4%)\rEpoch: 87.1%  lr: 0.021121  loss: 0.009052  eta: 0h6m  tot: 0h9m31s  (57.4%)\rEpoch: 87.2%  lr: 0.021121  loss: 0.009050  eta: 0h6m  tot: 0h9m31s  (57.4%)\rEpoch: 87.3%  lr: 0.021121  loss: 0.009047  eta: 0h6m  tot: 0h9m31s  (57.5%)\rEpoch: 87.4%  lr: 0.021101  loss: 0.009046  eta: 0h6m  tot: 0h9m31s  (57.5%)\rEpoch: 87.5%  lr: 0.021081  loss: 0.009048  eta: 0h6m  tot: 0h9m31s  (57.5%)\rEpoch: 87.6%  lr: 0.021081  loss: 0.009055  eta: 0h6m  tot: 0h9m31s  (57.5%)\rEpoch: 87.7%  lr: 0.021071  loss: 0.009057  eta: 0h6m  tot: 0h9m32s  (57.5%)\rEpoch: 87.8%  lr: 0.021061  loss: 0.009062  eta: 0h6m  tot: 0h9m32s  (57.6%)\rEpoch: 87.9%  lr: 0.021061  loss: 0.009060  eta: 0h6m  tot: 0h9m32s  (57.6%)\rEpoch: 87.9%  lr: 0.021061  loss: 0.009055  eta: 0h6m  tot: 0h9m32s  (57.6%)\rEpoch: 88.0%  lr: 0.021061  loss: 0.009054  eta: 0h6m  tot: 0h9m32s  (57.6%)\rEpoch: 88.1%  lr: 0.021051  loss: 0.009059  eta: 0h6m  tot: 0h9m32s  (57.6%)\rEpoch: 88.2%  lr: 0.021031  loss: 0.009057  eta: 0h6m  tot: 0h9m33s  (57.6%)\rEpoch: 88.3%  lr: 0.021021  loss: 0.009057  eta: 0h6m  tot: 0h9m33s  (57.7%)\rEpoch: 88.4%  lr: 0.021021  loss: 0.009053  eta: 0h6m  tot: 0h9m33s  (57.7%)\rEpoch: 88.5%  lr: 0.021021  loss: 0.009051  eta: 0h6m  tot: 0h9m33s  (57.7%)\rEpoch: 88.6%  lr: 0.021021  loss: 0.009050  eta: 0h6m  tot: 0h9m33s  (57.7%)\rEpoch: 88.7%  lr: 0.021021  loss: 0.009050  eta: 0h6m  tot: 0h9m33s  (57.7%)\rEpoch: 88.8%  lr: 0.021011  loss: 0.009046  eta: 0h6m  tot: 0h9m34s  (57.8%)\rEpoch: 88.8%  lr: 0.021011  loss: 0.009049  eta: 0h6m  tot: 0h9m34s  (57.8%)\rEpoch: 88.9%  lr: 0.021011  loss: 0.009052  eta: 0h6m  tot: 0h9m34s  (57.8%)\rEpoch: 89.0%  lr: 0.021011  loss: 0.009053  eta: 0h6m  tot: 0h9m34s  (57.8%)\rEpoch: 89.1%  lr: 0.020991  loss: 0.009054  eta: 0h6m  tot: 0h9m34s  (57.8%)\rEpoch: 89.2%  lr: 0.020981  loss: 0.009052  eta: 0h6m  tot: 0h9m34s  (57.8%)\rEpoch: 89.3%  lr: 0.020971  loss: 0.009052  eta: 0h6m  tot: 0h9m35s  (57.9%)\rEpoch: 89.4%  lr: 0.020961  loss: 0.009051  eta: 0h6m  tot: 0h9m35s  (57.9%)\rEpoch: 89.5%  lr: 0.020961  loss: 0.009053  eta: 0h6m  tot: 0h9m35s  (57.9%)\rEpoch: 89.6%  lr: 0.020931  loss: 0.009062  eta: 0h6m  tot: 0h9m35s  (57.9%)\rEpoch: 89.7%  lr: 0.020931  loss: 0.009062  eta: 0h6m  tot: 0h9m35s  (57.9%)\rEpoch: 89.7%  lr: 0.020911  loss: 0.009061  eta: 0h6m  tot: 0h9m35s  (57.9%)\rEpoch: 89.8%  lr: 0.020901  loss: 0.009061  eta: 0h6m  tot: 0h9m36s  (58.0%)\rEpoch: 89.9%  lr: 0.020901  loss: 0.009059  eta: 0h6m  tot: 0h9m36s  (58.0%)\rEpoch: 90.0%  lr: 0.020891  loss: 0.009057  eta: 0h6m  tot: 0h9m36s  (58.0%)\rEpoch: 90.1%  lr: 0.020891  loss: 0.009059  eta: 0h6m  tot: 0h9m36s  (58.0%)\rEpoch: 90.2%  lr: 0.020891  loss: 0.009058  eta: 0h6m  tot: 0h9m36s  (58.0%)\rEpoch: 90.3%  lr: 0.020871  loss: 0.009053  eta: 0h6m  tot: 0h9m36s  (58.1%)\rEpoch: 90.4%  lr: 0.020871  loss: 0.009051  eta: 0h6m  tot: 0h9m37s  (58.1%)\rEpoch: 90.5%  lr: 0.020861  loss: 0.009053  eta: 0h6m  tot: 0h9m37s  (58.1%)\rEpoch: 90.6%  lr: 0.020861  loss: 0.009052  eta: 0h6m  tot: 0h9m37s  (58.1%)\rEpoch: 90.6%  lr: 0.020851  loss: 0.009048  eta: 0h6m  tot: 0h9m37s  (58.1%)\rEpoch: 90.7%  lr: 0.020841  loss: 0.009047  eta: 0h6m  tot: 0h9m37s  (58.1%)\rEpoch: 90.8%  lr: 0.020831  loss: 0.009054  eta: 0h6m  tot: 0h9m37s  (58.2%)\rEpoch: 90.9%  lr: 0.020831  loss: 0.009048  eta: 0h6m  tot: 0h9m38s  (58.2%)\rEpoch: 91.0%  lr: 0.020821  loss: 0.009047  eta: 0h6m  tot: 0h9m38s  (58.2%)\rEpoch: 91.1%  lr: 0.020811  loss: 0.009046  eta: 0h6m  tot: 0h9m38s  (58.2%)\rEpoch: 91.2%  lr: 0.020811  loss: 0.009044  eta: 0h6m  tot: 0h9m38s  (58.2%)\rEpoch: 91.3%  lr: 0.020811  loss: 0.009040  eta: 0h6m  tot: 0h9m38s  (58.3%)\rEpoch: 91.4%  lr: 0.020801  loss: 0.009037  eta: 0h6m  tot: 0h9m38s  (58.3%)\rEpoch: 91.5%  lr: 0.020791  loss: 0.009033  eta: 0h6m  tot: 0h9m38s  (58.3%)\rEpoch: 91.5%  lr: 0.020781  loss: 0.009037  eta: 0h6m  tot: 0h9m39s  (58.3%)\rEpoch: 91.6%  lr: 0.020781  loss: 0.009037  eta: 0h6m  tot: 0h9m39s  (58.3%)\rEpoch: 91.7%  lr: 0.020781  loss: 0.009034  eta: 0h6m  tot: 0h9m39s  (58.3%)\rEpoch: 91.8%  lr: 0.020771  loss: 0.009041  eta: 0h6m  tot: 0h9m39s  (58.4%)\rEpoch: 91.9%  lr: 0.020761  loss: 0.009040  eta: 0h6m  tot: 0h9m39s  (58.4%)\rEpoch: 92.0%  lr: 0.020751  loss: 0.009043  eta: 0h6m  tot: 0h9m39s  (58.4%)\rEpoch: 92.1%  lr: 0.020741  loss: 0.009037  eta: 0h6m  tot: 0h9m40s  (58.4%)\rEpoch: 92.2%  lr: 0.020741  loss: 0.009042  eta: 0h6m  tot: 0h9m40s  (58.4%)\rEpoch: 92.3%  lr: 0.020721  loss: 0.009040  eta: 0h6m  tot: 0h9m40s  (58.5%)\rEpoch: 92.4%  lr: 0.020701  loss: 0.009040  eta: 0h6m  tot: 0h9m40s  (58.5%)\rEpoch: 92.4%  lr: 0.020701  loss: 0.009048  eta: 0h6m  tot: 0h9m40s  (58.5%)\rEpoch: 92.5%  lr: 0.020681  loss: 0.009053  eta: 0h6m  tot: 0h9m40s  (58.5%)\rEpoch: 92.6%  lr: 0.020681  loss: 0.009051  eta: 0h6m  tot: 0h9m41s  (58.5%)\rEpoch: 92.7%  lr: 0.020681  loss: 0.009053  eta: 0h6m  tot: 0h9m41s  (58.5%)\rEpoch: 92.8%  lr: 0.020661  loss: 0.009054  eta: 0h6m  tot: 0h9m41s  (58.6%)\rEpoch: 92.9%  lr: 0.020661  loss: 0.009059  eta: 0h6m  tot: 0h9m41s  (58.6%)\rEpoch: 93.0%  lr: 0.020651  loss: 0.009056  eta: 0h6m  tot: 0h9m41s  (58.6%)\rEpoch: 93.1%  lr: 0.020651  loss: 0.009052  eta: 0h6m  tot: 0h9m41s  (58.6%)\rEpoch: 93.2%  lr: 0.020641  loss: 0.009046  eta: 0h6m  tot: 0h9m42s  (58.6%)\rEpoch: 93.3%  lr: 0.020611  loss: 0.009053  eta: 0h6m  tot: 0h9m42s  (58.7%)\rEpoch: 93.3%  lr: 0.020601  loss: 0.009056  eta: 0h6m  tot: 0h9m42s  (58.7%)\rEpoch: 93.4%  lr: 0.020571  loss: 0.009055  eta: 0h6m  tot: 0h9m42s  (58.7%)\rEpoch: 93.5%  lr: 0.020551  loss: 0.009050  eta: 0h6m  tot: 0h9m42s  (58.7%)\rEpoch: 93.6%  lr: 0.020551  loss: 0.009051  eta: 0h6m  tot: 0h9m42s  (58.7%)\rEpoch: 93.7%  lr: 0.020531  loss: 0.009051  eta: 0h6m  tot: 0h9m43s  (58.7%)\rEpoch: 93.8%  lr: 0.020511  loss: 0.009053  eta: 0h6m  tot: 0h9m43s  (58.8%)\rEpoch: 93.9%  lr: 0.020501  loss: 0.009055  eta: 0h6m  tot: 0h9m43s  (58.8%)\rEpoch: 94.0%  lr: 0.020501  loss: 0.009054  eta: 0h6m  tot: 0h9m43s  (58.8%)\rEpoch: 94.1%  lr: 0.020501  loss: 0.009052  eta: 0h6m  tot: 0h9m43s  (58.8%)\rEpoch: 94.2%  lr: 0.020471  loss: 0.009055  eta: 0h6m  tot: 0h9m44s  (58.8%)\rEpoch: 94.2%  lr: 0.020451  loss: 0.009064  eta: 0h6m  tot: 0h9m44s  (58.8%)\rEpoch: 94.3%  lr: 0.020441  loss: 0.009065  eta: 0h6m  tot: 0h9m44s  (58.9%)\rEpoch: 94.4%  lr: 0.020381  loss: 0.009066  eta: 0h6m  tot: 0h9m44s  (58.9%)\rEpoch: 94.5%  lr: 0.020371  loss: 0.009065  eta: 0h6m  tot: 0h9m44s  (58.9%)\rEpoch: 94.6%  lr: 0.020361  loss: 0.009066  eta: 0h6m  tot: 0h9m44s  (58.9%)\rEpoch: 94.7%  lr: 0.020361  loss: 0.009063  eta: 0h6m  tot: 0h9m44s  (58.9%)\rEpoch: 94.8%  lr: 0.020350  loss: 0.009057  eta: 0h6m  tot: 0h9m45s  (59.0%)\rEpoch: 94.9%  lr: 0.020350  loss: 0.009055  eta: 0h6m  tot: 0h9m45s  (59.0%)\rEpoch: 95.0%  lr: 0.020340  loss: 0.009058  eta: 0h6m  tot: 0h9m45s  (59.0%)\rEpoch: 95.1%  lr: 0.020310  loss: 0.009058  eta: 0h6m  tot: 0h9m45s  (59.0%)\rEpoch: 95.1%  lr: 0.020310  loss: 0.009055  eta: 0h6m  tot: 0h9m45s  (59.0%)\rEpoch: 95.2%  lr: 0.020290  loss: 0.009052  eta: 0h6m  tot: 0h9m45s  (59.0%)\rEpoch: 95.3%  lr: 0.020290  loss: 0.009052  eta: 0h6m  tot: 0h9m46s  (59.1%)\rEpoch: 95.4%  lr: 0.020290  loss: 0.009050  eta: 0h6m  tot: 0h9m46s  (59.1%)\rEpoch: 95.5%  lr: 0.020290  loss: 0.009052  eta: 0h6m  tot: 0h9m46s  (59.1%)\rEpoch: 95.6%  lr: 0.020290  loss: 0.009054  eta: 0h6m  tot: 0h9m46s  (59.1%)\rEpoch: 95.7%  lr: 0.020290  loss: 0.009057  eta: 0h6m  tot: 0h9m46s  (59.1%)\rEpoch: 95.8%  lr: 0.020290  loss: 0.009063  eta: 0h6m  tot: 0h9m46s  (59.2%)\rEpoch: 95.9%  lr: 0.020290  loss: 0.009064  eta: 0h6m  tot: 0h9m47s  (59.2%)\rEpoch: 96.0%  lr: 0.020290  loss: 0.009058  eta: 0h6m  tot: 0h9m47s  (59.2%)\rEpoch: 96.0%  lr: 0.020270  loss: 0.009061  eta: 0h6m  tot: 0h9m47s  (59.2%)\rEpoch: 96.1%  lr: 0.020260  loss: 0.009057  eta: 0h6m  tot: 0h9m47s  (59.2%)\rEpoch: 96.2%  lr: 0.020250  loss: 0.009057  eta: 0h6m  tot: 0h9m47s  (59.2%)\rEpoch: 96.3%  lr: 0.020250  loss: 0.009055  eta: 0h6m  tot: 0h9m47s  (59.3%)\rEpoch: 96.4%  lr: 0.020250  loss: 0.009053  eta: 0h6m  tot: 0h9m48s  (59.3%)\rEpoch: 96.5%  lr: 0.020240  loss: 0.009062  eta: 0h6m  tot: 0h9m48s  (59.3%)\rEpoch: 96.6%  lr: 0.020240  loss: 0.009057  eta: 0h6m  tot: 0h9m48s  (59.3%)\rEpoch: 96.7%  lr: 0.020240  loss: 0.009059  eta: 0h6m  tot: 0h9m48s  (59.3%)\rEpoch: 96.8%  lr: 0.020210  loss: 0.009060  eta: 0h6m  tot: 0h9m48s  (59.4%)\rEpoch: 96.9%  lr: 0.020210  loss: 0.009060  eta: 0h6m  tot: 0h9m48s  (59.4%)\rEpoch: 96.9%  lr: 0.020200  loss: 0.009065  eta: 0h6m  tot: 0h9m48s  (59.4%)\rEpoch: 97.0%  lr: 0.020200  loss: 0.009067  eta: 0h6m  tot: 0h9m49s  (59.4%)\rEpoch: 97.1%  lr: 0.020190  loss: 0.009068  eta: 0h6m  tot: 0h9m49s  (59.4%)\rEpoch: 97.2%  lr: 0.020180  loss: 0.009069  eta: 0h6m  tot: 0h9m49s  (59.4%)\rEpoch: 97.3%  lr: 0.020180  loss: 0.009068  eta: 0h6m  tot: 0h9m49s  (59.5%)\rEpoch: 97.4%  lr: 0.020180  loss: 0.009061  eta: 0h6m  tot: 0h9m49s  (59.5%)\rEpoch: 97.5%  lr: 0.020170  loss: 0.009056  eta: 0h6m  tot: 0h9m49s  (59.5%)\rEpoch: 97.6%  lr: 0.020160  loss: 0.009059  eta: 0h6m  tot: 0h9m50s  (59.5%)\rEpoch: 97.7%  lr: 0.020160  loss: 0.009053  eta: 0h6m  tot: 0h9m50s  (59.5%)\rEpoch: 97.8%  lr: 0.020160  loss: 0.009048  eta: 0h6m  tot: 0h9m50s  (59.6%)\rEpoch: 97.8%  lr: 0.020160  loss: 0.009046  eta: 0h6m  tot: 0h9m50s  (59.6%)\rEpoch: 97.9%  lr: 0.020130  loss: 0.009044  eta: 0h6m  tot: 0h9m50s  (59.6%)\rEpoch: 98.0%  lr: 0.020130  loss: 0.009048  eta: 0h6m  tot: 0h9m50s  (59.6%)\rEpoch: 98.1%  lr: 0.020130  loss: 0.009046  eta: 0h6m  tot: 0h9m51s  (59.6%)\rEpoch: 98.2%  lr: 0.020120  loss: 0.009044  eta: 0h6m  tot: 0h9m51s  (59.6%)\rEpoch: 98.3%  lr: 0.020100  loss: 0.009039  eta: 0h6m  tot: 0h9m51s  (59.7%)\rEpoch: 98.4%  lr: 0.020070  loss: 0.009036  eta: 0h6m  tot: 0h9m51s  (59.7%)\rEpoch: 98.5%  lr: 0.020050  loss: 0.009042  eta: 0h6m  tot: 0h9m51s  (59.7%)\rEpoch: 98.6%  lr: 0.020050  loss: 0.009039  eta: 0h6m  tot: 0h9m52s  (59.7%)\rEpoch: 98.7%  lr: 0.020050  loss: 0.009036  eta: 0h6m  tot: 0h9m52s  (59.7%)\rEpoch: 98.7%  lr: 0.020030  loss: 0.009032  eta: 0h6m  tot: 0h9m52s  (59.7%)\rEpoch: 98.8%  lr: 0.020030  loss: 0.009032  eta: 0h6m  tot: 0h9m52s  (59.8%)\rEpoch: 98.9%  lr: 0.020030  loss: 0.009027  eta: 0h6m  tot: 0h9m52s  (59.8%)\rEpoch: 99.0%  lr: 0.020030  loss: 0.009026  eta: 0h6m  tot: 0h9m52s  (59.8%)\rEpoch: 99.1%  lr: 0.020030  loss: 0.009028  eta: 0h6m  tot: 0h9m53s  (59.8%)\rEpoch: 99.2%  lr: 0.020010  loss: 0.009032  eta: 0h6m  tot: 0h9m53s  (59.8%)\rEpoch: 99.3%  lr: 0.020010  loss: 0.009038  eta: 0h6m  tot: 0h9m53s  (59.9%)\rEpoch: 99.4%  lr: 0.020010  loss: 0.009037  eta: 0h6m  tot: 0h9m53s  (59.9%)\rEpoch: 99.5%  lr: 0.020000  loss: 0.009034  eta: 0h6m  tot: 0h9m53s  (59.9%)\rEpoch: 99.6%  lr: 0.020000  loss: 0.009039  eta: 0h6m  tot: 0h9m53s  (59.9%)\rEpoch: 99.6%  lr: 0.020000  loss: 0.009043  eta: 0h6m  tot: 0h9m53s  (59.9%)\rEpoch: 99.7%  lr: 0.020000  loss: 0.009048  eta: 0h6m  tot: 0h9m54s  (59.9%)\rEpoch: 99.8%  lr: 0.020000  loss: 0.009041  eta: 0h6m  tot: 0h9m54s  (60.0%)\rEpoch: 99.9%  lr: 0.020000  loss: 0.009046  eta: 0h6m  tot: 0h9m54s  (60.0%)\rEpoch: 100.0%  lr: 0.020000  loss: 0.009042  eta: 0h6m  tot: 0h9m54s  (60.0%)\rEpoch: 0.1%  lr: 0.020000  loss: 0.008590  eta: 0h5m  tot: 0h9m54s  (60.0%)\rEpoch: 0.2%  lr: 0.019980  loss: 0.008190  eta: 0h5m  tot: 0h9m54s  (60.0%)\rEpoch: 0.3%  lr: 0.019970  loss: 0.007803  eta: 0h5m  tot: 0h9m54s  (60.1%)\rEpoch: 0.4%  lr: 0.019970  loss: 0.006747  eta: 0h5m  tot: 0h9m54s  (60.1%)\rEpoch: 0.4%  lr: 0.019940  loss: 0.007436  eta: 0h6m  tot: 0h9m55s  (60.1%)\rEpoch: 0.5%  lr: 0.019930  loss: 0.008099  eta: 0h5m  tot: 0h9m55s  (60.1%)\rEpoch: 0.6%  lr: 0.019910  loss: 0.008494  eta: 0h6m  tot: 0h9m55s  (60.1%)\rEpoch: 0.7%  lr: 0.019900  loss: 0.007941  eta: 0h5m  tot: 0h9m55s  (60.1%)\rEpoch: 0.8%  lr: 0.019900  loss: 0.008579  eta: 0h5m  tot: 0h9m55s  (60.2%)\rEpoch: 0.9%  lr: 0.019880  loss: 0.008393  eta: 0h6m  tot: 0h9m55s  (60.2%)\rEpoch: 1.0%  lr: 0.019870  loss: 0.008625  eta: 0h5m  tot: 0h9m55s  (60.2%)\rEpoch: 1.1%  lr: 0.019860  loss: 0.008227  eta: 0h6m  tot: 0h9m56s  (60.2%)\rEpoch: 1.2%  lr: 0.019860  loss: 0.008251  eta: 0h6m  tot: 0h9m56s  (60.2%)\rEpoch: 1.3%  lr: 0.019850  loss: 0.007942  eta: 0h6m  tot: 0h9m56s  (60.3%)\rEpoch: 1.3%  lr: 0.019840  loss: 0.008624  eta: 0h5m  tot: 0h9m56s  (60.3%)\rEpoch: 1.4%  lr: 0.019830  loss: 0.008277  eta: 0h5m  tot: 0h9m56s  (60.3%)\rEpoch: 1.5%  lr: 0.019830  loss: 0.007960  eta: 0h5m  tot: 0h9m56s  (60.3%)\rEpoch: 1.6%  lr: 0.019810  loss: 0.007683  eta: 0h5m  tot: 0h9m57s  (60.3%)\rEpoch: 1.7%  lr: 0.019810  loss: 0.007652  eta: 0h5m  tot: 0h9m57s  (60.3%)\rEpoch: 1.8%  lr: 0.019810  loss: 0.007454  eta: 0h5m  tot: 0h9m57s  (60.4%)\rEpoch: 1.9%  lr: 0.019780  loss: 0.007239  eta: 0h5m  tot: 0h9m57s  (60.4%)\rEpoch: 2.0%  lr: 0.019770  loss: 0.007155  eta: 0h5m  tot: 0h9m57s  (60.4%)\rEpoch: 2.1%  lr: 0.019730  loss: 0.007103  eta: 0h5m  tot: 0h9m57s  (60.4%)\rEpoch: 2.2%  lr: 0.019730  loss: 0.006851  eta: 0h5m  tot: 0h9m58s  (60.4%)\rEpoch: 2.2%  lr: 0.019710  loss: 0.006809  eta: 0h5m  tot: 0h9m58s  (60.4%)\rEpoch: 2.3%  lr: 0.019710  loss: 0.006879  eta: 0h5m  tot: 0h9m58s  (60.5%)\rEpoch: 2.4%  lr: 0.019700  loss: 0.006897  eta: 0h5m  tot: 0h9m58s  (60.5%)\rEpoch: 2.5%  lr: 0.019690  loss: 0.006835  eta: 0h5m  tot: 0h9m58s  (60.5%)\rEpoch: 2.6%  lr: 0.019690  loss: 0.006712  eta: 0h5m  tot: 0h9m58s  (60.5%)\rEpoch: 2.7%  lr: 0.019660  loss: 0.006606  eta: 0h5m  tot: 0h9m59s  (60.5%)\rEpoch: 2.8%  lr: 0.019660  loss: 0.006492  eta: 0h5m  tot: 0h9m59s  (60.6%)\rEpoch: 2.9%  lr: 0.019660  loss: 0.006540  eta: 0h5m  tot: 0h9m59s  (60.6%)\rEpoch: 3.0%  lr: 0.019660  loss: 0.006420  eta: 0h5m  tot: 0h9m59s  (60.6%)\rEpoch: 3.1%  lr: 0.019660  loss: 0.006317  eta: 0h5m  tot: 0h9m59s  (60.6%)\rEpoch: 3.1%  lr: 0.019660  loss: 0.006252  eta: 0h5m  tot: 0h9m59s  (60.6%)\rEpoch: 3.2%  lr: 0.019650  loss: 0.006253  eta: 0h5m  tot: 0h10m0s  (60.6%)\rEpoch: 3.3%  lr: 0.019650  loss: 0.006155  eta: 0h5m  tot: 0h10m0s  (60.7%)\rEpoch: 3.4%  lr: 0.019650  loss: 0.006175  eta: 0h5m  tot: 0h10m0s  (60.7%)\rEpoch: 3.5%  lr: 0.019650  loss: 0.006070  eta: 0h5m  tot: 0h10m0s  (60.7%)\rEpoch: 3.6%  lr: 0.019640  loss: 0.006134  eta: 0h5m  tot: 0h10m0s  (60.7%)\rEpoch: 3.7%  lr: 0.019630  loss: 0.006131  eta: 0h5m  tot: 0h10m0s  (60.7%)\rEpoch: 3.8%  lr: 0.019610  loss: 0.006074  eta: 0h5m  tot: 0h10m1s  (60.8%)\rEpoch: 3.9%  lr: 0.019610  loss: 0.006032  eta: 0h5m  tot: 0h10m1s  (60.8%)\rEpoch: 4.0%  lr: 0.019610  loss: 0.006139  eta: 0h5m  tot: 0h10m1s  (60.8%)\rEpoch: 4.0%  lr: 0.019600  loss: 0.006256  eta: 0h5m  tot: 0h10m1s  (60.8%)\rEpoch: 4.1%  lr: 0.019600  loss: 0.006270  eta: 0h5m  tot: 0h10m1s  (60.8%)\rEpoch: 4.2%  lr: 0.019600  loss: 0.006203  eta: 0h5m  tot: 0h10m1s  (60.8%)\rEpoch: 4.3%  lr: 0.019600  loss: 0.006176  eta: 0h5m  tot: 0h10m1s  (60.9%)\rEpoch: 4.4%  lr: 0.019580  loss: 0.006169  eta: 0h5m  tot: 0h10m2s  (60.9%)\rEpoch: 4.5%  lr: 0.019580  loss: 0.006381  eta: 0h5m  tot: 0h10m2s  (60.9%)\rEpoch: 4.6%  lr: 0.019570  loss: 0.006373  eta: 0h5m  tot: 0h10m2s  (60.9%)\rEpoch: 4.7%  lr: 0.019560  loss: 0.006347  eta: 0h5m  tot: 0h10m2s  (60.9%)\rEpoch: 4.8%  lr: 0.019520  loss: 0.006519  eta: 0h5m  tot: 0h10m2s  (61.0%)\rEpoch: 4.9%  lr: 0.019510  loss: 0.006498  eta: 0h5m  tot: 0h10m2s  (61.0%)\rEpoch: 5.0%  lr: 0.019500  loss: 0.006575  eta: 0h5m  tot: 0h10m3s  (61.0%)\rEpoch: 5.0%  lr: 0.019500  loss: 0.006514  eta: 0h5m  tot: 0h10m3s  (61.0%)\rEpoch: 5.1%  lr: 0.019500  loss: 0.006459  eta: 0h5m  tot: 0h10m3s  (61.0%)\rEpoch: 5.2%  lr: 0.019500  loss: 0.006454  eta: 0h5m  tot: 0h10m3s  (61.0%)\rEpoch: 5.3%  lr: 0.019489  loss: 0.006463  eta: 0h5m  tot: 0h10m3s  (61.1%)\rEpoch: 5.4%  lr: 0.019479  loss: 0.006528  eta: 0h5m  tot: 0h10m3s  (61.1%)\rEpoch: 5.5%  lr: 0.019469  loss: 0.006499  eta: 0h5m  tot: 0h10m4s  (61.1%)\rEpoch: 5.6%  lr: 0.019469  loss: 0.006463  eta: 0h5m  tot: 0h10m4s  (61.1%)\rEpoch: 5.7%  lr: 0.019459  loss: 0.006469  eta: 0h5m  tot: 0h10m4s  (61.1%)\rEpoch: 5.8%  lr: 0.019449  loss: 0.006486  eta: 0h5m  tot: 0h10m4s  (61.2%)\rEpoch: 5.9%  lr: 0.019439  loss: 0.006454  eta: 0h5m  tot: 0h10m4s  (61.2%)\rEpoch: 5.9%  lr: 0.019439  loss: 0.006388  eta: 0h5m  tot: 0h10m4s  (61.2%)\rEpoch: 6.0%  lr: 0.019409  loss: 0.006348  eta: 0h5m  tot: 0h10m5s  (61.2%)\rEpoch: 6.1%  lr: 0.019399  loss: 0.006343  eta: 0h5m  tot: 0h10m5s  (61.2%)\rEpoch: 6.2%  lr: 0.019399  loss: 0.006301  eta: 0h5m  tot: 0h10m5s  (61.2%)\rEpoch: 6.3%  lr: 0.019389  loss: 0.006284  eta: 0h5m  tot: 0h10m5s  (61.3%)\rEpoch: 6.4%  lr: 0.019379  loss: 0.006262  eta: 0h5m  tot: 0h10m5s  (61.3%)\rEpoch: 6.5%  lr: 0.019369  loss: 0.006449  eta: 0h5m  tot: 0h10m5s  (61.3%)\rEpoch: 6.6%  lr: 0.019369  loss: 0.006407  eta: 0h5m  tot: 0h10m6s  (61.3%)\rEpoch: 6.7%  lr: 0.019369  loss: 0.006415  eta: 0h5m  tot: 0h10m6s  (61.3%)\rEpoch: 6.8%  lr: 0.019349  loss: 0.006475  eta: 0h5m  tot: 0h10m6s  (61.4%)\rEpoch: 6.8%  lr: 0.019339  loss: 0.006437  eta: 0h5m  tot: 0h10m6s  (61.4%)\rEpoch: 6.9%  lr: 0.019329  loss: 0.006399  eta: 0h5m  tot: 0h10m6s  (61.4%)\rEpoch: 7.0%  lr: 0.019299  loss: 0.006382  eta: 0h5m  tot: 0h10m6s  (61.4%)\rEpoch: 7.1%  lr: 0.019299  loss: 0.006427  eta: 0h5m  tot: 0h10m7s  (61.4%)\rEpoch: 7.2%  lr: 0.019279  loss: 0.006373  eta: 0h5m  tot: 0h10m7s  (61.4%)\rEpoch: 7.3%  lr: 0.019269  loss: 0.006498  eta: 0h5m  tot: 0h10m7s  (61.5%)\rEpoch: 7.4%  lr: 0.019269  loss: 0.006488  eta: 0h5m  tot: 0h10m7s  (61.5%)\rEpoch: 7.5%  lr: 0.019239  loss: 0.006451  eta: 0h5m  tot: 0h10m7s  (61.5%)\rEpoch: 7.6%  lr: 0.019219  loss: 0.006444  eta: 0h5m  tot: 0h10m7s  (61.5%)\rEpoch: 7.7%  lr: 0.019209  loss: 0.006420  eta: 0h5m  tot: 0h10m8s  (61.5%)\rEpoch: 7.7%  lr: 0.019199  loss: 0.006432  eta: 0h5m  tot: 0h10m8s  (61.5%)\rEpoch: 7.8%  lr: 0.019199  loss: 0.006402  eta: 0h5m  tot: 0h10m8s  (61.6%)\rEpoch: 7.9%  lr: 0.019179  loss: 0.006404  eta: 0h5m  tot: 0h10m8s  (61.6%)\rEpoch: 8.0%  lr: 0.019179  loss: 0.006346  eta: 0h5m  tot: 0h10m8s  (61.6%)\rEpoch: 8.1%  lr: 0.019179  loss: 0.006310  eta: 0h5m  tot: 0h10m8s  (61.6%)\rEpoch: 8.2%  lr: 0.019169  loss: 0.006306  eta: 0h5m  tot: 0h10m8s  (61.6%)\rEpoch: 8.3%  lr: 0.019149  loss: 0.006310  eta: 0h5m  tot: 0h10m9s  (61.7%)\rEpoch: 8.4%  lr: 0.019139  loss: 0.006312  eta: 0h5m  tot: 0h10m9s  (61.7%)\rEpoch: 8.5%  lr: 0.019139  loss: 0.006371  eta: 0h5m  tot: 0h10m9s  (61.7%)\rEpoch: 8.6%  lr: 0.019139  loss: 0.006482  eta: 0h5m  tot: 0h10m9s  (61.7%)\rEpoch: 8.6%  lr: 0.019129  loss: 0.006436  eta: 0h5m  tot: 0h10m9s  (61.7%)\rEpoch: 8.7%  lr: 0.019089  loss: 0.006424  eta: 0h5m  tot: 0h10m9s  (61.7%)\rEpoch: 8.8%  lr: 0.019089  loss: 0.006432  eta: 0h5m  tot: 0h10m10s  (61.8%)\rEpoch: 8.9%  lr: 0.019089  loss: 0.006459  eta: 0h5m  tot: 0h10m10s  (61.8%)\rEpoch: 9.0%  lr: 0.019079  loss: 0.006448  eta: 0h5m  tot: 0h10m10s  (61.8%)\rEpoch: 9.1%  lr: 0.019059  loss: 0.006424  eta: 0h5m  tot: 0h10m10s  (61.8%)\rEpoch: 9.2%  lr: 0.019059  loss: 0.006455  eta: 0h5m  tot: 0h10m10s  (61.8%)\rEpoch: 9.3%  lr: 0.019049  loss: 0.006459  eta: 0h5m  tot: 0h10m10s  (61.9%)\rEpoch: 9.4%  lr: 0.019039  loss: 0.006527  eta: 0h5m  tot: 0h10m11s  (61.9%)\rEpoch: 9.5%  lr: 0.019029  loss: 0.006503  eta: 0h5m  tot: 0h10m11s  (61.9%)\rEpoch: 9.5%  lr: 0.019029  loss: 0.006456  eta: 0h5m  tot: 0h10m11s  (61.9%)\rEpoch: 9.6%  lr: 0.019019  loss: 0.006484  eta: 0h5m  tot: 0h10m11s  (61.9%)\rEpoch: 9.7%  lr: 0.019009  loss: 0.006508  eta: 0h5m  tot: 0h10m11s  (61.9%)\rEpoch: 9.8%  lr: 0.018999  loss: 0.006481  eta: 0h5m  tot: 0h10m11s  (62.0%)\rEpoch: 9.9%  lr: 0.018979  loss: 0.006472  eta: 0h5m  tot: 0h10m12s  (62.0%)\rEpoch: 10.0%  lr: 0.018969  loss: 0.006464  eta: 0h5m  tot: 0h10m12s  (62.0%)\rEpoch: 10.1%  lr: 0.018969  loss: 0.006448  eta: 0h5m  tot: 0h10m12s  (62.0%)\rEpoch: 10.2%  lr: 0.018969  loss: 0.006486  eta: 0h5m  tot: 0h10m12s  (62.0%)\rEpoch: 10.3%  lr: 0.018969  loss: 0.006448  eta: 0h5m  tot: 0h10m12s  (62.1%)\rEpoch: 10.4%  lr: 0.018939  loss: 0.006415  eta: 0h5m  tot: 0h10m12s  (62.1%)\rEpoch: 10.4%  lr: 0.018939  loss: 0.006449  eta: 0h5m  tot: 0h10m13s  (62.1%)\rEpoch: 10.5%  lr: 0.018939  loss: 0.006472  eta: 0h5m  tot: 0h10m13s  (62.1%)\rEpoch: 10.6%  lr: 0.018939  loss: 0.006455  eta: 0h5m  tot: 0h10m13s  (62.1%)\rEpoch: 10.7%  lr: 0.018939  loss: 0.006444  eta: 0h5m  tot: 0h10m13s  (62.1%)\rEpoch: 10.8%  lr: 0.018939  loss: 0.006473  eta: 0h5m  tot: 0h10m13s  (62.2%)\rEpoch: 10.9%  lr: 0.018929  loss: 0.006426  eta: 0h5m  tot: 0h10m13s  (62.2%)\rEpoch: 11.0%  lr: 0.018919  loss: 0.006435  eta: 0h5m  tot: 0h10m14s  (62.2%)\rEpoch: 11.1%  lr: 0.018919  loss: 0.006455  eta: 0h5m  tot: 0h10m14s  (62.2%)\rEpoch: 11.2%  lr: 0.018919  loss: 0.006435  eta: 0h5m  tot: 0h10m14s  (62.2%)\rEpoch: 11.3%  lr: 0.018909  loss: 0.006431  eta: 0h5m  tot: 0h10m14s  (62.3%)\rEpoch: 11.3%  lr: 0.018899  loss: 0.006440  eta: 0h5m  tot: 0h10m14s  (62.3%)\rEpoch: 11.4%  lr: 0.018889  loss: 0.006469  eta: 0h5m  tot: 0h10m14s  (62.3%)\rEpoch: 11.5%  lr: 0.018889  loss: 0.006479  eta: 0h5m  tot: 0h10m15s  (62.3%)\rEpoch: 11.6%  lr: 0.018889  loss: 0.006449  eta: 0h5m  tot: 0h10m15s  (62.3%)\rEpoch: 11.7%  lr: 0.018879  loss: 0.006462  eta: 0h5m  tot: 0h10m15s  (62.3%)\rEpoch: 11.8%  lr: 0.018869  loss: 0.006431  eta: 0h5m  tot: 0h10m15s  (62.4%)\rEpoch: 11.9%  lr: 0.018869  loss: 0.006446  eta: 0h5m  tot: 0h10m15s  (62.4%)\rEpoch: 12.0%  lr: 0.018869  loss: 0.006475  eta: 0h5m  tot: 0h10m15s  (62.4%)\rEpoch: 12.1%  lr: 0.018849  loss: 0.006440  eta: 0h5m  tot: 0h10m16s  (62.4%)\rEpoch: 12.2%  lr: 0.018849  loss: 0.006413  eta: 0h5m  tot: 0h10m16s  (62.4%)\rEpoch: 12.2%  lr: 0.018849  loss: 0.006389  eta: 0h5m  tot: 0h10m16s  (62.4%)\rEpoch: 12.3%  lr: 0.018829  loss: 0.006352  eta: 0h5m  tot: 0h10m16s  (62.5%)\rEpoch: 12.4%  lr: 0.018809  loss: 0.006376  eta: 0h5m  tot: 0h10m16s  (62.5%)\rEpoch: 12.5%  lr: 0.018789  loss: 0.006386  eta: 0h5m  tot: 0h10m16s  (62.5%)\rEpoch: 12.6%  lr: 0.018789  loss: 0.006407  eta: 0h5m  tot: 0h10m17s  (62.5%)\rEpoch: 12.7%  lr: 0.018759  loss: 0.006382  eta: 0h5m  tot: 0h10m17s  (62.5%)\rEpoch: 12.8%  lr: 0.018739  loss: 0.006360  eta: 0h5m  tot: 0h10m17s  (62.6%)\rEpoch: 12.9%  lr: 0.018729  loss: 0.006357  eta: 0h5m  tot: 0h10m17s  (62.6%)\rEpoch: 13.0%  lr: 0.018709  loss: 0.006423  eta: 0h5m  tot: 0h10m17s  (62.6%)\rEpoch: 13.1%  lr: 0.018699  loss: 0.006478  eta: 0h5m  tot: 0h10m17s  (62.6%)\rEpoch: 13.1%  lr: 0.018679  loss: 0.006541  eta: 0h5m  tot: 0h10m18s  (62.6%)\rEpoch: 13.2%  lr: 0.018669  loss: 0.006533  eta: 0h5m  tot: 0h10m18s  (62.6%)\rEpoch: 13.3%  lr: 0.018669  loss: 0.006509  eta: 0h5m  tot: 0h10m18s  (62.7%)\rEpoch: 13.4%  lr: 0.018659  loss: 0.006518  eta: 0h5m  tot: 0h10m18s  (62.7%)\rEpoch: 13.5%  lr: 0.018659  loss: 0.006516  eta: 0h5m  tot: 0h10m18s  (62.7%)\rEpoch: 13.6%  lr: 0.018659  loss: 0.006512  eta: 0h5m  tot: 0h10m18s  (62.7%)\rEpoch: 13.7%  lr: 0.018639  loss: 0.006490  eta: 0h5m  tot: 0h10m18s  (62.7%)\rEpoch: 13.8%  lr: 0.018639  loss: 0.006464  eta: 0h5m  tot: 0h10m19s  (62.8%)\rEpoch: 13.9%  lr: 0.018639  loss: 0.006443  eta: 0h5m  tot: 0h10m19s  (62.8%)\rEpoch: 14.0%  lr: 0.018639  loss: 0.006430  eta: 0h5m  tot: 0h10m19s  (62.8%)\rEpoch: 14.0%  lr: 0.018639  loss: 0.006487  eta: 0h5m  tot: 0h10m19s  (62.8%)\rEpoch: 14.1%  lr: 0.018619  loss: 0.006472  eta: 0h5m  tot: 0h10m19s  (62.8%)\rEpoch: 14.2%  lr: 0.018609  loss: 0.006446  eta: 0h5m  tot: 0h10m19s  (62.8%)\rEpoch: 14.3%  lr: 0.018609  loss: 0.006440  eta: 0h5m  tot: 0h10m20s  (62.9%)\rEpoch: 14.4%  lr: 0.018589  loss: 0.006448  eta: 0h5m  tot: 0h10m20s  (62.9%)\rEpoch: 14.5%  lr: 0.018589  loss: 0.006426  eta: 0h5m  tot: 0h10m20s  (62.9%)\rEpoch: 14.6%  lr: 0.018579  loss: 0.006417  eta: 0h5m  tot: 0h10m20s  (62.9%)\rEpoch: 14.7%  lr: 0.018569  loss: 0.006408  eta: 0h5m  tot: 0h10m20s  (62.9%)\rEpoch: 14.8%  lr: 0.018559  loss: 0.006430  eta: 0h5m  tot: 0h10m20s  (63.0%)\rEpoch: 14.9%  lr: 0.018549  loss: 0.006448  eta: 0h5m  tot: 0h10m21s  (63.0%)\rEpoch: 14.9%  lr: 0.018529  loss: 0.006488  eta: 0h5m  tot: 0h10m21s  (63.0%)\rEpoch: 15.0%  lr: 0.018519  loss: 0.006494  eta: 0h5m  tot: 0h10m21s  (63.0%)\rEpoch: 15.1%  lr: 0.018509  loss: 0.006525  eta: 0h5m  tot: 0h10m21s  (63.0%)\rEpoch: 15.2%  lr: 0.018499  loss: 0.006540  eta: 0h5m  tot: 0h10m21s  (63.0%)\rEpoch: 15.3%  lr: 0.018499  loss: 0.006530  eta: 0h5m  tot: 0h10m22s  (63.1%)\rEpoch: 15.4%  lr: 0.018499  loss: 0.006504  eta: 0h5m  tot: 0h10m22s  (63.1%)\rEpoch: 15.5%  lr: 0.018499  loss: 0.006546  eta: 0h5m  tot: 0h10m22s  (63.1%)\rEpoch: 15.6%  lr: 0.018499  loss: 0.006550  eta: 0h5m  tot: 0h10m22s  (63.1%)\rEpoch: 15.7%  lr: 0.018499  loss: 0.006545  eta: 0h5m  tot: 0h10m22s  (63.1%)\rEpoch: 15.8%  lr: 0.018479  loss: 0.006565  eta: 0h5m  tot: 0h10m23s  (63.2%)\rEpoch: 15.8%  lr: 0.018479  loss: 0.006623  eta: 0h5m  tot: 0h10m23s  (63.2%)\rEpoch: 15.9%  lr: 0.018458  loss: 0.006617  eta: 0h5m  tot: 0h10m23s  (63.2%)\rEpoch: 16.0%  lr: 0.018458  loss: 0.006639  eta: 0h5m  tot: 0h10m23s  (63.2%)\rEpoch: 16.1%  lr: 0.018458  loss: 0.006626  eta: 0h5m  tot: 0h10m23s  (63.2%)\rEpoch: 16.2%  lr: 0.018438  loss: 0.006613  eta: 0h5m  tot: 0h10m23s  (63.2%)\rEpoch: 16.3%  lr: 0.018438  loss: 0.006596  eta: 0h5m  tot: 0h10m24s  (63.3%)\rEpoch: 16.4%  lr: 0.018438  loss: 0.006595  eta: 0h5m  tot: 0h10m24s  (63.3%)\rEpoch: 16.5%  lr: 0.018438  loss: 0.006616  eta: 0h5m  tot: 0h10m24s  (63.3%)\rEpoch: 16.6%  lr: 0.018428  loss: 0.006616  eta: 0h5m  tot: 0h10m24s  (63.3%)\rEpoch: 16.7%  lr: 0.018428  loss: 0.006598  eta: 0h5m  tot: 0h10m24s  (63.3%)\rEpoch: 16.7%  lr: 0.018428  loss: 0.006593  eta: 0h5m  tot: 0h10m24s  (63.3%)\rEpoch: 16.8%  lr: 0.018428  loss: 0.006601  eta: 0h5m  tot: 0h10m25s  (63.4%)\rEpoch: 16.9%  lr: 0.018418  loss: 0.006594  eta: 0h5m  tot: 0h10m25s  (63.4%)\rEpoch: 17.0%  lr: 0.018408  loss: 0.006597  eta: 0h5m  tot: 0h10m25s  (63.4%)\rEpoch: 17.1%  lr: 0.018388  loss: 0.006636  eta: 0h5m  tot: 0h10m25s  (63.4%)\rEpoch: 17.2%  lr: 0.018368  loss: 0.006625  eta: 0h5m  tot: 0h10m25s  (63.4%)\rEpoch: 17.3%  lr: 0.018368  loss: 0.006628  eta: 0h5m  tot: 0h10m25s  (63.5%)\rEpoch: 17.4%  lr: 0.018358  loss: 0.006626  eta: 0h5m  tot: 0h10m26s  (63.5%)\rEpoch: 17.5%  lr: 0.018348  loss: 0.006609  eta: 0h5m  tot: 0h10m26s  (63.5%)\rEpoch: 17.6%  lr: 0.018348  loss: 0.006604  eta: 0h5m  tot: 0h10m26s  (63.5%)\rEpoch: 17.6%  lr: 0.018338  loss: 0.006598  eta: 0h5m  tot: 0h10m26s  (63.5%)\rEpoch: 17.7%  lr: 0.018318  loss: 0.006580  eta: 0h5m  tot: 0h10m26s  (63.5%)\rEpoch: 17.8%  lr: 0.018308  loss: 0.006651  eta: 0h5m  tot: 0h10m26s  (63.6%)\rEpoch: 17.9%  lr: 0.018298  loss: 0.006655  eta: 0h5m  tot: 0h10m27s  (63.6%)\rEpoch: 18.0%  lr: 0.018278  loss: 0.006710  eta: 0h5m  tot: 0h10m27s  (63.6%)\rEpoch: 18.1%  lr: 0.018268  loss: 0.006729  eta: 0h5m  tot: 0h10m27s  (63.6%)\rEpoch: 18.2%  lr: 0.018268  loss: 0.006713  eta: 0h5m  tot: 0h10m27s  (63.6%)\rEpoch: 18.3%  lr: 0.018238  loss: 0.006703  eta: 0h5m  tot: 0h10m27s  (63.7%)\rEpoch: 18.4%  lr: 0.018238  loss: 0.006695  eta: 0h5m  tot: 0h10m28s  (63.7%)\rEpoch: 18.5%  lr: 0.018218  loss: 0.006690  eta: 0h5m  tot: 0h10m28s  (63.7%)\rEpoch: 18.5%  lr: 0.018208  loss: 0.006684  eta: 0h5m  tot: 0h10m28s  (63.7%)\rEpoch: 18.6%  lr: 0.018208  loss: 0.006670  eta: 0h5m  tot: 0h10m28s  (63.7%)\rEpoch: 18.7%  lr: 0.018198  loss: 0.006650  eta: 0h5m  tot: 0h10m28s  (63.7%)\rEpoch: 18.8%  lr: 0.018198  loss: 0.006654  eta: 0h5m  tot: 0h10m28s  (63.8%)\rEpoch: 18.9%  lr: 0.018198  loss: 0.006637  eta: 0h5m  tot: 0h10m29s  (63.8%)\rEpoch: 19.0%  lr: 0.018198  loss: 0.006612  eta: 0h5m  tot: 0h10m29s  (63.8%)\rEpoch: 19.1%  lr: 0.018188  loss: 0.006595  eta: 0h5m  tot: 0h10m29s  (63.8%)\rEpoch: 19.2%  lr: 0.018178  loss: 0.006580  eta: 0h5m  tot: 0h10m29s  (63.8%)\rEpoch: 19.3%  lr: 0.018168  loss: 0.006579  eta: 0h5m  tot: 0h10m29s  (63.9%)\rEpoch: 19.4%  lr: 0.018148  loss: 0.006598  eta: 0h5m  tot: 0h10m29s  (63.9%)\rEpoch: 19.4%  lr: 0.018108  loss: 0.006594  eta: 0h5m  tot: 0h10m30s  (63.9%)\rEpoch: 19.5%  lr: 0.018098  loss: 0.006583  eta: 0h5m  tot: 0h10m30s  (63.9%)\rEpoch: 19.6%  lr: 0.018088  loss: 0.006586  eta: 0h5m  tot: 0h10m30s  (63.9%)\rEpoch: 19.7%  lr: 0.018088  loss: 0.006591  eta: 0h5m  tot: 0h10m30s  (63.9%)\rEpoch: 19.8%  lr: 0.018078  loss: 0.006600  eta: 0h5m  tot: 0h10m30s  (64.0%)\rEpoch: 19.9%  lr: 0.018058  loss: 0.006609  eta: 0h5m  tot: 0h10m30s  (64.0%)\rEpoch: 20.0%  lr: 0.018048  loss: 0.006665  eta: 0h5m  tot: 0h10m31s  (64.0%)\rEpoch: 20.1%  lr: 0.018038  loss: 0.006677  eta: 0h5m  tot: 0h10m31s  (64.0%)\rEpoch: 20.2%  lr: 0.018028  loss: 0.006678  eta: 0h5m  tot: 0h10m31s  (64.0%)\rEpoch: 20.3%  lr: 0.018028  loss: 0.006683  eta: 0h5m  tot: 0h10m31s  (64.1%)\rEpoch: 20.3%  lr: 0.018008  loss: 0.006688  eta: 0h5m  tot: 0h10m31s  (64.1%)\rEpoch: 20.4%  lr: 0.017998  loss: 0.006689  eta: 0h5m  tot: 0h10m32s  (64.1%)\rEpoch: 20.5%  lr: 0.017998  loss: 0.006686  eta: 0h5m  tot: 0h10m32s  (64.1%)\rEpoch: 20.6%  lr: 0.017998  loss: 0.006673  eta: 0h5m  tot: 0h10m32s  (64.1%)\rEpoch: 20.7%  lr: 0.017978  loss: 0.006672  eta: 0h5m  tot: 0h10m32s  (64.1%)\rEpoch: 20.8%  lr: 0.017958  loss: 0.006682  eta: 0h5m  tot: 0h10m32s  (64.2%)\rEpoch: 20.9%  lr: 0.017948  loss: 0.006666  eta: 0h5m  tot: 0h10m32s  (64.2%)\rEpoch: 21.0%  lr: 0.017938  loss: 0.006646  eta: 0h5m  tot: 0h10m33s  (64.2%)\rEpoch: 21.1%  lr: 0.017938  loss: 0.006636  eta: 0h5m  tot: 0h10m33s  (64.2%)\rEpoch: 21.2%  lr: 0.017908  loss: 0.006650  eta: 0h5m  tot: 0h10m33s  (64.2%)\rEpoch: 21.2%  lr: 0.017898  loss: 0.006635  eta: 0h5m  tot: 0h10m33s  (64.2%)\rEpoch: 21.3%  lr: 0.017888  loss: 0.006623  eta: 0h5m  tot: 0h10m33s  (64.3%)\rEpoch: 21.4%  lr: 0.017868  loss: 0.006621  eta: 0h5m  tot: 0h10m33s  (64.3%)\rEpoch: 21.5%  lr: 0.017868  loss: 0.006610  eta: 0h5m  tot: 0h10m34s  (64.3%)\rEpoch: 21.6%  lr: 0.017868  loss: 0.006592  eta: 0h5m  tot: 0h10m34s  (64.3%)\rEpoch: 21.7%  lr: 0.017868  loss: 0.006573  eta: 0h5m  tot: 0h10m34s  (64.3%)\rEpoch: 21.8%  lr: 0.017858  loss: 0.006587  eta: 0h5m  tot: 0h10m34s  (64.4%)\rEpoch: 21.9%  lr: 0.017858  loss: 0.006622  eta: 0h5m  tot: 0h10m34s  (64.4%)\rEpoch: 22.0%  lr: 0.017848  loss: 0.006623  eta: 0h5m  tot: 0h10m34s  (64.4%)\rEpoch: 22.1%  lr: 0.017828  loss: 0.006627  eta: 0h5m  tot: 0h10m35s  (64.4%)\rEpoch: 22.1%  lr: 0.017808  loss: 0.006609  eta: 0h5m  tot: 0h10m35s  (64.4%)\rEpoch: 22.2%  lr: 0.017798  loss: 0.006612  eta: 0h5m  tot: 0h10m35s  (64.4%)\rEpoch: 22.3%  lr: 0.017788  loss: 0.006617  eta: 0h5m  tot: 0h10m35s  (64.5%)\rEpoch: 22.4%  lr: 0.017778  loss: 0.006604  eta: 0h5m  tot: 0h10m35s  (64.5%)\rEpoch: 22.5%  lr: 0.017778  loss: 0.006624  eta: 0h5m  tot: 0h10m35s  (64.5%)\rEpoch: 22.6%  lr: 0.017758  loss: 0.006609  eta: 0h5m  tot: 0h10m36s  (64.5%)\rEpoch: 22.7%  lr: 0.017718  loss: 0.006597  eta: 0h5m  tot: 0h10m36s  (64.5%)\rEpoch: 22.8%  lr: 0.017698  loss: 0.006586  eta: 0h5m  tot: 0h10m36s  (64.6%)\rEpoch: 22.9%  lr: 0.017678  loss: 0.006574  eta: 0h5m  tot: 0h10m36s  (64.6%)\rEpoch: 23.0%  lr: 0.017668  loss: 0.006568  eta: 0h5m  tot: 0h10m36s  (64.6%)\rEpoch: 23.0%  lr: 0.017668  loss: 0.006572  eta: 0h5m  tot: 0h10m36s  (64.6%)\rEpoch: 23.1%  lr: 0.017668  loss: 0.006576  eta: 0h5m  tot: 0h10m37s  (64.6%)\rEpoch: 23.2%  lr: 0.017668  loss: 0.006565  eta: 0h5m  tot: 0h10m37s  (64.6%)\rEpoch: 23.3%  lr: 0.017638  loss: 0.006549  eta: 0h5m  tot: 0h10m37s  (64.7%)\rEpoch: 23.4%  lr: 0.017628  loss: 0.006544  eta: 0h5m  tot: 0h10m37s  (64.7%)\rEpoch: 23.5%  lr: 0.017628  loss: 0.006558  eta: 0h5m  tot: 0h10m37s  (64.7%)\rEpoch: 23.6%  lr: 0.017608  loss: 0.006562  eta: 0h5m  tot: 0h10m37s  (64.7%)\rEpoch: 23.7%  lr: 0.017598  loss: 0.006556  eta: 0h5m  tot: 0h10m38s  (64.7%)\rEpoch: 23.8%  lr: 0.017598  loss: 0.006544  eta: 0h5m  tot: 0h10m38s  (64.8%)\rEpoch: 23.9%  lr: 0.017588  loss: 0.006537  eta: 0h5m  tot: 0h10m38s  (64.8%)\rEpoch: 23.9%  lr: 0.017588  loss: 0.006535  eta: 0h5m  tot: 0h10m38s  (64.8%)\rEpoch: 24.0%  lr: 0.017568  loss: 0.006529  eta: 0h5m  tot: 0h10m38s  (64.8%)\rEpoch: 24.1%  lr: 0.017568  loss: 0.006534  eta: 0h5m  tot: 0h10m38s  (64.8%)\rEpoch: 24.2%  lr: 0.017558  loss: 0.006530  eta: 0h5m  tot: 0h10m39s  (64.8%)\rEpoch: 24.3%  lr: 0.017548  loss: 0.006521  eta: 0h5m  tot: 0h10m39s  (64.9%)\rEpoch: 24.4%  lr: 0.017538  loss: 0.006538  eta: 0h5m  tot: 0h10m39s  (64.9%)\rEpoch: 24.5%  lr: 0.017528  loss: 0.006546  eta: 0h5m  tot: 0h10m39s  (64.9%)\rEpoch: 24.6%  lr: 0.017508  loss: 0.006544  eta: 0h5m  tot: 0h10m39s  (64.9%)\rEpoch: 24.7%  lr: 0.017498  loss: 0.006551  eta: 0h5m  tot: 0h10m39s  (64.9%)\rEpoch: 24.8%  lr: 0.017498  loss: 0.006549  eta: 0h5m  tot: 0h10m40s  (65.0%)\rEpoch: 24.8%  lr: 0.017488  loss: 0.006548  eta: 0h5m  tot: 0h10m40s  (65.0%)\rEpoch: 24.9%  lr: 0.017478  loss: 0.006548  eta: 0h5m  tot: 0h10m40s  (65.0%)\rEpoch: 25.0%  lr: 0.017478  loss: 0.006574  eta: 0h5m  tot: 0h10m40s  (65.0%)\rEpoch: 25.1%  lr: 0.017468  loss: 0.006579  eta: 0h5m  tot: 0h10m40s  (65.0%)\rEpoch: 25.2%  lr: 0.017437  loss: 0.006572  eta: 0h5m  tot: 0h10m41s  (65.0%)\rEpoch: 25.3%  lr: 0.017437  loss: 0.006607  eta: 0h5m  tot: 0h10m41s  (65.1%)\rEpoch: 25.4%  lr: 0.017437  loss: 0.006602  eta: 0h5m  tot: 0h10m41s  (65.1%)\rEpoch: 25.5%  lr: 0.017417  loss: 0.006641  eta: 0h5m  tot: 0h10m41s  (65.1%)\rEpoch: 25.6%  lr: 0.017407  loss: 0.006657  eta: 0h5m  tot: 0h10m41s  (65.1%)\rEpoch: 25.7%  lr: 0.017407  loss: 0.006652  eta: 0h5m  tot: 0h10m41s  (65.1%)\rEpoch: 25.7%  lr: 0.017397  loss: 0.006666  eta: 0h5m  tot: 0h10m42s  (65.1%)\rEpoch: 25.8%  lr: 0.017377  loss: 0.006663  eta: 0h5m  tot: 0h10m42s  (65.2%)\rEpoch: 25.9%  lr: 0.017347  loss: 0.006694  eta: 0h5m  tot: 0h10m42s  (65.2%)\rEpoch: 26.0%  lr: 0.017337  loss: 0.006681  eta: 0h5m  tot: 0h10m42s  (65.2%)\rEpoch: 26.1%  lr: 0.017317  loss: 0.006675  eta: 0h5m  tot: 0h10m42s  (65.2%)\rEpoch: 26.2%  lr: 0.017317  loss: 0.006673  eta: 0h5m  tot: 0h10m42s  (65.2%)\rEpoch: 26.3%  lr: 0.017317  loss: 0.006652  eta: 0h5m  tot: 0h10m43s  (65.3%)\rEpoch: 26.4%  lr: 0.017307  loss: 0.006652  eta: 0h5m  tot: 0h10m43s  (65.3%)\rEpoch: 26.5%  lr: 0.017307  loss: 0.006651  eta: 0h5m  tot: 0h10m43s  (65.3%)\rEpoch: 26.6%  lr: 0.017307  loss: 0.006648  eta: 0h5m  tot: 0h10m43s  (65.3%)\rEpoch: 26.6%  lr: 0.017307  loss: 0.006664  eta: 0h5m  tot: 0h10m43s  (65.3%)\rEpoch: 26.7%  lr: 0.017287  loss: 0.006660  eta: 0h5m  tot: 0h10m43s  (65.3%)\rEpoch: 26.8%  lr: 0.017287  loss: 0.006653  eta: 0h5m  tot: 0h10m44s  (65.4%)\rEpoch: 26.9%  lr: 0.017287  loss: 0.006656  eta: 0h5m  tot: 0h10m44s  (65.4%)\rEpoch: 27.0%  lr: 0.017267  loss: 0.006646  eta: 0h5m  tot: 0h10m44s  (65.4%)\rEpoch: 27.1%  lr: 0.017267  loss: 0.006653  eta: 0h5m  tot: 0h10m44s  (65.4%)\rEpoch: 27.2%  lr: 0.017267  loss: 0.006648  eta: 0h5m  tot: 0h10m44s  (65.4%)\rEpoch: 27.3%  lr: 0.017237  loss: 0.006670  eta: 0h5m  tot: 0h10m45s  (65.5%)\rEpoch: 27.4%  lr: 0.017237  loss: 0.006659  eta: 0h5m  tot: 0h10m45s  (65.5%)\rEpoch: 27.5%  lr: 0.017237  loss: 0.006653  eta: 0h5m  tot: 0h10m45s  (65.5%)\rEpoch: 27.5%  lr: 0.017217  loss: 0.006650  eta: 0h5m  tot: 0h10m45s  (65.5%)\rEpoch: 27.6%  lr: 0.017207  loss: 0.006648  eta: 0h5m  tot: 0h10m45s  (65.5%)\rEpoch: 27.7%  lr: 0.017197  loss: 0.006653  eta: 0h5m  tot: 0h10m45s  (65.5%)\rEpoch: 27.8%  lr: 0.017187  loss: 0.006677  eta: 0h5m  tot: 0h10m46s  (65.6%)\rEpoch: 27.9%  lr: 0.017187  loss: 0.006682  eta: 0h5m  tot: 0h10m46s  (65.6%)\rEpoch: 28.0%  lr: 0.017157  loss: 0.006676  eta: 0h5m  tot: 0h10m46s  (65.6%)\rEpoch: 28.1%  lr: 0.017157  loss: 0.006676  eta: 0h5m  tot: 0h10m46s  (65.6%)\rEpoch: 28.2%  lr: 0.017147  loss: 0.006665  eta: 0h5m  tot: 0h10m46s  (65.6%)\rEpoch: 28.3%  lr: 0.017147  loss: 0.006666  eta: 0h5m  tot: 0h10m46s  (65.7%)\rEpoch: 28.4%  lr: 0.017127  loss: 0.006657  eta: 0h5m  tot: 0h10m47s  (65.7%)\rEpoch: 28.4%  lr: 0.017127  loss: 0.006679  eta: 0h5m  tot: 0h10m47s  (65.7%)\rEpoch: 28.5%  lr: 0.017127  loss: 0.006676  eta: 0h5m  tot: 0h10m47s  (65.7%)\rEpoch: 28.6%  lr: 0.017107  loss: 0.006668  eta: 0h5m  tot: 0h10m47s  (65.7%)\rEpoch: 28.7%  lr: 0.017107  loss: 0.006674  eta: 0h5m  tot: 0h10m47s  (65.7%)\rEpoch: 28.8%  lr: 0.017077  loss: 0.006675  eta: 0h5m  tot: 0h10m48s  (65.8%)\rEpoch: 28.9%  lr: 0.017057  loss: 0.006659  eta: 0h5m  tot: 0h10m48s  (65.8%)\rEpoch: 29.0%  lr: 0.017057  loss: 0.006653  eta: 0h5m  tot: 0h10m48s  (65.8%)\rEpoch: 29.1%  lr: 0.017047  loss: 0.006643  eta: 0h5m  tot: 0h10m48s  (65.8%)\rEpoch: 29.2%  lr: 0.016997  loss: 0.006648  eta: 0h5m  tot: 0h10m48s  (65.8%)\rEpoch: 29.3%  lr: 0.016987  loss: 0.006678  eta: 0h5m  tot: 0h10m48s  (65.9%)\rEpoch: 29.3%  lr: 0.016977  loss: 0.006683  eta: 0h5m  tot: 0h10m49s  (65.9%)\rEpoch: 29.4%  lr: 0.016967  loss: 0.006672  eta: 0h5m  tot: 0h10m49s  (65.9%)\rEpoch: 29.5%  lr: 0.016967  loss: 0.006674  eta: 0h5m  tot: 0h10m49s  (65.9%)\rEpoch: 29.6%  lr: 0.016957  loss: 0.006667  eta: 0h5m  tot: 0h10m49s  (65.9%)\rEpoch: 29.7%  lr: 0.016947  loss: 0.006670  eta: 0h5m  tot: 0h10m49s  (65.9%)\rEpoch: 29.8%  lr: 0.016947  loss: 0.006673  eta: 0h5m  tot: 0h10m49s  (66.0%)\rEpoch: 29.9%  lr: 0.016947  loss: 0.006665  eta: 0h5m  tot: 0h10m50s  (66.0%)\rEpoch: 30.0%  lr: 0.016937  loss: 0.006658  eta: 0h5m  tot: 0h10m50s  (66.0%)\rEpoch: 30.1%  lr: 0.016937  loss: 0.006652  eta: 0h5m  tot: 0h10m50s  (66.0%)\rEpoch: 30.2%  lr: 0.016927  loss: 0.006648  eta: 0h5m  tot: 0h10m50s  (66.0%)\rEpoch: 30.2%  lr: 0.016897  loss: 0.006658  eta: 0h5m  tot: 0h10m50s  (66.0%)\rEpoch: 30.3%  lr: 0.016887  loss: 0.006679  eta: 0h5m  tot: 0h10m51s  (66.1%)\rEpoch: 30.4%  lr: 0.016877  loss: 0.006682  eta: 0h5m  tot: 0h10m51s  (66.1%)\rEpoch: 30.5%  lr: 0.016867  loss: 0.006681  eta: 0h5m  tot: 0h10m51s  (66.1%)\rEpoch: 30.6%  lr: 0.016857  loss: 0.006681  eta: 0h5m  tot: 0h10m51s  (66.1%)\rEpoch: 30.7%  lr: 0.016857  loss: 0.006681  eta: 0h5m  tot: 0h10m51s  (66.1%)\rEpoch: 30.8%  lr: 0.016857  loss: 0.006672  eta: 0h5m  tot: 0h10m51s  (66.2%)\rEpoch: 30.9%  lr: 0.016857  loss: 0.006668  eta: 0h5m  tot: 0h10m52s  (66.2%)\rEpoch: 31.0%  lr: 0.016857  loss: 0.006682  eta: 0h5m  tot: 0h10m52s  (66.2%)\rEpoch: 31.1%  lr: 0.016857  loss: 0.006685  eta: 0h5m  tot: 0h10m52s  (66.2%)\rEpoch: 31.1%  lr: 0.016857  loss: 0.006694  eta: 0h5m  tot: 0h10m52s  (66.2%)\rEpoch: 31.2%  lr: 0.016857  loss: 0.006686  eta: 0h5m  tot: 0h10m52s  (66.2%)\rEpoch: 31.3%  lr: 0.016837  loss: 0.006677  eta: 0h5m  tot: 0h10m52s  (66.3%)\rEpoch: 31.4%  lr: 0.016837  loss: 0.006673  eta: 0h5m  tot: 0h10m53s  (66.3%)\rEpoch: 31.5%  lr: 0.016817  loss: 0.006667  eta: 0h5m  tot: 0h10m53s  (66.3%)\rEpoch: 31.6%  lr: 0.016787  loss: 0.006685  eta: 0h5m  tot: 0h10m53s  (66.3%)\rEpoch: 31.7%  lr: 0.016787  loss: 0.006683  eta: 0h5m  tot: 0h10m53s  (66.3%)\rEpoch: 31.8%  lr: 0.016777  loss: 0.006674  eta: 0h5m  tot: 0h10m53s  (66.4%)\rEpoch: 31.9%  lr: 0.016757  loss: 0.006665  eta: 0h5m  tot: 0h10m53s  (66.4%)\rEpoch: 32.0%  lr: 0.016757  loss: 0.006672  eta: 0h5m  tot: 0h10m54s  (66.4%)\rEpoch: 32.0%  lr: 0.016747  loss: 0.006661  eta: 0h5m  tot: 0h10m54s  (66.4%)\rEpoch: 32.1%  lr: 0.016747  loss: 0.006657  eta: 0h5m  tot: 0h10m54s  (66.4%)\rEpoch: 32.2%  lr: 0.016737  loss: 0.006645  eta: 0h5m  tot: 0h10m54s  (66.4%)\rEpoch: 32.3%  lr: 0.016727  loss: 0.006649  eta: 0h5m  tot: 0h10m54s  (66.5%)\rEpoch: 32.4%  lr: 0.016727  loss: 0.006642  eta: 0h5m  tot: 0h10m54s  (66.5%)\rEpoch: 32.5%  lr: 0.016727  loss: 0.006639  eta: 0h5m  tot: 0h10m55s  (66.5%)\rEpoch: 32.6%  lr: 0.016717  loss: 0.006626  eta: 0h5m  tot: 0h10m55s  (66.5%)\rEpoch: 32.7%  lr: 0.016717  loss: 0.006630  eta: 0h5m  tot: 0h10m55s  (66.5%)\rEpoch: 32.8%  lr: 0.016707  loss: 0.006626  eta: 0h5m  tot: 0h10m55s  (66.6%)\rEpoch: 32.9%  lr: 0.016697  loss: 0.006637  eta: 0h5m  tot: 0h10m55s  (66.6%)\rEpoch: 32.9%  lr: 0.016697  loss: 0.006646  eta: 0h5m  tot: 0h10m55s  (66.6%)\rEpoch: 33.0%  lr: 0.016687  loss: 0.006636  eta: 0h5m  tot: 0h10m56s  (66.6%)\rEpoch: 33.1%  lr: 0.016677  loss: 0.006625  eta: 0h5m  tot: 0h10m56s  (66.6%)\rEpoch: 33.2%  lr: 0.016677  loss: 0.006632  eta: 0h5m  tot: 0h10m56s  (66.6%)\rEpoch: 33.3%  lr: 0.016667  loss: 0.006629  eta: 0h5m  tot: 0h10m56s  (66.7%)\rEpoch: 33.4%  lr: 0.016657  loss: 0.006625  eta: 0h5m  tot: 0h10m56s  (66.7%)\rEpoch: 33.5%  lr: 0.016627  loss: 0.006614  eta: 0h5m  tot: 0h10m57s  (66.7%)\rEpoch: 33.6%  lr: 0.016627  loss: 0.006610  eta: 0h5m  tot: 0h10m57s  (66.7%)\rEpoch: 33.7%  lr: 0.016617  loss: 0.006608  eta: 0h5m  tot: 0h10m57s  (66.7%)\rEpoch: 33.8%  lr: 0.016617  loss: 0.006607  eta: 0h5m  tot: 0h10m57s  (66.8%)\rEpoch: 33.8%  lr: 0.016617  loss: 0.006603  eta: 0h5m  tot: 0h10m57s  (66.8%)\rEpoch: 33.9%  lr: 0.016617  loss: 0.006615  eta: 0h5m  tot: 0h10m57s  (66.8%)\rEpoch: 34.0%  lr: 0.016597  loss: 0.006606  eta: 0h5m  tot: 0h10m58s  (66.8%)\rEpoch: 34.1%  lr: 0.016587  loss: 0.006618  eta: 0h5m  tot: 0h10m58s  (66.8%)\rEpoch: 34.2%  lr: 0.016567  loss: 0.006625  eta: 0h5m  tot: 0h10m58s  (66.8%)\rEpoch: 34.3%  lr: 0.016567  loss: 0.006617  eta: 0h5m  tot: 0h10m58s  (66.9%)\rEpoch: 34.4%  lr: 0.016567  loss: 0.006614  eta: 0h5m  tot: 0h10m58s  (66.9%)\rEpoch: 34.5%  lr: 0.016567  loss: 0.006604  eta: 0h5m  tot: 0h10m58s  (66.9%)\rEpoch: 34.6%  lr: 0.016567  loss: 0.006614  eta: 0h5m  tot: 0h10m59s  (66.9%)\rEpoch: 34.7%  lr: 0.016567  loss: 0.006631  eta: 0h5m  tot: 0h10m59s  (66.9%)\rEpoch: 34.7%  lr: 0.016557  loss: 0.006634  eta: 0h5m  tot: 0h10m59s  (66.9%)\rEpoch: 34.8%  lr: 0.016547  loss: 0.006651  eta: 0h5m  tot: 0h10m59s  (67.0%)\rEpoch: 34.9%  lr: 0.016537  loss: 0.006645  eta: 0h5m  tot: 0h10m59s  (67.0%)\rEpoch: 35.0%  lr: 0.016537  loss: 0.006638  eta: 0h5m  tot: 0h10m59s  (67.0%)\rEpoch: 35.1%  lr: 0.016537  loss: 0.006633  eta: 0h5m  tot: 0h11m0s  (67.0%)\rEpoch: 35.2%  lr: 0.016537  loss: 0.006627  eta: 0h5m  tot: 0h11m0s  (67.0%)\rEpoch: 35.3%  lr: 0.016537  loss: 0.006628  eta: 0h5m  tot: 0h11m0s  (67.1%)\rEpoch: 35.4%  lr: 0.016537  loss: 0.006637  eta: 0h5m  tot: 0h11m0s  (67.1%)\rEpoch: 35.5%  lr: 0.016517  loss: 0.006633  eta: 0h5m  tot: 0h11m0s  (67.1%)\rEpoch: 35.6%  lr: 0.016517  loss: 0.006640  eta: 0h5m  tot: 0h11m1s  (67.1%)\rEpoch: 35.6%  lr: 0.016507  loss: 0.006634  eta: 0h5m  tot: 0h11m1s  (67.1%)\rEpoch: 35.7%  lr: 0.016507  loss: 0.006638  eta: 0h5m  tot: 0h11m1s  (67.1%)\rEpoch: 35.8%  lr: 0.016497  loss: 0.006628  eta: 0h5m  tot: 0h11m1s  (67.2%)\rEpoch: 35.9%  lr: 0.016497  loss: 0.006624  eta: 0h5m  tot: 0h11m1s  (67.2%)\rEpoch: 36.0%  lr: 0.016497  loss: 0.006621  eta: 0h5m  tot: 0h11m1s  (67.2%)\rEpoch: 36.1%  lr: 0.016487  loss: 0.006623  eta: 0h5m  tot: 0h11m2s  (67.2%)\rEpoch: 36.2%  lr: 0.016467  loss: 0.006632  eta: 0h5m  tot: 0h11m2s  (67.2%)\rEpoch: 36.3%  lr: 0.016457  loss: 0.006628  eta: 0h5m  tot: 0h11m2s  (67.3%)\rEpoch: 36.4%  lr: 0.016457  loss: 0.006634  eta: 0h5m  tot: 0h11m2s  (67.3%)\rEpoch: 36.5%  lr: 0.016457  loss: 0.006624  eta: 0h5m  tot: 0h11m2s  (67.3%)\rEpoch: 36.5%  lr: 0.016457  loss: 0.006619  eta: 0h5m  tot: 0h11m2s  (67.3%)\rEpoch: 36.6%  lr: 0.016457  loss: 0.006621  eta: 0h5m  tot: 0h11m3s  (67.3%)\rEpoch: 36.7%  lr: 0.016457  loss: 0.006611  eta: 0h5m  tot: 0h11m3s  (67.3%)\rEpoch: 36.8%  lr: 0.016447  loss: 0.006617  eta: 0h5m  tot: 0h11m3s  (67.4%)\rEpoch: 36.9%  lr: 0.016447  loss: 0.006655  eta: 0h5m  tot: 0h11m3s  (67.4%)\rEpoch: 37.0%  lr: 0.016447  loss: 0.006652  eta: 0h5m  tot: 0h11m3s  (67.4%)\rEpoch: 37.1%  lr: 0.016436  loss: 0.006646  eta: 0h5m  tot: 0h11m3s  (67.4%)\rEpoch: 37.2%  lr: 0.016436  loss: 0.006644  eta: 0h5m  tot: 0h11m4s  (67.4%)\rEpoch: 37.3%  lr: 0.016426  loss: 0.006661  eta: 0h5m  tot: 0h11m4s  (67.5%)\rEpoch: 37.4%  lr: 0.016406  loss: 0.006659  eta: 0h5m  tot: 0h11m4s  (67.5%)\rEpoch: 37.4%  lr: 0.016406  loss: 0.006658  eta: 0h5m  tot: 0h11m4s  (67.5%)\rEpoch: 37.5%  lr: 0.016406  loss: 0.006663  eta: 0h5m  tot: 0h11m4s  (67.5%)\rEpoch: 37.6%  lr: 0.016406  loss: 0.006652  eta: 0h5m  tot: 0h11m4s  (67.5%)\rEpoch: 37.7%  lr: 0.016396  loss: 0.006654  eta: 0h5m  tot: 0h11m5s  (67.5%)\rEpoch: 37.8%  lr: 0.016396  loss: 0.006653  eta: 0h5m  tot: 0h11m5s  (67.6%)\rEpoch: 37.9%  lr: 0.016386  loss: 0.006650  eta: 0h5m  tot: 0h11m5s  (67.6%)\rEpoch: 38.0%  lr: 0.016366  loss: 0.006651  eta: 0h5m  tot: 0h11m5s  (67.6%)\rEpoch: 38.1%  lr: 0.016346  loss: 0.006651  eta: 0h5m  tot: 0h11m5s  (67.6%)\rEpoch: 38.2%  lr: 0.016336  loss: 0.006668  eta: 0h5m  tot: 0h11m5s  (67.6%)\rEpoch: 38.3%  lr: 0.016326  loss: 0.006678  eta: 0h5m  tot: 0h11m6s  (67.7%)\rEpoch: 38.3%  lr: 0.016326  loss: 0.006672  eta: 0h5m  tot: 0h11m6s  (67.7%)\rEpoch: 38.4%  lr: 0.016306  loss: 0.006669  eta: 0h5m  tot: 0h11m6s  (67.7%)\rEpoch: 38.5%  lr: 0.016286  loss: 0.006666  eta: 0h5m  tot: 0h11m6s  (67.7%)\rEpoch: 38.6%  lr: 0.016276  loss: 0.006672  eta: 0h5m  tot: 0h11m6s  (67.7%)\rEpoch: 38.7%  lr: 0.016276  loss: 0.006672  eta: 0h5m  tot: 0h11m6s  (67.7%)\rEpoch: 38.8%  lr: 0.016266  loss: 0.006672  eta: 0h5m  tot: 0h11m7s  (67.8%)\rEpoch: 38.9%  lr: 0.016266  loss: 0.006670  eta: 0h5m  tot: 0h11m7s  (67.8%)\rEpoch: 39.0%  lr: 0.016266  loss: 0.006667  eta: 0h5m  tot: 0h11m7s  (67.8%)\rEpoch: 39.1%  lr: 0.016246  loss: 0.006671  eta: 0h5m  tot: 0h11m7s  (67.8%)\rEpoch: 39.2%  lr: 0.016236  loss: 0.006672  eta: 0h5m  tot: 0h11m7s  (67.8%)\rEpoch: 39.2%  lr: 0.016236  loss: 0.006671  eta: 0h5m  tot: 0h11m7s  (67.8%)\rEpoch: 39.3%  lr: 0.016236  loss: 0.006670  eta: 0h5m  tot: 0h11m8s  (67.9%)\rEpoch: 39.4%  lr: 0.016236  loss: 0.006697  eta: 0h5m  tot: 0h11m8s  (67.9%)\rEpoch: 39.5%  lr: 0.016236  loss: 0.006687  eta: 0h5m  tot: 0h11m8s  (67.9%)\rEpoch: 39.6%  lr: 0.016226  loss: 0.006698  eta: 0h5m  tot: 0h11m8s  (67.9%)\rEpoch: 39.7%  lr: 0.016206  loss: 0.006711  eta: 0h5m  tot: 0h11m8s  (67.9%)\rEpoch: 39.8%  lr: 0.016206  loss: 0.006720  eta: 0h5m  tot: 0h11m9s  (68.0%)\rEpoch: 39.9%  lr: 0.016196  loss: 0.006709  eta: 0h5m  tot: 0h11m9s  (68.0%)\rEpoch: 40.0%  lr: 0.016176  loss: 0.006704  eta: 0h5m  tot: 0h11m9s  (68.0%)\rEpoch: 40.1%  lr: 0.016176  loss: 0.006711  eta: 0h5m  tot: 0h11m9s  (68.0%)\rEpoch: 40.1%  lr: 0.016156  loss: 0.006707  eta: 0h5m  tot: 0h11m9s  (68.0%)\rEpoch: 40.2%  lr: 0.016136  loss: 0.006708  eta: 0h5m  tot: 0h11m9s  (68.0%)\rEpoch: 40.3%  lr: 0.016126  loss: 0.006705  eta: 0h5m  tot: 0h11m10s  (68.1%)\rEpoch: 40.4%  lr: 0.016126  loss: 0.006714  eta: 0h4m  tot: 0h11m10s  (68.1%)\rEpoch: 40.5%  lr: 0.016116  loss: 0.006726  eta: 0h4m  tot: 0h11m10s  (68.1%)\rEpoch: 40.6%  lr: 0.016106  loss: 0.006718  eta: 0h4m  tot: 0h11m10s  (68.1%)\rEpoch: 40.7%  lr: 0.016106  loss: 0.006718  eta: 0h4m  tot: 0h11m10s  (68.1%)\rEpoch: 40.8%  lr: 0.016076  loss: 0.006718  eta: 0h4m  tot: 0h11m10s  (68.2%)\rEpoch: 40.9%  lr: 0.016066  loss: 0.006717  eta: 0h4m  tot: 0h11m11s  (68.2%)\rEpoch: 41.0%  lr: 0.016056  loss: 0.006716  eta: 0h4m  tot: 0h11m11s  (68.2%)\rEpoch: 41.0%  lr: 0.016056  loss: 0.006716  eta: 0h4m  tot: 0h11m11s  (68.2%)\rEpoch: 41.1%  lr: 0.016056  loss: 0.006712  eta: 0h4m  tot: 0h11m11s  (68.2%)\rEpoch: 41.2%  lr: 0.016036  loss: 0.006699  eta: 0h4m  tot: 0h11m11s  (68.2%)\rEpoch: 41.3%  lr: 0.016036  loss: 0.006708  eta: 0h4m  tot: 0h11m11s  (68.3%)\rEpoch: 41.4%  lr: 0.016036  loss: 0.006705  eta: 0h4m  tot: 0h11m12s  (68.3%)\rEpoch: 41.5%  lr: 0.016036  loss: 0.006694  eta: 0h4m  tot: 0h11m12s  (68.3%)\rEpoch: 41.6%  lr: 0.016036  loss: 0.006689  eta: 0h4m  tot: 0h11m12s  (68.3%)\rEpoch: 41.7%  lr: 0.016026  loss: 0.006688  eta: 0h4m  tot: 0h11m12s  (68.3%)\rEpoch: 41.8%  lr: 0.016016  loss: 0.006686  eta: 0h4m  tot: 0h11m12s  (68.4%)\rEpoch: 41.9%  lr: 0.015986  loss: 0.006674  eta: 0h4m  tot: 0h11m12s  (68.4%)\rEpoch: 41.9%  lr: 0.015976  loss: 0.006675  eta: 0h4m  tot: 0h11m13s  (68.4%)\rEpoch: 42.0%  lr: 0.015976  loss: 0.006678  eta: 0h4m  tot: 0h11m13s  (68.4%)\rEpoch: 42.1%  lr: 0.015976  loss: 0.006669  eta: 0h4m  tot: 0h11m13s  (68.4%)\rEpoch: 42.2%  lr: 0.015976  loss: 0.006658  eta: 0h4m  tot: 0h11m13s  (68.4%)\rEpoch: 42.3%  lr: 0.015966  loss: 0.006659  eta: 0h4m  tot: 0h11m13s  (68.5%)\rEpoch: 42.4%  lr: 0.015956  loss: 0.006662  eta: 0h4m  tot: 0h11m13s  (68.5%)\rEpoch: 42.5%  lr: 0.015956  loss: 0.006655  eta: 0h4m  tot: 0h11m14s  (68.5%)\rEpoch: 42.6%  lr: 0.015936  loss: 0.006653  eta: 0h4m  tot: 0h11m14s  (68.5%)\rEpoch: 42.7%  lr: 0.015926  loss: 0.006650  eta: 0h4m  tot: 0h11m14s  (68.5%)\rEpoch: 42.8%  lr: 0.015916  loss: 0.006649  eta: 0h4m  tot: 0h11m14s  (68.6%)\rEpoch: 42.8%  lr: 0.015916  loss: 0.006643  eta: 0h4m  tot: 0h11m14s  (68.6%)\rEpoch: 42.9%  lr: 0.015906  loss: 0.006642  eta: 0h4m  tot: 0h11m14s  (68.6%)\rEpoch: 43.0%  lr: 0.015906  loss: 0.006648  eta: 0h4m  tot: 0h11m15s  (68.6%)\rEpoch: 43.1%  lr: 0.015906  loss: 0.006641  eta: 0h4m  tot: 0h11m15s  (68.6%)\rEpoch: 43.2%  lr: 0.015886  loss: 0.006637  eta: 0h4m  tot: 0h11m15s  (68.6%)\rEpoch: 43.3%  lr: 0.015876  loss: 0.006648  eta: 0h4m  tot: 0h11m15s  (68.7%)\rEpoch: 43.4%  lr: 0.015866  loss: 0.006662  eta: 0h4m  tot: 0h11m15s  (68.7%)\rEpoch: 43.5%  lr: 0.015856  loss: 0.006655  eta: 0h4m  tot: 0h11m15s  (68.7%)\rEpoch: 43.6%  lr: 0.015856  loss: 0.006652  eta: 0h4m  tot: 0h11m16s  (68.7%)\rEpoch: 43.7%  lr: 0.015846  loss: 0.006648  eta: 0h4m  tot: 0h11m16s  (68.7%)\rEpoch: 43.7%  lr: 0.015846  loss: 0.006649  eta: 0h4m  tot: 0h11m16s  (68.7%)\rEpoch: 43.8%  lr: 0.015846  loss: 0.006652  eta: 0h4m  tot: 0h11m16s  (68.8%)\rEpoch: 43.9%  lr: 0.015846  loss: 0.006647  eta: 0h4m  tot: 0h11m16s  (68.8%)\rEpoch: 44.0%  lr: 0.015816  loss: 0.006647  eta: 0h4m  tot: 0h11m17s  (68.8%)\rEpoch: 44.1%  lr: 0.015796  loss: 0.006648  eta: 0h4m  tot: 0h11m17s  (68.8%)\rEpoch: 44.2%  lr: 0.015786  loss: 0.006657  eta: 0h4m  tot: 0h11m17s  (68.8%)\rEpoch: 44.3%  lr: 0.015786  loss: 0.006658  eta: 0h4m  tot: 0h11m17s  (68.9%)\rEpoch: 44.4%  lr: 0.015746  loss: 0.006662  eta: 0h4m  tot: 0h11m17s  (68.9%)\rEpoch: 44.5%  lr: 0.015746  loss: 0.006658  eta: 0h4m  tot: 0h11m17s  (68.9%)\rEpoch: 44.6%  lr: 0.015736  loss: 0.006652  eta: 0h4m  tot: 0h11m18s  (68.9%)\rEpoch: 44.6%  lr: 0.015736  loss: 0.006646  eta: 0h4m  tot: 0h11m18s  (68.9%)\rEpoch: 44.7%  lr: 0.015726  loss: 0.006663  eta: 0h4m  tot: 0h11m18s  (68.9%)\rEpoch: 44.8%  lr: 0.015706  loss: 0.006657  eta: 0h4m  tot: 0h11m18s  (69.0%)\rEpoch: 44.9%  lr: 0.015696  loss: 0.006651  eta: 0h4m  tot: 0h11m18s  (69.0%)\rEpoch: 45.0%  lr: 0.015676  loss: 0.006656  eta: 0h4m  tot: 0h11m18s  (69.0%)\rEpoch: 45.1%  lr: 0.015676  loss: 0.006652  eta: 0h4m  tot: 0h11m19s  (69.0%)\rEpoch: 45.2%  lr: 0.015676  loss: 0.006650  eta: 0h4m  tot: 0h11m19s  (69.0%)\rEpoch: 45.3%  lr: 0.015676  loss: 0.006654  eta: 0h4m  tot: 0h11m19s  (69.1%)\rEpoch: 45.4%  lr: 0.015636  loss: 0.006653  eta: 0h4m  tot: 0h11m19s  (69.1%)\rEpoch: 45.5%  lr: 0.015616  loss: 0.006659  eta: 0h4m  tot: 0h11m19s  (69.1%)\rEpoch: 45.5%  lr: 0.015586  loss: 0.006653  eta: 0h4m  tot: 0h11m19s  (69.1%)\rEpoch: 45.6%  lr: 0.015586  loss: 0.006668  eta: 0h4m  tot: 0h11m20s  (69.1%)\rEpoch: 45.7%  lr: 0.015586  loss: 0.006659  eta: 0h4m  tot: 0h11m20s  (69.1%)\rEpoch: 45.8%  lr: 0.015586  loss: 0.006657  eta: 0h4m  tot: 0h11m20s  (69.2%)\rEpoch: 45.9%  lr: 0.015586  loss: 0.006657  eta: 0h4m  tot: 0h11m20s  (69.2%)\rEpoch: 46.0%  lr: 0.015586  loss: 0.006649  eta: 0h4m  tot: 0h11m20s  (69.2%)\rEpoch: 46.1%  lr: 0.015586  loss: 0.006650  eta: 0h4m  tot: 0h11m20s  (69.2%)\rEpoch: 46.2%  lr: 0.015586  loss: 0.006655  eta: 0h4m  tot: 0h11m21s  (69.2%)\rEpoch: 46.3%  lr: 0.015586  loss: 0.006656  eta: 0h4m  tot: 0h11m21s  (69.3%)\rEpoch: 46.4%  lr: 0.015576  loss: 0.006650  eta: 0h4m  tot: 0h11m21s  (69.3%)\rEpoch: 46.4%  lr: 0.015556  loss: 0.006687  eta: 0h4m  tot: 0h11m21s  (69.3%)\rEpoch: 46.5%  lr: 0.015546  loss: 0.006685  eta: 0h4m  tot: 0h11m21s  (69.3%)\rEpoch: 46.6%  lr: 0.015526  loss: 0.006692  eta: 0h4m  tot: 0h11m21s  (69.3%)\rEpoch: 46.7%  lr: 0.015526  loss: 0.006688  eta: 0h4m  tot: 0h11m22s  (69.3%)\rEpoch: 46.8%  lr: 0.015506  loss: 0.006692  eta: 0h4m  tot: 0h11m22s  (69.4%)\rEpoch: 46.9%  lr: 0.015486  loss: 0.006690  eta: 0h4m  tot: 0h11m22s  (69.4%)\rEpoch: 47.0%  lr: 0.015466  loss: 0.006687  eta: 0h4m  tot: 0h11m22s  (69.4%)\rEpoch: 47.1%  lr: 0.015466  loss: 0.006710  eta: 0h4m  tot: 0h11m22s  (69.4%)\rEpoch: 47.2%  lr: 0.015466  loss: 0.006713  eta: 0h4m  tot: 0h11m22s  (69.4%)\rEpoch: 47.3%  lr: 0.015456  loss: 0.006726  eta: 0h4m  tot: 0h11m23s  (69.5%)\rEpoch: 47.3%  lr: 0.015456  loss: 0.006719  eta: 0h4m  tot: 0h11m23s  (69.5%)\rEpoch: 47.4%  lr: 0.015456  loss: 0.006717  eta: 0h4m  tot: 0h11m23s  (69.5%)\rEpoch: 47.5%  lr: 0.015456  loss: 0.006729  eta: 0h4m  tot: 0h11m23s  (69.5%)\rEpoch: 47.6%  lr: 0.015456  loss: 0.006726  eta: 0h4m  tot: 0h11m23s  (69.5%)\rEpoch: 47.7%  lr: 0.015456  loss: 0.006729  eta: 0h4m  tot: 0h11m23s  (69.5%)\rEpoch: 47.8%  lr: 0.015456  loss: 0.006725  eta: 0h4m  tot: 0h11m24s  (69.6%)\rEpoch: 47.9%  lr: 0.015425  loss: 0.006720  eta: 0h4m  tot: 0h11m24s  (69.6%)\rEpoch: 48.0%  lr: 0.015425  loss: 0.006726  eta: 0h4m  tot: 0h11m24s  (69.6%)\rEpoch: 48.1%  lr: 0.015405  loss: 0.006726  eta: 0h4m  tot: 0h11m24s  (69.6%)\rEpoch: 48.2%  lr: 0.015405  loss: 0.006735  eta: 0h4m  tot: 0h11m24s  (69.6%)\rEpoch: 48.2%  lr: 0.015375  loss: 0.006734  eta: 0h4m  tot: 0h11m24s  (69.6%)\rEpoch: 48.3%  lr: 0.015365  loss: 0.006729  eta: 0h4m  tot: 0h11m25s  (69.7%)\rEpoch: 48.4%  lr: 0.015345  loss: 0.006727  eta: 0h4m  tot: 0h11m25s  (69.7%)\rEpoch: 48.5%  lr: 0.015335  loss: 0.006734  eta: 0h4m  tot: 0h11m25s  (69.7%)\rEpoch: 48.6%  lr: 0.015335  loss: 0.006748  eta: 0h4m  tot: 0h11m25s  (69.7%)\rEpoch: 48.7%  lr: 0.015325  loss: 0.006738  eta: 0h4m  tot: 0h11m25s  (69.7%)\rEpoch: 48.8%  lr: 0.015325  loss: 0.006743  eta: 0h4m  tot: 0h11m25s  (69.8%)\rEpoch: 48.9%  lr: 0.015315  loss: 0.006748  eta: 0h4m  tot: 0h11m26s  (69.8%)\rEpoch: 49.0%  lr: 0.015315  loss: 0.006751  eta: 0h4m  tot: 0h11m26s  (69.8%)\rEpoch: 49.1%  lr: 0.015315  loss: 0.006752  eta: 0h4m  tot: 0h11m26s  (69.8%)\rEpoch: 49.1%  lr: 0.015305  loss: 0.006756  eta: 0h4m  tot: 0h11m26s  (69.8%)\rEpoch: 49.2%  lr: 0.015305  loss: 0.006754  eta: 0h4m  tot: 0h11m26s  (69.8%)\rEpoch: 49.3%  lr: 0.015295  loss: 0.006750  eta: 0h4m  tot: 0h11m26s  (69.9%)\rEpoch: 49.4%  lr: 0.015295  loss: 0.006753  eta: 0h4m  tot: 0h11m27s  (69.9%)\rEpoch: 49.5%  lr: 0.015285  loss: 0.006749  eta: 0h4m  tot: 0h11m27s  (69.9%)\rEpoch: 49.6%  lr: 0.015265  loss: 0.006741  eta: 0h4m  tot: 0h11m27s  (69.9%)\rEpoch: 49.7%  lr: 0.015235  loss: 0.006744  eta: 0h4m  tot: 0h11m27s  (69.9%)\rEpoch: 49.8%  lr: 0.015235  loss: 0.006741  eta: 0h4m  tot: 0h11m27s  (70.0%)\rEpoch: 49.9%  lr: 0.015225  loss: 0.006735  eta: 0h4m  tot: 0h11m27s  (70.0%)\rEpoch: 50.0%  lr: 0.015215  loss: 0.006737  eta: 0h4m  tot: 0h11m27s  (70.0%)\rEpoch: 50.0%  lr: 0.015215  loss: 0.006746  eta: 0h4m  tot: 0h11m28s  (70.0%)\rEpoch: 50.1%  lr: 0.015215  loss: 0.006749  eta: 0h4m  tot: 0h11m28s  (70.0%)\rEpoch: 50.2%  lr: 0.015185  loss: 0.006744  eta: 0h4m  tot: 0h11m28s  (70.0%)\rEpoch: 50.3%  lr: 0.015175  loss: 0.006741  eta: 0h4m  tot: 0h11m28s  (70.1%)\rEpoch: 50.4%  lr: 0.015165  loss: 0.006744  eta: 0h4m  tot: 0h11m28s  (70.1%)\rEpoch: 50.5%  lr: 0.015155  loss: 0.006742  eta: 0h4m  tot: 0h11m29s  (70.1%)\rEpoch: 50.6%  lr: 0.015135  loss: 0.006747  eta: 0h4m  tot: 0h11m29s  (70.1%)\rEpoch: 50.7%  lr: 0.015125  loss: 0.006741  eta: 0h4m  tot: 0h11m29s  (70.1%)\rEpoch: 50.8%  lr: 0.015115  loss: 0.006738  eta: 0h4m  tot: 0h11m29s  (70.2%)\rEpoch: 50.9%  lr: 0.015105  loss: 0.006737  eta: 0h4m  tot: 0h11m29s  (70.2%)\rEpoch: 50.9%  lr: 0.015095  loss: 0.006731  eta: 0h4m  tot: 0h11m29s  (70.2%)\rEpoch: 51.0%  lr: 0.015075  loss: 0.006726  eta: 0h4m  tot: 0h11m30s  (70.2%)\rEpoch: 51.1%  lr: 0.015075  loss: 0.006734  eta: 0h4m  tot: 0h11m30s  (70.2%)\rEpoch: 51.2%  lr: 0.015055  loss: 0.006729  eta: 0h4m  tot: 0h11m30s  (70.2%)\rEpoch: 51.3%  lr: 0.015045  loss: 0.006731  eta: 0h4m  tot: 0h11m30s  (70.3%)\rEpoch: 51.4%  lr: 0.015035  loss: 0.006731  eta: 0h4m  tot: 0h11m30s  (70.3%)\rEpoch: 51.5%  lr: 0.015035  loss: 0.006733  eta: 0h4m  tot: 0h11m30s  (70.3%)\rEpoch: 51.6%  lr: 0.015035  loss: 0.006735  eta: 0h4m  tot: 0h11m31s  (70.3%)\rEpoch: 51.7%  lr: 0.015035  loss: 0.006737  eta: 0h4m  tot: 0h11m31s  (70.3%)\rEpoch: 51.8%  lr: 0.015025  loss: 0.006737  eta: 0h4m  tot: 0h11m31s  (70.4%)\rEpoch: 51.8%  lr: 0.015015  loss: 0.006730  eta: 0h4m  tot: 0h11m31s  (70.4%)\rEpoch: 51.9%  lr: 0.015015  loss: 0.006721  eta: 0h4m  tot: 0h11m31s  (70.4%)\rEpoch: 52.0%  lr: 0.015005  loss: 0.006727  eta: 0h4m  tot: 0h11m31s  (70.4%)\rEpoch: 52.1%  lr: 0.015005  loss: 0.006728  eta: 0h4m  tot: 0h11m31s  (70.4%)\rEpoch: 52.2%  lr: 0.014975  loss: 0.006722  eta: 0h4m  tot: 0h11m32s  (70.4%)\rEpoch: 52.3%  lr: 0.014975  loss: 0.006724  eta: 0h4m  tot: 0h11m32s  (70.5%)\rEpoch: 52.4%  lr: 0.014965  loss: 0.006722  eta: 0h4m  tot: 0h11m32s  (70.5%)\rEpoch: 52.5%  lr: 0.014955  loss: 0.006749  eta: 0h4m  tot: 0h11m32s  (70.5%)\rEpoch: 52.6%  lr: 0.014955  loss: 0.006752  eta: 0h4m  tot: 0h11m32s  (70.5%)\rEpoch: 52.7%  lr: 0.014945  loss: 0.006748  eta: 0h4m  tot: 0h11m33s  (70.5%)\rEpoch: 52.8%  lr: 0.014935  loss: 0.006762  eta: 0h4m  tot: 0h11m33s  (70.6%)\rEpoch: 52.8%  lr: 0.014915  loss: 0.006755  eta: 0h4m  tot: 0h11m33s  (70.6%)\rEpoch: 52.9%  lr: 0.014885  loss: 0.006759  eta: 0h4m  tot: 0h11m33s  (70.6%)\rEpoch: 53.0%  lr: 0.014885  loss: 0.006755  eta: 0h4m  tot: 0h11m33s  (70.6%)\rEpoch: 53.1%  lr: 0.014885  loss: 0.006754  eta: 0h4m  tot: 0h11m33s  (70.6%)\rEpoch: 53.2%  lr: 0.014865  loss: 0.006753  eta: 0h4m  tot: 0h11m34s  (70.6%)\rEpoch: 53.3%  lr: 0.014865  loss: 0.006755  eta: 0h4m  tot: 0h11m34s  (70.7%)\rEpoch: 53.4%  lr: 0.014865  loss: 0.006761  eta: 0h4m  tot: 0h11m34s  (70.7%)\rEpoch: 53.5%  lr: 0.014845  loss: 0.006758  eta: 0h4m  tot: 0h11m34s  (70.7%)\rEpoch: 53.6%  lr: 0.014845  loss: 0.006750  eta: 0h4m  tot: 0h11m34s  (70.7%)\rEpoch: 53.7%  lr: 0.014835  loss: 0.006753  eta: 0h4m  tot: 0h11m34s  (70.7%)\rEpoch: 53.7%  lr: 0.014835  loss: 0.006745  eta: 0h4m  tot: 0h11m34s  (70.7%)\rEpoch: 53.8%  lr: 0.014835  loss: 0.006750  eta: 0h4m  tot: 0h11m35s  (70.8%)\rEpoch: 53.9%  lr: 0.014835  loss: 0.006750  eta: 0h4m  tot: 0h11m35s  (70.8%)\rEpoch: 54.0%  lr: 0.014835  loss: 0.006759  eta: 0h4m  tot: 0h11m35s  (70.8%)\rEpoch: 54.1%  lr: 0.014825  loss: 0.006764  eta: 0h4m  tot: 0h11m35s  (70.8%)\rEpoch: 54.2%  lr: 0.014815  loss: 0.006758  eta: 0h4m  tot: 0h11m35s  (70.8%)\rEpoch: 54.3%  lr: 0.014805  loss: 0.006752  eta: 0h4m  tot: 0h11m35s  (70.9%)\rEpoch: 54.4%  lr: 0.014795  loss: 0.006752  eta: 0h4m  tot: 0h11m36s  (70.9%)\rEpoch: 54.5%  lr: 0.014795  loss: 0.006755  eta: 0h4m  tot: 0h11m36s  (70.9%)\rEpoch: 54.6%  lr: 0.014795  loss: 0.006753  eta: 0h4m  tot: 0h11m36s  (70.9%)\rEpoch: 54.6%  lr: 0.014785  loss: 0.006758  eta: 0h4m  tot: 0h11m36s  (70.9%)\rEpoch: 54.7%  lr: 0.014785  loss: 0.006753  eta: 0h4m  tot: 0h11m36s  (70.9%)\rEpoch: 54.8%  lr: 0.014785  loss: 0.006748  eta: 0h4m  tot: 0h11m36s  (71.0%)\rEpoch: 54.9%  lr: 0.014775  loss: 0.006746  eta: 0h4m  tot: 0h11m37s  (71.0%)\rEpoch: 55.0%  lr: 0.014765  loss: 0.006744  eta: 0h4m  tot: 0h11m37s  (71.0%)\rEpoch: 55.1%  lr: 0.014745  loss: 0.006736  eta: 0h4m  tot: 0h11m37s  (71.0%)\rEpoch: 55.2%  lr: 0.014745  loss: 0.006740  eta: 0h4m  tot: 0h11m37s  (71.0%)\rEpoch: 55.3%  lr: 0.014735  loss: 0.006732  eta: 0h4m  tot: 0h11m37s  (71.1%)\rEpoch: 55.4%  lr: 0.014725  loss: 0.006731  eta: 0h4m  tot: 0h11m37s  (71.1%)\rEpoch: 55.5%  lr: 0.014715  loss: 0.006750  eta: 0h4m  tot: 0h11m38s  (71.1%)\rEpoch: 55.5%  lr: 0.014715  loss: 0.006759  eta: 0h4m  tot: 0h11m38s  (71.1%)\rEpoch: 55.6%  lr: 0.014715  loss: 0.006757  eta: 0h4m  tot: 0h11m38s  (71.1%)\rEpoch: 55.7%  lr: 0.014715  loss: 0.006757  eta: 0h4m  tot: 0h11m38s  (71.1%)\rEpoch: 55.8%  lr: 0.014695  loss: 0.006758  eta: 0h4m  tot: 0h11m38s  (71.2%)\rEpoch: 55.9%  lr: 0.014695  loss: 0.006762  eta: 0h4m  tot: 0h11m38s  (71.2%)\rEpoch: 56.0%  lr: 0.014695  loss: 0.006760  eta: 0h4m  tot: 0h11m39s  (71.2%)\rEpoch: 56.1%  lr: 0.014695  loss: 0.006757  eta: 0h4m  tot: 0h11m39s  (71.2%)\rEpoch: 56.2%  lr: 0.014675  loss: 0.006750  eta: 0h4m  tot: 0h11m39s  (71.2%)\rEpoch: 56.3%  lr: 0.014635  loss: 0.006741  eta: 0h4m  tot: 0h11m39s  (71.3%)\rEpoch: 56.4%  lr: 0.014625  loss: 0.006744  eta: 0h4m  tot: 0h11m39s  (71.3%)\rEpoch: 56.4%  lr: 0.014625  loss: 0.006746  eta: 0h4m  tot: 0h11m39s  (71.3%)\rEpoch: 56.5%  lr: 0.014615  loss: 0.006743  eta: 0h4m  tot: 0h11m40s  (71.3%)\rEpoch: 56.6%  lr: 0.014585  loss: 0.006738  eta: 0h4m  tot: 0h11m40s  (71.3%)\rEpoch: 56.7%  lr: 0.014575  loss: 0.006740  eta: 0h4m  tot: 0h11m40s  (71.3%)\rEpoch: 56.8%  lr: 0.014565  loss: 0.006739  eta: 0h4m  tot: 0h11m40s  (71.4%)\rEpoch: 56.9%  lr: 0.014545  loss: 0.006736  eta: 0h4m  tot: 0h11m40s  (71.4%)\rEpoch: 57.0%  lr: 0.014535  loss: 0.006729  eta: 0h4m  tot: 0h11m40s  (71.4%)\rEpoch: 57.1%  lr: 0.014515  loss: 0.006728  eta: 0h4m  tot: 0h11m40s  (71.4%)\rEpoch: 57.2%  lr: 0.014495  loss: 0.006731  eta: 0h4m  tot: 0h11m41s  (71.4%)\rEpoch: 57.3%  lr: 0.014495  loss: 0.006734  eta: 0h4m  tot: 0h11m41s  (71.5%)\rEpoch: 57.3%  lr: 0.014475  loss: 0.006729  eta: 0h4m  tot: 0h11m41s  (71.5%)\rEpoch: 57.4%  lr: 0.014465  loss: 0.006738  eta: 0h4m  tot: 0h11m41s  (71.5%)\rEpoch: 57.5%  lr: 0.014455  loss: 0.006734  eta: 0h4m  tot: 0h11m41s  (71.5%)\rEpoch: 57.6%  lr: 0.014455  loss: 0.006734  eta: 0h4m  tot: 0h11m41s  (71.5%)\rEpoch: 57.7%  lr: 0.014455  loss: 0.006731  eta: 0h4m  tot: 0h11m42s  (71.5%)\rEpoch: 57.8%  lr: 0.014445  loss: 0.006727  eta: 0h4m  tot: 0h11m42s  (71.6%)\rEpoch: 57.9%  lr: 0.014445  loss: 0.006727  eta: 0h4m  tot: 0h11m42s  (71.6%)\rEpoch: 58.0%  lr: 0.014435  loss: 0.006719  eta: 0h4m  tot: 0h11m42s  (71.6%)\rEpoch: 58.1%  lr: 0.014435  loss: 0.006716  eta: 0h4m  tot: 0h11m42s  (71.6%)\rEpoch: 58.2%  lr: 0.014425  loss: 0.006713  eta: 0h4m  tot: 0h11m42s  (71.6%)\rEpoch: 58.2%  lr: 0.014404  loss: 0.006712  eta: 0h4m  tot: 0h11m43s  (71.6%)\rEpoch: 58.3%  lr: 0.014404  loss: 0.006716  eta: 0h4m  tot: 0h11m43s  (71.7%)\rEpoch: 58.4%  lr: 0.014384  loss: 0.006725  eta: 0h4m  tot: 0h11m43s  (71.7%)\rEpoch: 58.5%  lr: 0.014384  loss: 0.006722  eta: 0h4m  tot: 0h11m43s  (71.7%)\rEpoch: 58.6%  lr: 0.014384  loss: 0.006719  eta: 0h4m  tot: 0h11m43s  (71.7%)\rEpoch: 58.7%  lr: 0.014354  loss: 0.006715  eta: 0h4m  tot: 0h11m43s  (71.7%)\rEpoch: 58.8%  lr: 0.014354  loss: 0.006711  eta: 0h4m  tot: 0h11m44s  (71.8%)\rEpoch: 58.9%  lr: 0.014314  loss: 0.006706  eta: 0h4m  tot: 0h11m44s  (71.8%)\rEpoch: 59.0%  lr: 0.014294  loss: 0.006713  eta: 0h4m  tot: 0h11m44s  (71.8%)\rEpoch: 59.1%  lr: 0.014274  loss: 0.006715  eta: 0h4m  tot: 0h11m44s  (71.8%)\rEpoch: 59.1%  lr: 0.014254  loss: 0.006720  eta: 0h4m  tot: 0h11m44s  (71.8%)\rEpoch: 59.2%  lr: 0.014254  loss: 0.006719  eta: 0h4m  tot: 0h11m44s  (71.8%)\rEpoch: 59.3%  lr: 0.014244  loss: 0.006727  eta: 0h4m  tot: 0h11m45s  (71.9%)\rEpoch: 59.4%  lr: 0.014244  loss: 0.006721  eta: 0h4m  tot: 0h11m45s  (71.9%)\rEpoch: 59.5%  lr: 0.014244  loss: 0.006717  eta: 0h4m  tot: 0h11m45s  (71.9%)\rEpoch: 59.6%  lr: 0.014244  loss: 0.006727  eta: 0h4m  tot: 0h11m45s  (71.9%)\rEpoch: 59.7%  lr: 0.014214  loss: 0.006729  eta: 0h4m  tot: 0h11m45s  (71.9%)\rEpoch: 59.8%  lr: 0.014184  loss: 0.006738  eta: 0h4m  tot: 0h11m45s  (72.0%)\rEpoch: 59.9%  lr: 0.014184  loss: 0.006732  eta: 0h4m  tot: 0h11m46s  (72.0%)\rEpoch: 60.0%  lr: 0.014184  loss: 0.006743  eta: 0h4m  tot: 0h11m46s  (72.0%)\rEpoch: 60.0%  lr: 0.014174  loss: 0.006740  eta: 0h4m  tot: 0h11m46s  (72.0%)\rEpoch: 60.1%  lr: 0.014164  loss: 0.006741  eta: 0h4m  tot: 0h11m46s  (72.0%)\rEpoch: 60.2%  lr: 0.014154  loss: 0.006751  eta: 0h4m  tot: 0h11m46s  (72.0%)\rEpoch: 60.3%  lr: 0.014154  loss: 0.006745  eta: 0h4m  tot: 0h11m46s  (72.1%)\rEpoch: 60.4%  lr: 0.014134  loss: 0.006749  eta: 0h4m  tot: 0h11m47s  (72.1%)\rEpoch: 60.5%  lr: 0.014114  loss: 0.006751  eta: 0h4m  tot: 0h11m47s  (72.1%)\rEpoch: 60.6%  lr: 0.014094  loss: 0.006748  eta: 0h4m  tot: 0h11m47s  (72.1%)\rEpoch: 60.7%  lr: 0.014094  loss: 0.006756  eta: 0h4m  tot: 0h11m47s  (72.1%)\rEpoch: 60.8%  lr: 0.014064  loss: 0.006755  eta: 0h4m  tot: 0h11m47s  (72.2%)\rEpoch: 60.9%  lr: 0.014044  loss: 0.006754  eta: 0h4m  tot: 0h11m47s  (72.2%)\rEpoch: 60.9%  lr: 0.014014  loss: 0.006758  eta: 0h4m  tot: 0h11m48s  (72.2%)\rEpoch: 61.0%  lr: 0.014004  loss: 0.006769  eta: 0h4m  tot: 0h11m48s  (72.2%)\rEpoch: 61.1%  lr: 0.014004  loss: 0.006772  eta: 0h4m  tot: 0h11m48s  (72.2%)\rEpoch: 61.2%  lr: 0.013994  loss: 0.006788  eta: 0h4m  tot: 0h11m48s  (72.2%)\rEpoch: 61.3%  lr: 0.013994  loss: 0.006783  eta: 0h4m  tot: 0h11m48s  (72.3%)\rEpoch: 61.4%  lr: 0.013974  loss: 0.006782  eta: 0h4m  tot: 0h11m48s  (72.3%)\rEpoch: 61.5%  lr: 0.013954  loss: 0.006784  eta: 0h4m  tot: 0h11m49s  (72.3%)\rEpoch: 61.6%  lr: 0.013944  loss: 0.006791  eta: 0h4m  tot: 0h11m49s  (72.3%)\rEpoch: 61.7%  lr: 0.013914  loss: 0.006792  eta: 0h4m  tot: 0h11m49s  (72.3%)\rEpoch: 61.8%  lr: 0.013914  loss: 0.006788  eta: 0h4m  tot: 0h11m49s  (72.4%)\rEpoch: 61.8%  lr: 0.013894  loss: 0.006793  eta: 0h4m  tot: 0h11m49s  (72.4%)\rEpoch: 61.9%  lr: 0.013894  loss: 0.006789  eta: 0h4m  tot: 0h11m49s  (72.4%)\rEpoch: 62.0%  lr: 0.013874  loss: 0.006793  eta: 0h4m  tot: 0h11m50s  (72.4%)\rEpoch: 62.1%  lr: 0.013874  loss: 0.006807  eta: 0h4m  tot: 0h11m50s  (72.4%)\rEpoch: 62.2%  lr: 0.013874  loss: 0.006808  eta: 0h4m  tot: 0h11m50s  (72.4%)\rEpoch: 62.3%  lr: 0.013874  loss: 0.006813  eta: 0h4m  tot: 0h11m50s  (72.5%)\rEpoch: 62.4%  lr: 0.013864  loss: 0.006815  eta: 0h4m  tot: 0h11m50s  (72.5%)\rEpoch: 62.5%  lr: 0.013844  loss: 0.006810  eta: 0h4m  tot: 0h11m50s  (72.5%)\rEpoch: 62.6%  lr: 0.013824  loss: 0.006804  eta: 0h4m  tot: 0h11m51s  (72.5%)\rEpoch: 62.7%  lr: 0.013824  loss: 0.006806  eta: 0h4m  tot: 0h11m51s  (72.5%)\rEpoch: 62.7%  lr: 0.013824  loss: 0.006802  eta: 0h4m  tot: 0h11m51s  (72.5%)\rEpoch: 62.8%  lr: 0.013824  loss: 0.006794  eta: 0h4m  tot: 0h11m51s  (72.6%)\rEpoch: 62.9%  lr: 0.013824  loss: 0.006798  eta: 0h4m  tot: 0h11m51s  (72.6%)\rEpoch: 63.0%  lr: 0.013804  loss: 0.006806  eta: 0h4m  tot: 0h11m51s  (72.6%)\rEpoch: 63.1%  lr: 0.013804  loss: 0.006798  eta: 0h4m  tot: 0h11m52s  (72.6%)\rEpoch: 63.2%  lr: 0.013804  loss: 0.006806  eta: 0h4m  tot: 0h11m52s  (72.6%)\rEpoch: 63.3%  lr: 0.013804  loss: 0.006801  eta: 0h4m  tot: 0h11m52s  (72.7%)\rEpoch: 63.4%  lr: 0.013804  loss: 0.006801  eta: 0h4m  tot: 0h11m52s  (72.7%)\rEpoch: 63.5%  lr: 0.013794  loss: 0.006804  eta: 0h4m  tot: 0h11m52s  (72.7%)\rEpoch: 63.6%  lr: 0.013794  loss: 0.006803  eta: 0h4m  tot: 0h11m52s  (72.7%)\rEpoch: 63.6%  lr: 0.013794  loss: 0.006802  eta: 0h4m  tot: 0h11m53s  (72.7%)\rEpoch: 63.7%  lr: 0.013794  loss: 0.006805  eta: 0h4m  tot: 0h11m53s  (72.7%)\rEpoch: 63.8%  lr: 0.013784  loss: 0.006803  eta: 0h4m  tot: 0h11m53s  (72.8%)\rEpoch: 63.9%  lr: 0.013784  loss: 0.006807  eta: 0h4m  tot: 0h11m53s  (72.8%)\rEpoch: 64.0%  lr: 0.013764  loss: 0.006810  eta: 0h4m  tot: 0h11m53s  (72.8%)\rEpoch: 64.1%  lr: 0.013754  loss: 0.006808  eta: 0h4m  tot: 0h11m53s  (72.8%)\rEpoch: 64.2%  lr: 0.013754  loss: 0.006804  eta: 0h4m  tot: 0h11m54s  (72.8%)\rEpoch: 64.3%  lr: 0.013744  loss: 0.006797  eta: 0h4m  tot: 0h11m54s  (72.9%)\rEpoch: 64.4%  lr: 0.013704  loss: 0.006794  eta: 0h4m  tot: 0h11m54s  (72.9%)\rEpoch: 64.5%  lr: 0.013704  loss: 0.006788  eta: 0h4m  tot: 0h11m54s  (72.9%)\rEpoch: 64.5%  lr: 0.013704  loss: 0.006781  eta: 0h4m  tot: 0h11m54s  (72.9%)\rEpoch: 64.6%  lr: 0.013704  loss: 0.006787  eta: 0h4m  tot: 0h11m54s  (72.9%)\rEpoch: 64.7%  lr: 0.013674  loss: 0.006792  eta: 0h4m  tot: 0h11m55s  (72.9%)\rEpoch: 64.8%  lr: 0.013664  loss: 0.006793  eta: 0h4m  tot: 0h11m55s  (73.0%)\rEpoch: 64.9%  lr: 0.013664  loss: 0.006797  eta: 0h4m  tot: 0h11m55s  (73.0%)\rEpoch: 65.0%  lr: 0.013664  loss: 0.006796  eta: 0h4m  tot: 0h11m55s  (73.0%)\rEpoch: 65.1%  lr: 0.013654  loss: 0.006791  eta: 0h4m  tot: 0h11m55s  (73.0%)\rEpoch: 65.2%  lr: 0.013654  loss: 0.006786  eta: 0h4m  tot: 0h11m56s  (73.0%)\rEpoch: 65.3%  lr: 0.013644  loss: 0.006786  eta: 0h4m  tot: 0h11m56s  (73.1%)\rEpoch: 65.4%  lr: 0.013634  loss: 0.006787  eta: 0h4m  tot: 0h11m56s  (73.1%)\rEpoch: 65.4%  lr: 0.013624  loss: 0.006785  eta: 0h4m  tot: 0h11m56s  (73.1%)\rEpoch: 65.5%  lr: 0.013614  loss: 0.006787  eta: 0h4m  tot: 0h11m56s  (73.1%)\rEpoch: 65.6%  lr: 0.013614  loss: 0.006790  eta: 0h4m  tot: 0h11m56s  (73.1%)\rEpoch: 65.7%  lr: 0.013604  loss: 0.006806  eta: 0h4m  tot: 0h11m57s  (73.1%)\rEpoch: 65.8%  lr: 0.013604  loss: 0.006807  eta: 0h4m  tot: 0h11m57s  (73.2%)\rEpoch: 65.9%  lr: 0.013594  loss: 0.006815  eta: 0h4m  tot: 0h11m57s  (73.2%)\rEpoch: 66.0%  lr: 0.013584  loss: 0.006819  eta: 0h4m  tot: 0h11m57s  (73.2%)\rEpoch: 66.1%  lr: 0.013564  loss: 0.006814  eta: 0h4m  tot: 0h11m57s  (73.2%)\rEpoch: 66.2%  lr: 0.013554  loss: 0.006813  eta: 0h4m  tot: 0h11m57s  (73.2%)\rEpoch: 66.3%  lr: 0.013554  loss: 0.006809  eta: 0h4m  tot: 0h11m58s  (73.3%)\rEpoch: 66.3%  lr: 0.013524  loss: 0.006810  eta: 0h4m  tot: 0h11m58s  (73.3%)\rEpoch: 66.4%  lr: 0.013504  loss: 0.006809  eta: 0h4m  tot: 0h11m58s  (73.3%)\rEpoch: 66.5%  lr: 0.013494  loss: 0.006807  eta: 0h4m  tot: 0h11m58s  (73.3%)\rEpoch: 66.6%  lr: 0.013474  loss: 0.006812  eta: 0h4m  tot: 0h11m58s  (73.3%)\rEpoch: 66.7%  lr: 0.013464  loss: 0.006816  eta: 0h4m  tot: 0h11m58s  (73.3%)\rEpoch: 66.8%  lr: 0.013454  loss: 0.006825  eta: 0h4m  tot: 0h11m59s  (73.4%)\rEpoch: 66.9%  lr: 0.013434  loss: 0.006823  eta: 0h4m  tot: 0h11m59s  (73.4%)\rEpoch: 67.0%  lr: 0.013414  loss: 0.006825  eta: 0h4m  tot: 0h11m59s  (73.4%)\rEpoch: 67.1%  lr: 0.013414  loss: 0.006830  eta: 0h4m  tot: 0h11m59s  (73.4%)\rEpoch: 67.2%  lr: 0.013414  loss: 0.006824  eta: 0h4m  tot: 0h11m59s  (73.4%)\rEpoch: 67.2%  lr: 0.013414  loss: 0.006818  eta: 0h4m  tot: 0h11m59s  (73.4%)\rEpoch: 67.3%  lr: 0.013414  loss: 0.006816  eta: 0h4m  tot: 0h12m0s  (73.5%)\rEpoch: 67.4%  lr: 0.013414  loss: 0.006812  eta: 0h4m  tot: 0h12m0s  (73.5%)\rEpoch: 67.5%  lr: 0.013393  loss: 0.006810  eta: 0h4m  tot: 0h12m0s  (73.5%)\rEpoch: 67.6%  lr: 0.013393  loss: 0.006813  eta: 0h4m  tot: 0h12m0s  (73.5%)\rEpoch: 67.7%  lr: 0.013393  loss: 0.006808  eta: 0h4m  tot: 0h12m0s  (73.5%)\rEpoch: 67.8%  lr: 0.013373  loss: 0.006808  eta: 0h4m  tot: 0h12m0s  (73.6%)\rEpoch: 67.9%  lr: 0.013373  loss: 0.006808  eta: 0h4m  tot: 0h12m1s  (73.6%)\rEpoch: 68.0%  lr: 0.013353  loss: 0.006816  eta: 0h4m  tot: 0h12m1s  (73.6%)\rEpoch: 68.1%  lr: 0.013353  loss: 0.006819  eta: 0h4m  tot: 0h12m1s  (73.6%)\rEpoch: 68.1%  lr: 0.013353  loss: 0.006827  eta: 0h4m  tot: 0h12m1s  (73.6%)\rEpoch: 68.2%  lr: 0.013353  loss: 0.006823  eta: 0h4m  tot: 0h12m1s  (73.6%)\rEpoch: 68.3%  lr: 0.013343  loss: 0.006831  eta: 0h4m  tot: 0h12m1s  (73.7%)\rEpoch: 68.4%  lr: 0.013343  loss: 0.006827  eta: 0h4m  tot: 0h12m2s  (73.7%)\rEpoch: 68.5%  lr: 0.013333  loss: 0.006827  eta: 0h4m  tot: 0h12m2s  (73.7%)\rEpoch: 68.6%  lr: 0.013323  loss: 0.006837  eta: 0h4m  tot: 0h12m2s  (73.7%)\rEpoch: 68.7%  lr: 0.013313  loss: 0.006839  eta: 0h4m  tot: 0h12m2s  (73.7%)\rEpoch: 68.8%  lr: 0.013283  loss: 0.006848  eta: 0h4m  tot: 0h12m2s  (73.8%)\rEpoch: 68.9%  lr: 0.013273  loss: 0.006845  eta: 0h4m  tot: 0h12m2s  (73.8%)\rEpoch: 69.0%  lr: 0.013273  loss: 0.006841  eta: 0h4m  tot: 0h12m3s  (73.8%)\rEpoch: 69.0%  lr: 0.013273  loss: 0.006844  eta: 0h4m  tot: 0h12m3s  (73.8%)\rEpoch: 69.1%  lr: 0.013273  loss: 0.006840  eta: 0h4m  tot: 0h12m3s  (73.8%)\rEpoch: 69.2%  lr: 0.013263  loss: 0.006837  eta: 0h4m  tot: 0h12m3s  (73.8%)\rEpoch: 69.3%  lr: 0.013223  loss: 0.006834  eta: 0h4m  tot: 0h12m3s  (73.9%)\rEpoch: 69.4%  lr: 0.013223  loss: 0.006836  eta: 0h4m  tot: 0h12m3s  (73.9%)\rEpoch: 69.5%  lr: 0.013223  loss: 0.006846  eta: 0h4m  tot: 0h12m4s  (73.9%)\rEpoch: 69.6%  lr: 0.013213  loss: 0.006848  eta: 0h4m  tot: 0h12m4s  (73.9%)\rEpoch: 69.7%  lr: 0.013213  loss: 0.006843  eta: 0h4m  tot: 0h12m4s  (73.9%)\rEpoch: 69.8%  lr: 0.013203  loss: 0.006840  eta: 0h4m  tot: 0h12m4s  (74.0%)\rEpoch: 69.9%  lr: 0.013203  loss: 0.006835  eta: 0h4m  tot: 0h12m4s  (74.0%)\rEpoch: 69.9%  lr: 0.013193  loss: 0.006836  eta: 0h4m  tot: 0h12m4s  (74.0%)\rEpoch: 70.0%  lr: 0.013183  loss: 0.006833  eta: 0h4m  tot: 0h12m5s  (74.0%)\rEpoch: 70.1%  lr: 0.013173  loss: 0.006828  eta: 0h4m  tot: 0h12m5s  (74.0%)\rEpoch: 70.2%  lr: 0.013173  loss: 0.006826  eta: 0h4m  tot: 0h12m5s  (74.0%)\rEpoch: 70.3%  lr: 0.013163  loss: 0.006830  eta: 0h4m  tot: 0h12m5s  (74.1%)\rEpoch: 70.4%  lr: 0.013163  loss: 0.006833  eta: 0h4m  tot: 0h12m5s  (74.1%)\rEpoch: 70.5%  lr: 0.013153  loss: 0.006835  eta: 0h4m  tot: 0h12m5s  (74.1%)\rEpoch: 70.6%  lr: 0.013143  loss: 0.006844  eta: 0h4m  tot: 0h12m6s  (74.1%)\rEpoch: 70.7%  lr: 0.013113  loss: 0.006840  eta: 0h4m  tot: 0h12m6s  (74.1%)\rEpoch: 70.8%  lr: 0.013103  loss: 0.006835  eta: 0h4m  tot: 0h12m6s  (74.2%)\rEpoch: 70.8%  lr: 0.013083  loss: 0.006834  eta: 0h4m  tot: 0h12m6s  (74.2%)\rEpoch: 70.9%  lr: 0.013063  loss: 0.006832  eta: 0h4m  tot: 0h12m6s  (74.2%)\rEpoch: 71.0%  lr: 0.013053  loss: 0.006830  eta: 0h4m  tot: 0h12m6s  (74.2%)\rEpoch: 71.1%  lr: 0.013053  loss: 0.006826  eta: 0h4m  tot: 0h12m7s  (74.2%)\rEpoch: 71.2%  lr: 0.013033  loss: 0.006831  eta: 0h4m  tot: 0h12m7s  (74.2%)\rEpoch: 71.3%  lr: 0.013033  loss: 0.006832  eta: 0h4m  tot: 0h12m7s  (74.3%)\rEpoch: 71.4%  lr: 0.013013  loss: 0.006840  eta: 0h4m  tot: 0h12m7s  (74.3%)\rEpoch: 71.5%  lr: 0.013013  loss: 0.006835  eta: 0h4m  tot: 0h12m7s  (74.3%)\rEpoch: 71.6%  lr: 0.013013  loss: 0.006839  eta: 0h3m  tot: 0h12m7s  (74.3%)\rEpoch: 71.7%  lr: 0.013003  loss: 0.006842  eta: 0h3m  tot: 0h12m8s  (74.3%)\rEpoch: 71.7%  lr: 0.013003  loss: 0.006844  eta: 0h3m  tot: 0h12m8s  (74.3%)\rEpoch: 71.8%  lr: 0.012963  loss: 0.006840  eta: 0h3m  tot: 0h12m8s  (74.4%)\rEpoch: 71.9%  lr: 0.012963  loss: 0.006842  eta: 0h3m  tot: 0h12m8s  (74.4%)\rEpoch: 72.0%  lr: 0.012953  loss: 0.006845  eta: 0h3m  tot: 0h12m8s  (74.4%)\rEpoch: 72.1%  lr: 0.012933  loss: 0.006846  eta: 0h3m  tot: 0h12m8s  (74.4%)\rEpoch: 72.2%  lr: 0.012923  loss: 0.006845  eta: 0h3m  tot: 0h12m9s  (74.4%)\rEpoch: 72.3%  lr: 0.012913  loss: 0.006842  eta: 0h3m  tot: 0h12m9s  (74.5%)\rEpoch: 72.4%  lr: 0.012893  loss: 0.006842  eta: 0h3m  tot: 0h12m9s  (74.5%)\rEpoch: 72.5%  lr: 0.012893  loss: 0.006843  eta: 0h3m  tot: 0h12m9s  (74.5%)\rEpoch: 72.6%  lr: 0.012863  loss: 0.006837  eta: 0h3m  tot: 0h12m9s  (74.5%)\rEpoch: 72.6%  lr: 0.012833  loss: 0.006849  eta: 0h3m  tot: 0h12m9s  (74.5%)\rEpoch: 72.7%  lr: 0.012833  loss: 0.006844  eta: 0h3m  tot: 0h12m10s  (74.5%)\rEpoch: 72.8%  lr: 0.012833  loss: 0.006855  eta: 0h3m  tot: 0h12m10s  (74.6%)\rEpoch: 72.9%  lr: 0.012823  loss: 0.006851  eta: 0h3m  tot: 0h12m10s  (74.6%)\rEpoch: 73.0%  lr: 0.012823  loss: 0.006848  eta: 0h3m  tot: 0h12m10s  (74.6%)\rEpoch: 73.1%  lr: 0.012813  loss: 0.006850  eta: 0h3m  tot: 0h12m10s  (74.6%)\rEpoch: 73.2%  lr: 0.012813  loss: 0.006858  eta: 0h3m  tot: 0h12m10s  (74.6%)\rEpoch: 73.3%  lr: 0.012813  loss: 0.006856  eta: 0h3m  tot: 0h12m11s  (74.7%)\rEpoch: 73.4%  lr: 0.012793  loss: 0.006869  eta: 0h3m  tot: 0h12m11s  (74.7%)\rEpoch: 73.5%  lr: 0.012793  loss: 0.006866  eta: 0h3m  tot: 0h12m11s  (74.7%)\rEpoch: 73.5%  lr: 0.012783  loss: 0.006862  eta: 0h3m  tot: 0h12m11s  (74.7%)\rEpoch: 73.6%  lr: 0.012763  loss: 0.006856  eta: 0h3m  tot: 0h12m11s  (74.7%)\rEpoch: 73.7%  lr: 0.012753  loss: 0.006857  eta: 0h3m  tot: 0h12m11s  (74.7%)\rEpoch: 73.8%  lr: 0.012753  loss: 0.006853  eta: 0h3m  tot: 0h12m12s  (74.8%)\rEpoch: 73.9%  lr: 0.012723  loss: 0.006854  eta: 0h3m  tot: 0h12m12s  (74.8%)\rEpoch: 74.0%  lr: 0.012723  loss: 0.006852  eta: 0h3m  tot: 0h12m12s  (74.8%)\rEpoch: 74.1%  lr: 0.012723  loss: 0.006848  eta: 0h3m  tot: 0h12m12s  (74.8%)\rEpoch: 74.2%  lr: 0.012723  loss: 0.006852  eta: 0h3m  tot: 0h12m12s  (74.8%)\rEpoch: 74.3%  lr: 0.012703  loss: 0.006868  eta: 0h3m  tot: 0h12m12s  (74.9%)\rEpoch: 74.4%  lr: 0.012683  loss: 0.006873  eta: 0h3m  tot: 0h12m13s  (74.9%)\rEpoch: 74.4%  lr: 0.012673  loss: 0.006866  eta: 0h3m  tot: 0h12m13s  (74.9%)\rEpoch: 74.5%  lr: 0.012673  loss: 0.006863  eta: 0h3m  tot: 0h12m13s  (74.9%)\rEpoch: 74.6%  lr: 0.012663  loss: 0.006868  eta: 0h3m  tot: 0h12m13s  (74.9%)\rEpoch: 74.7%  lr: 0.012663  loss: 0.006864  eta: 0h3m  tot: 0h12m13s  (74.9%)\rEpoch: 74.8%  lr: 0.012633  loss: 0.006866  eta: 0h3m  tot: 0h12m13s  (75.0%)\rEpoch: 74.9%  lr: 0.012623  loss: 0.006869  eta: 0h3m  tot: 0h12m14s  (75.0%)\rEpoch: 75.0%  lr: 0.012613  loss: 0.006868  eta: 0h3m  tot: 0h12m14s  (75.0%)\rEpoch: 75.1%  lr: 0.012603  loss: 0.006866  eta: 0h3m  tot: 0h12m14s  (75.0%)\rEpoch: 75.2%  lr: 0.012583  loss: 0.006868  eta: 0h3m  tot: 0h12m14s  (75.0%)\rEpoch: 75.3%  lr: 0.012563  loss: 0.006876  eta: 0h3m  tot: 0h12m14s  (75.1%)\rEpoch: 75.3%  lr: 0.012543  loss: 0.006872  eta: 0h3m  tot: 0h12m14s  (75.1%)\rEpoch: 75.4%  lr: 0.012543  loss: 0.006871  eta: 0h3m  tot: 0h12m15s  (75.1%)\rEpoch: 75.5%  lr: 0.012533  loss: 0.006869  eta: 0h3m  tot: 0h12m15s  (75.1%)\rEpoch: 75.6%  lr: 0.012523  loss: 0.006874  eta: 0h3m  tot: 0h12m15s  (75.1%)\rEpoch: 75.7%  lr: 0.012523  loss: 0.006874  eta: 0h3m  tot: 0h12m15s  (75.1%)\rEpoch: 75.8%  lr: 0.012513  loss: 0.006873  eta: 0h3m  tot: 0h12m15s  (75.2%)\rEpoch: 75.9%  lr: 0.012503  loss: 0.006876  eta: 0h3m  tot: 0h12m16s  (75.2%)\rEpoch: 76.0%  lr: 0.012503  loss: 0.006871  eta: 0h3m  tot: 0h12m16s  (75.2%)\rEpoch: 76.1%  lr: 0.012483  loss: 0.006868  eta: 0h3m  tot: 0h12m16s  (75.2%)\rEpoch: 76.2%  lr: 0.012483  loss: 0.006871  eta: 0h3m  tot: 0h12m16s  (75.2%)\rEpoch: 76.2%  lr: 0.012483  loss: 0.006869  eta: 0h3m  tot: 0h12m16s  (75.2%)\rEpoch: 76.3%  lr: 0.012473  loss: 0.006874  eta: 0h3m  tot: 0h12m16s  (75.3%)\rEpoch: 76.4%  lr: 0.012443  loss: 0.006870  eta: 0h3m  tot: 0h12m17s  (75.3%)\rEpoch: 76.5%  lr: 0.012443  loss: 0.006866  eta: 0h3m  tot: 0h12m17s  (75.3%)\rEpoch: 76.6%  lr: 0.012443  loss: 0.006867  eta: 0h3m  tot: 0h12m17s  (75.3%)\rEpoch: 76.7%  lr: 0.012413  loss: 0.006882  eta: 0h3m  tot: 0h12m17s  (75.3%)\rEpoch: 76.8%  lr: 0.012403  loss: 0.006885  eta: 0h3m  tot: 0h12m17s  (75.4%)\rEpoch: 76.9%  lr: 0.012403  loss: 0.006892  eta: 0h3m  tot: 0h12m17s  (75.4%)\rEpoch: 77.0%  lr: 0.012382  loss: 0.006894  eta: 0h3m  tot: 0h12m18s  (75.4%)\rEpoch: 77.1%  lr: 0.012372  loss: 0.006891  eta: 0h3m  tot: 0h12m18s  (75.4%)\rEpoch: 77.1%  lr: 0.012362  loss: 0.006888  eta: 0h3m  tot: 0h12m18s  (75.4%)\rEpoch: 77.2%  lr: 0.012352  loss: 0.006883  eta: 0h3m  tot: 0h12m18s  (75.4%)\rEpoch: 77.3%  lr: 0.012352  loss: 0.006887  eta: 0h3m  tot: 0h12m18s  (75.5%)\rEpoch: 77.4%  lr: 0.012352  loss: 0.006889  eta: 0h3m  tot: 0h12m18s  (75.5%)\rEpoch: 77.5%  lr: 0.012342  loss: 0.006895  eta: 0h3m  tot: 0h12m19s  (75.5%)\rEpoch: 77.6%  lr: 0.012332  loss: 0.006892  eta: 0h3m  tot: 0h12m19s  (75.5%)\rEpoch: 77.7%  lr: 0.012312  loss: 0.006889  eta: 0h3m  tot: 0h12m19s  (75.5%)\rEpoch: 77.8%  lr: 0.012312  loss: 0.006890  eta: 0h3m  tot: 0h12m19s  (75.6%)\rEpoch: 77.9%  lr: 0.012302  loss: 0.006890  eta: 0h3m  tot: 0h12m19s  (75.6%)\rEpoch: 78.0%  lr: 0.012292  loss: 0.006887  eta: 0h3m  tot: 0h12m19s  (75.6%)\rEpoch: 78.0%  lr: 0.012292  loss: 0.006894  eta: 0h3m  tot: 0h12m20s  (75.6%)\rEpoch: 78.1%  lr: 0.012272  loss: 0.006893  eta: 0h3m  tot: 0h12m20s  (75.6%)\rEpoch: 78.2%  lr: 0.012262  loss: 0.006900  eta: 0h3m  tot: 0h12m20s  (75.6%)\rEpoch: 78.3%  lr: 0.012262  loss: 0.006897  eta: 0h3m  tot: 0h12m20s  (75.7%)\rEpoch: 78.4%  lr: 0.012242  loss: 0.006897  eta: 0h3m  tot: 0h12m20s  (75.7%)\rEpoch: 78.5%  lr: 0.012242  loss: 0.006892  eta: 0h3m  tot: 0h12m20s  (75.7%)\rEpoch: 78.6%  lr: 0.012242  loss: 0.006892  eta: 0h3m  tot: 0h12m20s  (75.7%)\rEpoch: 78.7%  lr: 0.012212  loss: 0.006888  eta: 0h3m  tot: 0h12m21s  (75.7%)\rEpoch: 78.8%  lr: 0.012212  loss: 0.006886  eta: 0h3m  tot: 0h12m21s  (75.8%)\rEpoch: 78.9%  lr: 0.012202  loss: 0.006883  eta: 0h3m  tot: 0h12m21s  (75.8%)\rEpoch: 78.9%  lr: 0.012202  loss: 0.006881  eta: 0h3m  tot: 0h12m21s  (75.8%)\rEpoch: 79.0%  lr: 0.012182  loss: 0.006885  eta: 0h3m  tot: 0h12m21s  (75.8%)\rEpoch: 79.1%  lr: 0.012182  loss: 0.006891  eta: 0h3m  tot: 0h12m21s  (75.8%)\rEpoch: 79.2%  lr: 0.012182  loss: 0.006888  eta: 0h3m  tot: 0h12m22s  (75.8%)\rEpoch: 79.3%  lr: 0.012172  loss: 0.006885  eta: 0h3m  tot: 0h12m22s  (75.9%)\rEpoch: 79.4%  lr: 0.012162  loss: 0.006883  eta: 0h3m  tot: 0h12m22s  (75.9%)\rEpoch: 79.5%  lr: 0.012152  loss: 0.006886  eta: 0h3m  tot: 0h12m22s  (75.9%)\rEpoch: 79.6%  lr: 0.012152  loss: 0.006885  eta: 0h3m  tot: 0h12m22s  (75.9%)\rEpoch: 79.7%  lr: 0.012152  loss: 0.006882  eta: 0h3m  tot: 0h12m22s  (75.9%)\rEpoch: 79.8%  lr: 0.012152  loss: 0.006882  eta: 0h3m  tot: 0h12m23s  (76.0%)\rEpoch: 79.8%  lr: 0.012142  loss: 0.006882  eta: 0h3m  tot: 0h12m23s  (76.0%)\rEpoch: 79.9%  lr: 0.012142  loss: 0.006882  eta: 0h3m  tot: 0h12m23s  (76.0%)\rEpoch: 80.0%  lr: 0.012142  loss: 0.006876  eta: 0h3m  tot: 0h12m23s  (76.0%)\rEpoch: 80.1%  lr: 0.012132  loss: 0.006869  eta: 0h3m  tot: 0h12m23s  (76.0%)\rEpoch: 80.2%  lr: 0.012122  loss: 0.006866  eta: 0h3m  tot: 0h12m23s  (76.0%)\rEpoch: 80.3%  lr: 0.012112  loss: 0.006865  eta: 0h3m  tot: 0h12m24s  (76.1%)\rEpoch: 80.4%  lr: 0.012102  loss: 0.006862  eta: 0h3m  tot: 0h12m24s  (76.1%)\rEpoch: 80.5%  lr: 0.012102  loss: 0.006867  eta: 0h3m  tot: 0h12m24s  (76.1%)\rEpoch: 80.6%  lr: 0.012092  loss: 0.006882  eta: 0h3m  tot: 0h12m24s  (76.1%)\rEpoch: 80.7%  lr: 0.012092  loss: 0.006881  eta: 0h3m  tot: 0h12m24s  (76.1%)\rEpoch: 80.7%  lr: 0.012092  loss: 0.006879  eta: 0h3m  tot: 0h12m24s  (76.1%)\rEpoch: 80.8%  lr: 0.012082  loss: 0.006875  eta: 0h3m  tot: 0h12m25s  (76.2%)\rEpoch: 80.9%  lr: 0.012082  loss: 0.006873  eta: 0h3m  tot: 0h12m25s  (76.2%)\rEpoch: 81.0%  lr: 0.012062  loss: 0.006871  eta: 0h3m  tot: 0h12m25s  (76.2%)\rEpoch: 81.1%  lr: 0.012062  loss: 0.006871  eta: 0h3m  tot: 0h12m25s  (76.2%)\rEpoch: 81.2%  lr: 0.012062  loss: 0.006867  eta: 0h3m  tot: 0h12m25s  (76.2%)\rEpoch: 81.3%  lr: 0.012042  loss: 0.006864  eta: 0h3m  tot: 0h12m25s  (76.3%)\rEpoch: 81.4%  lr: 0.012032  loss: 0.006865  eta: 0h3m  tot: 0h12m26s  (76.3%)\rEpoch: 81.5%  lr: 0.012022  loss: 0.006859  eta: 0h3m  tot: 0h12m26s  (76.3%)\rEpoch: 81.6%  lr: 0.012022  loss: 0.006857  eta: 0h3m  tot: 0h12m26s  (76.3%)\rEpoch: 81.6%  lr: 0.012012  loss: 0.006862  eta: 0h3m  tot: 0h12m26s  (76.3%)\rEpoch: 81.7%  lr: 0.012012  loss: 0.006862  eta: 0h3m  tot: 0h12m26s  (76.3%)\rEpoch: 81.8%  lr: 0.012002  loss: 0.006860  eta: 0h3m  tot: 0h12m26s  (76.4%)\rEpoch: 81.9%  lr: 0.011982  loss: 0.006855  eta: 0h3m  tot: 0h12m26s  (76.4%)\rEpoch: 82.0%  lr: 0.011972  loss: 0.006853  eta: 0h3m  tot: 0h12m27s  (76.4%)\rEpoch: 82.1%  lr: 0.011962  loss: 0.006849  eta: 0h3m  tot: 0h12m27s  (76.4%)\rEpoch: 82.2%  lr: 0.011952  loss: 0.006846  eta: 0h3m  tot: 0h12m27s  (76.4%)\rEpoch: 82.3%  lr: 0.011932  loss: 0.006844  eta: 0h3m  tot: 0h12m27s  (76.5%)\rEpoch: 82.4%  lr: 0.011922  loss: 0.006843  eta: 0h3m  tot: 0h12m27s  (76.5%)\rEpoch: 82.5%  lr: 0.011922  loss: 0.006850  eta: 0h3m  tot: 0h12m27s  (76.5%)\rEpoch: 82.5%  lr: 0.011912  loss: 0.006844  eta: 0h3m  tot: 0h12m28s  (76.5%)\rEpoch: 82.6%  lr: 0.011902  loss: 0.006839  eta: 0h3m  tot: 0h12m28s  (76.5%)\rEpoch: 82.7%  lr: 0.011882  loss: 0.006857  eta: 0h3m  tot: 0h12m28s  (76.5%)\rEpoch: 82.8%  lr: 0.011862  loss: 0.006853  eta: 0h3m  tot: 0h12m28s  (76.6%)\rEpoch: 82.9%  lr: 0.011862  loss: 0.006849  eta: 0h3m  tot: 0h12m28s  (76.6%)\rEpoch: 83.0%  lr: 0.011852  loss: 0.006850  eta: 0h3m  tot: 0h12m28s  (76.6%)\rEpoch: 83.1%  lr: 0.011842  loss: 0.006848  eta: 0h3m  tot: 0h12m29s  (76.6%)\rEpoch: 83.2%  lr: 0.011822  loss: 0.006850  eta: 0h3m  tot: 0h12m29s  (76.6%)\rEpoch: 83.3%  lr: 0.011822  loss: 0.006849  eta: 0h3m  tot: 0h12m29s  (76.7%)\rEpoch: 83.4%  lr: 0.011802  loss: 0.006851  eta: 0h3m  tot: 0h12m29s  (76.7%)\rEpoch: 83.4%  lr: 0.011802  loss: 0.006849  eta: 0h3m  tot: 0h12m29s  (76.7%)\rEpoch: 83.5%  lr: 0.011792  loss: 0.006850  eta: 0h3m  tot: 0h12m29s  (76.7%)\rEpoch: 83.6%  lr: 0.011782  loss: 0.006846  eta: 0h3m  tot: 0h12m30s  (76.7%)\rEpoch: 83.7%  lr: 0.011762  loss: 0.006843  eta: 0h3m  tot: 0h12m30s  (76.7%)\rEpoch: 83.8%  lr: 0.011752  loss: 0.006851  eta: 0h3m  tot: 0h12m30s  (76.8%)\rEpoch: 83.9%  lr: 0.011752  loss: 0.006854  eta: 0h3m  tot: 0h12m30s  (76.8%)\rEpoch: 84.0%  lr: 0.011732  loss: 0.006853  eta: 0h3m  tot: 0h12m30s  (76.8%)\rEpoch: 84.1%  lr: 0.011722  loss: 0.006850  eta: 0h3m  tot: 0h12m30s  (76.8%)\rEpoch: 84.2%  lr: 0.011712  loss: 0.006850  eta: 0h3m  tot: 0h12m31s  (76.8%)\rEpoch: 84.3%  lr: 0.011712  loss: 0.006849  eta: 0h3m  tot: 0h12m31s  (76.9%)\rEpoch: 84.3%  lr: 0.011702  loss: 0.006850  eta: 0h3m  tot: 0h12m31s  (76.9%)\rEpoch: 84.4%  lr: 0.011692  loss: 0.006849  eta: 0h3m  tot: 0h12m31s  (76.9%)\rEpoch: 84.5%  lr: 0.011692  loss: 0.006846  eta: 0h3m  tot: 0h12m31s  (76.9%)\rEpoch: 84.6%  lr: 0.011692  loss: 0.006842  eta: 0h3m  tot: 0h12m31s  (76.9%)\rEpoch: 84.7%  lr: 0.011692  loss: 0.006843  eta: 0h3m  tot: 0h12m32s  (76.9%)\rEpoch: 84.8%  lr: 0.011682  loss: 0.006842  eta: 0h3m  tot: 0h12m32s  (77.0%)\rEpoch: 84.9%  lr: 0.011682  loss: 0.006842  eta: 0h3m  tot: 0h12m32s  (77.0%)\rEpoch: 85.0%  lr: 0.011682  loss: 0.006839  eta: 0h3m  tot: 0h12m32s  (77.0%)\rEpoch: 85.1%  lr: 0.011652  loss: 0.006838  eta: 0h3m  tot: 0h12m32s  (77.0%)\rEpoch: 85.2%  lr: 0.011652  loss: 0.006835  eta: 0h3m  tot: 0h12m32s  (77.0%)\rEpoch: 85.2%  lr: 0.011642  loss: 0.006834  eta: 0h3m  tot: 0h12m32s  (77.0%)\rEpoch: 85.3%  lr: 0.011632  loss: 0.006835  eta: 0h3m  tot: 0h12m33s  (77.1%)\rEpoch: 85.4%  lr: 0.011632  loss: 0.006833  eta: 0h3m  tot: 0h12m33s  (77.1%)\rEpoch: 85.5%  lr: 0.011602  loss: 0.006840  eta: 0h3m  tot: 0h12m33s  (77.1%)\rEpoch: 85.6%  lr: 0.011582  loss: 0.006843  eta: 0h3m  tot: 0h12m33s  (77.1%)\rEpoch: 85.7%  lr: 0.011572  loss: 0.006842  eta: 0h3m  tot: 0h12m33s  (77.1%)\rEpoch: 85.8%  lr: 0.011562  loss: 0.006839  eta: 0h3m  tot: 0h12m33s  (77.2%)\rEpoch: 85.9%  lr: 0.011562  loss: 0.006844  eta: 0h3m  tot: 0h12m34s  (77.2%)\rEpoch: 86.0%  lr: 0.011552  loss: 0.006851  eta: 0h3m  tot: 0h12m34s  (77.2%)\rEpoch: 86.1%  lr: 0.011552  loss: 0.006851  eta: 0h3m  tot: 0h12m34s  (77.2%)\rEpoch: 86.1%  lr: 0.011542  loss: 0.006846  eta: 0h3m  tot: 0h12m34s  (77.2%)\rEpoch: 86.2%  lr: 0.011542  loss: 0.006843  eta: 0h3m  tot: 0h12m34s  (77.2%)\rEpoch: 86.3%  lr: 0.011542  loss: 0.006847  eta: 0h3m  tot: 0h12m34s  (77.3%)\rEpoch: 86.4%  lr: 0.011532  loss: 0.006845  eta: 0h3m  tot: 0h12m35s  (77.3%)\rEpoch: 86.5%  lr: 0.011532  loss: 0.006855  eta: 0h3m  tot: 0h12m35s  (77.3%)\rEpoch: 86.6%  lr: 0.011532  loss: 0.006850  eta: 0h3m  tot: 0h12m35s  (77.3%)\rEpoch: 86.7%  lr: 0.011522  loss: 0.006850  eta: 0h3m  tot: 0h12m35s  (77.3%)\rEpoch: 86.8%  lr: 0.011512  loss: 0.006851  eta: 0h3m  tot: 0h12m35s  (77.4%)\rEpoch: 86.9%  lr: 0.011502  loss: 0.006850  eta: 0h3m  tot: 0h12m35s  (77.4%)\rEpoch: 87.0%  lr: 0.011462  loss: 0.006847  eta: 0h3m  tot: 0h12m36s  (77.4%)\rEpoch: 87.0%  lr: 0.011462  loss: 0.006850  eta: 0h3m  tot: 0h12m36s  (77.4%)\rEpoch: 87.1%  lr: 0.011452  loss: 0.006849  eta: 0h3m  tot: 0h12m36s  (77.4%)\rEpoch: 87.2%  lr: 0.011452  loss: 0.006851  eta: 0h3m  tot: 0h12m36s  (77.4%)\rEpoch: 87.3%  lr: 0.011442  loss: 0.006849  eta: 0h3m  tot: 0h12m36s  (77.5%)\rEpoch: 87.4%  lr: 0.011442  loss: 0.006863  eta: 0h3m  tot: 0h12m36s  (77.5%)\rEpoch: 87.5%  lr: 0.011442  loss: 0.006870  eta: 0h3m  tot: 0h12m37s  (77.5%)\rEpoch: 87.6%  lr: 0.011432  loss: 0.006872  eta: 0h3m  tot: 0h12m37s  (77.5%)\rEpoch: 87.7%  lr: 0.011422  loss: 0.006870  eta: 0h3m  tot: 0h12m37s  (77.5%)\rEpoch: 87.8%  lr: 0.011412  loss: 0.006866  eta: 0h3m  tot: 0h12m37s  (77.6%)\rEpoch: 87.9%  lr: 0.011392  loss: 0.006863  eta: 0h3m  tot: 0h12m37s  (77.6%)\rEpoch: 87.9%  lr: 0.011382  loss: 0.006859  eta: 0h3m  tot: 0h12m37s  (77.6%)\rEpoch: 88.0%  lr: 0.011382  loss: 0.006857  eta: 0h3m  tot: 0h12m37s  (77.6%)\rEpoch: 88.1%  lr: 0.011382  loss: 0.006854  eta: 0h3m  tot: 0h12m38s  (77.6%)\rEpoch: 88.2%  lr: 0.011351  loss: 0.006852  eta: 0h3m  tot: 0h12m38s  (77.6%)\rEpoch: 88.3%  lr: 0.011341  loss: 0.006848  eta: 0h3m  tot: 0h12m38s  (77.7%)\rEpoch: 88.4%  lr: 0.011311  loss: 0.006846  eta: 0h3m  tot: 0h12m38s  (77.7%)\rEpoch: 88.5%  lr: 0.011281  loss: 0.006848  eta: 0h3m  tot: 0h12m38s  (77.7%)\rEpoch: 88.6%  lr: 0.011271  loss: 0.006847  eta: 0h3m  tot: 0h12m38s  (77.7%)\rEpoch: 88.7%  lr: 0.011241  loss: 0.006846  eta: 0h3m  tot: 0h12m39s  (77.7%)\rEpoch: 88.8%  lr: 0.011231  loss: 0.006846  eta: 0h3m  tot: 0h12m39s  (77.8%)\rEpoch: 88.8%  lr: 0.011211  loss: 0.006848  eta: 0h3m  tot: 0h12m39s  (77.8%)\rEpoch: 88.9%  lr: 0.011201  loss: 0.006844  eta: 0h3m  tot: 0h12m39s  (77.8%)\rEpoch: 89.0%  lr: 0.011181  loss: 0.006846  eta: 0h3m  tot: 0h12m39s  (77.8%)\rEpoch: 89.1%  lr: 0.011151  loss: 0.006844  eta: 0h3m  tot: 0h12m39s  (77.8%)\rEpoch: 89.2%  lr: 0.011141  loss: 0.006841  eta: 0h3m  tot: 0h12m40s  (77.8%)\rEpoch: 89.3%  lr: 0.011141  loss: 0.006843  eta: 0h3m  tot: 0h12m40s  (77.9%)\rEpoch: 89.4%  lr: 0.011141  loss: 0.006842  eta: 0h3m  tot: 0h12m40s  (77.9%)\rEpoch: 89.5%  lr: 0.011121  loss: 0.006839  eta: 0h3m  tot: 0h12m40s  (77.9%)\rEpoch: 89.6%  lr: 0.011111  loss: 0.006838  eta: 0h3m  tot: 0h12m40s  (77.9%)\rEpoch: 89.7%  lr: 0.011111  loss: 0.006835  eta: 0h3m  tot: 0h12m40s  (77.9%)\rEpoch: 89.7%  lr: 0.011111  loss: 0.006833  eta: 0h3m  tot: 0h12m41s  (77.9%)\rEpoch: 89.8%  lr: 0.011101  loss: 0.006832  eta: 0h3m  tot: 0h12m41s  (78.0%)\rEpoch: 89.9%  lr: 0.011091  loss: 0.006831  eta: 0h3m  tot: 0h12m41s  (78.0%)\rEpoch: 90.0%  lr: 0.011071  loss: 0.006830  eta: 0h3m  tot: 0h12m41s  (78.0%)\rEpoch: 90.1%  lr: 0.011041  loss: 0.006828  eta: 0h3m  tot: 0h12m41s  (78.0%)\rEpoch: 90.2%  lr: 0.011041  loss: 0.006833  eta: 0h3m  tot: 0h12m41s  (78.0%)\rEpoch: 90.3%  lr: 0.011041  loss: 0.006831  eta: 0h3m  tot: 0h12m42s  (78.1%)\rEpoch: 90.4%  lr: 0.011031  loss: 0.006830  eta: 0h3m  tot: 0h12m42s  (78.1%)\rEpoch: 90.5%  lr: 0.011021  loss: 0.006837  eta: 0h3m  tot: 0h12m42s  (78.1%)\rEpoch: 90.6%  lr: 0.011001  loss: 0.006846  eta: 0h3m  tot: 0h12m42s  (78.1%)\rEpoch: 90.6%  lr: 0.011001  loss: 0.006848  eta: 0h3m  tot: 0h12m42s  (78.1%)\rEpoch: 90.7%  lr: 0.010991  loss: 0.006855  eta: 0h3m  tot: 0h12m42s  (78.1%)\rEpoch: 90.8%  lr: 0.010991  loss: 0.006856  eta: 0h3m  tot: 0h12m43s  (78.2%)\rEpoch: 90.9%  lr: 0.010981  loss: 0.006854  eta: 0h3m  tot: 0h12m43s  (78.2%)\rEpoch: 91.0%  lr: 0.010971  loss: 0.006853  eta: 0h3m  tot: 0h12m43s  (78.2%)\rEpoch: 91.1%  lr: 0.010951  loss: 0.006857  eta: 0h3m  tot: 0h12m43s  (78.2%)\rEpoch: 91.2%  lr: 0.010951  loss: 0.006853  eta: 0h3m  tot: 0h12m43s  (78.2%)\rEpoch: 91.3%  lr: 0.010931  loss: 0.006851  eta: 0h3m  tot: 0h12m43s  (78.3%)\rEpoch: 91.4%  lr: 0.010931  loss: 0.006855  eta: 0h3m  tot: 0h12m44s  (78.3%)\rEpoch: 91.5%  lr: 0.010931  loss: 0.006856  eta: 0h3m  tot: 0h12m44s  (78.3%)\rEpoch: 91.5%  lr: 0.010921  loss: 0.006857  eta: 0h3m  tot: 0h12m44s  (78.3%)\rEpoch: 91.6%  lr: 0.010921  loss: 0.006864  eta: 0h3m  tot: 0h12m44s  (78.3%)\rEpoch: 91.7%  lr: 0.010921  loss: 0.006862  eta: 0h3m  tot: 0h12m44s  (78.3%)\rEpoch: 91.8%  lr: 0.010911  loss: 0.006859  eta: 0h3m  tot: 0h12m44s  (78.4%)\rEpoch: 91.9%  lr: 0.010911  loss: 0.006854  eta: 0h3m  tot: 0h12m45s  (78.4%)\rEpoch: 92.0%  lr: 0.010891  loss: 0.006854  eta: 0h3m  tot: 0h12m45s  (78.4%)\rEpoch: 92.1%  lr: 0.010881  loss: 0.006856  eta: 0h3m  tot: 0h12m45s  (78.4%)\rEpoch: 92.2%  lr: 0.010881  loss: 0.006857  eta: 0h3m  tot: 0h12m45s  (78.4%)\rEpoch: 92.3%  lr: 0.010871  loss: 0.006855  eta: 0h3m  tot: 0h12m45s  (78.5%)\rEpoch: 92.4%  lr: 0.010871  loss: 0.006856  eta: 0h3m  tot: 0h12m45s  (78.5%)\rEpoch: 92.4%  lr: 0.010871  loss: 0.006857  eta: 0h3m  tot: 0h12m46s  (78.5%)\rEpoch: 92.5%  lr: 0.010871  loss: 0.006855  eta: 0h3m  tot: 0h12m46s  (78.5%)\rEpoch: 92.6%  lr: 0.010851  loss: 0.006855  eta: 0h3m  tot: 0h12m46s  (78.5%)\rEpoch: 92.7%  lr: 0.010831  loss: 0.006864  eta: 0h3m  tot: 0h12m46s  (78.5%)\rEpoch: 92.8%  lr: 0.010811  loss: 0.006860  eta: 0h3m  tot: 0h12m46s  (78.6%)\rEpoch: 92.9%  lr: 0.010801  loss: 0.006864  eta: 0h3m  tot: 0h12m46s  (78.6%)\rEpoch: 93.0%  lr: 0.010791  loss: 0.006861  eta: 0h3m  tot: 0h12m47s  (78.6%)\rEpoch: 93.1%  lr: 0.010781  loss: 0.006867  eta: 0h3m  tot: 0h12m47s  (78.6%)\rEpoch: 93.2%  lr: 0.010771  loss: 0.006873  eta: 0h3m  tot: 0h12m47s  (78.6%)\rEpoch: 93.3%  lr: 0.010741  loss: 0.006871  eta: 0h3m  tot: 0h12m47s  (78.7%)\rEpoch: 93.3%  lr: 0.010741  loss: 0.006869  eta: 0h3m  tot: 0h12m47s  (78.7%)\rEpoch: 93.4%  lr: 0.010721  loss: 0.006869  eta: 0h3m  tot: 0h12m47s  (78.7%)\rEpoch: 93.5%  lr: 0.010721  loss: 0.006866  eta: 0h3m  tot: 0h12m48s  (78.7%)\rEpoch: 93.6%  lr: 0.010721  loss: 0.006871  eta: 0h3m  tot: 0h12m48s  (78.7%)\rEpoch: 93.7%  lr: 0.010681  loss: 0.006871  eta: 0h3m  tot: 0h12m48s  (78.7%)\rEpoch: 93.8%  lr: 0.010661  loss: 0.006875  eta: 0h3m  tot: 0h12m48s  (78.8%)\rEpoch: 93.9%  lr: 0.010641  loss: 0.006881  eta: 0h3m  tot: 0h12m48s  (78.8%)\rEpoch: 94.0%  lr: 0.010641  loss: 0.006888  eta: 0h3m  tot: 0h12m48s  (78.8%)\rEpoch: 94.1%  lr: 0.010621  loss: 0.006885  eta: 0h3m  tot: 0h12m48s  (78.8%)\rEpoch: 94.2%  lr: 0.010621  loss: 0.006884  eta: 0h3m  tot: 0h12m49s  (78.8%)\rEpoch: 94.2%  lr: 0.010621  loss: 0.006884  eta: 0h3m  tot: 0h12m49s  (78.8%)\rEpoch: 94.3%  lr: 0.010611  loss: 0.006883  eta: 0h3m  tot: 0h12m49s  (78.9%)\rEpoch: 94.4%  lr: 0.010601  loss: 0.006884  eta: 0h3m  tot: 0h12m49s  (78.9%)\rEpoch: 94.5%  lr: 0.010601  loss: 0.006883  eta: 0h3m  tot: 0h12m49s  (78.9%)\rEpoch: 94.6%  lr: 0.010591  loss: 0.006887  eta: 0h3m  tot: 0h12m49s  (78.9%)\rEpoch: 94.7%  lr: 0.010581  loss: 0.006888  eta: 0h3m  tot: 0h12m50s  (78.9%)\rEpoch: 94.8%  lr: 0.010561  loss: 0.006883  eta: 0h3m  tot: 0h12m50s  (79.0%)\rEpoch: 94.9%  lr: 0.010561  loss: 0.006882  eta: 0h3m  tot: 0h12m50s  (79.0%)\rEpoch: 95.0%  lr: 0.010541  loss: 0.006882  eta: 0h3m  tot: 0h12m50s  (79.0%)\rEpoch: 95.1%  lr: 0.010521  loss: 0.006882  eta: 0h3m  tot: 0h12m50s  (79.0%)\rEpoch: 95.1%  lr: 0.010511  loss: 0.006881  eta: 0h3m  tot: 0h12m50s  (79.0%)\rEpoch: 95.2%  lr: 0.010511  loss: 0.006879  eta: 0h3m  tot: 0h12m51s  (79.0%)\rEpoch: 95.3%  lr: 0.010511  loss: 0.006880  eta: 0h3m  tot: 0h12m51s  (79.1%)\rEpoch: 95.4%  lr: 0.010501  loss: 0.006874  eta: 0h3m  tot: 0h12m51s  (79.1%)\rEpoch: 95.5%  lr: 0.010491  loss: 0.006872  eta: 0h3m  tot: 0h12m51s  (79.1%)\rEpoch: 95.6%  lr: 0.010491  loss: 0.006869  eta: 0h3m  tot: 0h12m51s  (79.1%)\rEpoch: 95.7%  lr: 0.010451  loss: 0.006869  eta: 0h3m  tot: 0h12m51s  (79.1%)\rEpoch: 95.8%  lr: 0.010411  loss: 0.006870  eta: 0h3m  tot: 0h12m52s  (79.2%)\rEpoch: 95.9%  lr: 0.010401  loss: 0.006875  eta: 0h3m  tot: 0h12m52s  (79.2%)\rEpoch: 96.0%  lr: 0.010401  loss: 0.006882  eta: 0h3m  tot: 0h12m52s  (79.2%)\rEpoch: 96.0%  lr: 0.010401  loss: 0.006879  eta: 0h3m  tot: 0h12m52s  (79.2%)\rEpoch: 96.1%  lr: 0.010401  loss: 0.006880  eta: 0h3m  tot: 0h12m52s  (79.2%)\rEpoch: 96.2%  lr: 0.010401  loss: 0.006878  eta: 0h3m  tot: 0h12m52s  (79.2%)\rEpoch: 96.3%  lr: 0.010381  loss: 0.006882  eta: 0h3m  tot: 0h12m53s  (79.3%)\rEpoch: 96.4%  lr: 0.010381  loss: 0.006877  eta: 0h3m  tot: 0h12m53s  (79.3%)\rEpoch: 96.5%  lr: 0.010381  loss: 0.006876  eta: 0h3m  tot: 0h12m53s  (79.3%)\rEpoch: 96.6%  lr: 0.010381  loss: 0.006880  eta: 0h3m  tot: 0h12m53s  (79.3%)\rEpoch: 96.7%  lr: 0.010371  loss: 0.006886  eta: 0h3m  tot: 0h12m53s  (79.3%)\rEpoch: 96.8%  lr: 0.010361  loss: 0.006882  eta: 0h3m  tot: 0h12m53s  (79.4%)\rEpoch: 96.9%  lr: 0.010350  loss: 0.006884  eta: 0h3m  tot: 0h12m54s  (79.4%)\rEpoch: 96.9%  lr: 0.010330  loss: 0.006887  eta: 0h3m  tot: 0h12m54s  (79.4%)\rEpoch: 97.0%  lr: 0.010320  loss: 0.006885  eta: 0h3m  tot: 0h12m54s  (79.4%)\rEpoch: 97.1%  lr: 0.010310  loss: 0.006881  eta: 0h3m  tot: 0h12m54s  (79.4%)\rEpoch: 97.2%  lr: 0.010290  loss: 0.006883  eta: 0h3m  tot: 0h12m54s  (79.4%)\rEpoch: 97.3%  lr: 0.010290  loss: 0.006880  eta: 0h3m  tot: 0h12m54s  (79.5%)\rEpoch: 97.4%  lr: 0.010280  loss: 0.006878  eta: 0h3m  tot: 0h12m55s  (79.5%)\rEpoch: 97.5%  lr: 0.010270  loss: 0.006877  eta: 0h3m  tot: 0h12m55s  (79.5%)\rEpoch: 97.6%  lr: 0.010270  loss: 0.006876  eta: 0h3m  tot: 0h12m55s  (79.5%)\rEpoch: 97.7%  lr: 0.010250  loss: 0.006879  eta: 0h3m  tot: 0h12m55s  (79.5%)\rEpoch: 97.8%  lr: 0.010240  loss: 0.006879  eta: 0h3m  tot: 0h12m55s  (79.6%)\rEpoch: 97.8%  lr: 0.010230  loss: 0.006878  eta: 0h3m  tot: 0h12m55s  (79.6%)\rEpoch: 97.9%  lr: 0.010220  loss: 0.006878  eta: 0h3m  tot: 0h12m56s  (79.6%)\rEpoch: 98.0%  lr: 0.010220  loss: 0.006873  eta: 0h3m  tot: 0h12m56s  (79.6%)\rEpoch: 98.1%  lr: 0.010190  loss: 0.006871  eta: 0h3m  tot: 0h12m56s  (79.6%)\rEpoch: 98.2%  lr: 0.010180  loss: 0.006874  eta: 0h3m  tot: 0h12m56s  (79.6%)\rEpoch: 98.3%  lr: 0.010170  loss: 0.006871  eta: 0h3m  tot: 0h12m56s  (79.7%)\rEpoch: 98.4%  lr: 0.010150  loss: 0.006869  eta: 0h3m  tot: 0h12m56s  (79.7%)\rEpoch: 98.5%  lr: 0.010140  loss: 0.006870  eta: 0h3m  tot: 0h12m57s  (79.7%)\rEpoch: 98.6%  lr: 0.010140  loss: 0.006866  eta: 0h3m  tot: 0h12m57s  (79.7%)\rEpoch: 98.7%  lr: 0.010130  loss: 0.006867  eta: 0h3m  tot: 0h12m57s  (79.7%)\rEpoch: 98.7%  lr: 0.010130  loss: 0.006863  eta: 0h3m  tot: 0h12m57s  (79.7%)\rEpoch: 98.8%  lr: 0.010120  loss: 0.006861  eta: 0h3m  tot: 0h12m57s  (79.8%)\rEpoch: 98.9%  lr: 0.010100  loss: 0.006863  eta: 0h3m  tot: 0h12m57s  (79.8%)\rEpoch: 99.0%  lr: 0.010100  loss: 0.006859  eta: 0h3m  tot: 0h12m57s  (79.8%)\rEpoch: 99.1%  lr: 0.010080  loss: 0.006864  eta: 0h3m  tot: 0h12m58s  (79.8%)\rEpoch: 99.2%  lr: 0.010070  loss: 0.006860  eta: 0h3m  tot: 0h12m58s  (79.8%)\rEpoch: 99.3%  lr: 0.010070  loss: 0.006856  eta: 0h3m  tot: 0h12m58s  (79.9%)\rEpoch: 99.4%  lr: 0.010050  loss: 0.006853  eta: 0h3m  tot: 0h12m58s  (79.9%)\rEpoch: 99.5%  lr: 0.010050  loss: 0.006852  eta: 0h3m  tot: 0h12m58s  (79.9%)\rEpoch: 99.6%  lr: 0.010040  loss: 0.006848  eta: 0h3m  tot: 0h12m58s  (79.9%)\rEpoch: 99.6%  lr: 0.010010  loss: 0.006847  eta: 0h3m  tot: 0h12m59s  (79.9%)\rEpoch: 99.7%  lr: 0.010010  loss: 0.006844  eta: 0h3m  tot: 0h12m59s  (79.9%)\rEpoch: 99.8%  lr: 0.010000  loss: 0.006858  eta: 0h3m  tot: 0h12m59s  (80.0%)\rEpoch: 99.9%  lr: 0.010000  loss: 0.006856  eta: 0h3m  tot: 0h12m59s  (80.0%)\rEpoch: 100.0%  lr: 0.010000  loss: 0.006856  eta: 0h3m  tot: 0h12m59s  (80.0%)\rEpoch: 0.1%  lr: 0.009990  loss: 0.007503  eta: 0h2m  tot: 0h12m59s  (80.0%)\rEpoch: 0.2%  lr: 0.009990  loss: 0.006906  eta: 0h2m  tot: 0h12m59s  (80.0%)\rEpoch: 0.3%  lr: 0.009960  loss: 0.005256  eta: 0h2m  tot: 0h12m59s  (80.1%)\rEpoch: 0.4%  lr: 0.009960  loss: 0.007678  eta: 0h3m  tot: 0h13m0s  (80.1%)\rEpoch: 0.4%  lr: 0.009950  loss: 0.007283  eta: 0h3m  tot: 0h13m0s  (80.1%)\rEpoch: 0.5%  lr: 0.009950  loss: 0.008434  eta: 0h3m  tot: 0h13m0s  (80.1%)\rEpoch: 0.6%  lr: 0.009950  loss: 0.007875  eta: 0h3m  tot: 0h13m0s  (80.1%)\rEpoch: 0.7%  lr: 0.009950  loss: 0.007325  eta: 0h3m  tot: 0h13m0s  (80.1%)\rEpoch: 0.8%  lr: 0.009950  loss: 0.008606  eta: 0h3m  tot: 0h13m0s  (80.2%)\rEpoch: 0.9%  lr: 0.009950  loss: 0.008047  eta: 0h3m  tot: 0h13m1s  (80.2%)\rEpoch: 1.0%  lr: 0.009940  loss: 0.007665  eta: 0h3m  tot: 0h13m1s  (80.2%)\rEpoch: 1.1%  lr: 0.009940  loss: 0.007243  eta: 0h3m  tot: 0h13m1s  (80.2%)\rEpoch: 1.2%  lr: 0.009940  loss: 0.007302  eta: 0h3m  tot: 0h13m1s  (80.2%)\rEpoch: 1.3%  lr: 0.009930  loss: 0.007830  eta: 0h3m  tot: 0h13m1s  (80.3%)\rEpoch: 1.3%  lr: 0.009920  loss: 0.007511  eta: 0h3m  tot: 0h13m1s  (80.3%)\rEpoch: 1.4%  lr: 0.009910  loss: 0.007302  eta: 0h3m  tot: 0h13m2s  (80.3%)\rEpoch: 1.5%  lr: 0.009900  loss: 0.007370  eta: 0h3m  tot: 0h13m2s  (80.3%)\rEpoch: 1.6%  lr: 0.009870  loss: 0.007199  eta: 0h3m  tot: 0h13m2s  (80.3%)\rEpoch: 1.7%  lr: 0.009870  loss: 0.007192  eta: 0h2m  tot: 0h13m2s  (80.3%)\rEpoch: 1.8%  lr: 0.009870  loss: 0.007070  eta: 0h2m  tot: 0h13m2s  (80.4%)\rEpoch: 1.9%  lr: 0.009870  loss: 0.007204  eta: 0h2m  tot: 0h13m2s  (80.4%)\rEpoch: 2.0%  lr: 0.009850  loss: 0.006927  eta: 0h2m  tot: 0h13m2s  (80.4%)\rEpoch: 2.1%  lr: 0.009840  loss: 0.006783  eta: 0h2m  tot: 0h13m3s  (80.4%)\rEpoch: 2.2%  lr: 0.009840  loss: 0.006606  eta: 0h2m  tot: 0h13m3s  (80.4%)\rEpoch: 2.2%  lr: 0.009840  loss: 0.006484  eta: 0h2m  tot: 0h13m3s  (80.4%)\rEpoch: 2.3%  lr: 0.009840  loss: 0.006427  eta: 0h2m  tot: 0h13m3s  (80.5%)\rEpoch: 2.4%  lr: 0.009790  loss: 0.006556  eta: 0h2m  tot: 0h13m3s  (80.5%)\rEpoch: 2.5%  lr: 0.009770  loss: 0.006403  eta: 0h2m  tot: 0h13m3s  (80.5%)\rEpoch: 2.6%  lr: 0.009750  loss: 0.006446  eta: 0h2m  tot: 0h13m4s  (80.5%)\rEpoch: 2.7%  lr: 0.009740  loss: 0.006415  eta: 0h2m  tot: 0h13m4s  (80.5%)\rEpoch: 2.8%  lr: 0.009730  loss: 0.006321  eta: 0h2m  tot: 0h13m4s  (80.6%)\rEpoch: 2.9%  lr: 0.009720  loss: 0.006416  eta: 0h2m  tot: 0h13m4s  (80.6%)\rEpoch: 3.0%  lr: 0.009720  loss: 0.006690  eta: 0h2m  tot: 0h13m4s  (80.6%)\rEpoch: 3.1%  lr: 0.009710  loss: 0.006805  eta: 0h2m  tot: 0h13m4s  (80.6%)\rEpoch: 3.1%  lr: 0.009710  loss: 0.006693  eta: 0h2m  tot: 0h13m5s  (80.6%)\rEpoch: 3.2%  lr: 0.009700  loss: 0.006748  eta: 0h2m  tot: 0h13m5s  (80.6%)\rEpoch: 3.3%  lr: 0.009690  loss: 0.006714  eta: 0h2m  tot: 0h13m5s  (80.7%)\rEpoch: 3.4%  lr: 0.009690  loss: 0.006641  eta: 0h2m  tot: 0h13m5s  (80.7%)\rEpoch: 3.5%  lr: 0.009690  loss: 0.006655  eta: 0h2m  tot: 0h13m5s  (80.7%)\rEpoch: 3.6%  lr: 0.009690  loss: 0.006516  eta: 0h2m  tot: 0h13m5s  (80.7%)\rEpoch: 3.7%  lr: 0.009690  loss: 0.006651  eta: 0h2m  tot: 0h13m6s  (80.7%)\rEpoch: 3.8%  lr: 0.009690  loss: 0.006793  eta: 0h2m  tot: 0h13m6s  (80.8%)\rEpoch: 3.9%  lr: 0.009680  loss: 0.006851  eta: 0h2m  tot: 0h13m6s  (80.8%)\rEpoch: 4.0%  lr: 0.009660  loss: 0.006807  eta: 0h2m  tot: 0h13m6s  (80.8%)\rEpoch: 4.0%  lr: 0.009650  loss: 0.006801  eta: 0h2m  tot: 0h13m6s  (80.8%)\rEpoch: 4.1%  lr: 0.009630  loss: 0.006875  eta: 0h2m  tot: 0h13m6s  (80.8%)\rEpoch: 4.2%  lr: 0.009620  loss: 0.006779  eta: 0h2m  tot: 0h13m7s  (80.8%)\rEpoch: 4.3%  lr: 0.009610  loss: 0.006682  eta: 0h2m  tot: 0h13m7s  (80.9%)\rEpoch: 4.4%  lr: 0.009610  loss: 0.006599  eta: 0h2m  tot: 0h13m7s  (80.9%)\rEpoch: 4.5%  lr: 0.009600  loss: 0.006535  eta: 0h2m  tot: 0h13m7s  (80.9%)\rEpoch: 4.6%  lr: 0.009590  loss: 0.006489  eta: 0h2m  tot: 0h13m7s  (80.9%)\rEpoch: 4.7%  lr: 0.009590  loss: 0.006447  eta: 0h2m  tot: 0h13m7s  (80.9%)\rEpoch: 4.8%  lr: 0.009580  loss: 0.006462  eta: 0h2m  tot: 0h13m8s  (81.0%)\rEpoch: 4.9%  lr: 0.009570  loss: 0.006369  eta: 0h2m  tot: 0h13m8s  (81.0%)\rEpoch: 5.0%  lr: 0.009570  loss: 0.006452  eta: 0h2m  tot: 0h13m8s  (81.0%)\rEpoch: 5.0%  lr: 0.009570  loss: 0.006385  eta: 0h2m  tot: 0h13m8s  (81.0%)\rEpoch: 5.1%  lr: 0.009560  loss: 0.006378  eta: 0h2m  tot: 0h13m8s  (81.0%)\rEpoch: 5.2%  lr: 0.009560  loss: 0.006310  eta: 0h2m  tot: 0h13m8s  (81.0%)\rEpoch: 5.3%  lr: 0.009560  loss: 0.006294  eta: 0h2m  tot: 0h13m9s  (81.1%)\rEpoch: 5.4%  lr: 0.009540  loss: 0.006258  eta: 0h2m  tot: 0h13m9s  (81.1%)\rEpoch: 5.5%  lr: 0.009540  loss: 0.006352  eta: 0h2m  tot: 0h13m9s  (81.1%)\rEpoch: 5.6%  lr: 0.009520  loss: 0.006335  eta: 0h2m  tot: 0h13m9s  (81.1%)\rEpoch: 5.7%  lr: 0.009500  loss: 0.006310  eta: 0h2m  tot: 0h13m9s  (81.1%)\rEpoch: 5.8%  lr: 0.009479  loss: 0.006249  eta: 0h2m  tot: 0h13m9s  (81.2%)\rEpoch: 5.9%  lr: 0.009479  loss: 0.006221  eta: 0h2m  tot: 0h13m10s  (81.2%)\rEpoch: 5.9%  lr: 0.009469  loss: 0.006202  eta: 0h2m  tot: 0h13m10s  (81.2%)\rEpoch: 6.0%  lr: 0.009469  loss: 0.006157  eta: 0h2m  tot: 0h13m10s  (81.2%)\rEpoch: 6.1%  lr: 0.009449  loss: 0.006171  eta: 0h2m  tot: 0h13m10s  (81.2%)\rEpoch: 6.2%  lr: 0.009449  loss: 0.006116  eta: 0h2m  tot: 0h13m10s  (81.2%)\rEpoch: 6.3%  lr: 0.009439  loss: 0.006071  eta: 0h2m  tot: 0h13m10s  (81.3%)\rEpoch: 6.4%  lr: 0.009419  loss: 0.006077  eta: 0h2m  tot: 0h13m11s  (81.3%)\rEpoch: 6.5%  lr: 0.009399  loss: 0.006070  eta: 0h2m  tot: 0h13m11s  (81.3%)\rEpoch: 6.6%  lr: 0.009389  loss: 0.006075  eta: 0h2m  tot: 0h13m11s  (81.3%)\rEpoch: 6.7%  lr: 0.009379  loss: 0.006040  eta: 0h2m  tot: 0h13m11s  (81.3%)\rEpoch: 6.8%  lr: 0.009369  loss: 0.006008  eta: 0h2m  tot: 0h13m11s  (81.4%)\rEpoch: 6.8%  lr: 0.009369  loss: 0.005959  eta: 0h2m  tot: 0h13m11s  (81.4%)\rEpoch: 6.9%  lr: 0.009369  loss: 0.005909  eta: 0h2m  tot: 0h13m12s  (81.4%)\rEpoch: 7.0%  lr: 0.009369  loss: 0.005904  eta: 0h2m  tot: 0h13m12s  (81.4%)\rEpoch: 7.1%  lr: 0.009349  loss: 0.005860  eta: 0h2m  tot: 0h13m12s  (81.4%)\rEpoch: 7.2%  lr: 0.009339  loss: 0.005828  eta: 0h2m  tot: 0h13m12s  (81.4%)\rEpoch: 7.3%  lr: 0.009329  loss: 0.005780  eta: 0h2m  tot: 0h13m12s  (81.5%)\rEpoch: 7.4%  lr: 0.009329  loss: 0.005881  eta: 0h2m  tot: 0h13m12s  (81.5%)\rEpoch: 7.5%  lr: 0.009309  loss: 0.005899  eta: 0h2m  tot: 0h13m12s  (81.5%)\rEpoch: 7.6%  lr: 0.009309  loss: 0.006006  eta: 0h2m  tot: 0h13m13s  (81.5%)\rEpoch: 7.7%  lr: 0.009299  loss: 0.005945  eta: 0h2m  tot: 0h13m13s  (81.5%)\rEpoch: 7.7%  lr: 0.009269  loss: 0.005994  eta: 0h2m  tot: 0h13m13s  (81.5%)\rEpoch: 7.8%  lr: 0.009269  loss: 0.006074  eta: 0h2m  tot: 0h13m13s  (81.6%)\rEpoch: 7.9%  lr: 0.009249  loss: 0.006053  eta: 0h2m  tot: 0h13m13s  (81.6%)\rEpoch: 8.0%  lr: 0.009239  loss: 0.006162  eta: 0h2m  tot: 0h13m13s  (81.6%)\rEpoch: 8.1%  lr: 0.009239  loss: 0.006125  eta: 0h2m  tot: 0h13m14s  (81.6%)\rEpoch: 8.2%  lr: 0.009229  loss: 0.006112  eta: 0h2m  tot: 0h13m14s  (81.6%)\rEpoch: 8.3%  lr: 0.009209  loss: 0.006162  eta: 0h2m  tot: 0h13m14s  (81.7%)\rEpoch: 8.4%  lr: 0.009209  loss: 0.006161  eta: 0h2m  tot: 0h13m14s  (81.7%)\rEpoch: 8.5%  lr: 0.009189  loss: 0.006224  eta: 0h2m  tot: 0h13m14s  (81.7%)\rEpoch: 8.6%  lr: 0.009159  loss: 0.006234  eta: 0h2m  tot: 0h13m14s  (81.7%)\rEpoch: 8.6%  lr: 0.009159  loss: 0.006239  eta: 0h2m  tot: 0h13m15s  (81.7%)\rEpoch: 8.7%  lr: 0.009149  loss: 0.006350  eta: 0h2m  tot: 0h13m15s  (81.7%)\rEpoch: 8.8%  lr: 0.009129  loss: 0.006310  eta: 0h2m  tot: 0h13m15s  (81.8%)\rEpoch: 8.9%  lr: 0.009109  loss: 0.006291  eta: 0h2m  tot: 0h13m15s  (81.8%)\rEpoch: 9.0%  lr: 0.009079  loss: 0.006265  eta: 0h2m  tot: 0h13m15s  (81.8%)\rEpoch: 9.1%  lr: 0.009059  loss: 0.006282  eta: 0h2m  tot: 0h13m15s  (81.8%)\rEpoch: 9.2%  lr: 0.009039  loss: 0.006254  eta: 0h2m  tot: 0h13m16s  (81.8%)\rEpoch: 9.3%  lr: 0.009029  loss: 0.006251  eta: 0h2m  tot: 0h13m16s  (81.9%)\rEpoch: 9.4%  lr: 0.009009  loss: 0.006232  eta: 0h2m  tot: 0h13m16s  (81.9%)\rEpoch: 9.5%  lr: 0.009009  loss: 0.006267  eta: 0h2m  tot: 0h13m16s  (81.9%)\rEpoch: 9.5%  lr: 0.009009  loss: 0.006270  eta: 0h2m  tot: 0h13m16s  (81.9%)\rEpoch: 9.6%  lr: 0.008989  loss: 0.006278  eta: 0h2m  tot: 0h13m16s  (81.9%)\rEpoch: 9.7%  lr: 0.008979  loss: 0.006283  eta: 0h2m  tot: 0h13m17s  (81.9%)\rEpoch: 9.8%  lr: 0.008979  loss: 0.006236  eta: 0h2m  tot: 0h13m17s  (82.0%)\rEpoch: 9.9%  lr: 0.008959  loss: 0.006248  eta: 0h2m  tot: 0h13m17s  (82.0%)\rEpoch: 10.0%  lr: 0.008959  loss: 0.006272  eta: 0h2m  tot: 0h13m17s  (82.0%)\rEpoch: 10.1%  lr: 0.008959  loss: 0.006255  eta: 0h2m  tot: 0h13m17s  (82.0%)\rEpoch: 10.2%  lr: 0.008959  loss: 0.006350  eta: 0h2m  tot: 0h13m17s  (82.0%)\rEpoch: 10.3%  lr: 0.008939  loss: 0.006356  eta: 0h2m  tot: 0h13m18s  (82.1%)\rEpoch: 10.4%  lr: 0.008929  loss: 0.006343  eta: 0h2m  tot: 0h13m18s  (82.1%)\rEpoch: 10.4%  lr: 0.008929  loss: 0.006327  eta: 0h2m  tot: 0h13m18s  (82.1%)\rEpoch: 10.5%  lr: 0.008919  loss: 0.006295  eta: 0h2m  tot: 0h13m18s  (82.1%)\rEpoch: 10.6%  lr: 0.008899  loss: 0.006253  eta: 0h2m  tot: 0h13m18s  (82.1%)\rEpoch: 10.7%  lr: 0.008899  loss: 0.006275  eta: 0h2m  tot: 0h13m18s  (82.1%)\rEpoch: 10.8%  lr: 0.008899  loss: 0.006251  eta: 0h2m  tot: 0h13m18s  (82.2%)\rEpoch: 10.9%  lr: 0.008899  loss: 0.006246  eta: 0h2m  tot: 0h13m19s  (82.2%)\rEpoch: 11.0%  lr: 0.008889  loss: 0.006225  eta: 0h2m  tot: 0h13m19s  (82.2%)\rEpoch: 11.1%  lr: 0.008889  loss: 0.006253  eta: 0h2m  tot: 0h13m19s  (82.2%)\rEpoch: 11.2%  lr: 0.008889  loss: 0.006271  eta: 0h2m  tot: 0h13m19s  (82.2%)\rEpoch: 11.3%  lr: 0.008889  loss: 0.006262  eta: 0h2m  tot: 0h13m19s  (82.3%)\rEpoch: 11.3%  lr: 0.008889  loss: 0.006280  eta: 0h2m  tot: 0h13m20s  (82.3%)\rEpoch: 11.4%  lr: 0.008889  loss: 0.006294  eta: 0h2m  tot: 0h13m20s  (82.3%)\rEpoch: 11.5%  lr: 0.008869  loss: 0.006376  eta: 0h2m  tot: 0h13m20s  (82.3%)\rEpoch: 11.6%  lr: 0.008849  loss: 0.006399  eta: 0h2m  tot: 0h13m20s  (82.3%)\rEpoch: 11.7%  lr: 0.008829  loss: 0.006362  eta: 0h2m  tot: 0h13m20s  (82.3%)\rEpoch: 11.8%  lr: 0.008829  loss: 0.006342  eta: 0h2m  tot: 0h13m20s  (82.4%)\rEpoch: 11.9%  lr: 0.008819  loss: 0.006336  eta: 0h2m  tot: 0h13m21s  (82.4%)\rEpoch: 12.0%  lr: 0.008819  loss: 0.006311  eta: 0h2m  tot: 0h13m21s  (82.4%)\rEpoch: 12.1%  lr: 0.008809  loss: 0.006295  eta: 0h2m  tot: 0h13m21s  (82.4%)\rEpoch: 12.2%  lr: 0.008809  loss: 0.006333  eta: 0h2m  tot: 0h13m21s  (82.4%)\rEpoch: 12.2%  lr: 0.008799  loss: 0.006373  eta: 0h2m  tot: 0h13m21s  (82.4%)\rEpoch: 12.3%  lr: 0.008789  loss: 0.006381  eta: 0h2m  tot: 0h13m21s  (82.5%)\rEpoch: 12.4%  lr: 0.008769  loss: 0.006373  eta: 0h2m  tot: 0h13m22s  (82.5%)\rEpoch: 12.5%  lr: 0.008769  loss: 0.006339  eta: 0h2m  tot: 0h13m22s  (82.5%)\rEpoch: 12.6%  lr: 0.008759  loss: 0.006323  eta: 0h2m  tot: 0h13m22s  (82.5%)\rEpoch: 12.7%  lr: 0.008759  loss: 0.006317  eta: 0h2m  tot: 0h13m22s  (82.5%)\rEpoch: 12.8%  lr: 0.008739  loss: 0.006306  eta: 0h2m  tot: 0h13m22s  (82.6%)\rEpoch: 12.9%  lr: 0.008719  loss: 0.006267  eta: 0h2m  tot: 0h13m22s  (82.6%)\rEpoch: 13.0%  lr: 0.008709  loss: 0.006255  eta: 0h2m  tot: 0h13m23s  (82.6%)\rEpoch: 13.1%  lr: 0.008689  loss: 0.006259  eta: 0h2m  tot: 0h13m23s  (82.6%)\rEpoch: 13.1%  lr: 0.008679  loss: 0.006267  eta: 0h2m  tot: 0h13m23s  (82.6%)\rEpoch: 13.2%  lr: 0.008679  loss: 0.006236  eta: 0h2m  tot: 0h13m23s  (82.6%)\rEpoch: 13.3%  lr: 0.008659  loss: 0.006243  eta: 0h2m  tot: 0h13m23s  (82.7%)\rEpoch: 13.4%  lr: 0.008649  loss: 0.006226  eta: 0h2m  tot: 0h13m23s  (82.7%)\rEpoch: 13.5%  lr: 0.008629  loss: 0.006228  eta: 0h2m  tot: 0h13m24s  (82.7%)\rEpoch: 13.6%  lr: 0.008629  loss: 0.006239  eta: 0h2m  tot: 0h13m24s  (82.7%)\rEpoch: 13.7%  lr: 0.008619  loss: 0.006214  eta: 0h2m  tot: 0h13m24s  (82.7%)\rEpoch: 13.8%  lr: 0.008619  loss: 0.006216  eta: 0h2m  tot: 0h13m24s  (82.8%)\rEpoch: 13.9%  lr: 0.008619  loss: 0.006197  eta: 0h2m  tot: 0h13m24s  (82.8%)\rEpoch: 14.0%  lr: 0.008619  loss: 0.006171  eta: 0h2m  tot: 0h13m24s  (82.8%)\rEpoch: 14.0%  lr: 0.008619  loss: 0.006159  eta: 0h2m  tot: 0h13m25s  (82.8%)\rEpoch: 14.1%  lr: 0.008619  loss: 0.006162  eta: 0h2m  tot: 0h13m25s  (82.8%)\rEpoch: 14.2%  lr: 0.008599  loss: 0.006165  eta: 0h2m  tot: 0h13m25s  (82.8%)\rEpoch: 14.3%  lr: 0.008589  loss: 0.006157  eta: 0h2m  tot: 0h13m25s  (82.9%)\rEpoch: 14.4%  lr: 0.008569  loss: 0.006163  eta: 0h2m  tot: 0h13m25s  (82.9%)\rEpoch: 14.5%  lr: 0.008569  loss: 0.006154  eta: 0h2m  tot: 0h13m25s  (82.9%)\rEpoch: 14.6%  lr: 0.008569  loss: 0.006158  eta: 0h2m  tot: 0h13m26s  (82.9%)\rEpoch: 14.7%  lr: 0.008559  loss: 0.006168  eta: 0h2m  tot: 0h13m26s  (82.9%)\rEpoch: 14.8%  lr: 0.008539  loss: 0.006153  eta: 0h2m  tot: 0h13m26s  (83.0%)\rEpoch: 14.9%  lr: 0.008519  loss: 0.006139  eta: 0h2m  tot: 0h13m26s  (83.0%)\rEpoch: 14.9%  lr: 0.008519  loss: 0.006139  eta: 0h2m  tot: 0h13m26s  (83.0%)\rEpoch: 15.0%  lr: 0.008519  loss: 0.006130  eta: 0h2m  tot: 0h13m26s  (83.0%)\rEpoch: 15.1%  lr: 0.008519  loss: 0.006129  eta: 0h2m  tot: 0h13m27s  (83.0%)\rEpoch: 15.2%  lr: 0.008499  loss: 0.006137  eta: 0h2m  tot: 0h13m27s  (83.0%)\rEpoch: 15.3%  lr: 0.008479  loss: 0.006111  eta: 0h2m  tot: 0h13m27s  (83.1%)\rEpoch: 15.4%  lr: 0.008468  loss: 0.006110  eta: 0h2m  tot: 0h13m27s  (83.1%)\rEpoch: 15.5%  lr: 0.008468  loss: 0.006094  eta: 0h2m  tot: 0h13m27s  (83.1%)\rEpoch: 15.6%  lr: 0.008448  loss: 0.006113  eta: 0h2m  tot: 0h13m27s  (83.1%)\rEpoch: 15.7%  lr: 0.008428  loss: 0.006129  eta: 0h2m  tot: 0h13m28s  (83.1%)\rEpoch: 15.8%  lr: 0.008418  loss: 0.006135  eta: 0h2m  tot: 0h13m28s  (83.2%)\rEpoch: 15.8%  lr: 0.008418  loss: 0.006170  eta: 0h2m  tot: 0h13m28s  (83.2%)\rEpoch: 15.9%  lr: 0.008418  loss: 0.006171  eta: 0h2m  tot: 0h13m28s  (83.2%)\rEpoch: 16.0%  lr: 0.008398  loss: 0.006158  eta: 0h2m  tot: 0h13m28s  (83.2%)\rEpoch: 16.1%  lr: 0.008398  loss: 0.006178  eta: 0h2m  tot: 0h13m28s  (83.2%)\rEpoch: 16.2%  lr: 0.008398  loss: 0.006211  eta: 0h2m  tot: 0h13m29s  (83.2%)\rEpoch: 16.3%  lr: 0.008368  loss: 0.006201  eta: 0h2m  tot: 0h13m29s  (83.3%)\rEpoch: 16.4%  lr: 0.008358  loss: 0.006194  eta: 0h2m  tot: 0h13m29s  (83.3%)\rEpoch: 16.5%  lr: 0.008358  loss: 0.006172  eta: 0h2m  tot: 0h13m29s  (83.3%)\rEpoch: 16.6%  lr: 0.008358  loss: 0.006171  eta: 0h2m  tot: 0h13m29s  (83.3%)\rEpoch: 16.7%  lr: 0.008348  loss: 0.006158  eta: 0h2m  tot: 0h13m29s  (83.3%)\rEpoch: 16.7%  lr: 0.008338  loss: 0.006174  eta: 0h2m  tot: 0h13m30s  (83.3%)\rEpoch: 16.8%  lr: 0.008328  loss: 0.006184  eta: 0h2m  tot: 0h13m30s  (83.4%)\rEpoch: 16.9%  lr: 0.008318  loss: 0.006164  eta: 0h2m  tot: 0h13m30s  (83.4%)\rEpoch: 17.0%  lr: 0.008298  loss: 0.006167  eta: 0h2m  tot: 0h13m30s  (83.4%)\rEpoch: 17.1%  lr: 0.008288  loss: 0.006171  eta: 0h2m  tot: 0h13m30s  (83.4%)\rEpoch: 17.2%  lr: 0.008268  loss: 0.006171  eta: 0h2m  tot: 0h13m30s  (83.4%)\rEpoch: 17.3%  lr: 0.008248  loss: 0.006161  eta: 0h2m  tot: 0h13m31s  (83.5%)\rEpoch: 17.4%  lr: 0.008248  loss: 0.006144  eta: 0h2m  tot: 0h13m31s  (83.5%)\rEpoch: 17.5%  lr: 0.008248  loss: 0.006132  eta: 0h2m  tot: 0h13m31s  (83.5%)\rEpoch: 17.6%  lr: 0.008248  loss: 0.006125  eta: 0h2m  tot: 0h13m31s  (83.5%)\rEpoch: 17.6%  lr: 0.008228  loss: 0.006102  eta: 0h2m  tot: 0h13m31s  (83.5%)\rEpoch: 17.7%  lr: 0.008228  loss: 0.006115  eta: 0h2m  tot: 0h13m32s  (83.5%)\rEpoch: 17.8%  lr: 0.008228  loss: 0.006111  eta: 0h2m  tot: 0h13m32s  (83.6%)\rEpoch: 17.9%  lr: 0.008208  loss: 0.006154  eta: 0h2m  tot: 0h13m32s  (83.6%)\rEpoch: 18.0%  lr: 0.008198  loss: 0.006146  eta: 0h2m  tot: 0h13m32s  (83.6%)\rEpoch: 18.1%  lr: 0.008168  loss: 0.006129  eta: 0h2m  tot: 0h13m32s  (83.6%)\rEpoch: 18.2%  lr: 0.008168  loss: 0.006116  eta: 0h2m  tot: 0h13m32s  (83.6%)\rEpoch: 18.3%  lr: 0.008168  loss: 0.006123  eta: 0h2m  tot: 0h13m33s  (83.7%)\rEpoch: 18.4%  lr: 0.008148  loss: 0.006120  eta: 0h2m  tot: 0h13m33s  (83.7%)\rEpoch: 18.5%  lr: 0.008148  loss: 0.006103  eta: 0h2m  tot: 0h13m33s  (83.7%)\rEpoch: 18.5%  lr: 0.008118  loss: 0.006105  eta: 0h2m  tot: 0h13m33s  (83.7%)\rEpoch: 18.6%  lr: 0.008118  loss: 0.006104  eta: 0h2m  tot: 0h13m33s  (83.7%)\rEpoch: 18.7%  lr: 0.008108  loss: 0.006103  eta: 0h2m  tot: 0h13m33s  (83.7%)\rEpoch: 18.8%  lr: 0.008108  loss: 0.006096  eta: 0h2m  tot: 0h13m34s  (83.8%)\rEpoch: 18.9%  lr: 0.008098  loss: 0.006081  eta: 0h2m  tot: 0h13m34s  (83.8%)\rEpoch: 19.0%  lr: 0.008098  loss: 0.006069  eta: 0h2m  tot: 0h13m34s  (83.8%)\rEpoch: 19.1%  lr: 0.008088  loss: 0.006056  eta: 0h2m  tot: 0h13m34s  (83.8%)\rEpoch: 19.2%  lr: 0.008068  loss: 0.006071  eta: 0h2m  tot: 0h13m34s  (83.8%)\rEpoch: 19.3%  lr: 0.008058  loss: 0.006055  eta: 0h2m  tot: 0h13m34s  (83.9%)\rEpoch: 19.4%  lr: 0.008048  loss: 0.006058  eta: 0h2m  tot: 0h13m35s  (83.9%)\rEpoch: 19.4%  lr: 0.007998  loss: 0.006040  eta: 0h2m  tot: 0h13m35s  (83.9%)\rEpoch: 19.5%  lr: 0.007988  loss: 0.006032  eta: 0h2m  tot: 0h13m35s  (83.9%)\rEpoch: 19.6%  lr: 0.007978  loss: 0.006024  eta: 0h2m  tot: 0h13m35s  (83.9%)\rEpoch: 19.7%  lr: 0.007958  loss: 0.006028  eta: 0h2m  tot: 0h13m35s  (83.9%)\rEpoch: 19.8%  lr: 0.007938  loss: 0.006034  eta: 0h2m  tot: 0h13m35s  (84.0%)\rEpoch: 19.9%  lr: 0.007928  loss: 0.006029  eta: 0h2m  tot: 0h13m36s  (84.0%)\rEpoch: 20.0%  lr: 0.007928  loss: 0.006052  eta: 0h2m  tot: 0h13m36s  (84.0%)\rEpoch: 20.1%  lr: 0.007928  loss: 0.006036  eta: 0h2m  tot: 0h13m36s  (84.0%)\rEpoch: 20.2%  lr: 0.007918  loss: 0.006048  eta: 0h2m  tot: 0h13m36s  (84.0%)\rEpoch: 20.3%  lr: 0.007908  loss: 0.006046  eta: 0h2m  tot: 0h13m36s  (84.1%)\rEpoch: 20.3%  lr: 0.007908  loss: 0.006042  eta: 0h2m  tot: 0h13m37s  (84.1%)\rEpoch: 20.4%  lr: 0.007898  loss: 0.006036  eta: 0h2m  tot: 0h13m37s  (84.1%)\rEpoch: 20.5%  lr: 0.007898  loss: 0.006026  eta: 0h2m  tot: 0h13m37s  (84.1%)\rEpoch: 20.6%  lr: 0.007868  loss: 0.006045  eta: 0h2m  tot: 0h13m37s  (84.1%)\rEpoch: 20.7%  lr: 0.007868  loss: 0.006025  eta: 0h2m  tot: 0h13m37s  (84.1%)\rEpoch: 20.8%  lr: 0.007838  loss: 0.006048  eta: 0h2m  tot: 0h13m37s  (84.2%)\rEpoch: 20.9%  lr: 0.007838  loss: 0.006047  eta: 0h2m  tot: 0h13m38s  (84.2%)\rEpoch: 21.0%  lr: 0.007818  loss: 0.006077  eta: 0h2m  tot: 0h13m38s  (84.2%)\rEpoch: 21.1%  lr: 0.007808  loss: 0.006075  eta: 0h2m  tot: 0h13m38s  (84.2%)\rEpoch: 21.2%  lr: 0.007798  loss: 0.006052  eta: 0h2m  tot: 0h13m38s  (84.2%)\rEpoch: 21.2%  lr: 0.007778  loss: 0.006041  eta: 0h2m  tot: 0h13m38s  (84.2%)\rEpoch: 21.3%  lr: 0.007778  loss: 0.006044  eta: 0h2m  tot: 0h13m38s  (84.3%)\rEpoch: 21.4%  lr: 0.007768  loss: 0.006074  eta: 0h2m  tot: 0h13m39s  (84.3%)\rEpoch: 21.5%  lr: 0.007748  loss: 0.006058  eta: 0h2m  tot: 0h13m39s  (84.3%)\rEpoch: 21.6%  lr: 0.007718  loss: 0.006063  eta: 0h2m  tot: 0h13m39s  (84.3%)\rEpoch: 21.7%  lr: 0.007708  loss: 0.006058  eta: 0h2m  tot: 0h13m39s  (84.3%)\rEpoch: 21.8%  lr: 0.007698  loss: 0.006046  eta: 0h2m  tot: 0h13m39s  (84.4%)\rEpoch: 21.9%  lr: 0.007698  loss: 0.006040  eta: 0h2m  tot: 0h13m40s  (84.4%)\rEpoch: 22.0%  lr: 0.007688  loss: 0.006024  eta: 0h2m  tot: 0h13m40s  (84.4%)\rEpoch: 22.1%  lr: 0.007678  loss: 0.006014  eta: 0h2m  tot: 0h13m40s  (84.4%)\rEpoch: 22.1%  lr: 0.007668  loss: 0.006017  eta: 0h2m  tot: 0h13m40s  (84.4%)\rEpoch: 22.2%  lr: 0.007668  loss: 0.006025  eta: 0h2m  tot: 0h13m40s  (84.4%)\rEpoch: 22.3%  lr: 0.007648  loss: 0.006009  eta: 0h2m  tot: 0h13m40s  (84.5%)\rEpoch: 22.4%  lr: 0.007648  loss: 0.006004  eta: 0h2m  tot: 0h13m41s  (84.5%)\rEpoch: 22.5%  lr: 0.007648  loss: 0.005994  eta: 0h2m  tot: 0h13m41s  (84.5%)\rEpoch: 22.6%  lr: 0.007628  loss: 0.005978  eta: 0h2m  tot: 0h13m41s  (84.5%)\rEpoch: 22.7%  lr: 0.007608  loss: 0.005967  eta: 0h2m  tot: 0h13m41s  (84.5%)\rEpoch: 22.8%  lr: 0.007578  loss: 0.005963  eta: 0h2m  tot: 0h13m41s  (84.6%)\rEpoch: 22.9%  lr: 0.007568  loss: 0.005944  eta: 0h2m  tot: 0h13m41s  (84.6%)\rEpoch: 23.0%  lr: 0.007558  loss: 0.005940  eta: 0h2m  tot: 0h13m42s  (84.6%)\rEpoch: 23.0%  lr: 0.007538  loss: 0.005931  eta: 0h2m  tot: 0h13m42s  (84.6%)\rEpoch: 23.1%  lr: 0.007528  loss: 0.005941  eta: 0h2m  tot: 0h13m42s  (84.6%)\rEpoch: 23.2%  lr: 0.007508  loss: 0.005937  eta: 0h2m  tot: 0h13m42s  (84.6%)\rEpoch: 23.3%  lr: 0.007498  loss: 0.005926  eta: 0h2m  tot: 0h13m42s  (84.7%)\rEpoch: 23.4%  lr: 0.007488  loss: 0.005938  eta: 0h2m  tot: 0h13m43s  (84.7%)\rEpoch: 23.5%  lr: 0.007488  loss: 0.005927  eta: 0h2m  tot: 0h13m43s  (84.7%)\rEpoch: 23.6%  lr: 0.007478  loss: 0.005921  eta: 0h2m  tot: 0h13m43s  (84.7%)\rEpoch: 23.7%  lr: 0.007478  loss: 0.005931  eta: 0h2m  tot: 0h13m43s  (84.7%)\rEpoch: 23.8%  lr: 0.007468  loss: 0.005934  eta: 0h2m  tot: 0h13m43s  (84.8%)\rEpoch: 23.9%  lr: 0.007468  loss: 0.005945  eta: 0h2m  tot: 0h13m43s  (84.8%)\rEpoch: 23.9%  lr: 0.007457  loss: 0.005968  eta: 0h2m  tot: 0h13m44s  (84.8%)\rEpoch: 24.0%  lr: 0.007457  loss: 0.005963  eta: 0h2m  tot: 0h13m44s  (84.8%)\rEpoch: 24.1%  lr: 0.007447  loss: 0.005948  eta: 0h2m  tot: 0h13m44s  (84.8%)\rEpoch: 24.2%  lr: 0.007427  loss: 0.005956  eta: 0h2m  tot: 0h13m44s  (84.8%)\rEpoch: 24.3%  lr: 0.007387  loss: 0.005958  eta: 0h2m  tot: 0h13m44s  (84.9%)\rEpoch: 24.4%  lr: 0.007387  loss: 0.005980  eta: 0h2m  tot: 0h13m44s  (84.9%)\rEpoch: 24.5%  lr: 0.007387  loss: 0.005977  eta: 0h2m  tot: 0h13m45s  (84.9%)\rEpoch: 24.6%  lr: 0.007377  loss: 0.006003  eta: 0h2m  tot: 0h13m45s  (84.9%)\rEpoch: 24.7%  lr: 0.007377  loss: 0.005988  eta: 0h2m  tot: 0h13m45s  (84.9%)\rEpoch: 24.8%  lr: 0.007357  loss: 0.005987  eta: 0h2m  tot: 0h13m45s  (85.0%)\rEpoch: 24.8%  lr: 0.007347  loss: 0.005980  eta: 0h2m  tot: 0h13m45s  (85.0%)\rEpoch: 24.9%  lr: 0.007337  loss: 0.005992  eta: 0h2m  tot: 0h13m45s  (85.0%)\rEpoch: 25.0%  lr: 0.007327  loss: 0.005992  eta: 0h2m  tot: 0h13m46s  (85.0%)\rEpoch: 25.1%  lr: 0.007317  loss: 0.005981  eta: 0h2m  tot: 0h13m46s  (85.0%)\rEpoch: 25.2%  lr: 0.007307  loss: 0.005971  eta: 0h2m  tot: 0h13m46s  (85.0%)\rEpoch: 25.3%  lr: 0.007287  loss: 0.005956  eta: 0h2m  tot: 0h13m46s  (85.1%)\rEpoch: 25.4%  lr: 0.007287  loss: 0.005944  eta: 0h2m  tot: 0h13m46s  (85.1%)\rEpoch: 25.5%  lr: 0.007287  loss: 0.005935  eta: 0h2m  tot: 0h13m46s  (85.1%)\rEpoch: 25.6%  lr: 0.007277  loss: 0.005937  eta: 0h2m  tot: 0h13m47s  (85.1%)\rEpoch: 25.7%  lr: 0.007277  loss: 0.005934  eta: 0h2m  tot: 0h13m47s  (85.1%)\rEpoch: 25.7%  lr: 0.007277  loss: 0.005950  eta: 0h2m  tot: 0h13m47s  (85.1%)\rEpoch: 25.8%  lr: 0.007267  loss: 0.005956  eta: 0h2m  tot: 0h13m47s  (85.2%)\rEpoch: 25.9%  lr: 0.007267  loss: 0.005949  eta: 0h2m  tot: 0h13m47s  (85.2%)\rEpoch: 26.0%  lr: 0.007267  loss: 0.005965  eta: 0h2m  tot: 0h13m47s  (85.2%)\rEpoch: 26.1%  lr: 0.007247  loss: 0.005956  eta: 0h2m  tot: 0h13m48s  (85.2%)\rEpoch: 26.2%  lr: 0.007247  loss: 0.006003  eta: 0h2m  tot: 0h13m48s  (85.2%)\rEpoch: 26.3%  lr: 0.007247  loss: 0.005998  eta: 0h2m  tot: 0h13m48s  (85.3%)\rEpoch: 26.4%  lr: 0.007237  loss: 0.006021  eta: 0h2m  tot: 0h13m48s  (85.3%)\rEpoch: 26.5%  lr: 0.007227  loss: 0.006024  eta: 0h2m  tot: 0h13m48s  (85.3%)\rEpoch: 26.6%  lr: 0.007227  loss: 0.006013  eta: 0h2m  tot: 0h13m48s  (85.3%)\rEpoch: 26.6%  lr: 0.007227  loss: 0.006009  eta: 0h2m  tot: 0h13m49s  (85.3%)\rEpoch: 26.7%  lr: 0.007217  loss: 0.005994  eta: 0h2m  tot: 0h13m49s  (85.3%)\rEpoch: 26.8%  lr: 0.007207  loss: 0.005988  eta: 0h2m  tot: 0h13m49s  (85.4%)\rEpoch: 26.9%  lr: 0.007207  loss: 0.006005  eta: 0h2m  tot: 0h13m49s  (85.4%)\rEpoch: 27.0%  lr: 0.007197  loss: 0.006013  eta: 0h2m  tot: 0h13m49s  (85.4%)\rEpoch: 27.1%  lr: 0.007197  loss: 0.006016  eta: 0h2m  tot: 0h13m49s  (85.4%)\rEpoch: 27.2%  lr: 0.007197  loss: 0.006025  eta: 0h2m  tot: 0h13m50s  (85.4%)\rEpoch: 27.3%  lr: 0.007187  loss: 0.006023  eta: 0h2m  tot: 0h13m50s  (85.5%)\rEpoch: 27.4%  lr: 0.007177  loss: 0.006009  eta: 0h2m  tot: 0h13m50s  (85.5%)\rEpoch: 27.5%  lr: 0.007177  loss: 0.006012  eta: 0h2m  tot: 0h13m50s  (85.5%)\rEpoch: 27.5%  lr: 0.007177  loss: 0.006032  eta: 0h2m  tot: 0h13m50s  (85.5%)\rEpoch: 27.6%  lr: 0.007167  loss: 0.006023  eta: 0h2m  tot: 0h13m51s  (85.5%)\rEpoch: 27.7%  lr: 0.007157  loss: 0.006011  eta: 0h2m  tot: 0h13m51s  (85.5%)\rEpoch: 27.8%  lr: 0.007147  loss: 0.006016  eta: 0h2m  tot: 0h13m51s  (85.6%)\rEpoch: 27.9%  lr: 0.007127  loss: 0.006008  eta: 0h2m  tot: 0h13m51s  (85.6%)\rEpoch: 28.0%  lr: 0.007127  loss: 0.005998  eta: 0h2m  tot: 0h13m51s  (85.6%)\rEpoch: 28.1%  lr: 0.007127  loss: 0.005992  eta: 0h2m  tot: 0h13m51s  (85.6%)\rEpoch: 28.2%  lr: 0.007107  loss: 0.005982  eta: 0h2m  tot: 0h13m52s  (85.6%)\rEpoch: 28.3%  lr: 0.007077  loss: 0.005977  eta: 0h2m  tot: 0h13m52s  (85.7%)\rEpoch: 28.4%  lr: 0.007057  loss: 0.005988  eta: 0h2m  tot: 0h13m52s  (85.7%)\rEpoch: 28.4%  lr: 0.007047  loss: 0.005991  eta: 0h2m  tot: 0h13m52s  (85.7%)\rEpoch: 28.5%  lr: 0.007037  loss: 0.005985  eta: 0h2m  tot: 0h13m52s  (85.7%)\rEpoch: 28.6%  lr: 0.007037  loss: 0.005990  eta: 0h2m  tot: 0h13m52s  (85.7%)\rEpoch: 28.7%  lr: 0.007037  loss: 0.005983  eta: 0h2m  tot: 0h13m53s  (85.7%)\rEpoch: 28.8%  lr: 0.007027  loss: 0.005978  eta: 0h2m  tot: 0h13m53s  (85.8%)\rEpoch: 28.9%  lr: 0.007017  loss: 0.005976  eta: 0h2m  tot: 0h13m53s  (85.8%)\rEpoch: 29.0%  lr: 0.006997  loss: 0.005994  eta: 0h2m  tot: 0h13m53s  (85.8%)\rEpoch: 29.1%  lr: 0.006987  loss: 0.005994  eta: 0h2m  tot: 0h13m53s  (85.8%)\rEpoch: 29.2%  lr: 0.006977  loss: 0.006003  eta: 0h2m  tot: 0h13m53s  (85.8%)\rEpoch: 29.3%  lr: 0.006967  loss: 0.006002  eta: 0h2m  tot: 0h13m54s  (85.9%)\rEpoch: 29.3%  lr: 0.006957  loss: 0.006017  eta: 0h2m  tot: 0h13m54s  (85.9%)\rEpoch: 29.4%  lr: 0.006937  loss: 0.006021  eta: 0h2m  tot: 0h13m54s  (85.9%)\rEpoch: 29.5%  lr: 0.006927  loss: 0.006030  eta: 0h2m  tot: 0h13m54s  (85.9%)\rEpoch: 29.6%  lr: 0.006907  loss: 0.006020  eta: 0h2m  tot: 0h13m54s  (85.9%)\rEpoch: 29.7%  lr: 0.006897  loss: 0.006016  eta: 0h2m  tot: 0h13m55s  (85.9%)\rEpoch: 29.8%  lr: 0.006877  loss: 0.006006  eta: 0h2m  tot: 0h13m55s  (86.0%)\rEpoch: 29.9%  lr: 0.006867  loss: 0.006005  eta: 0h2m  tot: 0h13m55s  (86.0%)\rEpoch: 30.0%  lr: 0.006847  loss: 0.006018  eta: 0h2m  tot: 0h13m55s  (86.0%)\rEpoch: 30.1%  lr: 0.006847  loss: 0.006018  eta: 0h2m  tot: 0h13m55s  (86.0%)\rEpoch: 30.2%  lr: 0.006847  loss: 0.006009  eta: 0h2m  tot: 0h13m55s  (86.0%)\rEpoch: 30.2%  lr: 0.006837  loss: 0.006003  eta: 0h2m  tot: 0h13m56s  (86.0%)\rEpoch: 30.3%  lr: 0.006817  loss: 0.006009  eta: 0h2m  tot: 0h13m56s  (86.1%)\rEpoch: 30.4%  lr: 0.006797  loss: 0.006006  eta: 0h2m  tot: 0h13m56s  (86.1%)\rEpoch: 30.5%  lr: 0.006797  loss: 0.006004  eta: 0h2m  tot: 0h13m56s  (86.1%)\rEpoch: 30.6%  lr: 0.006787  loss: 0.006005  eta: 0h2m  tot: 0h13m56s  (86.1%)\rEpoch: 30.7%  lr: 0.006777  loss: 0.005997  eta: 0h2m  tot: 0h13m56s  (86.1%)\rEpoch: 30.8%  lr: 0.006777  loss: 0.005991  eta: 0h2m  tot: 0h13m57s  (86.2%)\rEpoch: 30.9%  lr: 0.006777  loss: 0.006003  eta: 0h2m  tot: 0h13m57s  (86.2%)\rEpoch: 31.0%  lr: 0.006767  loss: 0.006008  eta: 0h2m  tot: 0h13m57s  (86.2%)\rEpoch: 31.1%  lr: 0.006767  loss: 0.006019  eta: 0h2m  tot: 0h13m57s  (86.2%)\rEpoch: 31.1%  lr: 0.006767  loss: 0.006028  eta: 0h2m  tot: 0h13m57s  (86.2%)\rEpoch: 31.2%  lr: 0.006757  loss: 0.006024  eta: 0h2m  tot: 0h13m57s  (86.2%)\rEpoch: 31.3%  lr: 0.006737  loss: 0.006037  eta: 0h2m  tot: 0h13m58s  (86.3%)\rEpoch: 31.4%  lr: 0.006727  loss: 0.006032  eta: 0h2m  tot: 0h13m58s  (86.3%)\rEpoch: 31.5%  lr: 0.006717  loss: 0.006020  eta: 0h2m  tot: 0h13m58s  (86.3%)\rEpoch: 31.6%  lr: 0.006687  loss: 0.006038  eta: 0h2m  tot: 0h13m58s  (86.3%)\rEpoch: 31.7%  lr: 0.006677  loss: 0.006038  eta: 0h2m  tot: 0h13m58s  (86.3%)\rEpoch: 31.8%  lr: 0.006677  loss: 0.006043  eta: 0h2m  tot: 0h13m59s  (86.4%)\rEpoch: 31.9%  lr: 0.006657  loss: 0.006071  eta: 0h2m  tot: 0h13m59s  (86.4%)\rEpoch: 32.0%  lr: 0.006657  loss: 0.006091  eta: 0h2m  tot: 0h13m59s  (86.4%)\rEpoch: 32.0%  lr: 0.006657  loss: 0.006103  eta: 0h2m  tot: 0h13m59s  (86.4%)\rEpoch: 32.1%  lr: 0.006657  loss: 0.006100  eta: 0h2m  tot: 0h13m59s  (86.4%)\rEpoch: 32.2%  lr: 0.006657  loss: 0.006100  eta: 0h2m  tot: 0h13m59s  (86.4%)\rEpoch: 32.3%  lr: 0.006657  loss: 0.006108  eta: 0h2m  tot: 0h14m0s  (86.5%)\rEpoch: 32.4%  lr: 0.006657  loss: 0.006102  eta: 0h2m  tot: 0h14m0s  (86.5%)\rEpoch: 32.5%  lr: 0.006657  loss: 0.006112  eta: 0h2m  tot: 0h14m0s  (86.5%)\rEpoch: 32.6%  lr: 0.006647  loss: 0.006099  eta: 0h2m  tot: 0h14m0s  (86.5%)\rEpoch: 32.7%  lr: 0.006637  loss: 0.006104  eta: 0h2m  tot: 0h14m0s  (86.5%)\rEpoch: 32.8%  lr: 0.006627  loss: 0.006110  eta: 0h2m  tot: 0h14m0s  (86.6%)\rEpoch: 32.9%  lr: 0.006607  loss: 0.006105  eta: 0h2m  tot: 0h14m1s  (86.6%)\rEpoch: 32.9%  lr: 0.006597  loss: 0.006132  eta: 0h2m  tot: 0h14m1s  (86.6%)\rEpoch: 33.0%  lr: 0.006587  loss: 0.006119  eta: 0h2m  tot: 0h14m1s  (86.6%)\rEpoch: 33.1%  lr: 0.006577  loss: 0.006109  eta: 0h2m  tot: 0h14m1s  (86.6%)\rEpoch: 33.2%  lr: 0.006567  loss: 0.006114  eta: 0h2m  tot: 0h14m1s  (86.6%)\rEpoch: 33.3%  lr: 0.006567  loss: 0.006120  eta: 0h2m  tot: 0h14m1s  (86.7%)\rEpoch: 33.4%  lr: 0.006547  loss: 0.006125  eta: 0h2m  tot: 0h14m2s  (86.7%)\rEpoch: 33.5%  lr: 0.006547  loss: 0.006115  eta: 0h2m  tot: 0h14m2s  (86.7%)\rEpoch: 33.6%  lr: 0.006507  loss: 0.006115  eta: 0h2m  tot: 0h14m2s  (86.7%)\rEpoch: 33.7%  lr: 0.006477  loss: 0.006105  eta: 0h2m  tot: 0h14m2s  (86.7%)\rEpoch: 33.8%  lr: 0.006467  loss: 0.006096  eta: 0h2m  tot: 0h14m2s  (86.8%)\rEpoch: 33.8%  lr: 0.006457  loss: 0.006106  eta: 0h2m  tot: 0h14m3s  (86.8%)\rEpoch: 33.9%  lr: 0.006436  loss: 0.006109  eta: 0h2m  tot: 0h14m3s  (86.8%)\rEpoch: 34.0%  lr: 0.006426  loss: 0.006107  eta: 0h2m  tot: 0h14m3s  (86.8%)\rEpoch: 34.1%  lr: 0.006416  loss: 0.006103  eta: 0h2m  tot: 0h14m3s  (86.8%)\rEpoch: 34.2%  lr: 0.006396  loss: 0.006113  eta: 0h2m  tot: 0h14m3s  (86.8%)\rEpoch: 34.3%  lr: 0.006386  loss: 0.006119  eta: 0h2m  tot: 0h14m3s  (86.9%)\rEpoch: 34.4%  lr: 0.006376  loss: 0.006107  eta: 0h2m  tot: 0h14m4s  (86.9%)\rEpoch: 34.5%  lr: 0.006366  loss: 0.006099  eta: 0h2m  tot: 0h14m4s  (86.9%)\rEpoch: 34.6%  lr: 0.006356  loss: 0.006096  eta: 0h2m  tot: 0h14m4s  (86.9%)\rEpoch: 34.7%  lr: 0.006356  loss: 0.006104  eta: 0h2m  tot: 0h14m4s  (86.9%)\rEpoch: 34.7%  lr: 0.006356  loss: 0.006094  eta: 0h2m  tot: 0h14m4s  (86.9%)\rEpoch: 34.8%  lr: 0.006346  loss: 0.006084  eta: 0h2m  tot: 0h14m4s  (87.0%)\rEpoch: 34.9%  lr: 0.006336  loss: 0.006105  eta: 0h2m  tot: 0h14m5s  (87.0%)\rEpoch: 35.0%  lr: 0.006306  loss: 0.006120  eta: 0h2m  tot: 0h14m5s  (87.0%)\rEpoch: 35.1%  lr: 0.006276  loss: 0.006122  eta: 0h2m  tot: 0h14m5s  (87.0%)\rEpoch: 35.2%  lr: 0.006276  loss: 0.006127  eta: 0h2m  tot: 0h14m5s  (87.0%)\rEpoch: 35.3%  lr: 0.006266  loss: 0.006129  eta: 0h2m  tot: 0h14m5s  (87.1%)\rEpoch: 35.4%  lr: 0.006256  loss: 0.006127  eta: 0h2m  tot: 0h14m6s  (87.1%)\rEpoch: 35.5%  lr: 0.006256  loss: 0.006129  eta: 0h2m  tot: 0h14m6s  (87.1%)\rEpoch: 35.6%  lr: 0.006236  loss: 0.006121  eta: 0h2m  tot: 0h14m6s  (87.1%)\rEpoch: 35.6%  lr: 0.006216  loss: 0.006121  eta: 0h2m  tot: 0h14m6s  (87.1%)\rEpoch: 35.7%  lr: 0.006196  loss: 0.006115  eta: 0h2m  tot: 0h14m6s  (87.1%)\rEpoch: 35.8%  lr: 0.006196  loss: 0.006110  eta: 0h2m  tot: 0h14m6s  (87.2%)\rEpoch: 35.9%  lr: 0.006196  loss: 0.006103  eta: 0h2m  tot: 0h14m7s  (87.2%)\rEpoch: 36.0%  lr: 0.006196  loss: 0.006102  eta: 0h2m  tot: 0h14m7s  (87.2%)\rEpoch: 36.1%  lr: 0.006176  loss: 0.006123  eta: 0h2m  tot: 0h14m7s  (87.2%)\rEpoch: 36.2%  lr: 0.006176  loss: 0.006154  eta: 0h2m  tot: 0h14m7s  (87.2%)\rEpoch: 36.3%  lr: 0.006156  loss: 0.006153  eta: 0h2m  tot: 0h14m7s  (87.3%)\rEpoch: 36.4%  lr: 0.006146  loss: 0.006165  eta: 0h2m  tot: 0h14m7s  (87.3%)\rEpoch: 36.5%  lr: 0.006126  loss: 0.006170  eta: 0h1m  tot: 0h14m8s  (87.3%)\rEpoch: 36.5%  lr: 0.006096  loss: 0.006164  eta: 0h1m  tot: 0h14m8s  (87.3%)\rEpoch: 36.6%  lr: 0.006086  loss: 0.006160  eta: 0h1m  tot: 0h14m8s  (87.3%)\rEpoch: 36.7%  lr: 0.006076  loss: 0.006149  eta: 0h1m  tot: 0h14m8s  (87.3%)\rEpoch: 36.8%  lr: 0.006076  loss: 0.006145  eta: 0h1m  tot: 0h14m8s  (87.4%)\rEpoch: 36.9%  lr: 0.006046  loss: 0.006144  eta: 0h1m  tot: 0h14m9s  (87.4%)\rEpoch: 37.0%  lr: 0.006036  loss: 0.006145  eta: 0h1m  tot: 0h14m9s  (87.4%)\rEpoch: 37.1%  lr: 0.006036  loss: 0.006137  eta: 0h1m  tot: 0h14m9s  (87.4%)\rEpoch: 37.2%  lr: 0.006026  loss: 0.006133  eta: 0h1m  tot: 0h14m9s  (87.4%)\rEpoch: 37.3%  lr: 0.006006  loss: 0.006143  eta: 0h1m  tot: 0h14m9s  (87.5%)\rEpoch: 37.4%  lr: 0.006006  loss: 0.006139  eta: 0h1m  tot: 0h14m9s  (87.5%)\rEpoch: 37.4%  lr: 0.006006  loss: 0.006146  eta: 0h1m  tot: 0h14m10s  (87.5%)\rEpoch: 37.5%  lr: 0.006006  loss: 0.006152  eta: 0h1m  tot: 0h14m10s  (87.5%)\rEpoch: 37.6%  lr: 0.005966  loss: 0.006146  eta: 0h1m  tot: 0h14m10s  (87.5%)\rEpoch: 37.7%  lr: 0.005956  loss: 0.006141  eta: 0h1m  tot: 0h14m10s  (87.5%)\rEpoch: 37.8%  lr: 0.005946  loss: 0.006136  eta: 0h1m  tot: 0h14m10s  (87.6%)\rEpoch: 37.9%  lr: 0.005926  loss: 0.006137  eta: 0h1m  tot: 0h14m10s  (87.6%)\rEpoch: 38.0%  lr: 0.005926  loss: 0.006131  eta: 0h1m  tot: 0h14m11s  (87.6%)\rEpoch: 38.1%  lr: 0.005916  loss: 0.006136  eta: 0h1m  tot: 0h14m11s  (87.6%)\rEpoch: 38.2%  lr: 0.005906  loss: 0.006132  eta: 0h1m  tot: 0h14m11s  (87.6%)\rEpoch: 38.3%  lr: 0.005886  loss: 0.006127  eta: 0h1m  tot: 0h14m11s  (87.7%)\rEpoch: 38.3%  lr: 0.005866  loss: 0.006135  eta: 0h1m  tot: 0h14m11s  (87.7%)\rEpoch: 38.4%  lr: 0.005846  loss: 0.006137  eta: 0h1m  tot: 0h14m12s  (87.7%)\rEpoch: 38.5%  lr: 0.005836  loss: 0.006128  eta: 0h1m  tot: 0h14m12s  (87.7%)\rEpoch: 38.6%  lr: 0.005836  loss: 0.006130  eta: 0h1m  tot: 0h14m12s  (87.7%)\rEpoch: 38.7%  lr: 0.005806  loss: 0.006132  eta: 0h1m  tot: 0h14m12s  (87.7%)\rEpoch: 38.8%  lr: 0.005806  loss: 0.006187  eta: 0h1m  tot: 0h14m12s  (87.8%)\rEpoch: 38.9%  lr: 0.005786  loss: 0.006185  eta: 0h1m  tot: 0h14m12s  (87.8%)\rEpoch: 39.0%  lr: 0.005776  loss: 0.006188  eta: 0h1m  tot: 0h14m13s  (87.8%)\rEpoch: 39.1%  lr: 0.005776  loss: 0.006186  eta: 0h1m  tot: 0h14m13s  (87.8%)\rEpoch: 39.2%  lr: 0.005746  loss: 0.006194  eta: 0h1m  tot: 0h14m13s  (87.8%)\rEpoch: 39.2%  lr: 0.005746  loss: 0.006188  eta: 0h1m  tot: 0h14m13s  (87.8%)\rEpoch: 39.3%  lr: 0.005716  loss: 0.006195  eta: 0h1m  tot: 0h14m13s  (87.9%)\rEpoch: 39.4%  lr: 0.005696  loss: 0.006188  eta: 0h1m  tot: 0h14m13s  (87.9%)\rEpoch: 39.5%  lr: 0.005686  loss: 0.006184  eta: 0h1m  tot: 0h14m14s  (87.9%)\rEpoch: 39.6%  lr: 0.005686  loss: 0.006183  eta: 0h1m  tot: 0h14m14s  (87.9%)\rEpoch: 39.7%  lr: 0.005686  loss: 0.006181  eta: 0h1m  tot: 0h14m14s  (87.9%)\rEpoch: 39.8%  lr: 0.005686  loss: 0.006192  eta: 0h1m  tot: 0h14m14s  (88.0%)\rEpoch: 39.9%  lr: 0.005676  loss: 0.006186  eta: 0h1m  tot: 0h14m14s  (88.0%)\rEpoch: 40.0%  lr: 0.005656  loss: 0.006184  eta: 0h1m  tot: 0h14m15s  (88.0%)\rEpoch: 40.1%  lr: 0.005656  loss: 0.006179  eta: 0h1m  tot: 0h14m15s  (88.0%)\rEpoch: 40.1%  lr: 0.005656  loss: 0.006182  eta: 0h1m  tot: 0h14m15s  (88.0%)\rEpoch: 40.2%  lr: 0.005646  loss: 0.006187  eta: 0h1m  tot: 0h14m15s  (88.0%)\rEpoch: 40.3%  lr: 0.005636  loss: 0.006186  eta: 0h1m  tot: 0h14m15s  (88.1%)\rEpoch: 40.4%  lr: 0.005636  loss: 0.006187  eta: 0h1m  tot: 0h14m15s  (88.1%)\rEpoch: 40.5%  lr: 0.005636  loss: 0.006185  eta: 0h1m  tot: 0h14m16s  (88.1%)\rEpoch: 40.6%  lr: 0.005626  loss: 0.006183  eta: 0h1m  tot: 0h14m16s  (88.1%)\rEpoch: 40.7%  lr: 0.005616  loss: 0.006183  eta: 0h1m  tot: 0h14m16s  (88.1%)\rEpoch: 40.8%  lr: 0.005606  loss: 0.006182  eta: 0h1m  tot: 0h14m16s  (88.2%)\rEpoch: 40.9%  lr: 0.005586  loss: 0.006187  eta: 0h1m  tot: 0h14m16s  (88.2%)\rEpoch: 41.0%  lr: 0.005576  loss: 0.006192  eta: 0h1m  tot: 0h14m16s  (88.2%)\rEpoch: 41.0%  lr: 0.005576  loss: 0.006192  eta: 0h1m  tot: 0h14m17s  (88.2%)\rEpoch: 41.1%  lr: 0.005576  loss: 0.006185  eta: 0h1m  tot: 0h14m17s  (88.2%)\rEpoch: 41.2%  lr: 0.005576  loss: 0.006203  eta: 0h1m  tot: 0h14m17s  (88.2%)\rEpoch: 41.3%  lr: 0.005556  loss: 0.006195  eta: 0h1m  tot: 0h14m17s  (88.3%)\rEpoch: 41.4%  lr: 0.005536  loss: 0.006196  eta: 0h1m  tot: 0h14m17s  (88.3%)\rEpoch: 41.5%  lr: 0.005526  loss: 0.006189  eta: 0h1m  tot: 0h14m17s  (88.3%)\rEpoch: 41.6%  lr: 0.005506  loss: 0.006194  eta: 0h1m  tot: 0h14m18s  (88.3%)\rEpoch: 41.7%  lr: 0.005506  loss: 0.006189  eta: 0h1m  tot: 0h14m18s  (88.3%)\rEpoch: 41.8%  lr: 0.005486  loss: 0.006191  eta: 0h1m  tot: 0h14m18s  (88.4%)\rEpoch: 41.9%  lr: 0.005446  loss: 0.006184  eta: 0h1m  tot: 0h14m18s  (88.4%)\rEpoch: 41.9%  lr: 0.005436  loss: 0.006182  eta: 0h1m  tot: 0h14m18s  (88.4%)\rEpoch: 42.0%  lr: 0.005405  loss: 0.006178  eta: 0h1m  tot: 0h14m18s  (88.4%)\rEpoch: 42.1%  lr: 0.005405  loss: 0.006177  eta: 0h1m  tot: 0h14m19s  (88.4%)\rEpoch: 42.2%  lr: 0.005405  loss: 0.006175  eta: 0h1m  tot: 0h14m19s  (88.4%)\rEpoch: 42.3%  lr: 0.005395  loss: 0.006176  eta: 0h1m  tot: 0h14m19s  (88.5%)\rEpoch: 42.4%  lr: 0.005385  loss: 0.006187  eta: 0h1m  tot: 0h14m19s  (88.5%)\rEpoch: 42.5%  lr: 0.005375  loss: 0.006192  eta: 0h1m  tot: 0h14m19s  (88.5%)\rEpoch: 42.6%  lr: 0.005345  loss: 0.006179  eta: 0h1m  tot: 0h14m20s  (88.5%)\rEpoch: 42.7%  lr: 0.005335  loss: 0.006174  eta: 0h1m  tot: 0h14m20s  (88.5%)\rEpoch: 42.8%  lr: 0.005325  loss: 0.006173  eta: 0h1m  tot: 0h14m20s  (88.6%)\rEpoch: 42.8%  lr: 0.005315  loss: 0.006165  eta: 0h1m  tot: 0h14m20s  (88.6%)\rEpoch: 42.9%  lr: 0.005295  loss: 0.006157  eta: 0h1m  tot: 0h14m20s  (88.6%)\rEpoch: 43.0%  lr: 0.005295  loss: 0.006165  eta: 0h1m  tot: 0h14m20s  (88.6%)\rEpoch: 43.1%  lr: 0.005295  loss: 0.006173  eta: 0h1m  tot: 0h14m21s  (88.6%)\rEpoch: 43.2%  lr: 0.005285  loss: 0.006178  eta: 0h1m  tot: 0h14m21s  (88.6%)\rEpoch: 43.3%  lr: 0.005285  loss: 0.006183  eta: 0h1m  tot: 0h14m21s  (88.7%)\rEpoch: 43.4%  lr: 0.005285  loss: 0.006187  eta: 0h1m  tot: 0h14m21s  (88.7%)\rEpoch: 43.5%  lr: 0.005275  loss: 0.006201  eta: 0h1m  tot: 0h14m21s  (88.7%)\rEpoch: 43.6%  lr: 0.005265  loss: 0.006190  eta: 0h1m  tot: 0h14m21s  (88.7%)\rEpoch: 43.7%  lr: 0.005265  loss: 0.006188  eta: 0h1m  tot: 0h14m22s  (88.7%)\rEpoch: 43.7%  lr: 0.005265  loss: 0.006192  eta: 0h1m  tot: 0h14m22s  (88.7%)\rEpoch: 43.8%  lr: 0.005265  loss: 0.006192  eta: 0h1m  tot: 0h14m22s  (88.8%)\rEpoch: 43.9%  lr: 0.005255  loss: 0.006222  eta: 0h1m  tot: 0h14m22s  (88.8%)\rEpoch: 44.0%  lr: 0.005255  loss: 0.006214  eta: 0h1m  tot: 0h14m22s  (88.8%)\rEpoch: 44.1%  lr: 0.005255  loss: 0.006218  eta: 0h1m  tot: 0h14m22s  (88.8%)\rEpoch: 44.2%  lr: 0.005245  loss: 0.006211  eta: 0h1m  tot: 0h14m23s  (88.8%)\rEpoch: 44.3%  lr: 0.005245  loss: 0.006210  eta: 0h1m  tot: 0h14m23s  (88.9%)\rEpoch: 44.4%  lr: 0.005245  loss: 0.006211  eta: 0h1m  tot: 0h14m23s  (88.9%)\rEpoch: 44.5%  lr: 0.005245  loss: 0.006202  eta: 0h1m  tot: 0h14m23s  (88.9%)\rEpoch: 44.6%  lr: 0.005235  loss: 0.006198  eta: 0h1m  tot: 0h14m23s  (88.9%)\rEpoch: 44.6%  lr: 0.005235  loss: 0.006201  eta: 0h1m  tot: 0h14m24s  (88.9%)\rEpoch: 44.7%  lr: 0.005235  loss: 0.006208  eta: 0h1m  tot: 0h14m24s  (88.9%)\rEpoch: 44.8%  lr: 0.005235  loss: 0.006214  eta: 0h1m  tot: 0h14m24s  (89.0%)\rEpoch: 44.9%  lr: 0.005215  loss: 0.006212  eta: 0h1m  tot: 0h14m24s  (89.0%)\rEpoch: 45.0%  lr: 0.005205  loss: 0.006202  eta: 0h1m  tot: 0h14m24s  (89.0%)\rEpoch: 45.1%  lr: 0.005185  loss: 0.006211  eta: 0h1m  tot: 0h14m24s  (89.0%)\rEpoch: 45.2%  lr: 0.005185  loss: 0.006219  eta: 0h1m  tot: 0h14m25s  (89.0%)\rEpoch: 45.3%  lr: 0.005185  loss: 0.006210  eta: 0h1m  tot: 0h14m25s  (89.1%)\rEpoch: 45.4%  lr: 0.005185  loss: 0.006204  eta: 0h1m  tot: 0h14m25s  (89.1%)\rEpoch: 45.5%  lr: 0.005185  loss: 0.006202  eta: 0h1m  tot: 0h14m25s  (89.1%)\rEpoch: 45.5%  lr: 0.005185  loss: 0.006208  eta: 0h1m  tot: 0h14m25s  (89.1%)\rEpoch: 45.6%  lr: 0.005185  loss: 0.006200  eta: 0h1m  tot: 0h14m26s  (89.1%)\rEpoch: 45.7%  lr: 0.005175  loss: 0.006195  eta: 0h1m  tot: 0h14m26s  (89.1%)\rEpoch: 45.8%  lr: 0.005145  loss: 0.006185  eta: 0h1m  tot: 0h14m26s  (89.2%)\rEpoch: 45.9%  lr: 0.005145  loss: 0.006182  eta: 0h1m  tot: 0h14m26s  (89.2%)\rEpoch: 46.0%  lr: 0.005135  loss: 0.006193  eta: 0h1m  tot: 0h14m26s  (89.2%)\rEpoch: 46.1%  lr: 0.005125  loss: 0.006211  eta: 0h1m  tot: 0h14m26s  (89.2%)\rEpoch: 46.2%  lr: 0.005125  loss: 0.006207  eta: 0h1m  tot: 0h14m27s  (89.2%)\rEpoch: 46.3%  lr: 0.005115  loss: 0.006205  eta: 0h1m  tot: 0h14m27s  (89.3%)\rEpoch: 46.4%  lr: 0.005095  loss: 0.006205  eta: 0h1m  tot: 0h14m27s  (89.3%)\rEpoch: 46.4%  lr: 0.005065  loss: 0.006199  eta: 0h1m  tot: 0h14m27s  (89.3%)\rEpoch: 46.5%  lr: 0.005055  loss: 0.006202  eta: 0h1m  tot: 0h14m27s  (89.3%)\rEpoch: 46.6%  lr: 0.005035  loss: 0.006196  eta: 0h1m  tot: 0h14m27s  (89.3%)\rEpoch: 46.7%  lr: 0.005035  loss: 0.006198  eta: 0h1m  tot: 0h14m28s  (89.3%)\rEpoch: 46.8%  lr: 0.005015  loss: 0.006190  eta: 0h1m  tot: 0h14m28s  (89.4%)\rEpoch: 46.9%  lr: 0.005015  loss: 0.006197  eta: 0h1m  tot: 0h14m28s  (89.4%)\rEpoch: 47.0%  lr: 0.005005  loss: 0.006198  eta: 0h1m  tot: 0h14m28s  (89.4%)\rEpoch: 47.1%  lr: 0.004995  loss: 0.006195  eta: 0h1m  tot: 0h14m28s  (89.4%)\rEpoch: 47.2%  lr: 0.004985  loss: 0.006194  eta: 0h1m  tot: 0h14m28s  (89.4%)\rEpoch: 47.3%  lr: 0.004985  loss: 0.006187  eta: 0h1m  tot: 0h14m29s  (89.5%)\rEpoch: 47.3%  lr: 0.004945  loss: 0.006183  eta: 0h1m  tot: 0h14m29s  (89.5%)\rEpoch: 47.4%  lr: 0.004945  loss: 0.006197  eta: 0h1m  tot: 0h14m29s  (89.5%)\rEpoch: 47.5%  lr: 0.004935  loss: 0.006194  eta: 0h1m  tot: 0h14m29s  (89.5%)\rEpoch: 47.6%  lr: 0.004935  loss: 0.006187  eta: 0h1m  tot: 0h14m29s  (89.5%)\rEpoch: 47.7%  lr: 0.004915  loss: 0.006214  eta: 0h1m  tot: 0h14m29s  (89.5%)\rEpoch: 47.8%  lr: 0.004905  loss: 0.006218  eta: 0h1m  tot: 0h14m30s  (89.6%)\rEpoch: 47.9%  lr: 0.004895  loss: 0.006222  eta: 0h1m  tot: 0h14m30s  (89.6%)\rEpoch: 48.0%  lr: 0.004895  loss: 0.006227  eta: 0h1m  tot: 0h14m30s  (89.6%)\rEpoch: 48.1%  lr: 0.004875  loss: 0.006228  eta: 0h1m  tot: 0h14m30s  (89.6%)\rEpoch: 48.2%  lr: 0.004875  loss: 0.006221  eta: 0h1m  tot: 0h14m30s  (89.6%)\rEpoch: 48.2%  lr: 0.004865  loss: 0.006214  eta: 0h1m  tot: 0h14m30s  (89.6%)\rEpoch: 48.3%  lr: 0.004855  loss: 0.006211  eta: 0h1m  tot: 0h14m31s  (89.7%)\rEpoch: 48.4%  lr: 0.004835  loss: 0.006212  eta: 0h1m  tot: 0h14m31s  (89.7%)\rEpoch: 48.5%  lr: 0.004825  loss: 0.006212  eta: 0h1m  tot: 0h14m31s  (89.7%)\rEpoch: 48.6%  lr: 0.004805  loss: 0.006213  eta: 0h1m  tot: 0h14m31s  (89.7%)\rEpoch: 48.7%  lr: 0.004805  loss: 0.006216  eta: 0h1m  tot: 0h14m31s  (89.7%)\rEpoch: 48.8%  lr: 0.004785  loss: 0.006217  eta: 0h1m  tot: 0h14m31s  (89.8%)\rEpoch: 48.9%  lr: 0.004775  loss: 0.006212  eta: 0h1m  tot: 0h14m32s  (89.8%)\rEpoch: 49.0%  lr: 0.004765  loss: 0.006209  eta: 0h1m  tot: 0h14m32s  (89.8%)\rEpoch: 49.1%  lr: 0.004745  loss: 0.006211  eta: 0h1m  tot: 0h14m32s  (89.8%)\rEpoch: 49.1%  lr: 0.004745  loss: 0.006207  eta: 0h1m  tot: 0h14m32s  (89.8%)\rEpoch: 49.2%  lr: 0.004705  loss: 0.006207  eta: 0h1m  tot: 0h14m32s  (89.8%)\rEpoch: 49.3%  lr: 0.004685  loss: 0.006206  eta: 0h1m  tot: 0h14m32s  (89.9%)\rEpoch: 49.4%  lr: 0.004665  loss: 0.006208  eta: 0h1m  tot: 0h14m33s  (89.9%)\rEpoch: 49.5%  lr: 0.004655  loss: 0.006207  eta: 0h1m  tot: 0h14m33s  (89.9%)\rEpoch: 49.6%  lr: 0.004655  loss: 0.006203  eta: 0h1m  tot: 0h14m33s  (89.9%)\rEpoch: 49.7%  lr: 0.004635  loss: 0.006203  eta: 0h1m  tot: 0h14m33s  (89.9%)\rEpoch: 49.8%  lr: 0.004625  loss: 0.006213  eta: 0h1m  tot: 0h14m33s  (90.0%)\rEpoch: 49.9%  lr: 0.004605  loss: 0.006218  eta: 0h1m  tot: 0h14m33s  (90.0%)\rEpoch: 50.0%  lr: 0.004605  loss: 0.006215  eta: 0h1m  tot: 0h14m34s  (90.0%)\rEpoch: 50.0%  lr: 0.004605  loss: 0.006219  eta: 0h1m  tot: 0h14m34s  (90.0%)\rEpoch: 50.1%  lr: 0.004605  loss: 0.006215  eta: 0h1m  tot: 0h14m34s  (90.0%)\rEpoch: 50.2%  lr: 0.004605  loss: 0.006221  eta: 0h1m  tot: 0h14m34s  (90.0%)\rEpoch: 50.3%  lr: 0.004605  loss: 0.006217  eta: 0h1m  tot: 0h14m34s  (90.1%)\rEpoch: 50.4%  lr: 0.004575  loss: 0.006213  eta: 0h1m  tot: 0h14m34s  (90.1%)\rEpoch: 50.5%  lr: 0.004565  loss: 0.006215  eta: 0h1m  tot: 0h14m35s  (90.1%)\rEpoch: 50.6%  lr: 0.004545  loss: 0.006208  eta: 0h1m  tot: 0h14m35s  (90.1%)\rEpoch: 50.7%  lr: 0.004525  loss: 0.006213  eta: 0h1m  tot: 0h14m35s  (90.1%)\rEpoch: 50.8%  lr: 0.004525  loss: 0.006208  eta: 0h1m  tot: 0h14m35s  (90.2%)\rEpoch: 50.9%  lr: 0.004505  loss: 0.006215  eta: 0h1m  tot: 0h14m35s  (90.2%)\rEpoch: 50.9%  lr: 0.004495  loss: 0.006209  eta: 0h1m  tot: 0h14m35s  (90.2%)\rEpoch: 51.0%  lr: 0.004495  loss: 0.006211  eta: 0h1m  tot: 0h14m36s  (90.2%)\rEpoch: 51.1%  lr: 0.004495  loss: 0.006205  eta: 0h1m  tot: 0h14m36s  (90.2%)\rEpoch: 51.2%  lr: 0.004495  loss: 0.006201  eta: 0h1m  tot: 0h14m36s  (90.2%)\rEpoch: 51.3%  lr: 0.004495  loss: 0.006198  eta: 0h1m  tot: 0h14m36s  (90.3%)\rEpoch: 51.4%  lr: 0.004495  loss: 0.006197  eta: 0h1m  tot: 0h14m36s  (90.3%)\rEpoch: 51.5%  lr: 0.004485  loss: 0.006189  eta: 0h1m  tot: 0h14m36s  (90.3%)\rEpoch: 51.6%  lr: 0.004485  loss: 0.006189  eta: 0h1m  tot: 0h14m37s  (90.3%)\rEpoch: 51.7%  lr: 0.004465  loss: 0.006191  eta: 0h1m  tot: 0h14m37s  (90.3%)\rEpoch: 51.8%  lr: 0.004455  loss: 0.006192  eta: 0h1m  tot: 0h14m37s  (90.4%)\rEpoch: 51.8%  lr: 0.004445  loss: 0.006185  eta: 0h1m  tot: 0h14m37s  (90.4%)\rEpoch: 51.9%  lr: 0.004445  loss: 0.006183  eta: 0h1m  tot: 0h14m37s  (90.4%)\rEpoch: 52.0%  lr: 0.004435  loss: 0.006175  eta: 0h1m  tot: 0h14m37s  (90.4%)\rEpoch: 52.1%  lr: 0.004415  loss: 0.006181  eta: 0h1m  tot: 0h14m38s  (90.4%)\rEpoch: 52.2%  lr: 0.004404  loss: 0.006177  eta: 0h1m  tot: 0h14m38s  (90.4%)\rEpoch: 52.3%  lr: 0.004404  loss: 0.006176  eta: 0h1m  tot: 0h14m38s  (90.5%)\rEpoch: 52.4%  lr: 0.004394  loss: 0.006175  eta: 0h1m  tot: 0h14m38s  (90.5%)\rEpoch: 52.5%  lr: 0.004384  loss: 0.006174  eta: 0h1m  tot: 0h14m38s  (90.5%)\rEpoch: 52.6%  lr: 0.004384  loss: 0.006167  eta: 0h1m  tot: 0h14m39s  (90.5%)\rEpoch: 52.7%  lr: 0.004374  loss: 0.006164  eta: 0h1m  tot: 0h14m39s  (90.5%)\rEpoch: 52.8%  lr: 0.004364  loss: 0.006156  eta: 0h1m  tot: 0h14m39s  (90.6%)\rEpoch: 52.8%  lr: 0.004354  loss: 0.006162  eta: 0h1m  tot: 0h14m39s  (90.6%)\rEpoch: 52.9%  lr: 0.004354  loss: 0.006163  eta: 0h1m  tot: 0h14m39s  (90.6%)\rEpoch: 53.0%  lr: 0.004354  loss: 0.006167  eta: 0h1m  tot: 0h14m39s  (90.6%)\rEpoch: 53.1%  lr: 0.004344  loss: 0.006160  eta: 0h1m  tot: 0h14m40s  (90.6%)\rEpoch: 53.2%  lr: 0.004334  loss: 0.006167  eta: 0h1m  tot: 0h14m40s  (90.6%)\rEpoch: 53.3%  lr: 0.004334  loss: 0.006180  eta: 0h1m  tot: 0h14m40s  (90.7%)\rEpoch: 53.4%  lr: 0.004324  loss: 0.006177  eta: 0h1m  tot: 0h14m40s  (90.7%)\rEpoch: 53.5%  lr: 0.004314  loss: 0.006168  eta: 0h1m  tot: 0h14m40s  (90.7%)\rEpoch: 53.6%  lr: 0.004294  loss: 0.006165  eta: 0h1m  tot: 0h14m40s  (90.7%)\rEpoch: 53.7%  lr: 0.004274  loss: 0.006165  eta: 0h1m  tot: 0h14m41s  (90.7%)\rEpoch: 53.7%  lr: 0.004264  loss: 0.006161  eta: 0h1m  tot: 0h14m41s  (90.7%)\rEpoch: 53.8%  lr: 0.004254  loss: 0.006160  eta: 0h1m  tot: 0h14m41s  (90.8%)\rEpoch: 53.9%  lr: 0.004254  loss: 0.006161  eta: 0h1m  tot: 0h14m41s  (90.8%)\rEpoch: 54.0%  lr: 0.004244  loss: 0.006162  eta: 0h1m  tot: 0h14m41s  (90.8%)\rEpoch: 54.1%  lr: 0.004234  loss: 0.006158  eta: 0h1m  tot: 0h14m41s  (90.8%)\rEpoch: 54.2%  lr: 0.004234  loss: 0.006152  eta: 0h1m  tot: 0h14m42s  (90.8%)\rEpoch: 54.3%  lr: 0.004234  loss: 0.006167  eta: 0h1m  tot: 0h14m42s  (90.9%)\rEpoch: 54.4%  lr: 0.004234  loss: 0.006164  eta: 0h1m  tot: 0h14m42s  (90.9%)\rEpoch: 54.5%  lr: 0.004234  loss: 0.006160  eta: 0h1m  tot: 0h14m42s  (90.9%)\rEpoch: 54.6%  lr: 0.004234  loss: 0.006160  eta: 0h1m  tot: 0h14m42s  (90.9%)\rEpoch: 54.6%  lr: 0.004224  loss: 0.006159  eta: 0h1m  tot: 0h14m42s  (90.9%)\rEpoch: 54.7%  lr: 0.004194  loss: 0.006159  eta: 0h1m  tot: 0h14m43s  (90.9%)\rEpoch: 54.8%  lr: 0.004194  loss: 0.006156  eta: 0h1m  tot: 0h14m43s  (91.0%)\rEpoch: 54.9%  lr: 0.004184  loss: 0.006159  eta: 0h1m  tot: 0h14m43s  (91.0%)\rEpoch: 55.0%  lr: 0.004184  loss: 0.006164  eta: 0h1m  tot: 0h14m43s  (91.0%)\rEpoch: 55.1%  lr: 0.004174  loss: 0.006161  eta: 0h1m  tot: 0h14m43s  (91.0%)\rEpoch: 55.2%  lr: 0.004164  loss: 0.006166  eta: 0h1m  tot: 0h14m43s  (91.0%)\rEpoch: 55.3%  lr: 0.004154  loss: 0.006169  eta: 0h1m  tot: 0h14m44s  (91.1%)\rEpoch: 55.4%  lr: 0.004154  loss: 0.006192  eta: 0h1m  tot: 0h14m44s  (91.1%)\rEpoch: 55.5%  lr: 0.004124  loss: 0.006201  eta: 0h1m  tot: 0h14m44s  (91.1%)\rEpoch: 55.5%  lr: 0.004114  loss: 0.006204  eta: 0h1m  tot: 0h14m44s  (91.1%)\rEpoch: 55.6%  lr: 0.004114  loss: 0.006212  eta: 0h1m  tot: 0h14m44s  (91.1%)\rEpoch: 55.7%  lr: 0.004094  loss: 0.006207  eta: 0h1m  tot: 0h14m45s  (91.1%)\rEpoch: 55.8%  lr: 0.004094  loss: 0.006206  eta: 0h1m  tot: 0h14m45s  (91.2%)\rEpoch: 55.9%  lr: 0.004094  loss: 0.006219  eta: 0h1m  tot: 0h14m45s  (91.2%)\rEpoch: 56.0%  lr: 0.004094  loss: 0.006218  eta: 0h1m  tot: 0h14m45s  (91.2%)\rEpoch: 56.1%  lr: 0.004084  loss: 0.006228  eta: 0h1m  tot: 0h14m45s  (91.2%)\rEpoch: 56.2%  lr: 0.004074  loss: 0.006223  eta: 0h1m  tot: 0h14m45s  (91.2%)\rEpoch: 56.3%  lr: 0.004074  loss: 0.006224  eta: 0h1m  tot: 0h14m46s  (91.3%)\rEpoch: 56.4%  lr: 0.004074  loss: 0.006216  eta: 0h1m  tot: 0h14m46s  (91.3%)\rEpoch: 56.4%  lr: 0.004034  loss: 0.006213  eta: 0h1m  tot: 0h14m46s  (91.3%)\rEpoch: 56.5%  lr: 0.004034  loss: 0.006216  eta: 0h1m  tot: 0h14m46s  (91.3%)\rEpoch: 56.6%  lr: 0.004014  loss: 0.006215  eta: 0h1m  tot: 0h14m46s  (91.3%)\rEpoch: 56.7%  lr: 0.004004  loss: 0.006211  eta: 0h1m  tot: 0h14m46s  (91.3%)\rEpoch: 56.8%  lr: 0.004004  loss: 0.006207  eta: 0h1m  tot: 0h14m47s  (91.4%)\rEpoch: 56.9%  lr: 0.004004  loss: 0.006205  eta: 0h1m  tot: 0h14m47s  (91.4%)\rEpoch: 57.0%  lr: 0.003994  loss: 0.006199  eta: 0h1m  tot: 0h14m47s  (91.4%)\rEpoch: 57.1%  lr: 0.003984  loss: 0.006203  eta: 0h1m  tot: 0h14m47s  (91.4%)\rEpoch: 57.2%  lr: 0.003984  loss: 0.006198  eta: 0h1m  tot: 0h14m47s  (91.4%)\rEpoch: 57.3%  lr: 0.003984  loss: 0.006201  eta: 0h1m  tot: 0h14m48s  (91.5%)\rEpoch: 57.3%  lr: 0.003984  loss: 0.006197  eta: 0h1m  tot: 0h14m48s  (91.5%)\rEpoch: 57.4%  lr: 0.003974  loss: 0.006200  eta: 0h1m  tot: 0h14m48s  (91.5%)\rEpoch: 57.5%  lr: 0.003954  loss: 0.006195  eta: 0h1m  tot: 0h14m48s  (91.5%)\rEpoch: 57.6%  lr: 0.003944  loss: 0.006202  eta: 0h1m  tot: 0h14m48s  (91.5%)\rEpoch: 57.7%  lr: 0.003934  loss: 0.006197  eta: 0h1m  tot: 0h14m48s  (91.5%)\rEpoch: 57.8%  lr: 0.003924  loss: 0.006204  eta: 0h1m  tot: 0h14m48s  (91.6%)\rEpoch: 57.9%  lr: 0.003914  loss: 0.006205  eta: 0h1m  tot: 0h14m49s  (91.6%)\rEpoch: 58.0%  lr: 0.003914  loss: 0.006203  eta: 0h1m  tot: 0h14m49s  (91.6%)\rEpoch: 58.1%  lr: 0.003914  loss: 0.006204  eta: 0h1m  tot: 0h14m49s  (91.6%)\rEpoch: 58.2%  lr: 0.003914  loss: 0.006200  eta: 0h1m  tot: 0h14m49s  (91.6%)\rEpoch: 58.2%  lr: 0.003904  loss: 0.006201  eta: 0h1m  tot: 0h14m49s  (91.6%)\rEpoch: 58.3%  lr: 0.003894  loss: 0.006195  eta: 0h1m  tot: 0h14m50s  (91.7%)\rEpoch: 58.4%  lr: 0.003894  loss: 0.006191  eta: 0h1m  tot: 0h14m50s  (91.7%)\rEpoch: 58.5%  lr: 0.003864  loss: 0.006187  eta: 0h1m  tot: 0h14m50s  (91.7%)\rEpoch: 58.6%  lr: 0.003864  loss: 0.006187  eta: 0h1m  tot: 0h14m50s  (91.7%)\rEpoch: 58.7%  lr: 0.003864  loss: 0.006187  eta: 0h1m  tot: 0h14m50s  (91.7%)\rEpoch: 58.8%  lr: 0.003854  loss: 0.006183  eta: 0h1m  tot: 0h14m50s  (91.8%)\rEpoch: 58.9%  lr: 0.003834  loss: 0.006187  eta: 0h1m  tot: 0h14m51s  (91.8%)\rEpoch: 59.0%  lr: 0.003814  loss: 0.006182  eta: 0h1m  tot: 0h14m51s  (91.8%)\rEpoch: 59.1%  lr: 0.003804  loss: 0.006193  eta: 0h1m  tot: 0h14m51s  (91.8%)\rEpoch: 59.1%  lr: 0.003784  loss: 0.006188  eta: 0h1m  tot: 0h14m51s  (91.8%)\rEpoch: 59.2%  lr: 0.003774  loss: 0.006186  eta: 0h1m  tot: 0h14m51s  (91.8%)\rEpoch: 59.3%  lr: 0.003774  loss: 0.006185  eta: 0h1m  tot: 0h14m51s  (91.9%)\rEpoch: 59.4%  lr: 0.003764  loss: 0.006190  eta: 0h1m  tot: 0h14m52s  (91.9%)\rEpoch: 59.5%  lr: 0.003764  loss: 0.006210  eta: 0h1m  tot: 0h14m52s  (91.9%)\rEpoch: 59.6%  lr: 0.003764  loss: 0.006206  eta: 0h1m  tot: 0h14m52s  (91.9%)\rEpoch: 59.7%  lr: 0.003754  loss: 0.006200  eta: 0h1m  tot: 0h14m52s  (91.9%)\rEpoch: 59.8%  lr: 0.003744  loss: 0.006199  eta: 0h1m  tot: 0h14m52s  (92.0%)\rEpoch: 59.9%  lr: 0.003744  loss: 0.006192  eta: 0h1m  tot: 0h14m53s  (92.0%)\rEpoch: 60.0%  lr: 0.003734  loss: 0.006185  eta: 0h1m  tot: 0h14m53s  (92.0%)\rEpoch: 60.0%  lr: 0.003734  loss: 0.006197  eta: 0h1m  tot: 0h14m53s  (92.0%)\rEpoch: 60.1%  lr: 0.003734  loss: 0.006201  eta: 0h1m  tot: 0h14m53s  (92.0%)\rEpoch: 60.2%  lr: 0.003714  loss: 0.006201  eta: 0h1m  tot: 0h14m53s  (92.0%)\rEpoch: 60.3%  lr: 0.003704  loss: 0.006211  eta: 0h1m  tot: 0h14m53s  (92.1%)\rEpoch: 60.4%  lr: 0.003694  loss: 0.006207  eta: 0h1m  tot: 0h14m54s  (92.1%)\rEpoch: 60.5%  lr: 0.003694  loss: 0.006210  eta: 0h1m  tot: 0h14m54s  (92.1%)\rEpoch: 60.6%  lr: 0.003684  loss: 0.006212  eta: 0h1m  tot: 0h14m54s  (92.1%)\rEpoch: 60.7%  lr: 0.003674  loss: 0.006208  eta: 0h1m  tot: 0h14m54s  (92.1%)\rEpoch: 60.8%  lr: 0.003674  loss: 0.006207  eta: 0h1m  tot: 0h14m54s  (92.2%)\rEpoch: 60.9%  lr: 0.003674  loss: 0.006205  eta: 0h1m  tot: 0h14m54s  (92.2%)\rEpoch: 60.9%  lr: 0.003674  loss: 0.006203  eta: 0h1m  tot: 0h14m55s  (92.2%)\rEpoch: 61.0%  lr: 0.003674  loss: 0.006204  eta: 0h1m  tot: 0h14m55s  (92.2%)\rEpoch: 61.1%  lr: 0.003674  loss: 0.006203  eta: 0h1m  tot: 0h14m55s  (92.2%)\rEpoch: 61.2%  lr: 0.003664  loss: 0.006199  eta: 0h1m  tot: 0h14m55s  (92.2%)\rEpoch: 61.3%  lr: 0.003654  loss: 0.006191  eta: 0h1m  tot: 0h14m55s  (92.3%)\rEpoch: 61.4%  lr: 0.003634  loss: 0.006187  eta: 0h1m  tot: 0h14m55s  (92.3%)\rEpoch: 61.5%  lr: 0.003614  loss: 0.006199  eta: 0h1m  tot: 0h14m56s  (92.3%)\rEpoch: 61.6%  lr: 0.003614  loss: 0.006202  eta: 0h1m  tot: 0h14m56s  (92.3%)\rEpoch: 61.7%  lr: 0.003604  loss: 0.006197  eta: 0h1m  tot: 0h14m56s  (92.3%)\rEpoch: 61.8%  lr: 0.003604  loss: 0.006193  eta: 0h1m  tot: 0h14m56s  (92.4%)\rEpoch: 61.8%  lr: 0.003604  loss: 0.006188  eta: 0h1m  tot: 0h14m56s  (92.4%)\rEpoch: 61.9%  lr: 0.003604  loss: 0.006190  eta: 0h1m  tot: 0h14m56s  (92.4%)\rEpoch: 62.0%  lr: 0.003604  loss: 0.006190  eta: 0h1m  tot: 0h14m57s  (92.4%)\rEpoch: 62.1%  lr: 0.003594  loss: 0.006184  eta: 0h1m  tot: 0h14m57s  (92.4%)\rEpoch: 62.2%  lr: 0.003574  loss: 0.006179  eta: 0h1m  tot: 0h14m57s  (92.4%)\rEpoch: 62.3%  lr: 0.003574  loss: 0.006178  eta: 0h1m  tot: 0h14m57s  (92.5%)\rEpoch: 62.4%  lr: 0.003564  loss: 0.006175  eta: 0h1m  tot: 0h14m57s  (92.5%)\rEpoch: 62.5%  lr: 0.003554  loss: 0.006169  eta: 0h1m  tot: 0h14m57s  (92.5%)\rEpoch: 62.6%  lr: 0.003534  loss: 0.006163  eta: 0h1m  tot: 0h14m58s  (92.5%)\rEpoch: 62.7%  lr: 0.003514  loss: 0.006167  eta: 0h1m  tot: 0h14m58s  (92.5%)\rEpoch: 62.7%  lr: 0.003504  loss: 0.006163  eta: 0h1m  tot: 0h14m58s  (92.5%)\rEpoch: 62.8%  lr: 0.003484  loss: 0.006160  eta: 0h1m  tot: 0h14m58s  (92.6%)\rEpoch: 62.9%  lr: 0.003474  loss: 0.006155  eta: 0h1m  tot: 0h14m58s  (92.6%)\rEpoch: 63.0%  lr: 0.003464  loss: 0.006156  eta: 0h1m  tot: 0h14m58s  (92.6%)\rEpoch: 63.1%  lr: 0.003454  loss: 0.006151  eta: 0h1m  tot: 0h14m59s  (92.6%)\rEpoch: 63.2%  lr: 0.003454  loss: 0.006149  eta: 0h1m  tot: 0h14m59s  (92.6%)\rEpoch: 63.3%  lr: 0.003454  loss: 0.006146  eta: 0h1m  tot: 0h14m59s  (92.7%)\rEpoch: 63.4%  lr: 0.003454  loss: 0.006140  eta: 0h1m  tot: 0h14m59s  (92.7%)\rEpoch: 63.5%  lr: 0.003444  loss: 0.006139  eta: 0h1m  tot: 0h14m59s  (92.7%)\rEpoch: 63.6%  lr: 0.003444  loss: 0.006153  eta: 0h1m  tot: 0h14m59s  (92.7%)\rEpoch: 63.6%  lr: 0.003444  loss: 0.006161  eta: 0h1m  tot: 0h15m0s  (92.7%)\rEpoch: 63.7%  lr: 0.003444  loss: 0.006173  eta: 0h1m  tot: 0h15m0s  (92.7%)\rEpoch: 63.8%  lr: 0.003434  loss: 0.006168  eta: 0h1m  tot: 0h15m0s  (92.8%)\rEpoch: 63.9%  lr: 0.003434  loss: 0.006172  eta: 0h1m  tot: 0h15m0s  (92.8%)\rEpoch: 64.0%  lr: 0.003424  loss: 0.006171  eta: 0h1m  tot: 0h15m0s  (92.8%)\rEpoch: 64.1%  lr: 0.003424  loss: 0.006163  eta: 0h1m  tot: 0h15m0s  (92.8%)\rEpoch: 64.2%  lr: 0.003424  loss: 0.006158  eta: 0h1m  tot: 0h15m1s  (92.8%)\rEpoch: 64.3%  lr: 0.003414  loss: 0.006158  eta: 0h1m  tot: 0h15m1s  (92.9%)\rEpoch: 64.4%  lr: 0.003414  loss: 0.006154  eta: 0h1m  tot: 0h15m1s  (92.9%)\rEpoch: 64.5%  lr: 0.003403  loss: 0.006163  eta: 0h1m  tot: 0h15m1s  (92.9%)\rEpoch: 64.5%  lr: 0.003393  loss: 0.006165  eta: 0h1m  tot: 0h15m1s  (92.9%)\rEpoch: 64.6%  lr: 0.003393  loss: 0.006163  eta: 0h1m  tot: 0h15m1s  (92.9%)\rEpoch: 64.7%  lr: 0.003393  loss: 0.006166  eta: 0h1m  tot: 0h15m2s  (92.9%)\rEpoch: 64.8%  lr: 0.003393  loss: 0.006160  eta: 0h1m  tot: 0h15m2s  (93.0%)\rEpoch: 64.9%  lr: 0.003393  loss: 0.006160  eta: 0h1m  tot: 0h15m2s  (93.0%)\rEpoch: 65.0%  lr: 0.003353  loss: 0.006157  eta: 0h1m  tot: 0h15m2s  (93.0%)\rEpoch: 65.1%  lr: 0.003353  loss: 0.006156  eta: 0h1m  tot: 0h15m2s  (93.0%)\rEpoch: 65.2%  lr: 0.003353  loss: 0.006160  eta: 0h1m  tot: 0h15m2s  (93.0%)\rEpoch: 65.3%  lr: 0.003343  loss: 0.006167  eta: 0h1m  tot: 0h15m3s  (93.1%)\rEpoch: 65.4%  lr: 0.003343  loss: 0.006167  eta: 0h1m  tot: 0h15m3s  (93.1%)\rEpoch: 65.4%  lr: 0.003333  loss: 0.006162  eta: 0h1m  tot: 0h15m3s  (93.1%)\rEpoch: 65.5%  lr: 0.003323  loss: 0.006162  eta: 0h1m  tot: 0h15m3s  (93.1%)\rEpoch: 65.6%  lr: 0.003303  loss: 0.006157  eta: 0h1m  tot: 0h15m3s  (93.1%)\rEpoch: 65.7%  lr: 0.003293  loss: 0.006156  eta: 0h1m  tot: 0h15m3s  (93.1%)\rEpoch: 65.8%  lr: 0.003263  loss: 0.006161  eta: 0h1m  tot: 0h15m4s  (93.2%)\rEpoch: 65.9%  lr: 0.003263  loss: 0.006162  eta: 0h1m  tot: 0h15m4s  (93.2%)\rEpoch: 66.0%  lr: 0.003243  loss: 0.006163  eta: 0h1m  tot: 0h15m4s  (93.2%)\rEpoch: 66.1%  lr: 0.003233  loss: 0.006158  eta: 0h1m  tot: 0h15m4s  (93.2%)\rEpoch: 66.2%  lr: 0.003223  loss: 0.006160  eta: 0h1m  tot: 0h15m4s  (93.2%)\rEpoch: 66.3%  lr: 0.003213  loss: 0.006169  eta: 0h1m  tot: 0h15m4s  (93.3%)\rEpoch: 66.3%  lr: 0.003213  loss: 0.006177  eta: 0h1m  tot: 0h15m5s  (93.3%)\rEpoch: 66.4%  lr: 0.003203  loss: 0.006187  eta: 0h1m  tot: 0h15m5s  (93.3%)\rEpoch: 66.5%  lr: 0.003183  loss: 0.006197  eta: 0h1m  tot: 0h15m5s  (93.3%)\rEpoch: 66.6%  lr: 0.003183  loss: 0.006195  eta: 0h1m  tot: 0h15m5s  (93.3%)\rEpoch: 66.7%  lr: 0.003153  loss: 0.006194  eta: 0h1m  tot: 0h15m5s  (93.3%)\rEpoch: 66.8%  lr: 0.003153  loss: 0.006202  eta: 0h1m  tot: 0h15m5s  (93.4%)\rEpoch: 66.9%  lr: 0.003153  loss: 0.006209  eta: 0h1m  tot: 0h15m6s  (93.4%)\rEpoch: 67.0%  lr: 0.003143  loss: 0.006213  eta: 0h1m  tot: 0h15m6s  (93.4%)\rEpoch: 67.1%  lr: 0.003143  loss: 0.006206  eta: 0h1m  tot: 0h15m6s  (93.4%)\rEpoch: 67.2%  lr: 0.003143  loss: 0.006204  eta: 0h1m  tot: 0h15m6s  (93.4%)\rEpoch: 67.2%  lr: 0.003143  loss: 0.006208  eta: 0h1m  tot: 0h15m6s  (93.4%)\rEpoch: 67.3%  lr: 0.003143  loss: 0.006223  eta: 0h1m  tot: 0h15m6s  (93.5%)\rEpoch: 67.4%  lr: 0.003113  loss: 0.006215  eta: 0h1m  tot: 0h15m7s  (93.5%)\rEpoch: 67.5%  lr: 0.003113  loss: 0.006215  eta: 0h1m  tot: 0h15m7s  (93.5%)\rEpoch: 67.6%  lr: 0.003093  loss: 0.006212  eta: 0h1m  tot: 0h15m7s  (93.5%)\rEpoch: 67.7%  lr: 0.003083  loss: 0.006220  eta: 0h1m  tot: 0h15m7s  (93.5%)\rEpoch: 67.8%  lr: 0.003063  loss: 0.006218  eta: 0h1m  tot: 0h15m7s  (93.6%)\rEpoch: 67.9%  lr: 0.003053  loss: 0.006214  eta: 0h1m  tot: 0h15m7s  (93.6%)\rEpoch: 68.0%  lr: 0.003043  loss: 0.006212  eta: 0h1m  tot: 0h15m8s  (93.6%)\rEpoch: 68.1%  lr: 0.003033  loss: 0.006215  eta: 0h1m  tot: 0h15m8s  (93.6%)\rEpoch: 68.1%  lr: 0.003033  loss: 0.006216  eta: 0h1m  tot: 0h15m8s  (93.6%)\rEpoch: 68.2%  lr: 0.003013  loss: 0.006222  eta: 0h1m  tot: 0h15m8s  (93.6%)\rEpoch: 68.3%  lr: 0.002993  loss: 0.006220  eta: 0h1m  tot: 0h15m8s  (93.7%)\rEpoch: 68.4%  lr: 0.002983  loss: 0.006217  eta: <1min   tot: 0h15m8s  (93.7%)\rEpoch: 68.5%  lr: 0.002973  loss: 0.006213  eta: <1min   tot: 0h15m9s  (93.7%)\rEpoch: 68.6%  lr: 0.002973  loss: 0.006217  eta: <1min   tot: 0h15m9s  (93.7%)\rEpoch: 68.7%  lr: 0.002973  loss: 0.006221  eta: <1min   tot: 0h15m9s  (93.7%)\rEpoch: 68.8%  lr: 0.002973  loss: 0.006232  eta: <1min   tot: 0h15m9s  (93.8%)\rEpoch: 68.9%  lr: 0.002963  loss: 0.006233  eta: <1min   tot: 0h15m9s  (93.8%)\rEpoch: 69.0%  lr: 0.002963  loss: 0.006237  eta: <1min   tot: 0h15m9s  (93.8%)\rEpoch: 69.0%  lr: 0.002953  loss: 0.006231  eta: <1min   tot: 0h15m10s  (93.8%)\rEpoch: 69.1%  lr: 0.002933  loss: 0.006236  eta: <1min   tot: 0h15m10s  (93.8%)\rEpoch: 69.2%  lr: 0.002913  loss: 0.006232  eta: <1min   tot: 0h15m10s  (93.8%)\rEpoch: 69.3%  lr: 0.002903  loss: 0.006230  eta: <1min   tot: 0h15m10s  (93.9%)\rEpoch: 69.4%  lr: 0.002903  loss: 0.006226  eta: <1min   tot: 0h15m10s  (93.9%)\rEpoch: 69.5%  lr: 0.002883  loss: 0.006224  eta: <1min   tot: 0h15m11s  (93.9%)\rEpoch: 69.6%  lr: 0.002873  loss: 0.006225  eta: <1min   tot: 0h15m11s  (93.9%)\rEpoch: 69.7%  lr: 0.002873  loss: 0.006222  eta: <1min   tot: 0h15m11s  (93.9%)\rEpoch: 69.8%  lr: 0.002863  loss: 0.006224  eta: <1min   tot: 0h15m11s  (94.0%)\rEpoch: 69.9%  lr: 0.002853  loss: 0.006218  eta: <1min   tot: 0h15m11s  (94.0%)\rEpoch: 69.9%  lr: 0.002823  loss: 0.006230  eta: <1min   tot: 0h15m11s  (94.0%)\rEpoch: 70.0%  lr: 0.002823  loss: 0.006227  eta: <1min   tot: 0h15m12s  (94.0%)\rEpoch: 70.1%  lr: 0.002813  loss: 0.006225  eta: <1min   tot: 0h15m12s  (94.0%)\rEpoch: 70.2%  lr: 0.002773  loss: 0.006222  eta: <1min   tot: 0h15m12s  (94.0%)\rEpoch: 70.3%  lr: 0.002773  loss: 0.006218  eta: <1min   tot: 0h15m12s  (94.1%)\rEpoch: 70.4%  lr: 0.002763  loss: 0.006219  eta: <1min   tot: 0h15m12s  (94.1%)\rEpoch: 70.5%  lr: 0.002753  loss: 0.006220  eta: <1min   tot: 0h15m12s  (94.1%)\rEpoch: 70.6%  lr: 0.002753  loss: 0.006217  eta: <1min   tot: 0h15m12s  (94.1%)\rEpoch: 70.7%  lr: 0.002733  loss: 0.006216  eta: <1min   tot: 0h15m13s  (94.1%)\rEpoch: 70.8%  lr: 0.002723  loss: 0.006214  eta: <1min   tot: 0h15m13s  (94.2%)\rEpoch: 70.8%  lr: 0.002723  loss: 0.006212  eta: <1min   tot: 0h15m13s  (94.2%)\rEpoch: 70.9%  lr: 0.002713  loss: 0.006209  eta: <1min   tot: 0h15m13s  (94.2%)\rEpoch: 71.0%  lr: 0.002713  loss: 0.006208  eta: <1min   tot: 0h15m13s  (94.2%)\rEpoch: 71.1%  lr: 0.002713  loss: 0.006210  eta: <1min   tot: 0h15m14s  (94.2%)\rEpoch: 71.2%  lr: 0.002713  loss: 0.006211  eta: <1min   tot: 0h15m14s  (94.2%)\rEpoch: 71.3%  lr: 0.002713  loss: 0.006207  eta: <1min   tot: 0h15m14s  (94.3%)\rEpoch: 71.4%  lr: 0.002693  loss: 0.006221  eta: <1min   tot: 0h15m14s  (94.3%)\rEpoch: 71.5%  lr: 0.002693  loss: 0.006220  eta: <1min   tot: 0h15m14s  (94.3%)\rEpoch: 71.6%  lr: 0.002673  loss: 0.006218  eta: <1min   tot: 0h15m14s  (94.3%)\rEpoch: 71.7%  lr: 0.002653  loss: 0.006223  eta: <1min   tot: 0h15m15s  (94.3%)\rEpoch: 71.7%  lr: 0.002643  loss: 0.006217  eta: <1min   tot: 0h15m15s  (94.3%)\rEpoch: 71.8%  lr: 0.002613  loss: 0.006220  eta: <1min   tot: 0h15m15s  (94.4%)\rEpoch: 71.9%  lr: 0.002613  loss: 0.006215  eta: <1min   tot: 0h15m15s  (94.4%)\rEpoch: 72.0%  lr: 0.002573  loss: 0.006210  eta: <1min   tot: 0h15m15s  (94.4%)\rEpoch: 72.1%  lr: 0.002563  loss: 0.006207  eta: <1min   tot: 0h15m15s  (94.4%)\rEpoch: 72.2%  lr: 0.002553  loss: 0.006216  eta: <1min   tot: 0h15m16s  (94.4%)\rEpoch: 72.3%  lr: 0.002543  loss: 0.006213  eta: <1min   tot: 0h15m16s  (94.5%)\rEpoch: 72.4%  lr: 0.002543  loss: 0.006211  eta: <1min   tot: 0h15m16s  (94.5%)\rEpoch: 72.5%  lr: 0.002543  loss: 0.006206  eta: <1min   tot: 0h15m16s  (94.5%)\rEpoch: 72.6%  lr: 0.002533  loss: 0.006208  eta: <1min   tot: 0h15m16s  (94.5%)\rEpoch: 72.6%  lr: 0.002533  loss: 0.006208  eta: <1min   tot: 0h15m16s  (94.5%)\rEpoch: 72.7%  lr: 0.002533  loss: 0.006210  eta: <1min   tot: 0h15m17s  (94.5%)\rEpoch: 72.8%  lr: 0.002533  loss: 0.006204  eta: <1min   tot: 0h15m17s  (94.6%)\rEpoch: 72.9%  lr: 0.002513  loss: 0.006202  eta: <1min   tot: 0h15m17s  (94.6%)\rEpoch: 73.0%  lr: 0.002513  loss: 0.006201  eta: <1min   tot: 0h15m17s  (94.6%)\rEpoch: 73.1%  lr: 0.002473  loss: 0.006197  eta: <1min   tot: 0h15m17s  (94.6%)\rEpoch: 73.2%  lr: 0.002473  loss: 0.006196  eta: <1min   tot: 0h15m18s  (94.6%)\rEpoch: 73.3%  lr: 0.002463  loss: 0.006201  eta: <1min   tot: 0h15m18s  (94.7%)\rEpoch: 73.4%  lr: 0.002463  loss: 0.006199  eta: <1min   tot: 0h15m18s  (94.7%)\rEpoch: 73.5%  lr: 0.002463  loss: 0.006195  eta: <1min   tot: 0h15m18s  (94.7%)\rEpoch: 73.5%  lr: 0.002453  loss: 0.006193  eta: <1min   tot: 0h15m18s  (94.7%)\rEpoch: 73.6%  lr: 0.002443  loss: 0.006197  eta: <1min   tot: 0h15m18s  (94.7%)\rEpoch: 73.7%  lr: 0.002433  loss: 0.006198  eta: <1min   tot: 0h15m19s  (94.7%)\rEpoch: 73.8%  lr: 0.002433  loss: 0.006192  eta: <1min   tot: 0h15m19s  (94.8%)\rEpoch: 73.9%  lr: 0.002433  loss: 0.006190  eta: <1min   tot: 0h15m19s  (94.8%)\rEpoch: 74.0%  lr: 0.002423  loss: 0.006187  eta: <1min   tot: 0h15m19s  (94.8%)\rEpoch: 74.1%  lr: 0.002412  loss: 0.006184  eta: <1min   tot: 0h15m19s  (94.8%)\rEpoch: 74.2%  lr: 0.002412  loss: 0.006182  eta: <1min   tot: 0h15m19s  (94.8%)\rEpoch: 74.3%  lr: 0.002402  loss: 0.006181  eta: <1min   tot: 0h15m20s  (94.9%)\rEpoch: 74.4%  lr: 0.002402  loss: 0.006180  eta: <1min   tot: 0h15m20s  (94.9%)\rEpoch: 74.4%  lr: 0.002382  loss: 0.006182  eta: <1min   tot: 0h15m20s  (94.9%)\rEpoch: 74.5%  lr: 0.002382  loss: 0.006186  eta: <1min   tot: 0h15m20s  (94.9%)\rEpoch: 74.6%  lr: 0.002382  loss: 0.006187  eta: <1min   tot: 0h15m20s  (94.9%)\rEpoch: 74.7%  lr: 0.002382  loss: 0.006187  eta: <1min   tot: 0h15m21s  (94.9%)\rEpoch: 74.8%  lr: 0.002362  loss: 0.006182  eta: <1min   tot: 0h15m21s  (95.0%)\rEpoch: 74.9%  lr: 0.002352  loss: 0.006182  eta: <1min   tot: 0h15m21s  (95.0%)\rEpoch: 75.0%  lr: 0.002332  loss: 0.006179  eta: <1min   tot: 0h15m21s  (95.0%)\rEpoch: 75.1%  lr: 0.002322  loss: 0.006177  eta: <1min   tot: 0h15m21s  (95.0%)\rEpoch: 75.2%  lr: 0.002312  loss: 0.006185  eta: <1min   tot: 0h15m21s  (95.0%)\rEpoch: 75.3%  lr: 0.002292  loss: 0.006182  eta: <1min   tot: 0h15m22s  (95.1%)\rEpoch: 75.3%  lr: 0.002292  loss: 0.006180  eta: <1min   tot: 0h15m22s  (95.1%)\rEpoch: 75.4%  lr: 0.002292  loss: 0.006178  eta: <1min   tot: 0h15m22s  (95.1%)\rEpoch: 75.5%  lr: 0.002272  loss: 0.006184  eta: <1min   tot: 0h15m22s  (95.1%)\rEpoch: 75.6%  lr: 0.002272  loss: 0.006209  eta: <1min   tot: 0h15m22s  (95.1%)\rEpoch: 75.7%  lr: 0.002262  loss: 0.006206  eta: <1min   tot: 0h15m22s  (95.1%)\rEpoch: 75.8%  lr: 0.002242  loss: 0.006206  eta: <1min   tot: 0h15m23s  (95.2%)\rEpoch: 75.9%  lr: 0.002242  loss: 0.006203  eta: <1min   tot: 0h15m23s  (95.2%)\rEpoch: 76.0%  lr: 0.002232  loss: 0.006198  eta: <1min   tot: 0h15m23s  (95.2%)\rEpoch: 76.1%  lr: 0.002232  loss: 0.006197  eta: <1min   tot: 0h15m23s  (95.2%)\rEpoch: 76.2%  lr: 0.002232  loss: 0.006198  eta: <1min   tot: 0h15m23s  (95.2%)\rEpoch: 76.2%  lr: 0.002222  loss: 0.006199  eta: <1min   tot: 0h15m23s  (95.2%)\rEpoch: 76.3%  lr: 0.002212  loss: 0.006210  eta: <1min   tot: 0h15m24s  (95.3%)\rEpoch: 76.4%  lr: 0.002202  loss: 0.006211  eta: <1min   tot: 0h15m24s  (95.3%)\rEpoch: 76.5%  lr: 0.002202  loss: 0.006208  eta: <1min   tot: 0h15m24s  (95.3%)\rEpoch: 76.6%  lr: 0.002192  loss: 0.006203  eta: <1min   tot: 0h15m24s  (95.3%)\rEpoch: 76.7%  lr: 0.002162  loss: 0.006197  eta: <1min   tot: 0h15m24s  (95.3%)\rEpoch: 76.8%  lr: 0.002152  loss: 0.006196  eta: <1min   tot: 0h15m24s  (95.4%)\rEpoch: 76.9%  lr: 0.002152  loss: 0.006202  eta: <1min   tot: 0h15m25s  (95.4%)\rEpoch: 77.0%  lr: 0.002142  loss: 0.006209  eta: <1min   tot: 0h15m25s  (95.4%)\rEpoch: 77.1%  lr: 0.002132  loss: 0.006208  eta: <1min   tot: 0h15m25s  (95.4%)\rEpoch: 77.1%  lr: 0.002122  loss: 0.006216  eta: <1min   tot: 0h15m25s  (95.4%)\rEpoch: 77.2%  lr: 0.002112  loss: 0.006216  eta: <1min   tot: 0h15m25s  (95.4%)\rEpoch: 77.3%  lr: 0.002112  loss: 0.006210  eta: <1min   tot: 0h15m25s  (95.5%)\rEpoch: 77.4%  lr: 0.002112  loss: 0.006204  eta: <1min   tot: 0h15m26s  (95.5%)\rEpoch: 77.5%  lr: 0.002102  loss: 0.006203  eta: <1min   tot: 0h15m26s  (95.5%)\rEpoch: 77.6%  lr: 0.002092  loss: 0.006205  eta: <1min   tot: 0h15m26s  (95.5%)\rEpoch: 77.7%  lr: 0.002082  loss: 0.006204  eta: <1min   tot: 0h15m26s  (95.5%)\rEpoch: 77.8%  lr: 0.002082  loss: 0.006201  eta: <1min   tot: 0h15m26s  (95.6%)\rEpoch: 77.9%  lr: 0.002082  loss: 0.006209  eta: <1min   tot: 0h15m26s  (95.6%)\rEpoch: 78.0%  lr: 0.002072  loss: 0.006211  eta: <1min   tot: 0h15m27s  (95.6%)\rEpoch: 78.0%  lr: 0.002072  loss: 0.006209  eta: <1min   tot: 0h15m27s  (95.6%)\rEpoch: 78.1%  lr: 0.002052  loss: 0.006207  eta: <1min   tot: 0h15m27s  (95.6%)\rEpoch: 78.2%  lr: 0.002052  loss: 0.006210  eta: <1min   tot: 0h15m27s  (95.6%)\rEpoch: 78.3%  lr: 0.002042  loss: 0.006207  eta: <1min   tot: 0h15m27s  (95.7%)\rEpoch: 78.4%  lr: 0.002012  loss: 0.006207  eta: <1min   tot: 0h15m27s  (95.7%)\rEpoch: 78.5%  lr: 0.002012  loss: 0.006205  eta: <1min   tot: 0h15m28s  (95.7%)\rEpoch: 78.6%  lr: 0.002012  loss: 0.006208  eta: <1min   tot: 0h15m28s  (95.7%)\rEpoch: 78.7%  lr: 0.001982  loss: 0.006202  eta: <1min   tot: 0h15m28s  (95.7%)\rEpoch: 78.8%  lr: 0.001982  loss: 0.006203  eta: <1min   tot: 0h15m28s  (95.8%)\rEpoch: 78.9%  lr: 0.001982  loss: 0.006202  eta: <1min   tot: 0h15m28s  (95.8%)\rEpoch: 78.9%  lr: 0.001972  loss: 0.006201  eta: <1min   tot: 0h15m28s  (95.8%)\rEpoch: 79.0%  lr: 0.001962  loss: 0.006198  eta: <1min   tot: 0h15m29s  (95.8%)\rEpoch: 79.1%  lr: 0.001952  loss: 0.006199  eta: <1min   tot: 0h15m29s  (95.8%)\rEpoch: 79.2%  lr: 0.001942  loss: 0.006195  eta: <1min   tot: 0h15m29s  (95.8%)\rEpoch: 79.3%  lr: 0.001942  loss: 0.006192  eta: <1min   tot: 0h15m29s  (95.9%)\rEpoch: 79.4%  lr: 0.001932  loss: 0.006190  eta: <1min   tot: 0h15m29s  (95.9%)\rEpoch: 79.5%  lr: 0.001912  loss: 0.006193  eta: <1min   tot: 0h15m30s  (95.9%)\rEpoch: 79.6%  lr: 0.001892  loss: 0.006192  eta: <1min   tot: 0h15m30s  (95.9%)\rEpoch: 79.7%  lr: 0.001882  loss: 0.006190  eta: <1min   tot: 0h15m30s  (95.9%)\rEpoch: 79.8%  lr: 0.001872  loss: 0.006186  eta: <1min   tot: 0h15m30s  (96.0%)\rEpoch: 79.8%  lr: 0.001862  loss: 0.006190  eta: <1min   tot: 0h15m30s  (96.0%)\rEpoch: 79.9%  lr: 0.001852  loss: 0.006187  eta: <1min   tot: 0h15m30s  (96.0%)\rEpoch: 80.0%  lr: 0.001852  loss: 0.006191  eta: <1min   tot: 0h15m31s  (96.0%)\rEpoch: 80.1%  lr: 0.001842  loss: 0.006191  eta: <1min   tot: 0h15m31s  (96.0%)\rEpoch: 80.2%  lr: 0.001832  loss: 0.006193  eta: <1min   tot: 0h15m31s  (96.0%)\rEpoch: 80.3%  lr: 0.001822  loss: 0.006198  eta: <1min   tot: 0h15m31s  (96.1%)\rEpoch: 80.4%  lr: 0.001822  loss: 0.006200  eta: <1min   tot: 0h15m31s  (96.1%)\rEpoch: 80.5%  lr: 0.001812  loss: 0.006199  eta: <1min   tot: 0h15m31s  (96.1%)\rEpoch: 80.6%  lr: 0.001802  loss: 0.006203  eta: <1min   tot: 0h15m32s  (96.1%)\rEpoch: 80.7%  lr: 0.001802  loss: 0.006204  eta: <1min   tot: 0h15m32s  (96.1%)\rEpoch: 80.7%  lr: 0.001792  loss: 0.006203  eta: <1min   tot: 0h15m32s  (96.1%)\rEpoch: 80.8%  lr: 0.001792  loss: 0.006202  eta: <1min   tot: 0h15m32s  (96.2%)\rEpoch: 80.9%  lr: 0.001792  loss: 0.006204  eta: <1min   tot: 0h15m32s  (96.2%)\rEpoch: 81.0%  lr: 0.001772  loss: 0.006202  eta: <1min   tot: 0h15m32s  (96.2%)\rEpoch: 81.1%  lr: 0.001772  loss: 0.006202  eta: <1min   tot: 0h15m33s  (96.2%)\rEpoch: 81.2%  lr: 0.001772  loss: 0.006196  eta: <1min   tot: 0h15m33s  (96.2%)\rEpoch: 81.3%  lr: 0.001772  loss: 0.006198  eta: <1min   tot: 0h15m33s  (96.3%)\rEpoch: 81.4%  lr: 0.001762  loss: 0.006201  eta: <1min   tot: 0h15m33s  (96.3%)\rEpoch: 81.5%  lr: 0.001752  loss: 0.006197  eta: <1min   tot: 0h15m33s  (96.3%)\rEpoch: 81.6%  lr: 0.001742  loss: 0.006200  eta: <1min   tot: 0h15m34s  (96.3%)\rEpoch: 81.6%  lr: 0.001742  loss: 0.006204  eta: <1min   tot: 0h15m34s  (96.3%)\rEpoch: 81.7%  lr: 0.001742  loss: 0.006201  eta: <1min   tot: 0h15m34s  (96.3%)\rEpoch: 81.8%  lr: 0.001742  loss: 0.006203  eta: <1min   tot: 0h15m34s  (96.4%)\rEpoch: 81.9%  lr: 0.001742  loss: 0.006200  eta: <1min   tot: 0h15m34s  (96.4%)\rEpoch: 82.0%  lr: 0.001732  loss: 0.006198  eta: <1min   tot: 0h15m34s  (96.4%)\rEpoch: 82.1%  lr: 0.001712  loss: 0.006193  eta: <1min   tot: 0h15m35s  (96.4%)\rEpoch: 82.2%  lr: 0.001702  loss: 0.006192  eta: <1min   tot: 0h15m35s  (96.4%)\rEpoch: 82.3%  lr: 0.001692  loss: 0.006189  eta: <1min   tot: 0h15m35s  (96.5%)\rEpoch: 82.4%  lr: 0.001682  loss: 0.006185  eta: <1min   tot: 0h15m35s  (96.5%)\rEpoch: 82.5%  lr: 0.001682  loss: 0.006182  eta: <1min   tot: 0h15m35s  (96.5%)\rEpoch: 82.5%  lr: 0.001682  loss: 0.006185  eta: <1min   tot: 0h15m35s  (96.5%)\rEpoch: 82.6%  lr: 0.001672  loss: 0.006183  eta: <1min   tot: 0h15m36s  (96.5%)\rEpoch: 82.7%  lr: 0.001672  loss: 0.006180  eta: <1min   tot: 0h15m36s  (96.5%)\rEpoch: 82.8%  lr: 0.001672  loss: 0.006179  eta: <1min   tot: 0h15m36s  (96.6%)\rEpoch: 82.9%  lr: 0.001662  loss: 0.006178  eta: <1min   tot: 0h15m36s  (96.6%)\rEpoch: 83.0%  lr: 0.001652  loss: 0.006179  eta: <1min   tot: 0h15m36s  (96.6%)\rEpoch: 83.1%  lr: 0.001652  loss: 0.006179  eta: <1min   tot: 0h15m36s  (96.6%)\rEpoch: 83.2%  lr: 0.001612  loss: 0.006174  eta: <1min   tot: 0h15m37s  (96.6%)\rEpoch: 83.3%  lr: 0.001602  loss: 0.006170  eta: <1min   tot: 0h15m37s  (96.7%)\rEpoch: 83.4%  lr: 0.001602  loss: 0.006183  eta: <1min   tot: 0h15m37s  (96.7%)\rEpoch: 83.4%  lr: 0.001592  loss: 0.006180  eta: <1min   tot: 0h15m37s  (96.7%)\rEpoch: 83.5%  lr: 0.001582  loss: 0.006178  eta: <1min   tot: 0h15m37s  (96.7%)\rEpoch: 83.6%  lr: 0.001572  loss: 0.006174  eta: <1min   tot: 0h15m37s  (96.7%)\rEpoch: 83.7%  lr: 0.001572  loss: 0.006181  eta: <1min   tot: 0h15m38s  (96.7%)\rEpoch: 83.8%  lr: 0.001572  loss: 0.006175  eta: <1min   tot: 0h15m38s  (96.8%)\rEpoch: 83.9%  lr: 0.001572  loss: 0.006179  eta: <1min   tot: 0h15m38s  (96.8%)\rEpoch: 84.0%  lr: 0.001572  loss: 0.006174  eta: <1min   tot: 0h15m38s  (96.8%)\rEpoch: 84.1%  lr: 0.001572  loss: 0.006174  eta: <1min   tot: 0h15m38s  (96.8%)\rEpoch: 84.2%  lr: 0.001562  loss: 0.006170  eta: <1min   tot: 0h15m38s  (96.8%)\rEpoch: 84.3%  lr: 0.001552  loss: 0.006173  eta: <1min   tot: 0h15m39s  (96.9%)\rEpoch: 84.3%  lr: 0.001542  loss: 0.006174  eta: <1min   tot: 0h15m39s  (96.9%)\rEpoch: 84.4%  lr: 0.001522  loss: 0.006174  eta: <1min   tot: 0h15m39s  (96.9%)\rEpoch: 84.5%  lr: 0.001512  loss: 0.006171  eta: <1min   tot: 0h15m39s  (96.9%)\rEpoch: 84.6%  lr: 0.001502  loss: 0.006165  eta: <1min   tot: 0h15m39s  (96.9%)\rEpoch: 84.7%  lr: 0.001492  loss: 0.006161  eta: <1min   tot: 0h15m39s  (96.9%)\rEpoch: 84.8%  lr: 0.001492  loss: 0.006157  eta: <1min   tot: 0h15m40s  (97.0%)\rEpoch: 84.9%  lr: 0.001472  loss: 0.006157  eta: <1min   tot: 0h15m40s  (97.0%)\rEpoch: 85.0%  lr: 0.001462  loss: 0.006157  eta: <1min   tot: 0h15m40s  (97.0%)\rEpoch: 85.1%  lr: 0.001462  loss: 0.006164  eta: <1min   tot: 0h15m40s  (97.0%)\rEpoch: 85.2%  lr: 0.001452  loss: 0.006160  eta: <1min   tot: 0h15m40s  (97.0%)\rEpoch: 85.2%  lr: 0.001442  loss: 0.006162  eta: <1min   tot: 0h15m40s  (97.0%)\rEpoch: 85.3%  lr: 0.001401  loss: 0.006158  eta: <1min   tot: 0h15m41s  (97.1%)\rEpoch: 85.4%  lr: 0.001401  loss: 0.006160  eta: <1min   tot: 0h15m41s  (97.1%)\rEpoch: 85.5%  lr: 0.001391  loss: 0.006159  eta: <1min   tot: 0h15m41s  (97.1%)\rEpoch: 85.6%  lr: 0.001351  loss: 0.006156  eta: <1min   tot: 0h15m41s  (97.1%)\rEpoch: 85.7%  lr: 0.001351  loss: 0.006156  eta: <1min   tot: 0h15m41s  (97.1%)\rEpoch: 85.8%  lr: 0.001341  loss: 0.006157  eta: <1min   tot: 0h15m42s  (97.2%)\rEpoch: 85.9%  lr: 0.001341  loss: 0.006153  eta: <1min   tot: 0h15m42s  (97.2%)\rEpoch: 86.0%  lr: 0.001341  loss: 0.006153  eta: <1min   tot: 0h15m42s  (97.2%)\rEpoch: 86.1%  lr: 0.001331  loss: 0.006152  eta: <1min   tot: 0h15m42s  (97.2%)\rEpoch: 86.1%  lr: 0.001331  loss: 0.006160  eta: <1min   tot: 0h15m42s  (97.2%)\rEpoch: 86.2%  lr: 0.001331  loss: 0.006160  eta: <1min   tot: 0h15m42s  (97.2%)\rEpoch: 86.3%  lr: 0.001321  loss: 0.006161  eta: <1min   tot: 0h15m43s  (97.3%)\rEpoch: 86.4%  lr: 0.001321  loss: 0.006161  eta: <1min   tot: 0h15m43s  (97.3%)\rEpoch: 86.5%  lr: 0.001311  loss: 0.006155  eta: <1min   tot: 0h15m43s  (97.3%)\rEpoch: 86.6%  lr: 0.001301  loss: 0.006157  eta: <1min   tot: 0h15m43s  (97.3%)\rEpoch: 86.7%  lr: 0.001301  loss: 0.006154  eta: <1min   tot: 0h15m43s  (97.3%)\rEpoch: 86.8%  lr: 0.001261  loss: 0.006150  eta: <1min   tot: 0h15m43s  (97.4%)\rEpoch: 86.9%  lr: 0.001261  loss: 0.006149  eta: <1min   tot: 0h15m44s  (97.4%)\rEpoch: 87.0%  lr: 0.001251  loss: 0.006147  eta: <1min   tot: 0h15m44s  (97.4%)\rEpoch: 87.0%  lr: 0.001231  loss: 0.006144  eta: <1min   tot: 0h15m44s  (97.4%)\rEpoch: 87.1%  lr: 0.001221  loss: 0.006144  eta: <1min   tot: 0h15m44s  (97.4%)\rEpoch: 87.2%  lr: 0.001211  loss: 0.006142  eta: <1min   tot: 0h15m44s  (97.4%)\rEpoch: 87.3%  lr: 0.001191  loss: 0.006145  eta: <1min   tot: 0h15m44s  (97.5%)\rEpoch: 87.4%  lr: 0.001171  loss: 0.006146  eta: <1min   tot: 0h15m45s  (97.5%)\rEpoch: 87.5%  lr: 0.001161  loss: 0.006142  eta: <1min   tot: 0h15m45s  (97.5%)\rEpoch: 87.6%  lr: 0.001141  loss: 0.006137  eta: <1min   tot: 0h15m45s  (97.5%)\rEpoch: 87.7%  lr: 0.001131  loss: 0.006135  eta: <1min   tot: 0h15m45s  (97.5%)\rEpoch: 87.8%  lr: 0.001121  loss: 0.006130  eta: <1min   tot: 0h15m45s  (97.6%)\rEpoch: 87.9%  lr: 0.001101  loss: 0.006127  eta: <1min   tot: 0h15m45s  (97.6%)\rEpoch: 87.9%  lr: 0.001091  loss: 0.006131  eta: <1min   tot: 0h15m46s  (97.6%)\rEpoch: 88.0%  lr: 0.001081  loss: 0.006127  eta: <1min   tot: 0h15m46s  (97.6%)\rEpoch: 88.1%  lr: 0.001071  loss: 0.006127  eta: <1min   tot: 0h15m46s  (97.6%)\rEpoch: 88.2%  lr: 0.001061  loss: 0.006121  eta: <1min   tot: 0h15m46s  (97.6%)\rEpoch: 88.3%  lr: 0.001061  loss: 0.006124  eta: <1min   tot: 0h15m46s  (97.7%)\rEpoch: 88.4%  lr: 0.001041  loss: 0.006120  eta: <1min   tot: 0h15m46s  (97.7%)\rEpoch: 88.5%  lr: 0.001031  loss: 0.006121  eta: <1min   tot: 0h15m47s  (97.7%)\rEpoch: 88.6%  lr: 0.000991  loss: 0.006125  eta: <1min   tot: 0h15m47s  (97.7%)\rEpoch: 88.7%  lr: 0.000981  loss: 0.006133  eta: <1min   tot: 0h15m47s  (97.7%)\rEpoch: 88.8%  lr: 0.000981  loss: 0.006131  eta: <1min   tot: 0h15m47s  (97.8%)\rEpoch: 88.8%  lr: 0.000981  loss: 0.006139  eta: <1min   tot: 0h15m47s  (97.8%)\rEpoch: 88.9%  lr: 0.000961  loss: 0.006143  eta: <1min   tot: 0h15m48s  (97.8%)\rEpoch: 89.0%  lr: 0.000961  loss: 0.006140  eta: <1min   tot: 0h15m48s  (97.8%)\rEpoch: 89.1%  lr: 0.000951  loss: 0.006135  eta: <1min   tot: 0h15m48s  (97.8%)\rEpoch: 89.2%  lr: 0.000951  loss: 0.006132  eta: <1min   tot: 0h15m48s  (97.8%)\rEpoch: 89.3%  lr: 0.000931  loss: 0.006134  eta: <1min   tot: 0h15m48s  (97.9%)\rEpoch: 89.4%  lr: 0.000911  loss: 0.006134  eta: <1min   tot: 0h15m48s  (97.9%)\rEpoch: 89.5%  lr: 0.000901  loss: 0.006133  eta: <1min   tot: 0h15m49s  (97.9%)\rEpoch: 89.6%  lr: 0.000901  loss: 0.006131  eta: <1min   tot: 0h15m49s  (97.9%)\rEpoch: 89.7%  lr: 0.000891  loss: 0.006129  eta: <1min   tot: 0h15m49s  (97.9%)\rEpoch: 89.7%  lr: 0.000891  loss: 0.006130  eta: <1min   tot: 0h15m49s  (97.9%)\rEpoch: 89.8%  lr: 0.000881  loss: 0.006126  eta: <1min   tot: 0h15m49s  (98.0%)\rEpoch: 89.9%  lr: 0.000871  loss: 0.006130  eta: <1min   tot: 0h15m49s  (98.0%)\rEpoch: 90.0%  lr: 0.000871  loss: 0.006127  eta: <1min   tot: 0h15m50s  (98.0%)\rEpoch: 90.1%  lr: 0.000871  loss: 0.006123  eta: <1min   tot: 0h15m50s  (98.0%)\rEpoch: 90.2%  lr: 0.000871  loss: 0.006123  eta: <1min   tot: 0h15m50s  (98.0%)\rEpoch: 90.3%  lr: 0.000871  loss: 0.006120  eta: <1min   tot: 0h15m50s  (98.1%)\rEpoch: 90.4%  lr: 0.000871  loss: 0.006117  eta: <1min   tot: 0h15m50s  (98.1%)\rEpoch: 90.5%  lr: 0.000861  loss: 0.006117  eta: <1min   tot: 0h15m50s  (98.1%)\rEpoch: 90.6%  lr: 0.000841  loss: 0.006118  eta: <1min   tot: 0h15m51s  (98.1%)\rEpoch: 90.6%  lr: 0.000831  loss: 0.006120  eta: <1min   tot: 0h15m51s  (98.1%)\rEpoch: 90.7%  lr: 0.000811  loss: 0.006120  eta: <1min   tot: 0h15m51s  (98.1%)\rEpoch: 90.8%  lr: 0.000801  loss: 0.006120  eta: <1min   tot: 0h15m51s  (98.2%)\rEpoch: 90.9%  lr: 0.000791  loss: 0.006116  eta: <1min   tot: 0h15m51s  (98.2%)\rEpoch: 91.0%  lr: 0.000791  loss: 0.006114  eta: <1min   tot: 0h15m51s  (98.2%)\rEpoch: 91.1%  lr: 0.000771  loss: 0.006111  eta: <1min   tot: 0h15m52s  (98.2%)\rEpoch: 91.2%  lr: 0.000751  loss: 0.006106  eta: <1min   tot: 0h15m52s  (98.2%)\rEpoch: 91.3%  lr: 0.000751  loss: 0.006103  eta: <1min   tot: 0h15m52s  (98.3%)\rEpoch: 91.4%  lr: 0.000741  loss: 0.006101  eta: <1min   tot: 0h15m52s  (98.3%)\rEpoch: 91.5%  lr: 0.000721  loss: 0.006100  eta: <1min   tot: 0h15m52s  (98.3%)\rEpoch: 91.5%  lr: 0.000701  loss: 0.006097  eta: <1min   tot: 0h15m52s  (98.3%)\rEpoch: 91.6%  lr: 0.000701  loss: 0.006094  eta: <1min   tot: 0h15m53s  (98.3%)\rEpoch: 91.7%  lr: 0.000691  loss: 0.006093  eta: <1min   tot: 0h15m53s  (98.3%)\rEpoch: 91.8%  lr: 0.000681  loss: 0.006096  eta: <1min   tot: 0h15m53s  (98.4%)\rEpoch: 91.9%  lr: 0.000671  loss: 0.006101  eta: <1min   tot: 0h15m53s  (98.4%)\rEpoch: 92.0%  lr: 0.000661  loss: 0.006096  eta: <1min   tot: 0h15m53s  (98.4%)\rEpoch: 92.1%  lr: 0.000661  loss: 0.006098  eta: <1min   tot: 0h15m53s  (98.4%)\rEpoch: 92.2%  lr: 0.000641  loss: 0.006097  eta: <1min   tot: 0h15m54s  (98.4%)\rEpoch: 92.3%  lr: 0.000621  loss: 0.006094  eta: <1min   tot: 0h15m54s  (98.5%)\rEpoch: 92.4%  lr: 0.000601  loss: 0.006094  eta: <1min   tot: 0h15m54s  (98.5%)\rEpoch: 92.4%  lr: 0.000601  loss: 0.006090  eta: <1min   tot: 0h15m54s  (98.5%)\rEpoch: 92.5%  lr: 0.000591  loss: 0.006095  eta: <1min   tot: 0h15m54s  (98.5%)\rEpoch: 92.6%  lr: 0.000581  loss: 0.006092  eta: <1min   tot: 0h15m54s  (98.5%)\rEpoch: 92.7%  lr: 0.000561  loss: 0.006090  eta: <1min   tot: 0h15m55s  (98.5%)\rEpoch: 92.8%  lr: 0.000561  loss: 0.006094  eta: <1min   tot: 0h15m55s  (98.6%)\rEpoch: 92.9%  lr: 0.000561  loss: 0.006092  eta: <1min   tot: 0h15m55s  (98.6%)\rEpoch: 93.0%  lr: 0.000541  loss: 0.006091  eta: <1min   tot: 0h15m55s  (98.6%)\rEpoch: 93.1%  lr: 0.000521  loss: 0.006089  eta: <1min   tot: 0h15m55s  (98.6%)\rEpoch: 93.2%  lr: 0.000511  loss: 0.006088  eta: <1min   tot: 0h15m55s  (98.6%)\rEpoch: 93.3%  lr: 0.000491  loss: 0.006089  eta: <1min   tot: 0h15m56s  (98.7%)\rEpoch: 93.3%  lr: 0.000481  loss: 0.006092  eta: <1min   tot: 0h15m56s  (98.7%)\rEpoch: 93.4%  lr: 0.000481  loss: 0.006089  eta: <1min   tot: 0h15m56s  (98.7%)\rEpoch: 93.5%  lr: 0.000471  loss: 0.006086  eta: <1min   tot: 0h15m56s  (98.7%)\rEpoch: 93.6%  lr: 0.000451  loss: 0.006084  eta: <1min   tot: 0h15m56s  (98.7%)\rEpoch: 93.7%  lr: 0.000431  loss: 0.006084  eta: <1min   tot: 0h15m56s  (98.7%)\rEpoch: 93.8%  lr: 0.000431  loss: 0.006081  eta: <1min   tot: 0h15m57s  (98.8%)\rEpoch: 93.9%  lr: 0.000431  loss: 0.006081  eta: <1min   tot: 0h15m57s  (98.8%)\rEpoch: 94.0%  lr: 0.000431  loss: 0.006079  eta: <1min   tot: 0h15m57s  (98.8%)\rEpoch: 94.1%  lr: 0.000421  loss: 0.006081  eta: <1min   tot: 0h15m57s  (98.8%)\rEpoch: 94.2%  lr: 0.000410  loss: 0.006077  eta: <1min   tot: 0h15m57s  (98.8%)\rEpoch: 94.2%  lr: 0.000410  loss: 0.006080  eta: <1min   tot: 0h15m57s  (98.8%)\rEpoch: 94.3%  lr: 0.000410  loss: 0.006079  eta: <1min   tot: 0h15m58s  (98.9%)\rEpoch: 94.4%  lr: 0.000390  loss: 0.006083  eta: <1min   tot: 0h15m58s  (98.9%)\rEpoch: 94.5%  lr: 0.000380  loss: 0.006084  eta: <1min   tot: 0h15m58s  (98.9%)\rEpoch: 94.6%  lr: 0.000380  loss: 0.006083  eta: <1min   tot: 0h15m58s  (98.9%)\rEpoch: 94.7%  lr: 0.000360  loss: 0.006082  eta: <1min   tot: 0h15m58s  (98.9%)\rEpoch: 94.8%  lr: 0.000340  loss: 0.006084  eta: <1min   tot: 0h15m58s  (99.0%)\rEpoch: 94.9%  lr: 0.000340  loss: 0.006087  eta: <1min   tot: 0h15m59s  (99.0%)\rEpoch: 95.0%  lr: 0.000340  loss: 0.006092  eta: <1min   tot: 0h15m59s  (99.0%)\rEpoch: 95.1%  lr: 0.000310  loss: 0.006090  eta: <1min   tot: 0h15m59s  (99.0%)\rEpoch: 95.1%  lr: 0.000290  loss: 0.006088  eta: <1min   tot: 0h15m59s  (99.0%)\rEpoch: 95.2%  lr: 0.000290  loss: 0.006088  eta: <1min   tot: 0h15m59s  (99.0%)\rEpoch: 95.3%  lr: 0.000290  loss: 0.006087  eta: <1min   tot: 0h16m0s  (99.1%)\rEpoch: 95.4%  lr: 0.000280  loss: 0.006085  eta: <1min   tot: 0h16m0s  (99.1%)\rEpoch: 95.5%  lr: 0.000270  loss: 0.006082  eta: <1min   tot: 0h16m0s  (99.1%)\rEpoch: 95.6%  lr: 0.000270  loss: 0.006080  eta: <1min   tot: 0h16m0s  (99.1%)\rEpoch: 95.7%  lr: 0.000270  loss: 0.006077  eta: <1min   tot: 0h16m0s  (99.1%)\rEpoch: 95.8%  lr: 0.000270  loss: 0.006076  eta: <1min   tot: 0h16m0s  (99.2%)\rEpoch: 95.9%  lr: 0.000240  loss: 0.006077  eta: <1min   tot: 0h16m1s  (99.2%)\rEpoch: 96.0%  lr: 0.000240  loss: 0.006073  eta: <1min   tot: 0h16m1s  (99.2%)\rEpoch: 96.0%  lr: 0.000240  loss: 0.006074  eta: <1min   tot: 0h16m1s  (99.2%)\rEpoch: 96.1%  lr: 0.000240  loss: 0.006072  eta: <1min   tot: 0h16m1s  (99.2%)\rEpoch: 96.2%  lr: 0.000220  loss: 0.006072  eta: <1min   tot: 0h16m1s  (99.2%)\rEpoch: 96.3%  lr: 0.000220  loss: 0.006071  eta: <1min   tot: 0h16m1s  (99.3%)\rEpoch: 96.4%  lr: 0.000210  loss: 0.006071  eta: <1min   tot: 0h16m2s  (99.3%)\rEpoch: 96.5%  lr: 0.000210  loss: 0.006073  eta: <1min   tot: 0h16m2s  (99.3%)\rEpoch: 96.6%  lr: 0.000200  loss: 0.006075  eta: <1min   tot: 0h16m2s  (99.3%)\rEpoch: 96.7%  lr: 0.000200  loss: 0.006077  eta: <1min   tot: 0h16m2s  (99.3%)\rEpoch: 96.8%  lr: 0.000180  loss: 0.006078  eta: <1min   tot: 0h16m2s  (99.4%)\rEpoch: 96.9%  lr: 0.000180  loss: 0.006079  eta: <1min   tot: 0h16m2s  (99.4%)\rEpoch: 96.9%  lr: 0.000180  loss: 0.006084  eta: <1min   tot: 0h16m3s  (99.4%)\rEpoch: 97.0%  lr: 0.000180  loss: 0.006086  eta: <1min   tot: 0h16m3s  (99.4%)\rEpoch: 97.1%  lr: 0.000170  loss: 0.006083  eta: <1min   tot: 0h16m3s  (99.4%)\rEpoch: 97.2%  lr: 0.000170  loss: 0.006083  eta: <1min   tot: 0h16m3s  (99.4%)\rEpoch: 97.3%  lr: 0.000170  loss: 0.006080  eta: <1min   tot: 0h16m3s  (99.5%)\rEpoch: 97.4%  lr: 0.000170  loss: 0.006078  eta: <1min   tot: 0h16m3s  (99.5%)\rEpoch: 97.5%  lr: 0.000170  loss: 0.006075  eta: <1min   tot: 0h16m4s  (99.5%)\rEpoch: 97.6%  lr: 0.000170  loss: 0.006075  eta: <1min   tot: 0h16m4s  (99.5%)\rEpoch: 97.7%  lr: 0.000170  loss: 0.006072  eta: <1min   tot: 0h16m4s  (99.5%)\rEpoch: 97.8%  lr: 0.000160  loss: 0.006068  eta: <1min   tot: 0h16m4s  (99.6%)\rEpoch: 97.8%  lr: 0.000150  loss: 0.006069  eta: <1min   tot: 0h16m4s  (99.6%)\rEpoch: 97.9%  lr: 0.000150  loss: 0.006067  eta: <1min   tot: 0h16m4s  (99.6%)\rEpoch: 98.0%  lr: 0.000150  loss: 0.006074  eta: <1min   tot: 0h16m5s  (99.6%)\rEpoch: 98.1%  lr: 0.000150  loss: 0.006074  eta: <1min   tot: 0h16m5s  (99.6%)\rEpoch: 98.2%  lr: 0.000130  loss: 0.006071  eta: <1min   tot: 0h16m5s  (99.6%)\rEpoch: 98.3%  lr: 0.000110  loss: 0.006073  eta: <1min   tot: 0h16m5s  (99.7%)\rEpoch: 98.4%  lr: 0.000090  loss: 0.006068  eta: <1min   tot: 0h16m5s  (99.7%)\rEpoch: 98.5%  lr: 0.000080  loss: 0.006067  eta: <1min   tot: 0h16m6s  (99.7%)\rEpoch: 98.6%  lr: 0.000080  loss: 0.006067  eta: <1min   tot: 0h16m6s  (99.7%)\rEpoch: 98.7%  lr: 0.000070  loss: 0.006070  eta: <1min   tot: 0h16m6s  (99.7%)\rEpoch: 98.7%  lr: 0.000070  loss: 0.006077  eta: <1min   tot: 0h16m6s  (99.7%)\rEpoch: 98.8%  lr: 0.000060  loss: 0.006076  eta: <1min   tot: 0h16m6s  (99.8%)\rEpoch: 98.9%  lr: 0.000050  loss: 0.006076  eta: <1min   tot: 0h16m6s  (99.8%)\rEpoch: 99.0%  lr: 0.000040  loss: 0.006075  eta: <1min   tot: 0h16m7s  (99.8%)\rEpoch: 99.1%  lr: 0.000040  loss: 0.006074  eta: <1min   tot: 0h16m7s  (99.8%)\rEpoch: 99.2%  lr: 0.000040  loss: 0.006075  eta: <1min   tot: 0h16m7s  (99.8%)\rEpoch: 99.3%  lr: 0.000030  loss: 0.006072  eta: <1min   tot: 0h16m7s  (99.9%)\rEpoch: 99.4%  lr: 0.000000  loss: 0.006071  eta: <1min   tot: 0h16m7s  (99.9%)\rEpoch: 99.5%  lr: 0.000000  loss: 0.006071  eta: <1min   tot: 0h16m7s  (99.9%)\rEpoch: 99.6%  lr: 0.000000  loss: 0.006071  eta: <1min   tot: 0h16m8s  (99.9%)\rEpoch: 99.6%  lr: 0.000000  loss: 0.006074  eta: <1min   tot: 0h16m8s  (99.9%)\rEpoch: 99.7%  lr: 0.000000  loss: 0.006072  eta: <1min   tot: 0h16m8s  (99.9%)\rEpoch: 99.8%  lr: 0.000000  loss: 0.006076  eta: <1min   tot: 0h16m8s  (100.0%)\rEpoch: 99.9%  lr: 0.000000  loss: 0.006085  eta: <1min   tot: 0h16m8s  (100.0%)\rEpoch: 100.0%  lr: 0.000000  loss: 0.006088  eta: <1min   tot: 0h16m8s  (100.0%)"
          ],
          "name": "stderr"
        }
      ]
    },
    {
      "cell_type": "markdown",
      "metadata": {
        "collapsed": true,
        "id": "48uiGsJlAaZd",
        "colab_type": "text"
      },
      "source": [
        "And now we can compare the new embeddings with the previous ones. You can find trained word vectors in the file *[model_file_name].tsv*. Upload the embeddings from StarSpace into a dict. "
      ]
    },
    {
      "cell_type": "code",
      "metadata": {
        "id": "x4E6cTQxAaZf",
        "colab_type": "code",
        "colab": {}
      },
      "source": [
        "starspace_embeddings = {}\n",
        "for line in open('StarSpace_embeddings.tsv', encoding='utf-8'):\n",
        "    word, *vec = line.strip().split('\\t')\n",
        "    starspace_embeddings[word] = np.array(vec, dtype=np.float)"
      ],
      "execution_count": 59,
      "outputs": []
    },
    {
      "cell_type": "code",
      "metadata": {
        "id": "TX2Tz85EAaZo",
        "colab_type": "code",
        "colab": {}
      },
      "source": [
        "ss_prepared_ranking = []\n",
        "for line in prepared_validation:\n",
        "    q, *ex = line\n",
        "    ranks = rank_candidates(q, ex, starspace_embeddings, 100)\n",
        "    ss_prepared_ranking.append([r[0] for r in ranks].index(0) + 1)"
      ],
      "execution_count": 57,
      "outputs": []
    },
    {
      "cell_type": "code",
      "metadata": {
        "id": "RObeusZzAaZ0",
        "colab_type": "code",
        "colab": {
          "base_uri": "https://localhost:8080/",
          "height": 125
        },
        "outputId": "4d7532dd-8748-4b1f-c7ac-ad45341dd994"
      },
      "source": [
        "for k in [1, 5, 10, 100, 500, 1000]:\n",
        "    print(\"DCG@%4d: %.3f | Hits@%4d: %.3f\" % (k, dcg_score(ss_prepared_ranking, k), \n",
        "                                               k, hits_count(ss_prepared_ranking, k)))"
      ],
      "execution_count": 58,
      "outputs": [
        {
          "output_type": "stream",
          "text": [
            "DCG@   1: 0.000 | Hits@   1: 0.000\n",
            "DCG@   5: 0.000 | Hits@   5: 0.000\n",
            "DCG@  10: 0.000 | Hits@  10: 0.000\n",
            "DCG@ 100: 0.000 | Hits@ 100: 0.000\n",
            "DCG@ 500: 0.000 | Hits@ 500: 0.000\n",
            "DCG@1000: 0.100 | Hits@1000: 1.000\n"
          ],
          "name": "stdout"
        }
      ]
    },
    {
      "cell_type": "markdown",
      "metadata": {
        "id": "uwqHgjOcAaaJ",
        "colab_type": "text"
      },
      "source": [
        "Due to training for the particular task with the supervised data, you should expect to obtain a higher quality than for the previous approach. In additiion, despite the fact that StarSpace's trained vectors have a smaller dimension than word2vec's, it provides better results in this task."
      ]
    },
    {
      "cell_type": "markdown",
      "metadata": {
        "id": "-PVSGFGQAaaO",
        "colab_type": "text"
      },
      "source": [
        "**Task 5 (StarSpaceRanks).** For each question from prepared *test.tsv* submit the ranks of the candidates for trained representation."
      ]
    },
    {
      "cell_type": "code",
      "metadata": {
        "id": "pLIPFsrPAaaQ",
        "colab_type": "code",
        "colab": {
          "base_uri": "https://localhost:8080/",
          "height": 55
        },
        "outputId": "89c032a4-094d-4571-d6e0-89af3c86f28d"
      },
      "source": [
        "starspace_ranks_results = []\n",
        "prepared_test_data = 'data/test_prepared.tsv'\n",
        "for line in open(prepared_test_data):\n",
        "    q, *ex = line.strip().split('\\t')\n",
        "    ranks = rank_candidates(q, ex, starspace_embeddings, 100)\n",
        "    ranked_candidates = [r[0] for r in ranks]\n",
        "    starspace_ranks_results.append([ranked_candidates.index(i) + 1 for i in range(len(ranked_candidates))])\n",
        "    \n",
        "grader.submit_tag('StarSpaceRanks', matrix_to_string(starspace_ranks_results))"
      ],
      "execution_count": 59,
      "outputs": [
        {
          "output_type": "stream",
          "text": [
            "Current answer for task StarSpaceRanks is: 100\t29\t30\t31\t32\t33\t34\t35\t36\t37\t38\t39\t40\t41\t42\t43\t44\t45\t46\t47\t48\t49\t28\t27\t26\t25\t3\t4\t5\t6\t7\t8\t9\t10\t11\t1...\n"
          ],
          "name": "stdout"
        }
      ]
    },
    {
      "cell_type": "markdown",
      "metadata": {
        "id": "uWEBdoWXAaaY",
        "colab_type": "text"
      },
      "source": [
        "Please, **don't remove** the file with these embeddings because you will need them in the final project."
      ]
    },
    {
      "cell_type": "markdown",
      "metadata": {
        "id": "sLKoU_64Aaaa",
        "colab_type": "text"
      },
      "source": [
        "### Authorization & Submission\n",
        "To submit assignment parts to Cousera platform, please, enter your e-mail and token into variables below. You can generate token on this programming assignment page. <b>Note:</b> Token expires 30 minutes after generation."
      ]
    },
    {
      "cell_type": "code",
      "metadata": {
        "id": "r96dasLYAaab",
        "colab_type": "code",
        "colab": {
          "base_uri": "https://localhost:8080/",
          "height": 649
        },
        "outputId": "b02cfe7d-f566-44db-c71d-866fc98ab3f8"
      },
      "source": [
        "STUDENT_EMAIL = 'prakashmaram99@gmail.com'# EMAIL \n",
        "STUDENT_TOKEN = 'SwtsH4xeOqbGnWtY'# TOKEN \n",
        "grader.status()"
      ],
      "execution_count": 60,
      "outputs": [
        {
          "output_type": "stream",
          "text": [
            "You want to submit these parts:\n",
            "Task Question2Vec: 0.019293891059027776\n",
            "-0.028727213541666668\n",
            "0.046056111653645836\n",
            "0.08525933159722222\n",
            "0.02430555555555...\n",
            "Task HitsCount: 1.0\n",
            "0.5\n",
            "1.0\n",
            "0.5\n",
            "1.0\n",
            "0.3333333333333333\n",
            "0.6666666666666666\n",
            "1.0\n",
            "0.1\n",
            "0.2\n",
            "0.3\n",
            "0.4\n",
            "0.5\n",
            "0.6\n",
            "0.7\n",
            "0.8\n",
            "0.9\n",
            "1....\n",
            "Task DCGScore: 1.0\n",
            "0.5\n",
            "0.8154648767857288\n",
            "0.5\n",
            "0.8154648767857288\n",
            "0.3333333333333333\n",
            "0.5436432511904858\n",
            "0.7103099178...\n",
            "Task W2VTokenizedRanks: 95\t94\t7\t9\t64\t36\t31\t93\t23\t100\t99\t20\t60\t6\t97\t48\t70\t37\t41\t96\t29\t56\t2\t65\t68\t44\t27\t25\t57\t62\t11\t87\t50\t66\t7...\n",
            "Task StarSpaceRanks: 100\t29\t30\t31\t32\t33\t34\t35\t36\t37\t38\t39\t40\t41\t42\t43\t44\t45\t46\t47\t48\t49\t28\t27\t26\t25\t3\t4\t5\t6\t7\t8\t9\t10\t11\t1...\n"
          ],
          "name": "stdout"
        }
      ]
    },
    {
      "cell_type": "markdown",
      "metadata": {
        "id": "Yn73O8buAaah",
        "colab_type": "text"
      },
      "source": [
        "If you want to submit these answers, run cell below"
      ]
    },
    {
      "cell_type": "code",
      "metadata": {
        "id": "THNdGhJ2Aaai",
        "colab_type": "code",
        "colab": {
          "base_uri": "https://localhost:8080/",
          "height": 35
        },
        "outputId": "b0b5c533-47ec-4407-cbd7-84f385616522"
      },
      "source": [
        "grader.submit(STUDENT_EMAIL, STUDENT_TOKEN)"
      ],
      "execution_count": 61,
      "outputs": [
        {
          "output_type": "stream",
          "text": [
            "Submitted to Coursera platform. See results on assignment page!\n"
          ],
          "name": "stdout"
        }
      ]
    },
    {
      "cell_type": "code",
      "metadata": {
        "id": "8UMWREiiIjMH",
        "colab_type": "code",
        "colab": {}
      },
      "source": [
        ""
      ],
      "execution_count": null,
      "outputs": []
    }
  ]
}